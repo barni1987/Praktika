{
 "cells": [
  {
   "cell_type": "markdown",
   "metadata": {},
   "source": [
    "<div style=\"border: 3px solid green; padding: 15px\"><font color='green' size=5 ><b>Комментарий ревьюера v2</b></font> \n",
    "\n",
    "Иван, привет! Спасибо тебе за доработку. Сейчас посмотрим) Мои комментарии будут в таких блоках \n",
    "Заключительный комментарий будет в самом конце проекта)</div>\n"
   ]
  },
  {
   "cell_type": "markdown",
   "metadata": {},
   "source": [
    "Привет, Иван! Меня зовут Антон Соловьев и я буду проверять твой проект. Предлагаю общаться на «ты», если это не вызывает никаких проблем.\n",
    "Моя цель не указать на твои ошибки, а помочь тебе научиться и стать крутым аналитиком данных.\n",
    "\n",
    " <font color='green' size=4>Общие впечатления</font> \n",
    " Твоя работа очень хорошая) все аккуратно и хорошо оформлено. Код тоже очень хороший. Одна есть ряд моментов, которые нам нужно исправить)\n",
    "\n",
    "\n",
    "Далее по тексту ты найдешь мои комментарии. Комментарии будут в <font color='green'>зеленой</font>, <font color='orange'>желтой</font> или <font color='red'>красной</font> рамках:\n",
    "\n",
    "<div class=\"alert alert-block alert-success\">\n",
    "<b> 👍 Успех:</b> Все сделано отлично\n",
    "</div>\n",
    "\n",
    "<div class=\"alert alert-block alert-warning\">\n",
    "<b> ⚠️ Совет: </b> Есть что улучшить в твоем коде или выводах\n",
    "</div>\n",
    "\n",
    "<div class=\"alert alert-block alert-danger\">\n",
    "<b> ❌ Нужно исправить:</b> Требуется исправление. Работа не может быть принята с красными комментариями.\n",
    "</div>\n",
    "\n",
    "Пожалуйста не удаляй мои комментарии. Так как они повышают качество повторного ревью. \n",
    "Если ты исправляешь что-то в проекте — пожалуйста комментируй. По возможности выделяй свои комментарии, например, вот так:\n",
    "\n",
    "<div class=\"alert alert-block alert-info\">\n",
    "<b>Комментарий студента </b> \n",
    "    Привет Антон, спасибо за удленное время, далее по работе учту и внесу необходимые правки.\n",
    "</div>\n",
    "\n",
    "Поехали!"
   ]
  },
  {
   "cell_type": "markdown",
   "metadata": {},
   "source": [
    "## Шаг 1. Открытие файла с данными и изучение общей информации"
   ]
  },
  {
   "cell_type": "markdown",
   "metadata": {},
   "source": [
    "\n",
    "<div class=\"alert alert-block alert-warning\">\n",
    "<b> ⚠️ Совет: </b> Перед начало работы всегда хорошо бы давать крактие вводные и приводить краткий план работы. ДЛя постороннего человека, в том числе и для заказчика проекта это удобно. Так как он сразу вводится в курс дела)\n",
    "</div>"
   ]
  },
  {
   "cell_type": "markdown",
   "metadata": {},
   "source": [
    "<div class=\"alert alert-block alert-info\">\n",
    "<b>Комментарий студента </b> \n",
    "\n",
    "Спасибо, за совет, ниже добавил описание к выполянемой работе.\n",
    "</div>"
   ]
  },
  {
   "cell_type": "markdown",
   "metadata": {},
   "source": [
    "<b>Описание проекта</b>\n",
    "\n",
    "Вы аналитик компании «Мегалайн» — федерального оператора сотовой связи. Клиентам предлагают два тарифных плана: «Смарт» и «Ультра». Чтобы скорректировать рекламный бюджет, коммерческий департамент хочет понять, какой тариф приносит больше денег.\n",
    "Вам предстоит сделать предварительный анализ тарифов на небольшой выборке клиентов. В вашем распоряжении данные 500 пользователей «Мегалайна»: кто они, откуда, каким тарифом пользуются, сколько звонков и сообщений каждый отправил за 2018 год. Нужно проанализировать поведение клиентов и сделать вывод — какой тариф лучше.\n",
    "\n",
    "<b>Описание тарифов</b>\n",
    "\n",
    "<b>Тариф «Смарт»</b>\n",
    "\n",
    "Ежемесячная плата: 550 рублей\n",
    "\n",
    "Включено 500 минут разговора, 50 сообщений и 15 Гб интернет-трафика\n",
    "\n",
    "Стоимость услуг сверх тарифного пакета:\n",
    "\n",
    "минута разговора: 3 рубля\n",
    "\n",
    "сообщение: 3 рубля\n",
    "\n",
    "1 Гб интернет-трафика: 200 рублей\n",
    "\n",
    "<b>Тариф «Ультра»</b>\n",
    "\n",
    "Ежемесячная плата: 1950 рублей\n",
    "\n",
    "Включено 3000 минут разговора, 1000 сообщений и 30 Гб интернет-трафика\n",
    "\n",
    "Стоимость услуг сверх тарифного пакета:\n",
    "\n",
    "минута разговора: 1 рубль\n",
    "\n",
    "сообщение: 1 рубль\n",
    "\n",
    "1 Гб интернет-трафика: 150 рублей"
   ]
  },
  {
   "cell_type": "code",
   "execution_count": 1,
   "metadata": {},
   "outputs": [],
   "source": [
    "import pandas as pd\n",
    "import seaborn as sns\n",
    "import matplotlib.pyplot as plt\n",
    "import numpy as np\n",
    "import scipy.stats as st\n",
    "from functools import reduce\n",
    "from scipy import stats as st  "
   ]
  },
  {
   "cell_type": "code",
   "execution_count": 2,
   "metadata": {},
   "outputs": [],
   "source": [
    "calls = pd.read_csv('/datasets/calls.csv')\n",
    "internet = pd.read_csv('/datasets/internet.csv')\n",
    "messages = pd.read_csv('/datasets/messages.csv')\n",
    "tariffs = pd.read_csv('/datasets/tariffs.csv')\n",
    "users = pd.read_csv('/datasets/users.csv')"
   ]
  },
  {
   "cell_type": "markdown",
   "metadata": {},
   "source": [
    "Импортируем необходимые модули для выполнения работы и загружаем файлы, присваивая их переменным (для удобства, возмьем названия для переменных такими же как и названия самих файлов)"
   ]
  },
  {
   "cell_type": "markdown",
   "metadata": {},
   "source": [
    "## Шаг 2. Подготовка данных"
   ]
  },
  {
   "cell_type": "markdown",
   "metadata": {},
   "source": [
    "### Приведение данных к нужному типу  и исправление ошибок"
   ]
  },
  {
   "cell_type": "markdown",
   "metadata": {},
   "source": [
    "#### Изучение calls"
   ]
  },
  {
   "cell_type": "code",
   "execution_count": 3,
   "metadata": {},
   "outputs": [
    {
     "data": {
      "text/html": [
       "<div>\n",
       "<style scoped>\n",
       "    .dataframe tbody tr th:only-of-type {\n",
       "        vertical-align: middle;\n",
       "    }\n",
       "\n",
       "    .dataframe tbody tr th {\n",
       "        vertical-align: top;\n",
       "    }\n",
       "\n",
       "    .dataframe thead th {\n",
       "        text-align: right;\n",
       "    }\n",
       "</style>\n",
       "<table border=\"1\" class=\"dataframe\">\n",
       "  <thead>\n",
       "    <tr style=\"text-align: right;\">\n",
       "      <th></th>\n",
       "      <th>id</th>\n",
       "      <th>call_date</th>\n",
       "      <th>duration</th>\n",
       "      <th>user_id</th>\n",
       "    </tr>\n",
       "  </thead>\n",
       "  <tbody>\n",
       "    <tr>\n",
       "      <th>0</th>\n",
       "      <td>1000_0</td>\n",
       "      <td>2018-07-25</td>\n",
       "      <td>0.00</td>\n",
       "      <td>1000</td>\n",
       "    </tr>\n",
       "    <tr>\n",
       "      <th>1</th>\n",
       "      <td>1000_1</td>\n",
       "      <td>2018-08-17</td>\n",
       "      <td>0.00</td>\n",
       "      <td>1000</td>\n",
       "    </tr>\n",
       "    <tr>\n",
       "      <th>2</th>\n",
       "      <td>1000_2</td>\n",
       "      <td>2018-06-11</td>\n",
       "      <td>2.85</td>\n",
       "      <td>1000</td>\n",
       "    </tr>\n",
       "    <tr>\n",
       "      <th>3</th>\n",
       "      <td>1000_3</td>\n",
       "      <td>2018-09-21</td>\n",
       "      <td>13.80</td>\n",
       "      <td>1000</td>\n",
       "    </tr>\n",
       "    <tr>\n",
       "      <th>4</th>\n",
       "      <td>1000_4</td>\n",
       "      <td>2018-12-15</td>\n",
       "      <td>5.18</td>\n",
       "      <td>1000</td>\n",
       "    </tr>\n",
       "    <tr>\n",
       "      <th>5</th>\n",
       "      <td>1000_5</td>\n",
       "      <td>2018-11-02</td>\n",
       "      <td>0.00</td>\n",
       "      <td>1000</td>\n",
       "    </tr>\n",
       "    <tr>\n",
       "      <th>6</th>\n",
       "      <td>1000_6</td>\n",
       "      <td>2018-10-18</td>\n",
       "      <td>0.00</td>\n",
       "      <td>1000</td>\n",
       "    </tr>\n",
       "    <tr>\n",
       "      <th>7</th>\n",
       "      <td>1000_7</td>\n",
       "      <td>2018-08-22</td>\n",
       "      <td>18.31</td>\n",
       "      <td>1000</td>\n",
       "    </tr>\n",
       "    <tr>\n",
       "      <th>8</th>\n",
       "      <td>1000_8</td>\n",
       "      <td>2018-09-15</td>\n",
       "      <td>18.44</td>\n",
       "      <td>1000</td>\n",
       "    </tr>\n",
       "    <tr>\n",
       "      <th>9</th>\n",
       "      <td>1000_9</td>\n",
       "      <td>2018-08-15</td>\n",
       "      <td>0.00</td>\n",
       "      <td>1000</td>\n",
       "    </tr>\n",
       "  </tbody>\n",
       "</table>\n",
       "</div>"
      ],
      "text/plain": [
       "       id   call_date  duration  user_id\n",
       "0  1000_0  2018-07-25      0.00     1000\n",
       "1  1000_1  2018-08-17      0.00     1000\n",
       "2  1000_2  2018-06-11      2.85     1000\n",
       "3  1000_3  2018-09-21     13.80     1000\n",
       "4  1000_4  2018-12-15      5.18     1000\n",
       "5  1000_5  2018-11-02      0.00     1000\n",
       "6  1000_6  2018-10-18      0.00     1000\n",
       "7  1000_7  2018-08-22     18.31     1000\n",
       "8  1000_8  2018-09-15     18.44     1000\n",
       "9  1000_9  2018-08-15      0.00     1000"
      ]
     },
     "execution_count": 3,
     "metadata": {},
     "output_type": "execute_result"
    }
   ],
   "source": [
    "calls.head(10)"
   ]
  },
  {
   "cell_type": "code",
   "execution_count": 4,
   "metadata": {},
   "outputs": [
    {
     "name": "stdout",
     "output_type": "stream",
     "text": [
      "<class 'pandas.core.frame.DataFrame'>\n",
      "RangeIndex: 202607 entries, 0 to 202606\n",
      "Data columns (total 4 columns):\n",
      " #   Column     Non-Null Count   Dtype  \n",
      "---  ------     --------------   -----  \n",
      " 0   id         202607 non-null  object \n",
      " 1   call_date  202607 non-null  object \n",
      " 2   duration   202607 non-null  float64\n",
      " 3   user_id    202607 non-null  int64  \n",
      "dtypes: float64(1), int64(1), object(2)\n",
      "memory usage: 6.2+ MB\n"
     ]
    }
   ],
   "source": [
    "calls.info()"
   ]
  },
  {
   "cell_type": "markdown",
   "metadata": {},
   "source": [
    "Согласно условиям задачи, необходимо выполнить округление в большую сторону для звонков (duration)"
   ]
  },
  {
   "cell_type": "markdown",
   "metadata": {},
   "source": [
    "#### Предобработка данных calls"
   ]
  },
  {
   "cell_type": "code",
   "execution_count": 5,
   "metadata": {},
   "outputs": [
    {
     "data": {
      "text/html": [
       "<div>\n",
       "<style scoped>\n",
       "    .dataframe tbody tr th:only-of-type {\n",
       "        vertical-align: middle;\n",
       "    }\n",
       "\n",
       "    .dataframe tbody tr th {\n",
       "        vertical-align: top;\n",
       "    }\n",
       "\n",
       "    .dataframe thead th {\n",
       "        text-align: right;\n",
       "    }\n",
       "</style>\n",
       "<table border=\"1\" class=\"dataframe\">\n",
       "  <thead>\n",
       "    <tr style=\"text-align: right;\">\n",
       "      <th></th>\n",
       "      <th>id</th>\n",
       "      <th>call_date</th>\n",
       "      <th>duration</th>\n",
       "      <th>user_id</th>\n",
       "      <th>month</th>\n",
       "    </tr>\n",
       "  </thead>\n",
       "  <tbody>\n",
       "    <tr>\n",
       "      <th>0</th>\n",
       "      <td>1000_0</td>\n",
       "      <td>2018-07-25</td>\n",
       "      <td>0.0</td>\n",
       "      <td>1000</td>\n",
       "      <td>7</td>\n",
       "    </tr>\n",
       "    <tr>\n",
       "      <th>1</th>\n",
       "      <td>1000_1</td>\n",
       "      <td>2018-08-17</td>\n",
       "      <td>0.0</td>\n",
       "      <td>1000</td>\n",
       "      <td>8</td>\n",
       "    </tr>\n",
       "    <tr>\n",
       "      <th>2</th>\n",
       "      <td>1000_2</td>\n",
       "      <td>2018-06-11</td>\n",
       "      <td>3.0</td>\n",
       "      <td>1000</td>\n",
       "      <td>6</td>\n",
       "    </tr>\n",
       "    <tr>\n",
       "      <th>3</th>\n",
       "      <td>1000_3</td>\n",
       "      <td>2018-09-21</td>\n",
       "      <td>14.0</td>\n",
       "      <td>1000</td>\n",
       "      <td>9</td>\n",
       "    </tr>\n",
       "    <tr>\n",
       "      <th>4</th>\n",
       "      <td>1000_4</td>\n",
       "      <td>2018-12-15</td>\n",
       "      <td>6.0</td>\n",
       "      <td>1000</td>\n",
       "      <td>12</td>\n",
       "    </tr>\n",
       "    <tr>\n",
       "      <th>5</th>\n",
       "      <td>1000_5</td>\n",
       "      <td>2018-11-02</td>\n",
       "      <td>0.0</td>\n",
       "      <td>1000</td>\n",
       "      <td>11</td>\n",
       "    </tr>\n",
       "    <tr>\n",
       "      <th>6</th>\n",
       "      <td>1000_6</td>\n",
       "      <td>2018-10-18</td>\n",
       "      <td>0.0</td>\n",
       "      <td>1000</td>\n",
       "      <td>10</td>\n",
       "    </tr>\n",
       "    <tr>\n",
       "      <th>7</th>\n",
       "      <td>1000_7</td>\n",
       "      <td>2018-08-22</td>\n",
       "      <td>19.0</td>\n",
       "      <td>1000</td>\n",
       "      <td>8</td>\n",
       "    </tr>\n",
       "    <tr>\n",
       "      <th>8</th>\n",
       "      <td>1000_8</td>\n",
       "      <td>2018-09-15</td>\n",
       "      <td>19.0</td>\n",
       "      <td>1000</td>\n",
       "      <td>9</td>\n",
       "    </tr>\n",
       "    <tr>\n",
       "      <th>9</th>\n",
       "      <td>1000_9</td>\n",
       "      <td>2018-08-15</td>\n",
       "      <td>0.0</td>\n",
       "      <td>1000</td>\n",
       "      <td>8</td>\n",
       "    </tr>\n",
       "  </tbody>\n",
       "</table>\n",
       "</div>"
      ],
      "text/plain": [
       "       id  call_date  duration  user_id  month\n",
       "0  1000_0 2018-07-25       0.0     1000      7\n",
       "1  1000_1 2018-08-17       0.0     1000      8\n",
       "2  1000_2 2018-06-11       3.0     1000      6\n",
       "3  1000_3 2018-09-21      14.0     1000      9\n",
       "4  1000_4 2018-12-15       6.0     1000     12\n",
       "5  1000_5 2018-11-02       0.0     1000     11\n",
       "6  1000_6 2018-10-18       0.0     1000     10\n",
       "7  1000_7 2018-08-22      19.0     1000      8\n",
       "8  1000_8 2018-09-15      19.0     1000      9\n",
       "9  1000_9 2018-08-15       0.0     1000      8"
      ]
     },
     "execution_count": 5,
     "metadata": {},
     "output_type": "execute_result"
    }
   ],
   "source": [
    "# приведем дату в datetime64\n",
    "calls['call_date'] = pd.to_datetime(calls['call_date'], format='%Y-%m-%d')\n",
    "#добавим месяц для сводной таблицы\n",
    "calls['month'] = calls['call_date'].dt.month \n",
    "#округление звонков в большую сторону(поминутная тарификация)\n",
    "calls['duration'] = np.ceil(calls['duration'])\n",
    "calls.head(10)"
   ]
  },
  {
   "cell_type": "markdown",
   "metadata": {},
   "source": [
    "\n",
    "<div class=\"alert alert-block alert-warning\">\n",
    "<b> ⚠️ Совет: </b>Молодец, что не забыл про округление звонков. Правильно перевел в тип даты и выделил столбец с месяцем. Но для того, чтобы округлять необязательно было использовать apply(). Метод np.ceil работает сразу со всем столбцом)\n",
    "</div>"
   ]
  },
  {
   "cell_type": "markdown",
   "metadata": {},
   "source": [
    "<div class=\"alert alert-block alert-info\">\n",
    "<b>Комментарий студента </b> \n",
    "\n",
    "Понял, переделал как надо, округление сдлела для столбца при помощи метода np.ceil()\n",
    "</div>"
   ]
  },
  {
   "cell_type": "markdown",
   "metadata": {},
   "source": [
    "<div style=\"border: 3px solid green; padding: 15px\"><font color='green' size=5 ><b>Комментарий ревьюера v2</b></font> \n",
    "\n",
    "Да, все верно)</div>\n"
   ]
  },
  {
   "cell_type": "markdown",
   "metadata": {},
   "source": [
    "#### Изучение internet"
   ]
  },
  {
   "cell_type": "code",
   "execution_count": 6,
   "metadata": {},
   "outputs": [
    {
     "data": {
      "text/html": [
       "<div>\n",
       "<style scoped>\n",
       "    .dataframe tbody tr th:only-of-type {\n",
       "        vertical-align: middle;\n",
       "    }\n",
       "\n",
       "    .dataframe tbody tr th {\n",
       "        vertical-align: top;\n",
       "    }\n",
       "\n",
       "    .dataframe thead th {\n",
       "        text-align: right;\n",
       "    }\n",
       "</style>\n",
       "<table border=\"1\" class=\"dataframe\">\n",
       "  <thead>\n",
       "    <tr style=\"text-align: right;\">\n",
       "      <th></th>\n",
       "      <th>Unnamed: 0</th>\n",
       "      <th>id</th>\n",
       "      <th>mb_used</th>\n",
       "      <th>session_date</th>\n",
       "      <th>user_id</th>\n",
       "    </tr>\n",
       "  </thead>\n",
       "  <tbody>\n",
       "    <tr>\n",
       "      <th>0</th>\n",
       "      <td>0</td>\n",
       "      <td>1000_0</td>\n",
       "      <td>112.95</td>\n",
       "      <td>2018-11-25</td>\n",
       "      <td>1000</td>\n",
       "    </tr>\n",
       "    <tr>\n",
       "      <th>1</th>\n",
       "      <td>1</td>\n",
       "      <td>1000_1</td>\n",
       "      <td>1052.81</td>\n",
       "      <td>2018-09-07</td>\n",
       "      <td>1000</td>\n",
       "    </tr>\n",
       "    <tr>\n",
       "      <th>2</th>\n",
       "      <td>2</td>\n",
       "      <td>1000_2</td>\n",
       "      <td>1197.26</td>\n",
       "      <td>2018-06-25</td>\n",
       "      <td>1000</td>\n",
       "    </tr>\n",
       "    <tr>\n",
       "      <th>3</th>\n",
       "      <td>3</td>\n",
       "      <td>1000_3</td>\n",
       "      <td>550.27</td>\n",
       "      <td>2018-08-22</td>\n",
       "      <td>1000</td>\n",
       "    </tr>\n",
       "    <tr>\n",
       "      <th>4</th>\n",
       "      <td>4</td>\n",
       "      <td>1000_4</td>\n",
       "      <td>302.56</td>\n",
       "      <td>2018-09-24</td>\n",
       "      <td>1000</td>\n",
       "    </tr>\n",
       "    <tr>\n",
       "      <th>5</th>\n",
       "      <td>5</td>\n",
       "      <td>1000_5</td>\n",
       "      <td>399.97</td>\n",
       "      <td>2018-10-02</td>\n",
       "      <td>1000</td>\n",
       "    </tr>\n",
       "    <tr>\n",
       "      <th>6</th>\n",
       "      <td>6</td>\n",
       "      <td>1000_6</td>\n",
       "      <td>540.08</td>\n",
       "      <td>2018-09-07</td>\n",
       "      <td>1000</td>\n",
       "    </tr>\n",
       "    <tr>\n",
       "      <th>7</th>\n",
       "      <td>7</td>\n",
       "      <td>1000_7</td>\n",
       "      <td>415.70</td>\n",
       "      <td>2018-07-11</td>\n",
       "      <td>1000</td>\n",
       "    </tr>\n",
       "    <tr>\n",
       "      <th>8</th>\n",
       "      <td>8</td>\n",
       "      <td>1000_8</td>\n",
       "      <td>505.40</td>\n",
       "      <td>2018-10-08</td>\n",
       "      <td>1000</td>\n",
       "    </tr>\n",
       "    <tr>\n",
       "      <th>9</th>\n",
       "      <td>9</td>\n",
       "      <td>1000_9</td>\n",
       "      <td>345.54</td>\n",
       "      <td>2018-09-03</td>\n",
       "      <td>1000</td>\n",
       "    </tr>\n",
       "  </tbody>\n",
       "</table>\n",
       "</div>"
      ],
      "text/plain": [
       "   Unnamed: 0      id  mb_used session_date  user_id\n",
       "0           0  1000_0   112.95   2018-11-25     1000\n",
       "1           1  1000_1  1052.81   2018-09-07     1000\n",
       "2           2  1000_2  1197.26   2018-06-25     1000\n",
       "3           3  1000_3   550.27   2018-08-22     1000\n",
       "4           4  1000_4   302.56   2018-09-24     1000\n",
       "5           5  1000_5   399.97   2018-10-02     1000\n",
       "6           6  1000_6   540.08   2018-09-07     1000\n",
       "7           7  1000_7   415.70   2018-07-11     1000\n",
       "8           8  1000_8   505.40   2018-10-08     1000\n",
       "9           9  1000_9   345.54   2018-09-03     1000"
      ]
     },
     "execution_count": 6,
     "metadata": {},
     "output_type": "execute_result"
    }
   ],
   "source": [
    "internet.head(10)"
   ]
  },
  {
   "cell_type": "code",
   "execution_count": 7,
   "metadata": {},
   "outputs": [
    {
     "name": "stdout",
     "output_type": "stream",
     "text": [
      "<class 'pandas.core.frame.DataFrame'>\n",
      "RangeIndex: 149396 entries, 0 to 149395\n",
      "Data columns (total 5 columns):\n",
      " #   Column        Non-Null Count   Dtype  \n",
      "---  ------        --------------   -----  \n",
      " 0   Unnamed: 0    149396 non-null  int64  \n",
      " 1   id            149396 non-null  object \n",
      " 2   mb_used       149396 non-null  float64\n",
      " 3   session_date  149396 non-null  object \n",
      " 4   user_id       149396 non-null  int64  \n",
      "dtypes: float64(1), int64(2), object(2)\n",
      "memory usage: 5.7+ MB\n"
     ]
    }
   ],
   "source": [
    "internet.info()"
   ]
  },
  {
   "cell_type": "markdown",
   "metadata": {},
   "source": [
    "#### Предобработка internet"
   ]
  },
  {
   "cell_type": "code",
   "execution_count": 8,
   "metadata": {},
   "outputs": [],
   "source": [
    "# привели дату в datetime64\n",
    "internet['session_date'] = pd.to_datetime(internet['session_date'], format='%Y-%m-%d')\n",
    "#добавили месяц для сводной\n",
    "internet['month'] = internet['session_date'].dt.month "
   ]
  },
  {
   "cell_type": "markdown",
   "metadata": {},
   "source": [
    "\n",
    "<s><div class=\"alert alert-block alert-danger\">\n",
    "<b> ❌ Нужно исправить:</b> Смотри по условию задачи у нас нельзя округлять интернет сессии. Мы округляем только суммарные ГБ. Поэтому в данном разделе я попрошу убрать округления МБ. Плюс на будущее: такие кастомные способы округления могут привести к ошибкам. У тебя ранее совершенно верно использовался метод np.ceil)\n",
    "</div>"
   ]
  },
  {
   "cell_type": "markdown",
   "metadata": {},
   "source": [
    "<div class=\"alert alert-block alert-info\">\n",
    "<b>Комментарий студента </b> \n",
    "Меня смутил что необходимо округление по условиям задания, а что нельзя интернет сесии округлять почему-то неучел, поправил, убрал округление Мб.\n",
    "</div>"
   ]
  },
  {
   "cell_type": "markdown",
   "metadata": {},
   "source": [
    "<div style=\"border: 3px solid green; padding: 15px\"><font color='green' size=5 ><b>Комментарий ревьюера v2</b></font> \n",
    "\n",
    "Теперь все верно)</div>\n"
   ]
  },
  {
   "cell_type": "markdown",
   "metadata": {},
   "source": [
    "#### Изучение messages"
   ]
  },
  {
   "cell_type": "code",
   "execution_count": 9,
   "metadata": {},
   "outputs": [
    {
     "data": {
      "text/html": [
       "<div>\n",
       "<style scoped>\n",
       "    .dataframe tbody tr th:only-of-type {\n",
       "        vertical-align: middle;\n",
       "    }\n",
       "\n",
       "    .dataframe tbody tr th {\n",
       "        vertical-align: top;\n",
       "    }\n",
       "\n",
       "    .dataframe thead th {\n",
       "        text-align: right;\n",
       "    }\n",
       "</style>\n",
       "<table border=\"1\" class=\"dataframe\">\n",
       "  <thead>\n",
       "    <tr style=\"text-align: right;\">\n",
       "      <th></th>\n",
       "      <th>id</th>\n",
       "      <th>message_date</th>\n",
       "      <th>user_id</th>\n",
       "    </tr>\n",
       "  </thead>\n",
       "  <tbody>\n",
       "    <tr>\n",
       "      <th>0</th>\n",
       "      <td>1000_0</td>\n",
       "      <td>2018-06-27</td>\n",
       "      <td>1000</td>\n",
       "    </tr>\n",
       "    <tr>\n",
       "      <th>1</th>\n",
       "      <td>1000_1</td>\n",
       "      <td>2018-10-08</td>\n",
       "      <td>1000</td>\n",
       "    </tr>\n",
       "    <tr>\n",
       "      <th>2</th>\n",
       "      <td>1000_2</td>\n",
       "      <td>2018-08-04</td>\n",
       "      <td>1000</td>\n",
       "    </tr>\n",
       "    <tr>\n",
       "      <th>3</th>\n",
       "      <td>1000_3</td>\n",
       "      <td>2018-06-16</td>\n",
       "      <td>1000</td>\n",
       "    </tr>\n",
       "    <tr>\n",
       "      <th>4</th>\n",
       "      <td>1000_4</td>\n",
       "      <td>2018-12-05</td>\n",
       "      <td>1000</td>\n",
       "    </tr>\n",
       "    <tr>\n",
       "      <th>5</th>\n",
       "      <td>1000_5</td>\n",
       "      <td>2018-06-20</td>\n",
       "      <td>1000</td>\n",
       "    </tr>\n",
       "    <tr>\n",
       "      <th>6</th>\n",
       "      <td>1000_6</td>\n",
       "      <td>2018-11-19</td>\n",
       "      <td>1000</td>\n",
       "    </tr>\n",
       "    <tr>\n",
       "      <th>7</th>\n",
       "      <td>1000_7</td>\n",
       "      <td>2018-10-29</td>\n",
       "      <td>1000</td>\n",
       "    </tr>\n",
       "    <tr>\n",
       "      <th>8</th>\n",
       "      <td>1000_8</td>\n",
       "      <td>2018-06-25</td>\n",
       "      <td>1000</td>\n",
       "    </tr>\n",
       "    <tr>\n",
       "      <th>9</th>\n",
       "      <td>1000_9</td>\n",
       "      <td>2018-12-18</td>\n",
       "      <td>1000</td>\n",
       "    </tr>\n",
       "  </tbody>\n",
       "</table>\n",
       "</div>"
      ],
      "text/plain": [
       "       id message_date  user_id\n",
       "0  1000_0   2018-06-27     1000\n",
       "1  1000_1   2018-10-08     1000\n",
       "2  1000_2   2018-08-04     1000\n",
       "3  1000_3   2018-06-16     1000\n",
       "4  1000_4   2018-12-05     1000\n",
       "5  1000_5   2018-06-20     1000\n",
       "6  1000_6   2018-11-19     1000\n",
       "7  1000_7   2018-10-29     1000\n",
       "8  1000_8   2018-06-25     1000\n",
       "9  1000_9   2018-12-18     1000"
      ]
     },
     "execution_count": 9,
     "metadata": {},
     "output_type": "execute_result"
    }
   ],
   "source": [
    "messages.head(10)"
   ]
  },
  {
   "cell_type": "code",
   "execution_count": 10,
   "metadata": {},
   "outputs": [
    {
     "name": "stdout",
     "output_type": "stream",
     "text": [
      "<class 'pandas.core.frame.DataFrame'>\n",
      "RangeIndex: 123036 entries, 0 to 123035\n",
      "Data columns (total 3 columns):\n",
      " #   Column        Non-Null Count   Dtype \n",
      "---  ------        --------------   ----- \n",
      " 0   id            123036 non-null  object\n",
      " 1   message_date  123036 non-null  object\n",
      " 2   user_id       123036 non-null  int64 \n",
      "dtypes: int64(1), object(2)\n",
      "memory usage: 2.8+ MB\n"
     ]
    }
   ],
   "source": [
    "messages.info()"
   ]
  },
  {
   "cell_type": "markdown",
   "metadata": {},
   "source": [
    "#### Предобработка messages"
   ]
  },
  {
   "cell_type": "code",
   "execution_count": 11,
   "metadata": {},
   "outputs": [],
   "source": [
    "# приведем дату в datetime64\n",
    "messages['message_date'] = pd.to_datetime(messages['message_date'], format='%Y-%m-%d')\n",
    "#добавим месяц для сводной\n",
    "messages['month'] = messages['message_date'].dt.month "
   ]
  },
  {
   "cell_type": "markdown",
   "metadata": {},
   "source": [
    "<div class=\"alert alert-block alert-success\">\n",
    "<b> 👍 Успех:</b> Здесь все верно)\n",
    "</div>"
   ]
  },
  {
   "cell_type": "markdown",
   "metadata": {},
   "source": [
    "#### Изучение tariffs"
   ]
  },
  {
   "cell_type": "code",
   "execution_count": 12,
   "metadata": {},
   "outputs": [
    {
     "data": {
      "text/html": [
       "<div>\n",
       "<style scoped>\n",
       "    .dataframe tbody tr th:only-of-type {\n",
       "        vertical-align: middle;\n",
       "    }\n",
       "\n",
       "    .dataframe tbody tr th {\n",
       "        vertical-align: top;\n",
       "    }\n",
       "\n",
       "    .dataframe thead th {\n",
       "        text-align: right;\n",
       "    }\n",
       "</style>\n",
       "<table border=\"1\" class=\"dataframe\">\n",
       "  <thead>\n",
       "    <tr style=\"text-align: right;\">\n",
       "      <th></th>\n",
       "      <th>messages_included</th>\n",
       "      <th>mb_per_month_included</th>\n",
       "      <th>minutes_included</th>\n",
       "      <th>rub_monthly_fee</th>\n",
       "      <th>rub_per_gb</th>\n",
       "      <th>rub_per_message</th>\n",
       "      <th>rub_per_minute</th>\n",
       "      <th>tariff_name</th>\n",
       "    </tr>\n",
       "  </thead>\n",
       "  <tbody>\n",
       "    <tr>\n",
       "      <th>0</th>\n",
       "      <td>50</td>\n",
       "      <td>15360</td>\n",
       "      <td>500</td>\n",
       "      <td>550</td>\n",
       "      <td>200</td>\n",
       "      <td>3</td>\n",
       "      <td>3</td>\n",
       "      <td>smart</td>\n",
       "    </tr>\n",
       "    <tr>\n",
       "      <th>1</th>\n",
       "      <td>1000</td>\n",
       "      <td>30720</td>\n",
       "      <td>3000</td>\n",
       "      <td>1950</td>\n",
       "      <td>150</td>\n",
       "      <td>1</td>\n",
       "      <td>1</td>\n",
       "      <td>ultra</td>\n",
       "    </tr>\n",
       "  </tbody>\n",
       "</table>\n",
       "</div>"
      ],
      "text/plain": [
       "   messages_included  mb_per_month_included  minutes_included  \\\n",
       "0                 50                  15360               500   \n",
       "1               1000                  30720              3000   \n",
       "\n",
       "   rub_monthly_fee  rub_per_gb  rub_per_message  rub_per_minute tariff_name  \n",
       "0              550         200                3               3       smart  \n",
       "1             1950         150                1               1       ultra  "
      ]
     },
     "execution_count": 12,
     "metadata": {},
     "output_type": "execute_result"
    }
   ],
   "source": [
    "tariffs.head()"
   ]
  },
  {
   "cell_type": "code",
   "execution_count": 13,
   "metadata": {},
   "outputs": [
    {
     "name": "stdout",
     "output_type": "stream",
     "text": [
      "<class 'pandas.core.frame.DataFrame'>\n",
      "RangeIndex: 2 entries, 0 to 1\n",
      "Data columns (total 8 columns):\n",
      " #   Column                 Non-Null Count  Dtype \n",
      "---  ------                 --------------  ----- \n",
      " 0   messages_included      2 non-null      int64 \n",
      " 1   mb_per_month_included  2 non-null      int64 \n",
      " 2   minutes_included       2 non-null      int64 \n",
      " 3   rub_monthly_fee        2 non-null      int64 \n",
      " 4   rub_per_gb             2 non-null      int64 \n",
      " 5   rub_per_message        2 non-null      int64 \n",
      " 6   rub_per_minute         2 non-null      int64 \n",
      " 7   tariff_name            2 non-null      object\n",
      "dtypes: int64(7), object(1)\n",
      "memory usage: 256.0+ bytes\n"
     ]
    }
   ],
   "source": [
    "tariffs.info()"
   ]
  },
  {
   "cell_type": "markdown",
   "metadata": {},
   "source": [
    "#### Изучение users"
   ]
  },
  {
   "cell_type": "code",
   "execution_count": 14,
   "metadata": {},
   "outputs": [
    {
     "data": {
      "text/html": [
       "<div>\n",
       "<style scoped>\n",
       "    .dataframe tbody tr th:only-of-type {\n",
       "        vertical-align: middle;\n",
       "    }\n",
       "\n",
       "    .dataframe tbody tr th {\n",
       "        vertical-align: top;\n",
       "    }\n",
       "\n",
       "    .dataframe thead th {\n",
       "        text-align: right;\n",
       "    }\n",
       "</style>\n",
       "<table border=\"1\" class=\"dataframe\">\n",
       "  <thead>\n",
       "    <tr style=\"text-align: right;\">\n",
       "      <th></th>\n",
       "      <th>user_id</th>\n",
       "      <th>age</th>\n",
       "      <th>churn_date</th>\n",
       "      <th>city</th>\n",
       "      <th>first_name</th>\n",
       "      <th>last_name</th>\n",
       "      <th>reg_date</th>\n",
       "      <th>tariff</th>\n",
       "    </tr>\n",
       "  </thead>\n",
       "  <tbody>\n",
       "    <tr>\n",
       "      <th>0</th>\n",
       "      <td>1000</td>\n",
       "      <td>52</td>\n",
       "      <td>NaN</td>\n",
       "      <td>Краснодар</td>\n",
       "      <td>Рафаил</td>\n",
       "      <td>Верещагин</td>\n",
       "      <td>2018-05-25</td>\n",
       "      <td>ultra</td>\n",
       "    </tr>\n",
       "    <tr>\n",
       "      <th>1</th>\n",
       "      <td>1001</td>\n",
       "      <td>41</td>\n",
       "      <td>NaN</td>\n",
       "      <td>Москва</td>\n",
       "      <td>Иван</td>\n",
       "      <td>Ежов</td>\n",
       "      <td>2018-11-01</td>\n",
       "      <td>smart</td>\n",
       "    </tr>\n",
       "    <tr>\n",
       "      <th>2</th>\n",
       "      <td>1002</td>\n",
       "      <td>59</td>\n",
       "      <td>NaN</td>\n",
       "      <td>Стерлитамак</td>\n",
       "      <td>Евгений</td>\n",
       "      <td>Абрамович</td>\n",
       "      <td>2018-06-17</td>\n",
       "      <td>smart</td>\n",
       "    </tr>\n",
       "    <tr>\n",
       "      <th>3</th>\n",
       "      <td>1003</td>\n",
       "      <td>23</td>\n",
       "      <td>NaN</td>\n",
       "      <td>Москва</td>\n",
       "      <td>Белла</td>\n",
       "      <td>Белякова</td>\n",
       "      <td>2018-08-17</td>\n",
       "      <td>ultra</td>\n",
       "    </tr>\n",
       "    <tr>\n",
       "      <th>4</th>\n",
       "      <td>1004</td>\n",
       "      <td>68</td>\n",
       "      <td>NaN</td>\n",
       "      <td>Новокузнецк</td>\n",
       "      <td>Татьяна</td>\n",
       "      <td>Авдеенко</td>\n",
       "      <td>2018-05-14</td>\n",
       "      <td>ultra</td>\n",
       "    </tr>\n",
       "    <tr>\n",
       "      <th>5</th>\n",
       "      <td>1005</td>\n",
       "      <td>67</td>\n",
       "      <td>NaN</td>\n",
       "      <td>Набережные Челны</td>\n",
       "      <td>Афанасий</td>\n",
       "      <td>Горлов</td>\n",
       "      <td>2018-01-25</td>\n",
       "      <td>smart</td>\n",
       "    </tr>\n",
       "    <tr>\n",
       "      <th>6</th>\n",
       "      <td>1006</td>\n",
       "      <td>21</td>\n",
       "      <td>NaN</td>\n",
       "      <td>Ульяновск</td>\n",
       "      <td>Леонид</td>\n",
       "      <td>Ермолаев</td>\n",
       "      <td>2018-02-26</td>\n",
       "      <td>smart</td>\n",
       "    </tr>\n",
       "    <tr>\n",
       "      <th>7</th>\n",
       "      <td>1007</td>\n",
       "      <td>65</td>\n",
       "      <td>NaN</td>\n",
       "      <td>Москва</td>\n",
       "      <td>Юна</td>\n",
       "      <td>Березина</td>\n",
       "      <td>2018-04-19</td>\n",
       "      <td>smart</td>\n",
       "    </tr>\n",
       "    <tr>\n",
       "      <th>8</th>\n",
       "      <td>1008</td>\n",
       "      <td>63</td>\n",
       "      <td>NaN</td>\n",
       "      <td>Челябинск</td>\n",
       "      <td>Рустэм</td>\n",
       "      <td>Пономарёв</td>\n",
       "      <td>2018-12-19</td>\n",
       "      <td>smart</td>\n",
       "    </tr>\n",
       "    <tr>\n",
       "      <th>9</th>\n",
       "      <td>1009</td>\n",
       "      <td>24</td>\n",
       "      <td>NaN</td>\n",
       "      <td>Пермь</td>\n",
       "      <td>Василиса</td>\n",
       "      <td>Блинова</td>\n",
       "      <td>2018-03-22</td>\n",
       "      <td>smart</td>\n",
       "    </tr>\n",
       "  </tbody>\n",
       "</table>\n",
       "</div>"
      ],
      "text/plain": [
       "   user_id  age churn_date              city first_name  last_name  \\\n",
       "0     1000   52        NaN         Краснодар     Рафаил  Верещагин   \n",
       "1     1001   41        NaN            Москва       Иван       Ежов   \n",
       "2     1002   59        NaN       Стерлитамак    Евгений  Абрамович   \n",
       "3     1003   23        NaN            Москва      Белла   Белякова   \n",
       "4     1004   68        NaN       Новокузнецк    Татьяна   Авдеенко   \n",
       "5     1005   67        NaN  Набережные Челны   Афанасий     Горлов   \n",
       "6     1006   21        NaN         Ульяновск     Леонид   Ермолаев   \n",
       "7     1007   65        NaN            Москва        Юна   Березина   \n",
       "8     1008   63        NaN         Челябинск     Рустэм  Пономарёв   \n",
       "9     1009   24        NaN             Пермь   Василиса    Блинова   \n",
       "\n",
       "     reg_date tariff  \n",
       "0  2018-05-25  ultra  \n",
       "1  2018-11-01  smart  \n",
       "2  2018-06-17  smart  \n",
       "3  2018-08-17  ultra  \n",
       "4  2018-05-14  ultra  \n",
       "5  2018-01-25  smart  \n",
       "6  2018-02-26  smart  \n",
       "7  2018-04-19  smart  \n",
       "8  2018-12-19  smart  \n",
       "9  2018-03-22  smart  "
      ]
     },
     "execution_count": 14,
     "metadata": {},
     "output_type": "execute_result"
    }
   ],
   "source": [
    "users.head(10)"
   ]
  },
  {
   "cell_type": "code",
   "execution_count": 15,
   "metadata": {},
   "outputs": [
    {
     "name": "stdout",
     "output_type": "stream",
     "text": [
      "<class 'pandas.core.frame.DataFrame'>\n",
      "RangeIndex: 500 entries, 0 to 499\n",
      "Data columns (total 8 columns):\n",
      " #   Column      Non-Null Count  Dtype \n",
      "---  ------      --------------  ----- \n",
      " 0   user_id     500 non-null    int64 \n",
      " 1   age         500 non-null    int64 \n",
      " 2   churn_date  38 non-null     object\n",
      " 3   city        500 non-null    object\n",
      " 4   first_name  500 non-null    object\n",
      " 5   last_name   500 non-null    object\n",
      " 6   reg_date    500 non-null    object\n",
      " 7   tariff      500 non-null    object\n",
      "dtypes: int64(2), object(6)\n",
      "memory usage: 31.4+ KB\n"
     ]
    }
   ],
   "source": [
    "users.info()"
   ]
  },
  {
   "cell_type": "markdown",
   "metadata": {},
   "source": [
    "#### Предобработка users"
   ]
  },
  {
   "cell_type": "code",
   "execution_count": 16,
   "metadata": {},
   "outputs": [],
   "source": [
    "# приведем дату в datetime64\n",
    "users['reg_date'] = pd.to_datetime(users['reg_date'], format='%Y-%m-%d')\n",
    "users['churn_date'] = pd.to_datetime(users['churn_date'], format='%Y-%m-%d')"
   ]
  },
  {
   "cell_type": "markdown",
   "metadata": {},
   "source": [
    "<div class=\"alert alert-block alert-success\">\n",
    "<b> 👍 Успех:</b> Тоже все хорошо)\n",
    "</div>"
   ]
  },
  {
   "cell_type": "markdown",
   "metadata": {},
   "source": [
    "Все таблицы были проверены на наличие дубликатов и выполнена проверка city на регистр. Ошибок обнаружено не было."
   ]
  },
  {
   "cell_type": "markdown",
   "metadata": {},
   "source": [
    "### Расчеты для каждого пользователя:"
   ]
  },
  {
   "cell_type": "markdown",
   "metadata": {},
   "source": [
    "#### Количество сделанных звонков и израсходованных минут разговора по месяцам"
   ]
  },
  {
   "cell_type": "code",
   "execution_count": 17,
   "metadata": {},
   "outputs": [],
   "source": [
    "calls_in_month = calls.pivot_table(\n",
    "    index=['user_id', 'month'],\n",
    "    values='duration',\n",
    "    aggfunc=['count', 'sum']\n",
    ")\n",
    "calls_in_month.columns = ['calls', 'duration']"
   ]
  },
  {
   "cell_type": "code",
   "execution_count": 18,
   "metadata": {},
   "outputs": [
    {
     "data": {
      "text/html": [
       "<div>\n",
       "<style scoped>\n",
       "    .dataframe tbody tr th:only-of-type {\n",
       "        vertical-align: middle;\n",
       "    }\n",
       "\n",
       "    .dataframe tbody tr th {\n",
       "        vertical-align: top;\n",
       "    }\n",
       "\n",
       "    .dataframe thead th {\n",
       "        text-align: right;\n",
       "    }\n",
       "</style>\n",
       "<table border=\"1\" class=\"dataframe\">\n",
       "  <thead>\n",
       "    <tr style=\"text-align: right;\">\n",
       "      <th></th>\n",
       "      <th></th>\n",
       "      <th>calls</th>\n",
       "      <th>duration</th>\n",
       "    </tr>\n",
       "    <tr>\n",
       "      <th>user_id</th>\n",
       "      <th>month</th>\n",
       "      <th></th>\n",
       "      <th></th>\n",
       "    </tr>\n",
       "  </thead>\n",
       "  <tbody>\n",
       "    <tr>\n",
       "      <th rowspan=\"5\" valign=\"top\">1000</th>\n",
       "      <th>5</th>\n",
       "      <td>22</td>\n",
       "      <td>159.0</td>\n",
       "    </tr>\n",
       "    <tr>\n",
       "      <th>6</th>\n",
       "      <td>43</td>\n",
       "      <td>172.0</td>\n",
       "    </tr>\n",
       "    <tr>\n",
       "      <th>7</th>\n",
       "      <td>47</td>\n",
       "      <td>340.0</td>\n",
       "    </tr>\n",
       "    <tr>\n",
       "      <th>8</th>\n",
       "      <td>52</td>\n",
       "      <td>408.0</td>\n",
       "    </tr>\n",
       "    <tr>\n",
       "      <th>9</th>\n",
       "      <td>58</td>\n",
       "      <td>466.0</td>\n",
       "    </tr>\n",
       "    <tr>\n",
       "      <th>...</th>\n",
       "      <th>...</th>\n",
       "      <td>...</td>\n",
       "      <td>...</td>\n",
       "    </tr>\n",
       "    <tr>\n",
       "      <th>1498</th>\n",
       "      <th>10</th>\n",
       "      <td>41</td>\n",
       "      <td>247.0</td>\n",
       "    </tr>\n",
       "    <tr>\n",
       "      <th rowspan=\"4\" valign=\"top\">1499</th>\n",
       "      <th>9</th>\n",
       "      <td>9</td>\n",
       "      <td>70.0</td>\n",
       "    </tr>\n",
       "    <tr>\n",
       "      <th>10</th>\n",
       "      <td>68</td>\n",
       "      <td>449.0</td>\n",
       "    </tr>\n",
       "    <tr>\n",
       "      <th>11</th>\n",
       "      <td>74</td>\n",
       "      <td>612.0</td>\n",
       "    </tr>\n",
       "    <tr>\n",
       "      <th>12</th>\n",
       "      <td>69</td>\n",
       "      <td>492.0</td>\n",
       "    </tr>\n",
       "  </tbody>\n",
       "</table>\n",
       "<p>3174 rows × 2 columns</p>\n",
       "</div>"
      ],
      "text/plain": [
       "               calls  duration\n",
       "user_id month                 \n",
       "1000    5         22     159.0\n",
       "        6         43     172.0\n",
       "        7         47     340.0\n",
       "        8         52     408.0\n",
       "        9         58     466.0\n",
       "...              ...       ...\n",
       "1498    10        41     247.0\n",
       "1499    9          9      70.0\n",
       "        10        68     449.0\n",
       "        11        74     612.0\n",
       "        12        69     492.0\n",
       "\n",
       "[3174 rows x 2 columns]"
      ]
     },
     "execution_count": 18,
     "metadata": {},
     "output_type": "execute_result"
    }
   ],
   "source": [
    "calls_in_month # проверка"
   ]
  },
  {
   "cell_type": "markdown",
   "metadata": {},
   "source": [
    "#### Количество отправленных сообщений по месяцам"
   ]
  },
  {
   "cell_type": "code",
   "execution_count": 19,
   "metadata": {},
   "outputs": [],
   "source": [
    "messages_in_month = messages.pivot_table(\n",
    "    index=['user_id', 'month'],\n",
    "    values='id',\n",
    "    aggfunc='count'\n",
    ")\n",
    "messages_in_month.columns = ['num_messages']"
   ]
  },
  {
   "cell_type": "code",
   "execution_count": 20,
   "metadata": {},
   "outputs": [
    {
     "data": {
      "text/html": [
       "<div>\n",
       "<style scoped>\n",
       "    .dataframe tbody tr th:only-of-type {\n",
       "        vertical-align: middle;\n",
       "    }\n",
       "\n",
       "    .dataframe tbody tr th {\n",
       "        vertical-align: top;\n",
       "    }\n",
       "\n",
       "    .dataframe thead th {\n",
       "        text-align: right;\n",
       "    }\n",
       "</style>\n",
       "<table border=\"1\" class=\"dataframe\">\n",
       "  <thead>\n",
       "    <tr style=\"text-align: right;\">\n",
       "      <th></th>\n",
       "      <th></th>\n",
       "      <th>num_messages</th>\n",
       "    </tr>\n",
       "    <tr>\n",
       "      <th>user_id</th>\n",
       "      <th>month</th>\n",
       "      <th></th>\n",
       "    </tr>\n",
       "  </thead>\n",
       "  <tbody>\n",
       "    <tr>\n",
       "      <th rowspan=\"5\" valign=\"top\">1000</th>\n",
       "      <th>5</th>\n",
       "      <td>22</td>\n",
       "    </tr>\n",
       "    <tr>\n",
       "      <th>6</th>\n",
       "      <td>60</td>\n",
       "    </tr>\n",
       "    <tr>\n",
       "      <th>7</th>\n",
       "      <td>75</td>\n",
       "    </tr>\n",
       "    <tr>\n",
       "      <th>8</th>\n",
       "      <td>81</td>\n",
       "    </tr>\n",
       "    <tr>\n",
       "      <th>9</th>\n",
       "      <td>57</td>\n",
       "    </tr>\n",
       "    <tr>\n",
       "      <th>...</th>\n",
       "      <th>...</th>\n",
       "      <td>...</td>\n",
       "    </tr>\n",
       "    <tr>\n",
       "      <th>1498</th>\n",
       "      <th>10</th>\n",
       "      <td>42</td>\n",
       "    </tr>\n",
       "    <tr>\n",
       "      <th rowspan=\"4\" valign=\"top\">1499</th>\n",
       "      <th>9</th>\n",
       "      <td>11</td>\n",
       "    </tr>\n",
       "    <tr>\n",
       "      <th>10</th>\n",
       "      <td>48</td>\n",
       "    </tr>\n",
       "    <tr>\n",
       "      <th>11</th>\n",
       "      <td>59</td>\n",
       "    </tr>\n",
       "    <tr>\n",
       "      <th>12</th>\n",
       "      <td>66</td>\n",
       "    </tr>\n",
       "  </tbody>\n",
       "</table>\n",
       "<p>2717 rows × 1 columns</p>\n",
       "</div>"
      ],
      "text/plain": [
       "               num_messages\n",
       "user_id month              \n",
       "1000    5                22\n",
       "        6                60\n",
       "        7                75\n",
       "        8                81\n",
       "        9                57\n",
       "...                     ...\n",
       "1498    10               42\n",
       "1499    9                11\n",
       "        10               48\n",
       "        11               59\n",
       "        12               66\n",
       "\n",
       "[2717 rows x 1 columns]"
      ]
     },
     "execution_count": 20,
     "metadata": {},
     "output_type": "execute_result"
    }
   ],
   "source": [
    "messages_in_month # проверка"
   ]
  },
  {
   "cell_type": "markdown",
   "metadata": {},
   "source": [
    "#### Объем израсходованного интернет-трафика по месяцам"
   ]
  },
  {
   "cell_type": "code",
   "execution_count": 21,
   "metadata": {},
   "outputs": [],
   "source": [
    "internet_in_month = internet.pivot_table(\n",
    "    index=['user_id', 'month'],\n",
    "    values='mb_used',\n",
    "    aggfunc='sum'\n",
    ")\n",
    "internet_in_month.columns = ['mb']"
   ]
  },
  {
   "cell_type": "code",
   "execution_count": 22,
   "metadata": {},
   "outputs": [
    {
     "data": {
      "text/html": [
       "<div>\n",
       "<style scoped>\n",
       "    .dataframe tbody tr th:only-of-type {\n",
       "        vertical-align: middle;\n",
       "    }\n",
       "\n",
       "    .dataframe tbody tr th {\n",
       "        vertical-align: top;\n",
       "    }\n",
       "\n",
       "    .dataframe thead th {\n",
       "        text-align: right;\n",
       "    }\n",
       "</style>\n",
       "<table border=\"1\" class=\"dataframe\">\n",
       "  <thead>\n",
       "    <tr style=\"text-align: right;\">\n",
       "      <th></th>\n",
       "      <th></th>\n",
       "      <th>mb</th>\n",
       "    </tr>\n",
       "    <tr>\n",
       "      <th>user_id</th>\n",
       "      <th>month</th>\n",
       "      <th></th>\n",
       "    </tr>\n",
       "  </thead>\n",
       "  <tbody>\n",
       "    <tr>\n",
       "      <th rowspan=\"5\" valign=\"top\">1000</th>\n",
       "      <th>5</th>\n",
       "      <td>2253.49</td>\n",
       "    </tr>\n",
       "    <tr>\n",
       "      <th>6</th>\n",
       "      <td>23233.77</td>\n",
       "    </tr>\n",
       "    <tr>\n",
       "      <th>7</th>\n",
       "      <td>14003.64</td>\n",
       "    </tr>\n",
       "    <tr>\n",
       "      <th>8</th>\n",
       "      <td>14055.93</td>\n",
       "    </tr>\n",
       "    <tr>\n",
       "      <th>9</th>\n",
       "      <td>14568.91</td>\n",
       "    </tr>\n",
       "    <tr>\n",
       "      <th>...</th>\n",
       "      <th>...</th>\n",
       "      <td>...</td>\n",
       "    </tr>\n",
       "    <tr>\n",
       "      <th>1498</th>\n",
       "      <th>10</th>\n",
       "      <td>20579.36</td>\n",
       "    </tr>\n",
       "    <tr>\n",
       "      <th rowspan=\"4\" valign=\"top\">1499</th>\n",
       "      <th>9</th>\n",
       "      <td>1845.75</td>\n",
       "    </tr>\n",
       "    <tr>\n",
       "      <th>10</th>\n",
       "      <td>17788.51</td>\n",
       "    </tr>\n",
       "    <tr>\n",
       "      <th>11</th>\n",
       "      <td>17963.31</td>\n",
       "    </tr>\n",
       "    <tr>\n",
       "      <th>12</th>\n",
       "      <td>13055.58</td>\n",
       "    </tr>\n",
       "  </tbody>\n",
       "</table>\n",
       "<p>3203 rows × 1 columns</p>\n",
       "</div>"
      ],
      "text/plain": [
       "                     mb\n",
       "user_id month          \n",
       "1000    5       2253.49\n",
       "        6      23233.77\n",
       "        7      14003.64\n",
       "        8      14055.93\n",
       "        9      14568.91\n",
       "...                 ...\n",
       "1498    10     20579.36\n",
       "1499    9       1845.75\n",
       "        10     17788.51\n",
       "        11     17963.31\n",
       "        12     13055.58\n",
       "\n",
       "[3203 rows x 1 columns]"
      ]
     },
     "execution_count": 22,
     "metadata": {},
     "output_type": "execute_result"
    }
   ],
   "source": [
    "internet_in_month # проверка"
   ]
  },
  {
   "cell_type": "markdown",
   "metadata": {},
   "source": [
    "<div class=\"alert alert-block alert-success\">\n",
    "<b> 👍 Успех:</b> Данный раздел выполнен на 5+. Все группировки верные)\n",
    "</div>"
   ]
  },
  {
   "cell_type": "markdown",
   "metadata": {},
   "source": [
    "#### Помесячная выручка с каждого пользователя"
   ]
  },
  {
   "cell_type": "code",
   "execution_count": 23,
   "metadata": {},
   "outputs": [],
   "source": [
    "# Объеденим звонки, минуты, гигобайты каждого пользователя, и добавим тарифный план\n",
    "df_users = calls_in_month.merge(messages_in_month,  on=['user_id', 'month'], how='outer')\n",
    "df_users = df_users.merge(internet_in_month,  on=['user_id', 'month'], how='outer')\n",
    "df_users = df_users.reset_index(drop=False)\n",
    "df_users = df_users.merge(users[['user_id', 'tariff']], on='user_id', how='left')"
   ]
  },
  {
   "cell_type": "markdown",
   "metadata": {},
   "source": [
    "<div class=\"alert alert-block alert-success\">\n",
    "<b> 👍 Успех:</b> Раздел выполнен на 5+. Приведу основные моменты с которыми ты круто справился:\n",
    "    1. Таблицы предварительно сгруппированы\n",
    "    2. Объединение происходит именно по двум столбцам: ['user_id', 'month']\n",
    "    3. Метод объединения outer- это не дает нам потерять лишние данные\n",
    "</div>"
   ]
  },
  {
   "cell_type": "code",
   "execution_count": 24,
   "metadata": {},
   "outputs": [
    {
     "name": "stdout",
     "output_type": "stream",
     "text": [
      "<class 'pandas.core.frame.DataFrame'>\n",
      "Int64Index: 3214 entries, 0 to 3213\n",
      "Data columns (total 7 columns):\n",
      " #   Column        Non-Null Count  Dtype  \n",
      "---  ------        --------------  -----  \n",
      " 0   user_id       3214 non-null   int64  \n",
      " 1   month         3214 non-null   int64  \n",
      " 2   calls         3214 non-null   float64\n",
      " 3   duration      3214 non-null   float64\n",
      " 4   num_messages  3214 non-null   float64\n",
      " 5   mb            3214 non-null   float64\n",
      " 6   tariff        3214 non-null   object \n",
      "dtypes: float64(4), int64(2), object(1)\n",
      "memory usage: 200.9+ KB\n"
     ]
    }
   ],
   "source": [
    "# Пропущенные значения заменим на \"ноль\"\n",
    "df_users.loc[df_users['duration'].isna(), 'duration'] = 0\n",
    "df_users.loc[df_users['calls'].isna(), 'calls'] = 0\n",
    "df_users.loc[df_users['num_messages'].isna(), 'num_messages'] = 0\n",
    "df_users.loc[df_users['mb'].isna(), 'mb'] = 0\n",
    "df_users.info() # выполним проверку"
   ]
  },
  {
   "cell_type": "markdown",
   "metadata": {},
   "source": [
    "\n",
    "<div class=\"alert alert-block alert-warning\">\n",
    "<b> ⚠️ Совет: </b> Итоговая таблица получилась верная. Но когда происходят такие вот крупные объединения нескольких таблиц - хорошо бы делать проверку на корректность объединения. Можно к примеру проверить на количество уникальных пользователей. Также можно проверить - совпадают ли количества минут, СМС и Гб из итоговой таблицы и изначальных. \n",
    "    Такая проверка покажет не потерялись ли данные при объединении таблиц)\n",
    "</div>"
   ]
  },
  {
   "cell_type": "markdown",
   "metadata": {},
   "source": [
    "<div class=\"alert alert-block alert-info\">\n",
    "<b>Комментарий студента </b> \n",
    "Понял, спасибо, дополнительно проверил на пропуски.\n",
    "</div>"
   ]
  },
  {
   "cell_type": "code",
   "execution_count": 25,
   "metadata": {},
   "outputs": [
    {
     "data": {
      "text/plain": [
       "user_id         0\n",
       "month           0\n",
       "calls           0\n",
       "duration        0\n",
       "num_messages    0\n",
       "mb              0\n",
       "tariff          0\n",
       "dtype: int64"
      ]
     },
     "execution_count": 25,
     "metadata": {},
     "output_type": "execute_result"
    }
   ],
   "source": [
    "# проверим на пропуски получившийся датафрейм\n",
    "\n",
    "df_users.isnull().sum()"
   ]
  },
  {
   "cell_type": "markdown",
   "metadata": {},
   "source": [
    "Вычитаем бесплатный лимит из суммарного количества звонков, сообщений и интернет-трафика; остаток умножаем на значение из тарифного плана; прибавляем абонентскую плату, соответствующую тарифному плану)."
   ]
  },
  {
   "cell_type": "code",
   "execution_count": 26,
   "metadata": {},
   "outputs": [],
   "source": [
    "# Пишем функцию для выполнения условия, описанного выше\n",
    "def revenue_calc(row):\n",
    "    duration = row['duration']\n",
    "    calls = row['calls']\n",
    "    num_messages = row['num_messages']\n",
    "    mb = row['mb']\n",
    "    tariff = row['tariff']\n",
    "    \n",
    "    if tariff == 'smart':\n",
    "        over_duration = duration - tariffs.loc[0, 'minutes_included']\n",
    "        over_mb = mb - tariffs.loc[0, 'mb_per_month_included']\n",
    "        over_messages = num_messages - tariffs.loc[0, 'messages_included']\n",
    "        \n",
    "        if over_duration < 0:\n",
    "            over_duration = 0\n",
    "        if over_mb < 0:\n",
    "            over_mb = 0\n",
    "        if over_messages < 0:\n",
    "            over_messages = 0\n",
    "        \n",
    "        return (tariffs.loc[0, 'rub_per_message'] * over_messages + \n",
    "                   tariffs.loc[0, 'rub_per_gb'] * np.ceil(over_mb / 1024 ) + \n",
    "                   tariffs.loc[0, 'rub_per_minute'] * over_duration + \n",
    "                   tariffs.loc[0, 'rub_monthly_fee']\n",
    "                  ) \n",
    "    else:\n",
    "        over_duration = duration - tariffs.loc[1, 'minutes_included']\n",
    "        over_mb = mb - tariffs.loc[1, 'mb_per_month_included']\n",
    "        over_messages = num_messages - tariffs.loc[1, 'messages_included']\n",
    "        \n",
    "        if over_duration < 0:\n",
    "            over_duration = 0\n",
    "        if over_mb < 0:\n",
    "            over_mb = 0\n",
    "        if over_messages < 0:\n",
    "            over_messages = 0\n",
    "        \n",
    "        return (tariffs.loc[1, 'rub_per_message'] * over_messages + \n",
    "                   tariffs.loc[1, 'rub_per_gb'] * np.ceil(over_mb / 1024) + \n",
    "                   tariffs.loc[1, 'rub_per_minute'] * over_duration + \n",
    "                   tariffs.loc[1, 'rub_monthly_fee']\n",
    "                  )"
   ]
  },
  {
   "cell_type": "markdown",
   "metadata": {},
   "source": [
    "<s><div class=\"alert alert-block alert-danger\">\n",
    "<b> ❌ Нужно исправить:</b> Функция отрабатывает верно. Но давай исправим перевод в ГБ и округление. Сейчас это ручной способ. Давай воспользуемся готовыми инструментами округления вверх) Ты кстати им пользовался ранее) \n",
    "</div>"
   ]
  },
  {
   "cell_type": "markdown",
   "metadata": {},
   "source": [
    "<div class=\"alert alert-block alert-info\">\n",
    "<b>Комментарий студента </b> \n",
    "Добавил округение  мегабайтов вверх до гигабайт при помощи np.ceil.\n",
    "</div>"
   ]
  },
  {
   "cell_type": "markdown",
   "metadata": {},
   "source": [
    "<div style=\"border: 3px solid green; padding: 15px\"><font color='green' size=5 ><b>Комментарий ревьюера v2</b></font> \n",
    "\n",
    "Отлично! Теперь все верно и похоже на правду)</div>\n"
   ]
  },
  {
   "cell_type": "code",
   "execution_count": 27,
   "metadata": {},
   "outputs": [
    {
     "data": {
      "text/html": [
       "<div>\n",
       "<style scoped>\n",
       "    .dataframe tbody tr th:only-of-type {\n",
       "        vertical-align: middle;\n",
       "    }\n",
       "\n",
       "    .dataframe tbody tr th {\n",
       "        vertical-align: top;\n",
       "    }\n",
       "\n",
       "    .dataframe thead th {\n",
       "        text-align: right;\n",
       "    }\n",
       "</style>\n",
       "<table border=\"1\" class=\"dataframe\">\n",
       "  <thead>\n",
       "    <tr style=\"text-align: right;\">\n",
       "      <th></th>\n",
       "      <th>user_id</th>\n",
       "      <th>month</th>\n",
       "      <th>calls</th>\n",
       "      <th>duration</th>\n",
       "      <th>num_messages</th>\n",
       "      <th>mb</th>\n",
       "      <th>tariff</th>\n",
       "      <th>revenue</th>\n",
       "    </tr>\n",
       "  </thead>\n",
       "  <tbody>\n",
       "    <tr>\n",
       "      <th>0</th>\n",
       "      <td>1000</td>\n",
       "      <td>5</td>\n",
       "      <td>22.0</td>\n",
       "      <td>159.0</td>\n",
       "      <td>22.0</td>\n",
       "      <td>2253.49</td>\n",
       "      <td>ultra</td>\n",
       "      <td>1950.0</td>\n",
       "    </tr>\n",
       "    <tr>\n",
       "      <th>1</th>\n",
       "      <td>1000</td>\n",
       "      <td>6</td>\n",
       "      <td>43.0</td>\n",
       "      <td>172.0</td>\n",
       "      <td>60.0</td>\n",
       "      <td>23233.77</td>\n",
       "      <td>ultra</td>\n",
       "      <td>1950.0</td>\n",
       "    </tr>\n",
       "    <tr>\n",
       "      <th>2</th>\n",
       "      <td>1000</td>\n",
       "      <td>7</td>\n",
       "      <td>47.0</td>\n",
       "      <td>340.0</td>\n",
       "      <td>75.0</td>\n",
       "      <td>14003.64</td>\n",
       "      <td>ultra</td>\n",
       "      <td>1950.0</td>\n",
       "    </tr>\n",
       "    <tr>\n",
       "      <th>3</th>\n",
       "      <td>1000</td>\n",
       "      <td>8</td>\n",
       "      <td>52.0</td>\n",
       "      <td>408.0</td>\n",
       "      <td>81.0</td>\n",
       "      <td>14055.93</td>\n",
       "      <td>ultra</td>\n",
       "      <td>1950.0</td>\n",
       "    </tr>\n",
       "    <tr>\n",
       "      <th>4</th>\n",
       "      <td>1000</td>\n",
       "      <td>9</td>\n",
       "      <td>58.0</td>\n",
       "      <td>466.0</td>\n",
       "      <td>57.0</td>\n",
       "      <td>14568.91</td>\n",
       "      <td>ultra</td>\n",
       "      <td>1950.0</td>\n",
       "    </tr>\n",
       "    <tr>\n",
       "      <th>...</th>\n",
       "      <td>...</td>\n",
       "      <td>...</td>\n",
       "      <td>...</td>\n",
       "      <td>...</td>\n",
       "      <td>...</td>\n",
       "      <td>...</td>\n",
       "      <td>...</td>\n",
       "      <td>...</td>\n",
       "    </tr>\n",
       "    <tr>\n",
       "      <th>3209</th>\n",
       "      <td>1489</td>\n",
       "      <td>9</td>\n",
       "      <td>0.0</td>\n",
       "      <td>0.0</td>\n",
       "      <td>32.0</td>\n",
       "      <td>17206.30</td>\n",
       "      <td>smart</td>\n",
       "      <td>950.0</td>\n",
       "    </tr>\n",
       "    <tr>\n",
       "      <th>3210</th>\n",
       "      <td>1489</td>\n",
       "      <td>10</td>\n",
       "      <td>0.0</td>\n",
       "      <td>0.0</td>\n",
       "      <td>21.0</td>\n",
       "      <td>19559.44</td>\n",
       "      <td>smart</td>\n",
       "      <td>1550.0</td>\n",
       "    </tr>\n",
       "    <tr>\n",
       "      <th>3211</th>\n",
       "      <td>1489</td>\n",
       "      <td>11</td>\n",
       "      <td>0.0</td>\n",
       "      <td>0.0</td>\n",
       "      <td>20.0</td>\n",
       "      <td>17491.56</td>\n",
       "      <td>smart</td>\n",
       "      <td>1150.0</td>\n",
       "    </tr>\n",
       "    <tr>\n",
       "      <th>3212</th>\n",
       "      <td>1489</td>\n",
       "      <td>12</td>\n",
       "      <td>0.0</td>\n",
       "      <td>0.0</td>\n",
       "      <td>35.0</td>\n",
       "      <td>17322.51</td>\n",
       "      <td>smart</td>\n",
       "      <td>950.0</td>\n",
       "    </tr>\n",
       "    <tr>\n",
       "      <th>3213</th>\n",
       "      <td>1476</td>\n",
       "      <td>4</td>\n",
       "      <td>0.0</td>\n",
       "      <td>0.0</td>\n",
       "      <td>0.0</td>\n",
       "      <td>530.78</td>\n",
       "      <td>ultra</td>\n",
       "      <td>1950.0</td>\n",
       "    </tr>\n",
       "  </tbody>\n",
       "</table>\n",
       "<p>3214 rows × 8 columns</p>\n",
       "</div>"
      ],
      "text/plain": [
       "      user_id  month  calls  duration  num_messages        mb tariff  revenue\n",
       "0        1000      5   22.0     159.0          22.0   2253.49  ultra   1950.0\n",
       "1        1000      6   43.0     172.0          60.0  23233.77  ultra   1950.0\n",
       "2        1000      7   47.0     340.0          75.0  14003.64  ultra   1950.0\n",
       "3        1000      8   52.0     408.0          81.0  14055.93  ultra   1950.0\n",
       "4        1000      9   58.0     466.0          57.0  14568.91  ultra   1950.0\n",
       "...       ...    ...    ...       ...           ...       ...    ...      ...\n",
       "3209     1489      9    0.0       0.0          32.0  17206.30  smart    950.0\n",
       "3210     1489     10    0.0       0.0          21.0  19559.44  smart   1550.0\n",
       "3211     1489     11    0.0       0.0          20.0  17491.56  smart   1150.0\n",
       "3212     1489     12    0.0       0.0          35.0  17322.51  smart    950.0\n",
       "3213     1476      4    0.0       0.0           0.0    530.78  ultra   1950.0\n",
       "\n",
       "[3214 rows x 8 columns]"
      ]
     },
     "execution_count": 27,
     "metadata": {},
     "output_type": "execute_result"
    }
   ],
   "source": [
    "df_users['revenue'] = df_users.apply(revenue_calc, axis=1) # добаляем новый столбец revenue для расчета\n",
    "df_users # поверяем выполнение заданного условия (заполнение столбца revenue)"
   ]
  },
  {
   "cell_type": "markdown",
   "metadata": {},
   "source": [
    "## Шаг 3. Анализируем данные"
   ]
  },
  {
   "cell_type": "markdown",
   "metadata": {},
   "source": [
    "###  Количество минут разговора,  сообщений и  объём интернет-трафика требующееся пользователям каждого тарифа в месяц"
   ]
  },
  {
   "cell_type": "code",
   "execution_count": 28,
   "metadata": {},
   "outputs": [],
   "source": [
    "average_demand = df_users.pivot_table(index='user_id', values=['duration', 'num_messages', 'mb', 'revenue', 'tariff'], aggfunc='median')"
   ]
  },
  {
   "cell_type": "code",
   "execution_count": 29,
   "metadata": {},
   "outputs": [
    {
     "data": {
      "text/html": [
       "<div>\n",
       "<style scoped>\n",
       "    .dataframe tbody tr th:only-of-type {\n",
       "        vertical-align: middle;\n",
       "    }\n",
       "\n",
       "    .dataframe tbody tr th {\n",
       "        vertical-align: top;\n",
       "    }\n",
       "\n",
       "    .dataframe thead th {\n",
       "        text-align: right;\n",
       "    }\n",
       "</style>\n",
       "<table border=\"1\" class=\"dataframe\">\n",
       "  <thead>\n",
       "    <tr style=\"text-align: right;\">\n",
       "      <th></th>\n",
       "      <th>user_id</th>\n",
       "      <th>duration</th>\n",
       "      <th>mb</th>\n",
       "      <th>num_messages</th>\n",
       "      <th>revenue</th>\n",
       "      <th>tariff</th>\n",
       "    </tr>\n",
       "  </thead>\n",
       "  <tbody>\n",
       "    <tr>\n",
       "      <th>0</th>\n",
       "      <td>1000</td>\n",
       "      <td>339.0</td>\n",
       "      <td>14312.420</td>\n",
       "      <td>65.0</td>\n",
       "      <td>1950.0</td>\n",
       "      <td>ultra</td>\n",
       "    </tr>\n",
       "    <tr>\n",
       "      <th>1</th>\n",
       "      <td>1001</td>\n",
       "      <td>422.0</td>\n",
       "      <td>16233.000</td>\n",
       "      <td>0.0</td>\n",
       "      <td>850.0</td>\n",
       "      <td>smart</td>\n",
       "    </tr>\n",
       "    <tr>\n",
       "      <th>2</th>\n",
       "      <td>1002</td>\n",
       "      <td>214.0</td>\n",
       "      <td>17580.100</td>\n",
       "      <td>11.0</td>\n",
       "      <td>1150.0</td>\n",
       "      <td>smart</td>\n",
       "    </tr>\n",
       "    <tr>\n",
       "      <th>3</th>\n",
       "      <td>1003</td>\n",
       "      <td>824.0</td>\n",
       "      <td>11356.890</td>\n",
       "      <td>83.0</td>\n",
       "      <td>1950.0</td>\n",
       "      <td>ultra</td>\n",
       "    </tr>\n",
       "    <tr>\n",
       "      <th>4</th>\n",
       "      <td>1004</td>\n",
       "      <td>132.5</td>\n",
       "      <td>17810.530</td>\n",
       "      <td>154.5</td>\n",
       "      <td>1950.0</td>\n",
       "      <td>ultra</td>\n",
       "    </tr>\n",
       "    <tr>\n",
       "      <th>...</th>\n",
       "      <td>...</td>\n",
       "      <td>...</td>\n",
       "      <td>...</td>\n",
       "      <td>...</td>\n",
       "      <td>...</td>\n",
       "      <td>...</td>\n",
       "    </tr>\n",
       "    <tr>\n",
       "      <th>493</th>\n",
       "      <td>1495</td>\n",
       "      <td>954.0</td>\n",
       "      <td>29363.000</td>\n",
       "      <td>82.0</td>\n",
       "      <td>1950.0</td>\n",
       "      <td>ultra</td>\n",
       "    </tr>\n",
       "    <tr>\n",
       "      <th>494</th>\n",
       "      <td>1496</td>\n",
       "      <td>524.0</td>\n",
       "      <td>24037.255</td>\n",
       "      <td>41.5</td>\n",
       "      <td>2473.0</td>\n",
       "      <td>smart</td>\n",
       "    </tr>\n",
       "    <tr>\n",
       "      <th>495</th>\n",
       "      <td>1497</td>\n",
       "      <td>490.0</td>\n",
       "      <td>14156.080</td>\n",
       "      <td>17.0</td>\n",
       "      <td>550.0</td>\n",
       "      <td>smart</td>\n",
       "    </tr>\n",
       "    <tr>\n",
       "      <th>496</th>\n",
       "      <td>1498</td>\n",
       "      <td>323.5</td>\n",
       "      <td>21356.885</td>\n",
       "      <td>43.0</td>\n",
       "      <td>1850.0</td>\n",
       "      <td>smart</td>\n",
       "    </tr>\n",
       "    <tr>\n",
       "      <th>497</th>\n",
       "      <td>1499</td>\n",
       "      <td>470.5</td>\n",
       "      <td>15422.045</td>\n",
       "      <td>53.5</td>\n",
       "      <td>874.0</td>\n",
       "      <td>smart</td>\n",
       "    </tr>\n",
       "  </tbody>\n",
       "</table>\n",
       "<p>498 rows × 6 columns</p>\n",
       "</div>"
      ],
      "text/plain": [
       "     user_id  duration         mb  num_messages  revenue tariff\n",
       "0       1000     339.0  14312.420          65.0   1950.0  ultra\n",
       "1       1001     422.0  16233.000           0.0    850.0  smart\n",
       "2       1002     214.0  17580.100          11.0   1150.0  smart\n",
       "3       1003     824.0  11356.890          83.0   1950.0  ultra\n",
       "4       1004     132.5  17810.530         154.5   1950.0  ultra\n",
       "..       ...       ...        ...           ...      ...    ...\n",
       "493     1495     954.0  29363.000          82.0   1950.0  ultra\n",
       "494     1496     524.0  24037.255          41.5   2473.0  smart\n",
       "495     1497     490.0  14156.080          17.0    550.0  smart\n",
       "496     1498     323.5  21356.885          43.0   1850.0  smart\n",
       "497     1499     470.5  15422.045          53.5    874.0  smart\n",
       "\n",
       "[498 rows x 6 columns]"
      ]
     },
     "execution_count": 29,
     "metadata": {},
     "output_type": "execute_result"
    }
   ],
   "source": [
    "average_demand = average_demand.merge(users[['user_id', 'tariff',]], on='user_id', how='left')\n",
    "average_demand"
   ]
  },
  {
   "cell_type": "markdown",
   "metadata": {},
   "source": [
    "### Среднее колличество по тарифам"
   ]
  },
  {
   "cell_type": "code",
   "execution_count": 30,
   "metadata": {},
   "outputs": [
    {
     "data": {
      "text/html": [
       "<div>\n",
       "<style scoped>\n",
       "    .dataframe tbody tr th:only-of-type {\n",
       "        vertical-align: middle;\n",
       "    }\n",
       "\n",
       "    .dataframe tbody tr th {\n",
       "        vertical-align: top;\n",
       "    }\n",
       "\n",
       "    .dataframe thead th {\n",
       "        text-align: right;\n",
       "    }\n",
       "</style>\n",
       "<table border=\"1\" class=\"dataframe\">\n",
       "  <thead>\n",
       "    <tr style=\"text-align: right;\">\n",
       "      <th></th>\n",
       "      <th>tariff</th>\n",
       "      <th>duration</th>\n",
       "      <th>mb</th>\n",
       "      <th>num_messages</th>\n",
       "      <th>revenue</th>\n",
       "      <th>rub_monthly_fee</th>\n",
       "    </tr>\n",
       "  </thead>\n",
       "  <tbody>\n",
       "    <tr>\n",
       "      <th>0</th>\n",
       "      <td>smart</td>\n",
       "      <td>437.47</td>\n",
       "      <td>16831.94</td>\n",
       "      <td>33.77</td>\n",
       "      <td>1303.68</td>\n",
       "      <td>550</td>\n",
       "    </tr>\n",
       "    <tr>\n",
       "      <th>1</th>\n",
       "      <td>ultra</td>\n",
       "      <td>557.50</td>\n",
       "      <td>20303.39</td>\n",
       "      <td>56.98</td>\n",
       "      <td>2061.49</td>\n",
       "      <td>1950</td>\n",
       "    </tr>\n",
       "  </tbody>\n",
       "</table>\n",
       "</div>"
      ],
      "text/plain": [
       "  tariff  duration        mb  num_messages  revenue  rub_monthly_fee\n",
       "0  smart    437.47  16831.94         33.77  1303.68              550\n",
       "1  ultra    557.50  20303.39         56.98  2061.49             1950"
      ]
     },
     "execution_count": 30,
     "metadata": {},
     "output_type": "execute_result"
    }
   ],
   "source": [
    "tariff_consumption = average_demand.pivot_table(index='tariff', values=['duration', 'mb', 'num_messages', 'revenue'])\n",
    "tariff_consumption['rub_monthly_fee'] = [550, 1950]\n",
    "tariff_consumption = tariff_consumption.reset_index(drop=False)\n",
    "round(tariff_consumption,2) # для наглядности окргулили полученные данные до 2 знака"
   ]
  },
  {
   "cell_type": "markdown",
   "metadata": {},
   "source": [
    "### Выводы"
   ]
  },
  {
   "cell_type": "markdown",
   "metadata": {},
   "source": [
    "Пользователи тарифа Ультра платят больше, но и пользуются услугами в большем объеме. Пользователям тарифа смарт не хватает выделенного интернета (15 Гб), им приходится его докупать."
   ]
  },
  {
   "cell_type": "markdown",
   "metadata": {},
   "source": [
    "<div class=\"alert alert-block alert-success\">\n",
    "<b> 👍 Успех:</b> Здесь соглашусь) все сделано хорошо)"
   ]
  },
  {
   "cell_type": "markdown",
   "metadata": {},
   "source": [
    "### Расчет среднее количество, дисперсии и стандартного отклонения"
   ]
  },
  {
   "cell_type": "code",
   "execution_count": 31,
   "metadata": {},
   "outputs": [
    {
     "data": {
      "text/html": [
       "<div>\n",
       "<style scoped>\n",
       "    .dataframe tbody tr th:only-of-type {\n",
       "        vertical-align: middle;\n",
       "    }\n",
       "\n",
       "    .dataframe tbody tr th {\n",
       "        vertical-align: top;\n",
       "    }\n",
       "\n",
       "    .dataframe thead tr th {\n",
       "        text-align: left;\n",
       "    }\n",
       "\n",
       "    .dataframe thead tr:last-of-type th {\n",
       "        text-align: right;\n",
       "    }\n",
       "</style>\n",
       "<table border=\"1\" class=\"dataframe\">\n",
       "  <thead>\n",
       "    <tr>\n",
       "      <th></th>\n",
       "      <th colspan=\"3\" halign=\"left\">median</th>\n",
       "      <th colspan=\"3\" halign=\"left\">var</th>\n",
       "      <th colspan=\"3\" halign=\"left\">std</th>\n",
       "    </tr>\n",
       "    <tr>\n",
       "      <th></th>\n",
       "      <th>duration</th>\n",
       "      <th>mb</th>\n",
       "      <th>num_messages</th>\n",
       "      <th>duration</th>\n",
       "      <th>mb</th>\n",
       "      <th>num_messages</th>\n",
       "      <th>duration</th>\n",
       "      <th>mb</th>\n",
       "      <th>num_messages</th>\n",
       "    </tr>\n",
       "    <tr>\n",
       "      <th>tariff</th>\n",
       "      <th></th>\n",
       "      <th></th>\n",
       "      <th></th>\n",
       "      <th></th>\n",
       "      <th></th>\n",
       "      <th></th>\n",
       "      <th></th>\n",
       "      <th></th>\n",
       "      <th></th>\n",
       "    </tr>\n",
       "  </thead>\n",
       "  <tbody>\n",
       "    <tr>\n",
       "      <th>smart</th>\n",
       "      <td>439.75</td>\n",
       "      <td>16925.29</td>\n",
       "      <td>28.5</td>\n",
       "      <td>25685.39</td>\n",
       "      <td>17423974.06</td>\n",
       "      <td>784.60</td>\n",
       "      <td>160.27</td>\n",
       "      <td>4174.2</td>\n",
       "      <td>28.01</td>\n",
       "    </tr>\n",
       "    <tr>\n",
       "      <th>ultra</th>\n",
       "      <td>535.25</td>\n",
       "      <td>19733.15</td>\n",
       "      <td>47.5</td>\n",
       "      <td>92290.58</td>\n",
       "      <td>79085500.25</td>\n",
       "      <td>2424.26</td>\n",
       "      <td>303.79</td>\n",
       "      <td>8893.0</td>\n",
       "      <td>49.24</td>\n",
       "    </tr>\n",
       "  </tbody>\n",
       "</table>\n",
       "</div>"
      ],
      "text/plain": [
       "         median                              var                            \\\n",
       "       duration        mb num_messages  duration           mb num_messages   \n",
       "tariff                                                                       \n",
       "smart    439.75  16925.29         28.5  25685.39  17423974.06       784.60   \n",
       "ultra    535.25  19733.15         47.5  92290.58  79085500.25      2424.26   \n",
       "\n",
       "            std                       \n",
       "       duration      mb num_messages  \n",
       "tariff                                \n",
       "smart    160.27  4174.2        28.01  \n",
       "ultra    303.79  8893.0        49.24  "
      ]
     },
     "execution_count": 31,
     "metadata": {},
     "output_type": "execute_result"
    }
   ],
   "source": [
    "desc_stat = average_demand.pivot_table(index=['tariff'], values=['duration', 'mb', 'num_messages'], \n",
    "                    aggfunc=[np.median, np.var, np.std])\n",
    "round(desc_stat,2) # округлили для удобства"
   ]
  },
  {
   "cell_type": "code",
   "execution_count": 32,
   "metadata": {},
   "outputs": [
    {
     "data": {
      "image/png": "[encoded data removed]",
      "text/plain": [
       "<Figure size 360x360 with 1 Axes>"
      ]
     },
     "metadata": {
      "needs_background": "light"
     },
     "output_type": "display_data"
    },
    {
     "data": {
      "image/png": "[encoded data removed]",
      "text/plain": [
       "<Figure size 360x360 with 1 Axes>"
      ]
     },
     "metadata": {
      "needs_background": "light"
     },
     "output_type": "display_data"
    },
    {
     "data": {
      "image/png": "[encoded data removed]",
      "text/plain": [
       "<Figure size 360x360 with 1 Axes>"
      ]
     },
     "metadata": {
      "needs_background": "light"
     },
     "output_type": "display_data"
    }
   ],
   "source": [
    "for column in ['duration', 'mb', 'num_messages']:    \n",
    "    sns.catplot(x='tariff', y=column, kind=\"box\", data=average_demand, orient='v')"
   ]
  },
  {
   "cell_type": "markdown",
   "metadata": {},
   "source": [
    "<div class=\"alert alert-block alert-warning\">\n",
    "<b> ⚠️ Совет: </b>  Не забывай пожалуйста делать заголовки графикам и  подписи осей.  В следующих проектах, если у тебя не будут оформлены графики по всем правилам, тебе могут вернуть проект. Такое оформление графиков очень важно. Человек должен смотреть сразу на график и понимать о чем он) То есть все подписи -  на русском и с единицами измерения ( если это возможно)\n",
    "    \n",
    "</div>"
   ]
  },
  {
   "cell_type": "code",
   "execution_count": 33,
   "metadata": {},
   "outputs": [
    {
     "data": {
      "text/html": [
       "<div>\n",
       "<style scoped>\n",
       "    .dataframe tbody tr th:only-of-type {\n",
       "        vertical-align: middle;\n",
       "    }\n",
       "\n",
       "    .dataframe tbody tr th {\n",
       "        vertical-align: top;\n",
       "    }\n",
       "\n",
       "    .dataframe thead th {\n",
       "        text-align: right;\n",
       "    }\n",
       "</style>\n",
       "<table border=\"1\" class=\"dataframe\">\n",
       "  <thead>\n",
       "    <tr style=\"text-align: right;\">\n",
       "      <th></th>\n",
       "      <th>user_id</th>\n",
       "      <th>duration</th>\n",
       "      <th>mb</th>\n",
       "      <th>num_messages</th>\n",
       "      <th>revenue</th>\n",
       "      <th>tariff</th>\n",
       "    </tr>\n",
       "  </thead>\n",
       "  <tbody>\n",
       "    <tr>\n",
       "      <th>0</th>\n",
       "      <td>1000</td>\n",
       "      <td>339.0</td>\n",
       "      <td>14312.420</td>\n",
       "      <td>65.0</td>\n",
       "      <td>1950.0</td>\n",
       "      <td>ultra</td>\n",
       "    </tr>\n",
       "    <tr>\n",
       "      <th>1</th>\n",
       "      <td>1001</td>\n",
       "      <td>422.0</td>\n",
       "      <td>16233.000</td>\n",
       "      <td>0.0</td>\n",
       "      <td>850.0</td>\n",
       "      <td>smart</td>\n",
       "    </tr>\n",
       "    <tr>\n",
       "      <th>2</th>\n",
       "      <td>1002</td>\n",
       "      <td>214.0</td>\n",
       "      <td>17580.100</td>\n",
       "      <td>11.0</td>\n",
       "      <td>1150.0</td>\n",
       "      <td>smart</td>\n",
       "    </tr>\n",
       "    <tr>\n",
       "      <th>3</th>\n",
       "      <td>1003</td>\n",
       "      <td>824.0</td>\n",
       "      <td>11356.890</td>\n",
       "      <td>83.0</td>\n",
       "      <td>1950.0</td>\n",
       "      <td>ultra</td>\n",
       "    </tr>\n",
       "    <tr>\n",
       "      <th>4</th>\n",
       "      <td>1004</td>\n",
       "      <td>132.5</td>\n",
       "      <td>17810.530</td>\n",
       "      <td>154.5</td>\n",
       "      <td>1950.0</td>\n",
       "      <td>ultra</td>\n",
       "    </tr>\n",
       "    <tr>\n",
       "      <th>...</th>\n",
       "      <td>...</td>\n",
       "      <td>...</td>\n",
       "      <td>...</td>\n",
       "      <td>...</td>\n",
       "      <td>...</td>\n",
       "      <td>...</td>\n",
       "    </tr>\n",
       "    <tr>\n",
       "      <th>493</th>\n",
       "      <td>1495</td>\n",
       "      <td>954.0</td>\n",
       "      <td>29363.000</td>\n",
       "      <td>82.0</td>\n",
       "      <td>1950.0</td>\n",
       "      <td>ultra</td>\n",
       "    </tr>\n",
       "    <tr>\n",
       "      <th>494</th>\n",
       "      <td>1496</td>\n",
       "      <td>524.0</td>\n",
       "      <td>24037.255</td>\n",
       "      <td>41.5</td>\n",
       "      <td>2473.0</td>\n",
       "      <td>smart</td>\n",
       "    </tr>\n",
       "    <tr>\n",
       "      <th>495</th>\n",
       "      <td>1497</td>\n",
       "      <td>490.0</td>\n",
       "      <td>14156.080</td>\n",
       "      <td>17.0</td>\n",
       "      <td>550.0</td>\n",
       "      <td>smart</td>\n",
       "    </tr>\n",
       "    <tr>\n",
       "      <th>496</th>\n",
       "      <td>1498</td>\n",
       "      <td>323.5</td>\n",
       "      <td>21356.885</td>\n",
       "      <td>43.0</td>\n",
       "      <td>1850.0</td>\n",
       "      <td>smart</td>\n",
       "    </tr>\n",
       "    <tr>\n",
       "      <th>497</th>\n",
       "      <td>1499</td>\n",
       "      <td>470.5</td>\n",
       "      <td>15422.045</td>\n",
       "      <td>53.5</td>\n",
       "      <td>874.0</td>\n",
       "      <td>smart</td>\n",
       "    </tr>\n",
       "  </tbody>\n",
       "</table>\n",
       "<p>498 rows × 6 columns</p>\n",
       "</div>"
      ],
      "text/plain": [
       "     user_id  duration         mb  num_messages  revenue tariff\n",
       "0       1000     339.0  14312.420          65.0   1950.0  ultra\n",
       "1       1001     422.0  16233.000           0.0    850.0  smart\n",
       "2       1002     214.0  17580.100          11.0   1150.0  smart\n",
       "3       1003     824.0  11356.890          83.0   1950.0  ultra\n",
       "4       1004     132.5  17810.530         154.5   1950.0  ultra\n",
       "..       ...       ...        ...           ...      ...    ...\n",
       "493     1495     954.0  29363.000          82.0   1950.0  ultra\n",
       "494     1496     524.0  24037.255          41.5   2473.0  smart\n",
       "495     1497     490.0  14156.080          17.0    550.0  smart\n",
       "496     1498     323.5  21356.885          43.0   1850.0  smart\n",
       "497     1499     470.5  15422.045          53.5    874.0  smart\n",
       "\n",
       "[498 rows x 6 columns]"
      ]
     },
     "execution_count": 33,
     "metadata": {},
     "output_type": "execute_result"
    }
   ],
   "source": [
    "average_demand"
   ]
  },
  {
   "cell_type": "markdown",
   "metadata": {},
   "source": [
    "### Выводы"
   ]
  },
  {
   "cell_type": "markdown",
   "metadata": {},
   "source": [
    "Дисперсия у тарифа \"Ультра\" больше, и медианы смещены в большую сторону. Эти тарифы выгодее для оператора."
   ]
  },
  {
   "cell_type": "markdown",
   "metadata": {},
   "source": [
    "<div class=\"alert alert-block alert-success\">\n",
    "<b> 👍 Успех:</b> Согласен) двигаемся дальше)\n",
    "</div>"
   ]
  },
  {
   "cell_type": "markdown",
   "metadata": {},
   "source": [
    "### Построение гистограмм."
   ]
  },
  {
   "cell_type": "code",
   "execution_count": 34,
   "metadata": {},
   "outputs": [
    {
     "name": "stderr",
     "output_type": "stream",
     "text": [
      "/opt/conda/lib/python3.9/site-packages/seaborn/distributions.py:2557: FutureWarning: `distplot` is a deprecated function and will be removed in a future version. Please adapt your code to use either `displot` (a figure-level function with similar flexibility) or `histplot` (an axes-level function for histograms).\n",
      "  warnings.warn(msg, FutureWarning)\n"
     ]
    },
    {
     "data": {
      "text/plain": [
       "Text(0.5, 1.0, 'Гистограмма звонков')"
      ]
     },
     "execution_count": 34,
     "metadata": {},
     "output_type": "execute_result"
    },
    {
     "data": {
      "image/png": "[encoded data removed]",
      "text/plain": [
       "<Figure size 432x288 with 1 Axes>"
      ]
     },
     "metadata": {
      "needs_background": "light"
     },
     "output_type": "display_data"
    }
   ],
   "source": [
    "smart = average_demand.query(\"tariff == 'smart'\")\n",
    "ultra = average_demand.query(\"tariff == 'ultra'\")\n",
    "sns.distplot(smart['duration'], kde=False)\n",
    "sns.distplot(ultra['duration'], kde=False)\n",
    "plt.legend(['smart', 'ultra'])\n",
    "plt.xlabel('количество минут')\n",
    "plt.ylabel('количество пользователей')\n",
    "plt.title('Гистограмма звонков')"
   ]
  },
  {
   "cell_type": "code",
   "execution_count": 35,
   "metadata": {},
   "outputs": [
    {
     "data": {
      "text/html": [
       "<div>\n",
       "<style scoped>\n",
       "    .dataframe tbody tr th:only-of-type {\n",
       "        vertical-align: middle;\n",
       "    }\n",
       "\n",
       "    .dataframe tbody tr th {\n",
       "        vertical-align: top;\n",
       "    }\n",
       "\n",
       "    .dataframe thead th {\n",
       "        text-align: right;\n",
       "    }\n",
       "</style>\n",
       "<table border=\"1\" class=\"dataframe\">\n",
       "  <thead>\n",
       "    <tr style=\"text-align: right;\">\n",
       "      <th></th>\n",
       "      <th>user_id</th>\n",
       "      <th>duration</th>\n",
       "      <th>mb</th>\n",
       "      <th>num_messages</th>\n",
       "      <th>revenue</th>\n",
       "      <th>tariff</th>\n",
       "    </tr>\n",
       "  </thead>\n",
       "  <tbody>\n",
       "    <tr>\n",
       "      <th>1</th>\n",
       "      <td>1001</td>\n",
       "      <td>422.0</td>\n",
       "      <td>16233.000</td>\n",
       "      <td>0.0</td>\n",
       "      <td>850.0</td>\n",
       "      <td>smart</td>\n",
       "    </tr>\n",
       "    <tr>\n",
       "      <th>2</th>\n",
       "      <td>1002</td>\n",
       "      <td>214.0</td>\n",
       "      <td>17580.100</td>\n",
       "      <td>11.0</td>\n",
       "      <td>1150.0</td>\n",
       "      <td>smart</td>\n",
       "    </tr>\n",
       "    <tr>\n",
       "      <th>5</th>\n",
       "      <td>1005</td>\n",
       "      <td>593.5</td>\n",
       "      <td>7833.230</td>\n",
       "      <td>49.0</td>\n",
       "      <td>836.5</td>\n",
       "      <td>smart</td>\n",
       "    </tr>\n",
       "    <tr>\n",
       "      <th>6</th>\n",
       "      <td>1006</td>\n",
       "      <td>356.0</td>\n",
       "      <td>15521.530</td>\n",
       "      <td>0.0</td>\n",
       "      <td>750.0</td>\n",
       "      <td>smart</td>\n",
       "    </tr>\n",
       "    <tr>\n",
       "      <th>7</th>\n",
       "      <td>1007</td>\n",
       "      <td>480.0</td>\n",
       "      <td>14427.330</td>\n",
       "      <td>26.0</td>\n",
       "      <td>981.0</td>\n",
       "      <td>smart</td>\n",
       "    </tr>\n",
       "    <tr>\n",
       "      <th>...</th>\n",
       "      <td>...</td>\n",
       "      <td>...</td>\n",
       "      <td>...</td>\n",
       "      <td>...</td>\n",
       "      <td>...</td>\n",
       "      <td>...</td>\n",
       "    </tr>\n",
       "    <tr>\n",
       "      <th>492</th>\n",
       "      <td>1494</td>\n",
       "      <td>411.0</td>\n",
       "      <td>17621.210</td>\n",
       "      <td>0.0</td>\n",
       "      <td>1150.0</td>\n",
       "      <td>smart</td>\n",
       "    </tr>\n",
       "    <tr>\n",
       "      <th>494</th>\n",
       "      <td>1496</td>\n",
       "      <td>524.0</td>\n",
       "      <td>24037.255</td>\n",
       "      <td>41.5</td>\n",
       "      <td>2473.0</td>\n",
       "      <td>smart</td>\n",
       "    </tr>\n",
       "    <tr>\n",
       "      <th>495</th>\n",
       "      <td>1497</td>\n",
       "      <td>490.0</td>\n",
       "      <td>14156.080</td>\n",
       "      <td>17.0</td>\n",
       "      <td>550.0</td>\n",
       "      <td>smart</td>\n",
       "    </tr>\n",
       "    <tr>\n",
       "      <th>496</th>\n",
       "      <td>1498</td>\n",
       "      <td>323.5</td>\n",
       "      <td>21356.885</td>\n",
       "      <td>43.0</td>\n",
       "      <td>1850.0</td>\n",
       "      <td>smart</td>\n",
       "    </tr>\n",
       "    <tr>\n",
       "      <th>497</th>\n",
       "      <td>1499</td>\n",
       "      <td>470.5</td>\n",
       "      <td>15422.045</td>\n",
       "      <td>53.5</td>\n",
       "      <td>874.0</td>\n",
       "      <td>smart</td>\n",
       "    </tr>\n",
       "  </tbody>\n",
       "</table>\n",
       "<p>350 rows × 6 columns</p>\n",
       "</div>"
      ],
      "text/plain": [
       "     user_id  duration         mb  num_messages  revenue tariff\n",
       "1       1001     422.0  16233.000           0.0    850.0  smart\n",
       "2       1002     214.0  17580.100          11.0   1150.0  smart\n",
       "5       1005     593.5   7833.230          49.0    836.5  smart\n",
       "6       1006     356.0  15521.530           0.0    750.0  smart\n",
       "7       1007     480.0  14427.330          26.0    981.0  smart\n",
       "..       ...       ...        ...           ...      ...    ...\n",
       "492     1494     411.0  17621.210           0.0   1150.0  smart\n",
       "494     1496     524.0  24037.255          41.5   2473.0  smart\n",
       "495     1497     490.0  14156.080          17.0    550.0  smart\n",
       "496     1498     323.5  21356.885          43.0   1850.0  smart\n",
       "497     1499     470.5  15422.045          53.5    874.0  smart\n",
       "\n",
       "[350 rows x 6 columns]"
      ]
     },
     "execution_count": 35,
     "metadata": {},
     "output_type": "execute_result"
    }
   ],
   "source": [
    "smart"
   ]
  },
  {
   "cell_type": "code",
   "execution_count": 36,
   "metadata": {},
   "outputs": [
    {
     "name": "stderr",
     "output_type": "stream",
     "text": [
      "/opt/conda/lib/python3.9/site-packages/seaborn/distributions.py:2557: FutureWarning: `distplot` is a deprecated function and will be removed in a future version. Please adapt your code to use either `displot` (a figure-level function with similar flexibility) or `histplot` (an axes-level function for histograms).\n",
      "  warnings.warn(msg, FutureWarning)\n"
     ]
    },
    {
     "data": {
      "text/plain": [
       "Text(0.5, 1.0, 'Гистограмма интернет траффика')"
      ]
     },
     "execution_count": 36,
     "metadata": {},
     "output_type": "execute_result"
    },
    {
     "data": {
      "image/png": "[encoded data removed]",
      "text/plain": [
       "<Figure size 432x288 with 1 Axes>"
      ]
     },
     "metadata": {
      "needs_background": "light"
     },
     "output_type": "display_data"
    }
   ],
   "source": [
    "smart = average_demand.query(\"tariff == 'smart'\")\n",
    "ultra = average_demand.query(\"tariff == 'ultra'\")\n",
    "sns.distplot(smart['mb'], kde=False)\n",
    "sns.distplot(ultra['mb'], kde=False)\n",
    "plt.legend(['smart', 'ultra'])\n",
    "plt.xlabel('количество мегабайт')\n",
    "plt.ylabel('количество пользователей')\n",
    "plt.title('Гистограмма интернет траффика')"
   ]
  },
  {
   "cell_type": "code",
   "execution_count": 37,
   "metadata": {},
   "outputs": [
    {
     "data": {
      "text/plain": [
       "Text(0.5, 1.0, 'Гистограмма сообщений')"
      ]
     },
     "execution_count": 37,
     "metadata": {},
     "output_type": "execute_result"
    },
    {
     "data": {
      "image/png": "[encoded data removed]",
      "text/plain": [
       "<Figure size 432x288 with 1 Axes>"
      ]
     },
     "metadata": {
      "needs_background": "light"
     },
     "output_type": "display_data"
    }
   ],
   "source": [
    "smart = average_demand.query(\"tariff == 'smart'\")\n",
    "ultra = average_demand.query(\"tariff == 'ultra'\")\n",
    "sns.distplot(smart['num_messages'], kde=False)\n",
    "sns.distplot(ultra['num_messages'], kde=False)\n",
    "plt.legend(['smart', 'ultra'])\n",
    "plt.xlabel('количество сообщений')\n",
    "plt.ylabel('количество пользователей')\n",
    "plt.title('Гистограмма сообщений')"
   ]
  },
  {
   "cell_type": "markdown",
   "metadata": {},
   "source": [
    "<s><div class=\"alert alert-block alert-danger\">\n",
    "<b> ❌ Нужно исправить:</b> Все гистограммы построены отлично! И кстати оформлены тоже хорошо) Давай еще построим гистограммы по выручке? Перспективный тариф - это ключевой вопрос исследования. А без анализа денег, на него будет сложно ответить)\n",
    "</div>"
   ]
  },
  {
   "cell_type": "markdown",
   "metadata": {},
   "source": [
    "<div class=\"alert alert-block alert-info\">\n",
    "<b>Комментарий студента </b> \n",
    "Добавил гистограмму потраченных денег клиентами для сравниваемых тарифов.\n",
    "</div>"
   ]
  },
  {
   "cell_type": "code",
   "execution_count": 44,
   "metadata": {},
   "outputs": [
    {
     "data": {
      "text/plain": [
       "Text(0.5, 1.0, 'Гистограмма выручки')"
      ]
     },
     "execution_count": 44,
     "metadata": {},
     "output_type": "execute_result"
    },
    {
     "data": {
      "image/png": "[encoded data removed]",
      "text/plain": [
       "<Figure size 432x288 with 1 Axes>"
      ]
     },
     "metadata": {
      "needs_background": "light"
     },
     "output_type": "display_data"
    }
   ],
   "source": [
    "smart = average_demand.query(\"tariff == 'smart'\")\n",
    "ultra = average_demand.query(\"tariff == 'ultra'\")\n",
    "sns.distplot(smart['revenue'], kde=False)\n",
    "sns.distplot(ultra['revenue'], kde=False)\n",
    "plt.legend(['smart', 'ultra'])\n",
    "plt.xlabel('количество потраченых денег')\n",
    "plt.ylabel('количество пользователей')\n",
    "plt.title('Гистограмма выручки')"
   ]
  },
  {
   "cell_type": "markdown",
   "metadata": {},
   "source": [
    "<div style=\"border: 3px solid green; padding: 15px\"><font color='green' size=5 ><b>Комментарий ревьюера v2</b></font> \n",
    "\n",
    "Принимается)</div>\n"
   ]
  },
  {
   "cell_type": "markdown",
   "metadata": {},
   "source": [
    "### Выводы"
   ]
  },
  {
   "cell_type": "markdown",
   "metadata": {},
   "source": [
    "Проанализировав построенные гистограммы можно сказать, что дисперсия на тарифе \"Ультра\" больше, чем у пользователей с тарифом \"Смарт\". Пользователи тарифа Смарт явно себя ограничивают, что достаточно логично, они пытаются сэкономить на связи и поэтому используют услуги не в полном объеме, что бы не доплачивать за них.\n",
    "\n"
   ]
  },
  {
   "cell_type": "markdown",
   "metadata": {},
   "source": [
    "<div class=\"alert alert-block alert-warning\">\n",
    "<b> ⚠️ Совет: </b> лучше сравнивать медианные или средние продажи. Потому, что дисперсия это не лучший показатель) Она покажет разброс вокруг среднего да еще к тому же в безразмерных величинах)\n",
    "</div>"
   ]
  },
  {
   "cell_type": "markdown",
   "metadata": {},
   "source": [
    "## Шаг 4. Проверка гипотезы"
   ]
  },
  {
   "cell_type": "markdown",
   "metadata": {},
   "source": [
    "### Cредняя выручка пользователей тарифов «Ультра» и «Смарт» различаются"
   ]
  },
  {
   "cell_type": "markdown",
   "metadata": {},
   "source": [
    "Формирование гипотез:\n",
    "\n",
    "H0 — Средняя выручка пользователей тарифов \"Ультра\" и \"Смарт\" равна\n",
    "\n",
    "H1 — Средняя выручка пользователей тарифов \"Ультра\" и \"Смарт\" различается\n",
    "\n",
    "Критический уровень статистической значимости 5%, можно брать и меньше, но есть риск отбросить работающую гипотезу."
   ]
  },
  {
   "cell_type": "code",
   "execution_count": 38,
   "metadata": {},
   "outputs": [
    {
     "name": "stdout",
     "output_type": "stream",
     "text": [
      "p-значение: 1.1997155657827758e-30\n",
      "Отвергаем нулевую гипотезу\n"
     ]
    }
   ],
   "source": [
    "alpha = 0.05 \n",
    "results = st.ttest_ind(\n",
    "    smart['revenue'], \n",
    "    ultra['revenue'])\n",
    "\n",
    "print('p-значение:', results.pvalue)\n",
    "\n",
    "if (results.pvalue < alpha):\n",
    "    print(\"Отвергаем нулевую гипотезу\")\n",
    "else:\n",
    "    print(\"Не получилось отвергнуть нулевую гипотезу\")"
   ]
  },
  {
   "cell_type": "markdown",
   "metadata": {},
   "source": [
    "### Выводы "
   ]
  },
  {
   "cell_type": "markdown",
   "metadata": {},
   "source": [
    "Вероятность очень мала (з-значение), поэтому гипотеза H0 не подтвердилась. В связи с этим принимается альтернативная гипотеза о том, что средняя выручка пользователей тарифов «Ультра» и «Смарт» различаются."
   ]
  },
  {
   "cell_type": "markdown",
   "metadata": {},
   "source": [
    "<s><div class=\"alert alert-block alert-danger\">\n",
    "<b> ❌ Нужно исправить:</b>  Давай здесь попробуем правильно сформулировать результы проверки гипотезы. Нужен какой то заключающий вывод: принимаем или нет гипотезу?  И будь внимателен даже если наша нулевая гипотеза не потдвердилась, мы не можем говорить о том, что выручки различаются. Мы должны говорить напиример: принимается альтернативная гипотеза о том, что средние выручки различны. Или например так: \"p-значение достаточно мало, что дает основание отвергнуть предположение об отсутствии различий между выручками у разных тарифных планов\" \n",
    "    \n",
    "   Статистика сурова и беспощадна)) В ней нельзя  однозачно утверждать)\n",
    "   \n",
    "</div>"
   ]
  },
  {
   "cell_type": "markdown",
   "metadata": {},
   "source": [
    "<div class=\"alert alert-block alert-info\">\n",
    "<b>Комментарий студента </b> \n",
    "Вывод изменил.\n",
    "</div>"
   ]
  },
  {
   "cell_type": "markdown",
   "metadata": {},
   "source": [
    "### Cредняя выручка пользователей из Москвы отличается от выручки пользователей из других регионов"
   ]
  },
  {
   "cell_type": "markdown",
   "metadata": {},
   "source": [
    "H0 — средняя выручка пользователей из Москвы равна средней выручке пользователей из других регионов.\n",
    "\n",
    "H1 — средняя выручка пользователей из Москвы отличается от средней выручке пользователей из других регионов.\n",
    "\n",
    "Критический уровень статистической значимости 5%"
   ]
  },
  {
   "cell_type": "code",
   "execution_count": 39,
   "metadata": {},
   "outputs": [],
   "source": [
    "average_demand = average_demand.merge(users[['user_id', 'city',]], on='user_id', how='left')"
   ]
  },
  {
   "cell_type": "code",
   "execution_count": 40,
   "metadata": {},
   "outputs": [],
   "source": [
    "moscow = average_demand.query('city == \"Москва\"')['revenue']\n",
    "regions = average_demand.query('city != \"Москва\"')['revenue']"
   ]
  },
  {
   "cell_type": "code",
   "execution_count": 41,
   "metadata": {},
   "outputs": [
    {
     "name": "stdout",
     "output_type": "stream",
     "text": [
      "p-значение: 0.3235977865687646\n",
      "Не получилось отвергнуть нулевую гипотезу\n"
     ]
    }
   ],
   "source": [
    "alpha = 0.05 \n",
    "results = st.ttest_ind(moscow, regions)\n",
    "\n",
    "print('p-значение:', results.pvalue)\n",
    "\n",
    "if (results.pvalue < alpha):\n",
    "    print(\"Отвергаем нулевую гипотезу\")\n",
    "else:\n",
    "    print(\"Не получилось отвергнуть нулевую гипотезу\")"
   ]
  },
  {
   "cell_type": "markdown",
   "metadata": {},
   "source": [
    "### Выводы"
   ]
  },
  {
   "cell_type": "markdown",
   "metadata": {},
   "source": [
    "Вероятность составляет чуть более 32% -  нулеву гипотезу отвергнуть не получилось, что не дает основание отвергнуть предположение, что средняя выручка из Москвы не отличается от выручки из других регионов."
   ]
  },
  {
   "cell_type": "markdown",
   "metadata": {},
   "source": [
    "<s><div class=\"alert alert-block alert-danger\">\n",
    "<b> ❌ Нужно исправить:</b>  Здесь тоже самое) нельзя однозначно утвержать) Гипотеза может приняться или отклониться. Только так)\n",
    "   \n",
    "</div>"
   ]
  },
  {
   "cell_type": "markdown",
   "metadata": {},
   "source": [
    "<div style=\"border: 3px solid green; padding: 15px\"><font color='green' size=5 ><b>Комментарий ревьюера v2</b></font> \n",
    "По обоим пунктам ОК</div>\n"
   ]
  },
  {
   "cell_type": "markdown",
   "metadata": {},
   "source": [
    "<div class=\"alert alert-block alert-info\">\n",
    "<b>Комментарий студента </b> \n",
    "Вывод изменил.\n",
    "</div>"
   ]
  },
  {
   "cell_type": "code",
   "execution_count": 42,
   "metadata": {},
   "outputs": [
    {
     "data": {
      "text/plain": [
       "smart    351\n",
       "ultra    149\n",
       "Name: tariff, dtype: int64"
      ]
     },
     "execution_count": 42,
     "metadata": {},
     "output_type": "execute_result"
    }
   ],
   "source": [
    "users['tariff'].value_counts() # посчитаем количетво пользователей для каждого тарифа"
   ]
  },
  {
   "cell_type": "markdown",
   "metadata": {},
   "source": [
    "## Общие выводы по работе"
   ]
  },
  {
   "cell_type": "markdown",
   "metadata": {},
   "source": [
    "По результатам статистического анализа для оператора доходы от тарифа «Ультра»(2062р.) больше, чем от тарифа «Смарт»(1329р.)\n",
    "- Судя по гистограммам не все пользователи тарифа «Ультра» выробатывают весь доступный лимит.\n",
    "- Колличество пользователей тарифа «Смарт» больше в 2 раза, что можно объяснить более выгодными условиями, люди пытаютя сэкономить, поэтому чм ниже цена, тем больше пользователей\n",
    "- Доплат по тарифу «Ультра» очень мало. В тарифе «Смарт» часто доплачивают за дополнительные пакеты гигобайт\n",
    "- Средние доходы от пользователей в Москве не отличаются от доходов в других населенных пунктах\n",
    "\n",
    "Отвечая на вопрос какой тариф лучше для оператора, это тариф Ультра."
   ]
  },
  {
   "cell_type": "markdown",
   "metadata": {},
   "source": [
    "<div class=\"alert alert-block alert-success\">\n",
    "<b> 👍 Успех:</b> Спасибо за итоговый вывод! Такие выводы очень важны в исследованиях. И главное ты ответил на центральный вопрос исследования)\n",
    "</div>"
   ]
  },
  {
   "cell_type": "markdown",
   "metadata": {},
   "source": [
    "## <font color='red'>Итоговый комментарий</font> \n",
    "\n",
    "Спасибо за качественный проект! Мне понравился твой код и твои выводы. Твоя работа очень аккуратно оформлена\n",
    "Ты здорово умеешь строить графики и понимаешь как в цикле строить однотипные графики. \n",
    "Но в работе есть ряд моментов которые необходимо поправить. Их я подсветил красным. Давай посмотрим самое важное:\n",
    "* Пересмотреть некоторые формулировки\n",
    "* Посмотреть на функцию расчета выручки\n",
    "* Не трогать в начале мегабайты)\n",
    "---\n",
    "Желтые комментарии необязательно исправлять. Это советы на будущее. \n",
    "\n",
    "---\n",
    "Если у тебя возникнут вопросы в ходе исправлений - смело пиши)\n",
    "Исправляй замечания и отправляй на проверку. Жду!)"
   ]
  },
  {
   "cell_type": "markdown",
   "metadata": {},
   "source": [
    "<div class=\"alert alert-block alert-info\">\n",
    "<b>Спасибо, все замечания учел и запонил, в дальнейшем буду их использовать.</b>\n",
    "</div>\n"
   ]
  },
  {
   "cell_type": "markdown",
   "metadata": {},
   "source": [
    "## <font color='red'>Итоговый комментарий 2 </font> \n",
    "\n",
    "Спасибо за доработки! Принимаю твой проект) Поздравляю и желаю успехов в обучении!)"
   ]
  },
  {
   "cell_type": "code",
   "execution_count": null,
   "metadata": {},
   "outputs": [],
   "source": []
  }
 ],
 "metadata": {
  "ExecuteTimeLog": [
   {
    "duration": 1119,
    "start_time": "2022-03-16T08:32:51.892Z"
   },
   {
    "duration": 391,
    "start_time": "2022-03-16T08:32:53.013Z"
   },
   {
    "duration": 2,
    "start_time": "2022-03-16T08:33:53.630Z"
   },
   {
    "duration": 425,
    "start_time": "2022-03-16T08:33:53.634Z"
   },
   {
    "duration": 3,
    "start_time": "2022-03-16T08:34:18.841Z"
   },
   {
    "duration": 414,
    "start_time": "2022-03-16T08:34:19.419Z"
   },
   {
    "duration": 20,
    "start_time": "2022-03-16T08:38:12.083Z"
   },
   {
    "duration": 10,
    "start_time": "2022-03-16T08:38:40.998Z"
   },
   {
    "duration": 34,
    "start_time": "2022-03-16T08:39:46.846Z"
   },
   {
    "duration": 19,
    "start_time": "2022-03-16T08:47:49.798Z"
   },
   {
    "duration": 9,
    "start_time": "2022-03-16T08:51:02.005Z"
   },
   {
    "duration": 19,
    "start_time": "2022-03-16T08:51:05.571Z"
   },
   {
    "duration": 50,
    "start_time": "2022-03-16T08:52:48.773Z"
   },
   {
    "duration": 29,
    "start_time": "2022-03-16T08:53:28.873Z"
   },
   {
    "duration": 26,
    "start_time": "2022-03-16T08:56:01.122Z"
   },
   {
    "duration": 8,
    "start_time": "2022-03-16T08:59:24.205Z"
   },
   {
    "duration": 16,
    "start_time": "2022-03-16T08:59:42.739Z"
   },
   {
    "duration": 140,
    "start_time": "2022-03-16T09:02:54.800Z"
   },
   {
    "duration": 422,
    "start_time": "2022-03-16T09:03:34.512Z"
   },
   {
    "duration": 17,
    "start_time": "2022-03-16T09:04:00.107Z"
   },
   {
    "duration": 25,
    "start_time": "2022-03-16T09:19:51.301Z"
   },
   {
    "duration": 3,
    "start_time": "2022-03-16T09:19:56.038Z"
   },
   {
    "duration": 394,
    "start_time": "2022-03-16T09:19:58.153Z"
   },
   {
    "duration": 8,
    "start_time": "2022-03-16T09:20:00.868Z"
   },
   {
    "duration": 20,
    "start_time": "2022-03-16T09:20:04.947Z"
   },
   {
    "duration": 44,
    "start_time": "2022-03-16T09:20:08.269Z"
   },
   {
    "duration": 8,
    "start_time": "2022-03-16T09:20:10.539Z"
   },
   {
    "duration": 15,
    "start_time": "2022-03-16T09:20:11.207Z"
   },
   {
    "duration": 40,
    "start_time": "2022-03-16T09:20:14.837Z"
   },
   {
    "duration": 323,
    "start_time": "2022-03-16T09:20:34.419Z"
   },
   {
    "duration": 7,
    "start_time": "2022-03-16T09:20:44.477Z"
   },
   {
    "duration": 13,
    "start_time": "2022-03-16T09:21:10.396Z"
   },
   {
    "duration": 29,
    "start_time": "2022-03-16T09:21:55.801Z"
   },
   {
    "duration": 7,
    "start_time": "2022-03-16T09:22:36.861Z"
   },
   {
    "duration": 9,
    "start_time": "2022-03-16T09:22:46.040Z"
   },
   {
    "duration": 6,
    "start_time": "2022-03-16T09:23:05.472Z"
   },
   {
    "duration": 10,
    "start_time": "2022-03-16T09:24:17.811Z"
   },
   {
    "duration": 6,
    "start_time": "2022-03-16T09:24:52.489Z"
   },
   {
    "duration": 6,
    "start_time": "2022-03-16T09:28:48.371Z"
   },
   {
    "duration": 70,
    "start_time": "2022-03-16T10:13:38.764Z"
   },
   {
    "duration": 23,
    "start_time": "2022-03-16T10:13:53.492Z"
   },
   {
    "duration": 35,
    "start_time": "2022-03-16T10:14:47.460Z"
   },
   {
    "duration": 11,
    "start_time": "2022-03-16T10:15:05.062Z"
   },
   {
    "duration": 12,
    "start_time": "2022-03-16T10:15:24.599Z"
   },
   {
    "duration": 24,
    "start_time": "2022-03-16T10:17:50.381Z"
   },
   {
    "duration": 14,
    "start_time": "2022-03-16T10:18:02.011Z"
   },
   {
    "duration": 31,
    "start_time": "2022-03-16T10:20:28.929Z"
   },
   {
    "duration": 21,
    "start_time": "2022-03-16T10:21:29.478Z"
   },
   {
    "duration": 9,
    "start_time": "2022-03-16T10:22:06.134Z"
   },
   {
    "duration": 11,
    "start_time": "2022-03-16T10:22:17.198Z"
   },
   {
    "duration": 10,
    "start_time": "2022-03-16T10:26:33.264Z"
   },
   {
    "duration": 322,
    "start_time": "2022-03-16T10:27:18.133Z"
   },
   {
    "duration": 341,
    "start_time": "2022-03-16T10:28:45.302Z"
   },
   {
    "duration": 11,
    "start_time": "2022-03-16T10:33:01.060Z"
   },
   {
    "duration": 16,
    "start_time": "2022-03-16T10:33:16.441Z"
   },
   {
    "duration": 21,
    "start_time": "2022-03-16T10:37:15.066Z"
   },
   {
    "duration": 17,
    "start_time": "2022-03-16T10:39:02.206Z"
   },
   {
    "duration": 20,
    "start_time": "2022-03-16T10:39:26.562Z"
   },
   {
    "duration": 15,
    "start_time": "2022-03-16T10:40:35.458Z"
   },
   {
    "duration": 21,
    "start_time": "2022-03-16T10:40:52.742Z"
   },
   {
    "duration": 19,
    "start_time": "2022-03-16T10:41:44.696Z"
   },
   {
    "duration": 18,
    "start_time": "2022-03-16T10:41:56.119Z"
   },
   {
    "duration": 32,
    "start_time": "2022-03-16T10:55:31.988Z"
   },
   {
    "duration": 31,
    "start_time": "2022-03-16T10:56:00.510Z"
   },
   {
    "duration": 891,
    "start_time": "2022-03-16T10:57:31.703Z"
   },
   {
    "duration": 14,
    "start_time": "2022-03-16T10:58:40.178Z"
   },
   {
    "duration": 345,
    "start_time": "2022-03-16T11:07:28.756Z"
   },
   {
    "duration": 3,
    "start_time": "2022-03-16T11:07:57.533Z"
   },
   {
    "duration": 478,
    "start_time": "2022-03-16T11:07:57.539Z"
   },
   {
    "duration": 9,
    "start_time": "2022-03-16T11:07:58.019Z"
   },
   {
    "duration": 20,
    "start_time": "2022-03-16T11:07:58.029Z"
   },
   {
    "duration": 51,
    "start_time": "2022-03-16T11:07:58.050Z"
   },
   {
    "duration": 9,
    "start_time": "2022-03-16T11:07:58.102Z"
   },
   {
    "duration": 18,
    "start_time": "2022-03-16T11:07:58.113Z"
   },
   {
    "duration": 57,
    "start_time": "2022-03-16T11:07:58.133Z"
   },
   {
    "duration": 8,
    "start_time": "2022-03-16T11:07:58.195Z"
   },
   {
    "duration": 14,
    "start_time": "2022-03-16T11:07:58.206Z"
   },
   {
    "duration": 27,
    "start_time": "2022-03-16T11:07:58.222Z"
   },
   {
    "duration": 37,
    "start_time": "2022-03-16T11:07:58.251Z"
   },
   {
    "duration": 8,
    "start_time": "2022-03-16T11:07:58.295Z"
   },
   {
    "duration": 14,
    "start_time": "2022-03-16T11:07:58.304Z"
   },
   {
    "duration": 9,
    "start_time": "2022-03-16T11:07:58.319Z"
   },
   {
    "duration": 6,
    "start_time": "2022-03-16T11:07:58.330Z"
   },
   {
    "duration": 88,
    "start_time": "2022-03-16T11:07:58.338Z"
   },
   {
    "duration": 11,
    "start_time": "2022-03-16T11:07:58.428Z"
   },
   {
    "duration": 24,
    "start_time": "2022-03-16T11:07:58.441Z"
   },
   {
    "duration": 15,
    "start_time": "2022-03-16T11:07:58.466Z"
   },
   {
    "duration": 30,
    "start_time": "2022-03-16T11:07:58.482Z"
   },
   {
    "duration": 12,
    "start_time": "2022-03-16T11:07:58.513Z"
   },
   {
    "duration": 28,
    "start_time": "2022-03-16T11:07:58.526Z"
   },
   {
    "duration": 26,
    "start_time": "2022-03-16T11:07:58.555Z"
   },
   {
    "duration": 12,
    "start_time": "2022-03-16T11:07:58.584Z"
   },
   {
    "duration": 336,
    "start_time": "2022-03-16T11:07:58.599Z"
   },
   {
    "duration": 9,
    "start_time": "2022-03-16T11:07:58.938Z"
   },
   {
    "duration": 38,
    "start_time": "2022-03-16T11:07:58.949Z"
   },
   {
    "duration": 27,
    "start_time": "2022-03-16T11:07:58.989Z"
   },
   {
    "duration": 28,
    "start_time": "2022-03-16T11:07:59.017Z"
   },
   {
    "duration": 963,
    "start_time": "2022-03-16T11:07:59.047Z"
   },
   {
    "duration": 13,
    "start_time": "2022-03-16T11:08:00.012Z"
   },
   {
    "duration": 317,
    "start_time": "2022-03-16T11:08:00.027Z"
   },
   {
    "duration": 229,
    "start_time": "2022-03-16T11:08:27.006Z"
   },
   {
    "duration": 11,
    "start_time": "2022-03-16T11:11:29.113Z"
   },
   {
    "duration": 302,
    "start_time": "2022-03-16T11:11:48.225Z"
   },
   {
    "duration": 254,
    "start_time": "2022-03-16T11:12:16.424Z"
   },
   {
    "duration": 264,
    "start_time": "2022-03-16T11:13:15.878Z"
   },
   {
    "duration": 218,
    "start_time": "2022-03-16T11:13:47.763Z"
   },
   {
    "duration": 852,
    "start_time": "2022-03-16T11:23:17.621Z"
   },
   {
    "duration": 29,
    "start_time": "2022-03-16T11:28:40.722Z"
   },
   {
    "duration": 31,
    "start_time": "2022-03-16T11:28:58.096Z"
   },
   {
    "duration": 1614,
    "start_time": "2022-03-16T12:45:50.820Z"
   },
   {
    "duration": 568,
    "start_time": "2022-03-16T12:45:52.437Z"
   },
   {
    "duration": 19,
    "start_time": "2022-03-16T12:45:53.008Z"
   },
   {
    "duration": 39,
    "start_time": "2022-03-16T12:45:53.030Z"
   },
   {
    "duration": 98,
    "start_time": "2022-03-16T12:45:53.072Z"
   },
   {
    "duration": 14,
    "start_time": "2022-03-16T12:45:53.173Z"
   },
   {
    "duration": 26,
    "start_time": "2022-03-16T12:45:53.190Z"
   },
   {
    "duration": 96,
    "start_time": "2022-03-16T12:45:53.220Z"
   },
   {
    "duration": 23,
    "start_time": "2022-03-16T12:45:53.319Z"
   },
   {
    "duration": 25,
    "start_time": "2022-03-16T12:45:53.346Z"
   },
   {
    "duration": 75,
    "start_time": "2022-03-16T12:45:53.373Z"
   },
   {
    "duration": 14,
    "start_time": "2022-03-16T12:45:53.451Z"
   },
   {
    "duration": 9,
    "start_time": "2022-03-16T12:45:53.468Z"
   },
   {
    "duration": 18,
    "start_time": "2022-03-16T12:45:53.479Z"
   },
   {
    "duration": 8,
    "start_time": "2022-03-16T12:45:53.499Z"
   },
   {
    "duration": 13,
    "start_time": "2022-03-16T12:45:53.545Z"
   },
   {
    "duration": 100,
    "start_time": "2022-03-16T12:45:53.560Z"
   },
   {
    "duration": 19,
    "start_time": "2022-03-16T12:45:53.662Z"
   },
   {
    "duration": 59,
    "start_time": "2022-03-16T12:45:53.684Z"
   },
   {
    "duration": 21,
    "start_time": "2022-03-16T12:45:53.747Z"
   },
   {
    "duration": 30,
    "start_time": "2022-03-16T12:45:53.770Z"
   },
   {
    "duration": 46,
    "start_time": "2022-03-16T12:45:53.802Z"
   },
   {
    "duration": 40,
    "start_time": "2022-03-16T12:45:53.855Z"
   },
   {
    "duration": 21,
    "start_time": "2022-03-16T12:45:53.899Z"
   },
   {
    "duration": 17,
    "start_time": "2022-03-16T12:45:53.944Z"
   },
   {
    "duration": 670,
    "start_time": "2022-03-16T12:45:53.963Z"
   },
   {
    "duration": 20,
    "start_time": "2022-03-16T12:45:54.643Z"
   },
   {
    "duration": 25,
    "start_time": "2022-03-16T12:45:54.666Z"
   },
   {
    "duration": 62,
    "start_time": "2022-03-16T12:45:54.693Z"
   },
   {
    "duration": 52,
    "start_time": "2022-03-16T12:45:54.758Z"
   },
   {
    "duration": 46,
    "start_time": "2022-03-16T12:45:54.813Z"
   },
   {
    "duration": 440,
    "start_time": "2022-03-16T12:45:54.861Z"
   },
   {
    "duration": 17,
    "start_time": "2022-03-16T12:45:55.303Z"
   },
   {
    "duration": 477,
    "start_time": "2022-03-16T12:45:55.323Z"
   },
   {
    "duration": 526,
    "start_time": "2022-03-16T12:45:55.803Z"
   },
   {
    "duration": 1410,
    "start_time": "2022-03-16T12:46:44.061Z"
   },
   {
    "duration": 8,
    "start_time": "2022-03-16T14:21:30.143Z"
   },
   {
    "duration": 11,
    "start_time": "2022-03-16T14:25:29.899Z"
   },
   {
    "duration": 11,
    "start_time": "2022-03-16T14:25:38.535Z"
   },
   {
    "duration": 6,
    "start_time": "2022-03-16T14:25:49.736Z"
   },
   {
    "duration": 8,
    "start_time": "2022-03-16T14:28:30.527Z"
   },
   {
    "duration": 1325,
    "start_time": "2022-03-27T09:15:19.481Z"
   },
   {
    "duration": 372,
    "start_time": "2022-03-27T09:15:20.808Z"
   },
   {
    "duration": 13,
    "start_time": "2022-03-27T09:15:21.182Z"
   },
   {
    "duration": 25,
    "start_time": "2022-03-27T09:15:21.197Z"
   },
   {
    "duration": 57,
    "start_time": "2022-03-27T09:15:21.224Z"
   },
   {
    "duration": 10,
    "start_time": "2022-03-27T09:15:21.282Z"
   },
   {
    "duration": 31,
    "start_time": "2022-03-27T09:15:21.293Z"
   },
   {
    "duration": 45,
    "start_time": "2022-03-27T09:15:21.326Z"
   },
   {
    "duration": 32,
    "start_time": "2022-03-27T09:15:24.987Z"
   },
   {
    "duration": 5,
    "start_time": "2022-03-27T09:15:33.361Z"
   },
   {
    "duration": 8,
    "start_time": "2022-03-27T09:17:22.262Z"
   },
   {
    "duration": 19,
    "start_time": "2022-03-27T09:17:23.202Z"
   },
   {
    "duration": 33,
    "start_time": "2022-03-27T09:17:24.754Z"
   },
   {
    "duration": 54,
    "start_time": "2022-03-27T09:18:11.280Z"
   },
   {
    "duration": 15,
    "start_time": "2022-03-27T09:18:11.912Z"
   },
   {
    "duration": 28,
    "start_time": "2022-03-27T09:18:18.244Z"
   },
   {
    "duration": 12,
    "start_time": "2022-03-27T09:18:18.986Z"
   },
   {
    "duration": 29,
    "start_time": "2022-03-27T09:18:20.678Z"
   },
   {
    "duration": 13,
    "start_time": "2022-03-27T09:18:23.039Z"
   },
   {
    "duration": 21,
    "start_time": "2022-03-27T09:18:51.523Z"
   },
   {
    "duration": 16,
    "start_time": "2022-03-27T09:18:55.046Z"
   },
   {
    "duration": 18,
    "start_time": "2022-03-27T09:19:06.158Z"
   },
   {
    "duration": 1126,
    "start_time": "2022-03-27T09:24:33.826Z"
   },
   {
    "duration": 370,
    "start_time": "2022-03-27T09:24:34.954Z"
   },
   {
    "duration": 12,
    "start_time": "2022-03-27T09:24:35.326Z"
   },
   {
    "duration": 33,
    "start_time": "2022-03-27T09:24:35.340Z"
   },
   {
    "duration": 55,
    "start_time": "2022-03-27T09:24:35.375Z"
   },
   {
    "duration": 9,
    "start_time": "2022-03-27T09:24:35.432Z"
   },
   {
    "duration": 26,
    "start_time": "2022-03-27T09:24:35.443Z"
   },
   {
    "duration": 56,
    "start_time": "2022-03-27T09:24:35.471Z"
   },
   {
    "duration": 8,
    "start_time": "2022-03-27T09:24:35.528Z"
   },
   {
    "duration": 19,
    "start_time": "2022-03-27T09:24:35.537Z"
   },
   {
    "duration": 29,
    "start_time": "2022-03-27T09:24:35.558Z"
   },
   {
    "duration": 25,
    "start_time": "2022-03-27T09:24:35.589Z"
   },
   {
    "duration": 13,
    "start_time": "2022-03-27T09:24:35.615Z"
   },
   {
    "duration": 13,
    "start_time": "2022-03-27T09:24:35.630Z"
   },
   {
    "duration": 20,
    "start_time": "2022-03-27T09:24:35.644Z"
   },
   {
    "duration": 10,
    "start_time": "2022-03-27T09:24:35.666Z"
   },
   {
    "duration": 67,
    "start_time": "2022-03-27T09:24:35.677Z"
   },
   {
    "duration": 13,
    "start_time": "2022-03-27T09:24:35.745Z"
   },
   {
    "duration": 34,
    "start_time": "2022-03-27T09:24:35.760Z"
   },
   {
    "duration": 21,
    "start_time": "2022-03-27T09:24:35.795Z"
   },
   {
    "duration": 23,
    "start_time": "2022-03-27T09:24:35.818Z"
   },
   {
    "duration": 12,
    "start_time": "2022-03-27T09:24:35.842Z"
   },
   {
    "duration": 21,
    "start_time": "2022-03-27T09:24:35.856Z"
   },
   {
    "duration": 34,
    "start_time": "2022-03-27T09:24:35.879Z"
   },
   {
    "duration": 7,
    "start_time": "2022-03-27T09:24:41.210Z"
   },
   {
    "duration": 6,
    "start_time": "2022-03-27T09:25:02.705Z"
   },
   {
    "duration": 250,
    "start_time": "2022-03-27T09:25:05.636Z"
   },
   {
    "duration": 10,
    "start_time": "2022-03-27T09:26:33.008Z"
   },
   {
    "duration": 18,
    "start_time": "2022-03-27T09:26:33.698Z"
   },
   {
    "duration": 20,
    "start_time": "2022-03-27T09:26:41.383Z"
   },
   {
    "duration": 33,
    "start_time": "2022-03-27T09:27:34.493Z"
   },
   {
    "duration": 18,
    "start_time": "2022-03-27T09:29:28.917Z"
   },
   {
    "duration": 229,
    "start_time": "2022-03-27T09:30:18.254Z"
   },
   {
    "duration": 21,
    "start_time": "2022-03-27T09:30:21.103Z"
   },
   {
    "duration": 278,
    "start_time": "2022-03-27T09:30:22.208Z"
   },
   {
    "duration": 198,
    "start_time": "2022-03-27T09:30:24.856Z"
   },
   {
    "duration": 1213,
    "start_time": "2022-03-27T09:40:03.756Z"
   },
   {
    "duration": 394,
    "start_time": "2022-03-27T09:40:04.970Z"
   },
   {
    "duration": 13,
    "start_time": "2022-03-27T09:40:05.366Z"
   },
   {
    "duration": 27,
    "start_time": "2022-03-27T09:40:05.382Z"
   },
   {
    "duration": 57,
    "start_time": "2022-03-27T09:40:05.411Z"
   },
   {
    "duration": 9,
    "start_time": "2022-03-27T09:40:05.470Z"
   },
   {
    "duration": 40,
    "start_time": "2022-03-27T09:40:05.481Z"
   },
   {
    "duration": 47,
    "start_time": "2022-03-27T09:40:05.523Z"
   },
   {
    "duration": 8,
    "start_time": "2022-03-27T09:40:05.571Z"
   },
   {
    "duration": 38,
    "start_time": "2022-03-27T09:40:05.582Z"
   },
   {
    "duration": 34,
    "start_time": "2022-03-27T09:40:05.621Z"
   },
   {
    "duration": 8,
    "start_time": "2022-03-27T09:40:05.657Z"
   },
   {
    "duration": 14,
    "start_time": "2022-03-27T09:40:05.666Z"
   },
   {
    "duration": 37,
    "start_time": "2022-03-27T09:40:05.681Z"
   },
   {
    "duration": 13,
    "start_time": "2022-03-27T09:40:05.719Z"
   },
   {
    "duration": 7,
    "start_time": "2022-03-27T09:40:05.733Z"
   },
   {
    "duration": 71,
    "start_time": "2022-03-27T09:40:05.742Z"
   },
   {
    "duration": 13,
    "start_time": "2022-03-27T09:40:05.815Z"
   },
   {
    "duration": 28,
    "start_time": "2022-03-27T09:40:05.829Z"
   },
   {
    "duration": 10,
    "start_time": "2022-03-27T09:40:05.859Z"
   },
   {
    "duration": 47,
    "start_time": "2022-03-27T09:40:05.871Z"
   },
   {
    "duration": 12,
    "start_time": "2022-03-27T09:40:05.920Z"
   },
   {
    "duration": 23,
    "start_time": "2022-03-27T09:40:05.934Z"
   },
   {
    "duration": 14,
    "start_time": "2022-03-27T09:40:05.959Z"
   },
   {
    "duration": 7,
    "start_time": "2022-03-27T09:40:05.975Z"
   },
   {
    "duration": 265,
    "start_time": "2022-03-27T09:40:06.008Z"
   },
   {
    "duration": 10,
    "start_time": "2022-03-27T09:40:06.275Z"
   },
   {
    "duration": 31,
    "start_time": "2022-03-27T09:40:06.288Z"
   },
   {
    "duration": 18,
    "start_time": "2022-03-27T09:40:06.321Z"
   },
   {
    "duration": 32,
    "start_time": "2022-03-27T09:40:06.341Z"
   },
   {
    "duration": 875,
    "start_time": "2022-03-27T09:40:06.375Z"
   },
   {
    "duration": 13,
    "start_time": "2022-03-27T09:40:07.252Z"
   },
   {
    "duration": 212,
    "start_time": "2022-03-27T09:40:07.267Z"
   },
   {
    "duration": 14,
    "start_time": "2022-03-27T09:40:07.481Z"
   },
   {
    "duration": 227,
    "start_time": "2022-03-27T09:40:07.508Z"
   },
   {
    "duration": 201,
    "start_time": "2022-03-27T09:40:07.737Z"
   },
   {
    "duration": 5,
    "start_time": "2022-03-27T09:40:07.940Z"
   },
   {
    "duration": 11,
    "start_time": "2022-03-27T09:40:07.947Z"
   },
   {
    "duration": 9,
    "start_time": "2022-03-27T09:40:07.959Z"
   },
   {
    "duration": 9,
    "start_time": "2022-03-27T09:40:07.970Z"
   },
   {
    "duration": 28,
    "start_time": "2022-03-27T09:40:07.981Z"
   },
   {
    "duration": 44,
    "start_time": "2022-03-27T14:00:40.515Z"
   },
   {
    "duration": 1586,
    "start_time": "2022-03-27T14:00:44.942Z"
   },
   {
    "duration": 410,
    "start_time": "2022-03-27T14:00:46.530Z"
   },
   {
    "duration": 14,
    "start_time": "2022-03-27T14:00:46.941Z"
   },
   {
    "duration": 24,
    "start_time": "2022-03-27T14:00:46.956Z"
   },
   {
    "duration": 54,
    "start_time": "2022-03-27T14:00:46.982Z"
   },
   {
    "duration": 10,
    "start_time": "2022-03-27T14:00:47.038Z"
   },
   {
    "duration": 38,
    "start_time": "2022-03-27T14:00:47.050Z"
   },
   {
    "duration": 38,
    "start_time": "2022-03-27T14:00:47.089Z"
   },
   {
    "duration": 7,
    "start_time": "2022-03-27T14:00:47.128Z"
   },
   {
    "duration": 19,
    "start_time": "2022-03-27T14:00:47.136Z"
   },
   {
    "duration": 50,
    "start_time": "2022-03-27T14:00:47.156Z"
   },
   {
    "duration": 7,
    "start_time": "2022-03-27T14:00:47.208Z"
   },
   {
    "duration": 12,
    "start_time": "2022-03-27T14:00:47.217Z"
   },
   {
    "duration": 11,
    "start_time": "2022-03-27T14:00:47.232Z"
   },
   {
    "duration": 46,
    "start_time": "2022-03-27T14:00:47.245Z"
   },
   {
    "duration": 9,
    "start_time": "2022-03-27T14:00:47.293Z"
   },
   {
    "duration": 93,
    "start_time": "2022-03-27T14:00:47.303Z"
   },
   {
    "duration": 14,
    "start_time": "2022-03-27T14:00:47.398Z"
   },
   {
    "duration": 29,
    "start_time": "2022-03-27T14:00:47.413Z"
   },
   {
    "duration": 10,
    "start_time": "2022-03-27T14:00:47.444Z"
   },
   {
    "duration": 45,
    "start_time": "2022-03-27T14:00:47.455Z"
   },
   {
    "duration": 10,
    "start_time": "2022-03-27T14:00:47.502Z"
   },
   {
    "duration": 21,
    "start_time": "2022-03-27T14:00:47.513Z"
   },
   {
    "duration": 13,
    "start_time": "2022-03-27T14:00:47.536Z"
   },
   {
    "duration": 6,
    "start_time": "2022-03-27T14:00:47.551Z"
   },
   {
    "duration": 265,
    "start_time": "2022-03-27T14:00:47.558Z"
   },
   {
    "duration": 9,
    "start_time": "2022-03-27T14:00:47.825Z"
   },
   {
    "duration": 16,
    "start_time": "2022-03-27T14:00:47.835Z"
   },
   {
    "duration": 34,
    "start_time": "2022-03-27T14:00:47.852Z"
   },
   {
    "duration": 38,
    "start_time": "2022-03-27T14:00:47.887Z"
   },
   {
    "duration": 844,
    "start_time": "2022-03-27T14:00:47.926Z"
   },
   {
    "duration": 25,
    "start_time": "2022-03-27T14:00:48.772Z"
   },
   {
    "duration": 178,
    "start_time": "2022-03-27T14:00:48.799Z"
   },
   {
    "duration": 13,
    "start_time": "2022-03-27T14:00:48.980Z"
   },
   {
    "duration": 197,
    "start_time": "2022-03-27T14:00:48.995Z"
   },
   {
    "duration": 262,
    "start_time": "2022-03-27T14:00:49.195Z"
   },
   {
    "duration": 6,
    "start_time": "2022-03-27T14:00:49.459Z"
   },
   {
    "duration": 20,
    "start_time": "2022-03-27T14:00:49.467Z"
   },
   {
    "duration": 10,
    "start_time": "2022-03-27T14:00:49.490Z"
   },
   {
    "duration": 5,
    "start_time": "2022-03-27T14:00:49.502Z"
   },
   {
    "duration": 5,
    "start_time": "2022-03-27T14:00:49.511Z"
   },
   {
    "duration": 17,
    "start_time": "2022-03-27T14:43:25.663Z"
   },
   {
    "duration": 65,
    "start_time": "2022-03-27T14:43:30.271Z"
   },
   {
    "duration": 1693,
    "start_time": "2022-03-27T14:43:46.512Z"
   },
   {
    "duration": 567,
    "start_time": "2022-03-27T14:43:48.207Z"
   },
   {
    "duration": 19,
    "start_time": "2022-03-27T14:43:48.776Z"
   },
   {
    "duration": 39,
    "start_time": "2022-03-27T14:43:48.798Z"
   },
   {
    "duration": 86,
    "start_time": "2022-03-27T14:43:48.839Z"
   },
   {
    "duration": 26,
    "start_time": "2022-03-27T14:43:48.928Z"
   },
   {
    "duration": 50,
    "start_time": "2022-03-27T14:43:48.957Z"
   },
   {
    "duration": 98,
    "start_time": "2022-03-27T14:43:49.010Z"
   },
   {
    "duration": 11,
    "start_time": "2022-03-27T14:43:49.110Z"
   },
   {
    "duration": 53,
    "start_time": "2022-03-27T14:43:49.125Z"
   },
   {
    "duration": 47,
    "start_time": "2022-03-27T14:43:49.180Z"
   },
   {
    "duration": 19,
    "start_time": "2022-03-27T14:43:49.248Z"
   },
   {
    "duration": 15,
    "start_time": "2022-03-27T14:43:49.269Z"
   },
   {
    "duration": 19,
    "start_time": "2022-03-27T14:43:49.286Z"
   },
   {
    "duration": 52,
    "start_time": "2022-03-27T14:43:49.308Z"
   },
   {
    "duration": 9,
    "start_time": "2022-03-27T14:43:49.363Z"
   },
   {
    "duration": 98,
    "start_time": "2022-03-27T14:43:49.374Z"
   },
   {
    "duration": 17,
    "start_time": "2022-03-27T14:43:49.474Z"
   },
   {
    "duration": 34,
    "start_time": "2022-03-27T14:43:49.493Z"
   },
   {
    "duration": 37,
    "start_time": "2022-03-27T14:43:49.529Z"
   },
   {
    "duration": 28,
    "start_time": "2022-03-27T14:43:49.568Z"
   },
   {
    "duration": 18,
    "start_time": "2022-03-27T14:43:49.599Z"
   },
   {
    "duration": 35,
    "start_time": "2022-03-27T14:43:49.647Z"
   },
   {
    "duration": 22,
    "start_time": "2022-03-27T14:43:49.684Z"
   },
   {
    "duration": 44,
    "start_time": "2022-03-27T14:43:49.709Z"
   },
   {
    "duration": 600,
    "start_time": "2022-03-27T14:43:49.760Z"
   },
   {
    "duration": 15,
    "start_time": "2022-03-27T14:43:50.363Z"
   },
   {
    "duration": 38,
    "start_time": "2022-03-27T14:43:50.383Z"
   },
   {
    "duration": 54,
    "start_time": "2022-03-27T14:43:50.423Z"
   },
   {
    "duration": 76,
    "start_time": "2022-03-27T14:43:50.480Z"
   },
   {
    "duration": 1347,
    "start_time": "2022-03-27T14:43:50.559Z"
   },
   {
    "duration": 20,
    "start_time": "2022-03-27T14:43:51.909Z"
   },
   {
    "duration": 373,
    "start_time": "2022-03-27T14:43:51.932Z"
   },
   {
    "duration": 20,
    "start_time": "2022-03-27T14:43:52.307Z"
   },
   {
    "duration": 381,
    "start_time": "2022-03-27T14:43:52.329Z"
   },
   {
    "duration": 322,
    "start_time": "2022-03-27T14:43:52.712Z"
   },
   {
    "duration": 17,
    "start_time": "2022-03-27T14:43:53.036Z"
   },
   {
    "duration": 19,
    "start_time": "2022-03-27T14:43:53.056Z"
   },
   {
    "duration": 11,
    "start_time": "2022-03-27T14:43:53.078Z"
   },
   {
    "duration": 7,
    "start_time": "2022-03-27T14:43:53.091Z"
   },
   {
    "duration": 9,
    "start_time": "2022-03-27T14:43:53.100Z"
   },
   {
    "duration": 13,
    "start_time": "2022-03-27T14:49:34.257Z"
   },
   {
    "duration": 10,
    "start_time": "2022-03-27T14:50:18.301Z"
   },
   {
    "duration": 533,
    "start_time": "2022-03-27T14:50:28.558Z"
   },
   {
    "duration": 11,
    "start_time": "2022-03-27T14:54:42.357Z"
   },
   {
    "duration": 530,
    "start_time": "2022-03-27T14:54:50.334Z"
   },
   {
    "duration": 6,
    "start_time": "2022-03-27T14:54:56.923Z"
   },
   {
    "duration": 636,
    "start_time": "2022-03-27T14:54:56.932Z"
   },
   {
    "duration": 17,
    "start_time": "2022-03-27T14:54:57.571Z"
   },
   {
    "duration": 35,
    "start_time": "2022-03-27T14:54:57.590Z"
   },
   {
    "duration": 80,
    "start_time": "2022-03-27T14:54:57.628Z"
   },
   {
    "duration": 14,
    "start_time": "2022-03-27T14:54:57.710Z"
   },
   {
    "duration": 49,
    "start_time": "2022-03-27T14:54:57.727Z"
   },
   {
    "duration": 74,
    "start_time": "2022-03-27T14:54:57.778Z"
   },
   {
    "duration": 15,
    "start_time": "2022-03-27T14:54:57.855Z"
   },
   {
    "duration": 26,
    "start_time": "2022-03-27T14:54:57.873Z"
   },
   {
    "duration": 82,
    "start_time": "2022-03-27T14:54:57.903Z"
   },
   {
    "duration": 12,
    "start_time": "2022-03-27T14:54:57.987Z"
   },
   {
    "duration": 14,
    "start_time": "2022-03-27T14:54:58.002Z"
   },
   {
    "duration": 46,
    "start_time": "2022-03-27T14:54:58.018Z"
   },
   {
    "duration": 16,
    "start_time": "2022-03-27T14:54:58.067Z"
   },
   {
    "duration": 7,
    "start_time": "2022-03-27T14:54:58.086Z"
   },
   {
    "duration": 112,
    "start_time": "2022-03-27T14:54:58.096Z"
   },
   {
    "duration": 25,
    "start_time": "2022-03-27T14:54:58.211Z"
   },
   {
    "duration": 54,
    "start_time": "2022-03-27T14:54:58.238Z"
   },
   {
    "duration": 23,
    "start_time": "2022-03-27T14:54:58.294Z"
   },
   {
    "duration": 83,
    "start_time": "2022-03-27T14:54:58.320Z"
   },
   {
    "duration": 21,
    "start_time": "2022-03-27T14:54:58.405Z"
   },
   {
    "duration": 53,
    "start_time": "2022-03-27T14:54:58.429Z"
   },
   {
    "duration": 21,
    "start_time": "2022-03-27T14:54:58.485Z"
   },
   {
    "duration": 36,
    "start_time": "2022-03-27T14:54:58.509Z"
   },
   {
    "duration": 880,
    "start_time": "2022-03-27T14:54:58.550Z"
   },
   {
    "duration": 18,
    "start_time": "2022-03-27T14:54:59.433Z"
   },
   {
    "duration": 60,
    "start_time": "2022-03-27T14:54:59.455Z"
   },
   {
    "duration": 50,
    "start_time": "2022-03-27T14:54:59.520Z"
   },
   {
    "duration": 89,
    "start_time": "2022-03-27T14:54:59.574Z"
   },
   {
    "duration": 1162,
    "start_time": "2022-03-27T14:54:59.665Z"
   },
   {
    "duration": 38,
    "start_time": "2022-03-27T14:55:00.830Z"
   },
   {
    "duration": 441,
    "start_time": "2022-03-27T14:55:00.871Z"
   },
   {
    "duration": 35,
    "start_time": "2022-03-27T14:55:01.314Z"
   },
   {
    "duration": 475,
    "start_time": "2022-03-27T14:55:01.353Z"
   },
   {
    "duration": 333,
    "start_time": "2022-03-27T14:55:01.831Z"
   },
   {
    "duration": 7,
    "start_time": "2022-03-27T14:55:02.166Z"
   },
   {
    "duration": 12,
    "start_time": "2022-03-27T14:55:02.175Z"
   },
   {
    "duration": 13,
    "start_time": "2022-03-27T14:55:02.189Z"
   },
   {
    "duration": 45,
    "start_time": "2022-03-27T14:55:02.204Z"
   },
   {
    "duration": 20,
    "start_time": "2022-03-27T14:55:02.253Z"
   },
   {
    "duration": 10,
    "start_time": "2022-03-27T14:57:22.726Z"
   },
   {
    "duration": 606,
    "start_time": "2022-03-27T14:57:30.057Z"
   },
   {
    "duration": 6,
    "start_time": "2022-03-27T14:57:48.657Z"
   },
   {
    "duration": 633,
    "start_time": "2022-03-27T14:57:48.668Z"
   },
   {
    "duration": 13,
    "start_time": "2022-03-27T14:57:49.303Z"
   },
   {
    "duration": 42,
    "start_time": "2022-03-27T14:57:49.318Z"
   },
   {
    "duration": 88,
    "start_time": "2022-03-27T14:57:49.363Z"
   },
   {
    "duration": 14,
    "start_time": "2022-03-27T14:57:49.454Z"
   },
   {
    "duration": 32,
    "start_time": "2022-03-27T14:57:49.470Z"
   },
   {
    "duration": 83,
    "start_time": "2022-03-27T14:57:49.504Z"
   },
   {
    "duration": 11,
    "start_time": "2022-03-27T14:57:49.590Z"
   },
   {
    "duration": 44,
    "start_time": "2022-03-27T14:57:49.604Z"
   },
   {
    "duration": 49,
    "start_time": "2022-03-27T14:57:49.651Z"
   },
   {
    "duration": 12,
    "start_time": "2022-03-27T14:57:49.702Z"
   },
   {
    "duration": 23,
    "start_time": "2022-03-27T14:57:49.746Z"
   },
   {
    "duration": 17,
    "start_time": "2022-03-27T14:57:49.772Z"
   },
   {
    "duration": 15,
    "start_time": "2022-03-27T14:57:49.791Z"
   },
   {
    "duration": 41,
    "start_time": "2022-03-27T14:57:49.808Z"
   },
   {
    "duration": 80,
    "start_time": "2022-03-27T14:57:49.851Z"
   },
   {
    "duration": 23,
    "start_time": "2022-03-27T14:57:49.933Z"
   },
   {
    "duration": 36,
    "start_time": "2022-03-27T14:57:49.958Z"
   },
   {
    "duration": 16,
    "start_time": "2022-03-27T14:57:49.996Z"
   },
   {
    "duration": 42,
    "start_time": "2022-03-27T14:57:50.043Z"
   },
   {
    "duration": 17,
    "start_time": "2022-03-27T14:57:50.087Z"
   },
   {
    "duration": 60,
    "start_time": "2022-03-27T14:57:50.107Z"
   },
   {
    "duration": 22,
    "start_time": "2022-03-27T14:57:50.172Z"
   },
   {
    "duration": 10,
    "start_time": "2022-03-27T14:57:50.196Z"
   },
   {
    "duration": 598,
    "start_time": "2022-03-27T14:57:50.209Z"
   },
   {
    "duration": 13,
    "start_time": "2022-03-27T14:57:50.809Z"
   },
   {
    "duration": 43,
    "start_time": "2022-03-27T14:57:50.824Z"
   },
   {
    "duration": 27,
    "start_time": "2022-03-27T14:57:50.869Z"
   },
   {
    "duration": 86,
    "start_time": "2022-03-27T14:57:50.898Z"
   },
   {
    "duration": 1213,
    "start_time": "2022-03-27T14:57:50.986Z"
   },
   {
    "duration": 26,
    "start_time": "2022-03-27T14:57:52.201Z"
   },
   {
    "duration": 345,
    "start_time": "2022-03-27T14:57:52.242Z"
   },
   {
    "duration": 22,
    "start_time": "2022-03-27T14:57:52.590Z"
   },
   {
    "duration": 467,
    "start_time": "2022-03-27T14:57:52.615Z"
   },
   {
    "duration": 311,
    "start_time": "2022-03-27T14:57:53.084Z"
   },
   {
    "duration": 7,
    "start_time": "2022-03-27T14:57:53.398Z"
   },
   {
    "duration": 16,
    "start_time": "2022-03-27T14:57:53.407Z"
   },
   {
    "duration": 28,
    "start_time": "2022-03-27T14:57:53.425Z"
   },
   {
    "duration": 25,
    "start_time": "2022-03-27T14:57:53.456Z"
   },
   {
    "duration": 20,
    "start_time": "2022-03-27T14:57:53.483Z"
   },
   {
    "duration": 49,
    "start_time": "2022-03-27T16:29:01.477Z"
   },
   {
    "duration": 1318,
    "start_time": "2022-03-27T16:29:05.651Z"
   },
   {
    "duration": 369,
    "start_time": "2022-03-27T16:29:06.972Z"
   },
   {
    "duration": 14,
    "start_time": "2022-03-27T16:29:07.343Z"
   },
   {
    "duration": 25,
    "start_time": "2022-03-27T16:29:07.359Z"
   },
   {
    "duration": 132,
    "start_time": "2022-03-27T16:29:07.386Z"
   },
   {
    "duration": 0,
    "start_time": "2022-03-27T16:29:07.521Z"
   },
   {
    "duration": 0,
    "start_time": "2022-03-27T16:29:07.522Z"
   },
   {
    "duration": 1,
    "start_time": "2022-03-27T16:29:07.522Z"
   },
   {
    "duration": 0,
    "start_time": "2022-03-27T16:29:07.524Z"
   },
   {
    "duration": 0,
    "start_time": "2022-03-27T16:29:07.537Z"
   },
   {
    "duration": 0,
    "start_time": "2022-03-27T16:29:07.538Z"
   },
   {
    "duration": 0,
    "start_time": "2022-03-27T16:29:07.539Z"
   },
   {
    "duration": 0,
    "start_time": "2022-03-27T16:29:07.540Z"
   },
   {
    "duration": 0,
    "start_time": "2022-03-27T16:29:07.541Z"
   },
   {
    "duration": 0,
    "start_time": "2022-03-27T16:29:07.542Z"
   },
   {
    "duration": 0,
    "start_time": "2022-03-27T16:29:07.543Z"
   },
   {
    "duration": 0,
    "start_time": "2022-03-27T16:29:07.544Z"
   },
   {
    "duration": 0,
    "start_time": "2022-03-27T16:29:07.546Z"
   },
   {
    "duration": 0,
    "start_time": "2022-03-27T16:29:07.546Z"
   },
   {
    "duration": 0,
    "start_time": "2022-03-27T16:29:07.548Z"
   },
   {
    "duration": 0,
    "start_time": "2022-03-27T16:29:07.548Z"
   },
   {
    "duration": 0,
    "start_time": "2022-03-27T16:29:07.549Z"
   },
   {
    "duration": 0,
    "start_time": "2022-03-27T16:29:07.550Z"
   },
   {
    "duration": 0,
    "start_time": "2022-03-27T16:29:07.551Z"
   },
   {
    "duration": 0,
    "start_time": "2022-03-27T16:29:07.552Z"
   },
   {
    "duration": 0,
    "start_time": "2022-03-27T16:29:07.553Z"
   },
   {
    "duration": 0,
    "start_time": "2022-03-27T16:29:07.554Z"
   },
   {
    "duration": 0,
    "start_time": "2022-03-27T16:29:07.556Z"
   },
   {
    "duration": 0,
    "start_time": "2022-03-27T16:29:07.557Z"
   },
   {
    "duration": 0,
    "start_time": "2022-03-27T16:29:07.558Z"
   },
   {
    "duration": 0,
    "start_time": "2022-03-27T16:29:07.558Z"
   },
   {
    "duration": 0,
    "start_time": "2022-03-27T16:29:07.559Z"
   },
   {
    "duration": 0,
    "start_time": "2022-03-27T16:29:07.560Z"
   },
   {
    "duration": 0,
    "start_time": "2022-03-27T16:29:07.561Z"
   },
   {
    "duration": 0,
    "start_time": "2022-03-27T16:29:07.562Z"
   },
   {
    "duration": 0,
    "start_time": "2022-03-27T16:29:07.563Z"
   },
   {
    "duration": 0,
    "start_time": "2022-03-27T16:29:07.564Z"
   },
   {
    "duration": 0,
    "start_time": "2022-03-27T16:29:07.565Z"
   },
   {
    "duration": 0,
    "start_time": "2022-03-27T16:29:07.566Z"
   },
   {
    "duration": 0,
    "start_time": "2022-03-27T16:29:07.567Z"
   },
   {
    "duration": 0,
    "start_time": "2022-03-27T16:29:07.568Z"
   },
   {
    "duration": 43,
    "start_time": "2022-03-27T16:29:20.737Z"
   },
   {
    "duration": 53,
    "start_time": "2022-03-27T16:29:32.862Z"
   },
   {
    "duration": 45,
    "start_time": "2022-03-27T16:30:02.995Z"
   },
   {
    "duration": 41,
    "start_time": "2022-03-27T16:30:26.673Z"
   },
   {
    "duration": 3,
    "start_time": "2022-03-27T16:30:45.686Z"
   },
   {
    "duration": 430,
    "start_time": "2022-03-27T16:30:45.691Z"
   },
   {
    "duration": 9,
    "start_time": "2022-03-27T16:30:46.123Z"
   },
   {
    "duration": 43,
    "start_time": "2022-03-27T16:30:46.133Z"
   },
   {
    "duration": 65,
    "start_time": "2022-03-27T16:30:46.179Z"
   },
   {
    "duration": 9,
    "start_time": "2022-03-27T16:30:46.245Z"
   },
   {
    "duration": 38,
    "start_time": "2022-03-27T16:30:46.255Z"
   },
   {
    "duration": 42,
    "start_time": "2022-03-27T16:30:46.294Z"
   },
   {
    "duration": 8,
    "start_time": "2022-03-27T16:30:46.338Z"
   },
   {
    "duration": 41,
    "start_time": "2022-03-27T16:30:46.347Z"
   },
   {
    "duration": 37,
    "start_time": "2022-03-27T16:30:46.390Z"
   },
   {
    "duration": 10,
    "start_time": "2022-03-27T16:30:46.429Z"
   },
   {
    "duration": 23,
    "start_time": "2022-03-27T16:30:46.442Z"
   },
   {
    "duration": 35,
    "start_time": "2022-03-27T16:30:46.468Z"
   },
   {
    "duration": 41,
    "start_time": "2022-03-27T16:30:46.505Z"
   },
   {
    "duration": 33,
    "start_time": "2022-03-27T16:30:46.549Z"
   },
   {
    "duration": 77,
    "start_time": "2022-03-27T16:30:46.583Z"
   },
   {
    "duration": 12,
    "start_time": "2022-03-27T16:30:46.662Z"
   },
   {
    "duration": 36,
    "start_time": "2022-03-27T16:30:46.676Z"
   },
   {
    "duration": 12,
    "start_time": "2022-03-27T16:30:46.714Z"
   },
   {
    "duration": 50,
    "start_time": "2022-03-27T16:30:46.728Z"
   },
   {
    "duration": 12,
    "start_time": "2022-03-27T16:30:46.779Z"
   },
   {
    "duration": 22,
    "start_time": "2022-03-27T16:30:46.792Z"
   },
   {
    "duration": 24,
    "start_time": "2022-03-27T16:30:46.816Z"
   },
   {
    "duration": 8,
    "start_time": "2022-03-27T16:30:46.843Z"
   },
   {
    "duration": 257,
    "start_time": "2022-03-27T16:30:46.854Z"
   },
   {
    "duration": 10,
    "start_time": "2022-03-27T16:30:47.113Z"
   },
   {
    "duration": 26,
    "start_time": "2022-03-27T16:30:47.124Z"
   },
   {
    "duration": 19,
    "start_time": "2022-03-27T16:30:47.152Z"
   },
   {
    "duration": 34,
    "start_time": "2022-03-27T16:30:47.172Z"
   },
   {
    "duration": 864,
    "start_time": "2022-03-27T16:30:47.207Z"
   },
   {
    "duration": 14,
    "start_time": "2022-03-27T16:30:48.072Z"
   },
   {
    "duration": 200,
    "start_time": "2022-03-27T16:30:48.088Z"
   },
   {
    "duration": 13,
    "start_time": "2022-03-27T16:30:48.290Z"
   },
   {
    "duration": 212,
    "start_time": "2022-03-27T16:30:48.304Z"
   },
   {
    "duration": 259,
    "start_time": "2022-03-27T16:30:48.518Z"
   },
   {
    "duration": 5,
    "start_time": "2022-03-27T16:30:48.781Z"
   },
   {
    "duration": 8,
    "start_time": "2022-03-27T16:30:48.787Z"
   },
   {
    "duration": 8,
    "start_time": "2022-03-27T16:30:48.797Z"
   },
   {
    "duration": 33,
    "start_time": "2022-03-27T16:30:48.807Z"
   },
   {
    "duration": 9,
    "start_time": "2022-03-27T16:30:48.842Z"
   },
   {
    "duration": 59,
    "start_time": "2022-03-27T16:31:37.971Z"
   },
   {
    "duration": 44,
    "start_time": "2022-03-27T16:32:02.282Z"
   },
   {
    "duration": 3,
    "start_time": "2022-03-27T16:32:11.083Z"
   },
   {
    "duration": 416,
    "start_time": "2022-03-27T16:32:11.088Z"
   },
   {
    "duration": 10,
    "start_time": "2022-03-27T16:32:11.506Z"
   },
   {
    "duration": 34,
    "start_time": "2022-03-27T16:32:11.517Z"
   },
   {
    "duration": 55,
    "start_time": "2022-03-27T16:32:11.554Z"
   },
   {
    "duration": 9,
    "start_time": "2022-03-27T16:32:11.611Z"
   },
   {
    "duration": 44,
    "start_time": "2022-03-27T16:32:11.622Z"
   },
   {
    "duration": 36,
    "start_time": "2022-03-27T16:32:11.668Z"
   },
   {
    "duration": 8,
    "start_time": "2022-03-27T16:32:11.705Z"
   },
   {
    "duration": 47,
    "start_time": "2022-03-27T16:32:11.714Z"
   },
   {
    "duration": 30,
    "start_time": "2022-03-27T16:32:11.764Z"
   },
   {
    "duration": 7,
    "start_time": "2022-03-27T16:32:11.796Z"
   },
   {
    "duration": 14,
    "start_time": "2022-03-27T16:32:11.804Z"
   },
   {
    "duration": 21,
    "start_time": "2022-03-27T16:32:11.839Z"
   },
   {
    "duration": 10,
    "start_time": "2022-03-27T16:32:11.862Z"
   },
   {
    "duration": 7,
    "start_time": "2022-03-27T16:32:11.874Z"
   },
   {
    "duration": 70,
    "start_time": "2022-03-27T16:32:11.882Z"
   },
   {
    "duration": 14,
    "start_time": "2022-03-27T16:32:11.953Z"
   },
   {
    "duration": 30,
    "start_time": "2022-03-27T16:32:11.969Z"
   },
   {
    "duration": 11,
    "start_time": "2022-03-27T16:32:12.001Z"
   },
   {
    "duration": 50,
    "start_time": "2022-03-27T16:32:12.014Z"
   },
   {
    "duration": 11,
    "start_time": "2022-03-27T16:32:12.066Z"
   },
   {
    "duration": 20,
    "start_time": "2022-03-27T16:32:12.078Z"
   },
   {
    "duration": 14,
    "start_time": "2022-03-27T16:32:12.099Z"
   },
   {
    "duration": 10,
    "start_time": "2022-03-27T16:32:12.137Z"
   },
   {
    "duration": 269,
    "start_time": "2022-03-27T16:32:12.150Z"
   },
   {
    "duration": 16,
    "start_time": "2022-03-27T16:32:12.421Z"
   },
   {
    "duration": 20,
    "start_time": "2022-03-27T16:32:12.440Z"
   },
   {
    "duration": 17,
    "start_time": "2022-03-27T16:32:12.463Z"
   },
   {
    "duration": 31,
    "start_time": "2022-03-27T16:32:12.482Z"
   },
   {
    "duration": 815,
    "start_time": "2022-03-27T16:32:12.539Z"
   },
   {
    "duration": 14,
    "start_time": "2022-03-27T16:32:13.356Z"
   },
   {
    "duration": 188,
    "start_time": "2022-03-27T16:32:13.371Z"
   },
   {
    "duration": 14,
    "start_time": "2022-03-27T16:32:13.561Z"
   },
   {
    "duration": 221,
    "start_time": "2022-03-27T16:32:13.577Z"
   },
   {
    "duration": 188,
    "start_time": "2022-03-27T16:32:13.800Z"
   },
   {
    "duration": 5,
    "start_time": "2022-03-27T16:32:13.990Z"
   },
   {
    "duration": 9,
    "start_time": "2022-03-27T16:32:13.996Z"
   },
   {
    "duration": 9,
    "start_time": "2022-03-27T16:32:14.007Z"
   },
   {
    "duration": 21,
    "start_time": "2022-03-27T16:32:14.017Z"
   },
   {
    "duration": 5,
    "start_time": "2022-03-27T16:32:14.040Z"
   },
   {
    "duration": 48,
    "start_time": "2022-03-27T16:32:30.022Z"
   },
   {
    "duration": 8,
    "start_time": "2022-03-27T16:35:01.346Z"
   },
   {
    "duration": 280,
    "start_time": "2022-03-27T16:35:08.849Z"
   },
   {
    "duration": 7,
    "start_time": "2022-03-27T16:37:02.776Z"
   },
   {
    "duration": 283,
    "start_time": "2022-03-27T16:37:05.076Z"
   },
   {
    "duration": 7,
    "start_time": "2022-03-27T16:45:08.417Z"
   },
   {
    "duration": 8,
    "start_time": "2022-03-27T16:45:54.556Z"
   },
   {
    "duration": 4,
    "start_time": "2022-03-27T16:46:03.707Z"
   },
   {
    "duration": 441,
    "start_time": "2022-03-27T16:46:03.713Z"
   },
   {
    "duration": 10,
    "start_time": "2022-03-27T16:46:04.155Z"
   },
   {
    "duration": 56,
    "start_time": "2022-03-27T16:46:04.167Z"
   },
   {
    "duration": 84,
    "start_time": "2022-03-27T16:46:04.226Z"
   },
   {
    "duration": 10,
    "start_time": "2022-03-27T16:46:04.311Z"
   },
   {
    "duration": 43,
    "start_time": "2022-03-27T16:46:04.322Z"
   },
   {
    "duration": 47,
    "start_time": "2022-03-27T16:46:04.366Z"
   },
   {
    "duration": 9,
    "start_time": "2022-03-27T16:46:04.415Z"
   },
   {
    "duration": 35,
    "start_time": "2022-03-27T16:46:04.426Z"
   },
   {
    "duration": 59,
    "start_time": "2022-03-27T16:46:04.463Z"
   },
   {
    "duration": 11,
    "start_time": "2022-03-27T16:46:04.524Z"
   },
   {
    "duration": 22,
    "start_time": "2022-03-27T16:46:04.539Z"
   },
   {
    "duration": 32,
    "start_time": "2022-03-27T16:46:04.563Z"
   },
   {
    "duration": 17,
    "start_time": "2022-03-27T16:46:04.597Z"
   },
   {
    "duration": 31,
    "start_time": "2022-03-27T16:46:04.616Z"
   },
   {
    "duration": 101,
    "start_time": "2022-03-27T16:46:04.649Z"
   },
   {
    "duration": 14,
    "start_time": "2022-03-27T16:46:04.751Z"
   },
   {
    "duration": 64,
    "start_time": "2022-03-27T16:46:04.767Z"
   },
   {
    "duration": 12,
    "start_time": "2022-03-27T16:46:04.833Z"
   },
   {
    "duration": 49,
    "start_time": "2022-03-27T16:46:04.846Z"
   },
   {
    "duration": 24,
    "start_time": "2022-03-27T16:46:04.897Z"
   },
   {
    "duration": 31,
    "start_time": "2022-03-27T16:46:04.923Z"
   },
   {
    "duration": 20,
    "start_time": "2022-03-27T16:46:04.959Z"
   },
   {
    "duration": 26,
    "start_time": "2022-03-27T16:46:04.982Z"
   },
   {
    "duration": 10,
    "start_time": "2022-03-27T16:46:05.011Z"
   },
   {
    "duration": 337,
    "start_time": "2022-03-27T16:46:05.023Z"
   },
   {
    "duration": 10,
    "start_time": "2022-03-27T16:46:05.363Z"
   },
   {
    "duration": 36,
    "start_time": "2022-03-27T16:46:05.375Z"
   },
   {
    "duration": 22,
    "start_time": "2022-03-27T16:46:05.413Z"
   },
   {
    "duration": 34,
    "start_time": "2022-03-27T16:46:05.437Z"
   },
   {
    "duration": 889,
    "start_time": "2022-03-27T16:46:05.473Z"
   },
   {
    "duration": 14,
    "start_time": "2022-03-27T16:46:06.364Z"
   },
   {
    "duration": 204,
    "start_time": "2022-03-27T16:46:06.380Z"
   },
   {
    "duration": 15,
    "start_time": "2022-03-27T16:46:06.585Z"
   },
   {
    "duration": 374,
    "start_time": "2022-03-27T16:46:06.601Z"
   },
   {
    "duration": 398,
    "start_time": "2022-03-27T16:46:06.979Z"
   },
   {
    "duration": 5,
    "start_time": "2022-03-27T16:46:07.379Z"
   },
   {
    "duration": 9,
    "start_time": "2022-03-27T16:46:07.438Z"
   },
   {
    "duration": 18,
    "start_time": "2022-03-27T16:46:07.449Z"
   },
   {
    "duration": 6,
    "start_time": "2022-03-27T16:46:07.470Z"
   },
   {
    "duration": 7,
    "start_time": "2022-03-27T16:46:07.478Z"
   },
   {
    "duration": 1710,
    "start_time": "2022-03-27T19:18:18.193Z"
   },
   {
    "duration": 471,
    "start_time": "2022-03-27T19:18:19.905Z"
   },
   {
    "duration": 21,
    "start_time": "2022-03-27T19:18:20.378Z"
   },
   {
    "duration": 35,
    "start_time": "2022-03-27T19:18:20.401Z"
   },
   {
    "duration": 99,
    "start_time": "2022-03-27T19:18:20.439Z"
   },
   {
    "duration": 13,
    "start_time": "2022-03-27T19:18:20.540Z"
   },
   {
    "duration": 29,
    "start_time": "2022-03-27T19:18:20.574Z"
   },
   {
    "duration": 77,
    "start_time": "2022-03-27T19:18:20.605Z"
   },
   {
    "duration": 11,
    "start_time": "2022-03-27T19:18:20.684Z"
   },
   {
    "duration": 33,
    "start_time": "2022-03-27T19:18:20.697Z"
   },
   {
    "duration": 63,
    "start_time": "2022-03-27T19:18:20.732Z"
   },
   {
    "duration": 12,
    "start_time": "2022-03-27T19:18:20.797Z"
   },
   {
    "duration": 17,
    "start_time": "2022-03-27T19:18:20.812Z"
   },
   {
    "duration": 41,
    "start_time": "2022-03-27T19:18:20.834Z"
   },
   {
    "duration": 22,
    "start_time": "2022-03-27T19:18:20.877Z"
   },
   {
    "duration": 13,
    "start_time": "2022-03-27T19:18:20.901Z"
   },
   {
    "duration": 87,
    "start_time": "2022-03-27T19:18:20.921Z"
   },
   {
    "duration": 18,
    "start_time": "2022-03-27T19:18:21.010Z"
   },
   {
    "duration": 51,
    "start_time": "2022-03-27T19:18:21.031Z"
   },
   {
    "duration": 17,
    "start_time": "2022-03-27T19:18:21.085Z"
   },
   {
    "duration": 36,
    "start_time": "2022-03-27T19:18:21.104Z"
   },
   {
    "duration": 46,
    "start_time": "2022-03-27T19:18:21.143Z"
   },
   {
    "duration": 28,
    "start_time": "2022-03-27T19:18:21.192Z"
   },
   {
    "duration": 22,
    "start_time": "2022-03-27T19:18:21.222Z"
   },
   {
    "duration": 10,
    "start_time": "2022-03-27T19:18:21.273Z"
   },
   {
    "duration": 10,
    "start_time": "2022-03-27T19:18:21.286Z"
   },
   {
    "duration": 526,
    "start_time": "2022-03-27T19:18:21.298Z"
   },
   {
    "duration": 13,
    "start_time": "2022-03-27T19:18:21.826Z"
   },
   {
    "duration": 41,
    "start_time": "2022-03-27T19:18:21.841Z"
   },
   {
    "duration": 28,
    "start_time": "2022-03-27T19:18:21.884Z"
   },
   {
    "duration": 78,
    "start_time": "2022-03-27T19:18:21.915Z"
   },
   {
    "duration": 1208,
    "start_time": "2022-03-27T19:18:21.996Z"
   },
   {
    "duration": 22,
    "start_time": "2022-03-27T19:18:23.206Z"
   },
   {
    "duration": 319,
    "start_time": "2022-03-27T19:18:23.230Z"
   },
   {
    "duration": 30,
    "start_time": "2022-03-27T19:18:23.551Z"
   },
   {
    "duration": 344,
    "start_time": "2022-03-27T19:18:23.584Z"
   },
   {
    "duration": 300,
    "start_time": "2022-03-27T19:18:23.931Z"
   },
   {
    "duration": 6,
    "start_time": "2022-03-27T19:18:24.233Z"
   },
   {
    "duration": 12,
    "start_time": "2022-03-27T19:18:24.241Z"
   },
   {
    "duration": 12,
    "start_time": "2022-03-27T19:18:24.274Z"
   },
   {
    "duration": 6,
    "start_time": "2022-03-27T19:18:24.291Z"
   },
   {
    "duration": 10,
    "start_time": "2022-03-27T19:18:24.299Z"
   },
   {
    "duration": 305,
    "start_time": "2022-03-27T19:25:37.029Z"
   },
   {
    "duration": 306,
    "start_time": "2022-03-27T19:30:52.858Z"
   },
   {
    "duration": 99,
    "start_time": "2022-03-27T19:34:20.417Z"
   }
  ],
  "celltoolbar": "Необработанный формат ячейки",
  "kernelspec": {
   "display_name": "Python 3 (ipykernel)",
   "language": "python",
   "name": "python3"
  },
  "language_info": {
   "codemirror_mode": {
    "name": "ipython",
    "version": 3
   },
   "file_extension": ".py",
   "mimetype": "text/x-python",
   "name": "python",
   "nbconvert_exporter": "python",
   "pygments_lexer": "ipython3",
   "version": "3.9.5"
  },
  "toc": {
   "base_numbering": 1,
   "nav_menu": {
    "height": "147px",
    "width": "246px"
   },
   "number_sections": true,
   "sideBar": true,
   "skip_h1_title": true,
   "title_cell": "Table of Contents",
   "title_sidebar": "Contents",
   "toc_cell": false,
   "toc_position": {},
   "toc_section_display": true,
   "toc_window_display": true
  }
 },
 "nbformat": 4,
 "nbformat_minor": 2
}
