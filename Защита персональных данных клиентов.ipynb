{
 "cells": [
  {
   "cell_type": "markdown",
   "metadata": {},
   "source": [
    "# Защита персональных данных клиентов"
   ]
  },
  {
   "cell_type": "markdown",
   "metadata": {},
   "source": [
    "Вам нужно защитить данные клиентов страховой компании «Хоть потоп». Разработайте такой метод преобразования данных, чтобы по ним было сложно восстановить персональную информацию. Обоснуйте корректность его работы.\n",
    "\n",
    "Нужно защитить данные, чтобы при преобразовании качество моделей машинного обучения не ухудшилось. Подбирать наилучшую модель не требуется."
   ]
  },
  {
   "cell_type": "markdown",
   "metadata": {},
   "source": [
    "## Загрузка данных"
   ]
  },
  {
   "cell_type": "code",
   "execution_count": 14,
   "metadata": {},
   "outputs": [],
   "source": [
    "# импорт библиотек\n",
    "\n",
    "import pandas as pd\n",
    "import sklearn\n",
    "import numpy as np\n",
    "from sklearn.linear_model import LinearRegression\n",
    "from sklearn.metrics import r2_score"
   ]
  },
  {
   "cell_type": "code",
   "execution_count": 15,
   "metadata": {},
   "outputs": [],
   "source": [
    "# <чтение файла с данными с сохранением в data_full>\n",
    "\n",
    "data = pd.read_csv('/datasets/insurance.csv')"
   ]
  },
  {
   "cell_type": "code",
   "execution_count": 16,
   "metadata": {},
   "outputs": [
    {
     "name": "stdout",
     "output_type": "stream",
     "text": [
      "<class 'pandas.core.frame.DataFrame'>\n",
      "RangeIndex: 5000 entries, 0 to 4999\n",
      "Data columns (total 5 columns):\n",
      " #   Column             Non-Null Count  Dtype  \n",
      "---  ------             --------------  -----  \n",
      " 0   Пол                5000 non-null   int64  \n",
      " 1   Возраст            5000 non-null   float64\n",
      " 2   Зарплата           5000 non-null   float64\n",
      " 3   Члены семьи        5000 non-null   int64  \n",
      " 4   Страховые выплаты  5000 non-null   int64  \n",
      "dtypes: float64(2), int64(3)\n",
      "memory usage: 195.4 KB\n",
      "None\n"
     ]
    },
    {
     "data": {
      "text/html": [
       "<div>\n",
       "<style scoped>\n",
       "    .dataframe tbody tr th:only-of-type {\n",
       "        vertical-align: middle;\n",
       "    }\n",
       "\n",
       "    .dataframe tbody tr th {\n",
       "        vertical-align: top;\n",
       "    }\n",
       "\n",
       "    .dataframe thead th {\n",
       "        text-align: right;\n",
       "    }\n",
       "</style>\n",
       "<table border=\"1\" class=\"dataframe\">\n",
       "  <thead>\n",
       "    <tr style=\"text-align: right;\">\n",
       "      <th></th>\n",
       "      <th>Пол</th>\n",
       "      <th>Возраст</th>\n",
       "      <th>Зарплата</th>\n",
       "      <th>Члены семьи</th>\n",
       "      <th>Страховые выплаты</th>\n",
       "    </tr>\n",
       "  </thead>\n",
       "  <tbody>\n",
       "    <tr>\n",
       "      <th>0</th>\n",
       "      <td>1</td>\n",
       "      <td>41.0</td>\n",
       "      <td>49600.0</td>\n",
       "      <td>1</td>\n",
       "      <td>0</td>\n",
       "    </tr>\n",
       "    <tr>\n",
       "      <th>1</th>\n",
       "      <td>0</td>\n",
       "      <td>46.0</td>\n",
       "      <td>38000.0</td>\n",
       "      <td>1</td>\n",
       "      <td>1</td>\n",
       "    </tr>\n",
       "    <tr>\n",
       "      <th>2</th>\n",
       "      <td>0</td>\n",
       "      <td>29.0</td>\n",
       "      <td>21000.0</td>\n",
       "      <td>0</td>\n",
       "      <td>0</td>\n",
       "    </tr>\n",
       "    <tr>\n",
       "      <th>3</th>\n",
       "      <td>0</td>\n",
       "      <td>21.0</td>\n",
       "      <td>41700.0</td>\n",
       "      <td>2</td>\n",
       "      <td>0</td>\n",
       "    </tr>\n",
       "    <tr>\n",
       "      <th>4</th>\n",
       "      <td>1</td>\n",
       "      <td>28.0</td>\n",
       "      <td>26100.0</td>\n",
       "      <td>0</td>\n",
       "      <td>0</td>\n",
       "    </tr>\n",
       "  </tbody>\n",
       "</table>\n",
       "</div>"
      ],
      "text/plain": [
       "   Пол  Возраст  Зарплата  Члены семьи  Страховые выплаты\n",
       "0    1     41.0   49600.0            1                  0\n",
       "1    0     46.0   38000.0            1                  1\n",
       "2    0     29.0   21000.0            0                  0\n",
       "3    0     21.0   41700.0            2                  0\n",
       "4    1     28.0   26100.0            0                  0"
      ]
     },
     "execution_count": 16,
     "metadata": {},
     "output_type": "execute_result"
    }
   ],
   "source": [
    "# изучаем датафрейм\n",
    "\n",
    "print(data.info())\n",
    "data.head()"
   ]
  },
  {
   "cell_type": "code",
   "execution_count": 17,
   "metadata": {},
   "outputs": [
    {
     "data": {
      "text/html": [
       "<div>\n",
       "<style scoped>\n",
       "    .dataframe tbody tr th:only-of-type {\n",
       "        vertical-align: middle;\n",
       "    }\n",
       "\n",
       "    .dataframe tbody tr th {\n",
       "        vertical-align: top;\n",
       "    }\n",
       "\n",
       "    .dataframe thead th {\n",
       "        text-align: right;\n",
       "    }\n",
       "</style>\n",
       "<table border=\"1\" class=\"dataframe\">\n",
       "  <thead>\n",
       "    <tr style=\"text-align: right;\">\n",
       "      <th></th>\n",
       "      <th>Пол</th>\n",
       "      <th>Возраст</th>\n",
       "      <th>Зарплата</th>\n",
       "      <th>Члены семьи</th>\n",
       "      <th>Страховые выплаты</th>\n",
       "    </tr>\n",
       "  </thead>\n",
       "  <tbody>\n",
       "    <tr>\n",
       "      <th>count</th>\n",
       "      <td>5000.000000</td>\n",
       "      <td>5000.000000</td>\n",
       "      <td>5000.000000</td>\n",
       "      <td>5000.000000</td>\n",
       "      <td>5000.000000</td>\n",
       "    </tr>\n",
       "    <tr>\n",
       "      <th>mean</th>\n",
       "      <td>0.499000</td>\n",
       "      <td>30.952800</td>\n",
       "      <td>39916.360000</td>\n",
       "      <td>1.194200</td>\n",
       "      <td>0.148000</td>\n",
       "    </tr>\n",
       "    <tr>\n",
       "      <th>std</th>\n",
       "      <td>0.500049</td>\n",
       "      <td>8.440807</td>\n",
       "      <td>9900.083569</td>\n",
       "      <td>1.091387</td>\n",
       "      <td>0.463183</td>\n",
       "    </tr>\n",
       "    <tr>\n",
       "      <th>min</th>\n",
       "      <td>0.000000</td>\n",
       "      <td>18.000000</td>\n",
       "      <td>5300.000000</td>\n",
       "      <td>0.000000</td>\n",
       "      <td>0.000000</td>\n",
       "    </tr>\n",
       "    <tr>\n",
       "      <th>25%</th>\n",
       "      <td>0.000000</td>\n",
       "      <td>24.000000</td>\n",
       "      <td>33300.000000</td>\n",
       "      <td>0.000000</td>\n",
       "      <td>0.000000</td>\n",
       "    </tr>\n",
       "    <tr>\n",
       "      <th>50%</th>\n",
       "      <td>0.000000</td>\n",
       "      <td>30.000000</td>\n",
       "      <td>40200.000000</td>\n",
       "      <td>1.000000</td>\n",
       "      <td>0.000000</td>\n",
       "    </tr>\n",
       "    <tr>\n",
       "      <th>75%</th>\n",
       "      <td>1.000000</td>\n",
       "      <td>37.000000</td>\n",
       "      <td>46600.000000</td>\n",
       "      <td>2.000000</td>\n",
       "      <td>0.000000</td>\n",
       "    </tr>\n",
       "    <tr>\n",
       "      <th>max</th>\n",
       "      <td>1.000000</td>\n",
       "      <td>65.000000</td>\n",
       "      <td>79000.000000</td>\n",
       "      <td>6.000000</td>\n",
       "      <td>5.000000</td>\n",
       "    </tr>\n",
       "  </tbody>\n",
       "</table>\n",
       "</div>"
      ],
      "text/plain": [
       "               Пол      Возраст      Зарплата  Члены семьи  Страховые выплаты\n",
       "count  5000.000000  5000.000000   5000.000000  5000.000000        5000.000000\n",
       "mean      0.499000    30.952800  39916.360000     1.194200           0.148000\n",
       "std       0.500049     8.440807   9900.083569     1.091387           0.463183\n",
       "min       0.000000    18.000000   5300.000000     0.000000           0.000000\n",
       "25%       0.000000    24.000000  33300.000000     0.000000           0.000000\n",
       "50%       0.000000    30.000000  40200.000000     1.000000           0.000000\n",
       "75%       1.000000    37.000000  46600.000000     2.000000           0.000000\n",
       "max       1.000000    65.000000  79000.000000     6.000000           5.000000"
      ]
     },
     "execution_count": 17,
     "metadata": {},
     "output_type": "execute_result"
    }
   ],
   "source": [
    "data.describe()"
   ]
  },
  {
   "cell_type": "code",
   "execution_count": 18,
   "metadata": {},
   "outputs": [
    {
     "data": {
      "text/plain": [
       "0    2505\n",
       "1    2495\n",
       "Name: Пол, dtype: int64"
      ]
     },
     "execution_count": 18,
     "metadata": {},
     "output_type": "execute_result"
    }
   ],
   "source": [
    "data[\"Пол\"].value_counts()"
   ]
  },
  {
   "cell_type": "markdown",
   "metadata": {},
   "source": [
    "<b> Вывод: </b>\n",
    "\n",
    "Данные состоят из 5000 строк\n",
    "\n",
    "Признаки: Пол, Возраст, Зарплата, Члены, семьи\n",
    "\n",
    "Целевой признак: количество страховых выплат\n",
    "\n",
    "Данные в предобработке не нуждаются\n",
    "\n",
    "Разделение данных по полу почти в равном колличестве"
   ]
  },
  {
   "cell_type": "markdown",
   "metadata": {},
   "source": [
    "## Умножение матриц"
   ]
  },
  {
   "cell_type": "markdown",
   "metadata": {},
   "source": [
    "В этом задании вы можете записывать формулы в *Jupyter Notebook.*\n",
    "\n",
    "Чтобы записать формулу внутри текста, окружите её символами доллара \\\\$; если снаружи —  двойными символами \\\\$\\\\$. Эти формулы записываются на языке вёрстки *LaTeX.* \n",
    "\n",
    "Для примера мы записали формулы линейной регрессии. Можете их скопировать и отредактировать, чтобы решить задачу.\n",
    "\n",
    "Работать в *LaTeX* необязательно."
   ]
  },
  {
   "cell_type": "markdown",
   "metadata": {},
   "source": [
    "Обозначения:\n",
    "\n",
    "- $X$ — матрица признаков (нулевой столбец состоит из единиц)\n",
    "\n",
    "- $y$ — вектор целевого признака\n",
    "\n",
    "- $P$ — матрица, на которую умножаются признаки\n",
    "\n",
    "- $w$ — вектор весов линейной регрессии (нулевой элемент равен сдвигу)"
   ]
  },
  {
   "cell_type": "markdown",
   "metadata": {},
   "source": [
    "Предсказания:\n",
    "\n",
    "$$\n",
    "a = Xw\n",
    "$$\n",
    "\n",
    "Задача обучения:\n",
    "\n",
    "$$\n",
    "w = \\arg\\min_w MSE(Xw, y)\n",
    "$$\n",
    "\n",
    "Формула обучения:\n",
    "\n",
    "$$\n",
    "w = (X^T X)^{-1} X^T y\n",
    "$$"
   ]
  },
  {
   "cell_type": "markdown",
   "metadata": {},
   "source": [
    "<b> Признаки умножают на обратимую матрицу. Изменится ли качество линейной регрессии? (Её можно обучить заново.) </b>"
   ]
  },
  {
   "cell_type": "markdown",
   "metadata": {},
   "source": [
    "**Ответ:** Не изменится.\n",
    "\n",
    "**Обоснование:**\n",
    "\n",
    "Признаки умножают на обратимую матрицу  :\n",
    "\n",
    "$$\n",
    "w1 = ((XP)^T XP)^{-1} (XP)^T y\n",
    "$$\n",
    "\n",
    "Транспонированное произведение матриц равно произведению транспонированных матриц, взятых в обратном порядке\n",
    "\n",
    "$$\n",
    "w1 = (P^T X^T XP)^{-1} P^T X^T y\n",
    "$$\n",
    "\n",
    "Используем формулу\n",
    "\n",
    "$$\n",
    "(A B)^{-1} = B^{-1} A^{-1}\n",
    "$$\n",
    "\n",
    "где A и B; $ P, P^T и X, X^T $ квадртаные \n",
    "\n",
    "$$\n",
    "w1 = P^{-1} (X^T X)^{-1} (P^T)^{-1} P^T X^T y\n",
    "$$\n",
    "\n",
    "Умножение матрицы на обратную матрицу равно единичной матрице\n",
    "\n",
    "$$\n",
    "w1 = P^{-1} (X^T X)^{-1} IX^T y\n",
    "$$\n",
    "\n",
    "$$\n",
    "a1 = XPw1\n",
    "$$\n",
    "\n",
    "$$\n",
    "a1 = XPP^{-1} (X^T X)^{-1} X^T y\n",
    "$$\n",
    "\n",
    "$$\n",
    "a1 = X(X^T X)^{-1} X^T y\n",
    "$$\n",
    "\n",
    "$$\n",
    "a1 = Xw\n",
    "$$"
   ]
  },
  {
   "cell_type": "markdown",
   "metadata": {},
   "source": [
    "<b> Вывод: </b>\n",
    "\n",
    "Преобразовав формулы стало понятно, что при умножении признаков на обратимую матрицу качество не меняется."
   ]
  },
  {
   "cell_type": "markdown",
   "metadata": {},
   "source": [
    "## Алгоритм преобразования"
   ]
  },
  {
   "cell_type": "markdown",
   "metadata": {},
   "source": [
    "**Алгоритм**\n",
    "\n",
    "Необходимо умножить матрицу признаков на матрицу шифрования так как при умножении количество столбцов матрицы A должно быть равно количеству строк матрицы, полученная матрица будет иметь количество строк матрицы A и количество столбцов матрицы B. Поэтому размер матрицы щифрования на которую умножают равен 4х4\n",
    "\n",
    "Матрицу шифрования сгенерируем с помощью np.random.normal()"
   ]
  },
  {
   "cell_type": "markdown",
   "metadata": {},
   "source": [
    "**Обоснование**"
   ]
  },
  {
   "cell_type": "code",
   "execution_count": 19,
   "metadata": {},
   "outputs": [],
   "source": [
    "#разобьем data на признаки и целевой признак\n",
    "features = data.drop('Страховые выплаты', axis=1)\n",
    "target = data['Страховые выплаты']"
   ]
  },
  {
   "cell_type": "code",
   "execution_count": 20,
   "metadata": {},
   "outputs": [
    {
     "data": {
      "text/plain": [
       "array([[-1.51690857, -0.53460514, -0.21467252, -0.43861993],\n",
       "       [-0.16897843, -0.9161244 ,  1.59661826, -0.97983047],\n",
       "       [ 0.92525407,  0.67611277, -0.45815176,  0.08451254],\n",
       "       [ 0.98430731,  1.02040552,  1.27933718,  0.79518379]])"
      ]
     },
     "execution_count": 20,
     "metadata": {},
     "output_type": "execute_result"
    }
   ],
   "source": [
    "# Создадим обратимую квадратную матрицу со случайными числами размерностью столбцов features\n",
    "state = np.random.RandomState(12345)\n",
    "matrix_cr=np.random.normal(size=(features.shape[1],features.shape[1]))\n",
    "matrix_cr"
   ]
  },
  {
   "cell_type": "code",
   "execution_count": 27,
   "metadata": {},
   "outputs": [
    {
     "data": {
      "text/plain": [
       "array([[-1.51690857, -0.53460514, -0.21467252, -0.43861993],\n",
       "       [-0.16897843, -0.9161244 ,  1.59661826, -0.97983047],\n",
       "       [ 0.92525407,  0.67611277, -0.45815176,  0.08451254],\n",
       "       [ 0.98430731,  1.02040552,  1.27933718,  0.79518379]])"
      ]
     },
     "execution_count": 27,
     "metadata": {},
     "output_type": "execute_result"
    }
   ],
   "source": [
    "# Проврка на обратимость созданной матрицы\n",
    "matrix_cr_inv = np.linalg.inv(matrix_cr)\n",
    "matrix_cr_inv_inv = np.linalg.inv(matrix_cr_inv)\n",
    "matrix_cr_inv_inv"
   ]
  },
  {
   "cell_type": "markdown",
   "metadata": {},
   "source": [
    "<b> Матрица обратима - при двойной инверсии получили исходную матрицу matrix_cr </b>"
   ]
  },
  {
   "cell_type": "code",
   "execution_count": 22,
   "metadata": {},
   "outputs": [
    {
     "data": {
      "text/html": [
       "<div>\n",
       "<style scoped>\n",
       "    .dataframe tbody tr th:only-of-type {\n",
       "        vertical-align: middle;\n",
       "    }\n",
       "\n",
       "    .dataframe tbody tr th {\n",
       "        vertical-align: top;\n",
       "    }\n",
       "\n",
       "    .dataframe thead th {\n",
       "        text-align: right;\n",
       "    }\n",
       "</style>\n",
       "<table border=\"1\" class=\"dataframe\">\n",
       "  <thead>\n",
       "    <tr style=\"text-align: right;\">\n",
       "      <th></th>\n",
       "      <th>0</th>\n",
       "      <th>1</th>\n",
       "      <th>2</th>\n",
       "      <th>3</th>\n",
       "    </tr>\n",
       "  </thead>\n",
       "  <tbody>\n",
       "    <tr>\n",
       "      <th>0</th>\n",
       "      <td>45885.141307</td>\n",
       "      <td>33498.118276</td>\n",
       "      <td>-22657.801391</td>\n",
       "      <td>4152.005488</td>\n",
       "    </tr>\n",
       "    <tr>\n",
       "      <th>1</th>\n",
       "      <td>35152.866076</td>\n",
       "      <td>25651.164084</td>\n",
       "      <td>-17335.043186</td>\n",
       "      <td>3167.199494</td>\n",
       "    </tr>\n",
       "    <tr>\n",
       "      <th>2</th>\n",
       "      <td>19425.435160</td>\n",
       "      <td>14171.800640</td>\n",
       "      <td>-9574.885076</td>\n",
       "      <td>1746.348252</td>\n",
       "    </tr>\n",
       "    <tr>\n",
       "      <th>3</th>\n",
       "      <td>38581.514915</td>\n",
       "      <td>28176.704862</td>\n",
       "      <td>-19068.840825</td>\n",
       "      <td>3505.186837</td>\n",
       "    </tr>\n",
       "    <tr>\n",
       "      <th>4</th>\n",
       "      <td>24142.883003</td>\n",
       "      <td>17620.357305</td>\n",
       "      <td>-11913.270354</td>\n",
       "      <td>2177.903415</td>\n",
       "    </tr>\n",
       "    <tr>\n",
       "      <th>...</th>\n",
       "      <td>...</td>\n",
       "      <td>...</td>\n",
       "      <td>...</td>\n",
       "      <td>...</td>\n",
       "    </tr>\n",
       "    <tr>\n",
       "      <th>4995</th>\n",
       "      <td>33028.807627</td>\n",
       "      <td>24113.615349</td>\n",
       "      <td>-16308.753924</td>\n",
       "      <td>2991.252785</td>\n",
       "    </tr>\n",
       "    <tr>\n",
       "      <th>4996</th>\n",
       "      <td>48478.552470</td>\n",
       "      <td>35398.181518</td>\n",
       "      <td>-23951.587980</td>\n",
       "      <td>4395.938033</td>\n",
       "    </tr>\n",
       "    <tr>\n",
       "      <th>4997</th>\n",
       "      <td>31364.702123</td>\n",
       "      <td>22903.941352</td>\n",
       "      <td>-15496.853698</td>\n",
       "      <td>2846.968857</td>\n",
       "    </tr>\n",
       "    <tr>\n",
       "      <th>4998</th>\n",
       "      <td>30253.526677</td>\n",
       "      <td>22091.259575</td>\n",
       "      <td>-14942.813683</td>\n",
       "      <td>2743.950712</td>\n",
       "    </tr>\n",
       "    <tr>\n",
       "      <th>4999</th>\n",
       "      <td>37560.051369</td>\n",
       "      <td>27425.012930</td>\n",
       "      <td>-18555.191569</td>\n",
       "      <td>3404.130426</td>\n",
       "    </tr>\n",
       "  </tbody>\n",
       "</table>\n",
       "<p>5000 rows × 4 columns</p>\n",
       "</div>"
      ],
      "text/plain": [
       "                 0             1             2            3\n",
       "0     45885.141307  33498.118276 -22657.801391  4152.005488\n",
       "1     35152.866076  25651.164084 -17335.043186  3167.199494\n",
       "2     19425.435160  14171.800640  -9574.885076  1746.348252\n",
       "3     38581.514915  28176.704862 -19068.840825  3505.186837\n",
       "4     24142.883003  17620.357305 -11913.270354  2177.903415\n",
       "...            ...           ...           ...          ...\n",
       "4995  33028.807627  24113.615349 -16308.753924  2991.252785\n",
       "4996  48478.552470  35398.181518 -23951.587980  4395.938033\n",
       "4997  31364.702123  22903.941352 -15496.853698  2846.968857\n",
       "4998  30253.526677  22091.259575 -14942.813683  2743.950712\n",
       "4999  37560.051369  27425.012930 -18555.191569  3404.130426\n",
       "\n",
       "[5000 rows x 4 columns]"
      ]
     },
     "execution_count": 22,
     "metadata": {},
     "output_type": "execute_result"
    }
   ],
   "source": [
    "# зашифруем даннные путем умножения матриц\n",
    "features_cr=features @ matrix_cr\n",
    "features_cr"
   ]
  },
  {
   "cell_type": "markdown",
   "metadata": {},
   "source": [
    "<b>Вывод</b>\n",
    "\n",
    "После умножения размер матрицы признаков и кодированных признаков совпадает"
   ]
  },
  {
   "cell_type": "markdown",
   "metadata": {},
   "source": [
    "## Проверка алгоритма"
   ]
  },
  {
   "cell_type": "markdown",
   "metadata": {},
   "source": [
    "<b> Качество линейной регресии на нешифрованных данных </b>"
   ]
  },
  {
   "cell_type": "code",
   "execution_count": 23,
   "metadata": {},
   "outputs": [
    {
     "name": "stdout",
     "output_type": "stream",
     "text": [
      "R2: 0.4249455028666801\n"
     ]
    }
   ],
   "source": [
    "model = LinearRegression()\n",
    "\n",
    "model.fit(features, target)\n",
    "\n",
    "predictions = model.predict(features)\n",
    "\n",
    "print('R2:', r2_score(target,predictions))"
   ]
  },
  {
   "cell_type": "markdown",
   "metadata": {},
   "source": [
    "<b> Качество линейной регресии c шифрованием данных </b>"
   ]
  },
  {
   "cell_type": "code",
   "execution_count": 24,
   "metadata": {},
   "outputs": [
    {
     "name": "stdout",
     "output_type": "stream",
     "text": [
      "R2: 0.4249455028666794\n"
     ]
    }
   ],
   "source": [
    "model = LinearRegression()\n",
    "\n",
    "model.fit(features_cr, target)\n",
    "\n",
    "predictions = model.predict(features_cr)\n",
    "\n",
    "print('R2:', r2_score(target,predictions))"
   ]
  },
  {
   "cell_type": "markdown",
   "metadata": {},
   "source": [
    "<b>Вывод:</b>\n",
    "\n",
    "Качество моделей с шифрованием при помощи умножения на обратимую матрицу со случайными числами не изменяется.\n",
    "\n",
    "Небольшое расхождение предположу связанно с тем, что операции с float накапливают небольшую погрешность."
   ]
  }
 ],
 "metadata": {
  "ExecuteTimeLog": [
   {
    "duration": 966,
    "start_time": "2022-06-07T11:37:48.140Z"
   },
   {
    "duration": 79,
    "start_time": "2022-06-07T11:40:45.421Z"
   },
   {
    "duration": 28,
    "start_time": "2022-06-07T11:41:31.681Z"
   },
   {
    "duration": 79,
    "start_time": "2022-06-07T11:41:33.134Z"
   },
   {
    "duration": 25,
    "start_time": "2022-06-07T11:42:23.706Z"
   },
   {
    "duration": 6,
    "start_time": "2022-06-07T11:42:51.709Z"
   },
   {
    "duration": 77,
    "start_time": "2022-06-07T14:53:42.388Z"
   },
   {
    "duration": 1139,
    "start_time": "2022-06-07T14:53:48.999Z"
   },
   {
    "duration": 90,
    "start_time": "2022-06-07T14:53:50.141Z"
   },
   {
    "duration": 77,
    "start_time": "2022-06-07T14:53:50.233Z"
   },
   {
    "duration": 25,
    "start_time": "2022-06-07T14:53:50.312Z"
   },
   {
    "duration": 6,
    "start_time": "2022-06-07T14:53:50.338Z"
   },
   {
    "duration": 6,
    "start_time": "2022-06-07T14:53:50.346Z"
   },
   {
    "duration": 4,
    "start_time": "2022-06-07T14:54:22.221Z"
   },
   {
    "duration": 12,
    "start_time": "2022-06-07T14:54:35.147Z"
   },
   {
    "duration": 15,
    "start_time": "2022-06-07T14:57:23.619Z"
   },
   {
    "duration": 10,
    "start_time": "2022-06-07T14:57:59.956Z"
   },
   {
    "duration": 45,
    "start_time": "2022-06-07T18:00:51.286Z"
   },
   {
    "duration": 768,
    "start_time": "2022-06-08T07:44:06.805Z"
   },
   {
    "duration": 89,
    "start_time": "2022-06-08T07:44:07.575Z"
   },
   {
    "duration": 68,
    "start_time": "2022-06-08T07:44:07.665Z"
   },
   {
    "duration": 23,
    "start_time": "2022-06-08T07:44:07.734Z"
   },
   {
    "duration": 5,
    "start_time": "2022-06-08T07:44:07.759Z"
   },
   {
    "duration": 11,
    "start_time": "2022-06-08T07:44:07.765Z"
   },
   {
    "duration": 5,
    "start_time": "2022-06-08T07:44:07.777Z"
   },
   {
    "duration": 13,
    "start_time": "2022-06-08T07:44:07.783Z"
   },
   {
    "duration": 9,
    "start_time": "2022-06-08T07:44:07.797Z"
   },
   {
    "duration": 104,
    "start_time": "2022-06-08T07:44:07.852Z"
   },
   {
    "duration": 4,
    "start_time": "2022-06-08T07:45:50.383Z"
   },
   {
    "duration": 7,
    "start_time": "2022-06-08T07:46:09.260Z"
   },
   {
    "duration": 6,
    "start_time": "2022-06-08T07:46:44.925Z"
   },
   {
    "duration": 3,
    "start_time": "2022-06-08T08:13:18.534Z"
   },
   {
    "duration": 35,
    "start_time": "2022-06-08T08:13:18.539Z"
   },
   {
    "duration": 15,
    "start_time": "2022-06-08T08:13:18.576Z"
   },
   {
    "duration": 22,
    "start_time": "2022-06-08T08:13:18.593Z"
   },
   {
    "duration": 5,
    "start_time": "2022-06-08T08:13:18.617Z"
   },
   {
    "duration": 10,
    "start_time": "2022-06-08T08:13:18.623Z"
   },
   {
    "duration": 9,
    "start_time": "2022-06-08T08:13:18.635Z"
   },
   {
    "duration": 9,
    "start_time": "2022-06-08T08:13:18.646Z"
   },
   {
    "duration": 15,
    "start_time": "2022-06-08T08:13:18.657Z"
   },
   {
    "duration": 11,
    "start_time": "2022-06-08T08:13:18.753Z"
   },
   {
    "duration": 198,
    "start_time": "2022-06-08T08:13:18.766Z"
   },
   {
    "duration": 5,
    "start_time": "2022-06-08T08:19:04.427Z"
   },
   {
    "duration": 6,
    "start_time": "2022-06-08T08:19:49.556Z"
   },
   {
    "duration": 5,
    "start_time": "2022-06-08T08:21:48.957Z"
   },
   {
    "duration": 33,
    "start_time": "2022-06-08T08:26:10.483Z"
   }
  ],
  "kernelspec": {
   "display_name": "Python 3 (ipykernel)",
   "language": "python",
   "name": "python3"
  },
  "language_info": {
   "codemirror_mode": {
    "name": "ipython",
    "version": 3
   },
   "file_extension": ".py",
   "mimetype": "text/x-python",
   "name": "python",
   "nbconvert_exporter": "python",
   "pygments_lexer": "ipython3",
   "version": "3.9.7"
  },
  "toc": {
   "base_numbering": 1,
   "nav_menu": {},
   "number_sections": true,
   "sideBar": true,
   "skip_h1_title": true,
   "title_cell": "Содержание",
   "title_sidebar": "Contents",
   "toc_cell": true,
   "toc_position": {},
   "toc_section_display": true,
   "toc_window_display": true
  }
 },
 "nbformat": 4,
 "nbformat_minor": 2
}
