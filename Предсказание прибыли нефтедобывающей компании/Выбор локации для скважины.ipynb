{
 "cells": [
  {
   "cell_type": "markdown",
   "metadata": {},
   "source": [
    "# Выбор локации для скважины"
   ]
  },
  {
   "cell_type": "markdown",
   "metadata": {},
   "source": [
    "Допустим, вы работаете в добывающей компании «ГлавРосГосНефть». Нужно решить, где бурить новую скважину.\n",
    "\n",
    "Вам предоставлены пробы нефти в трёх регионах: в каждом 10 000 месторождений, где измерили качество нефти и объём её запасов. Постройте модель машинного обучения, которая поможет определить регион, где добыча принесёт наибольшую прибыль. Проанализируйте возможную прибыль и риски техникой *Bootstrap.*\n",
    "\n",
    "Шаги для выбора локации:\n",
    "\n",
    "- В избранном регионе ищут месторождения, для каждого определяют значения признаков;\n",
    "- Строят модель и оценивают объём запасов;\n",
    "- Выбирают месторождения с самым высокими оценками значений. Количество месторождений зависит от бюджета компании и стоимости разработки одной скважины;\n",
    "- Прибыль равна суммарной прибыли отобранных месторождений."
   ]
  },
  {
   "cell_type": "markdown",
   "metadata": {},
   "source": [
    "## Загрузка и подготовка данных"
   ]
  },
  {
   "cell_type": "code",
   "execution_count": 34,
   "metadata": {},
   "outputs": [],
   "source": [
    "import pandas as pd\n",
    "import numpy as np\n",
    "from sklearn.linear_model import LinearRegression\n",
    "from sklearn.metrics import mean_squared_error\n",
    "from sklearn.model_selection import train_test_split\n",
    "import matplotlib.pyplot as plt\n",
    "from sklearn.preprocessing import StandardScaler\n",
    "import warnings\n",
    "warnings.filterwarnings(\"ignore\")"
   ]
  },
  {
   "cell_type": "code",
   "execution_count": 35,
   "metadata": {},
   "outputs": [],
   "source": [
    "geo_data_0 = pd.read_csv('/datasets/geo_data_0.csv')\n",
    "geo_data_1 = pd.read_csv('/datasets/geo_data_1.csv')\n",
    "geo_data_2 = pd.read_csv('/datasets/geo_data_2.csv')"
   ]
  },
  {
   "cell_type": "code",
   "execution_count": 36,
   "metadata": {},
   "outputs": [],
   "source": [
    "# функция для выведения данных для анализа датафреймов\n",
    "def research(data):\n",
    "\n",
    "    display(data.head())\n",
    "    print(data.info()) \n",
    "    display(data.describe())\n",
    "    print('дубликаты', geo_data_1.duplicated().sum())"
   ]
  },
  {
   "cell_type": "markdown",
   "metadata": {},
   "source": [
    "<b> Регион 0 </b>"
   ]
  },
  {
   "cell_type": "code",
   "execution_count": 37,
   "metadata": {
    "scrolled": true
   },
   "outputs": [
    {
     "data": {
      "text/html": [
       "<div>\n",
       "<style scoped>\n",
       "    .dataframe tbody tr th:only-of-type {\n",
       "        vertical-align: middle;\n",
       "    }\n",
       "\n",
       "    .dataframe tbody tr th {\n",
       "        vertical-align: top;\n",
       "    }\n",
       "\n",
       "    .dataframe thead th {\n",
       "        text-align: right;\n",
       "    }\n",
       "</style>\n",
       "<table border=\"1\" class=\"dataframe\">\n",
       "  <thead>\n",
       "    <tr style=\"text-align: right;\">\n",
       "      <th></th>\n",
       "      <th>id</th>\n",
       "      <th>f0</th>\n",
       "      <th>f1</th>\n",
       "      <th>f2</th>\n",
       "      <th>product</th>\n",
       "    </tr>\n",
       "  </thead>\n",
       "  <tbody>\n",
       "    <tr>\n",
       "      <th>0</th>\n",
       "      <td>txEyH</td>\n",
       "      <td>0.705745</td>\n",
       "      <td>-0.497823</td>\n",
       "      <td>1.221170</td>\n",
       "      <td>105.280062</td>\n",
       "    </tr>\n",
       "    <tr>\n",
       "      <th>1</th>\n",
       "      <td>2acmU</td>\n",
       "      <td>1.334711</td>\n",
       "      <td>-0.340164</td>\n",
       "      <td>4.365080</td>\n",
       "      <td>73.037750</td>\n",
       "    </tr>\n",
       "    <tr>\n",
       "      <th>2</th>\n",
       "      <td>409Wp</td>\n",
       "      <td>1.022732</td>\n",
       "      <td>0.151990</td>\n",
       "      <td>1.419926</td>\n",
       "      <td>85.265647</td>\n",
       "    </tr>\n",
       "    <tr>\n",
       "      <th>3</th>\n",
       "      <td>iJLyR</td>\n",
       "      <td>-0.032172</td>\n",
       "      <td>0.139033</td>\n",
       "      <td>2.978566</td>\n",
       "      <td>168.620776</td>\n",
       "    </tr>\n",
       "    <tr>\n",
       "      <th>4</th>\n",
       "      <td>Xdl7t</td>\n",
       "      <td>1.988431</td>\n",
       "      <td>0.155413</td>\n",
       "      <td>4.751769</td>\n",
       "      <td>154.036647</td>\n",
       "    </tr>\n",
       "  </tbody>\n",
       "</table>\n",
       "</div>"
      ],
      "text/plain": [
       "      id        f0        f1        f2     product\n",
       "0  txEyH  0.705745 -0.497823  1.221170  105.280062\n",
       "1  2acmU  1.334711 -0.340164  4.365080   73.037750\n",
       "2  409Wp  1.022732  0.151990  1.419926   85.265647\n",
       "3  iJLyR -0.032172  0.139033  2.978566  168.620776\n",
       "4  Xdl7t  1.988431  0.155413  4.751769  154.036647"
      ]
     },
     "metadata": {},
     "output_type": "display_data"
    },
    {
     "name": "stdout",
     "output_type": "stream",
     "text": [
      "<class 'pandas.core.frame.DataFrame'>\n",
      "RangeIndex: 100000 entries, 0 to 99999\n",
      "Data columns (total 5 columns):\n",
      " #   Column   Non-Null Count   Dtype  \n",
      "---  ------   --------------   -----  \n",
      " 0   id       100000 non-null  object \n",
      " 1   f0       100000 non-null  float64\n",
      " 2   f1       100000 non-null  float64\n",
      " 3   f2       100000 non-null  float64\n",
      " 4   product  100000 non-null  float64\n",
      "dtypes: float64(4), object(1)\n",
      "memory usage: 3.8+ MB\n",
      "None\n"
     ]
    },
    {
     "data": {
      "text/html": [
       "<div>\n",
       "<style scoped>\n",
       "    .dataframe tbody tr th:only-of-type {\n",
       "        vertical-align: middle;\n",
       "    }\n",
       "\n",
       "    .dataframe tbody tr th {\n",
       "        vertical-align: top;\n",
       "    }\n",
       "\n",
       "    .dataframe thead th {\n",
       "        text-align: right;\n",
       "    }\n",
       "</style>\n",
       "<table border=\"1\" class=\"dataframe\">\n",
       "  <thead>\n",
       "    <tr style=\"text-align: right;\">\n",
       "      <th></th>\n",
       "      <th>f0</th>\n",
       "      <th>f1</th>\n",
       "      <th>f2</th>\n",
       "      <th>product</th>\n",
       "    </tr>\n",
       "  </thead>\n",
       "  <tbody>\n",
       "    <tr>\n",
       "      <th>count</th>\n",
       "      <td>100000.000000</td>\n",
       "      <td>100000.000000</td>\n",
       "      <td>100000.000000</td>\n",
       "      <td>100000.000000</td>\n",
       "    </tr>\n",
       "    <tr>\n",
       "      <th>mean</th>\n",
       "      <td>0.500419</td>\n",
       "      <td>0.250143</td>\n",
       "      <td>2.502647</td>\n",
       "      <td>92.500000</td>\n",
       "    </tr>\n",
       "    <tr>\n",
       "      <th>std</th>\n",
       "      <td>0.871832</td>\n",
       "      <td>0.504433</td>\n",
       "      <td>3.248248</td>\n",
       "      <td>44.288691</td>\n",
       "    </tr>\n",
       "    <tr>\n",
       "      <th>min</th>\n",
       "      <td>-1.408605</td>\n",
       "      <td>-0.848218</td>\n",
       "      <td>-12.088328</td>\n",
       "      <td>0.000000</td>\n",
       "    </tr>\n",
       "    <tr>\n",
       "      <th>25%</th>\n",
       "      <td>-0.072580</td>\n",
       "      <td>-0.200881</td>\n",
       "      <td>0.287748</td>\n",
       "      <td>56.497507</td>\n",
       "    </tr>\n",
       "    <tr>\n",
       "      <th>50%</th>\n",
       "      <td>0.502360</td>\n",
       "      <td>0.250252</td>\n",
       "      <td>2.515969</td>\n",
       "      <td>91.849972</td>\n",
       "    </tr>\n",
       "    <tr>\n",
       "      <th>75%</th>\n",
       "      <td>1.073581</td>\n",
       "      <td>0.700646</td>\n",
       "      <td>4.715088</td>\n",
       "      <td>128.564089</td>\n",
       "    </tr>\n",
       "    <tr>\n",
       "      <th>max</th>\n",
       "      <td>2.362331</td>\n",
       "      <td>1.343769</td>\n",
       "      <td>16.003790</td>\n",
       "      <td>185.364347</td>\n",
       "    </tr>\n",
       "  </tbody>\n",
       "</table>\n",
       "</div>"
      ],
      "text/plain": [
       "                  f0             f1             f2        product\n",
       "count  100000.000000  100000.000000  100000.000000  100000.000000\n",
       "mean        0.500419       0.250143       2.502647      92.500000\n",
       "std         0.871832       0.504433       3.248248      44.288691\n",
       "min        -1.408605      -0.848218     -12.088328       0.000000\n",
       "25%        -0.072580      -0.200881       0.287748      56.497507\n",
       "50%         0.502360       0.250252       2.515969      91.849972\n",
       "75%         1.073581       0.700646       4.715088     128.564089\n",
       "max         2.362331       1.343769      16.003790     185.364347"
      ]
     },
     "metadata": {},
     "output_type": "display_data"
    },
    {
     "name": "stdout",
     "output_type": "stream",
     "text": [
      "дубликаты 0\n"
     ]
    }
   ],
   "source": [
    "research(geo_data_0)"
   ]
  },
  {
   "cell_type": "markdown",
   "metadata": {},
   "source": [
    "<b> Регион 1 </b>"
   ]
  },
  {
   "cell_type": "code",
   "execution_count": 38,
   "metadata": {},
   "outputs": [
    {
     "data": {
      "text/html": [
       "<div>\n",
       "<style scoped>\n",
       "    .dataframe tbody tr th:only-of-type {\n",
       "        vertical-align: middle;\n",
       "    }\n",
       "\n",
       "    .dataframe tbody tr th {\n",
       "        vertical-align: top;\n",
       "    }\n",
       "\n",
       "    .dataframe thead th {\n",
       "        text-align: right;\n",
       "    }\n",
       "</style>\n",
       "<table border=\"1\" class=\"dataframe\">\n",
       "  <thead>\n",
       "    <tr style=\"text-align: right;\">\n",
       "      <th></th>\n",
       "      <th>id</th>\n",
       "      <th>f0</th>\n",
       "      <th>f1</th>\n",
       "      <th>f2</th>\n",
       "      <th>product</th>\n",
       "    </tr>\n",
       "  </thead>\n",
       "  <tbody>\n",
       "    <tr>\n",
       "      <th>0</th>\n",
       "      <td>kBEdx</td>\n",
       "      <td>-15.001348</td>\n",
       "      <td>-8.276000</td>\n",
       "      <td>-0.005876</td>\n",
       "      <td>3.179103</td>\n",
       "    </tr>\n",
       "    <tr>\n",
       "      <th>1</th>\n",
       "      <td>62mP7</td>\n",
       "      <td>14.272088</td>\n",
       "      <td>-3.475083</td>\n",
       "      <td>0.999183</td>\n",
       "      <td>26.953261</td>\n",
       "    </tr>\n",
       "    <tr>\n",
       "      <th>2</th>\n",
       "      <td>vyE1P</td>\n",
       "      <td>6.263187</td>\n",
       "      <td>-5.948386</td>\n",
       "      <td>5.001160</td>\n",
       "      <td>134.766305</td>\n",
       "    </tr>\n",
       "    <tr>\n",
       "      <th>3</th>\n",
       "      <td>KcrkZ</td>\n",
       "      <td>-13.081196</td>\n",
       "      <td>-11.506057</td>\n",
       "      <td>4.999415</td>\n",
       "      <td>137.945408</td>\n",
       "    </tr>\n",
       "    <tr>\n",
       "      <th>4</th>\n",
       "      <td>AHL4O</td>\n",
       "      <td>12.702195</td>\n",
       "      <td>-8.147433</td>\n",
       "      <td>5.004363</td>\n",
       "      <td>134.766305</td>\n",
       "    </tr>\n",
       "  </tbody>\n",
       "</table>\n",
       "</div>"
      ],
      "text/plain": [
       "      id         f0         f1        f2     product\n",
       "0  kBEdx -15.001348  -8.276000 -0.005876    3.179103\n",
       "1  62mP7  14.272088  -3.475083  0.999183   26.953261\n",
       "2  vyE1P   6.263187  -5.948386  5.001160  134.766305\n",
       "3  KcrkZ -13.081196 -11.506057  4.999415  137.945408\n",
       "4  AHL4O  12.702195  -8.147433  5.004363  134.766305"
      ]
     },
     "metadata": {},
     "output_type": "display_data"
    },
    {
     "name": "stdout",
     "output_type": "stream",
     "text": [
      "<class 'pandas.core.frame.DataFrame'>\n",
      "RangeIndex: 100000 entries, 0 to 99999\n",
      "Data columns (total 5 columns):\n",
      " #   Column   Non-Null Count   Dtype  \n",
      "---  ------   --------------   -----  \n",
      " 0   id       100000 non-null  object \n",
      " 1   f0       100000 non-null  float64\n",
      " 2   f1       100000 non-null  float64\n",
      " 3   f2       100000 non-null  float64\n",
      " 4   product  100000 non-null  float64\n",
      "dtypes: float64(4), object(1)\n",
      "memory usage: 3.8+ MB\n",
      "None\n"
     ]
    },
    {
     "data": {
      "text/html": [
       "<div>\n",
       "<style scoped>\n",
       "    .dataframe tbody tr th:only-of-type {\n",
       "        vertical-align: middle;\n",
       "    }\n",
       "\n",
       "    .dataframe tbody tr th {\n",
       "        vertical-align: top;\n",
       "    }\n",
       "\n",
       "    .dataframe thead th {\n",
       "        text-align: right;\n",
       "    }\n",
       "</style>\n",
       "<table border=\"1\" class=\"dataframe\">\n",
       "  <thead>\n",
       "    <tr style=\"text-align: right;\">\n",
       "      <th></th>\n",
       "      <th>f0</th>\n",
       "      <th>f1</th>\n",
       "      <th>f2</th>\n",
       "      <th>product</th>\n",
       "    </tr>\n",
       "  </thead>\n",
       "  <tbody>\n",
       "    <tr>\n",
       "      <th>count</th>\n",
       "      <td>100000.000000</td>\n",
       "      <td>100000.000000</td>\n",
       "      <td>100000.000000</td>\n",
       "      <td>100000.000000</td>\n",
       "    </tr>\n",
       "    <tr>\n",
       "      <th>mean</th>\n",
       "      <td>1.141296</td>\n",
       "      <td>-4.796579</td>\n",
       "      <td>2.494541</td>\n",
       "      <td>68.825000</td>\n",
       "    </tr>\n",
       "    <tr>\n",
       "      <th>std</th>\n",
       "      <td>8.965932</td>\n",
       "      <td>5.119872</td>\n",
       "      <td>1.703572</td>\n",
       "      <td>45.944423</td>\n",
       "    </tr>\n",
       "    <tr>\n",
       "      <th>min</th>\n",
       "      <td>-31.609576</td>\n",
       "      <td>-26.358598</td>\n",
       "      <td>-0.018144</td>\n",
       "      <td>0.000000</td>\n",
       "    </tr>\n",
       "    <tr>\n",
       "      <th>25%</th>\n",
       "      <td>-6.298551</td>\n",
       "      <td>-8.267985</td>\n",
       "      <td>1.000021</td>\n",
       "      <td>26.953261</td>\n",
       "    </tr>\n",
       "    <tr>\n",
       "      <th>50%</th>\n",
       "      <td>1.153055</td>\n",
       "      <td>-4.813172</td>\n",
       "      <td>2.011479</td>\n",
       "      <td>57.085625</td>\n",
       "    </tr>\n",
       "    <tr>\n",
       "      <th>75%</th>\n",
       "      <td>8.621015</td>\n",
       "      <td>-1.332816</td>\n",
       "      <td>3.999904</td>\n",
       "      <td>107.813044</td>\n",
       "    </tr>\n",
       "    <tr>\n",
       "      <th>max</th>\n",
       "      <td>29.421755</td>\n",
       "      <td>18.734063</td>\n",
       "      <td>5.019721</td>\n",
       "      <td>137.945408</td>\n",
       "    </tr>\n",
       "  </tbody>\n",
       "</table>\n",
       "</div>"
      ],
      "text/plain": [
       "                  f0             f1             f2        product\n",
       "count  100000.000000  100000.000000  100000.000000  100000.000000\n",
       "mean        1.141296      -4.796579       2.494541      68.825000\n",
       "std         8.965932       5.119872       1.703572      45.944423\n",
       "min       -31.609576     -26.358598      -0.018144       0.000000\n",
       "25%        -6.298551      -8.267985       1.000021      26.953261\n",
       "50%         1.153055      -4.813172       2.011479      57.085625\n",
       "75%         8.621015      -1.332816       3.999904     107.813044\n",
       "max        29.421755      18.734063       5.019721     137.945408"
      ]
     },
     "metadata": {},
     "output_type": "display_data"
    },
    {
     "name": "stdout",
     "output_type": "stream",
     "text": [
      "дубликаты 0\n"
     ]
    }
   ],
   "source": [
    "research(geo_data_1)"
   ]
  },
  {
   "cell_type": "markdown",
   "metadata": {},
   "source": [
    "<b> Регион 2 </b>"
   ]
  },
  {
   "cell_type": "code",
   "execution_count": 39,
   "metadata": {},
   "outputs": [
    {
     "data": {
      "text/html": [
       "<div>\n",
       "<style scoped>\n",
       "    .dataframe tbody tr th:only-of-type {\n",
       "        vertical-align: middle;\n",
       "    }\n",
       "\n",
       "    .dataframe tbody tr th {\n",
       "        vertical-align: top;\n",
       "    }\n",
       "\n",
       "    .dataframe thead th {\n",
       "        text-align: right;\n",
       "    }\n",
       "</style>\n",
       "<table border=\"1\" class=\"dataframe\">\n",
       "  <thead>\n",
       "    <tr style=\"text-align: right;\">\n",
       "      <th></th>\n",
       "      <th>id</th>\n",
       "      <th>f0</th>\n",
       "      <th>f1</th>\n",
       "      <th>f2</th>\n",
       "      <th>product</th>\n",
       "    </tr>\n",
       "  </thead>\n",
       "  <tbody>\n",
       "    <tr>\n",
       "      <th>0</th>\n",
       "      <td>fwXo0</td>\n",
       "      <td>-1.146987</td>\n",
       "      <td>0.963328</td>\n",
       "      <td>-0.828965</td>\n",
       "      <td>27.758673</td>\n",
       "    </tr>\n",
       "    <tr>\n",
       "      <th>1</th>\n",
       "      <td>WJtFt</td>\n",
       "      <td>0.262778</td>\n",
       "      <td>0.269839</td>\n",
       "      <td>-2.530187</td>\n",
       "      <td>56.069697</td>\n",
       "    </tr>\n",
       "    <tr>\n",
       "      <th>2</th>\n",
       "      <td>ovLUW</td>\n",
       "      <td>0.194587</td>\n",
       "      <td>0.289035</td>\n",
       "      <td>-5.586433</td>\n",
       "      <td>62.871910</td>\n",
       "    </tr>\n",
       "    <tr>\n",
       "      <th>3</th>\n",
       "      <td>q6cA6</td>\n",
       "      <td>2.236060</td>\n",
       "      <td>-0.553760</td>\n",
       "      <td>0.930038</td>\n",
       "      <td>114.572842</td>\n",
       "    </tr>\n",
       "    <tr>\n",
       "      <th>4</th>\n",
       "      <td>WPMUX</td>\n",
       "      <td>-0.515993</td>\n",
       "      <td>1.716266</td>\n",
       "      <td>5.899011</td>\n",
       "      <td>149.600746</td>\n",
       "    </tr>\n",
       "  </tbody>\n",
       "</table>\n",
       "</div>"
      ],
      "text/plain": [
       "      id        f0        f1        f2     product\n",
       "0  fwXo0 -1.146987  0.963328 -0.828965   27.758673\n",
       "1  WJtFt  0.262778  0.269839 -2.530187   56.069697\n",
       "2  ovLUW  0.194587  0.289035 -5.586433   62.871910\n",
       "3  q6cA6  2.236060 -0.553760  0.930038  114.572842\n",
       "4  WPMUX -0.515993  1.716266  5.899011  149.600746"
      ]
     },
     "metadata": {},
     "output_type": "display_data"
    },
    {
     "name": "stdout",
     "output_type": "stream",
     "text": [
      "<class 'pandas.core.frame.DataFrame'>\n",
      "RangeIndex: 100000 entries, 0 to 99999\n",
      "Data columns (total 5 columns):\n",
      " #   Column   Non-Null Count   Dtype  \n",
      "---  ------   --------------   -----  \n",
      " 0   id       100000 non-null  object \n",
      " 1   f0       100000 non-null  float64\n",
      " 2   f1       100000 non-null  float64\n",
      " 3   f2       100000 non-null  float64\n",
      " 4   product  100000 non-null  float64\n",
      "dtypes: float64(4), object(1)\n",
      "memory usage: 3.8+ MB\n",
      "None\n"
     ]
    },
    {
     "data": {
      "text/html": [
       "<div>\n",
       "<style scoped>\n",
       "    .dataframe tbody tr th:only-of-type {\n",
       "        vertical-align: middle;\n",
       "    }\n",
       "\n",
       "    .dataframe tbody tr th {\n",
       "        vertical-align: top;\n",
       "    }\n",
       "\n",
       "    .dataframe thead th {\n",
       "        text-align: right;\n",
       "    }\n",
       "</style>\n",
       "<table border=\"1\" class=\"dataframe\">\n",
       "  <thead>\n",
       "    <tr style=\"text-align: right;\">\n",
       "      <th></th>\n",
       "      <th>f0</th>\n",
       "      <th>f1</th>\n",
       "      <th>f2</th>\n",
       "      <th>product</th>\n",
       "    </tr>\n",
       "  </thead>\n",
       "  <tbody>\n",
       "    <tr>\n",
       "      <th>count</th>\n",
       "      <td>100000.000000</td>\n",
       "      <td>100000.000000</td>\n",
       "      <td>100000.000000</td>\n",
       "      <td>100000.000000</td>\n",
       "    </tr>\n",
       "    <tr>\n",
       "      <th>mean</th>\n",
       "      <td>0.002023</td>\n",
       "      <td>-0.002081</td>\n",
       "      <td>2.495128</td>\n",
       "      <td>95.000000</td>\n",
       "    </tr>\n",
       "    <tr>\n",
       "      <th>std</th>\n",
       "      <td>1.732045</td>\n",
       "      <td>1.730417</td>\n",
       "      <td>3.473445</td>\n",
       "      <td>44.749921</td>\n",
       "    </tr>\n",
       "    <tr>\n",
       "      <th>min</th>\n",
       "      <td>-8.760004</td>\n",
       "      <td>-7.084020</td>\n",
       "      <td>-11.970335</td>\n",
       "      <td>0.000000</td>\n",
       "    </tr>\n",
       "    <tr>\n",
       "      <th>25%</th>\n",
       "      <td>-1.162288</td>\n",
       "      <td>-1.174820</td>\n",
       "      <td>0.130359</td>\n",
       "      <td>59.450441</td>\n",
       "    </tr>\n",
       "    <tr>\n",
       "      <th>50%</th>\n",
       "      <td>0.009424</td>\n",
       "      <td>-0.009482</td>\n",
       "      <td>2.484236</td>\n",
       "      <td>94.925613</td>\n",
       "    </tr>\n",
       "    <tr>\n",
       "      <th>75%</th>\n",
       "      <td>1.158535</td>\n",
       "      <td>1.163678</td>\n",
       "      <td>4.858794</td>\n",
       "      <td>130.595027</td>\n",
       "    </tr>\n",
       "    <tr>\n",
       "      <th>max</th>\n",
       "      <td>7.238262</td>\n",
       "      <td>7.844801</td>\n",
       "      <td>16.739402</td>\n",
       "      <td>190.029838</td>\n",
       "    </tr>\n",
       "  </tbody>\n",
       "</table>\n",
       "</div>"
      ],
      "text/plain": [
       "                  f0             f1             f2        product\n",
       "count  100000.000000  100000.000000  100000.000000  100000.000000\n",
       "mean        0.002023      -0.002081       2.495128      95.000000\n",
       "std         1.732045       1.730417       3.473445      44.749921\n",
       "min        -8.760004      -7.084020     -11.970335       0.000000\n",
       "25%        -1.162288      -1.174820       0.130359      59.450441\n",
       "50%         0.009424      -0.009482       2.484236      94.925613\n",
       "75%         1.158535       1.163678       4.858794     130.595027\n",
       "max         7.238262       7.844801      16.739402     190.029838"
      ]
     },
     "metadata": {},
     "output_type": "display_data"
    },
    {
     "name": "stdout",
     "output_type": "stream",
     "text": [
      "дубликаты 0\n"
     ]
    }
   ],
   "source": [
    "research(geo_data_2)"
   ]
  },
  {
   "cell_type": "markdown",
   "metadata": {},
   "source": [
    " <b> Выводы: </b>\n",
    " \n",
    " - дубликаты отсутсвуют;\n",
    " - id не несет нужной для расчетов информации, его можно удалить;\n",
    " - Есть 0 значения product, необходимо проанализировать"
   ]
  },
  {
   "cell_type": "markdown",
   "metadata": {},
   "source": [
    "Удалим столбцы id, так как они имеют для модели пользы"
   ]
  },
  {
   "cell_type": "code",
   "execution_count": 40,
   "metadata": {},
   "outputs": [],
   "source": [
    "geo_data_0 = geo_data_0.drop(['id'], axis=1)\n",
    "geo_data_1 = geo_data_1.drop(['id'], axis=1)\n",
    "geo_data_2 = geo_data_2.drop(['id'], axis=1)"
   ]
  },
  {
   "cell_type": "markdown",
   "metadata": {},
   "source": [
    "<b> Нулевые значения столбца \"product\" </b>"
   ]
  },
  {
   "cell_type": "code",
   "execution_count": 41,
   "metadata": {},
   "outputs": [
    {
     "name": "stdout",
     "output_type": "stream",
     "text": [
      "1\n",
      "8235\n",
      "1\n"
     ]
    }
   ],
   "source": [
    "print(geo_data_0[geo_data_0['product'] == 0]['product'].count())\n",
    "print(geo_data_1[geo_data_1['product'] == 0]['product'].count())\n",
    "print(geo_data_2[geo_data_2['product'] == 0]['product'].count())"
   ]
  },
  {
   "cell_type": "code",
   "execution_count": 42,
   "metadata": {},
   "outputs": [
    {
     "name": "stdout",
     "output_type": "stream",
     "text": [
      "100000\n",
      "12\n",
      "100000\n"
     ]
    }
   ],
   "source": [
    "print(len(geo_data_0['product'].unique()))\n",
    "print(len(geo_data_1['product'].unique()))\n",
    "print(len(geo_data_2['product'].unique()))"
   ]
  },
  {
   "cell_type": "code",
   "execution_count": 43,
   "metadata": {},
   "outputs": [
    {
     "data": {
      "text/plain": [
       "53.906522     8472\n",
       "26.953261     8468\n",
       "84.038886     8431\n",
       "57.085625     8390\n",
       "3.179103      8337\n",
       "80.859783     8320\n",
       "30.132364     8306\n",
       "134.766305    8304\n",
       "110.992147    8303\n",
       "0.000000      8235\n",
       "137.945408    8233\n",
       "107.813044    8201\n",
       "Name: product, dtype: int64"
      ]
     },
     "execution_count": 43,
     "metadata": {},
     "output_type": "execute_result"
    }
   ],
   "source": [
    "geo_data_1['product'].value_counts()"
   ]
  },
  {
   "cell_type": "code",
   "execution_count": 44,
   "metadata": {},
   "outputs": [
    {
     "data": {
      "image/png": "[encoded data removed]",
      "text/plain": [
       "<Figure size 864x648 with 1 Axes>"
      ]
     },
     "metadata": {
      "needs_background": "light"
     },
     "output_type": "display_data"
    }
   ],
   "source": [
    "plt.figure(figsize=[12,9])\n",
    "plt.hist(geo_data_1['product'], bins = 12)\n",
    "plt.title(\"Гистограмма распределения по объему скважин\")\n",
    "plt.show()"
   ]
  },
  {
   "cell_type": "markdown",
   "metadata": {},
   "source": [
    "<b> Вывод <b>"
   ]
  },
  {
   "cell_type": "markdown",
   "metadata": {},
   "source": [
    "Большое количество нулевых значений, равное распределение и малая вариабельность данных - возможно, данные подверглись вручную категоризации, и вследствие этого образовалось много нулевых значений. Нулевые значения нельзя заменить на среднее. В связи с большим количеством этих данных удалять тоже не стоит."
   ]
  },
  {
   "cell_type": "markdown",
   "metadata": {},
   "source": [
    "## Обучение и проверка модели"
   ]
  },
  {
   "cell_type": "markdown",
   "metadata": {},
   "source": [
    "Для обучения модели подходит только линейная регрессия (остальные — недостаточно предсказуемые)\n",
    "\n",
    "Напишем функцию: На вход она получает регион, делит его на признаки и целевой признак, разбивает данные на обучающую и валидационные выборки, делаем стандартизацию данных рассчитывает метрики RMSE.\n",
    "\n",
    "Так же рассчитаем среднее значение запасов месторождений в регионе"
   ]
  },
  {
   "cell_type": "code",
   "execution_count": 45,
   "metadata": {},
   "outputs": [],
   "source": [
    "def region_prediction(data):\n",
    "   \n",
    "    features = data.drop([\"product\"], axis=1)\n",
    "    target = data[\"product\"]\n",
    "    features_train, features_valid, target_train, target_valid = train_test_split(features, target, test_size=0.25, random_state=12345)\n",
    "    scaler = StandardScaler()\n",
    "    features_train = scaler.fit_transform(features_train)\n",
    "    features_valid = scaler.transform(features_valid)\n",
    "    \n",
    "    lr = LinearRegression(normalize=False)\n",
    "    lr.fit(features_train, target_train)\n",
    "    predictions = lr.predict(features_valid)\n",
    "    predictions = pd.Series(predictions)\n",
    "    rmse = np.sqrt(mean_squared_error(target_valid, predictions))  \n",
    "    stock_mean = data['product'].mean()\n",
    "    stock_mean_pred = predictions.mean()\n",
    "    return predictions, rmse, stock_mean, stock_mean_pred, target_valid.reset_index(drop=True)"
   ]
  },
  {
   "cell_type": "code",
   "execution_count": 46,
   "metadata": {},
   "outputs": [
    {
     "name": "stdout",
     "output_type": "stream",
     "text": [
      "RMSE модели в регионе 0 = 37.579\n",
      "Средний запас предсказанного сырья 0 = 92.593 т. баррелей\n"
     ]
    }
   ],
   "source": [
    "pred_0, rmse_0, stock_mean_0, stock_mean_pred_0, target_valid_0 = region_prediction(geo_data_0)\n",
    "print('RMSE модели в регионе 0 = {:.3f}'.format(rmse_0))\n",
    "print('Средний запас предсказанного сырья 0 = {:.3f} т. баррелей'.format(stock_mean_pred_0))"
   ]
  },
  {
   "cell_type": "code",
   "execution_count": 47,
   "metadata": {},
   "outputs": [
    {
     "name": "stdout",
     "output_type": "stream",
     "text": [
      "RMSE модели в регионе 1 = 0.893\n",
      "Средний запас предсказанного сырья 1 = 68.729 т. баррелей\n"
     ]
    }
   ],
   "source": [
    "pred_1, rmse_1, stock_mean_1, stock_mean_pred_1, target_valid_1 = region_prediction(geo_data_1)\n",
    "print('RMSE модели в регионе 1 = {:.3f}'.format(rmse_1))\n",
    "print('Средний запас предсказанного сырья 1 = {:.3f} т. баррелей'.format(stock_mean_pred_1))"
   ]
  },
  {
   "cell_type": "code",
   "execution_count": 48,
   "metadata": {},
   "outputs": [
    {
     "name": "stdout",
     "output_type": "stream",
     "text": [
      "RMSE модели в регионе 2 = 40.030\n",
      "Средний запас предсказанного сырья 2 = 94.965 т. баррелей\n"
     ]
    }
   ],
   "source": [
    "pred_2, rmse_2, stock_mean_2, stock_mean_pred_2, target_valid_2 = region_prediction(geo_data_2)\n",
    "print('RMSE модели в регионе 2 = {:.3f}'.format(rmse_2))\n",
    "print('Средний запас предсказанного сырья 2 = {:.3f} т. баррелей'.format(stock_mean_pred_2))"
   ]
  },
  {
   "cell_type": "markdown",
   "metadata": {},
   "source": [
    "<b> Выводы : </b>"
   ]
  },
  {
   "cell_type": "markdown",
   "metadata": {},
   "source": [
    "Лучшие показатели RMSE модели в Регионе 1 (RMSE = 0.893), этот регион более предсказуем. Возможно это следствии явно отредактированных данных.\n",
    "\n",
    "Средний запас предсказанного сырья 1 = 68.729 т. баррелей, что меньше чем в двух других регионах(92.593 и 94.965 т. баррелей)\n",
    "\n",
    "В этих регионах высокий показатель RMSE, что говорит о том что модель работает хуже, это дает более непредсказуемые результаты\n",
    "(RMSE модели в регионе 0 = 37.579 и RMSE модели в регионе 2 = 40.030).\n",
    "\n"
   ]
  },
  {
   "cell_type": "markdown",
   "metadata": {},
   "source": [
    "## Подготовка к расчёту прибыли"
   ]
  },
  {
   "cell_type": "markdown",
   "metadata": {},
   "source": [
    "Сохраним ключевые значения (согласно условию) для расчетов в отдельных переменных"
   ]
  },
  {
   "cell_type": "code",
   "execution_count": 49,
   "metadata": {},
   "outputs": [],
   "source": [
    "BUDGET = 10000000000 \n",
    "BEST_WELLS = 200\n",
    "BARREL_PROFIT = 450*1000\n",
    "TOTAL_WELLS = 500 \n",
    "RISK_LOSS = 0.025 "
   ]
  },
  {
   "cell_type": "code",
   "execution_count": 50,
   "metadata": {},
   "outputs": [
    {
     "name": "stdout",
     "output_type": "stream",
     "text": [
      "Бюджет бурения одного месторождения, руб: 50000000.0\n"
     ]
    }
   ],
   "source": [
    "DRILLING_COST = BUDGET/BEST_WELLS\n",
    "print('Бюджет бурения одного месторождения, руб:', DRILLING_COST)"
   ]
  },
  {
   "cell_type": "code",
   "execution_count": 51,
   "metadata": {},
   "outputs": [
    {
     "name": "stdout",
     "output_type": "stream",
     "text": [
      "Объём сырья для безубыточной разработки новой скважины  = 111.111 т. баррелей\n"
     ]
    }
   ],
   "source": [
    "print('Объём сырья для безубыточной разработки новой скважины  = {:.3f} т. баррелей'.format(DRILLING_COST / BARREL_PROFIT))"
   ]
  },
  {
   "cell_type": "code",
   "execution_count": 52,
   "metadata": {},
   "outputs": [
    {
     "name": "stdout",
     "output_type": "stream",
     "text": [
      "Средний запас сырья региона 0 = 92.500 т. баррелей\n",
      "Средний запас сырья региона 1 = 68.825 т. баррелей\n",
      "Средний запас сырья региона 2 = 95.000 т. баррелей\n"
     ]
    }
   ],
   "source": [
    "print('Средний запас сырья региона 0 = {:.3f} т. баррелей'.format(stock_mean_0))\n",
    "print('Средний запас сырья региона 1 = {:.3f} т. баррелей'.format(stock_mean_1))\n",
    "print('Средний запас сырья региона 2 = {:.3f} т. баррелей'.format(stock_mean_2))"
   ]
  },
  {
   "cell_type": "markdown",
   "metadata": {},
   "source": [
    "<b> Выводы : </b>"
   ]
  },
  {
   "cell_type": "markdown",
   "metadata": {},
   "source": [
    "- Средний запас сырья в скважинах меньше, чем необходимый объем сырья для безубыточности.\n",
    "- Необходимо для безубыточной разработки новой скважины = 111.111 т. баррелей. \n",
    "- Необходимо разрабатывать только перспективные скважины."
   ]
  },
  {
   "cell_type": "markdown",
   "metadata": {},
   "source": [
    "## Расчёт прибыли и рисков "
   ]
  },
  {
   "cell_type": "markdown",
   "metadata": {},
   "source": [
    "Функция для расчёта прибыли по выбранным скважинам и предсказаниям модели"
   ]
  },
  {
   "cell_type": "code",
   "execution_count": 53,
   "metadata": {},
   "outputs": [],
   "source": [
    "def profit(prediction, target):\n",
    "    data = pd.concat([prediction, target],axis=1)\n",
    "    data.columns = ['prediction','target']\n",
    "    data = data.sort_values(by = 'prediction', ascending = False)[:BEST_WELLS]\n",
    "    return (data['target'].sum() * BARREL_PROFIT - BUDGET)"
   ]
  },
  {
   "cell_type": "code",
   "execution_count": 54,
   "metadata": {},
   "outputs": [
    {
     "name": "stdout",
     "output_type": "stream",
     "text": [
      "Прибыль для полученного объёма сырья региона 0 = 332.08 млн. руб\n"
     ]
    }
   ],
   "source": [
    "revenue_0 = profit(pred_0, target_valid_0)\n",
    "\n",
    "print('Прибыль для полученного объёма сырья региона 0 = {:.2f} млн. руб'.format(revenue_0  / 10e6))"
   ]
  },
  {
   "cell_type": "code",
   "execution_count": 55,
   "metadata": {},
   "outputs": [
    {
     "name": "stdout",
     "output_type": "stream",
     "text": [
      "Прибыль для полученного объёма сырья региона 1 = 241.51 млн. руб\n"
     ]
    }
   ],
   "source": [
    "revenue_0 = profit(pred_1, target_valid_1)\n",
    "\n",
    "print('Прибыль для полученного объёма сырья региона 1 = {:.2f} млн. руб'.format(revenue_0 / 10e6))"
   ]
  },
  {
   "cell_type": "code",
   "execution_count": 56,
   "metadata": {},
   "outputs": [
    {
     "name": "stdout",
     "output_type": "stream",
     "text": [
      "Прибыль для полученного объёма сырья региона 2 = 271.03 млн. руб\n"
     ]
    }
   ],
   "source": [
    "revenue_0 = profit(pred_2, target_valid_2)\n",
    "\n",
    "print('Прибыль для полученного объёма сырья региона 2 = {:.2f} млн. руб'.format(revenue_0 / 10e6))"
   ]
  },
  {
   "cell_type": "markdown",
   "metadata": {},
   "source": [
    "Функция для расчетов прибыли и рисков для каждого региона с применением техники Bootstrap"
   ]
  },
  {
   "cell_type": "code",
   "execution_count": 57,
   "metadata": {},
   "outputs": [],
   "source": [
    "def estimate(prediction, target):\n",
    "    state = np.random.RandomState(12345)\n",
    "    values = []\n",
    "    for i in range(1000):\n",
    "        target_subsample = target.sample(n=500, replace=True, random_state=state)\n",
    "        pred_subsample = prediction[target_subsample.index]\n",
    "        values.append(profit(pred_subsample, target_subsample))\n",
    "    values = pd.Series(values)\n",
    "    mean = np.mean(values) / 10e6\n",
    "    lower = values.quantile(0.025) / 10e6\n",
    "    upper = values.quantile(0.975) / 10e6\n",
    "    confidence_interval = (lower, upper)\n",
    "    risk_of_loss = (values < 0).sum() / values.count()\n",
    "    \n",
    "    print('Средняя прибыль = {:.2f} млн.руб.'.format(mean))\n",
    "    print('95% доверительный интервал от {:.2f} до {:.2f} млн.руб.'.format(lower, upper))\n",
    "    print('Процент риска {:.1%}'.format(risk_of_loss))"
   ]
  },
  {
   "cell_type": "markdown",
   "metadata": {},
   "source": [
    "<b> Регион 0 </b>"
   ]
  },
  {
   "cell_type": "code",
   "execution_count": 58,
   "metadata": {},
   "outputs": [
    {
     "name": "stdout",
     "output_type": "stream",
     "text": [
      "Средняя прибыль = 39.62 млн.руб.\n",
      "95% доверительный интервал от -11.12 до 90.98 млн.руб.\n",
      "Процент риска 6.9%\n"
     ]
    }
   ],
   "source": [
    "region_0 = estimate(pred_0, target_valid_0)"
   ]
  },
  {
   "cell_type": "markdown",
   "metadata": {},
   "source": [
    "<b> Регион 1 </b>"
   ]
  },
  {
   "cell_type": "code",
   "execution_count": 59,
   "metadata": {},
   "outputs": [
    {
     "name": "stdout",
     "output_type": "stream",
     "text": [
      "Средняя прибыль = 45.60 млн.руб.\n",
      "95% доверительный интервал от 3.38 до 85.23 млн.руб.\n",
      "Процент риска 1.5%\n"
     ]
    }
   ],
   "source": [
    "region_1 = estimate(pred_1, target_valid_1)"
   ]
  },
  {
   "cell_type": "markdown",
   "metadata": {},
   "source": [
    "<b> Регион 2  </b>"
   ]
  },
  {
   "cell_type": "code",
   "execution_count": 60,
   "metadata": {},
   "outputs": [
    {
     "name": "stdout",
     "output_type": "stream",
     "text": [
      "Средняя прибыль = 40.44 млн.руб.\n",
      "95% доверительный интервал от -16.34 до 95.04 млн.руб.\n",
      "Процент риска 7.6%\n"
     ]
    }
   ],
   "source": [
    "region_2 = estimate(pred_2, target_valid_2)"
   ]
  },
  {
   "cell_type": "markdown",
   "metadata": {},
   "source": [
    "## Общий вывод"
   ]
  },
  {
   "cell_type": "markdown",
   "metadata": {},
   "source": [
    "- Изучили предоставленные данные трёх регионов, обучили модель линейной регрессии и сделали расчёт прибыли и рисков для каждого региона.\n",
    "\n",
    "- Наиболее перспективный Регион 1. Добыча нефти в нем связана с наименьшим риском и предполагает получение наибольшой средней прибыли.\n",
    "\n",
    "- Регион 0 и Регион 2 имеют вероятность убытков больше 2.5% (более чем в 2 и 3 раза соответственно), что не соответствует условию поставленной задачи."
   ]
  }
 ],
 "metadata": {
  "ExecuteTimeLog": [
   {
    "duration": 1822,
    "start_time": "2022-05-11T07:47:36.893Z"
   },
   {
    "duration": 390,
    "start_time": "2022-05-11T07:48:15.345Z"
   },
   {
    "duration": 4,
    "start_time": "2022-05-11T07:48:30.013Z"
   },
   {
    "duration": 112,
    "start_time": "2022-05-11T07:49:20.294Z"
   },
   {
    "duration": 105,
    "start_time": "2022-05-11T07:51:30.542Z"
   },
   {
    "duration": 99,
    "start_time": "2022-05-11T07:53:09.075Z"
   },
   {
    "duration": 17,
    "start_time": "2022-05-11T07:58:05.005Z"
   },
   {
    "duration": 11,
    "start_time": "2022-05-11T07:59:40.604Z"
   },
   {
    "duration": 14,
    "start_time": "2022-05-11T08:00:07.220Z"
   },
   {
    "duration": 7,
    "start_time": "2022-05-11T08:00:56.054Z"
   },
   {
    "duration": 188,
    "start_time": "2022-05-11T08:01:22.164Z"
   },
   {
    "duration": 5,
    "start_time": "2022-05-11T08:08:05.411Z"
   },
   {
    "duration": 77,
    "start_time": "2022-05-11T08:08:35.163Z"
   },
   {
    "duration": 73,
    "start_time": "2022-05-11T08:09:48.187Z"
   },
   {
    "duration": 60,
    "start_time": "2022-05-11T08:10:04.674Z"
   },
   {
    "duration": 166,
    "start_time": "2022-05-11T08:14:33.293Z"
   },
   {
    "duration": 3,
    "start_time": "2022-05-11T08:15:48.278Z"
   },
   {
    "duration": 3,
    "start_time": "2022-05-11T08:17:17.387Z"
   },
   {
    "duration": 3,
    "start_time": "2022-05-11T08:17:49.034Z"
   },
   {
    "duration": 3,
    "start_time": "2022-05-11T08:18:08.332Z"
   },
   {
    "duration": 4,
    "start_time": "2022-05-11T08:20:34.947Z"
   },
   {
    "duration": 9,
    "start_time": "2022-05-11T08:20:54.356Z"
   },
   {
    "duration": 9,
    "start_time": "2022-05-11T08:21:34.006Z"
   },
   {
    "duration": 9,
    "start_time": "2022-05-11T08:22:11.440Z"
   },
   {
    "duration": 12,
    "start_time": "2022-05-11T08:22:36.685Z"
   },
   {
    "duration": 5,
    "start_time": "2022-05-11T08:24:28.505Z"
   },
   {
    "duration": 1653,
    "start_time": "2022-05-11T08:25:19.028Z"
   },
   {
    "duration": 1655,
    "start_time": "2022-05-11T08:26:10.034Z"
   },
   {
    "duration": 1853,
    "start_time": "2022-05-11T08:26:55.530Z"
   },
   {
    "duration": 9,
    "start_time": "2022-05-11T08:28:06.673Z"
   },
   {
    "duration": 9,
    "start_time": "2022-05-11T08:28:07.930Z"
   },
   {
    "duration": 9,
    "start_time": "2022-05-11T08:28:08.623Z"
   },
   {
    "duration": 180,
    "start_time": "2022-05-11T08:30:22.820Z"
   },
   {
    "duration": 5,
    "start_time": "2022-05-11T08:34:07.957Z"
   },
   {
    "duration": 429,
    "start_time": "2022-05-11T08:34:07.965Z"
   },
   {
    "duration": 3,
    "start_time": "2022-05-11T08:34:08.396Z"
   },
   {
    "duration": 116,
    "start_time": "2022-05-11T08:34:08.401Z"
   },
   {
    "duration": 136,
    "start_time": "2022-05-11T08:34:08.519Z"
   },
   {
    "duration": 123,
    "start_time": "2022-05-11T08:34:08.657Z"
   },
   {
    "duration": 15,
    "start_time": "2022-05-11T08:34:08.781Z"
   },
   {
    "duration": 12,
    "start_time": "2022-05-11T08:34:08.798Z"
   },
   {
    "duration": 42,
    "start_time": "2022-05-11T08:34:08.811Z"
   },
   {
    "duration": 7,
    "start_time": "2022-05-11T08:34:08.855Z"
   },
   {
    "duration": 231,
    "start_time": "2022-05-11T08:34:08.864Z"
   },
   {
    "duration": 5,
    "start_time": "2022-05-11T08:34:09.097Z"
   },
   {
    "duration": 146,
    "start_time": "2022-05-11T08:34:09.104Z"
   },
   {
    "duration": 183,
    "start_time": "2022-05-11T08:34:09.253Z"
   },
   {
    "duration": 203,
    "start_time": "2022-05-11T08:34:09.439Z"
   },
   {
    "duration": 5,
    "start_time": "2022-05-11T08:34:09.645Z"
   },
   {
    "duration": 88,
    "start_time": "2022-05-11T08:34:09.654Z"
   },
   {
    "duration": 11,
    "start_time": "2022-05-11T08:34:09.744Z"
   },
   {
    "duration": 12,
    "start_time": "2022-05-11T08:34:09.757Z"
   },
   {
    "duration": 5,
    "start_time": "2022-05-11T08:34:09.772Z"
   },
   {
    "duration": 13,
    "start_time": "2022-05-11T08:34:09.778Z"
   },
   {
    "duration": 9,
    "start_time": "2022-05-11T08:34:09.792Z"
   },
   {
    "duration": 35,
    "start_time": "2022-05-11T08:34:09.803Z"
   },
   {
    "duration": 6,
    "start_time": "2022-05-11T08:34:09.841Z"
   },
   {
    "duration": 1694,
    "start_time": "2022-05-11T08:34:09.849Z"
   },
   {
    "duration": 1712,
    "start_time": "2022-05-11T08:34:11.545Z"
   },
   {
    "duration": 1953,
    "start_time": "2022-05-11T08:34:13.259Z"
   }
  ],
  "kernelspec": {
   "display_name": "Python 3 (ipykernel)",
   "language": "python",
   "name": "python3"
  },
  "language_info": {
   "codemirror_mode": {
    "name": "ipython",
    "version": 3
   },
   "file_extension": ".py",
   "mimetype": "text/x-python",
   "name": "python",
   "nbconvert_exporter": "python",
   "pygments_lexer": "ipython3",
   "version": "3.9.7"
  },
  "toc": {
   "base_numbering": 1,
   "nav_menu": {},
   "number_sections": true,
   "sideBar": true,
   "skip_h1_title": true,
   "title_cell": "Table of Contents",
   "title_sidebar": "Contents",
   "toc_cell": false,
   "toc_position": {},
   "toc_section_display": true,
   "toc_window_display": false
  }
 },
 "nbformat": 4,
 "nbformat_minor": 2
}
