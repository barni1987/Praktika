{
 "cells": [
  {
   "cell_type": "markdown",
   "id": "e464428e",
   "metadata": {},
   "source": [
    "Для каждого значения столбца key необходимо найти:\n",
    "\n",
    "- Длительность времени между первым и последним замером температуры.\n",
    "- Суммарное время нагрева электродами, то есть сумму значений по всем промежуткам между запусками нагрева электродов.\n",
    "- Количество запусков нагрева электродами.\n",
    "- Среднее соотношение потребления активной и реактивной мощности.\n",
    "\n",
    "По всем полученным столбцам вычислить статистики: средние, минимальные и максимальные значения, медиану и величины 25%- и 75%-квартилей."
   ]
  },
  {
   "cell_type": "code",
   "execution_count": 1,
   "id": "f308735c",
   "metadata": {},
   "outputs": [
    {
     "name": "stdout",
     "output_type": "stream",
     "text": [
      "Requirement already satisfied: pyod in ./opt/anaconda3/lib/python3.9/site-packages (1.0.4)\n",
      "Requirement already satisfied: scikit-learn>=0.20.0 in ./opt/anaconda3/lib/python3.9/site-packages (from pyod) (1.0.2)\n",
      "Requirement already satisfied: scipy>=1.5.1 in ./opt/anaconda3/lib/python3.9/site-packages (from pyod) (1.8.0)\n",
      "Requirement already satisfied: statsmodels in ./opt/anaconda3/lib/python3.9/site-packages (from pyod) (0.12.2)\n",
      "Requirement already satisfied: numpy>=1.19 in ./opt/anaconda3/lib/python3.9/site-packages (from pyod) (1.20.3)\n",
      "Requirement already satisfied: joblib in ./opt/anaconda3/lib/python3.9/site-packages (from pyod) (1.1.0)\n",
      "Requirement already satisfied: numba>=0.51 in ./opt/anaconda3/lib/python3.9/site-packages (from pyod) (0.54.1)\n",
      "Requirement already satisfied: matplotlib in ./opt/anaconda3/lib/python3.9/site-packages (from pyod) (3.4.3)\n",
      "Requirement already satisfied: six in ./opt/anaconda3/lib/python3.9/site-packages (from pyod) (1.16.0)\n",
      "Requirement already satisfied: llvmlite<0.38,>=0.37.0rc1 in ./opt/anaconda3/lib/python3.9/site-packages (from numba>=0.51->pyod) (0.37.0)\n",
      "Requirement already satisfied: setuptools in ./opt/anaconda3/lib/python3.9/site-packages (from numba>=0.51->pyod) (58.0.4)\n",
      "Requirement already satisfied: threadpoolctl>=2.0.0 in ./opt/anaconda3/lib/python3.9/site-packages (from scikit-learn>=0.20.0->pyod) (2.2.0)\n",
      "Requirement already satisfied: pillow>=6.2.0 in ./opt/anaconda3/lib/python3.9/site-packages (from matplotlib->pyod) (8.4.0)\n",
      "Requirement already satisfied: kiwisolver>=1.0.1 in ./opt/anaconda3/lib/python3.9/site-packages (from matplotlib->pyod) (1.3.1)\n",
      "Requirement already satisfied: python-dateutil>=2.7 in ./opt/anaconda3/lib/python3.9/site-packages (from matplotlib->pyod) (2.8.2)\n",
      "Requirement already satisfied: pyparsing>=2.2.1 in ./opt/anaconda3/lib/python3.9/site-packages (from matplotlib->pyod) (3.0.4)\n",
      "Requirement already satisfied: cycler>=0.10 in ./opt/anaconda3/lib/python3.9/site-packages (from matplotlib->pyod) (0.10.0)\n",
      "Requirement already satisfied: patsy>=0.5 in ./opt/anaconda3/lib/python3.9/site-packages (from statsmodels->pyod) (0.5.2)\n",
      "Requirement already satisfied: pandas>=0.21 in ./opt/anaconda3/lib/python3.9/site-packages (from statsmodels->pyod) (1.4.3)\n",
      "Requirement already satisfied: pytz>=2020.1 in ./opt/anaconda3/lib/python3.9/site-packages (from pandas>=0.21->statsmodels->pyod) (2021.3)\n",
      "Requirement already satisfied: xgboost in ./opt/anaconda3/lib/python3.9/site-packages (1.6.2)\n",
      "Requirement already satisfied: numpy in ./opt/anaconda3/lib/python3.9/site-packages (from xgboost) (1.20.3)\n",
      "Requirement already satisfied: scipy in ./opt/anaconda3/lib/python3.9/site-packages (from xgboost) (1.8.0)\n"
     ]
    }
   ],
   "source": [
    "!pip install pyod\n",
    "!pip install xgboost\n",
    "import pandas as pd\n",
    "import numpy as np\n",
    "import warnings\n",
    "import matplotlib.pyplot as plt\n",
    "import datetime\n",
    "from scipy import stats as st\n",
    "from sklearn.model_selection import train_test_split\n",
    "from sklearn.metrics import mean_absolute_error\n",
    "from sklearn.model_selection import cross_val_score\n",
    "from sklearn.model_selection import GridSearchCV\n",
    "from pyod.models.knn import KNN\n",
    "from sklearn.linear_model import LinearRegression\n",
    "from sklearn.ensemble import RandomForestRegressor\n",
    "from catboost import CatBoostRegressor\n",
    "from lightgbm import LGBMRegressor\n",
    "from xgboost import XGBRegressor\n",
    "warnings.filterwarnings('ignore')\n",
    "%matplotlib inline"
   ]
  },
  {
   "cell_type": "markdown",
   "id": "af7f8e0d",
   "metadata": {},
   "source": [
    "# Длительность времени между первым и последним замером температуры."
   ]
  },
  {
   "cell_type": "code",
   "execution_count": 2,
   "id": "983c8f43",
   "metadata": {},
   "outputs": [
    {
     "data": {
      "text/html": [
       "<div>\n",
       "<style scoped>\n",
       "    .dataframe tbody tr th:only-of-type {\n",
       "        vertical-align: middle;\n",
       "    }\n",
       "\n",
       "    .dataframe tbody tr th {\n",
       "        vertical-align: top;\n",
       "    }\n",
       "\n",
       "    .dataframe thead th {\n",
       "        text-align: right;\n",
       "    }\n",
       "</style>\n",
       "<table border=\"1\" class=\"dataframe\">\n",
       "  <thead>\n",
       "    <tr style=\"text-align: right;\">\n",
       "      <th></th>\n",
       "      <th>key</th>\n",
       "      <th>Время замера</th>\n",
       "      <th>Температура</th>\n",
       "    </tr>\n",
       "  </thead>\n",
       "  <tbody>\n",
       "    <tr>\n",
       "      <th>0</th>\n",
       "      <td>1</td>\n",
       "      <td>2019-05-03 11:16:18</td>\n",
       "      <td>1571.0</td>\n",
       "    </tr>\n",
       "    <tr>\n",
       "      <th>1</th>\n",
       "      <td>1</td>\n",
       "      <td>2019-05-03 11:25:53</td>\n",
       "      <td>1604.0</td>\n",
       "    </tr>\n",
       "    <tr>\n",
       "      <th>2</th>\n",
       "      <td>1</td>\n",
       "      <td>2019-05-03 11:29:11</td>\n",
       "      <td>1618.0</td>\n",
       "    </tr>\n",
       "    <tr>\n",
       "      <th>3</th>\n",
       "      <td>1</td>\n",
       "      <td>2019-05-03 11:30:01</td>\n",
       "      <td>1601.0</td>\n",
       "    </tr>\n",
       "    <tr>\n",
       "      <th>4</th>\n",
       "      <td>1</td>\n",
       "      <td>2019-05-03 11:30:39</td>\n",
       "      <td>1613.0</td>\n",
       "    </tr>\n",
       "  </tbody>\n",
       "</table>\n",
       "</div>"
      ],
      "text/plain": [
       "   key        Время замера  Температура\n",
       "0    1 2019-05-03 11:16:18       1571.0\n",
       "1    1 2019-05-03 11:25:53       1604.0\n",
       "2    1 2019-05-03 11:29:11       1618.0\n",
       "3    1 2019-05-03 11:30:01       1601.0\n",
       "4    1 2019-05-03 11:30:39       1613.0"
      ]
     },
     "execution_count": 2,
     "metadata": {},
     "output_type": "execute_result"
    }
   ],
   "source": [
    "### Импорт данных\n",
    "\n",
    "try:\n",
    "    data_temp = pd.read_csv('/Users/Ivan/data_temp.csv', parse_dates=['Время замера'])\n",
    "except:\n",
    "    data_temp = pd.read_csv('https://code.s3.yandex.net/datasets/data_temp.csv')\n",
    "\n",
    "data_temp.head(5)"
   ]
  },
  {
   "cell_type": "code",
   "execution_count": 3,
   "id": "37834e44",
   "metadata": {},
   "outputs": [
    {
     "data": {
      "text/plain": [
       "key\n",
       "1   0 days 00:14:21\n",
       "2   0 days 00:21:45\n",
       "3   0 days 00:21:40\n",
       "4   0 days 00:06:28\n",
       "5   0 days 00:12:42\n",
       "Name: full_time, dtype: timedelta64[ns]"
      ]
     },
     "execution_count": 3,
     "metadata": {},
     "output_type": "execute_result"
    }
   ],
   "source": [
    "start_time = data_temp.sort_values('Время замера').groupby('key').first()['Время замера']\n",
    "end_time = data_temp.sort_values('Время замера').groupby('key').last()['Время замера']\n",
    "full_time = end_time - start_time\n",
    "full_time.name = 'full_time'\n",
    "full_time.head()"
   ]
  },
  {
   "cell_type": "markdown",
   "id": "abba60ab",
   "metadata": {},
   "source": [
    "# Суммарное время нагрева электродами, то есть сумму значений по всем промежуткам между запусками нагрева электродов."
   ]
  },
  {
   "cell_type": "code",
   "execution_count": 4,
   "id": "5e03aef7",
   "metadata": {},
   "outputs": [
    {
     "data": {
      "text/html": [
       "<div>\n",
       "<style scoped>\n",
       "    .dataframe tbody tr th:only-of-type {\n",
       "        vertical-align: middle;\n",
       "    }\n",
       "\n",
       "    .dataframe tbody tr th {\n",
       "        vertical-align: top;\n",
       "    }\n",
       "\n",
       "    .dataframe thead th {\n",
       "        text-align: right;\n",
       "    }\n",
       "</style>\n",
       "<table border=\"1\" class=\"dataframe\">\n",
       "  <thead>\n",
       "    <tr style=\"text-align: right;\">\n",
       "      <th></th>\n",
       "      <th>key</th>\n",
       "      <th>Начало нагрева дугой</th>\n",
       "      <th>Конец нагрева дугой</th>\n",
       "      <th>Активная мощность</th>\n",
       "      <th>Реактивная мощность</th>\n",
       "    </tr>\n",
       "  </thead>\n",
       "  <tbody>\n",
       "    <tr>\n",
       "      <th>0</th>\n",
       "      <td>1</td>\n",
       "      <td>2019-05-03 11:02:14</td>\n",
       "      <td>2019-05-03 11:06:02</td>\n",
       "      <td>0.976059</td>\n",
       "      <td>0.687084</td>\n",
       "    </tr>\n",
       "    <tr>\n",
       "      <th>1</th>\n",
       "      <td>1</td>\n",
       "      <td>2019-05-03 11:07:28</td>\n",
       "      <td>2019-05-03 11:10:33</td>\n",
       "      <td>0.805607</td>\n",
       "      <td>0.520285</td>\n",
       "    </tr>\n",
       "    <tr>\n",
       "      <th>2</th>\n",
       "      <td>1</td>\n",
       "      <td>2019-05-03 11:11:44</td>\n",
       "      <td>2019-05-03 11:14:36</td>\n",
       "      <td>0.744363</td>\n",
       "      <td>0.498805</td>\n",
       "    </tr>\n",
       "    <tr>\n",
       "      <th>3</th>\n",
       "      <td>1</td>\n",
       "      <td>2019-05-03 11:18:14</td>\n",
       "      <td>2019-05-03 11:24:19</td>\n",
       "      <td>1.659363</td>\n",
       "      <td>1.062669</td>\n",
       "    </tr>\n",
       "    <tr>\n",
       "      <th>4</th>\n",
       "      <td>1</td>\n",
       "      <td>2019-05-03 11:26:09</td>\n",
       "      <td>2019-05-03 11:28:37</td>\n",
       "      <td>0.692755</td>\n",
       "      <td>0.414397</td>\n",
       "    </tr>\n",
       "  </tbody>\n",
       "</table>\n",
       "</div>"
      ],
      "text/plain": [
       "   key Начало нагрева дугой Конец нагрева дугой  Активная мощность  \\\n",
       "0    1  2019-05-03 11:02:14 2019-05-03 11:06:02           0.976059   \n",
       "1    1  2019-05-03 11:07:28 2019-05-03 11:10:33           0.805607   \n",
       "2    1  2019-05-03 11:11:44 2019-05-03 11:14:36           0.744363   \n",
       "3    1  2019-05-03 11:18:14 2019-05-03 11:24:19           1.659363   \n",
       "4    1  2019-05-03 11:26:09 2019-05-03 11:28:37           0.692755   \n",
       "\n",
       "   Реактивная мощность  \n",
       "0             0.687084  \n",
       "1             0.520285  \n",
       "2             0.498805  \n",
       "3             1.062669  \n",
       "4             0.414397  "
      ]
     },
     "execution_count": 4,
     "metadata": {},
     "output_type": "execute_result"
    }
   ],
   "source": [
    "### Импорт данных\n",
    "\n",
    "try:\n",
    "    data_arc = pd.read_csv('/Users/Ivan/data_arc.csv', \n",
    "                     parse_dates=['Начало нагрева дугой', 'Конец нагрева дугой'])\n",
    "except:\n",
    "    data_arc = pd.read_csv('https://code.s3.yandex.net/datasets/data_arc.csv')\n",
    "\n",
    "data_arc.head()"
   ]
  },
  {
   "cell_type": "code",
   "execution_count": 5,
   "id": "fb9de970",
   "metadata": {},
   "outputs": [
    {
     "data": {
      "text/html": [
       "<div>\n",
       "<style scoped>\n",
       "    .dataframe tbody tr th:only-of-type {\n",
       "        vertical-align: middle;\n",
       "    }\n",
       "\n",
       "    .dataframe tbody tr th {\n",
       "        vertical-align: top;\n",
       "    }\n",
       "\n",
       "    .dataframe thead th {\n",
       "        text-align: right;\n",
       "    }\n",
       "</style>\n",
       "<table border=\"1\" class=\"dataframe\">\n",
       "  <thead>\n",
       "    <tr style=\"text-align: right;\">\n",
       "      <th></th>\n",
       "      <th>key</th>\n",
       "      <th>Начало нагрева дугой</th>\n",
       "      <th>Конец нагрева дугой</th>\n",
       "      <th>Активная мощность</th>\n",
       "      <th>Реактивная мощность</th>\n",
       "      <th>time</th>\n",
       "    </tr>\n",
       "  </thead>\n",
       "  <tbody>\n",
       "    <tr>\n",
       "      <th>0</th>\n",
       "      <td>1</td>\n",
       "      <td>2019-05-03 11:02:14</td>\n",
       "      <td>2019-05-03 11:06:02</td>\n",
       "      <td>0.976059</td>\n",
       "      <td>0.687084</td>\n",
       "      <td>0 days 00:03:48</td>\n",
       "    </tr>\n",
       "    <tr>\n",
       "      <th>1</th>\n",
       "      <td>1</td>\n",
       "      <td>2019-05-03 11:07:28</td>\n",
       "      <td>2019-05-03 11:10:33</td>\n",
       "      <td>0.805607</td>\n",
       "      <td>0.520285</td>\n",
       "      <td>0 days 00:03:05</td>\n",
       "    </tr>\n",
       "    <tr>\n",
       "      <th>2</th>\n",
       "      <td>1</td>\n",
       "      <td>2019-05-03 11:11:44</td>\n",
       "      <td>2019-05-03 11:14:36</td>\n",
       "      <td>0.744363</td>\n",
       "      <td>0.498805</td>\n",
       "      <td>0 days 00:02:52</td>\n",
       "    </tr>\n",
       "    <tr>\n",
       "      <th>3</th>\n",
       "      <td>1</td>\n",
       "      <td>2019-05-03 11:18:14</td>\n",
       "      <td>2019-05-03 11:24:19</td>\n",
       "      <td>1.659363</td>\n",
       "      <td>1.062669</td>\n",
       "      <td>0 days 00:06:05</td>\n",
       "    </tr>\n",
       "    <tr>\n",
       "      <th>4</th>\n",
       "      <td>1</td>\n",
       "      <td>2019-05-03 11:26:09</td>\n",
       "      <td>2019-05-03 11:28:37</td>\n",
       "      <td>0.692755</td>\n",
       "      <td>0.414397</td>\n",
       "      <td>0 days 00:02:28</td>\n",
       "    </tr>\n",
       "  </tbody>\n",
       "</table>\n",
       "</div>"
      ],
      "text/plain": [
       "   key Начало нагрева дугой Конец нагрева дугой  Активная мощность  \\\n",
       "0    1  2019-05-03 11:02:14 2019-05-03 11:06:02           0.976059   \n",
       "1    1  2019-05-03 11:07:28 2019-05-03 11:10:33           0.805607   \n",
       "2    1  2019-05-03 11:11:44 2019-05-03 11:14:36           0.744363   \n",
       "3    1  2019-05-03 11:18:14 2019-05-03 11:24:19           1.659363   \n",
       "4    1  2019-05-03 11:26:09 2019-05-03 11:28:37           0.692755   \n",
       "\n",
       "   Реактивная мощность            time  \n",
       "0             0.687084 0 days 00:03:48  \n",
       "1             0.520285 0 days 00:03:05  \n",
       "2             0.498805 0 days 00:02:52  \n",
       "3             1.062669 0 days 00:06:05  \n",
       "4             0.414397 0 days 00:02:28  "
      ]
     },
     "execution_count": 5,
     "metadata": {},
     "output_type": "execute_result"
    }
   ],
   "source": [
    "data_arc['time'] = (data_arc['Конец нагрева дугой'] - data_arc['Начало нагрева дугой'])\n",
    "data_arc.head()"
   ]
  },
  {
   "cell_type": "code",
   "execution_count": 6,
   "id": "49375de1",
   "metadata": {},
   "outputs": [
    {
     "data": {
      "text/html": [
       "<div>\n",
       "<style scoped>\n",
       "    .dataframe tbody tr th:only-of-type {\n",
       "        vertical-align: middle;\n",
       "    }\n",
       "\n",
       "    .dataframe tbody tr th {\n",
       "        vertical-align: top;\n",
       "    }\n",
       "\n",
       "    .dataframe thead th {\n",
       "        text-align: right;\n",
       "    }\n",
       "</style>\n",
       "<table border=\"1\" class=\"dataframe\">\n",
       "  <thead>\n",
       "    <tr style=\"text-align: right;\">\n",
       "      <th></th>\n",
       "      <th>arc_time</th>\n",
       "    </tr>\n",
       "    <tr>\n",
       "      <th>key</th>\n",
       "      <th></th>\n",
       "    </tr>\n",
       "  </thead>\n",
       "  <tbody>\n",
       "    <tr>\n",
       "      <th>1</th>\n",
       "      <td>0 days 00:18:18</td>\n",
       "    </tr>\n",
       "    <tr>\n",
       "      <th>2</th>\n",
       "      <td>0 days 00:13:31</td>\n",
       "    </tr>\n",
       "    <tr>\n",
       "      <th>3</th>\n",
       "      <td>0 days 00:10:55</td>\n",
       "    </tr>\n",
       "    <tr>\n",
       "      <th>4</th>\n",
       "      <td>0 days 00:12:21</td>\n",
       "    </tr>\n",
       "    <tr>\n",
       "      <th>5</th>\n",
       "      <td>0 days 00:14:29</td>\n",
       "    </tr>\n",
       "  </tbody>\n",
       "</table>\n",
       "</div>"
      ],
      "text/plain": [
       "           arc_time\n",
       "key                \n",
       "1   0 days 00:18:18\n",
       "2   0 days 00:13:31\n",
       "3   0 days 00:10:55\n",
       "4   0 days 00:12:21\n",
       "5   0 days 00:14:29"
      ]
     },
     "execution_count": 6,
     "metadata": {},
     "output_type": "execute_result"
    }
   ],
   "source": [
    "arc_time = data_arc.groupby('key').agg({'time': np.sum})\n",
    "arc_time.rename({'time': 'arc_time'}, axis=1, inplace=True)\n",
    "arc_time.head()"
   ]
  },
  {
   "cell_type": "markdown",
   "id": "127d28aa",
   "metadata": {},
   "source": [
    "#  Суммарное время нагрева электродами, то есть сумму значений по всем промежуткам между запусками нагрева электродов."
   ]
  },
  {
   "cell_type": "code",
   "execution_count": 7,
   "id": "116d2e70",
   "metadata": {},
   "outputs": [
    {
     "data": {
      "text/plain": [
       "key\n",
       "1    5\n",
       "2    4\n",
       "3    5\n",
       "4    4\n",
       "5    4\n",
       "Name: arc_starts, dtype: int64"
      ]
     },
     "execution_count": 7,
     "metadata": {},
     "output_type": "execute_result"
    }
   ],
   "source": [
    "arc_starts = data_arc.groupby('key').count()['time']\n",
    "arc_starts.name = 'arc_starts'\n",
    "arc_starts.head()"
   ]
  },
  {
   "cell_type": "markdown",
   "id": "475cf223",
   "metadata": {},
   "source": [
    "# Среднее соотношение потребления активной и реактивной мощности."
   ]
  },
  {
   "cell_type": "code",
   "execution_count": 8,
   "id": "63cc234a",
   "metadata": {},
   "outputs": [
    {
     "data": {
      "text/plain": [
       "0    1.420582\n",
       "1    1.548395\n",
       "2    1.492292\n",
       "3    1.561504\n",
       "4    1.671717\n",
       "Name: power_ratio, dtype: float64"
      ]
     },
     "execution_count": 8,
     "metadata": {},
     "output_type": "execute_result"
    }
   ],
   "source": [
    "data_arc['power_ratio'] = (data_arc['Активная мощность'] / data_arc['Реактивная мощность'])\n",
    "data_arc['power_ratio'].head()"
   ]
  },
  {
   "cell_type": "code",
   "execution_count": 9,
   "id": "95161d71",
   "metadata": {},
   "outputs": [
    {
     "data": {
      "text/plain": [
       "count    14876.000000\n",
       "mean         1.360584\n",
       "std          0.173451\n",
       "min         -0.000693\n",
       "25%          1.257090\n",
       "50%          1.376088\n",
       "75%          1.480588\n",
       "max          1.949831\n",
       "Name: power_ratio, dtype: float64"
      ]
     },
     "execution_count": 9,
     "metadata": {},
     "output_type": "execute_result"
    }
   ],
   "source": [
    "data_arc['power_ratio'].describe()"
   ]
  },
  {
   "cell_type": "code",
   "execution_count": 10,
   "id": "c7c0f866",
   "metadata": {},
   "outputs": [
    {
     "data": {
      "text/plain": [
       "key\n",
       "1    1.538898\n",
       "2    1.551834\n",
       "3    1.583120\n",
       "4    1.563487\n",
       "5    1.480428\n",
       "Name: power_ratio, dtype: float64"
      ]
     },
     "execution_count": 10,
     "metadata": {},
     "output_type": "execute_result"
    }
   ],
   "source": [
    "mean_power_ratio = data_arc.groupby('key').mean()['power_ratio']\n",
    "mean_power_ratio.head()"
   ]
  },
  {
   "cell_type": "markdown",
   "id": "8b691ea7",
   "metadata": {},
   "source": [
    "# По всем полученным столбцам вычислите статистики: средние, минимальные и максимальные значения, медиану и величины 25%- и 75%-квартилей."
   ]
  },
  {
   "cell_type": "code",
   "execution_count": 11,
   "id": "c362cc39",
   "metadata": {},
   "outputs": [
    {
     "data": {
      "text/html": [
       "<div>\n",
       "<style scoped>\n",
       "    .dataframe tbody tr th:only-of-type {\n",
       "        vertical-align: middle;\n",
       "    }\n",
       "\n",
       "    .dataframe tbody tr th {\n",
       "        vertical-align: top;\n",
       "    }\n",
       "\n",
       "    .dataframe thead th {\n",
       "        text-align: right;\n",
       "    }\n",
       "</style>\n",
       "<table border=\"1\" class=\"dataframe\">\n",
       "  <thead>\n",
       "    <tr style=\"text-align: right;\">\n",
       "      <th></th>\n",
       "      <th>full_time</th>\n",
       "      <th>arc_time</th>\n",
       "      <th>arc_starts</th>\n",
       "      <th>power_ratio</th>\n",
       "    </tr>\n",
       "    <tr>\n",
       "      <th>key</th>\n",
       "      <th></th>\n",
       "      <th></th>\n",
       "      <th></th>\n",
       "      <th></th>\n",
       "    </tr>\n",
       "  </thead>\n",
       "  <tbody>\n",
       "    <tr>\n",
       "      <th>1</th>\n",
       "      <td>0 days 00:14:21</td>\n",
       "      <td>0 days 00:18:18</td>\n",
       "      <td>5.0</td>\n",
       "      <td>1.538898</td>\n",
       "    </tr>\n",
       "    <tr>\n",
       "      <th>2</th>\n",
       "      <td>0 days 00:21:45</td>\n",
       "      <td>0 days 00:13:31</td>\n",
       "      <td>4.0</td>\n",
       "      <td>1.551834</td>\n",
       "    </tr>\n",
       "    <tr>\n",
       "      <th>3</th>\n",
       "      <td>0 days 00:21:40</td>\n",
       "      <td>0 days 00:10:55</td>\n",
       "      <td>5.0</td>\n",
       "      <td>1.583120</td>\n",
       "    </tr>\n",
       "    <tr>\n",
       "      <th>4</th>\n",
       "      <td>0 days 00:06:28</td>\n",
       "      <td>0 days 00:12:21</td>\n",
       "      <td>4.0</td>\n",
       "      <td>1.563487</td>\n",
       "    </tr>\n",
       "    <tr>\n",
       "      <th>5</th>\n",
       "      <td>0 days 00:12:42</td>\n",
       "      <td>0 days 00:14:29</td>\n",
       "      <td>4.0</td>\n",
       "      <td>1.480428</td>\n",
       "    </tr>\n",
       "  </tbody>\n",
       "</table>\n",
       "</div>"
      ],
      "text/plain": [
       "          full_time        arc_time  arc_starts  power_ratio\n",
       "key                                                         \n",
       "1   0 days 00:14:21 0 days 00:18:18         5.0     1.538898\n",
       "2   0 days 00:21:45 0 days 00:13:31         4.0     1.551834\n",
       "3   0 days 00:21:40 0 days 00:10:55         5.0     1.583120\n",
       "4   0 days 00:06:28 0 days 00:12:21         4.0     1.563487\n",
       "5   0 days 00:12:42 0 days 00:14:29         4.0     1.480428"
      ]
     },
     "execution_count": 11,
     "metadata": {},
     "output_type": "execute_result"
    }
   ],
   "source": [
    "data = pd.DataFrame(full_time).join([arc_time, arc_starts, mean_power_ratio])\n",
    "data.head()"
   ]
  },
  {
   "cell_type": "code",
   "execution_count": 12,
   "id": "31728dd4",
   "metadata": {},
   "outputs": [
    {
     "data": {
      "text/html": [
       "<div>\n",
       "<style scoped>\n",
       "    .dataframe tbody tr th:only-of-type {\n",
       "        vertical-align: middle;\n",
       "    }\n",
       "\n",
       "    .dataframe tbody tr th {\n",
       "        vertical-align: top;\n",
       "    }\n",
       "\n",
       "    .dataframe thead th {\n",
       "        text-align: right;\n",
       "    }\n",
       "</style>\n",
       "<table border=\"1\" class=\"dataframe\">\n",
       "  <thead>\n",
       "    <tr style=\"text-align: right;\">\n",
       "      <th></th>\n",
       "      <th>full_time</th>\n",
       "      <th>arc_time</th>\n",
       "      <th>arc_starts</th>\n",
       "      <th>power_ratio</th>\n",
       "    </tr>\n",
       "  </thead>\n",
       "  <tbody>\n",
       "    <tr>\n",
       "      <th>count</th>\n",
       "      <td>3216</td>\n",
       "      <td>3214</td>\n",
       "      <td>3214.000000</td>\n",
       "      <td>3214.000000</td>\n",
       "    </tr>\n",
       "    <tr>\n",
       "      <th>mean</th>\n",
       "      <td>0 days 00:30:39.861629353</td>\n",
       "      <td>0 days 00:13:14.579029247</td>\n",
       "      <td>4.628500</td>\n",
       "      <td>1.357452</td>\n",
       "    </tr>\n",
       "    <tr>\n",
       "      <th>std</th>\n",
       "      <td>0 days 00:20:46.950298194</td>\n",
       "      <td>0 days 00:05:32.448622113</td>\n",
       "      <td>1.608647</td>\n",
       "      <td>0.132824</td>\n",
       "    </tr>\n",
       "    <tr>\n",
       "      <th>min</th>\n",
       "      <td>0 days 00:00:00</td>\n",
       "      <td>0 days 00:00:57</td>\n",
       "      <td>1.000000</td>\n",
       "      <td>0.676106</td>\n",
       "    </tr>\n",
       "    <tr>\n",
       "      <th>25%</th>\n",
       "      <td>0 days 00:19:37</td>\n",
       "      <td>0 days 00:09:31</td>\n",
       "      <td>4.000000</td>\n",
       "      <td>1.292892</td>\n",
       "    </tr>\n",
       "    <tr>\n",
       "      <th>50%</th>\n",
       "      <td>0 days 00:26:21</td>\n",
       "      <td>0 days 00:12:50</td>\n",
       "      <td>4.000000</td>\n",
       "      <td>1.370550</td>\n",
       "    </tr>\n",
       "    <tr>\n",
       "      <th>75%</th>\n",
       "      <td>0 days 00:37:15</td>\n",
       "      <td>0 days 00:16:23</td>\n",
       "      <td>6.000000</td>\n",
       "      <td>1.438292</td>\n",
       "    </tr>\n",
       "    <tr>\n",
       "      <th>max</th>\n",
       "      <td>0 days 06:32:17</td>\n",
       "      <td>0 days 01:09:49</td>\n",
       "      <td>16.000000</td>\n",
       "      <td>1.782164</td>\n",
       "    </tr>\n",
       "  </tbody>\n",
       "</table>\n",
       "</div>"
      ],
      "text/plain": [
       "                       full_time                   arc_time   arc_starts  \\\n",
       "count                       3216                       3214  3214.000000   \n",
       "mean   0 days 00:30:39.861629353  0 days 00:13:14.579029247     4.628500   \n",
       "std    0 days 00:20:46.950298194  0 days 00:05:32.448622113     1.608647   \n",
       "min              0 days 00:00:00            0 days 00:00:57     1.000000   \n",
       "25%              0 days 00:19:37            0 days 00:09:31     4.000000   \n",
       "50%              0 days 00:26:21            0 days 00:12:50     4.000000   \n",
       "75%              0 days 00:37:15            0 days 00:16:23     6.000000   \n",
       "max              0 days 06:32:17            0 days 01:09:49    16.000000   \n",
       "\n",
       "       power_ratio  \n",
       "count  3214.000000  \n",
       "mean      1.357452  \n",
       "std       0.132824  \n",
       "min       0.676106  \n",
       "25%       1.292892  \n",
       "50%       1.370550  \n",
       "75%       1.438292  \n",
       "max       1.782164  "
      ]
     },
     "execution_count": 12,
     "metadata": {},
     "output_type": "execute_result"
    }
   ],
   "source": [
    "data.describe()"
   ]
  }
 ],
 "metadata": {
  "kernelspec": {
   "display_name": "Python 3 (ipykernel)",
   "language": "python",
   "name": "python3"
  },
  "language_info": {
   "codemirror_mode": {
    "name": "ipython",
    "version": 3
   },
   "file_extension": ".py",
   "mimetype": "text/x-python",
   "name": "python",
   "nbconvert_exporter": "python",
   "pygments_lexer": "ipython3",
   "version": "3.9.7"
  }
 },
 "nbformat": 4,
 "nbformat_minor": 5
}
