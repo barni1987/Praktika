{
 "cells": [
  {
   "cell_type": "markdown",
   "metadata": {},
   "source": [
    "# Определение стоимости автомобилей"
   ]
  },
  {
   "cell_type": "markdown",
   "metadata": {},
   "source": [
    "Сервис по продаже автомобилей с пробегом «Не бит, не крашен» разрабатывает приложение для привлечения новых клиентов. В нём можно быстро узнать рыночную стоимость своего автомобиля. В вашем распоряжении исторические данные: технические характеристики, комплектации и цены автомобилей. Вам нужно построить модель для определения стоимости. \n",
    "\n",
    "Заказчику важны:\n",
    "\n",
    "- качество предсказания;\n",
    "- скорость предсказания;\n",
    "- время обучения."
   ]
  },
  {
   "cell_type": "markdown",
   "metadata": {},
   "source": [
    "## Подготовка данных"
   ]
  },
  {
   "cell_type": "code",
   "execution_count": 105,
   "metadata": {},
   "outputs": [],
   "source": [
    "import matplotlib.pyplot as plt\n",
    "import numpy as np\n",
    "import pandas as pd\n",
    "import warnings\n",
    "from sklearn.model_selection import train_test_split\n",
    "from sklearn.preprocessing import StandardScaler\n",
    "from sklearn.metrics import mean_squared_error\n",
    "from sklearn.preprocessing import OrdinalEncoder\n",
    "from sklearn.linear_model import LinearRegression\n",
    "from sklearn.linear_model import Ridge\n",
    "from sklearn.model_selection import GridSearchCV\n",
    "from sklearn.tree import DecisionTreeRegressor\n",
    "from catboost import Pool, CatBoostRegressor, cv\n",
    "from lightgbm import LGBMRegressor\n",
    "warnings.filterwarnings('ignore')"
   ]
  },
  {
   "cell_type": "markdown",
   "metadata": {},
   "source": [
    "<b> Изучение данных </b>"
   ]
  },
  {
   "cell_type": "code",
   "execution_count": 106,
   "metadata": {},
   "outputs": [
    {
     "data": {
      "text/html": [
       "<div>\n",
       "<style scoped>\n",
       "    .dataframe tbody tr th:only-of-type {\n",
       "        vertical-align: middle;\n",
       "    }\n",
       "\n",
       "    .dataframe tbody tr th {\n",
       "        vertical-align: top;\n",
       "    }\n",
       "\n",
       "    .dataframe thead th {\n",
       "        text-align: right;\n",
       "    }\n",
       "</style>\n",
       "<table border=\"1\" class=\"dataframe\">\n",
       "  <thead>\n",
       "    <tr style=\"text-align: right;\">\n",
       "      <th></th>\n",
       "      <th>DateCrawled</th>\n",
       "      <th>Price</th>\n",
       "      <th>VehicleType</th>\n",
       "      <th>RegistrationYear</th>\n",
       "      <th>Gearbox</th>\n",
       "      <th>Power</th>\n",
       "      <th>Model</th>\n",
       "      <th>Kilometer</th>\n",
       "      <th>RegistrationMonth</th>\n",
       "      <th>FuelType</th>\n",
       "      <th>Brand</th>\n",
       "      <th>NotRepaired</th>\n",
       "      <th>DateCreated</th>\n",
       "      <th>NumberOfPictures</th>\n",
       "      <th>PostalCode</th>\n",
       "      <th>LastSeen</th>\n",
       "    </tr>\n",
       "  </thead>\n",
       "  <tbody>\n",
       "    <tr>\n",
       "      <th>0</th>\n",
       "      <td>2016-03-24 11:52:17</td>\n",
       "      <td>480</td>\n",
       "      <td>NaN</td>\n",
       "      <td>1993</td>\n",
       "      <td>manual</td>\n",
       "      <td>0</td>\n",
       "      <td>golf</td>\n",
       "      <td>150000</td>\n",
       "      <td>0</td>\n",
       "      <td>petrol</td>\n",
       "      <td>volkswagen</td>\n",
       "      <td>NaN</td>\n",
       "      <td>2016-03-24 00:00:00</td>\n",
       "      <td>0</td>\n",
       "      <td>70435</td>\n",
       "      <td>2016-04-07 03:16:57</td>\n",
       "    </tr>\n",
       "    <tr>\n",
       "      <th>1</th>\n",
       "      <td>2016-03-24 10:58:45</td>\n",
       "      <td>18300</td>\n",
       "      <td>coupe</td>\n",
       "      <td>2011</td>\n",
       "      <td>manual</td>\n",
       "      <td>190</td>\n",
       "      <td>NaN</td>\n",
       "      <td>125000</td>\n",
       "      <td>5</td>\n",
       "      <td>gasoline</td>\n",
       "      <td>audi</td>\n",
       "      <td>yes</td>\n",
       "      <td>2016-03-24 00:00:00</td>\n",
       "      <td>0</td>\n",
       "      <td>66954</td>\n",
       "      <td>2016-04-07 01:46:50</td>\n",
       "    </tr>\n",
       "    <tr>\n",
       "      <th>2</th>\n",
       "      <td>2016-03-14 12:52:21</td>\n",
       "      <td>9800</td>\n",
       "      <td>suv</td>\n",
       "      <td>2004</td>\n",
       "      <td>auto</td>\n",
       "      <td>163</td>\n",
       "      <td>grand</td>\n",
       "      <td>125000</td>\n",
       "      <td>8</td>\n",
       "      <td>gasoline</td>\n",
       "      <td>jeep</td>\n",
       "      <td>NaN</td>\n",
       "      <td>2016-03-14 00:00:00</td>\n",
       "      <td>0</td>\n",
       "      <td>90480</td>\n",
       "      <td>2016-04-05 12:47:46</td>\n",
       "    </tr>\n",
       "    <tr>\n",
       "      <th>3</th>\n",
       "      <td>2016-03-17 16:54:04</td>\n",
       "      <td>1500</td>\n",
       "      <td>small</td>\n",
       "      <td>2001</td>\n",
       "      <td>manual</td>\n",
       "      <td>75</td>\n",
       "      <td>golf</td>\n",
       "      <td>150000</td>\n",
       "      <td>6</td>\n",
       "      <td>petrol</td>\n",
       "      <td>volkswagen</td>\n",
       "      <td>no</td>\n",
       "      <td>2016-03-17 00:00:00</td>\n",
       "      <td>0</td>\n",
       "      <td>91074</td>\n",
       "      <td>2016-03-17 17:40:17</td>\n",
       "    </tr>\n",
       "    <tr>\n",
       "      <th>4</th>\n",
       "      <td>2016-03-31 17:25:20</td>\n",
       "      <td>3600</td>\n",
       "      <td>small</td>\n",
       "      <td>2008</td>\n",
       "      <td>manual</td>\n",
       "      <td>69</td>\n",
       "      <td>fabia</td>\n",
       "      <td>90000</td>\n",
       "      <td>7</td>\n",
       "      <td>gasoline</td>\n",
       "      <td>skoda</td>\n",
       "      <td>no</td>\n",
       "      <td>2016-03-31 00:00:00</td>\n",
       "      <td>0</td>\n",
       "      <td>60437</td>\n",
       "      <td>2016-04-06 10:17:21</td>\n",
       "    </tr>\n",
       "  </tbody>\n",
       "</table>\n",
       "</div>"
      ],
      "text/plain": [
       "           DateCrawled  Price VehicleType  RegistrationYear Gearbox  Power  \\\n",
       "0  2016-03-24 11:52:17    480         NaN              1993  manual      0   \n",
       "1  2016-03-24 10:58:45  18300       coupe              2011  manual    190   \n",
       "2  2016-03-14 12:52:21   9800         suv              2004    auto    163   \n",
       "3  2016-03-17 16:54:04   1500       small              2001  manual     75   \n",
       "4  2016-03-31 17:25:20   3600       small              2008  manual     69   \n",
       "\n",
       "   Model  Kilometer  RegistrationMonth  FuelType       Brand NotRepaired  \\\n",
       "0   golf     150000                  0    petrol  volkswagen         NaN   \n",
       "1    NaN     125000                  5  gasoline        audi         yes   \n",
       "2  grand     125000                  8  gasoline        jeep         NaN   \n",
       "3   golf     150000                  6    petrol  volkswagen          no   \n",
       "4  fabia      90000                  7  gasoline       skoda          no   \n",
       "\n",
       "           DateCreated  NumberOfPictures  PostalCode             LastSeen  \n",
       "0  2016-03-24 00:00:00                 0       70435  2016-04-07 03:16:57  \n",
       "1  2016-03-24 00:00:00                 0       66954  2016-04-07 01:46:50  \n",
       "2  2016-03-14 00:00:00                 0       90480  2016-04-05 12:47:46  \n",
       "3  2016-03-17 00:00:00                 0       91074  2016-03-17 17:40:17  \n",
       "4  2016-03-31 00:00:00                 0       60437  2016-04-06 10:17:21  "
      ]
     },
     "execution_count": 106,
     "metadata": {},
     "output_type": "execute_result"
    }
   ],
   "source": [
    "data = pd.read_csv(\"/datasets/autos.csv\")\n",
    "data.head()"
   ]
  },
  {
   "cell_type": "code",
   "execution_count": 107,
   "metadata": {},
   "outputs": [
    {
     "name": "stdout",
     "output_type": "stream",
     "text": [
      "<class 'pandas.core.frame.DataFrame'>\n",
      "RangeIndex: 354369 entries, 0 to 354368\n",
      "Data columns (total 16 columns):\n",
      " #   Column             Non-Null Count   Dtype \n",
      "---  ------             --------------   ----- \n",
      " 0   DateCrawled        354369 non-null  object\n",
      " 1   Price              354369 non-null  int64 \n",
      " 2   VehicleType        316879 non-null  object\n",
      " 3   RegistrationYear   354369 non-null  int64 \n",
      " 4   Gearbox            334536 non-null  object\n",
      " 5   Power              354369 non-null  int64 \n",
      " 6   Model              334664 non-null  object\n",
      " 7   Kilometer          354369 non-null  int64 \n",
      " 8   RegistrationMonth  354369 non-null  int64 \n",
      " 9   FuelType           321474 non-null  object\n",
      " 10  Brand              354369 non-null  object\n",
      " 11  NotRepaired        283215 non-null  object\n",
      " 12  DateCreated        354369 non-null  object\n",
      " 13  NumberOfPictures   354369 non-null  int64 \n",
      " 14  PostalCode         354369 non-null  int64 \n",
      " 15  LastSeen           354369 non-null  object\n",
      "dtypes: int64(7), object(9)\n",
      "memory usage: 43.3+ MB\n"
     ]
    },
    {
     "data": {
      "text/plain": [
       "None"
      ]
     },
     "metadata": {},
     "output_type": "display_data"
    }
   ],
   "source": [
    "display(data.info())"
   ]
  },
  {
   "cell_type": "markdown",
   "metadata": {},
   "source": [
    "<b> Признаки </b>\n",
    "- DateCrawled — дата скачивания анкеты из базы\n",
    "- VehicleType — тип автомобильного кузова\n",
    "- RegistrationYear — год регистрации автомобиля\n",
    "- Gearbox — тип коробки передач\n",
    "- Power — мощность (л. с.)\n",
    "- Model — модель автомобиля\n",
    "- Kilometer — пробег (км)\n",
    "- RegistrationMonth — месяц регистрации автомобиля\n",
    "- FuelType — тип топлива\n",
    "- Brand — марка автомобиля\n",
    "- NotRepaired — была машина в ремонте или нет\n",
    "- DateCreated — дата создания анкеты\n",
    "- NumberOfPictures — количество фотографий автомобиля\n",
    "- PostalCode — почтовый индекс владельца анкеты (пользователя)\n",
    "- LastSeen — дата последней активности пользователя\n",
    "\n",
    "<b> Целевой признак </b>\n",
    "- Price — цена (евро)"
   ]
  },
  {
   "cell_type": "code",
   "execution_count": 108,
   "metadata": {},
   "outputs": [
    {
     "data": {
      "text/html": [
       "<div>\n",
       "<style scoped>\n",
       "    .dataframe tbody tr th:only-of-type {\n",
       "        vertical-align: middle;\n",
       "    }\n",
       "\n",
       "    .dataframe tbody tr th {\n",
       "        vertical-align: top;\n",
       "    }\n",
       "\n",
       "    .dataframe thead th {\n",
       "        text-align: right;\n",
       "    }\n",
       "</style>\n",
       "<table border=\"1\" class=\"dataframe\">\n",
       "  <thead>\n",
       "    <tr style=\"text-align: right;\">\n",
       "      <th></th>\n",
       "      <th>DateCrawled</th>\n",
       "      <th>Price</th>\n",
       "      <th>VehicleType</th>\n",
       "      <th>RegistrationYear</th>\n",
       "      <th>Gearbox</th>\n",
       "      <th>Power</th>\n",
       "      <th>Model</th>\n",
       "      <th>Kilometer</th>\n",
       "      <th>RegistrationMonth</th>\n",
       "      <th>FuelType</th>\n",
       "      <th>Brand</th>\n",
       "      <th>NotRepaired</th>\n",
       "      <th>DateCreated</th>\n",
       "      <th>NumberOfPictures</th>\n",
       "      <th>PostalCode</th>\n",
       "      <th>LastSeen</th>\n",
       "    </tr>\n",
       "  </thead>\n",
       "  <tbody>\n",
       "    <tr>\n",
       "      <th>41529</th>\n",
       "      <td>2016-03-18 18:46:15</td>\n",
       "      <td>1999</td>\n",
       "      <td>wagon</td>\n",
       "      <td>2001</td>\n",
       "      <td>manual</td>\n",
       "      <td>131</td>\n",
       "      <td>passat</td>\n",
       "      <td>150000</td>\n",
       "      <td>7</td>\n",
       "      <td>gasoline</td>\n",
       "      <td>volkswagen</td>\n",
       "      <td>no</td>\n",
       "      <td>2016-03-18 00:00:00</td>\n",
       "      <td>0</td>\n",
       "      <td>36391</td>\n",
       "      <td>2016-03-18 18:46:15</td>\n",
       "    </tr>\n",
       "    <tr>\n",
       "      <th>88087</th>\n",
       "      <td>2016-03-08 18:42:48</td>\n",
       "      <td>1799</td>\n",
       "      <td>coupe</td>\n",
       "      <td>1999</td>\n",
       "      <td>auto</td>\n",
       "      <td>193</td>\n",
       "      <td>clk</td>\n",
       "      <td>20000</td>\n",
       "      <td>7</td>\n",
       "      <td>petrol</td>\n",
       "      <td>mercedes_benz</td>\n",
       "      <td>no</td>\n",
       "      <td>2016-03-08 00:00:00</td>\n",
       "      <td>0</td>\n",
       "      <td>89518</td>\n",
       "      <td>2016-03-09 09:46:57</td>\n",
       "    </tr>\n",
       "    <tr>\n",
       "      <th>90964</th>\n",
       "      <td>2016-03-28 00:56:10</td>\n",
       "      <td>1000</td>\n",
       "      <td>small</td>\n",
       "      <td>2002</td>\n",
       "      <td>manual</td>\n",
       "      <td>83</td>\n",
       "      <td>other</td>\n",
       "      <td>150000</td>\n",
       "      <td>1</td>\n",
       "      <td>petrol</td>\n",
       "      <td>suzuki</td>\n",
       "      <td>no</td>\n",
       "      <td>2016-03-28 00:00:00</td>\n",
       "      <td>0</td>\n",
       "      <td>66589</td>\n",
       "      <td>2016-03-28 08:46:21</td>\n",
       "    </tr>\n",
       "    <tr>\n",
       "      <th>171088</th>\n",
       "      <td>2016-03-08 18:42:48</td>\n",
       "      <td>1799</td>\n",
       "      <td>coupe</td>\n",
       "      <td>1999</td>\n",
       "      <td>auto</td>\n",
       "      <td>193</td>\n",
       "      <td>clk</td>\n",
       "      <td>20000</td>\n",
       "      <td>7</td>\n",
       "      <td>petrol</td>\n",
       "      <td>mercedes_benz</td>\n",
       "      <td>no</td>\n",
       "      <td>2016-03-08 00:00:00</td>\n",
       "      <td>0</td>\n",
       "      <td>89518</td>\n",
       "      <td>2016-03-09 09:46:57</td>\n",
       "    </tr>\n",
       "    <tr>\n",
       "      <th>187735</th>\n",
       "      <td>2016-04-03 09:01:15</td>\n",
       "      <td>4699</td>\n",
       "      <td>coupe</td>\n",
       "      <td>2003</td>\n",
       "      <td>auto</td>\n",
       "      <td>218</td>\n",
       "      <td>clk</td>\n",
       "      <td>125000</td>\n",
       "      <td>6</td>\n",
       "      <td>petrol</td>\n",
       "      <td>mercedes_benz</td>\n",
       "      <td>yes</td>\n",
       "      <td>2016-04-03 00:00:00</td>\n",
       "      <td>0</td>\n",
       "      <td>75196</td>\n",
       "      <td>2016-04-07 09:44:54</td>\n",
       "    </tr>\n",
       "    <tr>\n",
       "      <th>231258</th>\n",
       "      <td>2016-03-28 00:56:10</td>\n",
       "      <td>1000</td>\n",
       "      <td>small</td>\n",
       "      <td>2002</td>\n",
       "      <td>manual</td>\n",
       "      <td>83</td>\n",
       "      <td>other</td>\n",
       "      <td>150000</td>\n",
       "      <td>1</td>\n",
       "      <td>petrol</td>\n",
       "      <td>suzuki</td>\n",
       "      <td>no</td>\n",
       "      <td>2016-03-28 00:00:00</td>\n",
       "      <td>0</td>\n",
       "      <td>66589</td>\n",
       "      <td>2016-03-28 08:46:21</td>\n",
       "    </tr>\n",
       "    <tr>\n",
       "      <th>258109</th>\n",
       "      <td>2016-04-03 09:01:15</td>\n",
       "      <td>4699</td>\n",
       "      <td>coupe</td>\n",
       "      <td>2003</td>\n",
       "      <td>auto</td>\n",
       "      <td>218</td>\n",
       "      <td>clk</td>\n",
       "      <td>125000</td>\n",
       "      <td>6</td>\n",
       "      <td>petrol</td>\n",
       "      <td>mercedes_benz</td>\n",
       "      <td>yes</td>\n",
       "      <td>2016-04-03 00:00:00</td>\n",
       "      <td>0</td>\n",
       "      <td>75196</td>\n",
       "      <td>2016-04-07 09:44:54</td>\n",
       "    </tr>\n",
       "    <tr>\n",
       "      <th>325651</th>\n",
       "      <td>2016-03-18 18:46:15</td>\n",
       "      <td>1999</td>\n",
       "      <td>wagon</td>\n",
       "      <td>2001</td>\n",
       "      <td>manual</td>\n",
       "      <td>131</td>\n",
       "      <td>passat</td>\n",
       "      <td>150000</td>\n",
       "      <td>7</td>\n",
       "      <td>gasoline</td>\n",
       "      <td>volkswagen</td>\n",
       "      <td>no</td>\n",
       "      <td>2016-03-18 00:00:00</td>\n",
       "      <td>0</td>\n",
       "      <td>36391</td>\n",
       "      <td>2016-03-18 18:46:15</td>\n",
       "    </tr>\n",
       "  </tbody>\n",
       "</table>\n",
       "</div>"
      ],
      "text/plain": [
       "                DateCrawled  Price VehicleType  RegistrationYear Gearbox  \\\n",
       "41529   2016-03-18 18:46:15   1999       wagon              2001  manual   \n",
       "88087   2016-03-08 18:42:48   1799       coupe              1999    auto   \n",
       "90964   2016-03-28 00:56:10   1000       small              2002  manual   \n",
       "171088  2016-03-08 18:42:48   1799       coupe              1999    auto   \n",
       "187735  2016-04-03 09:01:15   4699       coupe              2003    auto   \n",
       "231258  2016-03-28 00:56:10   1000       small              2002  manual   \n",
       "258109  2016-04-03 09:01:15   4699       coupe              2003    auto   \n",
       "325651  2016-03-18 18:46:15   1999       wagon              2001  manual   \n",
       "\n",
       "        Power   Model  Kilometer  RegistrationMonth  FuelType          Brand  \\\n",
       "41529     131  passat     150000                  7  gasoline     volkswagen   \n",
       "88087     193     clk      20000                  7    petrol  mercedes_benz   \n",
       "90964      83   other     150000                  1    petrol         suzuki   \n",
       "171088    193     clk      20000                  7    petrol  mercedes_benz   \n",
       "187735    218     clk     125000                  6    petrol  mercedes_benz   \n",
       "231258     83   other     150000                  1    petrol         suzuki   \n",
       "258109    218     clk     125000                  6    petrol  mercedes_benz   \n",
       "325651    131  passat     150000                  7  gasoline     volkswagen   \n",
       "\n",
       "       NotRepaired          DateCreated  NumberOfPictures  PostalCode  \\\n",
       "41529           no  2016-03-18 00:00:00                 0       36391   \n",
       "88087           no  2016-03-08 00:00:00                 0       89518   \n",
       "90964           no  2016-03-28 00:00:00                 0       66589   \n",
       "171088          no  2016-03-08 00:00:00                 0       89518   \n",
       "187735         yes  2016-04-03 00:00:00                 0       75196   \n",
       "231258          no  2016-03-28 00:00:00                 0       66589   \n",
       "258109         yes  2016-04-03 00:00:00                 0       75196   \n",
       "325651          no  2016-03-18 00:00:00                 0       36391   \n",
       "\n",
       "                   LastSeen  \n",
       "41529   2016-03-18 18:46:15  \n",
       "88087   2016-03-09 09:46:57  \n",
       "90964   2016-03-28 08:46:21  \n",
       "171088  2016-03-09 09:46:57  \n",
       "187735  2016-04-07 09:44:54  \n",
       "231258  2016-03-28 08:46:21  \n",
       "258109  2016-04-07 09:44:54  \n",
       "325651  2016-03-18 18:46:15  "
      ]
     },
     "execution_count": 108,
     "metadata": {},
     "output_type": "execute_result"
    }
   ],
   "source": [
    "data[data.duplicated(keep=False)]"
   ]
  },
  {
   "cell_type": "code",
   "execution_count": 109,
   "metadata": {},
   "outputs": [
    {
     "data": {
      "text/html": [
       "<div>\n",
       "<style scoped>\n",
       "    .dataframe tbody tr th:only-of-type {\n",
       "        vertical-align: middle;\n",
       "    }\n",
       "\n",
       "    .dataframe tbody tr th {\n",
       "        vertical-align: top;\n",
       "    }\n",
       "\n",
       "    .dataframe thead th {\n",
       "        text-align: right;\n",
       "    }\n",
       "</style>\n",
       "<table border=\"1\" class=\"dataframe\">\n",
       "  <thead>\n",
       "    <tr style=\"text-align: right;\">\n",
       "      <th></th>\n",
       "      <th>Price</th>\n",
       "      <th>RegistrationYear</th>\n",
       "      <th>Power</th>\n",
       "      <th>Kilometer</th>\n",
       "      <th>RegistrationMonth</th>\n",
       "      <th>NumberOfPictures</th>\n",
       "      <th>PostalCode</th>\n",
       "    </tr>\n",
       "  </thead>\n",
       "  <tbody>\n",
       "    <tr>\n",
       "      <th>count</th>\n",
       "      <td>354369.000000</td>\n",
       "      <td>354369.000000</td>\n",
       "      <td>354369.000000</td>\n",
       "      <td>354369.000000</td>\n",
       "      <td>354369.000000</td>\n",
       "      <td>354369.0</td>\n",
       "      <td>354369.000000</td>\n",
       "    </tr>\n",
       "    <tr>\n",
       "      <th>mean</th>\n",
       "      <td>4416.656776</td>\n",
       "      <td>2004.234448</td>\n",
       "      <td>110.094337</td>\n",
       "      <td>128211.172535</td>\n",
       "      <td>5.714645</td>\n",
       "      <td>0.0</td>\n",
       "      <td>50508.689087</td>\n",
       "    </tr>\n",
       "    <tr>\n",
       "      <th>std</th>\n",
       "      <td>4514.158514</td>\n",
       "      <td>90.227958</td>\n",
       "      <td>189.850405</td>\n",
       "      <td>37905.341530</td>\n",
       "      <td>3.726421</td>\n",
       "      <td>0.0</td>\n",
       "      <td>25783.096248</td>\n",
       "    </tr>\n",
       "    <tr>\n",
       "      <th>min</th>\n",
       "      <td>0.000000</td>\n",
       "      <td>1000.000000</td>\n",
       "      <td>0.000000</td>\n",
       "      <td>5000.000000</td>\n",
       "      <td>0.000000</td>\n",
       "      <td>0.0</td>\n",
       "      <td>1067.000000</td>\n",
       "    </tr>\n",
       "    <tr>\n",
       "      <th>25%</th>\n",
       "      <td>1050.000000</td>\n",
       "      <td>1999.000000</td>\n",
       "      <td>69.000000</td>\n",
       "      <td>125000.000000</td>\n",
       "      <td>3.000000</td>\n",
       "      <td>0.0</td>\n",
       "      <td>30165.000000</td>\n",
       "    </tr>\n",
       "    <tr>\n",
       "      <th>50%</th>\n",
       "      <td>2700.000000</td>\n",
       "      <td>2003.000000</td>\n",
       "      <td>105.000000</td>\n",
       "      <td>150000.000000</td>\n",
       "      <td>6.000000</td>\n",
       "      <td>0.0</td>\n",
       "      <td>49413.000000</td>\n",
       "    </tr>\n",
       "    <tr>\n",
       "      <th>75%</th>\n",
       "      <td>6400.000000</td>\n",
       "      <td>2008.000000</td>\n",
       "      <td>143.000000</td>\n",
       "      <td>150000.000000</td>\n",
       "      <td>9.000000</td>\n",
       "      <td>0.0</td>\n",
       "      <td>71083.000000</td>\n",
       "    </tr>\n",
       "    <tr>\n",
       "      <th>max</th>\n",
       "      <td>20000.000000</td>\n",
       "      <td>9999.000000</td>\n",
       "      <td>20000.000000</td>\n",
       "      <td>150000.000000</td>\n",
       "      <td>12.000000</td>\n",
       "      <td>0.0</td>\n",
       "      <td>99998.000000</td>\n",
       "    </tr>\n",
       "  </tbody>\n",
       "</table>\n",
       "</div>"
      ],
      "text/plain": [
       "               Price  RegistrationYear          Power      Kilometer  \\\n",
       "count  354369.000000     354369.000000  354369.000000  354369.000000   \n",
       "mean     4416.656776       2004.234448     110.094337  128211.172535   \n",
       "std      4514.158514         90.227958     189.850405   37905.341530   \n",
       "min         0.000000       1000.000000       0.000000    5000.000000   \n",
       "25%      1050.000000       1999.000000      69.000000  125000.000000   \n",
       "50%      2700.000000       2003.000000     105.000000  150000.000000   \n",
       "75%      6400.000000       2008.000000     143.000000  150000.000000   \n",
       "max     20000.000000       9999.000000   20000.000000  150000.000000   \n",
       "\n",
       "       RegistrationMonth  NumberOfPictures     PostalCode  \n",
       "count      354369.000000          354369.0  354369.000000  \n",
       "mean            5.714645               0.0   50508.689087  \n",
       "std             3.726421               0.0   25783.096248  \n",
       "min             0.000000               0.0    1067.000000  \n",
       "25%             3.000000               0.0   30165.000000  \n",
       "50%             6.000000               0.0   49413.000000  \n",
       "75%             9.000000               0.0   71083.000000  \n",
       "max            12.000000               0.0   99998.000000  "
      ]
     },
     "execution_count": 109,
     "metadata": {},
     "output_type": "execute_result"
    }
   ],
   "source": [
    "data.describe()"
   ]
  },
  {
   "cell_type": "markdown",
   "metadata": {},
   "source": [
    "<b> Важные признаки: </b> VehicleType, Gearbox, Power, Kilometer, FuelType, Brand, NotRepaired, RegistrationYear, Model.\n",
    "\n",
    "Признаки NumberOfPictures, PostalCode не несут полезной информации, их можно удалить.\n",
    "\n",
    "DateCrawled, LastSeen, NumberOfPictures могли быть полезными для прогнозирования скорости продажи, но для прогнозирования цены авто они не нужны.\n",
    "\n",
    "DateCreated может быть полезна для анализа с учетом инфляции.\n",
    "\n",
    "По многим важным параметрам есть пропуски и нулевые значеня необходимо будет восстановить их или удалить.\n",
    "Есть неадекватные значения параметров необходимо будет восстановить их или удалить\n",
    "Найдено небольшое количество дубликатов необходимо их удалить"
   ]
  },
  {
   "cell_type": "markdown",
   "metadata": {},
   "source": [
    "<b> Предобработка данных </b>\n",
    "\n",
    "Обраотаем целевой признак price, пропусков данных нет, но есть цена равная нулю.  Восстановить по среднему было бы некоректно, так как признак целевой и это напрямую повлияет на прогноз."
   ]
  },
  {
   "cell_type": "code",
   "execution_count": 110,
   "metadata": {},
   "outputs": [
    {
     "name": "stdout",
     "output_type": "stream",
     "text": [
      "Колличество объявлений с нулевой ценой: 10772\n"
     ]
    }
   ],
   "source": [
    "print(\"Колличество объявлений с нулевой ценой:\",len(data.loc[data['Price'] == 0]))"
   ]
  },
  {
   "cell_type": "code",
   "execution_count": 111,
   "metadata": {},
   "outputs": [],
   "source": [
    "data = data.loc[data['Price'] != 0]"
   ]
  },
  {
   "cell_type": "markdown",
   "metadata": {},
   "source": [
    "Имеются пропуски в Model к сожалению их нельзя восстановит по Brand придется удалить"
   ]
  },
  {
   "cell_type": "code",
   "execution_count": 112,
   "metadata": {},
   "outputs": [
    {
     "name": "stdout",
     "output_type": "stream",
     "text": [
      "Колличество объявлений с пропущенной моделью: 17521\n"
     ]
    }
   ],
   "source": [
    "print(\"Колличество объявлений с пропущенной моделью:\", len(data.loc[data['Model'].isna()]))"
   ]
  },
  {
   "cell_type": "code",
   "execution_count": 113,
   "metadata": {},
   "outputs": [],
   "source": [
    "data = data.loc[~data['Model'].isna()]"
   ]
  },
  {
   "cell_type": "markdown",
   "metadata": {},
   "source": [
    "Колличество пропусков в VehicleType около 10 процентов, данных слишком много, чтобы просто от них избавится, если заменить на среднюю это тоже может сказаться на точности предсказания. Если брать в расчет, что в дальнейшем пользователи при оценке автомобиля могут так же не вводить тип кузова, то стоит заменить пропущенные значения на unknown"
   ]
  },
  {
   "cell_type": "code",
   "execution_count": 114,
   "metadata": {},
   "outputs": [
    {
     "name": "stdout",
     "output_type": "stream",
     "text": [
      "Колличество объявлений с незаполненным типом кузова: 28166\n"
     ]
    }
   ],
   "source": [
    "print(\"Колличество объявлений с незаполненным типом кузова:\", len(data.loc[data['VehicleType'].isna()]))"
   ]
  },
  {
   "cell_type": "code",
   "execution_count": 115,
   "metadata": {},
   "outputs": [],
   "source": [
    "data['VehicleType'] = data['VehicleType'].fillna('unknown')"
   ]
  },
  {
   "cell_type": "markdown",
   "metadata": {},
   "source": [
    "Количество явных некорректных данных RegistrationYear незначительно, можно их удалить"
   ]
  },
  {
   "cell_type": "code",
   "execution_count": 116,
   "metadata": {},
   "outputs": [
    {
     "name": "stdout",
     "output_type": "stream",
     "text": [
      "Колличество объявлений с некорректной годом: 83\n"
     ]
    }
   ],
   "source": [
    "print(\"Колличество объявлений с некорректной годом:\",len(data.loc[(data['RegistrationYear'] > 2022) | (data['RegistrationYear'] < 1769)]))"
   ]
  },
  {
   "cell_type": "code",
   "execution_count": 164,
   "metadata": {},
   "outputs": [],
   "source": [
    "data = data.loc[(data['RegistrationYear'] <= 2016) & (data['RegistrationYear'] >= 1900)]"
   ]
  },
  {
   "cell_type": "code",
   "execution_count": 118,
   "metadata": {},
   "outputs": [
    {
     "name": "stdout",
     "output_type": "stream",
     "text": [
      "Максимальная дата создания объявления: 2016-04-07 00:00:00\n"
     ]
    }
   ],
   "source": [
    "print(\"Максимальная дата создания объявления:\", max(data['DateCreated']))"
   ]
  },
  {
   "cell_type": "markdown",
   "metadata": {},
   "source": [
    "Колличество пропусков в Gearbox тоже велико. Заменю на наиболее встречающийся тип коробки в модели."
   ]
  },
  {
   "cell_type": "code",
   "execution_count": 119,
   "metadata": {},
   "outputs": [
    {
     "name": "stdout",
     "output_type": "stream",
     "text": [
      "Колличество объявлений с незаполненным типом коробки: 14205\n"
     ]
    }
   ],
   "source": [
    "print(\"Колличество объявлений с незаполненным типом коробки:\", len(data.loc[data['Gearbox'].isna()]))"
   ]
  },
  {
   "cell_type": "code",
   "execution_count": 120,
   "metadata": {},
   "outputs": [],
   "source": [
    "data['Gearbox'] = data['Gearbox'].fillna(data\n",
    "                                         .groupby('Model')['Gearbox']\n",
    "                                         .transform(lambda x: x.value_counts().idxmax())\n",
    "                                        )"
   ]
  },
  {
   "cell_type": "markdown",
   "metadata": {},
   "source": [
    "Имеются значения Power равные 0 и больше 1000 что являеться некорректным, можно заменить их на медиану по модели"
   ]
  },
  {
   "cell_type": "code",
   "execution_count": 121,
   "metadata": {},
   "outputs": [
    {
     "name": "stdout",
     "output_type": "stream",
     "text": [
      "Колличество объявлений с некорректной мощностью: 31519\n"
     ]
    }
   ],
   "source": [
    "print(\"Колличество объявлений с некорректной мощностью:\",len(data.loc[(data['Power'] > 1000) | (data['Power'] <= 0)]))"
   ]
  },
  {
   "cell_type": "code",
   "execution_count": 19,
   "metadata": {},
   "outputs": [],
   "source": [
    "data.loc[(data['Power'] > 1000) | (data['Power'] <= 0), 'Power'] = None\n",
    "data['Power'] = data['Power'].fillna(data.groupby('Model')['Power'].transform('median'))\n",
    "data = data.loc[~data['Power'].isna()]\n",
    "data['Power'] = data['Power'].astype('int64')"
   ]
  },
  {
   "cell_type": "markdown",
   "metadata": {},
   "source": [
    "Пропуски в FuelType заменю на среднее по моделям"
   ]
  },
  {
   "cell_type": "code",
   "execution_count": 122,
   "metadata": {},
   "outputs": [],
   "source": [
    "data['FuelType'] = data['FuelType'].fillna(data.groupby('Model')['FuelType'].transform(lambda x: x.value_counts().idxmax()))"
   ]
  },
  {
   "cell_type": "markdown",
   "metadata": {},
   "source": [
    "Пропуски в NotRepaired состоявляют треть от данных. Скорее всего если автомобиль не был поврежден то этот параметр просто не заполнялся. Заменю на \"yes\""
   ]
  },
  {
   "cell_type": "code",
   "execution_count": 123,
   "metadata": {},
   "outputs": [],
   "source": [
    "data[\"NotRepaired\"].fillna(\"yes\", inplace=True)"
   ]
  },
  {
   "cell_type": "markdown",
   "metadata": {},
   "source": [
    "Признак DateCreated преобразуем в количество дней с момента 2014-03-01."
   ]
  },
  {
   "cell_type": "code",
   "execution_count": 124,
   "metadata": {},
   "outputs": [
    {
     "name": "stdout",
     "output_type": "stream",
     "text": [
      "Минимальная дата создания объявления: 2014-03-10 00:00:00\n"
     ]
    }
   ],
   "source": [
    "print(\"Минимальная дата создания объявления:\", min(data['DateCreated']))"
   ]
  },
  {
   "cell_type": "code",
   "execution_count": 125,
   "metadata": {},
   "outputs": [],
   "source": [
    "base_date = pd.Timestamp(min(data['DateCreated']))\n",
    "data['DateCreated'] = data['DateCreated'].map(lambda date : (pd.Timestamp(date) - base_date).days)"
   ]
  },
  {
   "cell_type": "markdown",
   "metadata": {},
   "source": [
    "Удалим дубликаты"
   ]
  },
  {
   "cell_type": "code",
   "execution_count": 126,
   "metadata": {},
   "outputs": [],
   "source": [
    "data = data.drop_duplicates()"
   ]
  },
  {
   "cell_type": "markdown",
   "metadata": {},
   "source": [
    "Удалю ненужные признаки NumberOfPictures, PostalCode, DateCrawled, LastSeen"
   ]
  },
  {
   "cell_type": "code",
   "execution_count": 127,
   "metadata": {},
   "outputs": [],
   "source": [
    "data = data.drop(['NumberOfPictures', 'PostalCode', 'DateCrawled', 'LastSeen'], axis=1)"
   ]
  },
  {
   "cell_type": "code",
   "execution_count": 128,
   "metadata": {},
   "outputs": [],
   "source": [
    "data = data.reset_index(drop=True)"
   ]
  },
  {
   "cell_type": "code",
   "execution_count": 129,
   "metadata": {},
   "outputs": [
    {
     "name": "stdout",
     "output_type": "stream",
     "text": [
      "<class 'pandas.core.frame.DataFrame'>\n",
      "RangeIndex: 325986 entries, 0 to 325985\n",
      "Data columns (total 12 columns):\n",
      " #   Column             Non-Null Count   Dtype \n",
      "---  ------             --------------   ----- \n",
      " 0   Price              325986 non-null  int64 \n",
      " 1   VehicleType        325986 non-null  object\n",
      " 2   RegistrationYear   325986 non-null  int64 \n",
      " 3   Gearbox            325986 non-null  object\n",
      " 4   Power              325986 non-null  int64 \n",
      " 5   Model              325986 non-null  object\n",
      " 6   Kilometer          325986 non-null  int64 \n",
      " 7   RegistrationMonth  325986 non-null  int64 \n",
      " 8   FuelType           325986 non-null  object\n",
      " 9   Brand              325986 non-null  object\n",
      " 10  NotRepaired        325986 non-null  object\n",
      " 11  DateCreated        325986 non-null  int64 \n",
      "dtypes: int64(6), object(6)\n",
      "memory usage: 29.8+ MB\n"
     ]
    }
   ],
   "source": [
    "data.info()"
   ]
  },
  {
   "cell_type": "code",
   "execution_count": 130,
   "metadata": {},
   "outputs": [
    {
     "data": {
      "text/html": [
       "<div>\n",
       "<style scoped>\n",
       "    .dataframe tbody tr th:only-of-type {\n",
       "        vertical-align: middle;\n",
       "    }\n",
       "\n",
       "    .dataframe tbody tr th {\n",
       "        vertical-align: top;\n",
       "    }\n",
       "\n",
       "    .dataframe thead th {\n",
       "        text-align: right;\n",
       "    }\n",
       "</style>\n",
       "<table border=\"1\" class=\"dataframe\">\n",
       "  <thead>\n",
       "    <tr style=\"text-align: right;\">\n",
       "      <th></th>\n",
       "      <th>Price</th>\n",
       "      <th>RegistrationYear</th>\n",
       "      <th>Power</th>\n",
       "      <th>Kilometer</th>\n",
       "      <th>RegistrationMonth</th>\n",
       "      <th>DateCreated</th>\n",
       "    </tr>\n",
       "  </thead>\n",
       "  <tbody>\n",
       "    <tr>\n",
       "      <th>count</th>\n",
       "      <td>325986.000000</td>\n",
       "      <td>325986.000000</td>\n",
       "      <td>325986.000000</td>\n",
       "      <td>325986.000000</td>\n",
       "      <td>325986.000000</td>\n",
       "      <td>325986.000000</td>\n",
       "    </tr>\n",
       "    <tr>\n",
       "      <th>mean</th>\n",
       "      <td>4623.371991</td>\n",
       "      <td>2003.268070</td>\n",
       "      <td>111.963824</td>\n",
       "      <td>128596.764892</td>\n",
       "      <td>5.853948</td>\n",
       "      <td>741.798126</td>\n",
       "    </tr>\n",
       "    <tr>\n",
       "      <th>std</th>\n",
       "      <td>4530.481176</td>\n",
       "      <td>7.061917</td>\n",
       "      <td>182.665855</td>\n",
       "      <td>36964.094306</td>\n",
       "      <td>3.665998</td>\n",
       "      <td>9.399254</td>\n",
       "    </tr>\n",
       "    <tr>\n",
       "      <th>min</th>\n",
       "      <td>1.000000</td>\n",
       "      <td>1910.000000</td>\n",
       "      <td>0.000000</td>\n",
       "      <td>5000.000000</td>\n",
       "      <td>0.000000</td>\n",
       "      <td>0.000000</td>\n",
       "    </tr>\n",
       "    <tr>\n",
       "      <th>25%</th>\n",
       "      <td>1200.000000</td>\n",
       "      <td>1999.000000</td>\n",
       "      <td>71.000000</td>\n",
       "      <td>125000.000000</td>\n",
       "      <td>3.000000</td>\n",
       "      <td>734.000000</td>\n",
       "    </tr>\n",
       "    <tr>\n",
       "      <th>50%</th>\n",
       "      <td>2950.000000</td>\n",
       "      <td>2003.000000</td>\n",
       "      <td>105.000000</td>\n",
       "      <td>150000.000000</td>\n",
       "      <td>6.000000</td>\n",
       "      <td>742.000000</td>\n",
       "    </tr>\n",
       "    <tr>\n",
       "      <th>75%</th>\n",
       "      <td>6649.750000</td>\n",
       "      <td>2008.000000</td>\n",
       "      <td>143.000000</td>\n",
       "      <td>150000.000000</td>\n",
       "      <td>9.000000</td>\n",
       "      <td>750.000000</td>\n",
       "    </tr>\n",
       "    <tr>\n",
       "      <th>max</th>\n",
       "      <td>20000.000000</td>\n",
       "      <td>2019.000000</td>\n",
       "      <td>20000.000000</td>\n",
       "      <td>150000.000000</td>\n",
       "      <td>12.000000</td>\n",
       "      <td>759.000000</td>\n",
       "    </tr>\n",
       "  </tbody>\n",
       "</table>\n",
       "</div>"
      ],
      "text/plain": [
       "               Price  RegistrationYear          Power      Kilometer  \\\n",
       "count  325986.000000     325986.000000  325986.000000  325986.000000   \n",
       "mean     4623.371991       2003.268070     111.963824  128596.764892   \n",
       "std      4530.481176          7.061917     182.665855   36964.094306   \n",
       "min         1.000000       1910.000000       0.000000    5000.000000   \n",
       "25%      1200.000000       1999.000000      71.000000  125000.000000   \n",
       "50%      2950.000000       2003.000000     105.000000  150000.000000   \n",
       "75%      6649.750000       2008.000000     143.000000  150000.000000   \n",
       "max     20000.000000       2019.000000   20000.000000  150000.000000   \n",
       "\n",
       "       RegistrationMonth    DateCreated  \n",
       "count      325986.000000  325986.000000  \n",
       "mean            5.853948     741.798126  \n",
       "std             3.665998       9.399254  \n",
       "min             0.000000       0.000000  \n",
       "25%             3.000000     734.000000  \n",
       "50%             6.000000     742.000000  \n",
       "75%             9.000000     750.000000  \n",
       "max            12.000000     759.000000  "
      ]
     },
     "execution_count": 130,
     "metadata": {},
     "output_type": "execute_result"
    }
   ],
   "source": [
    "data.describe()"
   ]
  },
  {
   "cell_type": "markdown",
   "metadata": {},
   "source": [
    "<b> Кодирование категориальных признаков </b>\n",
    "\n",
    "Преобразую категориальные признаки с большим колличеством категорий техникой Ordinal Encoding."
   ]
  },
  {
   "cell_type": "code",
   "execution_count": 131,
   "metadata": {},
   "outputs": [],
   "source": [
    "data_reg = data"
   ]
  },
  {
   "cell_type": "code",
   "execution_count": 132,
   "metadata": {},
   "outputs": [],
   "source": [
    "encoder = OrdinalEncoder()\n",
    "encoder.fit(data) \n",
    "data_ordinal = pd.DataFrame(encoder.transform(data), columns=data.columns)\n",
    "\n",
    "data_ordinal.reset_index()\n",
    "data.loc[:,['Brand', 'Model']] = data_ordinal.loc[:,['Brand', 'Model']]\n",
    "data['Brand'] = data['Brand'].astype(int)\n",
    "data['Model'] = data['Model'].astype(int)"
   ]
  },
  {
   "cell_type": "markdown",
   "metadata": {},
   "source": [
    "Признаки VehicleType, Gearbox, FuelType, NotRepaired закодируем one-hot encoding."
   ]
  },
  {
   "cell_type": "code",
   "execution_count": 133,
   "metadata": {},
   "outputs": [],
   "source": [
    "def dum(data, column):\n",
    "    df = pd.get_dummies(data[column], prefix=column, drop_first=True)\n",
    "    data = data.drop(column, axis=1)\n",
    "    return data.join(df)"
   ]
  },
  {
   "cell_type": "code",
   "execution_count": 134,
   "metadata": {},
   "outputs": [],
   "source": [
    "data = dum(data, 'VehicleType')\n",
    "data = dum(data, 'Gearbox')\n",
    "data = dum(data, 'FuelType')\n",
    "data = dum(data, 'NotRepaired')"
   ]
  },
  {
   "cell_type": "markdown",
   "metadata": {},
   "source": [
    "<b> Разобьем данные на тестовую и валидационную выборки, и на признаки и целевой признак </b>"
   ]
  },
  {
   "cell_type": "code",
   "execution_count": 135,
   "metadata": {},
   "outputs": [],
   "source": [
    "target = data['Price']\n",
    "features = data.drop('Price', axis=1)\n",
    "features_train, features_part, target_train, target_part = train_test_split(features, target, test_size=0.30, random_state=12345)\n",
    "features_valid, features_test, target_valid, target_test = train_test_split(features_part, target_part, test_size=0.5, random_state=12345)"
   ]
  },
  {
   "cell_type": "code",
   "execution_count": 136,
   "metadata": {
    "scrolled": true
   },
   "outputs": [
    {
     "name": "stdout",
     "output_type": "stream",
     "text": [
      "(228190, 23) (48898, 23) (48898, 23) (228190,) (48898,) (48898,)\n"
     ]
    }
   ],
   "source": [
    "print(features_train.shape, features_valid.shape, features_test.shape, target_train.shape,  target_valid.shape, target_test.shape)"
   ]
  },
  {
   "cell_type": "code",
   "execution_count": 137,
   "metadata": {},
   "outputs": [
    {
     "data": {
      "text/html": [
       "<div>\n",
       "<style scoped>\n",
       "    .dataframe tbody tr th:only-of-type {\n",
       "        vertical-align: middle;\n",
       "    }\n",
       "\n",
       "    .dataframe tbody tr th {\n",
       "        vertical-align: top;\n",
       "    }\n",
       "\n",
       "    .dataframe thead th {\n",
       "        text-align: right;\n",
       "    }\n",
       "</style>\n",
       "<table border=\"1\" class=\"dataframe\">\n",
       "  <thead>\n",
       "    <tr style=\"text-align: right;\">\n",
       "      <th></th>\n",
       "      <th>RegistrationYear</th>\n",
       "      <th>Power</th>\n",
       "      <th>Model</th>\n",
       "      <th>Kilometer</th>\n",
       "      <th>RegistrationMonth</th>\n",
       "      <th>Brand</th>\n",
       "      <th>DateCreated</th>\n",
       "      <th>VehicleType_convertible</th>\n",
       "      <th>VehicleType_coupe</th>\n",
       "      <th>VehicleType_other</th>\n",
       "      <th>...</th>\n",
       "      <th>VehicleType_unknown</th>\n",
       "      <th>VehicleType_wagon</th>\n",
       "      <th>Gearbox_manual</th>\n",
       "      <th>FuelType_electric</th>\n",
       "      <th>FuelType_gasoline</th>\n",
       "      <th>FuelType_hybrid</th>\n",
       "      <th>FuelType_lpg</th>\n",
       "      <th>FuelType_other</th>\n",
       "      <th>FuelType_petrol</th>\n",
       "      <th>NotRepaired_yes</th>\n",
       "    </tr>\n",
       "  </thead>\n",
       "  <tbody>\n",
       "    <tr>\n",
       "      <th>220395</th>\n",
       "      <td>2004</td>\n",
       "      <td>88</td>\n",
       "      <td>151</td>\n",
       "      <td>125000</td>\n",
       "      <td>6</td>\n",
       "      <td>23</td>\n",
       "      <td>747</td>\n",
       "      <td>0</td>\n",
       "      <td>0</td>\n",
       "      <td>0</td>\n",
       "      <td>...</td>\n",
       "      <td>0</td>\n",
       "      <td>0</td>\n",
       "      <td>1</td>\n",
       "      <td>0</td>\n",
       "      <td>0</td>\n",
       "      <td>0</td>\n",
       "      <td>0</td>\n",
       "      <td>0</td>\n",
       "      <td>1</td>\n",
       "      <td>0</td>\n",
       "    </tr>\n",
       "    <tr>\n",
       "      <th>98218</th>\n",
       "      <td>2004</td>\n",
       "      <td>90</td>\n",
       "      <td>163</td>\n",
       "      <td>150000</td>\n",
       "      <td>6</td>\n",
       "      <td>31</td>\n",
       "      <td>740</td>\n",
       "      <td>0</td>\n",
       "      <td>0</td>\n",
       "      <td>0</td>\n",
       "      <td>...</td>\n",
       "      <td>0</td>\n",
       "      <td>1</td>\n",
       "      <td>1</td>\n",
       "      <td>0</td>\n",
       "      <td>1</td>\n",
       "      <td>0</td>\n",
       "      <td>0</td>\n",
       "      <td>0</td>\n",
       "      <td>0</td>\n",
       "      <td>0</td>\n",
       "    </tr>\n",
       "    <tr>\n",
       "      <th>222077</th>\n",
       "      <td>2010</td>\n",
       "      <td>105</td>\n",
       "      <td>62</td>\n",
       "      <td>90000</td>\n",
       "      <td>6</td>\n",
       "      <td>37</td>\n",
       "      <td>751</td>\n",
       "      <td>0</td>\n",
       "      <td>0</td>\n",
       "      <td>0</td>\n",
       "      <td>...</td>\n",
       "      <td>0</td>\n",
       "      <td>1</td>\n",
       "      <td>0</td>\n",
       "      <td>0</td>\n",
       "      <td>1</td>\n",
       "      <td>0</td>\n",
       "      <td>0</td>\n",
       "      <td>0</td>\n",
       "      <td>0</td>\n",
       "      <td>0</td>\n",
       "    </tr>\n",
       "    <tr>\n",
       "      <th>4727</th>\n",
       "      <td>2003</td>\n",
       "      <td>0</td>\n",
       "      <td>83</td>\n",
       "      <td>150000</td>\n",
       "      <td>0</td>\n",
       "      <td>24</td>\n",
       "      <td>753</td>\n",
       "      <td>0</td>\n",
       "      <td>0</td>\n",
       "      <td>0</td>\n",
       "      <td>...</td>\n",
       "      <td>0</td>\n",
       "      <td>0</td>\n",
       "      <td>1</td>\n",
       "      <td>0</td>\n",
       "      <td>0</td>\n",
       "      <td>0</td>\n",
       "      <td>0</td>\n",
       "      <td>0</td>\n",
       "      <td>1</td>\n",
       "      <td>1</td>\n",
       "    </tr>\n",
       "    <tr>\n",
       "      <th>252181</th>\n",
       "      <td>2005</td>\n",
       "      <td>88</td>\n",
       "      <td>57</td>\n",
       "      <td>150000</td>\n",
       "      <td>6</td>\n",
       "      <td>5</td>\n",
       "      <td>751</td>\n",
       "      <td>0</td>\n",
       "      <td>1</td>\n",
       "      <td>0</td>\n",
       "      <td>...</td>\n",
       "      <td>0</td>\n",
       "      <td>0</td>\n",
       "      <td>1</td>\n",
       "      <td>0</td>\n",
       "      <td>0</td>\n",
       "      <td>0</td>\n",
       "      <td>0</td>\n",
       "      <td>0</td>\n",
       "      <td>1</td>\n",
       "      <td>0</td>\n",
       "    </tr>\n",
       "    <tr>\n",
       "      <th>...</th>\n",
       "      <td>...</td>\n",
       "      <td>...</td>\n",
       "      <td>...</td>\n",
       "      <td>...</td>\n",
       "      <td>...</td>\n",
       "      <td>...</td>\n",
       "      <td>...</td>\n",
       "      <td>...</td>\n",
       "      <td>...</td>\n",
       "      <td>...</td>\n",
       "      <td>...</td>\n",
       "      <td>...</td>\n",
       "      <td>...</td>\n",
       "      <td>...</td>\n",
       "      <td>...</td>\n",
       "      <td>...</td>\n",
       "      <td>...</td>\n",
       "      <td>...</td>\n",
       "      <td>...</td>\n",
       "      <td>...</td>\n",
       "      <td>...</td>\n",
       "    </tr>\n",
       "    <tr>\n",
       "      <th>158838</th>\n",
       "      <td>2005</td>\n",
       "      <td>224</td>\n",
       "      <td>31</td>\n",
       "      <td>150000</td>\n",
       "      <td>4</td>\n",
       "      <td>1</td>\n",
       "      <td>742</td>\n",
       "      <td>0</td>\n",
       "      <td>0</td>\n",
       "      <td>0</td>\n",
       "      <td>...</td>\n",
       "      <td>0</td>\n",
       "      <td>1</td>\n",
       "      <td>0</td>\n",
       "      <td>0</td>\n",
       "      <td>1</td>\n",
       "      <td>0</td>\n",
       "      <td>0</td>\n",
       "      <td>0</td>\n",
       "      <td>0</td>\n",
       "      <td>0</td>\n",
       "    </tr>\n",
       "    <tr>\n",
       "      <th>47873</th>\n",
       "      <td>1997</td>\n",
       "      <td>320</td>\n",
       "      <td>207</td>\n",
       "      <td>150000</td>\n",
       "      <td>8</td>\n",
       "      <td>20</td>\n",
       "      <td>730</td>\n",
       "      <td>1</td>\n",
       "      <td>0</td>\n",
       "      <td>0</td>\n",
       "      <td>...</td>\n",
       "      <td>0</td>\n",
       "      <td>0</td>\n",
       "      <td>0</td>\n",
       "      <td>0</td>\n",
       "      <td>0</td>\n",
       "      <td>0</td>\n",
       "      <td>0</td>\n",
       "      <td>0</td>\n",
       "      <td>1</td>\n",
       "      <td>0</td>\n",
       "    </tr>\n",
       "    <tr>\n",
       "      <th>86398</th>\n",
       "      <td>2003</td>\n",
       "      <td>142</td>\n",
       "      <td>11</td>\n",
       "      <td>150000</td>\n",
       "      <td>6</td>\n",
       "      <td>2</td>\n",
       "      <td>749</td>\n",
       "      <td>0</td>\n",
       "      <td>0</td>\n",
       "      <td>0</td>\n",
       "      <td>...</td>\n",
       "      <td>0</td>\n",
       "      <td>0</td>\n",
       "      <td>1</td>\n",
       "      <td>0</td>\n",
       "      <td>0</td>\n",
       "      <td>0</td>\n",
       "      <td>0</td>\n",
       "      <td>0</td>\n",
       "      <td>1</td>\n",
       "      <td>1</td>\n",
       "    </tr>\n",
       "    <tr>\n",
       "      <th>77285</th>\n",
       "      <td>1994</td>\n",
       "      <td>0</td>\n",
       "      <td>59</td>\n",
       "      <td>5000</td>\n",
       "      <td>10</td>\n",
       "      <td>20</td>\n",
       "      <td>737</td>\n",
       "      <td>0</td>\n",
       "      <td>0</td>\n",
       "      <td>0</td>\n",
       "      <td>...</td>\n",
       "      <td>0</td>\n",
       "      <td>0</td>\n",
       "      <td>1</td>\n",
       "      <td>0</td>\n",
       "      <td>0</td>\n",
       "      <td>0</td>\n",
       "      <td>0</td>\n",
       "      <td>0</td>\n",
       "      <td>1</td>\n",
       "      <td>0</td>\n",
       "    </tr>\n",
       "    <tr>\n",
       "      <th>217570</th>\n",
       "      <td>1996</td>\n",
       "      <td>0</td>\n",
       "      <td>216</td>\n",
       "      <td>150000</td>\n",
       "      <td>11</td>\n",
       "      <td>34</td>\n",
       "      <td>748</td>\n",
       "      <td>0</td>\n",
       "      <td>0</td>\n",
       "      <td>0</td>\n",
       "      <td>...</td>\n",
       "      <td>0</td>\n",
       "      <td>0</td>\n",
       "      <td>1</td>\n",
       "      <td>0</td>\n",
       "      <td>0</td>\n",
       "      <td>0</td>\n",
       "      <td>0</td>\n",
       "      <td>0</td>\n",
       "      <td>1</td>\n",
       "      <td>0</td>\n",
       "    </tr>\n",
       "  </tbody>\n",
       "</table>\n",
       "<p>228190 rows × 23 columns</p>\n",
       "</div>"
      ],
      "text/plain": [
       "        RegistrationYear  Power  Model  Kilometer  RegistrationMonth  Brand  \\\n",
       "220395              2004     88    151     125000                  6     23   \n",
       "98218               2004     90    163     150000                  6     31   \n",
       "222077              2010    105     62      90000                  6     37   \n",
       "4727                2003      0     83     150000                  0     24   \n",
       "252181              2005     88     57     150000                  6      5   \n",
       "...                  ...    ...    ...        ...                ...    ...   \n",
       "158838              2005    224     31     150000                  4      1   \n",
       "47873               1997    320    207     150000                  8     20   \n",
       "86398               2003    142     11     150000                  6      2   \n",
       "77285               1994      0     59       5000                 10     20   \n",
       "217570              1996      0    216     150000                 11     34   \n",
       "\n",
       "        DateCreated  VehicleType_convertible  VehicleType_coupe  \\\n",
       "220395          747                        0                  0   \n",
       "98218           740                        0                  0   \n",
       "222077          751                        0                  0   \n",
       "4727            753                        0                  0   \n",
       "252181          751                        0                  1   \n",
       "...             ...                      ...                ...   \n",
       "158838          742                        0                  0   \n",
       "47873           730                        1                  0   \n",
       "86398           749                        0                  0   \n",
       "77285           737                        0                  0   \n",
       "217570          748                        0                  0   \n",
       "\n",
       "        VehicleType_other  ...  VehicleType_unknown  VehicleType_wagon  \\\n",
       "220395                  0  ...                    0                  0   \n",
       "98218                   0  ...                    0                  1   \n",
       "222077                  0  ...                    0                  1   \n",
       "4727                    0  ...                    0                  0   \n",
       "252181                  0  ...                    0                  0   \n",
       "...                   ...  ...                  ...                ...   \n",
       "158838                  0  ...                    0                  1   \n",
       "47873                   0  ...                    0                  0   \n",
       "86398                   0  ...                    0                  0   \n",
       "77285                   0  ...                    0                  0   \n",
       "217570                  0  ...                    0                  0   \n",
       "\n",
       "        Gearbox_manual  FuelType_electric  FuelType_gasoline  FuelType_hybrid  \\\n",
       "220395               1                  0                  0                0   \n",
       "98218                1                  0                  1                0   \n",
       "222077               0                  0                  1                0   \n",
       "4727                 1                  0                  0                0   \n",
       "252181               1                  0                  0                0   \n",
       "...                ...                ...                ...              ...   \n",
       "158838               0                  0                  1                0   \n",
       "47873                0                  0                  0                0   \n",
       "86398                1                  0                  0                0   \n",
       "77285                1                  0                  0                0   \n",
       "217570               1                  0                  0                0   \n",
       "\n",
       "        FuelType_lpg  FuelType_other  FuelType_petrol  NotRepaired_yes  \n",
       "220395             0               0                1                0  \n",
       "98218              0               0                0                0  \n",
       "222077             0               0                0                0  \n",
       "4727               0               0                1                1  \n",
       "252181             0               0                1                0  \n",
       "...              ...             ...              ...              ...  \n",
       "158838             0               0                0                0  \n",
       "47873              0               0                1                0  \n",
       "86398              0               0                1                1  \n",
       "77285              0               0                1                0  \n",
       "217570             0               0                1                0  \n",
       "\n",
       "[228190 rows x 23 columns]"
      ]
     },
     "execution_count": 137,
     "metadata": {},
     "output_type": "execute_result"
    }
   ],
   "source": [
    "features_train"
   ]
  },
  {
   "cell_type": "markdown",
   "metadata": {},
   "source": [
    "Стандартизирую численные признаки и преобразованные техникой Ordinal Encoding."
   ]
  },
  {
   "cell_type": "code",
   "execution_count": 138,
   "metadata": {},
   "outputs": [],
   "source": [
    "numeric = ['RegistrationYear', 'Power', 'Model', 'Kilometer', 'RegistrationMonth', 'Brand',  'DateCreated']"
   ]
  },
  {
   "cell_type": "code",
   "execution_count": 139,
   "metadata": {},
   "outputs": [
    {
     "name": "stdout",
     "output_type": "stream",
     "text": [
      "        RegistrationYear     Power     Model  Kilometer  RegistrationMonth  \\\n",
      "220395          0.101876 -0.130016  0.592702  -0.096124           0.039899   \n",
      "98218           0.101876 -0.119169  0.762448   0.580666           0.039899   \n",
      "222077          0.950364 -0.037818 -0.666246  -1.043631           0.039899   \n",
      "4727           -0.039538 -0.607276 -0.369191   0.580666          -1.596818   \n",
      "252181          0.243291 -0.130016 -0.736974   0.580666           0.039899   \n",
      "\n",
      "           Brand  DateCreated  VehicleType_convertible  VehicleType_coupe  \\\n",
      "220395  0.189371     0.550637                        0                  0   \n",
      "98218   0.805469    -0.190790                        0                  0   \n",
      "222077  1.267543     0.974310                        0                  0   \n",
      "4727    0.266383     1.186146                        0                  0   \n",
      "252181 -1.196850     0.974310                        0                  1   \n",
      "\n",
      "        VehicleType_other  ...  VehicleType_unknown  VehicleType_wagon  \\\n",
      "220395                  0  ...                    0                  0   \n",
      "98218                   0  ...                    0                  1   \n",
      "222077                  0  ...                    0                  1   \n",
      "4727                    0  ...                    0                  0   \n",
      "252181                  0  ...                    0                  0   \n",
      "\n",
      "        Gearbox_manual  FuelType_electric  FuelType_gasoline  FuelType_hybrid  \\\n",
      "220395               1                  0                  0                0   \n",
      "98218                1                  0                  1                0   \n",
      "222077               0                  0                  1                0   \n",
      "4727                 1                  0                  0                0   \n",
      "252181               1                  0                  0                0   \n",
      "\n",
      "        FuelType_lpg  FuelType_other  FuelType_petrol  NotRepaired_yes  \n",
      "220395             0               0                1                0  \n",
      "98218              0               0                0                0  \n",
      "222077             0               0                0                0  \n",
      "4727               0               0                1                1  \n",
      "252181             0               0                1                0  \n",
      "\n",
      "[5 rows x 23 columns]\n"
     ]
    }
   ],
   "source": [
    "scaler = StandardScaler()\n",
    "scaler.fit(features_train[numeric])\n",
    "features_train[numeric] = scaler.transform(features_train[numeric])\n",
    "features_test[numeric] = scaler.transform(features_test[numeric]) \n",
    "print(features_train.head())"
   ]
  },
  {
   "cell_type": "markdown",
   "metadata": {},
   "source": [
    "<b> Вывод </b>\n",
    "\n",
    "Дубликаты удалены. Отобраны признаки, необходимые для построения моделей.\n",
    "\n",
    "Пропущенные значения, выбросы, неправдоподобные значения в признаках заполнены на основе имеющейся инфрмации или удалены.\n",
    "\n",
    "Категориальные признаки преобразованы с помощью one-hot encoding.\n",
    "\n",
    "Признак с большим колличеством категорий закодирован техникой Ordinal Encoding.\n",
    "\n",
    "Данные разделены на тестовую и обучающую выборки и стандартизированны."
   ]
  },
  {
   "cell_type": "markdown",
   "metadata": {},
   "source": [
    "## Обучение моделей"
   ]
  },
  {
   "cell_type": "markdown",
   "metadata": {},
   "source": [
    "<b> Linear Regression </b>"
   ]
  },
  {
   "cell_type": "code",
   "execution_count": 140,
   "metadata": {},
   "outputs": [
    {
     "name": "stdout",
     "output_type": "stream",
     "text": [
      "CPU times: user 289 ms, sys: 124 ms, total: 413 ms\n",
      "Wall time: 398 ms\n"
     ]
    },
    {
     "data": {
      "text/plain": [
       "LinearRegression()"
      ]
     },
     "execution_count": 140,
     "metadata": {},
     "output_type": "execute_result"
    }
   ],
   "source": [
    "%%time\n",
    "lmodel = LinearRegression()\n",
    "lmodel.fit(features_train, target_train)"
   ]
  },
  {
   "cell_type": "code",
   "execution_count": 141,
   "metadata": {},
   "outputs": [
    {
     "name": "stdout",
     "output_type": "stream",
     "text": [
      "CPU times: user 8.96 ms, sys: 101 µs, total: 9.07 ms\n",
      "Wall time: 5.83 ms\n"
     ]
    }
   ],
   "source": [
    "%%time\n",
    "preds_lmodel = lmodel.predict(features_test)"
   ]
  },
  {
   "cell_type": "code",
   "execution_count": 142,
   "metadata": {},
   "outputs": [
    {
     "name": "stdout",
     "output_type": "stream",
     "text": [
      "RMSE для линейной модели на тестовой выборке: 3189.64\n"
     ]
    }
   ],
   "source": [
    "mse_lmodel = mean_squared_error(target_test, preds_lmodel)\n",
    "print(\"RMSE для линейной модели на тестовой выборке:\", round((mse_lmodel) ** 0.5, 2))"
   ]
  },
  {
   "cell_type": "markdown",
   "metadata": {},
   "source": [
    "<b> Регрессия Ridge </b>"
   ]
  },
  {
   "cell_type": "code",
   "execution_count": 143,
   "metadata": {},
   "outputs": [
    {
     "name": "stdout",
     "output_type": "stream",
     "text": [
      "{'solver': 'svd'}\n",
      "CPU times: user 7.29 s, sys: 6.39 s, total: 13.7 s\n",
      "Wall time: 13.7 s\n"
     ]
    }
   ],
   "source": [
    "%%time\n",
    "rmodel = Ridge()\n",
    "hyperparams = [{'solver':['auto', 'svd', 'cholesky', 'lsqr','sparse_cg']}]\n",
    "rmodel = GridSearchCV(rmodel, hyperparams, scoring='neg_mean_squared_error')\n",
    "rmodel.fit(features_train, target_train)\n",
    "print(rmodel.best_params_)"
   ]
  },
  {
   "cell_type": "code",
   "execution_count": 144,
   "metadata": {},
   "outputs": [
    {
     "name": "stdout",
     "output_type": "stream",
     "text": [
      "CPU times: user 24.2 ms, sys: 24.3 ms, total: 48.5 ms\n",
      "Wall time: 10 ms\n"
     ]
    }
   ],
   "source": [
    "%%time\n",
    "preds_rmodel = rmodel.predict(features_test)"
   ]
  },
  {
   "cell_type": "code",
   "execution_count": 43,
   "metadata": {},
   "outputs": [
    {
     "name": "stdout",
     "output_type": "stream",
     "text": [
      "RMSE для Ridge модели на тестовой выборке: 2888.98\n"
     ]
    }
   ],
   "source": [
    "mse_rmodel = mean_squared_error(target_test, preds_rmodel)\n",
    "print(\"RMSE для Ridge модели на тестовой выборке:\", round((mse_rmodel) ** 0.5, 2))"
   ]
  },
  {
   "cell_type": "markdown",
   "metadata": {},
   "source": [
    "<b> Регрессия DecisionTreeRegresso </b>"
   ]
  },
  {
   "cell_type": "code",
   "execution_count": 145,
   "metadata": {},
   "outputs": [
    {
     "name": "stdout",
     "output_type": "stream",
     "text": [
      "CPU times: user 621 ms, sys: 24.1 ms, total: 645 ms\n",
      "Wall time: 643 ms\n"
     ]
    },
    {
     "data": {
      "text/plain": [
       "DecisionTreeRegressor(max_depth=8, random_state=12345)"
      ]
     },
     "execution_count": 145,
     "metadata": {},
     "output_type": "execute_result"
    }
   ],
   "source": [
    "%%time\n",
    "trmodel = DecisionTreeRegressor(criterion='mse', \n",
    "                              max_depth=8, \n",
    "                              random_state=12345) \n",
    "trmodel.fit(features_train, target_train)"
   ]
  },
  {
   "cell_type": "code",
   "execution_count": 146,
   "metadata": {},
   "outputs": [
    {
     "name": "stdout",
     "output_type": "stream",
     "text": [
      "CPU times: user 9.28 ms, sys: 38 µs, total: 9.32 ms\n",
      "Wall time: 7.74 ms\n"
     ]
    }
   ],
   "source": [
    "%%time\n",
    "preds_trmodel = trmodel.predict(features_test)"
   ]
  },
  {
   "cell_type": "code",
   "execution_count": 147,
   "metadata": {},
   "outputs": [
    {
     "name": "stdout",
     "output_type": "stream",
     "text": [
      "RMSE для DecisionTreeRegresso модели на тестовой выборке: 2142.78\n"
     ]
    }
   ],
   "source": [
    "mse_trmodel = mean_squared_error(target_test, preds_trmodel)\n",
    "print(\"RMSE для DecisionTreeRegresso модели на тестовой выборке:\", round((mse_trmodel) ** 0.5, 2))"
   ]
  },
  {
   "cell_type": "markdown",
   "metadata": {},
   "source": [
    "<b> Регрессия CatBoostRegressor </b>"
   ]
  },
  {
   "cell_type": "code",
   "execution_count": 148,
   "metadata": {},
   "outputs": [],
   "source": [
    "numerical_features = ['DateCreated', 'Price', 'RegistrationYear', 'Power', 'Kilometer']"
   ]
  },
  {
   "cell_type": "code",
   "execution_count": 149,
   "metadata": {},
   "outputs": [],
   "source": [
    "categorical_features = [col for col in list(features_train.columns) if col not in numerical_features]"
   ]
  },
  {
   "cell_type": "markdown",
   "metadata": {},
   "source": [
    "В связи с тем, что CatBoostRegressor принимает только целые числа или строки в категориях, пришлость пересобрать признаки.\n",
    "\n",
    "Так же попробывал оставить категориальные признаки без one-hot encoding, качество немного выросло на CatBoost и LGBM, но время обработки многократно увеличилось!"
   ]
  },
  {
   "cell_type": "code",
   "execution_count": 150,
   "metadata": {},
   "outputs": [],
   "source": [
    "features_train, features_test, target_train, target_test = train_test_split(\n",
    "    features, target, test_size=0.25, random_state=12345)\n",
    "data_reg.loc[:,['VehicleType','Gearbox', 'Brand', 'FuelType', 'NotRepaired']] = data_ordinal.loc[:,['VehicleType','Gearbox', 'Brand', 'FuelType', 'NotRepaired']]\n",
    "catfeatures = data_reg.drop('Price', axis=1)\n",
    "cattarget = data_reg['Price']\n",
    "catfeatures_train, catfeatures_test, cattarget_train, cattarget_test = train_test_split(features, target, test_size=0.25, random_state=12345)"
   ]
  },
  {
   "cell_type": "code",
   "execution_count": 151,
   "metadata": {},
   "outputs": [],
   "source": [
    "numericcat = ['RegistrationYear', 'Power', 'Kilometer', 'DateCreated']\n",
    "scaler = StandardScaler()\n",
    "scaler.fit(catfeatures_train[numericcat])\n",
    "catfeatures_train[numericcat] = scaler.transform(catfeatures_train[numericcat])\n",
    "catfeatures_test[numericcat] = scaler.transform(catfeatures_test[numericcat]) "
   ]
  },
  {
   "cell_type": "code",
   "execution_count": 152,
   "metadata": {},
   "outputs": [
    {
     "name": "stdout",
     "output_type": "stream",
     "text": [
      "CPU times: user 2min 18s, sys: 707 ms, total: 2min 19s\n",
      "Wall time: 2min 20s\n"
     ]
    },
    {
     "data": {
      "text/plain": [
       "<catboost.core.CatBoostRegressor at 0x7f2c48998850>"
      ]
     },
     "execution_count": 152,
     "metadata": {},
     "output_type": "execute_result"
    }
   ],
   "source": [
    "%%time\n",
    "catmodel = CatBoostRegressor(learning_rate=0.5, random_state=12345, verbose=False) \n",
    "catmodel.fit(catfeatures_train, target_train, cat_features=categorical_features)"
   ]
  },
  {
   "cell_type": "code",
   "execution_count": 153,
   "metadata": {},
   "outputs": [
    {
     "name": "stdout",
     "output_type": "stream",
     "text": [
      "CPU times: user 951 ms, sys: 0 ns, total: 951 ms\n",
      "Wall time: 959 ms\n"
     ]
    }
   ],
   "source": [
    "%%time\n",
    "cat_predict = catmodel.predict(catfeatures_test)"
   ]
  },
  {
   "cell_type": "code",
   "execution_count": 154,
   "metadata": {},
   "outputs": [
    {
     "name": "stdout",
     "output_type": "stream",
     "text": [
      "RMSE для CatBoostRegressor модели на тестовой выборке: 1609.26\n"
     ]
    }
   ],
   "source": [
    "mse_catmodel = mean_squared_error(target_test, cat_predict)\n",
    "print(\"RMSE для CatBoostRegressor модели на тестовой выборке:\", round((mse_catmodel) ** 0.5, 2))"
   ]
  },
  {
   "cell_type": "markdown",
   "metadata": {},
   "source": [
    "<b>  Регрессия LGBMRegressor </b>"
   ]
  },
  {
   "cell_type": "code",
   "execution_count": 156,
   "metadata": {},
   "outputs": [
    {
     "name": "stdout",
     "output_type": "stream",
     "text": [
      "CPU times: user 12.6 s, sys: 66.5 ms, total: 12.7 s\n",
      "Wall time: 12.7 s\n"
     ]
    },
    {
     "data": {
      "text/plain": [
       "LGBMRegressor(cat_features=['Model', 'RegistrationMonth', 'Brand',\n",
       "                            'VehicleType_convertible', 'VehicleType_coupe',\n",
       "                            'VehicleType_other', 'VehicleType_sedan',\n",
       "                            'VehicleType_small', 'VehicleType_suv',\n",
       "                            'VehicleType_unknown', 'VehicleType_wagon',\n",
       "                            'Gearbox_manual', 'FuelType_electric',\n",
       "                            'FuelType_gasoline', 'FuelType_hybrid',\n",
       "                            'FuelType_lpg', 'FuelType_other', 'FuelType_petrol',\n",
       "                            'NotRepaired_yes'],\n",
       "              num_leaves=100, random_state=12345)"
      ]
     },
     "execution_count": 156,
     "metadata": {},
     "output_type": "execute_result"
    }
   ],
   "source": [
    "%%time\n",
    "lgbmmodel = LGBMRegressor(learning_rate=0.1, \n",
    "                      num_leaves=100, \n",
    "                      random_state=12345,\n",
    "                      cat_features=categorical_features)\n",
    "lgbmmodel.fit(features_train, target_train)"
   ]
  },
  {
   "cell_type": "code",
   "execution_count": 157,
   "metadata": {},
   "outputs": [
    {
     "name": "stdout",
     "output_type": "stream",
     "text": [
      "CPU times: user 789 ms, sys: 0 ns, total: 789 ms\n",
      "Wall time: 801 ms\n"
     ]
    }
   ],
   "source": [
    "%%time\n",
    "lgbm_predict = lgbmmodel.predict(features_test)"
   ]
  },
  {
   "cell_type": "code",
   "execution_count": 158,
   "metadata": {},
   "outputs": [
    {
     "name": "stdout",
     "output_type": "stream",
     "text": [
      "RMSE для LGBMRegressor модели на тестовой выборке: 1650.53\n"
     ]
    }
   ],
   "source": [
    "mse_lgbmmodel = mean_squared_error(target_test, lgbm_predict)\n",
    "print(\"RMSE для LGBMRegressor модели на тестовой выборке:\", round((mse_lgbmmodel) ** 0.5, 2))"
   ]
  },
  {
   "cell_type": "markdown",
   "metadata": {},
   "source": [
    "<b> Были проведены измерения: </b>\n",
    "\n",
    "- времени обучения;\n",
    "- времени предсказания моделей;\n",
    "- качества предсказания по метрике RMSE."
   ]
  },
  {
   "cell_type": "markdown",
   "metadata": {},
   "source": [
    "## Анализ моделей"
   ]
  },
  {
   "cell_type": "code",
   "execution_count": null,
   "metadata": {},
   "outputs": [],
   "source": [
    "df = [[\"435 ms\", \"32.2 ms\", 2892.27],\n",
    "        [\"16 s\", \"56.3 ms\", 2892.26],\n",
    "        [\"728 ms\", \"13.3 ms\", 2120.34],\n",
    "        [\"2 min 29 s\", \"966 ms\", 1625.21],\n",
    "        [\"15.6 s\", \"902 ms\", 1664.7]]\n",
    "model = [\"Linear Regression\", \"Ridge\", \"DecisionTreeRegresso\", \"CatBoostRegressor\", \"LGBMRegressor\"]"
   ]
  },
  {
   "cell_type": "code",
   "execution_count": null,
   "metadata": {},
   "outputs": [],
   "source": [
    "pd.DataFrame(data=df, index=model, columns=[\"fit_time\", \"predict_time\", \"RMSE\"])"
   ]
  },
  {
   "cell_type": "markdown",
   "metadata": {},
   "source": [
    "<b> Вывод: </b>\n",
    "    \n",
    "Наилучшее качество получилось на модели Catboost (RMSE 1625.21), время обучения было дольше остальных и составило 2 min 29 s.\n",
    "\n",
    "LGBMRegressor предсказала незначительно хуже (RMSE 1664.70), но обучилась заметно быстрее на данных гиперпараметрах 15.6 s."
   ]
  },
  {
   "cell_type": "markdown",
   "metadata": {},
   "source": [
    "<b> Проверка модели на тестовой выборке </b>"
   ]
  },
  {
   "cell_type": "markdown",
   "metadata": {},
   "source": [
    "Объединенил тренировочную и валидную выборки"
   ]
  },
  {
   "cell_type": "code",
   "execution_count": 172,
   "metadata": {},
   "outputs": [],
   "source": [
    "features_train=pd.concat([features_train, features_test])\n",
    "target_train=pd.concat([target_train, target_test])"
   ]
  },
  {
   "cell_type": "code",
   "execution_count": 173,
   "metadata": {},
   "outputs": [
    {
     "name": "stdout",
     "output_type": "stream",
     "text": [
      "CPU times: user 18.7 s, sys: 502 ms, total: 19.2 s\n",
      "Wall time: 19.3 s\n"
     ]
    },
    {
     "data": {
      "text/plain": [
       "LGBMRegressor(cat_features=['Model', 'RegistrationMonth', 'Brand',\n",
       "                            'VehicleType_convertible', 'VehicleType_coupe',\n",
       "                            'VehicleType_other', 'VehicleType_sedan',\n",
       "                            'VehicleType_small', 'VehicleType_suv',\n",
       "                            'VehicleType_unknown', 'VehicleType_wagon',\n",
       "                            'Gearbox_manual', 'FuelType_electric',\n",
       "                            'FuelType_gasoline', 'FuelType_hybrid',\n",
       "                            'FuelType_lpg', 'FuelType_other', 'FuelType_petrol',\n",
       "                            'NotRepaired_yes'],\n",
       "              num_leaves=100, random_state=12345)"
      ]
     },
     "execution_count": 173,
     "metadata": {},
     "output_type": "execute_result"
    }
   ],
   "source": [
    "%%time\n",
    "lgbmmodel = LGBMRegressor(learning_rate=0.1, \n",
    "                      num_leaves=100, \n",
    "                      random_state=12345,\n",
    "                      cat_features=categorical_features)\n",
    "lgbmmodel.fit(features_train, target_train)"
   ]
  },
  {
   "cell_type": "code",
   "execution_count": 174,
   "metadata": {},
   "outputs": [
    {
     "name": "stdout",
     "output_type": "stream",
     "text": [
      "CPU times: user 451 ms, sys: 0 ns, total: 451 ms\n",
      "Wall time: 332 ms\n"
     ]
    }
   ],
   "source": [
    "%%time\n",
    "lgbm_predict = lgbmmodel.predict(features_valid)"
   ]
  },
  {
   "cell_type": "code",
   "execution_count": 175,
   "metadata": {},
   "outputs": [
    {
     "name": "stdout",
     "output_type": "stream",
     "text": [
      "RMSE для LGBMRegressor модели на тестовой выборке: 1474.73\n"
     ]
    }
   ],
   "source": [
    "mse_lgbmmodel = mean_squared_error(target_valid, lgbm_predict)\n",
    "print(\"RMSE для LGBMRegressor модели на тестовой выборке:\", round((mse_lgbmmodel) ** 0.5, 2))"
   ]
  }
 ],
 "metadata": {
  "ExecuteTimeLog": [
   {
    "duration": 1573,
    "start_time": "2022-06-21T07:24:42.524Z"
   },
   {
    "duration": 1229,
    "start_time": "2022-06-21T07:26:01.803Z"
   },
   {
    "duration": 111,
    "start_time": "2022-06-21T07:26:35.223Z"
   },
   {
    "duration": 537,
    "start_time": "2022-06-21T07:29:40.646Z"
   },
   {
    "duration": 101,
    "start_time": "2022-06-21T07:30:10.825Z"
   },
   {
    "duration": 13,
    "start_time": "2022-06-21T07:33:19.554Z"
   },
   {
    "duration": 68,
    "start_time": "2022-06-21T07:33:46.597Z"
   },
   {
    "duration": 489,
    "start_time": "2022-06-21T07:35:52.151Z"
   },
   {
    "duration": 5,
    "start_time": "2022-06-21T07:36:13.109Z"
   },
   {
    "duration": 128,
    "start_time": "2022-06-21T07:36:51.189Z"
   },
   {
    "duration": 22,
    "start_time": "2022-06-21T07:38:34.106Z"
   },
   {
    "duration": 67,
    "start_time": "2022-06-21T07:39:02.118Z"
   },
   {
    "duration": 39,
    "start_time": "2022-06-21T07:40:24.741Z"
   },
   {
    "duration": 26,
    "start_time": "2022-06-21T07:41:11.405Z"
   },
   {
    "duration": 6,
    "start_time": "2022-06-21T07:42:30.072Z"
   },
   {
    "duration": 56,
    "start_time": "2022-06-21T07:42:54.270Z"
   },
   {
    "duration": 22,
    "start_time": "2022-06-21T07:44:02.553Z"
   },
   {
    "duration": 367,
    "start_time": "2022-06-21T07:44:21.871Z"
   },
   {
    "duration": 16,
    "start_time": "2022-06-21T07:45:10.550Z"
   },
   {
    "duration": 96,
    "start_time": "2022-06-21T07:45:37.084Z"
   },
   {
    "duration": 263,
    "start_time": "2022-06-21T07:46:45.428Z"
   },
   {
    "duration": 25,
    "start_time": "2022-06-21T07:47:41.183Z"
   },
   {
    "duration": 14,
    "start_time": "2022-06-21T07:47:59.380Z"
   },
   {
    "duration": 42,
    "start_time": "2022-06-21T07:49:24.388Z"
   },
   {
    "duration": 3332,
    "start_time": "2022-06-21T07:49:48.320Z"
   },
   {
    "duration": 379,
    "start_time": "2022-06-21T07:51:07.226Z"
   },
   {
    "duration": 23,
    "start_time": "2022-06-21T07:51:42.435Z"
   },
   {
    "duration": 34,
    "start_time": "2022-06-21T07:52:57.573Z"
   },
   {
    "duration": 89,
    "start_time": "2022-06-21T07:53:06.071Z"
   },
   {
    "duration": 76,
    "start_time": "2022-06-21T07:53:47.463Z"
   },
   {
    "duration": 60,
    "start_time": "2022-06-21T07:57:39.062Z"
   },
   {
    "duration": 2,
    "start_time": "2022-06-21T07:57:52.479Z"
   },
   {
    "duration": 712,
    "start_time": "2022-06-21T07:58:05.320Z"
   },
   {
    "duration": 56,
    "start_time": "2022-06-21T07:58:21.978Z"
   },
   {
    "duration": 3,
    "start_time": "2022-06-21T07:59:08.307Z"
   },
   {
    "duration": 251,
    "start_time": "2022-06-21T07:59:27.909Z"
   },
   {
    "duration": 52,
    "start_time": "2022-06-21T08:00:09.613Z"
   },
   {
    "duration": 58,
    "start_time": "2022-06-21T08:00:55.112Z"
   },
   {
    "duration": 45,
    "start_time": "2022-06-21T08:01:01.798Z"
   },
   {
    "duration": 4,
    "start_time": "2022-06-21T08:02:09.836Z"
   },
   {
    "duration": 397,
    "start_time": "2022-06-21T08:02:26.521Z"
   },
   {
    "duration": 91,
    "start_time": "2022-06-21T08:03:29.135Z"
   },
   {
    "duration": 487,
    "start_time": "2022-06-21T08:05:03.570Z"
   },
   {
    "duration": 26,
    "start_time": "2022-06-21T08:05:27.334Z"
   },
   {
    "duration": 5,
    "start_time": "2022-06-21T08:05:51.596Z"
   },
   {
    "duration": 4,
    "start_time": "2022-06-21T08:08:36.176Z"
   },
   {
    "duration": 827,
    "start_time": "2022-06-21T08:08:36.182Z"
   },
   {
    "duration": 111,
    "start_time": "2022-06-21T08:08:37.011Z"
   },
   {
    "duration": 424,
    "start_time": "2022-06-21T08:08:37.124Z"
   },
   {
    "duration": 107,
    "start_time": "2022-06-21T08:08:37.550Z"
   },
   {
    "duration": 11,
    "start_time": "2022-06-21T08:08:37.659Z"
   },
   {
    "duration": 52,
    "start_time": "2022-06-21T08:08:37.672Z"
   },
   {
    "duration": 30,
    "start_time": "2022-06-21T08:08:37.726Z"
   },
   {
    "duration": 59,
    "start_time": "2022-06-21T08:08:37.759Z"
   },
   {
    "duration": 37,
    "start_time": "2022-06-21T08:08:37.820Z"
   },
   {
    "duration": 17,
    "start_time": "2022-06-21T08:08:37.859Z"
   },
   {
    "duration": 7,
    "start_time": "2022-06-21T08:08:37.877Z"
   },
   {
    "duration": 66,
    "start_time": "2022-06-21T08:08:37.886Z"
   },
   {
    "duration": 21,
    "start_time": "2022-06-21T08:08:37.954Z"
   },
   {
    "duration": 268,
    "start_time": "2022-06-21T08:08:37.977Z"
   },
   {
    "duration": 18,
    "start_time": "2022-06-21T08:08:38.246Z"
   },
   {
    "duration": 94,
    "start_time": "2022-06-21T08:08:38.265Z"
   },
   {
    "duration": 254,
    "start_time": "2022-06-21T08:08:38.361Z"
   },
   {
    "duration": 16,
    "start_time": "2022-06-21T08:08:38.617Z"
   },
   {
    "duration": 38,
    "start_time": "2022-06-21T08:08:38.635Z"
   },
   {
    "duration": 3284,
    "start_time": "2022-06-21T08:08:38.675Z"
   },
   {
    "duration": 401,
    "start_time": "2022-06-21T08:08:41.961Z"
   },
   {
    "duration": 24,
    "start_time": "2022-06-21T08:08:42.364Z"
   },
   {
    "duration": 15,
    "start_time": "2022-06-21T08:08:42.392Z"
   },
   {
    "duration": 87,
    "start_time": "2022-06-21T08:08:42.408Z"
   },
   {
    "duration": 84,
    "start_time": "2022-06-21T08:08:42.497Z"
   },
   {
    "duration": 5,
    "start_time": "2022-06-21T08:08:42.582Z"
   },
   {
    "duration": 741,
    "start_time": "2022-06-21T08:08:42.588Z"
   },
   {
    "duration": 4,
    "start_time": "2022-06-21T08:08:43.330Z"
   },
   {
    "duration": 225,
    "start_time": "2022-06-21T08:08:43.336Z"
   },
   {
    "duration": 61,
    "start_time": "2022-06-21T08:08:43.563Z"
   },
   {
    "duration": 48,
    "start_time": "2022-06-21T08:08:43.626Z"
   },
   {
    "duration": 4,
    "start_time": "2022-06-21T08:08:43.676Z"
   },
   {
    "duration": 352,
    "start_time": "2022-06-21T08:08:43.681Z"
   },
   {
    "duration": 430,
    "start_time": "2022-06-21T08:08:44.035Z"
   },
   {
    "duration": 83,
    "start_time": "2022-06-21T08:08:44.470Z"
   },
   {
    "duration": 99,
    "start_time": "2022-06-21T08:08:44.555Z"
   },
   {
    "duration": 16021,
    "start_time": "2022-06-21T08:09:02.731Z"
   },
   {
    "duration": 17,
    "start_time": "2022-06-21T08:09:52.398Z"
   },
   {
    "duration": 6,
    "start_time": "2022-06-21T08:10:24.159Z"
   },
   {
    "duration": 714,
    "start_time": "2022-06-21T08:11:20.449Z"
   },
   {
    "duration": 15,
    "start_time": "2022-06-21T08:12:39.954Z"
   },
   {
    "duration": 731,
    "start_time": "2022-06-21T08:12:47.130Z"
   },
   {
    "duration": 4,
    "start_time": "2022-06-21T08:13:12.886Z"
   },
   {
    "duration": 3,
    "start_time": "2022-06-21T08:14:13.662Z"
   },
   {
    "duration": 2,
    "start_time": "2022-06-21T08:14:26.547Z"
   },
   {
    "duration": 94,
    "start_time": "2022-06-21T08:15:40.238Z"
   },
   {
    "duration": 186,
    "start_time": "2022-06-21T08:16:01.987Z"
   },
   {
    "duration": 151280,
    "start_time": "2022-06-21T08:16:09.796Z"
   },
   {
    "duration": 972,
    "start_time": "2022-06-21T08:19:02.404Z"
   },
   {
    "duration": 4,
    "start_time": "2022-06-21T08:19:17.696Z"
   },
   {
    "duration": 10379,
    "start_time": "2022-06-21T08:20:05.181Z"
   },
   {
    "duration": 9805,
    "start_time": "2022-06-21T08:20:53.558Z"
   },
   {
    "duration": 15658,
    "start_time": "2022-06-21T08:21:24.701Z"
   },
   {
    "duration": 902,
    "start_time": "2022-06-21T08:21:54.253Z"
   },
   {
    "duration": 5,
    "start_time": "2022-06-21T08:22:19.168Z"
   },
   {
    "duration": 3,
    "start_time": "2022-06-21T08:31:08.622Z"
   },
   {
    "duration": 8,
    "start_time": "2022-06-21T08:32:11.354Z"
   },
   {
    "duration": 48,
    "start_time": "2022-06-21T08:34:54.146Z"
   },
   {
    "duration": 4,
    "start_time": "2022-06-21T08:36:12.765Z"
   },
   {
    "duration": 9,
    "start_time": "2022-06-21T08:36:13.617Z"
   },
   {
    "duration": 1548,
    "start_time": "2022-06-21T13:24:19.524Z"
   },
   {
    "duration": 988,
    "start_time": "2022-06-21T13:24:21.074Z"
   },
   {
    "duration": 104,
    "start_time": "2022-06-21T13:24:22.064Z"
   },
   {
    "duration": 429,
    "start_time": "2022-06-21T13:24:26.577Z"
   },
   {
    "duration": 89,
    "start_time": "2022-06-21T13:24:28.383Z"
   },
   {
    "duration": 13,
    "start_time": "2022-06-21T13:25:14.689Z"
   },
   {
    "duration": 42,
    "start_time": "2022-06-21T13:25:16.971Z"
   },
   {
    "duration": 22,
    "start_time": "2022-06-21T13:25:34.997Z"
   },
   {
    "duration": 63,
    "start_time": "2022-06-21T13:25:38.681Z"
   },
   {
    "duration": 21,
    "start_time": "2022-06-21T13:25:55.777Z"
   },
   {
    "duration": 15,
    "start_time": "2022-06-21T13:25:56.306Z"
   },
   {
    "duration": 7,
    "start_time": "2022-06-21T13:26:43.591Z"
   },
   {
    "duration": 44,
    "start_time": "2022-06-21T13:26:45.815Z"
   },
   {
    "duration": 21,
    "start_time": "2022-06-21T13:27:12.140Z"
   },
   {
    "duration": 236,
    "start_time": "2022-06-21T13:27:21.378Z"
   },
   {
    "duration": 15,
    "start_time": "2022-06-21T13:27:31.128Z"
   },
   {
    "duration": 83,
    "start_time": "2022-06-21T13:28:04.930Z"
   },
   {
    "duration": 243,
    "start_time": "2022-06-21T13:28:35.140Z"
   },
   {
    "duration": 17,
    "start_time": "2022-06-21T13:28:37.508Z"
   },
   {
    "duration": 22,
    "start_time": "2022-06-21T13:29:03.701Z"
   },
   {
    "duration": 2921,
    "start_time": "2022-06-21T13:29:10.330Z"
   },
   {
    "duration": 380,
    "start_time": "2022-06-21T13:29:22.612Z"
   },
   {
    "duration": 25,
    "start_time": "2022-06-21T13:29:28.229Z"
   },
   {
    "duration": 29,
    "start_time": "2022-06-21T13:33:04.942Z"
   },
   {
    "duration": 60,
    "start_time": "2022-06-21T13:33:05.181Z"
   },
   {
    "duration": 66,
    "start_time": "2022-06-21T13:33:08.081Z"
   },
   {
    "duration": 2,
    "start_time": "2022-06-21T13:33:13.649Z"
   },
   {
    "duration": 17,
    "start_time": "2022-06-21T13:34:42.795Z"
   },
   {
    "duration": 3,
    "start_time": "2022-06-21T13:35:36.484Z"
   },
   {
    "duration": 675,
    "start_time": "2022-06-21T13:36:44.732Z"
   },
   {
    "duration": 18,
    "start_time": "2022-06-21T13:36:55.517Z"
   },
   {
    "duration": 30,
    "start_time": "2022-06-21T13:37:24.875Z"
   },
   {
    "duration": 17,
    "start_time": "2022-06-21T13:37:35.441Z"
   },
   {
    "duration": 3,
    "start_time": "2022-06-21T13:40:01.624Z"
   },
   {
    "duration": 223,
    "start_time": "2022-06-21T13:40:02.108Z"
   },
   {
    "duration": 42,
    "start_time": "2022-06-21T13:40:06.220Z"
   },
   {
    "duration": 59,
    "start_time": "2022-06-21T13:41:58.325Z"
   },
   {
    "duration": 36,
    "start_time": "2022-06-21T13:41:59.808Z"
   },
   {
    "duration": 3,
    "start_time": "2022-06-21T13:42:42.427Z"
   },
   {
    "duration": 317,
    "start_time": "2022-06-21T13:43:04.818Z"
   },
   {
    "duration": 3,
    "start_time": "2022-06-21T13:52:12.835Z"
   },
   {
    "duration": 4,
    "start_time": "2022-06-21T13:52:13.281Z"
   },
   {
    "duration": 27,
    "start_time": "2022-06-21T13:52:22.986Z"
   },
   {
    "duration": 17,
    "start_time": "2022-06-21T13:52:50.747Z"
   },
   {
    "duration": 95,
    "start_time": "2022-06-21T13:53:00.130Z"
   },
   {
    "duration": 20,
    "start_time": "2022-06-21T13:53:37.681Z"
   },
   {
    "duration": 198,
    "start_time": "2022-06-21T13:57:12.826Z"
   },
   {
    "duration": 46,
    "start_time": "2022-06-21T13:57:17.918Z"
   },
   {
    "duration": 53,
    "start_time": "2022-06-21T16:40:55.239Z"
   },
   {
    "duration": 1494,
    "start_time": "2022-06-21T16:41:07.214Z"
   },
   {
    "duration": 1073,
    "start_time": "2022-06-21T16:41:08.710Z"
   },
   {
    "duration": 103,
    "start_time": "2022-06-21T16:41:09.785Z"
   },
   {
    "duration": 450,
    "start_time": "2022-06-21T16:41:09.890Z"
   },
   {
    "duration": 96,
    "start_time": "2022-06-21T16:41:10.342Z"
   },
   {
    "duration": 13,
    "start_time": "2022-06-21T16:41:10.450Z"
   },
   {
    "duration": 36,
    "start_time": "2022-06-21T16:41:10.465Z"
   },
   {
    "duration": 22,
    "start_time": "2022-06-21T16:41:10.503Z"
   },
   {
    "duration": 80,
    "start_time": "2022-06-21T16:41:10.526Z"
   },
   {
    "duration": 22,
    "start_time": "2022-06-21T16:41:10.608Z"
   },
   {
    "duration": 33,
    "start_time": "2022-06-21T16:41:10.632Z"
   },
   {
    "duration": 22,
    "start_time": "2022-06-21T16:41:10.667Z"
   },
   {
    "duration": 54,
    "start_time": "2022-06-21T16:41:10.690Z"
   },
   {
    "duration": 21,
    "start_time": "2022-06-21T16:41:10.746Z"
   },
   {
    "duration": 25,
    "start_time": "2022-06-21T16:41:10.769Z"
   },
   {
    "duration": 259,
    "start_time": "2022-06-21T16:41:10.796Z"
   },
   {
    "duration": 15,
    "start_time": "2022-06-21T16:41:11.056Z"
   },
   {
    "duration": 95,
    "start_time": "2022-06-21T16:41:11.072Z"
   },
   {
    "duration": 267,
    "start_time": "2022-06-21T16:41:11.169Z"
   },
   {
    "duration": 17,
    "start_time": "2022-06-21T16:41:11.437Z"
   },
   {
    "duration": 24,
    "start_time": "2022-06-21T16:41:11.455Z"
   },
   {
    "duration": 2808,
    "start_time": "2022-06-21T16:41:11.481Z"
   },
   {
    "duration": 432,
    "start_time": "2022-06-21T16:41:14.290Z"
   },
   {
    "duration": 27,
    "start_time": "2022-06-21T16:41:14.724Z"
   },
   {
    "duration": 13,
    "start_time": "2022-06-21T16:41:14.753Z"
   },
   {
    "duration": 59,
    "start_time": "2022-06-21T16:41:14.768Z"
   },
   {
    "duration": 81,
    "start_time": "2022-06-21T16:41:14.829Z"
   },
   {
    "duration": 2,
    "start_time": "2022-06-21T16:41:14.913Z"
   },
   {
    "duration": 664,
    "start_time": "2022-06-21T16:41:14.916Z"
   },
   {
    "duration": 3,
    "start_time": "2022-06-21T16:41:15.582Z"
   },
   {
    "duration": 217,
    "start_time": "2022-06-21T16:41:15.587Z"
   },
   {
    "duration": 61,
    "start_time": "2022-06-21T16:41:15.806Z"
   },
   {
    "duration": 34,
    "start_time": "2022-06-21T16:41:15.869Z"
   },
   {
    "duration": 3,
    "start_time": "2022-06-21T16:41:15.905Z"
   },
   {
    "duration": 323,
    "start_time": "2022-06-21T16:41:15.909Z"
   },
   {
    "duration": 432,
    "start_time": "2022-06-21T16:41:16.233Z"
   },
   {
    "duration": 184,
    "start_time": "2022-06-21T16:41:16.667Z"
   },
   {
    "duration": 5,
    "start_time": "2022-06-21T16:41:16.855Z"
   },
   {
    "duration": 13942,
    "start_time": "2022-06-21T16:41:16.862Z"
   },
   {
    "duration": 56,
    "start_time": "2022-06-21T16:41:30.806Z"
   },
   {
    "duration": 193,
    "start_time": "2022-06-21T16:41:30.865Z"
   },
   {
    "duration": 732,
    "start_time": "2022-06-21T16:41:31.060Z"
   },
   {
    "duration": 16,
    "start_time": "2022-06-21T16:41:31.793Z"
   },
   {
    "duration": 16,
    "start_time": "2022-06-21T16:41:31.810Z"
   },
   {
    "duration": 23,
    "start_time": "2022-06-21T16:41:31.828Z"
   },
   {
    "duration": 24,
    "start_time": "2022-06-21T16:41:31.853Z"
   },
   {
    "duration": 120,
    "start_time": "2022-06-21T16:41:31.879Z"
   },
   {
    "duration": 190,
    "start_time": "2022-06-21T16:41:32.001Z"
   },
   {
    "duration": 29708,
    "start_time": "2022-06-21T16:41:32.193Z"
   },
   {
    "duration": 65,
    "start_time": "2022-06-21T16:42:01.904Z"
   },
   {
    "duration": 13,
    "start_time": "2022-06-21T16:42:01.971Z"
   },
   {
    "duration": 0,
    "start_time": "2022-06-21T16:42:01.986Z"
   },
   {
    "duration": 0,
    "start_time": "2022-06-21T16:42:01.987Z"
   },
   {
    "duration": 0,
    "start_time": "2022-06-21T16:42:01.989Z"
   },
   {
    "duration": 0,
    "start_time": "2022-06-21T16:42:01.990Z"
   },
   {
    "duration": 0,
    "start_time": "2022-06-21T16:42:01.991Z"
   },
   {
    "duration": 0,
    "start_time": "2022-06-21T16:42:01.992Z"
   },
   {
    "duration": 5,
    "start_time": "2022-06-21T16:42:04.090Z"
   },
   {
    "duration": 776,
    "start_time": "2022-06-21T16:42:04.097Z"
   },
   {
    "duration": 139,
    "start_time": "2022-06-21T16:42:04.875Z"
   },
   {
    "duration": 418,
    "start_time": "2022-06-21T16:42:05.015Z"
   },
   {
    "duration": 90,
    "start_time": "2022-06-21T16:42:05.435Z"
   },
   {
    "duration": 24,
    "start_time": "2022-06-21T16:42:05.527Z"
   },
   {
    "duration": 30,
    "start_time": "2022-06-21T16:42:05.553Z"
   },
   {
    "duration": 22,
    "start_time": "2022-06-21T16:42:05.585Z"
   },
   {
    "duration": 71,
    "start_time": "2022-06-21T16:42:05.610Z"
   },
   {
    "duration": 25,
    "start_time": "2022-06-21T16:42:05.683Z"
   },
   {
    "duration": 23,
    "start_time": "2022-06-21T16:42:05.710Z"
   },
   {
    "duration": 7,
    "start_time": "2022-06-21T16:42:05.750Z"
   },
   {
    "duration": 39,
    "start_time": "2022-06-21T16:42:05.758Z"
   },
   {
    "duration": 22,
    "start_time": "2022-06-21T16:42:05.798Z"
   },
   {
    "duration": 40,
    "start_time": "2022-06-21T16:42:05.821Z"
   },
   {
    "duration": 243,
    "start_time": "2022-06-21T16:42:05.863Z"
   },
   {
    "duration": 14,
    "start_time": "2022-06-21T16:42:06.108Z"
   },
   {
    "duration": 96,
    "start_time": "2022-06-21T16:42:06.124Z"
   },
   {
    "duration": 222,
    "start_time": "2022-06-21T16:42:06.222Z"
   },
   {
    "duration": 16,
    "start_time": "2022-06-21T16:42:06.446Z"
   },
   {
    "duration": 29,
    "start_time": "2022-06-21T16:42:06.463Z"
   },
   {
    "duration": 2819,
    "start_time": "2022-06-21T16:42:06.494Z"
   },
   {
    "duration": 510,
    "start_time": "2022-06-21T16:42:09.316Z"
   },
   {
    "duration": 32,
    "start_time": "2022-06-21T16:42:09.829Z"
   },
   {
    "duration": 14,
    "start_time": "2022-06-21T16:42:09.864Z"
   },
   {
    "duration": 106,
    "start_time": "2022-06-21T16:42:09.879Z"
   },
   {
    "duration": 86,
    "start_time": "2022-06-21T16:42:09.986Z"
   },
   {
    "duration": 3,
    "start_time": "2022-06-21T16:42:10.074Z"
   },
   {
    "duration": 748,
    "start_time": "2022-06-21T16:42:10.079Z"
   },
   {
    "duration": 4,
    "start_time": "2022-06-21T16:42:10.829Z"
   },
   {
    "duration": 221,
    "start_time": "2022-06-21T16:42:10.835Z"
   },
   {
    "duration": 60,
    "start_time": "2022-06-21T16:42:11.057Z"
   },
   {
    "duration": 47,
    "start_time": "2022-06-21T16:42:11.119Z"
   },
   {
    "duration": 3,
    "start_time": "2022-06-21T16:42:11.167Z"
   },
   {
    "duration": 332,
    "start_time": "2022-06-21T16:42:11.172Z"
   },
   {
    "duration": 448,
    "start_time": "2022-06-21T16:42:11.506Z"
   },
   {
    "duration": 102,
    "start_time": "2022-06-21T16:42:11.956Z"
   },
   {
    "duration": 7,
    "start_time": "2022-06-21T16:42:12.061Z"
   },
   {
    "duration": 18193,
    "start_time": "2022-06-21T16:42:12.069Z"
   },
   {
    "duration": 102,
    "start_time": "2022-06-21T16:42:30.264Z"
   },
   {
    "duration": 106,
    "start_time": "2022-06-21T16:42:30.452Z"
   },
   {
    "duration": 711,
    "start_time": "2022-06-21T16:42:30.560Z"
   },
   {
    "duration": 14,
    "start_time": "2022-06-21T16:42:31.273Z"
   },
   {
    "duration": 6,
    "start_time": "2022-06-21T16:42:31.289Z"
   },
   {
    "duration": 4,
    "start_time": "2022-06-21T16:42:31.297Z"
   },
   {
    "duration": 7,
    "start_time": "2022-06-21T16:42:31.303Z"
   },
   {
    "duration": 115,
    "start_time": "2022-06-21T16:42:31.313Z"
   },
   {
    "duration": 196,
    "start_time": "2022-06-21T16:42:31.431Z"
   },
   {
    "duration": 141265,
    "start_time": "2022-06-21T16:42:31.629Z"
   },
   {
    "duration": 1053,
    "start_time": "2022-06-21T16:44:52.896Z"
   },
   {
    "duration": 5,
    "start_time": "2022-06-21T16:44:53.951Z"
   },
   {
    "duration": 1646,
    "start_time": "2022-06-22T07:17:08.843Z"
   },
   {
    "duration": 1259,
    "start_time": "2022-06-22T07:17:10.491Z"
   },
   {
    "duration": 143,
    "start_time": "2022-06-22T07:17:11.752Z"
   },
   {
    "duration": 513,
    "start_time": "2022-06-22T07:17:11.897Z"
   },
   {
    "duration": 99,
    "start_time": "2022-06-22T07:17:12.412Z"
   },
   {
    "duration": 14,
    "start_time": "2022-06-22T07:17:12.513Z"
   },
   {
    "duration": 65,
    "start_time": "2022-06-22T07:17:12.528Z"
   },
   {
    "duration": 26,
    "start_time": "2022-06-22T07:17:12.595Z"
   },
   {
    "duration": 100,
    "start_time": "2022-06-22T07:17:12.623Z"
   },
   {
    "duration": 51,
    "start_time": "2022-06-22T07:17:12.725Z"
   },
   {
    "duration": 19,
    "start_time": "2022-06-22T07:17:12.778Z"
   },
   {
    "duration": 7,
    "start_time": "2022-06-22T07:17:12.799Z"
   },
   {
    "duration": 66,
    "start_time": "2022-06-22T07:17:12.807Z"
   },
   {
    "duration": 44,
    "start_time": "2022-06-22T07:17:12.879Z"
   },
   {
    "duration": 46,
    "start_time": "2022-06-22T07:17:12.925Z"
   },
   {
    "duration": 305,
    "start_time": "2022-06-22T07:17:12.976Z"
   },
   {
    "duration": 21,
    "start_time": "2022-06-22T07:17:13.283Z"
   },
   {
    "duration": 98,
    "start_time": "2022-06-22T07:17:13.306Z"
   },
   {
    "duration": 271,
    "start_time": "2022-06-22T07:17:13.405Z"
   },
   {
    "duration": 18,
    "start_time": "2022-06-22T07:17:13.678Z"
   },
   {
    "duration": 34,
    "start_time": "2022-06-22T07:17:13.698Z"
   },
   {
    "duration": 3081,
    "start_time": "2022-06-22T07:17:13.734Z"
   },
   {
    "duration": 461,
    "start_time": "2022-06-22T07:17:16.817Z"
   },
   {
    "duration": 30,
    "start_time": "2022-06-22T07:17:17.280Z"
   },
   {
    "duration": 16,
    "start_time": "2022-06-22T07:17:17.312Z"
   },
   {
    "duration": 135,
    "start_time": "2022-06-22T07:17:17.330Z"
   },
   {
    "duration": 81,
    "start_time": "2022-06-22T07:17:17.467Z"
   },
   {
    "duration": 6,
    "start_time": "2022-06-22T07:17:17.560Z"
   },
   {
    "duration": 842,
    "start_time": "2022-06-22T07:17:17.568Z"
   },
   {
    "duration": 4,
    "start_time": "2022-06-22T07:17:18.412Z"
   },
   {
    "duration": 238,
    "start_time": "2022-06-22T07:17:18.418Z"
   },
   {
    "duration": 60,
    "start_time": "2022-06-22T07:17:18.659Z"
   },
   {
    "duration": 60,
    "start_time": "2022-06-22T07:17:18.720Z"
   },
   {
    "duration": 3,
    "start_time": "2022-06-22T07:17:18.783Z"
   },
   {
    "duration": 378,
    "start_time": "2022-06-22T07:17:18.788Z"
   },
   {
    "duration": 421,
    "start_time": "2022-06-22T07:17:19.167Z"
   },
   {
    "duration": 172,
    "start_time": "2022-06-22T07:17:19.590Z"
   },
   {
    "duration": 5,
    "start_time": "2022-06-22T07:17:19.764Z"
   },
   {
    "duration": 15565,
    "start_time": "2022-06-22T07:17:19.770Z"
   },
   {
    "duration": 102,
    "start_time": "2022-06-22T07:17:35.360Z"
   },
   {
    "duration": 111,
    "start_time": "2022-06-22T07:17:35.468Z"
   },
   {
    "duration": 754,
    "start_time": "2022-06-22T07:17:35.581Z"
   },
   {
    "duration": 33,
    "start_time": "2022-06-22T07:17:36.337Z"
   },
   {
    "duration": 7,
    "start_time": "2022-06-22T07:17:36.371Z"
   },
   {
    "duration": 12,
    "start_time": "2022-06-22T07:17:36.380Z"
   },
   {
    "duration": 19,
    "start_time": "2022-06-22T07:17:36.394Z"
   },
   {
    "duration": 129,
    "start_time": "2022-06-22T07:17:36.415Z"
   },
   {
    "duration": 222,
    "start_time": "2022-06-22T07:17:36.546Z"
   },
   {
    "duration": 155372,
    "start_time": "2022-06-22T07:17:36.772Z"
   },
   {
    "duration": 1011,
    "start_time": "2022-06-22T07:20:12.146Z"
   },
   {
    "duration": 7,
    "start_time": "2022-06-22T07:20:13.166Z"
   },
   {
    "duration": 219499,
    "start_time": "2022-06-22T07:20:13.177Z"
   },
   {
    "duration": 812,
    "start_time": "2022-06-22T07:23:52.678Z"
   },
   {
    "duration": 69,
    "start_time": "2022-06-22T07:23:53.492Z"
   },
   {
    "duration": 6,
    "start_time": "2022-06-22T07:23:53.563Z"
   },
   {
    "duration": 21,
    "start_time": "2022-06-22T07:23:53.572Z"
   },
   {
    "duration": 70,
    "start_time": "2022-06-22T09:35:47.948Z"
   },
   {
    "duration": 4,
    "start_time": "2022-06-22T09:36:06.013Z"
   },
   {
    "duration": 42,
    "start_time": "2022-06-22T09:36:49.927Z"
   },
   {
    "duration": 68,
    "start_time": "2022-06-22T09:37:46.260Z"
   },
   {
    "duration": 4,
    "start_time": "2022-06-22T09:37:47.594Z"
   },
   {
    "duration": 38,
    "start_time": "2022-06-22T09:40:05.126Z"
   },
   {
    "duration": 3,
    "start_time": "2022-06-22T09:44:49.107Z"
   },
   {
    "duration": 9,
    "start_time": "2022-06-22T09:44:50.791Z"
   },
   {
    "duration": 51,
    "start_time": "2022-06-22T09:45:13.999Z"
   },
   {
    "duration": 11,
    "start_time": "2022-06-22T09:47:13.889Z"
   },
   {
    "duration": 746,
    "start_time": "2022-06-22T09:48:14.912Z"
   },
   {
    "duration": 3,
    "start_time": "2022-06-22T09:49:29.407Z"
   },
   {
    "duration": 764,
    "start_time": "2022-06-22T09:49:29.414Z"
   },
   {
    "duration": 130,
    "start_time": "2022-06-22T09:49:30.181Z"
   },
   {
    "duration": 435,
    "start_time": "2022-06-22T09:49:30.313Z"
   },
   {
    "duration": 86,
    "start_time": "2022-06-22T09:49:30.750Z"
   },
   {
    "duration": 27,
    "start_time": "2022-06-22T09:49:30.839Z"
   },
   {
    "duration": 33,
    "start_time": "2022-06-22T09:49:30.879Z"
   },
   {
    "duration": 25,
    "start_time": "2022-06-22T09:49:30.914Z"
   },
   {
    "duration": 62,
    "start_time": "2022-06-22T09:49:30.941Z"
   },
   {
    "duration": 26,
    "start_time": "2022-06-22T09:49:31.005Z"
   },
   {
    "duration": 35,
    "start_time": "2022-06-22T09:49:31.033Z"
   },
   {
    "duration": 17,
    "start_time": "2022-06-22T09:49:31.070Z"
   },
   {
    "duration": 47,
    "start_time": "2022-06-22T09:49:31.089Z"
   },
   {
    "duration": 25,
    "start_time": "2022-06-22T09:49:31.138Z"
   },
   {
    "duration": 27,
    "start_time": "2022-06-22T09:49:31.167Z"
   },
   {
    "duration": 250,
    "start_time": "2022-06-22T09:49:31.195Z"
   },
   {
    "duration": 19,
    "start_time": "2022-06-22T09:49:31.446Z"
   },
   {
    "duration": 77,
    "start_time": "2022-06-22T09:49:31.467Z"
   },
   {
    "duration": 235,
    "start_time": "2022-06-22T09:49:31.559Z"
   },
   {
    "duration": 15,
    "start_time": "2022-06-22T09:49:31.796Z"
   },
   {
    "duration": 31,
    "start_time": "2022-06-22T09:49:31.813Z"
   },
   {
    "duration": 2873,
    "start_time": "2022-06-22T09:49:31.845Z"
   },
   {
    "duration": 387,
    "start_time": "2022-06-22T09:49:34.720Z"
   },
   {
    "duration": 22,
    "start_time": "2022-06-22T09:49:35.109Z"
   },
   {
    "duration": 26,
    "start_time": "2022-06-22T09:49:35.133Z"
   },
   {
    "duration": 77,
    "start_time": "2022-06-22T09:49:35.161Z"
   },
   {
    "duration": 83,
    "start_time": "2022-06-22T09:49:35.239Z"
   },
   {
    "duration": 3,
    "start_time": "2022-06-22T09:49:35.323Z"
   },
   {
    "duration": 725,
    "start_time": "2022-06-22T09:49:35.327Z"
   },
   {
    "duration": 5,
    "start_time": "2022-06-22T09:49:36.054Z"
   },
   {
    "duration": 226,
    "start_time": "2022-06-22T09:49:36.061Z"
   },
   {
    "duration": 79,
    "start_time": "2022-06-22T09:49:36.289Z"
   },
   {
    "duration": 4,
    "start_time": "2022-06-22T09:49:36.370Z"
   },
   {
    "duration": 41,
    "start_time": "2022-06-22T09:49:36.375Z"
   },
   {
    "duration": 3,
    "start_time": "2022-06-22T09:49:36.417Z"
   },
   {
    "duration": 305,
    "start_time": "2022-06-22T09:49:36.421Z"
   },
   {
    "duration": 91,
    "start_time": "2022-06-22T09:49:36.727Z"
   },
   {
    "duration": 54,
    "start_time": "2022-06-22T09:49:36.820Z"
   },
   {
    "duration": 12,
    "start_time": "2022-06-22T09:49:36.875Z"
   },
   {
    "duration": 0,
    "start_time": "2022-06-22T09:49:36.889Z"
   },
   {
    "duration": 0,
    "start_time": "2022-06-22T09:49:36.890Z"
   },
   {
    "duration": 0,
    "start_time": "2022-06-22T09:49:36.891Z"
   },
   {
    "duration": 0,
    "start_time": "2022-06-22T09:49:36.892Z"
   },
   {
    "duration": 0,
    "start_time": "2022-06-22T09:49:36.893Z"
   },
   {
    "duration": 0,
    "start_time": "2022-06-22T09:49:36.894Z"
   },
   {
    "duration": 0,
    "start_time": "2022-06-22T09:49:36.895Z"
   },
   {
    "duration": 0,
    "start_time": "2022-06-22T09:49:36.896Z"
   },
   {
    "duration": 0,
    "start_time": "2022-06-22T09:49:36.897Z"
   },
   {
    "duration": 0,
    "start_time": "2022-06-22T09:49:36.898Z"
   },
   {
    "duration": 0,
    "start_time": "2022-06-22T09:49:36.899Z"
   },
   {
    "duration": 0,
    "start_time": "2022-06-22T09:49:36.900Z"
   },
   {
    "duration": 0,
    "start_time": "2022-06-22T09:49:36.901Z"
   },
   {
    "duration": 0,
    "start_time": "2022-06-22T09:49:36.903Z"
   },
   {
    "duration": 0,
    "start_time": "2022-06-22T09:49:36.904Z"
   },
   {
    "duration": 0,
    "start_time": "2022-06-22T09:49:36.905Z"
   },
   {
    "duration": 0,
    "start_time": "2022-06-22T09:49:36.907Z"
   },
   {
    "duration": 0,
    "start_time": "2022-06-22T09:49:36.908Z"
   },
   {
    "duration": 0,
    "start_time": "2022-06-22T09:49:36.909Z"
   },
   {
    "duration": 0,
    "start_time": "2022-06-22T09:49:36.910Z"
   },
   {
    "duration": 0,
    "start_time": "2022-06-22T09:49:36.911Z"
   },
   {
    "duration": 0,
    "start_time": "2022-06-22T09:49:36.912Z"
   },
   {
    "duration": 56,
    "start_time": "2022-06-22T09:52:35.050Z"
   },
   {
    "duration": 5,
    "start_time": "2022-06-22T09:52:42.359Z"
   },
   {
    "duration": 788,
    "start_time": "2022-06-22T09:52:42.365Z"
   },
   {
    "duration": 130,
    "start_time": "2022-06-22T09:52:43.159Z"
   },
   {
    "duration": 418,
    "start_time": "2022-06-22T09:52:43.291Z"
   },
   {
    "duration": 95,
    "start_time": "2022-06-22T09:52:43.711Z"
   },
   {
    "duration": 15,
    "start_time": "2022-06-22T09:52:43.808Z"
   },
   {
    "duration": 45,
    "start_time": "2022-06-22T09:52:43.825Z"
   },
   {
    "duration": 25,
    "start_time": "2022-06-22T09:52:43.872Z"
   },
   {
    "duration": 83,
    "start_time": "2022-06-22T09:52:43.900Z"
   },
   {
    "duration": 26,
    "start_time": "2022-06-22T09:52:43.985Z"
   },
   {
    "duration": 18,
    "start_time": "2022-06-22T09:52:44.012Z"
   },
   {
    "duration": 26,
    "start_time": "2022-06-22T09:52:44.032Z"
   },
   {
    "duration": 40,
    "start_time": "2022-06-22T09:52:44.060Z"
   },
   {
    "duration": 24,
    "start_time": "2022-06-22T09:52:44.101Z"
   },
   {
    "duration": 42,
    "start_time": "2022-06-22T09:52:44.127Z"
   },
   {
    "duration": 240,
    "start_time": "2022-06-22T09:52:44.170Z"
   },
   {
    "duration": 16,
    "start_time": "2022-06-22T09:52:44.412Z"
   },
   {
    "duration": 93,
    "start_time": "2022-06-22T09:52:44.430Z"
   },
   {
    "duration": 248,
    "start_time": "2022-06-22T09:52:44.525Z"
   },
   {
    "duration": 16,
    "start_time": "2022-06-22T09:52:44.775Z"
   },
   {
    "duration": 31,
    "start_time": "2022-06-22T09:52:44.793Z"
   },
   {
    "duration": 2883,
    "start_time": "2022-06-22T09:52:44.826Z"
   },
   {
    "duration": 379,
    "start_time": "2022-06-22T09:52:47.710Z"
   },
   {
    "duration": 27,
    "start_time": "2022-06-22T09:52:48.094Z"
   },
   {
    "duration": 12,
    "start_time": "2022-06-22T09:52:48.122Z"
   },
   {
    "duration": 91,
    "start_time": "2022-06-22T09:52:48.136Z"
   },
   {
    "duration": 83,
    "start_time": "2022-06-22T09:52:48.228Z"
   },
   {
    "duration": 4,
    "start_time": "2022-06-22T09:52:48.312Z"
   },
   {
    "duration": 712,
    "start_time": "2022-06-22T09:52:48.318Z"
   },
   {
    "duration": 3,
    "start_time": "2022-06-22T09:52:49.032Z"
   },
   {
    "duration": 217,
    "start_time": "2022-06-22T09:52:49.036Z"
   },
   {
    "duration": 74,
    "start_time": "2022-06-22T09:52:49.254Z"
   },
   {
    "duration": 4,
    "start_time": "2022-06-22T09:52:49.330Z"
   },
   {
    "duration": 75,
    "start_time": "2022-06-22T09:52:49.336Z"
   },
   {
    "duration": 31,
    "start_time": "2022-06-22T09:52:49.413Z"
   },
   {
    "duration": 12,
    "start_time": "2022-06-22T09:52:49.446Z"
   },
   {
    "duration": 335,
    "start_time": "2022-06-22T09:52:49.460Z"
   },
   {
    "duration": 466,
    "start_time": "2022-06-22T09:52:49.797Z"
   },
   {
    "duration": 12,
    "start_time": "2022-06-22T09:52:50.264Z"
   },
   {
    "duration": 89,
    "start_time": "2022-06-22T09:52:50.279Z"
   },
   {
    "duration": 13087,
    "start_time": "2022-06-22T09:52:50.371Z"
   },
   {
    "duration": 101,
    "start_time": "2022-06-22T09:53:03.461Z"
   },
   {
    "duration": 99,
    "start_time": "2022-06-22T09:53:03.566Z"
   },
   {
    "duration": 689,
    "start_time": "2022-06-22T09:53:03.667Z"
   },
   {
    "duration": 14,
    "start_time": "2022-06-22T09:53:04.359Z"
   },
   {
    "duration": 4,
    "start_time": "2022-06-22T09:53:04.375Z"
   },
   {
    "duration": 5,
    "start_time": "2022-06-22T09:53:04.380Z"
   },
   {
    "duration": 6,
    "start_time": "2022-06-22T09:53:04.386Z"
   },
   {
    "duration": 109,
    "start_time": "2022-06-22T09:53:04.393Z"
   },
   {
    "duration": 205,
    "start_time": "2022-06-22T09:53:04.504Z"
   },
   {
    "duration": 138500,
    "start_time": "2022-06-22T09:53:04.710Z"
   },
   {
    "duration": 886,
    "start_time": "2022-06-22T09:55:23.212Z"
   },
   {
    "duration": 5,
    "start_time": "2022-06-22T09:55:24.099Z"
   },
   {
    "duration": 8470,
    "start_time": "2022-06-22T09:55:24.105Z"
   },
   {
    "duration": 803,
    "start_time": "2022-06-22T09:55:32.577Z"
   },
   {
    "duration": 4,
    "start_time": "2022-06-22T09:55:33.382Z"
   },
   {
    "duration": 3,
    "start_time": "2022-06-22T09:55:33.460Z"
   },
   {
    "duration": 15,
    "start_time": "2022-06-22T09:55:33.465Z"
   },
   {
    "duration": 17,
    "start_time": "2022-06-22T09:55:33.481Z"
   },
   {
    "duration": 9069,
    "start_time": "2022-06-22T09:55:33.499Z"
   },
   {
    "duration": 804,
    "start_time": "2022-06-22T09:55:42.569Z"
   },
   {
    "duration": 5,
    "start_time": "2022-06-22T09:55:43.375Z"
   },
   {
    "duration": 4,
    "start_time": "2022-06-22T09:59:47.886Z"
   },
   {
    "duration": 708,
    "start_time": "2022-06-22T09:59:47.891Z"
   },
   {
    "duration": 124,
    "start_time": "2022-06-22T09:59:48.601Z"
   },
   {
    "duration": 394,
    "start_time": "2022-06-22T09:59:48.727Z"
   },
   {
    "duration": 85,
    "start_time": "2022-06-22T09:59:49.123Z"
   },
   {
    "duration": 11,
    "start_time": "2022-06-22T09:59:49.210Z"
   },
   {
    "duration": 53,
    "start_time": "2022-06-22T09:59:49.223Z"
   },
   {
    "duration": 24,
    "start_time": "2022-06-22T09:59:49.278Z"
   },
   {
    "duration": 72,
    "start_time": "2022-06-22T09:59:49.303Z"
   },
   {
    "duration": 24,
    "start_time": "2022-06-22T09:59:49.376Z"
   },
   {
    "duration": 17,
    "start_time": "2022-06-22T09:59:49.403Z"
   },
   {
    "duration": 6,
    "start_time": "2022-06-22T09:59:49.422Z"
   },
   {
    "duration": 60,
    "start_time": "2022-06-22T09:59:49.429Z"
   },
   {
    "duration": 26,
    "start_time": "2022-06-22T09:59:49.491Z"
   },
   {
    "duration": 25,
    "start_time": "2022-06-22T09:59:49.519Z"
   },
   {
    "duration": 260,
    "start_time": "2022-06-22T09:59:49.546Z"
   },
   {
    "duration": 16,
    "start_time": "2022-06-22T09:59:49.807Z"
   },
   {
    "duration": 94,
    "start_time": "2022-06-22T09:59:49.824Z"
   },
   {
    "duration": 309,
    "start_time": "2022-06-22T09:59:49.920Z"
   },
   {
    "duration": 16,
    "start_time": "2022-06-22T09:59:50.231Z"
   },
   {
    "duration": 34,
    "start_time": "2022-06-22T09:59:50.249Z"
   },
   {
    "duration": 3045,
    "start_time": "2022-06-22T09:59:50.285Z"
   },
   {
    "duration": 356,
    "start_time": "2022-06-22T09:59:53.332Z"
   },
   {
    "duration": 24,
    "start_time": "2022-06-22T09:59:53.689Z"
   },
   {
    "duration": 14,
    "start_time": "2022-06-22T09:59:53.714Z"
   },
   {
    "duration": 93,
    "start_time": "2022-06-22T09:59:53.730Z"
   },
   {
    "duration": 83,
    "start_time": "2022-06-22T09:59:53.825Z"
   },
   {
    "duration": 3,
    "start_time": "2022-06-22T09:59:53.910Z"
   },
   {
    "duration": 708,
    "start_time": "2022-06-22T09:59:53.916Z"
   },
   {
    "duration": 3,
    "start_time": "2022-06-22T09:59:54.626Z"
   },
   {
    "duration": 216,
    "start_time": "2022-06-22T09:59:54.630Z"
   },
   {
    "duration": 72,
    "start_time": "2022-06-22T09:59:54.848Z"
   },
   {
    "duration": 4,
    "start_time": "2022-06-22T09:59:54.921Z"
   },
   {
    "duration": 42,
    "start_time": "2022-06-22T09:59:54.927Z"
   },
   {
    "duration": 3,
    "start_time": "2022-06-22T09:59:54.970Z"
   },
   {
    "duration": 298,
    "start_time": "2022-06-22T09:59:54.975Z"
   },
   {
    "duration": 394,
    "start_time": "2022-06-22T09:59:55.275Z"
   },
   {
    "duration": 93,
    "start_time": "2022-06-22T09:59:55.670Z"
   },
   {
    "duration": 95,
    "start_time": "2022-06-22T09:59:55.765Z"
   },
   {
    "duration": 12298,
    "start_time": "2022-06-22T09:59:55.862Z"
   },
   {
    "duration": 103,
    "start_time": "2022-06-22T10:00:08.164Z"
   },
   {
    "duration": 101,
    "start_time": "2022-06-22T10:00:08.359Z"
   },
   {
    "duration": 623,
    "start_time": "2022-06-22T10:00:08.462Z"
   },
   {
    "duration": 10,
    "start_time": "2022-06-22T10:00:09.087Z"
   },
   {
    "duration": 4,
    "start_time": "2022-06-22T10:00:09.099Z"
   },
   {
    "duration": 13,
    "start_time": "2022-06-22T10:00:09.105Z"
   },
   {
    "duration": 4,
    "start_time": "2022-06-22T10:00:09.120Z"
   },
   {
    "duration": 107,
    "start_time": "2022-06-22T10:00:09.126Z"
   },
   {
    "duration": 200,
    "start_time": "2022-06-22T10:00:09.235Z"
   },
   {
    "duration": 65,
    "start_time": "2022-06-22T10:00:09.437Z"
   },
   {
    "duration": 55,
    "start_time": "2022-06-22T10:00:09.504Z"
   },
   {
    "duration": 11,
    "start_time": "2022-06-22T10:00:09.561Z"
   },
   {
    "duration": 0,
    "start_time": "2022-06-22T10:00:09.574Z"
   },
   {
    "duration": 0,
    "start_time": "2022-06-22T10:00:09.575Z"
   },
   {
    "duration": 0,
    "start_time": "2022-06-22T10:00:09.577Z"
   },
   {
    "duration": 0,
    "start_time": "2022-06-22T10:00:09.579Z"
   },
   {
    "duration": 0,
    "start_time": "2022-06-22T10:00:09.579Z"
   },
   {
    "duration": 0,
    "start_time": "2022-06-22T10:00:09.581Z"
   },
   {
    "duration": 0,
    "start_time": "2022-06-22T10:00:09.583Z"
   },
   {
    "duration": 0,
    "start_time": "2022-06-22T10:00:09.583Z"
   },
   {
    "duration": 0,
    "start_time": "2022-06-22T10:00:09.584Z"
   },
   {
    "duration": 26,
    "start_time": "2022-06-22T10:22:07.347Z"
   },
   {
    "duration": 762,
    "start_time": "2022-06-22T10:22:07.846Z"
   },
   {
    "duration": 151,
    "start_time": "2022-06-22T10:22:08.716Z"
   },
   {
    "duration": 448,
    "start_time": "2022-06-22T10:22:08.888Z"
   },
   {
    "duration": 98,
    "start_time": "2022-06-22T10:22:09.397Z"
   },
   {
    "duration": 4,
    "start_time": "2022-06-22T10:22:09.522Z"
   },
   {
    "duration": 39,
    "start_time": "2022-06-22T10:22:09.606Z"
   },
   {
    "duration": 15,
    "start_time": "2022-06-22T10:22:09.700Z"
   },
   {
    "duration": 79,
    "start_time": "2022-06-22T10:22:09.748Z"
   },
   {
    "duration": 40,
    "start_time": "2022-06-22T10:22:09.838Z"
   },
   {
    "duration": 18,
    "start_time": "2022-06-22T10:22:09.931Z"
   },
   {
    "duration": 7,
    "start_time": "2022-06-22T10:22:09.997Z"
   },
   {
    "duration": 68,
    "start_time": "2022-06-22T10:22:10.033Z"
   },
   {
    "duration": 29,
    "start_time": "2022-06-22T10:22:10.394Z"
   },
   {
    "duration": 30,
    "start_time": "2022-06-22T10:22:10.448Z"
   },
   {
    "duration": 279,
    "start_time": "2022-06-22T10:22:10.580Z"
   },
   {
    "duration": 28,
    "start_time": "2022-06-22T10:22:11.150Z"
   },
   {
    "duration": 89,
    "start_time": "2022-06-22T10:22:11.206Z"
   },
   {
    "duration": 277,
    "start_time": "2022-06-22T10:22:11.322Z"
   },
   {
    "duration": 21,
    "start_time": "2022-06-22T10:22:14.747Z"
   },
   {
    "duration": 23,
    "start_time": "2022-06-22T10:22:15.217Z"
   },
   {
    "duration": 2994,
    "start_time": "2022-06-22T10:22:15.291Z"
   },
   {
    "duration": 177,
    "start_time": "2022-06-22T10:22:18.323Z"
   },
   {
    "duration": 20,
    "start_time": "2022-06-22T10:22:18.596Z"
   },
   {
    "duration": 0,
    "start_time": "2022-06-22T10:22:18.620Z"
   },
   {
    "duration": 0,
    "start_time": "2022-06-22T10:22:18.622Z"
   },
   {
    "duration": 0,
    "start_time": "2022-06-22T10:22:18.624Z"
   },
   {
    "duration": 0,
    "start_time": "2022-06-22T10:22:18.626Z"
   },
   {
    "duration": 0,
    "start_time": "2022-06-22T10:22:18.628Z"
   },
   {
    "duration": 0,
    "start_time": "2022-06-22T10:22:18.630Z"
   },
   {
    "duration": 0,
    "start_time": "2022-06-22T10:22:18.632Z"
   },
   {
    "duration": 0,
    "start_time": "2022-06-22T10:22:18.634Z"
   },
   {
    "duration": 0,
    "start_time": "2022-06-22T10:22:18.674Z"
   },
   {
    "duration": 0,
    "start_time": "2022-06-22T10:22:18.677Z"
   },
   {
    "duration": 0,
    "start_time": "2022-06-22T10:22:18.686Z"
   },
   {
    "duration": 0,
    "start_time": "2022-06-22T10:22:18.688Z"
   },
   {
    "duration": 0,
    "start_time": "2022-06-22T10:22:18.690Z"
   },
   {
    "duration": 0,
    "start_time": "2022-06-22T10:22:18.693Z"
   },
   {
    "duration": 0,
    "start_time": "2022-06-22T10:22:18.694Z"
   },
   {
    "duration": 0,
    "start_time": "2022-06-22T10:22:18.696Z"
   },
   {
    "duration": 0,
    "start_time": "2022-06-22T10:22:18.698Z"
   },
   {
    "duration": 0,
    "start_time": "2022-06-22T10:22:18.700Z"
   },
   {
    "duration": 0,
    "start_time": "2022-06-22T10:22:18.702Z"
   },
   {
    "duration": 0,
    "start_time": "2022-06-22T10:22:18.704Z"
   },
   {
    "duration": 0,
    "start_time": "2022-06-22T10:22:18.706Z"
   },
   {
    "duration": 0,
    "start_time": "2022-06-22T10:22:18.708Z"
   },
   {
    "duration": 0,
    "start_time": "2022-06-22T10:22:18.710Z"
   },
   {
    "duration": 0,
    "start_time": "2022-06-22T10:22:18.712Z"
   },
   {
    "duration": 0,
    "start_time": "2022-06-22T10:22:18.762Z"
   },
   {
    "duration": 0,
    "start_time": "2022-06-22T10:22:18.767Z"
   },
   {
    "duration": 0,
    "start_time": "2022-06-22T10:22:18.774Z"
   },
   {
    "duration": 0,
    "start_time": "2022-06-22T10:22:18.776Z"
   },
   {
    "duration": 0,
    "start_time": "2022-06-22T10:22:18.779Z"
   },
   {
    "duration": 0,
    "start_time": "2022-06-22T10:22:18.780Z"
   },
   {
    "duration": 0,
    "start_time": "2022-06-22T10:22:18.782Z"
   },
   {
    "duration": 0,
    "start_time": "2022-06-22T10:22:18.783Z"
   },
   {
    "duration": 0,
    "start_time": "2022-06-22T10:22:18.785Z"
   },
   {
    "duration": 0,
    "start_time": "2022-06-22T10:22:18.788Z"
   },
   {
    "duration": 0,
    "start_time": "2022-06-22T10:22:18.791Z"
   },
   {
    "duration": 0,
    "start_time": "2022-06-22T10:22:18.795Z"
   },
   {
    "duration": 0,
    "start_time": "2022-06-22T10:22:18.795Z"
   },
   {
    "duration": 0,
    "start_time": "2022-06-22T10:22:18.797Z"
   },
   {
    "duration": 5,
    "start_time": "2022-06-22T10:23:19.905Z"
   },
   {
    "duration": 15,
    "start_time": "2022-06-22T10:24:05.254Z"
   },
   {
    "duration": 87,
    "start_time": "2022-06-22T10:24:06.659Z"
   },
   {
    "duration": 73,
    "start_time": "2022-06-22T10:24:07.815Z"
   },
   {
    "duration": 24,
    "start_time": "2022-06-22T10:24:21.658Z"
   },
   {
    "duration": 2,
    "start_time": "2022-06-22T10:26:06.486Z"
   },
   {
    "duration": 831,
    "start_time": "2022-06-22T10:26:07.883Z"
   },
   {
    "duration": 3,
    "start_time": "2022-06-22T10:26:13.124Z"
   },
   {
    "duration": 207,
    "start_time": "2022-06-22T10:26:14.435Z"
   },
   {
    "duration": 72,
    "start_time": "2022-06-22T10:26:17.690Z"
   },
   {
    "duration": 5,
    "start_time": "2022-06-22T10:26:18.498Z"
   },
   {
    "duration": 39,
    "start_time": "2022-06-22T10:26:22.484Z"
   },
   {
    "duration": 3,
    "start_time": "2022-06-22T10:26:25.825Z"
   },
   {
    "duration": 310,
    "start_time": "2022-06-22T10:26:31.730Z"
   },
   {
    "duration": 481,
    "start_time": "2022-06-22T10:26:37.183Z"
   },
   {
    "duration": 17,
    "start_time": "2022-06-22T10:26:39.920Z"
   },
   {
    "duration": 8,
    "start_time": "2022-06-22T10:26:43.479Z"
   },
   {
    "duration": 16883,
    "start_time": "2022-06-22T10:26:50.482Z"
   },
   {
    "duration": 14,
    "start_time": "2022-06-22T10:27:12.962Z"
   },
   {
    "duration": 5,
    "start_time": "2022-06-22T10:27:18.379Z"
   },
   {
    "duration": 588,
    "start_time": "2022-06-22T10:27:30.850Z"
   },
   {
    "duration": 16,
    "start_time": "2022-06-22T10:28:07.972Z"
   },
   {
    "duration": 11,
    "start_time": "2022-06-22T10:28:09.017Z"
   },
   {
    "duration": 59,
    "start_time": "2022-06-22T10:28:16.966Z"
   },
   {
    "duration": 2,
    "start_time": "2022-06-22T10:28:18.640Z"
   },
   {
    "duration": 3,
    "start_time": "2022-06-22T10:28:20.917Z"
   },
   {
    "duration": 102,
    "start_time": "2022-06-22T10:28:26.396Z"
   },
   {
    "duration": 206,
    "start_time": "2022-06-22T10:28:29.506Z"
   },
   {
    "duration": 153037,
    "start_time": "2022-06-22T10:28:53.720Z"
   },
   {
    "duration": 55,
    "start_time": "2022-06-22T10:31:52.045Z"
   },
   {
    "duration": 2,
    "start_time": "2022-06-22T10:31:53.050Z"
   },
   {
    "duration": 3,
    "start_time": "2022-06-22T10:31:54.124Z"
   },
   {
    "duration": 64,
    "start_time": "2022-06-22T10:31:57.783Z"
   },
   {
    "duration": 260,
    "start_time": "2022-06-22T10:32:00.791Z"
   },
   {
    "duration": 151356,
    "start_time": "2022-06-22T10:32:05.850Z"
   },
   {
    "duration": 3,
    "start_time": "2022-06-22T10:36:09.474Z"
   },
   {
    "duration": 3,
    "start_time": "2022-06-22T10:36:10.743Z"
   },
   {
    "duration": 81,
    "start_time": "2022-06-22T10:36:13.244Z"
   },
   {
    "duration": 204,
    "start_time": "2022-06-22T10:36:14.331Z"
   },
   {
    "duration": 146548,
    "start_time": "2022-06-22T10:36:18.845Z"
   },
   {
    "duration": 1081,
    "start_time": "2022-06-22T10:39:20.213Z"
   },
   {
    "duration": 4,
    "start_time": "2022-06-22T10:39:22.550Z"
   },
   {
    "duration": 116893,
    "start_time": "2022-06-22T10:39:28.892Z"
   },
   {
    "duration": 663,
    "start_time": "2022-06-22T10:41:37.218Z"
   },
   {
    "duration": 4,
    "start_time": "2022-06-22T10:41:38.889Z"
   },
   {
    "duration": 12,
    "start_time": "2022-06-22T10:41:53.487Z"
   },
   {
    "duration": 123196,
    "start_time": "2022-06-22T10:41:55.180Z"
   },
   {
    "duration": 11,
    "start_time": "2022-06-22T10:45:14.193Z"
   },
   {
    "duration": 113205,
    "start_time": "2022-06-22T10:45:15.467Z"
   },
   {
    "duration": 643,
    "start_time": "2022-06-22T10:47:16.127Z"
   },
   {
    "duration": 5,
    "start_time": "2022-06-22T10:47:21.888Z"
   },
   {
    "duration": 49,
    "start_time": "2022-06-22T10:55:41.553Z"
   },
   {
    "duration": 1724,
    "start_time": "2022-06-22T10:55:46.929Z"
   },
   {
    "duration": 1182,
    "start_time": "2022-06-22T10:55:48.700Z"
   },
   {
    "duration": 132,
    "start_time": "2022-06-22T10:55:49.884Z"
   },
   {
    "duration": 482,
    "start_time": "2022-06-22T10:55:52.448Z"
   },
   {
    "duration": 84,
    "start_time": "2022-06-22T10:55:54.024Z"
   },
   {
    "duration": 14,
    "start_time": "2022-06-22T10:55:56.876Z"
   },
   {
    "duration": 45,
    "start_time": "2022-06-22T10:55:57.698Z"
   },
   {
    "duration": 26,
    "start_time": "2022-06-22T10:55:59.894Z"
   },
   {
    "duration": 66,
    "start_time": "2022-06-22T10:56:00.775Z"
   },
   {
    "duration": 27,
    "start_time": "2022-06-22T10:56:02.592Z"
   },
   {
    "duration": 20,
    "start_time": "2022-06-22T10:56:03.572Z"
   },
   {
    "duration": 6,
    "start_time": "2022-06-22T10:56:04.905Z"
   },
   {
    "duration": 51,
    "start_time": "2022-06-22T10:56:05.204Z"
   },
   {
    "duration": 24,
    "start_time": "2022-06-22T10:56:05.997Z"
   },
   {
    "duration": 25,
    "start_time": "2022-06-22T10:56:06.488Z"
   },
   {
    "duration": 257,
    "start_time": "2022-06-22T10:56:06.999Z"
   },
   {
    "duration": 17,
    "start_time": "2022-06-22T10:56:07.804Z"
   },
   {
    "duration": 86,
    "start_time": "2022-06-22T10:56:08.070Z"
   },
   {
    "duration": 242,
    "start_time": "2022-06-22T10:56:08.670Z"
   },
   {
    "duration": 19,
    "start_time": "2022-06-22T10:56:09.070Z"
   },
   {
    "duration": 24,
    "start_time": "2022-06-22T10:56:09.717Z"
   },
   {
    "duration": 3004,
    "start_time": "2022-06-22T10:56:09.922Z"
   },
   {
    "duration": 428,
    "start_time": "2022-06-22T10:56:12.928Z"
   },
   {
    "duration": 25,
    "start_time": "2022-06-22T10:56:13.359Z"
   },
   {
    "duration": 16,
    "start_time": "2022-06-22T10:56:14.239Z"
   },
   {
    "duration": 79,
    "start_time": "2022-06-22T10:56:14.893Z"
   },
   {
    "duration": 73,
    "start_time": "2022-06-22T10:56:15.930Z"
   },
   {
    "duration": 3,
    "start_time": "2022-06-22T10:56:18.046Z"
   },
   {
    "duration": 768,
    "start_time": "2022-06-22T10:56:18.698Z"
   },
   {
    "duration": 4,
    "start_time": "2022-06-22T10:56:35.117Z"
   },
   {
    "duration": 242,
    "start_time": "2022-06-22T10:56:36.024Z"
   },
   {
    "duration": 94,
    "start_time": "2022-06-22T10:56:40.998Z"
   },
   {
    "duration": 4,
    "start_time": "2022-06-22T10:56:43.719Z"
   },
   {
    "duration": 45,
    "start_time": "2022-06-22T10:57:12.652Z"
   },
   {
    "duration": 3,
    "start_time": "2022-06-22T10:57:16.923Z"
   },
   {
    "duration": 309,
    "start_time": "2022-06-22T10:57:18.624Z"
   },
   {
    "duration": 590,
    "start_time": "2022-06-22T10:57:27.691Z"
   },
   {
    "duration": 10,
    "start_time": "2022-06-22T10:57:30.840Z"
   },
   {
    "duration": 4,
    "start_time": "2022-06-22T10:57:40.725Z"
   },
   {
    "duration": 17332,
    "start_time": "2022-06-22T10:57:46.532Z"
   },
   {
    "duration": 9,
    "start_time": "2022-06-22T10:59:05.593Z"
   },
   {
    "duration": 5,
    "start_time": "2022-06-22T10:59:06.794Z"
   },
   {
    "duration": 684,
    "start_time": "2022-06-22T10:59:12.554Z"
   },
   {
    "duration": 11,
    "start_time": "2022-06-22T10:59:15.184Z"
   },
   {
    "duration": 5,
    "start_time": "2022-06-22T10:59:17.576Z"
   },
   {
    "duration": 49,
    "start_time": "2022-06-22T10:59:40.895Z"
   },
   {
    "duration": 3,
    "start_time": "2022-06-22T10:59:42.720Z"
   },
   {
    "duration": 3,
    "start_time": "2022-06-22T10:59:44.282Z"
   },
   {
    "duration": 122,
    "start_time": "2022-06-22T10:59:46.650Z"
   },
   {
    "duration": 226,
    "start_time": "2022-06-22T10:59:48.834Z"
   },
   {
    "duration": 149240,
    "start_time": "2022-06-22T10:59:51.985Z"
   },
   {
    "duration": 3,
    "start_time": "2022-06-22T11:06:01.450Z"
   },
   {
    "duration": 3,
    "start_time": "2022-06-22T11:06:02.543Z"
   },
   {
    "duration": 164,
    "start_time": "2022-06-22T11:06:04.625Z"
   },
   {
    "duration": 72,
    "start_time": "2022-06-22T11:14:32.277Z"
   },
   {
    "duration": 52,
    "start_time": "2022-06-22T11:15:18.309Z"
   },
   {
    "duration": 3,
    "start_time": "2022-06-22T11:15:19.673Z"
   },
   {
    "duration": 3,
    "start_time": "2022-06-22T11:15:21.775Z"
   },
   {
    "duration": 62,
    "start_time": "2022-06-22T11:15:39.621Z"
   },
   {
    "duration": 79,
    "start_time": "2022-06-22T11:27:35.525Z"
   },
   {
    "duration": 72,
    "start_time": "2022-06-22T11:27:36.361Z"
   },
   {
    "duration": 234,
    "start_time": "2022-06-22T11:27:45.779Z"
   },
   {
    "duration": 133,
    "start_time": "2022-06-22T11:27:48.890Z"
   },
   {
    "duration": 2,
    "start_time": "2022-06-22T11:28:15.822Z"
   },
   {
    "duration": 3,
    "start_time": "2022-06-22T11:28:16.913Z"
   },
   {
    "duration": 80,
    "start_time": "2022-06-22T11:28:22.166Z"
   },
   {
    "duration": 34460,
    "start_time": "2022-06-22T11:28:26.976Z"
   },
   {
    "duration": 92,
    "start_time": "2022-06-22T11:29:05.834Z"
   },
   {
    "duration": 62,
    "start_time": "2022-06-22T11:29:07.108Z"
   },
   {
    "duration": 179,
    "start_time": "2022-06-22T11:29:11.943Z"
   },
   {
    "duration": 88,
    "start_time": "2022-06-22T11:29:16.854Z"
   },
   {
    "duration": 91,
    "start_time": "2022-06-22T11:30:50.472Z"
   },
   {
    "duration": 244,
    "start_time": "2022-06-22T11:30:51.446Z"
   },
   {
    "duration": 144103,
    "start_time": "2022-06-22T11:33:30.235Z"
   },
   {
    "duration": 3,
    "start_time": "2022-06-22T11:40:52.410Z"
   },
   {
    "duration": 3,
    "start_time": "2022-06-22T11:40:53.687Z"
   },
   {
    "duration": 87,
    "start_time": "2022-06-22T11:40:55.006Z"
   },
   {
    "duration": 265,
    "start_time": "2022-06-22T11:40:58.616Z"
   },
   {
    "duration": 2492,
    "start_time": "2022-06-22T11:41:01.539Z"
   },
   {
    "duration": 68,
    "start_time": "2022-06-22T11:41:14.287Z"
   },
   {
    "duration": 3,
    "start_time": "2022-06-22T11:41:15.309Z"
   },
   {
    "duration": 3,
    "start_time": "2022-06-22T11:41:29.887Z"
   },
   {
    "duration": 3,
    "start_time": "2022-06-22T11:41:30.638Z"
   },
   {
    "duration": 90,
    "start_time": "2022-06-22T11:41:32.709Z"
   },
   {
    "duration": 243,
    "start_time": "2022-06-22T11:41:35.739Z"
   },
   {
    "duration": 55,
    "start_time": "2022-06-22T11:41:40.474Z"
   },
   {
    "duration": 88,
    "start_time": "2022-06-22T11:46:21.974Z"
   },
   {
    "duration": 283,
    "start_time": "2022-06-22T11:46:22.809Z"
   },
   {
    "duration": 60,
    "start_time": "2022-06-22T11:46:26.998Z"
   },
   {
    "duration": 3,
    "start_time": "2022-06-22T11:51:28.581Z"
   },
   {
    "duration": 3,
    "start_time": "2022-06-22T11:51:29.210Z"
   },
   {
    "duration": 93,
    "start_time": "2022-06-22T11:51:30.593Z"
   },
   {
    "duration": 240,
    "start_time": "2022-06-22T11:51:31.825Z"
   },
   {
    "duration": 79,
    "start_time": "2022-06-22T11:51:37.239Z"
   },
   {
    "duration": 75,
    "start_time": "2022-06-22T11:52:11.910Z"
   },
   {
    "duration": 195,
    "start_time": "2022-06-22T11:52:20.224Z"
   },
   {
    "duration": 134,
    "start_time": "2022-06-22T11:56:42.057Z"
   },
   {
    "duration": 191,
    "start_time": "2022-06-22T11:56:50.340Z"
   },
   {
    "duration": 0,
    "start_time": "2022-06-22T12:01:43.863Z"
   },
   {
    "duration": 0,
    "start_time": "2022-06-22T12:01:43.866Z"
   },
   {
    "duration": 4,
    "start_time": "2022-06-22T12:02:23.894Z"
   },
   {
    "duration": 972,
    "start_time": "2022-06-22T12:02:27.695Z"
   },
   {
    "duration": 138,
    "start_time": "2022-06-22T12:02:31.232Z"
   },
   {
    "duration": 392,
    "start_time": "2022-06-22T12:02:35.560Z"
   },
   {
    "duration": 83,
    "start_time": "2022-06-22T12:02:39.406Z"
   },
   {
    "duration": 14,
    "start_time": "2022-06-22T12:02:43.161Z"
   },
   {
    "duration": 44,
    "start_time": "2022-06-22T12:02:47.392Z"
   },
   {
    "duration": 28,
    "start_time": "2022-06-22T12:02:49.886Z"
   },
   {
    "duration": 61,
    "start_time": "2022-06-22T12:02:52.360Z"
   },
   {
    "duration": 25,
    "start_time": "2022-06-22T12:02:55.321Z"
   },
   {
    "duration": 22,
    "start_time": "2022-06-22T12:02:57.427Z"
   },
   {
    "duration": 6,
    "start_time": "2022-06-22T12:03:00.223Z"
   },
   {
    "duration": 42,
    "start_time": "2022-06-22T12:03:02.465Z"
   },
   {
    "duration": 25,
    "start_time": "2022-06-22T12:03:05.118Z"
   },
   {
    "duration": 24,
    "start_time": "2022-06-22T12:03:08.362Z"
   },
   {
    "duration": 251,
    "start_time": "2022-06-22T12:03:14.833Z"
   },
   {
    "duration": 18,
    "start_time": "2022-06-22T12:03:17.371Z"
   },
   {
    "duration": 235,
    "start_time": "2022-06-22T12:03:23.661Z"
   },
   {
    "duration": 20,
    "start_time": "2022-06-22T12:03:27.358Z"
   },
   {
    "duration": 24,
    "start_time": "2022-06-22T12:03:33.815Z"
   },
   {
    "duration": 2805,
    "start_time": "2022-06-22T12:03:39.443Z"
   },
   {
    "duration": 338,
    "start_time": "2022-06-22T12:03:45.394Z"
   },
   {
    "duration": 23,
    "start_time": "2022-06-22T12:03:49.192Z"
   },
   {
    "duration": 18,
    "start_time": "2022-06-22T12:03:54.719Z"
   },
   {
    "duration": 76,
    "start_time": "2022-06-22T12:03:59.469Z"
   },
   {
    "duration": 75,
    "start_time": "2022-06-22T12:04:04.068Z"
   },
   {
    "duration": 3,
    "start_time": "2022-06-22T12:04:08.744Z"
   },
   {
    "duration": 698,
    "start_time": "2022-06-22T12:04:10.867Z"
   },
   {
    "duration": 3,
    "start_time": "2022-06-22T12:04:14.961Z"
   },
   {
    "duration": 211,
    "start_time": "2022-06-22T12:04:16.480Z"
   },
   {
    "duration": 70,
    "start_time": "2022-06-22T12:04:19.235Z"
   },
   {
    "duration": 4,
    "start_time": "2022-06-22T12:04:20.371Z"
   },
   {
    "duration": 29,
    "start_time": "2022-06-22T12:04:24.122Z"
   },
   {
    "duration": 3,
    "start_time": "2022-06-22T12:04:27.846Z"
   },
   {
    "duration": 276,
    "start_time": "2022-06-22T12:04:32.030Z"
   },
   {
    "duration": 407,
    "start_time": "2022-06-22T12:04:37.065Z"
   },
   {
    "duration": 11,
    "start_time": "2022-06-22T12:04:42.133Z"
   },
   {
    "duration": 6,
    "start_time": "2022-06-22T12:04:46.735Z"
   },
   {
    "duration": 13687,
    "start_time": "2022-06-22T12:04:49.873Z"
   },
   {
    "duration": 14,
    "start_time": "2022-06-22T12:05:19.355Z"
   },
   {
    "duration": 650,
    "start_time": "2022-06-22T12:05:22.509Z"
   },
   {
    "duration": 11,
    "start_time": "2022-06-22T12:05:26.113Z"
   },
   {
    "duration": 4,
    "start_time": "2022-06-22T12:05:29.041Z"
   },
   {
    "duration": 2,
    "start_time": "2022-06-22T12:05:35.410Z"
   },
   {
    "duration": 3,
    "start_time": "2022-06-22T12:05:36.224Z"
   },
   {
    "duration": 133,
    "start_time": "2022-06-22T12:05:41.043Z"
   },
   {
    "duration": 183,
    "start_time": "2022-06-22T12:05:44.199Z"
   },
   {
    "duration": 140284,
    "start_time": "2022-06-22T12:05:49.829Z"
   },
   {
    "duration": 963,
    "start_time": "2022-06-22T12:08:20.191Z"
   },
   {
    "duration": 4,
    "start_time": "2022-06-22T12:08:22.820Z"
   },
   {
    "duration": 8546,
    "start_time": "2022-06-22T12:08:28.515Z"
   },
   {
    "duration": 12704,
    "start_time": "2022-06-22T12:08:42.270Z"
   },
   {
    "duration": 887,
    "start_time": "2022-06-22T12:08:54.975Z"
   },
   {
    "duration": 5,
    "start_time": "2022-06-22T12:08:55.863Z"
   },
   {
    "duration": 11,
    "start_time": "2022-06-22T12:09:03.907Z"
   },
   {
    "duration": 10372,
    "start_time": "2022-06-22T12:09:04.893Z"
   },
   {
    "duration": 794,
    "start_time": "2022-06-22T12:09:23.365Z"
   },
   {
    "duration": 5,
    "start_time": "2022-06-22T12:09:27.074Z"
   },
   {
    "duration": 62,
    "start_time": "2022-06-22T13:04:04.726Z"
   },
   {
    "duration": 21,
    "start_time": "2022-06-22T13:04:23.395Z"
   },
   {
    "duration": 12,
    "start_time": "2022-06-22T13:16:44.804Z"
   },
   {
    "duration": 28,
    "start_time": "2022-06-22T13:29:44.444Z"
   },
   {
    "duration": 19325,
    "start_time": "2022-06-22T13:29:47.339Z"
   },
   {
    "duration": 418,
    "start_time": "2022-06-22T13:30:13.441Z"
   },
   {
    "duration": 6,
    "start_time": "2022-06-22T13:30:17.345Z"
   }
  ],
  "kernelspec": {
   "display_name": "Python 3 (ipykernel)",
   "language": "python",
   "name": "python3"
  },
  "language_info": {
   "codemirror_mode": {
    "name": "ipython",
    "version": 3
   },
   "file_extension": ".py",
   "mimetype": "text/x-python",
   "name": "python",
   "nbconvert_exporter": "python",
   "pygments_lexer": "ipython3",
   "version": "3.9.7"
  },
  "toc": {
   "base_numbering": 1,
   "nav_menu": {},
   "number_sections": true,
   "sideBar": true,
   "skip_h1_title": true,
   "title_cell": "Table of Contents",
   "title_sidebar": "Contents",
   "toc_cell": false,
   "toc_position": {},
   "toc_section_display": true,
   "toc_window_display": true
  }
 },
 "nbformat": 4,
 "nbformat_minor": 2
}
