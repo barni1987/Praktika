{
 "cells": [
  {
   "cell_type": "markdown",
   "metadata": {
    "id": "E0vqbgi9ay0H"
   },
   "source": [
    "# Яндекс.Музыка"
   ]
  },
  {
   "cell_type": "markdown",
   "metadata": {
    "id": "VUC88oWjTJw2"
   },
   "source": [
    "Сравнение Москвы и Петербурга окружено мифами. Например:\n",
    " * Москва — мегаполис, подчинённый жёсткому ритму рабочей недели;\n",
    " * Петербург — культурная столица, со своими вкусами.\n",
    "\n",
    "На данных Яндекс.Музыки вы сравните поведение пользователей двух столиц.\n",
    "\n",
    "**Цель исследования** — проверьте три гипотезы:\n",
    "1. Активность пользователей зависит от дня недели. Причём в Москве и Петербурге это проявляется по-разному.\n",
    "2. В понедельник утром в Москве преобладают одни жанры, а в Петербурге — другие. Так же и вечером пятницы преобладают разные жанры — в зависимости от города. \n",
    "3. Москва и Петербург предпочитают разные жанры музыки. В Москве чаще слушают поп-музыку, в Петербурге — русский рэп.\n",
    "\n",
    "**Ход исследования**\n",
    "\n",
    "Данные о поведении пользователей вы получите из файла `yandex_music_project.csv`. О качестве данных ничего не известно. Поэтому перед проверкой гипотез понадобится обзор данных. \n",
    "\n",
    "Вы проверите данные на ошибки и оцените их влияние на исследование. Затем, на этапе предобработки вы поищете возможность исправить самые критичные ошибки данных.\n",
    " \n",
    "Таким образом, исследование пройдёт в три этапа:\n",
    " 1. Обзор данных.\n",
    " 2. Предобработка данных.\n",
    " 3. Проверка гипотез.\n",
    "\n"
   ]
  },
  {
   "cell_type": "markdown",
   "metadata": {
    "id": "Ml1hmfXC_Zcs"
   },
   "source": [
    "## Обзор данных\n",
    "\n",
    "Составьте первое представление о данных Яндекс.Музыки.\n",
    "\n",
    "\n"
   ]
  },
  {
   "cell_type": "markdown",
   "metadata": {
    "id": "57eAOGIz_Zcs"
   },
   "source": [
    "Основной инструмент аналитика — `pandas`. Импортируйте эту библиотеку."
   ]
  },
  {
   "cell_type": "code",
   "execution_count": 1,
   "metadata": {
    "id": "AXN7PHPN_Zcs"
   },
   "outputs": [],
   "source": [
    "import pandas as pd# импорт библиотеки pandas"
   ]
  },
  {
   "cell_type": "markdown",
   "metadata": {
    "id": "SG23P8tt_Zcs"
   },
   "source": [
    "Прочитайте файл `yandex_music_project.csv` из папки `/datasets` и сохраните его в переменной `df`:"
   ]
  },
  {
   "cell_type": "code",
   "execution_count": 2,
   "metadata": {
    "id": "fFVu7vqh_Zct"
   },
   "outputs": [],
   "source": [
    "df = pd.read_csv('/datasets/yandex_music_project.csv')# чтение файла с данными и сохранение в df"
   ]
  },
  {
   "cell_type": "markdown",
   "metadata": {
    "id": "rDoOMd3uTqnZ"
   },
   "source": [
    "Выведите на экран первые десять строк таблицы:"
   ]
  },
  {
   "cell_type": "code",
   "execution_count": 3,
   "metadata": {
    "id": "oWTVX3gW_Zct"
   },
   "outputs": [
    {
     "data": {
      "text/html": [
       "<div>\n",
       "<style scoped>\n",
       "    .dataframe tbody tr th:only-of-type {\n",
       "        vertical-align: middle;\n",
       "    }\n",
       "\n",
       "    .dataframe tbody tr th {\n",
       "        vertical-align: top;\n",
       "    }\n",
       "\n",
       "    .dataframe thead th {\n",
       "        text-align: right;\n",
       "    }\n",
       "</style>\n",
       "<table border=\"1\" class=\"dataframe\">\n",
       "  <thead>\n",
       "    <tr style=\"text-align: right;\">\n",
       "      <th></th>\n",
       "      <th>userID</th>\n",
       "      <th>Track</th>\n",
       "      <th>artist</th>\n",
       "      <th>genre</th>\n",
       "      <th>City</th>\n",
       "      <th>time</th>\n",
       "      <th>Day</th>\n",
       "    </tr>\n",
       "  </thead>\n",
       "  <tbody>\n",
       "    <tr>\n",
       "      <td>0</td>\n",
       "      <td>FFB692EC</td>\n",
       "      <td>Kamigata To Boots</td>\n",
       "      <td>The Mass Missile</td>\n",
       "      <td>rock</td>\n",
       "      <td>Saint-Petersburg</td>\n",
       "      <td>20:28:33</td>\n",
       "      <td>Wednesday</td>\n",
       "    </tr>\n",
       "    <tr>\n",
       "      <td>1</td>\n",
       "      <td>55204538</td>\n",
       "      <td>Delayed Because of Accident</td>\n",
       "      <td>Andreas Rönnberg</td>\n",
       "      <td>rock</td>\n",
       "      <td>Moscow</td>\n",
       "      <td>14:07:09</td>\n",
       "      <td>Friday</td>\n",
       "    </tr>\n",
       "    <tr>\n",
       "      <td>2</td>\n",
       "      <td>20EC38</td>\n",
       "      <td>Funiculì funiculà</td>\n",
       "      <td>Mario Lanza</td>\n",
       "      <td>pop</td>\n",
       "      <td>Saint-Petersburg</td>\n",
       "      <td>20:58:07</td>\n",
       "      <td>Wednesday</td>\n",
       "    </tr>\n",
       "    <tr>\n",
       "      <td>3</td>\n",
       "      <td>A3DD03C9</td>\n",
       "      <td>Dragons in the Sunset</td>\n",
       "      <td>Fire + Ice</td>\n",
       "      <td>folk</td>\n",
       "      <td>Saint-Petersburg</td>\n",
       "      <td>08:37:09</td>\n",
       "      <td>Monday</td>\n",
       "    </tr>\n",
       "    <tr>\n",
       "      <td>4</td>\n",
       "      <td>E2DC1FAE</td>\n",
       "      <td>Soul People</td>\n",
       "      <td>Space Echo</td>\n",
       "      <td>dance</td>\n",
       "      <td>Moscow</td>\n",
       "      <td>08:34:34</td>\n",
       "      <td>Monday</td>\n",
       "    </tr>\n",
       "    <tr>\n",
       "      <td>5</td>\n",
       "      <td>842029A1</td>\n",
       "      <td>Преданная</td>\n",
       "      <td>IMPERVTOR</td>\n",
       "      <td>rusrap</td>\n",
       "      <td>Saint-Petersburg</td>\n",
       "      <td>13:09:41</td>\n",
       "      <td>Friday</td>\n",
       "    </tr>\n",
       "    <tr>\n",
       "      <td>6</td>\n",
       "      <td>4CB90AA5</td>\n",
       "      <td>True</td>\n",
       "      <td>Roman Messer</td>\n",
       "      <td>dance</td>\n",
       "      <td>Moscow</td>\n",
       "      <td>13:00:07</td>\n",
       "      <td>Wednesday</td>\n",
       "    </tr>\n",
       "    <tr>\n",
       "      <td>7</td>\n",
       "      <td>F03E1C1F</td>\n",
       "      <td>Feeling This Way</td>\n",
       "      <td>Polina Griffith</td>\n",
       "      <td>dance</td>\n",
       "      <td>Moscow</td>\n",
       "      <td>20:47:49</td>\n",
       "      <td>Wednesday</td>\n",
       "    </tr>\n",
       "    <tr>\n",
       "      <td>8</td>\n",
       "      <td>8FA1D3BE</td>\n",
       "      <td>И вновь продолжается бой</td>\n",
       "      <td>NaN</td>\n",
       "      <td>ruspop</td>\n",
       "      <td>Moscow</td>\n",
       "      <td>09:17:40</td>\n",
       "      <td>Friday</td>\n",
       "    </tr>\n",
       "    <tr>\n",
       "      <td>9</td>\n",
       "      <td>E772D5C0</td>\n",
       "      <td>Pessimist</td>\n",
       "      <td>NaN</td>\n",
       "      <td>dance</td>\n",
       "      <td>Saint-Petersburg</td>\n",
       "      <td>21:20:49</td>\n",
       "      <td>Wednesday</td>\n",
       "    </tr>\n",
       "  </tbody>\n",
       "</table>\n",
       "</div>"
      ],
      "text/plain": [
       "     userID                        Track            artist   genre  \\\n",
       "0  FFB692EC            Kamigata To Boots  The Mass Missile    rock   \n",
       "1  55204538  Delayed Because of Accident  Andreas Rönnberg    rock   \n",
       "2    20EC38            Funiculì funiculà       Mario Lanza     pop   \n",
       "3  A3DD03C9        Dragons in the Sunset        Fire + Ice    folk   \n",
       "4  E2DC1FAE                  Soul People        Space Echo   dance   \n",
       "5  842029A1                    Преданная         IMPERVTOR  rusrap   \n",
       "6  4CB90AA5                         True      Roman Messer   dance   \n",
       "7  F03E1C1F             Feeling This Way   Polina Griffith   dance   \n",
       "8  8FA1D3BE     И вновь продолжается бой               NaN  ruspop   \n",
       "9  E772D5C0                    Pessimist               NaN   dance   \n",
       "\n",
       "             City        time        Day  \n",
       "0  Saint-Petersburg  20:28:33  Wednesday  \n",
       "1            Moscow  14:07:09     Friday  \n",
       "2  Saint-Petersburg  20:58:07  Wednesday  \n",
       "3  Saint-Petersburg  08:37:09     Monday  \n",
       "4            Moscow  08:34:34     Monday  \n",
       "5  Saint-Petersburg  13:09:41     Friday  \n",
       "6            Moscow  13:00:07  Wednesday  \n",
       "7            Moscow  20:47:49  Wednesday  \n",
       "8            Moscow  09:17:40     Friday  \n",
       "9  Saint-Petersburg  21:20:49  Wednesday  "
      ]
     },
     "execution_count": 3,
     "metadata": {},
     "output_type": "execute_result"
    }
   ],
   "source": [
    "df.head(10)# получение первых 10 строк таблицы df"
   ]
  },
  {
   "cell_type": "markdown",
   "metadata": {
    "id": "EO73Kwic_Zct"
   },
   "source": [
    "Одной командой получить общую информацию о таблице:"
   ]
  },
  {
   "cell_type": "code",
   "execution_count": 4,
   "metadata": {},
   "outputs": [
    {
     "data": {
      "text/html": [
       "<div>\n",
       "<style scoped>\n",
       "    .dataframe tbody tr th:only-of-type {\n",
       "        vertical-align: middle;\n",
       "    }\n",
       "\n",
       "    .dataframe tbody tr th {\n",
       "        vertical-align: top;\n",
       "    }\n",
       "\n",
       "    .dataframe thead th {\n",
       "        text-align: right;\n",
       "    }\n",
       "</style>\n",
       "<table border=\"1\" class=\"dataframe\">\n",
       "  <thead>\n",
       "    <tr style=\"text-align: right;\">\n",
       "      <th></th>\n",
       "      <th>userID</th>\n",
       "      <th>Track</th>\n",
       "      <th>artist</th>\n",
       "      <th>genre</th>\n",
       "      <th>City</th>\n",
       "      <th>time</th>\n",
       "      <th>Day</th>\n",
       "    </tr>\n",
       "  </thead>\n",
       "  <tbody>\n",
       "    <tr>\n",
       "      <td>65074</td>\n",
       "      <td>729CBB09</td>\n",
       "      <td>My Name</td>\n",
       "      <td>McLean</td>\n",
       "      <td>rnb</td>\n",
       "      <td>Moscow</td>\n",
       "      <td>13:32:28</td>\n",
       "      <td>Wednesday</td>\n",
       "    </tr>\n",
       "    <tr>\n",
       "      <td>65075</td>\n",
       "      <td>D08D4A55</td>\n",
       "      <td>Maybe One Day (feat. Black Spade)</td>\n",
       "      <td>Blu &amp; Exile</td>\n",
       "      <td>hip</td>\n",
       "      <td>Saint-Petersburg</td>\n",
       "      <td>10:00:00</td>\n",
       "      <td>Monday</td>\n",
       "    </tr>\n",
       "    <tr>\n",
       "      <td>65076</td>\n",
       "      <td>C5E3A0D5</td>\n",
       "      <td>Jalopiina</td>\n",
       "      <td>NaN</td>\n",
       "      <td>industrial</td>\n",
       "      <td>Moscow</td>\n",
       "      <td>20:09:26</td>\n",
       "      <td>Friday</td>\n",
       "    </tr>\n",
       "    <tr>\n",
       "      <td>65077</td>\n",
       "      <td>321D0506</td>\n",
       "      <td>Freight Train</td>\n",
       "      <td>Chas McDevitt</td>\n",
       "      <td>rock</td>\n",
       "      <td>Moscow</td>\n",
       "      <td>21:43:59</td>\n",
       "      <td>Friday</td>\n",
       "    </tr>\n",
       "    <tr>\n",
       "      <td>65078</td>\n",
       "      <td>3A64EF84</td>\n",
       "      <td>Tell Me Sweet Little Lies</td>\n",
       "      <td>Monica Lopez</td>\n",
       "      <td>country</td>\n",
       "      <td>Moscow</td>\n",
       "      <td>21:59:46</td>\n",
       "      <td>Friday</td>\n",
       "    </tr>\n",
       "  </tbody>\n",
       "</table>\n",
       "</div>"
      ],
      "text/plain": [
       "         userID                              Track         artist       genre  \\\n",
       "65074  729CBB09                            My Name         McLean         rnb   \n",
       "65075  D08D4A55  Maybe One Day (feat. Black Spade)    Blu & Exile         hip   \n",
       "65076  C5E3A0D5                          Jalopiina            NaN  industrial   \n",
       "65077  321D0506                      Freight Train  Chas McDevitt        rock   \n",
       "65078  3A64EF84          Tell Me Sweet Little Lies   Monica Lopez     country   \n",
       "\n",
       "                 City        time        Day  \n",
       "65074            Moscow  13:32:28  Wednesday  \n",
       "65075  Saint-Petersburg  10:00:00     Monday  \n",
       "65076            Moscow  20:09:26     Friday  \n",
       "65077            Moscow  21:43:59     Friday  \n",
       "65078            Moscow  21:59:46     Friday  "
      ]
     },
     "execution_count": 4,
     "metadata": {},
     "output_type": "execute_result"
    }
   ],
   "source": [
    "# Комментарий ревьюера\n",
    "df.tail(5)"
   ]
  },
  {
   "cell_type": "code",
   "execution_count": 5,
   "metadata": {
    "id": "DSf2kIb-_Zct"
   },
   "outputs": [
    {
     "name": "stdout",
     "output_type": "stream",
     "text": [
      "<class 'pandas.core.frame.DataFrame'>\n",
      "RangeIndex: 65079 entries, 0 to 65078\n",
      "Data columns (total 7 columns):\n",
      "  userID    65079 non-null object\n",
      "Track       63848 non-null object\n",
      "artist      57876 non-null object\n",
      "genre       63881 non-null object\n",
      "  City      65079 non-null object\n",
      "time        65079 non-null object\n",
      "Day         65079 non-null object\n",
      "dtypes: object(7)\n",
      "memory usage: 3.5+ MB\n"
     ]
    }
   ],
   "source": [
    "df.info()# получение общей информации о данных в таблице df"
   ]
  },
  {
   "cell_type": "markdown",
   "metadata": {
    "id": "TaQ2Iwbr_Zct"
   },
   "source": [
    "Итак, в таблице семь столбцов. Тип данных во всех столбцах — `object`.\n",
    "\n",
    "Согласно документации к данным:\n",
    "* `userID` — идентификатор пользователя;\n",
    "* `Track` — название трека;  \n",
    "* `artist` — имя исполнителя;\n",
    "* `genre` — название жанра;\n",
    "* `City` — город пользователя;\n",
    "* `time` — время начала прослушивания;\n",
    "* `Day` — день недели.\n",
    "\n",
    "В названиях колонок видны три нарушения стиля:\n",
    "1. Строчные буквы сочетаются с прописными.\n",
    "2. Встречаются пробелы.\n",
    "3. Найдите ещё одну проблему в названии колонок и опишите её в этом пункте.\n",
    "\n"
   ]
  },
  {
   "cell_type": "markdown",
   "metadata": {
    "id": "MCB6-dXG_Zct"
   },
   "source": [
    "**Выводы**\n",
    "\n",
    "В каждой строке таблицы — данные о прослушанном треке. Часть колонок описывает саму композицию: название, исполнителя и жанр. Остальные данные рассказывают о пользователе: из какого он города, когда он слушал музыку. \n",
    "\n",
    "Предварительно можно утверждать, что, данных достаточно для проверки гипотез. Но встречаются пропуски в данных, а в названиях колонок — расхождения с хорошим стилем.\n",
    "\n",
    "Чтобы двигаться дальше, нужно устранить проблемы в данных."
   ]
  },
  {
   "cell_type": "markdown",
   "metadata": {
    "id": "SjYF6Ub9_Zct"
   },
   "source": [
    "## Предобработка данных\n",
    "Исправьте стиль в заголовках столбцов, исключите пропуски. Затем проверьте данные на дубликаты."
   ]
  },
  {
   "cell_type": "markdown",
   "metadata": {
    "id": "dIaKXr29_Zct"
   },
   "source": [
    "### Стиль заголовков\n",
    "Выведите на экран названия столбцов:"
   ]
  },
  {
   "cell_type": "code",
   "execution_count": 6,
   "metadata": {
    "id": "oKOTdF_Q_Zct"
   },
   "outputs": [
    {
     "data": {
      "text/plain": [
       "Index(['  userID', 'Track', 'artist', 'genre', '  City  ', 'time', 'Day'], dtype='object')"
      ]
     },
     "execution_count": 6,
     "metadata": {},
     "output_type": "execute_result"
    }
   ],
   "source": [
    "df.columns# перечень названий столбцов таблицы df"
   ]
  },
  {
   "cell_type": "markdown",
   "metadata": {
    "id": "zj5534cv_Zct"
   },
   "source": [
    "Приведите названия в соответствие с хорошим стилем:\n",
    "* несколько слов в названии запишите в «змеином_регистре»,\n",
    "* все символы сделайте строчными,\n",
    "* устраните пробелы.\n",
    "\n",
    "Для этого переименуйте колонки так:\n",
    "* `'  userID'` → `'user_id'`;\n",
    "* `'Track'` → `'track'`;\n",
    "* `'  City  '` → `'city'`;\n",
    "* `'Day'` → `'day'`."
   ]
  },
  {
   "cell_type": "code",
   "execution_count": 7,
   "metadata": {
    "id": "ISlFqs5y_Zct"
   },
   "outputs": [],
   "source": [
    "df = df.rename(columns={'  userID': 'user_id', 'Track': 'track', '  City  ': 'city', 'Day': 'day'})# переименование столбцов"
   ]
  },
  {
   "cell_type": "markdown",
   "metadata": {
    "id": "1dqbh00J_Zct"
   },
   "source": [
    "Проверьте результат. Для этого ещё раз выведите на экран названия столбцов:"
   ]
  },
  {
   "cell_type": "code",
   "execution_count": 8,
   "metadata": {
    "id": "d4NOAmTW_Zct"
   },
   "outputs": [
    {
     "data": {
      "text/plain": [
       "Index(['user_id', 'track', 'artist', 'genre', 'city', 'time', 'day'], dtype='object')"
      ]
     },
     "execution_count": 8,
     "metadata": {},
     "output_type": "execute_result"
    }
   ],
   "source": [
    "df.columns# проверка результатов - перечень названий столбцов"
   ]
  },
  {
   "cell_type": "markdown",
   "metadata": {
    "id": "5ISfbcfY_Zct"
   },
   "source": [
    "### Пропуски значений\n",
    "Сначала посчитайте, сколько в таблице пропущенных значений. Для этого достаточно двух методов `pandas`:"
   ]
  },
  {
   "cell_type": "code",
   "execution_count": 9,
   "metadata": {
    "id": "RskX29qr_Zct"
   },
   "outputs": [
    {
     "data": {
      "text/plain": [
       "user_id       0\n",
       "track      1231\n",
       "artist     7203\n",
       "genre      1198\n",
       "city          0\n",
       "time          0\n",
       "day           0\n",
       "dtype: int64"
      ]
     },
     "execution_count": 9,
     "metadata": {},
     "output_type": "execute_result"
    }
   ],
   "source": [
    "df.isna().sum()# подсчёт пропусков"
   ]
  },
  {
   "cell_type": "markdown",
   "metadata": {
    "id": "qubhgnlO_Zct"
   },
   "source": [
    "Не все пропущенные значения влияют на исследование. Так в `track` и `artist` пропуски не важны для вашей работы. Достаточно заменить их явными обозначениями.\n",
    "\n",
    "Но пропуски в `genre` могут помешать сравнению музыкальных вкусов в Москве и Санкт-Петербурге. На практике было бы правильно установить причину пропусков и восстановить данные. Такой возможности нет в учебном проекте. Придётся:\n",
    "* заполнить и эти пропуски явными обозначениями,\n",
    "* оценить, насколько они повредят расчётам. "
   ]
  },
  {
   "cell_type": "markdown",
   "metadata": {
    "id": "fSv2laPA_Zct"
   },
   "source": [
    "Замените пропущенные значения в столбцах `track`, `artist` и `genre` на строку `'unknown'`. Для этого создайте список `columns_to_replace`, переберите его элементы циклом `for` и для каждого столбца выполните замену пропущенных значений:"
   ]
  },
  {
   "cell_type": "code",
   "execution_count": 10,
   "metadata": {
    "id": "KplB5qWs_Zct"
   },
   "outputs": [],
   "source": [
    "columns_to_replace = ['track', 'artist', 'genre']\n",
    "for column in columns_to_replace:\n",
    "    df[column] = df[column].fillna('unknown')\n",
    "    # перебор названий столбцов в цикле и замена пропущенных значений на 'unknown'"
   ]
  },
  {
   "cell_type": "markdown",
   "metadata": {
    "id": "Ilsm-MZo_Zct"
   },
   "source": [
    "Убедитесь, что в таблице не осталось пропусков. Для этого ещё раз посчитайте пропущенные значения."
   ]
  },
  {
   "cell_type": "code",
   "execution_count": 11,
   "metadata": {
    "id": "Tq4nYRX4_Zct"
   },
   "outputs": [
    {
     "data": {
      "text/plain": [
       "user_id    0\n",
       "track      0\n",
       "artist     0\n",
       "genre      0\n",
       "city       0\n",
       "time       0\n",
       "day        0\n",
       "dtype: int64"
      ]
     },
     "execution_count": 11,
     "metadata": {},
     "output_type": "execute_result"
    }
   ],
   "source": [
    "df.isna().sum()# подсчёт пропусков"
   ]
  },
  {
   "cell_type": "markdown",
   "metadata": {
    "id": "BWKRtBJ3_Zct"
   },
   "source": [
    "### Дубликаты\n",
    "Посчитайте явные дубликаты в таблице одной командой:"
   ]
  },
  {
   "cell_type": "code",
   "execution_count": 12,
   "metadata": {
    "id": "36eES_S0_Zct"
   },
   "outputs": [
    {
     "data": {
      "text/plain": [
       "3826"
      ]
     },
     "execution_count": 12,
     "metadata": {},
     "output_type": "execute_result"
    }
   ],
   "source": [
    "df.duplicated().sum()# подсчёт явных дубликатов"
   ]
  },
  {
   "cell_type": "markdown",
   "metadata": {
    "id": "Ot25h6XR_Zct"
   },
   "source": [
    "Вызовите специальный метод `pandas`, чтобы удалить явные дубликаты:"
   ]
  },
  {
   "cell_type": "code",
   "execution_count": 13,
   "metadata": {
    "id": "exFHq6tt_Zct"
   },
   "outputs": [],
   "source": [
    "df = df.drop_duplicates().reset_index(drop = True) # удаление явных дубликатов (с удалением старых индексов и формированием новых)"
   ]
  },
  {
   "cell_type": "markdown",
   "metadata": {
    "id": "Im2YwBEG_Zct"
   },
   "source": [
    "Ещё раз посчитайте явные дубликаты в таблице — убедитесь, что полностью от них избавились:"
   ]
  },
  {
   "cell_type": "code",
   "execution_count": 14,
   "metadata": {
    "id": "-8PuNWQ0_Zct"
   },
   "outputs": [
    {
     "data": {
      "text/plain": [
       "0"
      ]
     },
     "execution_count": 14,
     "metadata": {},
     "output_type": "execute_result"
    }
   ],
   "source": [
    "df.duplicated().sum()# проверка на отсутствие дубликатов"
   ]
  },
  {
   "cell_type": "markdown",
   "metadata": {
    "id": "QlFBsxAr_Zct"
   },
   "source": [
    "Теперь избавьтесь от неявных дубликатов в колонке `genre`. Например, название одного и того же жанра может быть записано немного по-разному. Такие ошибки тоже повлияют на результат исследования."
   ]
  },
  {
   "cell_type": "markdown",
   "metadata": {
    "id": "eSjWwsOh_Zct"
   },
   "source": [
    "Выведите на экран список уникальных названий жанров, отсортированный в алфавитном порядке. Для этого:\n",
    "* извлеките нужный столбец датафрейма, \n",
    "* примените к нему метод сортировки,\n",
    "* для отсортированного столбца вызовите метод, который вернёт уникальные значения из столбца."
   ]
  },
  {
   "cell_type": "code",
   "execution_count": 15,
   "metadata": {},
   "outputs": [
    {
     "name": "stdout",
     "output_type": "stream",
     "text": [
      "['rock' 'pop' 'folk' 'dance' 'rusrap' 'ruspop' 'world' 'electronic'\n",
      " 'unknown' 'alternative' 'children' 'rnb' 'hip' 'jazz' 'postrock' 'latin'\n",
      " 'classical' 'metal' 'reggae' 'tatar' 'blues' 'instrumental' 'rusrock'\n",
      " 'dnb' 'türk' 'post' 'country' 'psychedelic' 'conjazz' 'indie'\n",
      " 'posthardcore' 'local' 'avantgarde' 'punk' 'videogame' 'techno' 'house'\n",
      " 'christmas' 'melodic' 'caucasian' 'reggaeton' 'soundtrack' 'singer' 'ska'\n",
      " 'shanson' 'ambient' 'film' 'western' 'rap' 'beats' \"hard'n'heavy\"\n",
      " 'progmetal' 'minimal' 'contemporary' 'new' 'soul' 'holiday' 'german'\n",
      " 'tropical' 'fairytail' 'spiritual' 'urban' 'gospel' 'nujazz' 'folkmetal'\n",
      " 'trance' 'miscellaneous' 'anime' 'hardcore' 'progressive' 'chanson'\n",
      " 'numetal' 'vocal' 'estrada' 'russian' 'classicmetal' 'dubstep' 'club'\n",
      " 'deep' 'southern' 'black' 'folkrock' 'fitness' 'french' 'disco'\n",
      " 'religious' 'hiphop' 'drum' 'extrememetal' 'türkçe' 'experimental' 'easy'\n",
      " 'metalcore' 'modern' 'argentinetango' 'old' 'breaks' 'eurofolk'\n",
      " 'stonerrock' 'industrial' 'funk' 'jpop' 'middle' 'variété' 'other'\n",
      " 'adult' 'christian' 'gothic' 'international' 'muslim' 'relax' 'schlager'\n",
      " 'caribbean' 'ukrrock' 'nu' 'breakbeat' 'comedy' 'chill' 'newage'\n",
      " 'specialty' 'uzbek' 'k-pop' 'balkan' 'chinese' 'meditative' 'dub' 'power'\n",
      " 'death' 'grime' 'arabesk' 'romance' 'flamenco' 'leftfield' 'european'\n",
      " 'tech' 'newwave' 'dancehall' 'mpb' 'piano' 'top' 'bigroom' 'opera'\n",
      " 'celtic' 'tradjazz' 'acoustic' 'epicmetal' 'hip-hop' 'historisch'\n",
      " 'downbeat' 'downtempo' 'africa' 'audiobook' 'jewish' 'sängerportrait'\n",
      " 'deutschrock' 'eastern' 'action' 'future' 'electropop' 'folklore'\n",
      " 'bollywood' 'marschmusik' 'rnr' 'karaoke' 'indian' 'rancheras'\n",
      " 'электроника' 'afrikaans' 'tango' 'rhythm' 'sound' 'deutschspr' 'trip'\n",
      " 'lovers' 'choral' 'dancepop' 'podcasts' 'retro' 'smooth' 'mexican'\n",
      " 'brazilian' 'ïîï' 'mood' 'surf' 'author' 'gangsta' 'triphop'\n",
      " 'inspirational' 'idm' 'ethnic' 'bluegrass' 'broadway' 'animated'\n",
      " 'americana' 'karadeniz' 'rockabilly' 'colombian' 'self' 'hop' 'synthrock'\n",
      " 'sertanejo' 'japanese' 'canzone' 'swing' 'lounge' 'sport' 'korean'\n",
      " 'ragga' 'traditional' 'gitarre' 'frankreich' 'alternativepunk' 'emo'\n",
      " 'laiko' 'cantopop' 'glitch' 'documentary' 'rockalternative' 'thrash'\n",
      " 'hymn' 'oceania' 'rockother' 'popeurodance' 'dark' 'vi' 'grunge'\n",
      " 'hardstyle' 'samba' 'garage' 'soft' 'art' 'folktronica' 'entehno'\n",
      " 'mediterranean' 'chamber' 'cuban' 'taraftar' 'rockindie' 'gypsy'\n",
      " 'hardtechno' 'shoegazing' 'skarock' 'bossa' 'salsa' 'latino' 'worldbeat'\n",
      " 'malaysian' 'baile' 'ghazal' 'loungeelectronic' 'arabic' 'popelectronic'\n",
      " 'acid' 'kayokyoku' 'neoklassik' 'tribal' 'tanzorchester' 'native'\n",
      " 'independent' 'cantautori' 'handsup' 'poprussian' 'punjabi' 'synthpop'\n",
      " 'rave' 'französisch' 'quebecois' 'speech' 'soulful' 'teen' 'jam' 'ram'\n",
      " 'horror' 'scenic' 'orchestral' 'neue' 'roots' 'slow' 'jungle' 'indipop'\n",
      " 'axé' 'fado' 'showtunes' 'arena' 'irish' 'mandopop' 'forró' 'popdance'\n",
      " 'dirty' 'regional']\n"
     ]
    }
   ],
   "source": [
    "ds = df['genre'].unique()\n",
    "print(ds) # Просмотр уникальных названий жанров"
   ]
  },
  {
   "cell_type": "code",
   "execution_count": 42,
   "metadata": {
    "id": "JIUcqzZN_Zct"
   },
   "outputs": [
    {
     "name": "stdout",
     "output_type": "stream",
     "text": [
      "['acid' 'acoustic' 'action' 'adult' 'africa' 'afrikaans' 'alternative'\n",
      " 'alternativepunk' 'ambient' 'americana' 'animated' 'anime' 'arabesk'\n",
      " 'arabic' 'arena' 'argentinetango' 'art' 'audiobook' 'author' 'avantgarde'\n",
      " 'axé' 'baile' 'balkan' 'beats' 'bigroom' 'black' 'bluegrass' 'blues'\n",
      " 'bollywood' 'bossa' 'brazilian' 'breakbeat' 'breaks' 'broadway'\n",
      " 'cantautori' 'cantopop' 'canzone' 'caribbean' 'caucasian' 'celtic'\n",
      " 'chamber' 'chanson' 'children' 'chill' 'chinese' 'choral' 'christian'\n",
      " 'christmas' 'classical' 'classicmetal' 'club' 'colombian' 'comedy'\n",
      " 'conjazz' 'contemporary' 'country' 'cuban' 'dance' 'dancehall' 'dancepop'\n",
      " 'dark' 'death' 'deep' 'deutschrock' 'deutschspr' 'dirty' 'disco' 'dnb'\n",
      " 'documentary' 'downbeat' 'downtempo' 'drum' 'dub' 'dubstep' 'eastern'\n",
      " 'easy' 'electronic' 'electropop' 'emo' 'entehno' 'epicmetal' 'estrada'\n",
      " 'ethnic' 'eurofolk' 'european' 'experimental' 'extrememetal' 'fado'\n",
      " 'fairytail' 'film' 'fitness' 'flamenco' 'folk' 'folklore' 'folkmetal'\n",
      " 'folkrock' 'folktronica' 'forró' 'frankreich' 'französisch' 'french'\n",
      " 'funk' 'future' 'gangsta' 'garage' 'german' 'ghazal' 'gitarre' 'glitch'\n",
      " 'gospel' 'gothic' 'grime' 'grunge' 'gypsy' 'handsup' \"hard'n'heavy\"\n",
      " 'hardcore' 'hardstyle' 'hardtechno' 'hip' 'hip-hop' 'hiphop' 'historisch'\n",
      " 'holiday' 'hop' 'horror' 'house' 'hymn' 'idm' 'independent' 'indian'\n",
      " 'indie' 'indipop' 'industrial' 'inspirational' 'instrumental'\n",
      " 'international' 'irish' 'jam' 'japanese' 'jazz' 'jewish' 'jpop' 'jungle'\n",
      " 'k-pop' 'karadeniz' 'karaoke' 'kayokyoku' 'korean' 'laiko' 'latin'\n",
      " 'latino' 'leftfield' 'local' 'lounge' 'loungeelectronic' 'lovers'\n",
      " 'malaysian' 'mandopop' 'marschmusik' 'meditative' 'mediterranean'\n",
      " 'melodic' 'metal' 'metalcore' 'mexican' 'middle' 'minimal'\n",
      " 'miscellaneous' 'modern' 'mood' 'mpb' 'muslim' 'native' 'neoklassik'\n",
      " 'neue' 'new' 'newage' 'newwave' 'nu' 'nujazz' 'numetal' 'oceania' 'old'\n",
      " 'opera' 'orchestral' 'other' 'piano' 'podcasts' 'pop' 'popdance'\n",
      " 'popelectronic' 'popeurodance' 'poprussian' 'post' 'posthardcore'\n",
      " 'postrock' 'power' 'progmetal' 'progressive' 'psychedelic' 'punjabi'\n",
      " 'punk' 'quebecois' 'ragga' 'ram' 'rancheras' 'rap' 'rave' 'reggae'\n",
      " 'reggaeton' 'regional' 'relax' 'religious' 'retro' 'rhythm' 'rnb' 'rnr'\n",
      " 'rock' 'rockabilly' 'rockalternative' 'rockindie' 'rockother' 'romance'\n",
      " 'roots' 'ruspop' 'rusrap' 'rusrock' 'russian' 'salsa' 'samba' 'scenic'\n",
      " 'schlager' 'self' 'sertanejo' 'shanson' 'shoegazing' 'showtunes' 'singer'\n",
      " 'ska' 'skarock' 'slow' 'smooth' 'soft' 'soul' 'soulful' 'sound'\n",
      " 'soundtrack' 'southern' 'specialty' 'speech' 'spiritual' 'sport'\n",
      " 'stonerrock' 'surf' 'swing' 'synthpop' 'synthrock' 'sängerportrait'\n",
      " 'tango' 'tanzorchester' 'taraftar' 'tatar' 'tech' 'techno' 'teen'\n",
      " 'thrash' 'top' 'traditional' 'tradjazz' 'trance' 'tribal' 'trip'\n",
      " 'triphop' 'tropical' 'türk' 'türkçe' 'ukrrock' 'unknown' 'urban' 'uzbek'\n",
      " 'variété' 'vi' 'videogame' 'vocal' 'western' 'world' 'worldbeat' 'ïîï'\n",
      " 'электроника']\n"
     ]
    }
   ],
   "source": [
    "\n",
    "ds.sort()\n",
    "print(ds) # Просмотр уникальных названий жанров, отсортированных в алфавитном порядке\n",
    " "
   ]
  },
  {
   "cell_type": "markdown",
   "metadata": {
    "id": "qej-Qmuo_Zct"
   },
   "source": [
    "Просмотрите список и найдите неявные дубликаты названия `hiphop`. Это могут быть названия с ошибками или альтернативные названия того же жанра.\n",
    "\n",
    "Вы увидите следующие неявные дубликаты:\n",
    "* *hip*,\n",
    "* *hop*,\n",
    "* *hip-hop*.\n",
    "\n",
    "Чтобы очистить от них таблицу, напишите функцию `replace_wrong_genres()` с двумя параметрами: \n",
    "* `wrong_genres` — список дубликатов,\n",
    "* `correct_genre` — строка с правильным значением.\n",
    "\n",
    "Функция должна исправить колонку `genre` в таблице `df`: заменить каждое значение из списка `wrong_genres` на значение из `correct_genre`."
   ]
  },
  {
   "cell_type": "code",
   "execution_count": 17,
   "metadata": {
    "id": "ErNDkmns_Zct"
   },
   "outputs": [],
   "source": [
    "def replace_wrong_genres(wrong_genres,correct_genre): # на вход функции подаются список неправильных значений и строка с правильным значением\n",
    "    for wrong_genre in wrong_genres: # перебираем неправильные имена\n",
    "        df['genre'] = df ['genre'].replace(wrong_genres,correct_genre) # и для каждого неправильного имени вызываем метод replace()\n",
    "        "
   ]
  },
  {
   "cell_type": "markdown",
   "metadata": {
    "id": "aDoBJxbA_Zct"
   },
   "source": [
    "Вызовите `replace_wrong_genres()` и передайте ей такие аргументы, чтобы она устранила неявные дубликаты: вместо `hip`, `hop` и `hip-hop` в таблице должно быть значение `hiphop`:"
   ]
  },
  {
   "cell_type": "code",
   "execution_count": 43,
   "metadata": {
    "id": "YN5i2hpmSo09"
   },
   "outputs": [],
   "source": [
    "duplicates = ['türk'] # список неправильных имён\n",
    "name = 'türkçe' # правильное имя\n",
    "replace_wrong_genres(duplicates,name)# вызов функции, replace_wrong_genres()"
   ]
  },
  {
   "cell_type": "code",
   "execution_count": 44,
   "metadata": {},
   "outputs": [],
   "source": [
    "duplicates = ['hip', 'hip-hop','hip-hop'] # список неправильных имён\n",
    "name = 'hiphop' # правильное имя\n",
    "replace_wrong_genres(duplicates,name)# вызов функции, replace_wrong_genres()"
   ]
  },
  {
   "cell_type": "markdown",
   "metadata": {
    "id": "zQKF16_RG15m"
   },
   "source": [
    "Проверьте, что заменили неправильные названия:\n",
    "\n",
    "*   hip\n",
    "*   hop\n",
    "*   hip-hop\n",
    "\n",
    "Выведите отсортированный список уникальных значений столбца `genre`:"
   ]
  },
  {
   "cell_type": "code",
   "execution_count": 45,
   "metadata": {
    "id": "wvixALnFG15m"
   },
   "outputs": [
    {
     "name": "stdout",
     "output_type": "stream",
     "text": [
      "['rock' 'pop' 'folk' 'dance' 'rusrap' 'ruspop' 'world' 'electronic'\n",
      " 'unknown' 'alternative' 'children' 'rnb' 'hiphop' 'jazz' 'postrock'\n",
      " 'latin' 'classical' 'metal' 'reggae' 'tatar' 'blues' 'instrumental'\n",
      " 'rusrock' 'dnb' 'türkçe' 'post' 'country' 'psychedelic' 'conjazz' 'indie'\n",
      " 'posthardcore' 'local' 'avantgarde' 'punk' 'videogame' 'techno' 'house'\n",
      " 'christmas' 'melodic' 'caucasian' 'reggaeton' 'soundtrack' 'singer' 'ska'\n",
      " 'shanson' 'ambient' 'film' 'western' 'rap' 'beats' \"hard'n'heavy\"\n",
      " 'progmetal' 'minimal' 'contemporary' 'new' 'soul' 'holiday' 'german'\n",
      " 'tropical' 'fairytail' 'spiritual' 'urban' 'gospel' 'nujazz' 'folkmetal'\n",
      " 'trance' 'miscellaneous' 'anime' 'hardcore' 'progressive' 'chanson'\n",
      " 'numetal' 'vocal' 'estrada' 'russian' 'classicmetal' 'dubstep' 'club'\n",
      " 'deep' 'southern' 'black' 'folkrock' 'fitness' 'french' 'disco'\n",
      " 'religious' 'drum' 'extrememetal' 'experimental' 'easy' 'metalcore'\n",
      " 'modern' 'argentinetango' 'old' 'breaks' 'eurofolk' 'stonerrock'\n",
      " 'industrial' 'funk' 'jpop' 'middle' 'variété' 'other' 'adult' 'christian'\n",
      " 'gothic' 'international' 'muslim' 'relax' 'schlager' 'caribbean'\n",
      " 'ukrrock' 'nu' 'breakbeat' 'comedy' 'chill' 'newage' 'specialty' 'uzbek'\n",
      " 'k-pop' 'balkan' 'chinese' 'meditative' 'dub' 'power' 'death' 'grime'\n",
      " 'arabesk' 'romance' 'flamenco' 'leftfield' 'european' 'tech' 'newwave'\n",
      " 'dancehall' 'mpb' 'piano' 'top' 'bigroom' 'opera' 'celtic' 'tradjazz'\n",
      " 'acoustic' 'epicmetal' 'historisch' 'downbeat' 'downtempo' 'africa'\n",
      " 'audiobook' 'jewish' 'sängerportrait' 'deutschrock' 'eastern' 'action'\n",
      " 'future' 'electropop' 'folklore' 'bollywood' 'marschmusik' 'rnr'\n",
      " 'karaoke' 'indian' 'rancheras' 'электроника' 'afrikaans' 'tango' 'rhythm'\n",
      " 'sound' 'deutschspr' 'trip' 'lovers' 'choral' 'dancepop' 'podcasts'\n",
      " 'retro' 'smooth' 'mexican' 'brazilian' 'ïîï' 'mood' 'surf' 'author'\n",
      " 'gangsta' 'triphop' 'inspirational' 'idm' 'ethnic' 'bluegrass' 'broadway'\n",
      " 'animated' 'americana' 'karadeniz' 'rockabilly' 'colombian' 'self' 'hop'\n",
      " 'synthrock' 'sertanejo' 'japanese' 'canzone' 'swing' 'lounge' 'sport'\n",
      " 'korean' 'ragga' 'traditional' 'gitarre' 'frankreich' 'alternativepunk'\n",
      " 'emo' 'laiko' 'cantopop' 'glitch' 'documentary' 'rockalternative'\n",
      " 'thrash' 'hymn' 'oceania' 'rockother' 'popeurodance' 'dark' 'vi' 'grunge'\n",
      " 'hardstyle' 'samba' 'garage' 'soft' 'art' 'folktronica' 'entehno'\n",
      " 'mediterranean' 'chamber' 'cuban' 'taraftar' 'rockindie' 'gypsy'\n",
      " 'hardtechno' 'shoegazing' 'skarock' 'bossa' 'salsa' 'latino' 'worldbeat'\n",
      " 'malaysian' 'baile' 'ghazal' 'loungeelectronic' 'arabic' 'popelectronic'\n",
      " 'acid' 'kayokyoku' 'neoklassik' 'tribal' 'tanzorchester' 'native'\n",
      " 'independent' 'cantautori' 'handsup' 'poprussian' 'punjabi' 'synthpop'\n",
      " 'rave' 'französisch' 'quebecois' 'speech' 'soulful' 'teen' 'jam' 'ram'\n",
      " 'horror' 'scenic' 'orchestral' 'neue' 'roots' 'slow' 'jungle' 'indipop'\n",
      " 'axé' 'fado' 'showtunes' 'arena' 'irish' 'mandopop' 'forró' 'popdance'\n",
      " 'dirty' 'regional']\n"
     ]
    }
   ],
   "source": [
    "ds = df['genre'].unique()# Проверка на неявные дубликаты\n",
    "print(ds)"
   ]
  },
  {
   "cell_type": "code",
   "execution_count": 46,
   "metadata": {},
   "outputs": [
    {
     "name": "stdout",
     "output_type": "stream",
     "text": [
      "['acid' 'acoustic' 'action' 'adult' 'africa' 'afrikaans' 'alternative'\n",
      " 'alternativepunk' 'ambient' 'americana' 'animated' 'anime' 'arabesk'\n",
      " 'arabic' 'arena' 'argentinetango' 'art' 'audiobook' 'author' 'avantgarde'\n",
      " 'axé' 'baile' 'balkan' 'beats' 'bigroom' 'black' 'bluegrass' 'blues'\n",
      " 'bollywood' 'bossa' 'brazilian' 'breakbeat' 'breaks' 'broadway'\n",
      " 'cantautori' 'cantopop' 'canzone' 'caribbean' 'caucasian' 'celtic'\n",
      " 'chamber' 'chanson' 'children' 'chill' 'chinese' 'choral' 'christian'\n",
      " 'christmas' 'classical' 'classicmetal' 'club' 'colombian' 'comedy'\n",
      " 'conjazz' 'contemporary' 'country' 'cuban' 'dance' 'dancehall' 'dancepop'\n",
      " 'dark' 'death' 'deep' 'deutschrock' 'deutschspr' 'dirty' 'disco' 'dnb'\n",
      " 'documentary' 'downbeat' 'downtempo' 'drum' 'dub' 'dubstep' 'eastern'\n",
      " 'easy' 'electronic' 'electropop' 'emo' 'entehno' 'epicmetal' 'estrada'\n",
      " 'ethnic' 'eurofolk' 'european' 'experimental' 'extrememetal' 'fado'\n",
      " 'fairytail' 'film' 'fitness' 'flamenco' 'folk' 'folklore' 'folkmetal'\n",
      " 'folkrock' 'folktronica' 'forró' 'frankreich' 'französisch' 'french'\n",
      " 'funk' 'future' 'gangsta' 'garage' 'german' 'ghazal' 'gitarre' 'glitch'\n",
      " 'gospel' 'gothic' 'grime' 'grunge' 'gypsy' 'handsup' \"hard'n'heavy\"\n",
      " 'hardcore' 'hardstyle' 'hardtechno' 'hiphop' 'historisch' 'holiday' 'hop'\n",
      " 'horror' 'house' 'hymn' 'idm' 'independent' 'indian' 'indie' 'indipop'\n",
      " 'industrial' 'inspirational' 'instrumental' 'international' 'irish' 'jam'\n",
      " 'japanese' 'jazz' 'jewish' 'jpop' 'jungle' 'k-pop' 'karadeniz' 'karaoke'\n",
      " 'kayokyoku' 'korean' 'laiko' 'latin' 'latino' 'leftfield' 'local'\n",
      " 'lounge' 'loungeelectronic' 'lovers' 'malaysian' 'mandopop' 'marschmusik'\n",
      " 'meditative' 'mediterranean' 'melodic' 'metal' 'metalcore' 'mexican'\n",
      " 'middle' 'minimal' 'miscellaneous' 'modern' 'mood' 'mpb' 'muslim'\n",
      " 'native' 'neoklassik' 'neue' 'new' 'newage' 'newwave' 'nu' 'nujazz'\n",
      " 'numetal' 'oceania' 'old' 'opera' 'orchestral' 'other' 'piano' 'podcasts'\n",
      " 'pop' 'popdance' 'popelectronic' 'popeurodance' 'poprussian' 'post'\n",
      " 'posthardcore' 'postrock' 'power' 'progmetal' 'progressive' 'psychedelic'\n",
      " 'punjabi' 'punk' 'quebecois' 'ragga' 'ram' 'rancheras' 'rap' 'rave'\n",
      " 'reggae' 'reggaeton' 'regional' 'relax' 'religious' 'retro' 'rhythm'\n",
      " 'rnb' 'rnr' 'rock' 'rockabilly' 'rockalternative' 'rockindie' 'rockother'\n",
      " 'romance' 'roots' 'ruspop' 'rusrap' 'rusrock' 'russian' 'salsa' 'samba'\n",
      " 'scenic' 'schlager' 'self' 'sertanejo' 'shanson' 'shoegazing' 'showtunes'\n",
      " 'singer' 'ska' 'skarock' 'slow' 'smooth' 'soft' 'soul' 'soulful' 'sound'\n",
      " 'soundtrack' 'southern' 'specialty' 'speech' 'spiritual' 'sport'\n",
      " 'stonerrock' 'surf' 'swing' 'synthpop' 'synthrock' 'sängerportrait'\n",
      " 'tango' 'tanzorchester' 'taraftar' 'tatar' 'tech' 'techno' 'teen'\n",
      " 'thrash' 'top' 'traditional' 'tradjazz' 'trance' 'tribal' 'trip'\n",
      " 'triphop' 'tropical' 'türkçe' 'ukrrock' 'unknown' 'urban' 'uzbek'\n",
      " 'variété' 'vi' 'videogame' 'vocal' 'western' 'world' 'worldbeat' 'ïîï'\n",
      " 'электроника']\n"
     ]
    }
   ],
   "source": [
    "ds.sort()\n",
    "print(ds) # Просмотр уникальных названий жанров, отсортированных в алфавитном порядке"
   ]
  },
  {
   "cell_type": "markdown",
   "metadata": {
    "id": "jz6a9-7HQUDd"
   },
   "source": [
    "**Выводы**\n",
    "\n",
    "Предобработка обнаружила три проблемы в данных:\n",
    "\n",
    "- нарушения в стиле заголовков,\n",
    "- пропущенные значения,\n",
    "- дубликаты — явные и неявные.\n",
    "\n",
    "Вы исправили заголовки, чтобы упростить работу с таблицей. Без дубликатов исследование станет более точным.\n",
    "\n",
    "Пропущенные значения вы заменили на `'unknown'`. Ещё предстоит увидеть, не повредят ли исследованию пропуски в колонке `genre`.\n",
    "\n",
    "Теперь можно перейти к проверке гипотез. "
   ]
  },
  {
   "cell_type": "markdown",
   "metadata": {
    "id": "WttZHXH0SqKk"
   },
   "source": [
    "## Проверка гипотез"
   ]
  },
  {
   "cell_type": "markdown",
   "metadata": {
    "id": "Im936VVi_Zcu"
   },
   "source": [
    "### Сравнение поведения пользователей двух столиц"
   ]
  },
  {
   "cell_type": "markdown",
   "metadata": {
    "id": "nwt_MuaL_Zcu"
   },
   "source": [
    "Первая гипотеза утверждает, что пользователи по-разному слушают музыку в Москве и Санкт-Петербурге. Проверьте это предположение по данным о трёх днях недели — понедельнике, среде и пятнице. Для этого:\n",
    "\n",
    "* Разделите пользователей Москвы и Санкт-Петербурга\n",
    "* Сравните, сколько треков послушала каждая группа пользователей в понедельник, среду и пятницу.\n"
   ]
  },
  {
   "cell_type": "markdown",
   "metadata": {
    "id": "8Dw_YMmT_Zcu"
   },
   "source": [
    "Для тренировки сначала выполните каждый из расчётов по отдельности. \n",
    "\n",
    "Оцените активность пользователей в каждом городе. Сгруппируйте данные по городу и посчитайте прослушивания в каждой группе.\n",
    "\n"
   ]
  },
  {
   "cell_type": "code",
   "execution_count": 48,
   "metadata": {
    "id": "0_Qs96oh_Zcu"
   },
   "outputs": [
    {
     "data": {
      "text/html": [
       "<div>\n",
       "<style scoped>\n",
       "    .dataframe tbody tr th:only-of-type {\n",
       "        vertical-align: middle;\n",
       "    }\n",
       "\n",
       "    .dataframe tbody tr th {\n",
       "        vertical-align: top;\n",
       "    }\n",
       "\n",
       "    .dataframe thead th {\n",
       "        text-align: right;\n",
       "    }\n",
       "</style>\n",
       "<table border=\"1\" class=\"dataframe\">\n",
       "  <thead>\n",
       "    <tr style=\"text-align: right;\">\n",
       "      <th></th>\n",
       "      <th>user_id</th>\n",
       "      <th>track</th>\n",
       "      <th>artist</th>\n",
       "      <th>genre</th>\n",
       "      <th>time</th>\n",
       "      <th>day</th>\n",
       "    </tr>\n",
       "    <tr>\n",
       "      <th>city</th>\n",
       "      <th></th>\n",
       "      <th></th>\n",
       "      <th></th>\n",
       "      <th></th>\n",
       "      <th></th>\n",
       "      <th></th>\n",
       "    </tr>\n",
       "  </thead>\n",
       "  <tbody>\n",
       "    <tr>\n",
       "      <td>Moscow</td>\n",
       "      <td>42741</td>\n",
       "      <td>42741</td>\n",
       "      <td>42741</td>\n",
       "      <td>42741</td>\n",
       "      <td>42741</td>\n",
       "      <td>42741</td>\n",
       "    </tr>\n",
       "    <tr>\n",
       "      <td>Saint-Petersburg</td>\n",
       "      <td>18512</td>\n",
       "      <td>18512</td>\n",
       "      <td>18512</td>\n",
       "      <td>18512</td>\n",
       "      <td>18512</td>\n",
       "      <td>18512</td>\n",
       "    </tr>\n",
       "  </tbody>\n",
       "</table>\n",
       "</div>"
      ],
      "text/plain": [
       "                  user_id  track  artist  genre   time    day\n",
       "city                                                         \n",
       "Moscow              42741  42741   42741  42741  42741  42741\n",
       "Saint-Petersburg    18512  18512   18512  18512  18512  18512"
      ]
     },
     "execution_count": 48,
     "metadata": {},
     "output_type": "execute_result"
    }
   ],
   "source": [
    "df.groupby('city').count()# Подсчёт прослушиваний в каждом городе"
   ]
  },
  {
   "cell_type": "code",
   "execution_count": 49,
   "metadata": {},
   "outputs": [
    {
     "data": {
      "text/plain": [
       "city\n",
       "Moscow              42741\n",
       "Saint-Petersburg    18512\n",
       "Name: track, dtype: int64"
      ]
     },
     "execution_count": 49,
     "metadata": {},
     "output_type": "execute_result"
    }
   ],
   "source": [
    "df.groupby('city')['track'].count()"
   ]
  },
  {
   "cell_type": "markdown",
   "metadata": {
    "id": "dzli3w8o_Zcu"
   },
   "source": [
    "В Москве прослушиваний больше, чем в Петербурге. Из этого не следует, что московские пользователи чаще слушают музыку. Просто самих пользователей в Москве больше.\n",
    "\n",
    "Теперь сгруппируйте данные по дню недели и подсчитайте прослушивания в понедельник, среду и пятницу. Учтите, что в данных есть информация только о прослушиваниях только за эти дни.\n"
   ]
  },
  {
   "cell_type": "code",
   "execution_count": 21,
   "metadata": {
    "id": "uZMKjiJz_Zcu"
   },
   "outputs": [
    {
     "data": {
      "text/html": [
       "<div>\n",
       "<style scoped>\n",
       "    .dataframe tbody tr th:only-of-type {\n",
       "        vertical-align: middle;\n",
       "    }\n",
       "\n",
       "    .dataframe tbody tr th {\n",
       "        vertical-align: top;\n",
       "    }\n",
       "\n",
       "    .dataframe thead th {\n",
       "        text-align: right;\n",
       "    }\n",
       "</style>\n",
       "<table border=\"1\" class=\"dataframe\">\n",
       "  <thead>\n",
       "    <tr style=\"text-align: right;\">\n",
       "      <th></th>\n",
       "      <th>user_id</th>\n",
       "      <th>track</th>\n",
       "      <th>artist</th>\n",
       "      <th>genre</th>\n",
       "      <th>city</th>\n",
       "      <th>time</th>\n",
       "    </tr>\n",
       "    <tr>\n",
       "      <th>day</th>\n",
       "      <th></th>\n",
       "      <th></th>\n",
       "      <th></th>\n",
       "      <th></th>\n",
       "      <th></th>\n",
       "      <th></th>\n",
       "    </tr>\n",
       "  </thead>\n",
       "  <tbody>\n",
       "    <tr>\n",
       "      <td>Friday</td>\n",
       "      <td>21840</td>\n",
       "      <td>21840</td>\n",
       "      <td>21840</td>\n",
       "      <td>21840</td>\n",
       "      <td>21840</td>\n",
       "      <td>21840</td>\n",
       "    </tr>\n",
       "    <tr>\n",
       "      <td>Monday</td>\n",
       "      <td>21354</td>\n",
       "      <td>21354</td>\n",
       "      <td>21354</td>\n",
       "      <td>21354</td>\n",
       "      <td>21354</td>\n",
       "      <td>21354</td>\n",
       "    </tr>\n",
       "    <tr>\n",
       "      <td>Wednesday</td>\n",
       "      <td>18059</td>\n",
       "      <td>18059</td>\n",
       "      <td>18059</td>\n",
       "      <td>18059</td>\n",
       "      <td>18059</td>\n",
       "      <td>18059</td>\n",
       "    </tr>\n",
       "  </tbody>\n",
       "</table>\n",
       "</div>"
      ],
      "text/plain": [
       "           user_id  track  artist  genre   city   time\n",
       "day                                                   \n",
       "Friday       21840  21840   21840  21840  21840  21840\n",
       "Monday       21354  21354   21354  21354  21354  21354\n",
       "Wednesday    18059  18059   18059  18059  18059  18059"
      ]
     },
     "execution_count": 21,
     "metadata": {},
     "output_type": "execute_result"
    }
   ],
   "source": [
    "df.groupby('day').count()# Подсчёт прослушиваний в каждый из трёх дней"
   ]
  },
  {
   "cell_type": "code",
   "execution_count": 50,
   "metadata": {},
   "outputs": [
    {
     "data": {
      "text/plain": [
       "city\n",
       "Moscow              42741\n",
       "Saint-Petersburg    18512\n",
       "Name: artist, dtype: int64"
      ]
     },
     "execution_count": 50,
     "metadata": {},
     "output_type": "execute_result"
    }
   ],
   "source": [
    "df.groupby('city')['artist'].count()"
   ]
  },
  {
   "cell_type": "markdown",
   "metadata": {
    "id": "cC2tNrlL_Zcu"
   },
   "source": [
    "В среднем пользователи из двух городов менее активны по средам. Но картина может измениться, если рассмотреть каждый город в отдельности."
   ]
  },
  {
   "cell_type": "markdown",
   "metadata": {
    "id": "POzs8bGa_Zcu"
   },
   "source": [
    "Вы видели, как работает группировка по городу и по дням недели. Теперь напишите функцию, которая объединит два эти расчёта.\n",
    "\n",
    "Создайте функцию `number_tracks()`, которая посчитает прослушивания для заданного дня и города. Ей понадобятся два параметра:\n",
    "* день недели,\n",
    "* название города.\n",
    "\n",
    "В функции сохраните в переменную строки исходной таблицы, у которых значение:\n",
    "  * в колонке `day` равно параметру `day`,\n",
    "  * в колонке `city` равно параметру `city`.\n",
    "\n",
    "Для этого примените последовательную фильтрацию с логической индексацией.\n",
    "\n",
    "Затем посчитайте значения в столбце `user_id` получившейся таблицы. Результат сохраните в новую переменную. Верните эту переменную из функции."
   ]
  },
  {
   "cell_type": "code",
   "execution_count": 22,
   "metadata": {
    "id": "Nz3GdQB1_Zcu"
   },
   "outputs": [],
   "source": [
    "# <создание функции number_tracks()>\n",
    "def number_tracks(day,city):# Объявляется функция с двумя параметрами: day, city.\n",
    "    track_list = df[(df['day'] == day) & (df['city'] == city)]\n",
    "# В переменной track_list сохраняются те строки таблицы df, для которых \n",
    "# значение в столбце 'day' равно параметру day и одновременно значение\n",
    "# в столбце 'city' равно параметру city (используйте последовательную фильтрацию\n",
    "# с помощью логической индексации).\n",
    "# В переменной track_list_count сохраняется число значений столбца 'user_id',\n",
    "# рассчитанное методом count() для таблицы track_list.\n",
    "    track_list_count = track_list['user_id'].count()\n",
    "# Функция возвращает число - значение track_list_count.\n",
    "    return track_list_count\n",
    "# Функция для подсчёта прослушиваний для конкретного города и дня.\n",
    "# С помощью последовательной фильтрации с логической индексацией она \n",
    "# сначала получит из исходной таблицы строки с нужным днём,\n",
    "# затем из результата отфильтрует строки с нужным городом,\n",
    "# методом count() посчитает количество значений в колонке user_id. \n",
    "# Это количество функция вернёт в качестве результата"
   ]
  },
  {
   "cell_type": "markdown",
   "metadata": {
    "id": "ytf7xFrFJQ2r"
   },
   "source": [
    "Вызовите `number_tracks()` шесть раз, меняя значение параметров — так, чтобы получить данные для каждого города в каждый из трёх дней."
   ]
  },
  {
   "cell_type": "code",
   "execution_count": 23,
   "metadata": {
    "id": "rJcRATNQ_Zcu"
   },
   "outputs": [
    {
     "data": {
      "text/plain": [
       "15740"
      ]
     },
     "execution_count": 23,
     "metadata": {},
     "output_type": "execute_result"
    }
   ],
   "source": [
    "number_tracks('Monday', 'Moscow')# количество прослушиваний в Москве по понедельникам"
   ]
  },
  {
   "cell_type": "code",
   "execution_count": 24,
   "metadata": {
    "id": "hq_ncZ5T_Zcu"
   },
   "outputs": [
    {
     "data": {
      "text/plain": [
       "5614"
      ]
     },
     "execution_count": 24,
     "metadata": {},
     "output_type": "execute_result"
    }
   ],
   "source": [
    "number_tracks('Monday', 'Saint-Petersburg')# количество прослушиваний в Санкт-Петербурге по понедельникам"
   ]
  },
  {
   "cell_type": "code",
   "execution_count": 25,
   "metadata": {
    "id": "_NTy2VPU_Zcu"
   },
   "outputs": [
    {
     "data": {
      "text/plain": [
       "11056"
      ]
     },
     "execution_count": 25,
     "metadata": {},
     "output_type": "execute_result"
    }
   ],
   "source": [
    "number_tracks('Wednesday', 'Moscow')# количество прослушиваний в Москве по средам"
   ]
  },
  {
   "cell_type": "code",
   "execution_count": 26,
   "metadata": {
    "id": "j2y3TAwo_Zcu"
   },
   "outputs": [
    {
     "data": {
      "text/plain": [
       "7003"
      ]
     },
     "execution_count": 26,
     "metadata": {},
     "output_type": "execute_result"
    }
   ],
   "source": [
    "number_tracks('Wednesday', 'Saint-Petersburg')# количество прослушиваний в Санкт-Петербурге по средам"
   ]
  },
  {
   "cell_type": "code",
   "execution_count": 27,
   "metadata": {
    "id": "vYDw5u_K_Zcu"
   },
   "outputs": [
    {
     "data": {
      "text/plain": [
       "15945"
      ]
     },
     "execution_count": 27,
     "metadata": {},
     "output_type": "execute_result"
    }
   ],
   "source": [
    "number_tracks('Friday', 'Moscow')# количество прослушиваний в Москве по пятницам"
   ]
  },
  {
   "cell_type": "code",
   "execution_count": 28,
   "metadata": {
    "id": "8_yzFtW3_Zcu"
   },
   "outputs": [
    {
     "data": {
      "text/plain": [
       "5895"
      ]
     },
     "execution_count": 28,
     "metadata": {},
     "output_type": "execute_result"
    }
   ],
   "source": [
    "number_tracks('Friday', 'Saint-Petersburg')# количество прослушиваний в Санкт-Петербурге по пятницам"
   ]
  },
  {
   "cell_type": "markdown",
   "metadata": {
    "id": "7QXffbO-_Zcu"
   },
   "source": [
    "Создайте c помощью конструктора `pd.DataFrame` таблицу, где\n",
    "* названия колонок — `['city', 'monday', 'wednesday', 'friday']`;\n",
    "* данные — результаты, которые вы получили с помощью `number_tracks`."
   ]
  },
  {
   "cell_type": "code",
   "execution_count": 29,
   "metadata": {
    "id": "APAcLpOr_Zcu"
   },
   "outputs": [
    {
     "data": {
      "text/html": [
       "<div>\n",
       "<style scoped>\n",
       "    .dataframe tbody tr th:only-of-type {\n",
       "        vertical-align: middle;\n",
       "    }\n",
       "\n",
       "    .dataframe tbody tr th {\n",
       "        vertical-align: top;\n",
       "    }\n",
       "\n",
       "    .dataframe thead th {\n",
       "        text-align: right;\n",
       "    }\n",
       "</style>\n",
       "<table border=\"1\" class=\"dataframe\">\n",
       "  <thead>\n",
       "    <tr style=\"text-align: right;\">\n",
       "      <th></th>\n",
       "      <th>user_id</th>\n",
       "      <th>track</th>\n",
       "      <th>artist</th>\n",
       "      <th>genre</th>\n",
       "      <th>city</th>\n",
       "      <th>time</th>\n",
       "      <th>day</th>\n",
       "    </tr>\n",
       "  </thead>\n",
       "  <tbody>\n",
       "    <tr>\n",
       "      <td>0</td>\n",
       "      <td>FFB692EC</td>\n",
       "      <td>Kamigata To Boots</td>\n",
       "      <td>The Mass Missile</td>\n",
       "      <td>rock</td>\n",
       "      <td>Saint-Petersburg</td>\n",
       "      <td>20:28:33</td>\n",
       "      <td>Wednesday</td>\n",
       "    </tr>\n",
       "    <tr>\n",
       "      <td>1</td>\n",
       "      <td>55204538</td>\n",
       "      <td>Delayed Because of Accident</td>\n",
       "      <td>Andreas Rönnberg</td>\n",
       "      <td>rock</td>\n",
       "      <td>Moscow</td>\n",
       "      <td>14:07:09</td>\n",
       "      <td>Friday</td>\n",
       "    </tr>\n",
       "    <tr>\n",
       "      <td>2</td>\n",
       "      <td>20EC38</td>\n",
       "      <td>Funiculì funiculà</td>\n",
       "      <td>Mario Lanza</td>\n",
       "      <td>pop</td>\n",
       "      <td>Saint-Petersburg</td>\n",
       "      <td>20:58:07</td>\n",
       "      <td>Wednesday</td>\n",
       "    </tr>\n",
       "    <tr>\n",
       "      <td>3</td>\n",
       "      <td>A3DD03C9</td>\n",
       "      <td>Dragons in the Sunset</td>\n",
       "      <td>Fire + Ice</td>\n",
       "      <td>folk</td>\n",
       "      <td>Saint-Petersburg</td>\n",
       "      <td>08:37:09</td>\n",
       "      <td>Monday</td>\n",
       "    </tr>\n",
       "    <tr>\n",
       "      <td>4</td>\n",
       "      <td>E2DC1FAE</td>\n",
       "      <td>Soul People</td>\n",
       "      <td>Space Echo</td>\n",
       "      <td>dance</td>\n",
       "      <td>Moscow</td>\n",
       "      <td>08:34:34</td>\n",
       "      <td>Monday</td>\n",
       "    </tr>\n",
       "    <tr>\n",
       "      <td>...</td>\n",
       "      <td>...</td>\n",
       "      <td>...</td>\n",
       "      <td>...</td>\n",
       "      <td>...</td>\n",
       "      <td>...</td>\n",
       "      <td>...</td>\n",
       "      <td>...</td>\n",
       "    </tr>\n",
       "    <tr>\n",
       "      <td>61248</td>\n",
       "      <td>729CBB09</td>\n",
       "      <td>My Name</td>\n",
       "      <td>McLean</td>\n",
       "      <td>rnb</td>\n",
       "      <td>Moscow</td>\n",
       "      <td>13:32:28</td>\n",
       "      <td>Wednesday</td>\n",
       "    </tr>\n",
       "    <tr>\n",
       "      <td>61249</td>\n",
       "      <td>D08D4A55</td>\n",
       "      <td>Maybe One Day (feat. Black Spade)</td>\n",
       "      <td>Blu &amp; Exile</td>\n",
       "      <td>hiphop</td>\n",
       "      <td>Saint-Petersburg</td>\n",
       "      <td>10:00:00</td>\n",
       "      <td>Monday</td>\n",
       "    </tr>\n",
       "    <tr>\n",
       "      <td>61250</td>\n",
       "      <td>C5E3A0D5</td>\n",
       "      <td>Jalopiina</td>\n",
       "      <td>unknown</td>\n",
       "      <td>industrial</td>\n",
       "      <td>Moscow</td>\n",
       "      <td>20:09:26</td>\n",
       "      <td>Friday</td>\n",
       "    </tr>\n",
       "    <tr>\n",
       "      <td>61251</td>\n",
       "      <td>321D0506</td>\n",
       "      <td>Freight Train</td>\n",
       "      <td>Chas McDevitt</td>\n",
       "      <td>rock</td>\n",
       "      <td>Moscow</td>\n",
       "      <td>21:43:59</td>\n",
       "      <td>Friday</td>\n",
       "    </tr>\n",
       "    <tr>\n",
       "      <td>61252</td>\n",
       "      <td>3A64EF84</td>\n",
       "      <td>Tell Me Sweet Little Lies</td>\n",
       "      <td>Monica Lopez</td>\n",
       "      <td>country</td>\n",
       "      <td>Moscow</td>\n",
       "      <td>21:59:46</td>\n",
       "      <td>Friday</td>\n",
       "    </tr>\n",
       "  </tbody>\n",
       "</table>\n",
       "<p>61253 rows × 7 columns</p>\n",
       "</div>"
      ],
      "text/plain": [
       "        user_id                              track            artist  \\\n",
       "0      FFB692EC                  Kamigata To Boots  The Mass Missile   \n",
       "1      55204538        Delayed Because of Accident  Andreas Rönnberg   \n",
       "2        20EC38                  Funiculì funiculà       Mario Lanza   \n",
       "3      A3DD03C9              Dragons in the Sunset        Fire + Ice   \n",
       "4      E2DC1FAE                        Soul People        Space Echo   \n",
       "...         ...                                ...               ...   \n",
       "61248  729CBB09                            My Name            McLean   \n",
       "61249  D08D4A55  Maybe One Day (feat. Black Spade)       Blu & Exile   \n",
       "61250  C5E3A0D5                          Jalopiina           unknown   \n",
       "61251  321D0506                      Freight Train     Chas McDevitt   \n",
       "61252  3A64EF84          Tell Me Sweet Little Lies      Monica Lopez   \n",
       "\n",
       "            genre              city      time        day  \n",
       "0            rock  Saint-Petersburg  20:28:33  Wednesday  \n",
       "1            rock            Moscow  14:07:09     Friday  \n",
       "2             pop  Saint-Petersburg  20:58:07  Wednesday  \n",
       "3            folk  Saint-Petersburg  08:37:09     Monday  \n",
       "4           dance            Moscow  08:34:34     Monday  \n",
       "...           ...               ...       ...        ...  \n",
       "61248         rnb            Moscow  13:32:28  Wednesday  \n",
       "61249      hiphop  Saint-Petersburg  10:00:00     Monday  \n",
       "61250  industrial            Moscow  20:09:26     Friday  \n",
       "61251        rock            Moscow  21:43:59     Friday  \n",
       "61252     country            Moscow  21:59:46     Friday  \n",
       "\n",
       "[61253 rows x 7 columns]"
      ]
     },
     "execution_count": 29,
     "metadata": {},
     "output_type": "execute_result"
    }
   ],
   "source": [
    "data = [['Moscow', 15740, 11056, 15945],\n",
    "        ['Saint-Petersburg', 5614, 7003, 5895]] \n",
    "columns = ['city', 'monday', 'wednesday', 'friday'] \n",
    "table = pd.DataFrame(data = data, columns = columns) \n",
    "df # Таблица с результатами"
   ]
  },
  {
   "cell_type": "markdown",
   "metadata": {
    "id": "-EgPIHYu_Zcu"
   },
   "source": [
    "**Выводы**\n",
    "\n",
    "Данные показывают разницу поведения пользователей:\n",
    "\n",
    "- В Москве пик прослушиваний приходится на понедельник и пятницу, а в среду заметен спад.\n",
    "- В Петербурге, наоборот, больше слушают музыку по средам. Активность в понедельник и пятницу здесь почти в равной мере уступает среде.\n",
    "\n",
    "Значит, данные говорят в пользу первой гипотезы."
   ]
  },
  {
   "cell_type": "markdown",
   "metadata": {
    "id": "atZAxtq4_Zcu"
   },
   "source": [
    "### Музыка в начале и в конце недели"
   ]
  },
  {
   "cell_type": "markdown",
   "metadata": {
    "id": "eXrQqXFH_Zcu"
   },
   "source": [
    "Согласно второй гипотезе, утром в понедельник в Москве преобладают одни жанры, а в Петербурге — другие. Так же и вечером пятницы преобладают разные жанры — в зависимости от города."
   ]
  },
  {
   "cell_type": "markdown",
   "metadata": {
    "id": "S8UcW6Hw_Zcu"
   },
   "source": [
    "Сохраните таблицы с данными в две переменные:\n",
    "* по Москве — в `moscow_general`;\n",
    "* по Санкт-Петербургу — в `spb_general`."
   ]
  },
  {
   "cell_type": "code",
   "execution_count": 30,
   "metadata": {
    "id": "qeaFfM_P_Zcu"
   },
   "outputs": [
    {
     "data": {
      "text/html": [
       "<div>\n",
       "<style scoped>\n",
       "    .dataframe tbody tr th:only-of-type {\n",
       "        vertical-align: middle;\n",
       "    }\n",
       "\n",
       "    .dataframe tbody tr th {\n",
       "        vertical-align: top;\n",
       "    }\n",
       "\n",
       "    .dataframe thead th {\n",
       "        text-align: right;\n",
       "    }\n",
       "</style>\n",
       "<table border=\"1\" class=\"dataframe\">\n",
       "  <thead>\n",
       "    <tr style=\"text-align: right;\">\n",
       "      <th></th>\n",
       "      <th>user_id</th>\n",
       "      <th>track</th>\n",
       "      <th>artist</th>\n",
       "      <th>genre</th>\n",
       "      <th>city</th>\n",
       "      <th>time</th>\n",
       "      <th>day</th>\n",
       "    </tr>\n",
       "  </thead>\n",
       "  <tbody>\n",
       "    <tr>\n",
       "      <td>1</td>\n",
       "      <td>55204538</td>\n",
       "      <td>Delayed Because of Accident</td>\n",
       "      <td>Andreas Rönnberg</td>\n",
       "      <td>rock</td>\n",
       "      <td>Moscow</td>\n",
       "      <td>14:07:09</td>\n",
       "      <td>Friday</td>\n",
       "    </tr>\n",
       "    <tr>\n",
       "      <td>4</td>\n",
       "      <td>E2DC1FAE</td>\n",
       "      <td>Soul People</td>\n",
       "      <td>Space Echo</td>\n",
       "      <td>dance</td>\n",
       "      <td>Moscow</td>\n",
       "      <td>08:34:34</td>\n",
       "      <td>Monday</td>\n",
       "    </tr>\n",
       "    <tr>\n",
       "      <td>6</td>\n",
       "      <td>4CB90AA5</td>\n",
       "      <td>True</td>\n",
       "      <td>Roman Messer</td>\n",
       "      <td>dance</td>\n",
       "      <td>Moscow</td>\n",
       "      <td>13:00:07</td>\n",
       "      <td>Wednesday</td>\n",
       "    </tr>\n",
       "    <tr>\n",
       "      <td>7</td>\n",
       "      <td>F03E1C1F</td>\n",
       "      <td>Feeling This Way</td>\n",
       "      <td>Polina Griffith</td>\n",
       "      <td>dance</td>\n",
       "      <td>Moscow</td>\n",
       "      <td>20:47:49</td>\n",
       "      <td>Wednesday</td>\n",
       "    </tr>\n",
       "    <tr>\n",
       "      <td>8</td>\n",
       "      <td>8FA1D3BE</td>\n",
       "      <td>И вновь продолжается бой</td>\n",
       "      <td>unknown</td>\n",
       "      <td>ruspop</td>\n",
       "      <td>Moscow</td>\n",
       "      <td>09:17:40</td>\n",
       "      <td>Friday</td>\n",
       "    </tr>\n",
       "    <tr>\n",
       "      <td>...</td>\n",
       "      <td>...</td>\n",
       "      <td>...</td>\n",
       "      <td>...</td>\n",
       "      <td>...</td>\n",
       "      <td>...</td>\n",
       "      <td>...</td>\n",
       "      <td>...</td>\n",
       "    </tr>\n",
       "    <tr>\n",
       "      <td>61247</td>\n",
       "      <td>83A474E7</td>\n",
       "      <td>I Worship Only What You Bleed</td>\n",
       "      <td>The Black Dahlia Murder</td>\n",
       "      <td>extrememetal</td>\n",
       "      <td>Moscow</td>\n",
       "      <td>21:07:12</td>\n",
       "      <td>Monday</td>\n",
       "    </tr>\n",
       "    <tr>\n",
       "      <td>61248</td>\n",
       "      <td>729CBB09</td>\n",
       "      <td>My Name</td>\n",
       "      <td>McLean</td>\n",
       "      <td>rnb</td>\n",
       "      <td>Moscow</td>\n",
       "      <td>13:32:28</td>\n",
       "      <td>Wednesday</td>\n",
       "    </tr>\n",
       "    <tr>\n",
       "      <td>61250</td>\n",
       "      <td>C5E3A0D5</td>\n",
       "      <td>Jalopiina</td>\n",
       "      <td>unknown</td>\n",
       "      <td>industrial</td>\n",
       "      <td>Moscow</td>\n",
       "      <td>20:09:26</td>\n",
       "      <td>Friday</td>\n",
       "    </tr>\n",
       "    <tr>\n",
       "      <td>61251</td>\n",
       "      <td>321D0506</td>\n",
       "      <td>Freight Train</td>\n",
       "      <td>Chas McDevitt</td>\n",
       "      <td>rock</td>\n",
       "      <td>Moscow</td>\n",
       "      <td>21:43:59</td>\n",
       "      <td>Friday</td>\n",
       "    </tr>\n",
       "    <tr>\n",
       "      <td>61252</td>\n",
       "      <td>3A64EF84</td>\n",
       "      <td>Tell Me Sweet Little Lies</td>\n",
       "      <td>Monica Lopez</td>\n",
       "      <td>country</td>\n",
       "      <td>Moscow</td>\n",
       "      <td>21:59:46</td>\n",
       "      <td>Friday</td>\n",
       "    </tr>\n",
       "  </tbody>\n",
       "</table>\n",
       "<p>42741 rows × 7 columns</p>\n",
       "</div>"
      ],
      "text/plain": [
       "        user_id                          track                   artist  \\\n",
       "1      55204538    Delayed Because of Accident         Andreas Rönnberg   \n",
       "4      E2DC1FAE                    Soul People               Space Echo   \n",
       "6      4CB90AA5                           True             Roman Messer   \n",
       "7      F03E1C1F               Feeling This Way          Polina Griffith   \n",
       "8      8FA1D3BE       И вновь продолжается бой                  unknown   \n",
       "...         ...                            ...                      ...   \n",
       "61247  83A474E7  I Worship Only What You Bleed  The Black Dahlia Murder   \n",
       "61248  729CBB09                        My Name                   McLean   \n",
       "61250  C5E3A0D5                      Jalopiina                  unknown   \n",
       "61251  321D0506                  Freight Train            Chas McDevitt   \n",
       "61252  3A64EF84      Tell Me Sweet Little Lies             Monica Lopez   \n",
       "\n",
       "              genre    city      time        day  \n",
       "1              rock  Moscow  14:07:09     Friday  \n",
       "4             dance  Moscow  08:34:34     Monday  \n",
       "6             dance  Moscow  13:00:07  Wednesday  \n",
       "7             dance  Moscow  20:47:49  Wednesday  \n",
       "8            ruspop  Moscow  09:17:40     Friday  \n",
       "...             ...     ...       ...        ...  \n",
       "61247  extrememetal  Moscow  21:07:12     Monday  \n",
       "61248           rnb  Moscow  13:32:28  Wednesday  \n",
       "61250    industrial  Moscow  20:09:26     Friday  \n",
       "61251          rock  Moscow  21:43:59     Friday  \n",
       "61252       country  Moscow  21:59:46     Friday  \n",
       "\n",
       "[42741 rows x 7 columns]"
      ]
     },
     "execution_count": 30,
     "metadata": {},
     "output_type": "execute_result"
    }
   ],
   "source": [
    "# получение таблицы moscow_general из тех строк таблицы df, \n",
    "# для которых значение в столбце 'city' равно 'Moscow'\n",
    "moscow_general = df[df['city'] == 'Moscow']\n",
    "moscow_general"
   ]
  },
  {
   "cell_type": "code",
   "execution_count": 31,
   "metadata": {
    "id": "ORaVRKto_Zcu"
   },
   "outputs": [
    {
     "data": {
      "text/html": [
       "<div>\n",
       "<style scoped>\n",
       "    .dataframe tbody tr th:only-of-type {\n",
       "        vertical-align: middle;\n",
       "    }\n",
       "\n",
       "    .dataframe tbody tr th {\n",
       "        vertical-align: top;\n",
       "    }\n",
       "\n",
       "    .dataframe thead th {\n",
       "        text-align: right;\n",
       "    }\n",
       "</style>\n",
       "<table border=\"1\" class=\"dataframe\">\n",
       "  <thead>\n",
       "    <tr style=\"text-align: right;\">\n",
       "      <th></th>\n",
       "      <th>user_id</th>\n",
       "      <th>track</th>\n",
       "      <th>artist</th>\n",
       "      <th>genre</th>\n",
       "      <th>city</th>\n",
       "      <th>time</th>\n",
       "      <th>day</th>\n",
       "    </tr>\n",
       "  </thead>\n",
       "  <tbody>\n",
       "    <tr>\n",
       "      <td>0</td>\n",
       "      <td>FFB692EC</td>\n",
       "      <td>Kamigata To Boots</td>\n",
       "      <td>The Mass Missile</td>\n",
       "      <td>rock</td>\n",
       "      <td>Saint-Petersburg</td>\n",
       "      <td>20:28:33</td>\n",
       "      <td>Wednesday</td>\n",
       "    </tr>\n",
       "    <tr>\n",
       "      <td>2</td>\n",
       "      <td>20EC38</td>\n",
       "      <td>Funiculì funiculà</td>\n",
       "      <td>Mario Lanza</td>\n",
       "      <td>pop</td>\n",
       "      <td>Saint-Petersburg</td>\n",
       "      <td>20:58:07</td>\n",
       "      <td>Wednesday</td>\n",
       "    </tr>\n",
       "    <tr>\n",
       "      <td>3</td>\n",
       "      <td>A3DD03C9</td>\n",
       "      <td>Dragons in the Sunset</td>\n",
       "      <td>Fire + Ice</td>\n",
       "      <td>folk</td>\n",
       "      <td>Saint-Petersburg</td>\n",
       "      <td>08:37:09</td>\n",
       "      <td>Monday</td>\n",
       "    </tr>\n",
       "    <tr>\n",
       "      <td>5</td>\n",
       "      <td>842029A1</td>\n",
       "      <td>Преданная</td>\n",
       "      <td>IMPERVTOR</td>\n",
       "      <td>rusrap</td>\n",
       "      <td>Saint-Petersburg</td>\n",
       "      <td>13:09:41</td>\n",
       "      <td>Friday</td>\n",
       "    </tr>\n",
       "    <tr>\n",
       "      <td>9</td>\n",
       "      <td>E772D5C0</td>\n",
       "      <td>Pessimist</td>\n",
       "      <td>unknown</td>\n",
       "      <td>dance</td>\n",
       "      <td>Saint-Petersburg</td>\n",
       "      <td>21:20:49</td>\n",
       "      <td>Wednesday</td>\n",
       "    </tr>\n",
       "  </tbody>\n",
       "</table>\n",
       "</div>"
      ],
      "text/plain": [
       "    user_id                  track            artist   genre  \\\n",
       "0  FFB692EC      Kamigata To Boots  The Mass Missile    rock   \n",
       "2    20EC38      Funiculì funiculà       Mario Lanza     pop   \n",
       "3  A3DD03C9  Dragons in the Sunset        Fire + Ice    folk   \n",
       "5  842029A1              Преданная         IMPERVTOR  rusrap   \n",
       "9  E772D5C0              Pessimist           unknown   dance   \n",
       "\n",
       "               city      time        day  \n",
       "0  Saint-Petersburg  20:28:33  Wednesday  \n",
       "2  Saint-Petersburg  20:58:07  Wednesday  \n",
       "3  Saint-Petersburg  08:37:09     Monday  \n",
       "5  Saint-Petersburg  13:09:41     Friday  \n",
       "9  Saint-Petersburg  21:20:49  Wednesday  "
      ]
     },
     "execution_count": 31,
     "metadata": {},
     "output_type": "execute_result"
    }
   ],
   "source": [
    "# получение таблицы spb_general из тех строк таблицы df,\n",
    "# для которых значение в столбце 'city' равно 'Saint-Petersburg'\n",
    "spb_general = df[df['city'] == 'Saint-Petersburg']\n",
    "spb_general.head()"
   ]
  },
  {
   "cell_type": "markdown",
   "metadata": {
    "id": "MEJV-CX2_Zcu"
   },
   "source": [
    "Создайте функцию `genre_weekday()` с четырьмя параметрами:\n",
    "* таблица (датафрейм) с данными,\n",
    "* день недели,\n",
    "* начальная временная метка в формате 'hh:mm', \n",
    "* последняя временная метка в формате 'hh:mm'.\n",
    "\n",
    "Функция должна вернуть информацию о топ-10 жанров тех треков, которые прослушивали в указанный день, в промежутке между двумя отметками времени."
   ]
  },
  {
   "cell_type": "code",
   "execution_count": 32,
   "metadata": {
    "id": "laJT9BYl_Zcu"
   },
   "outputs": [],
   "source": [
    "# Объявление функции genre_weekday() с параметрами df, day, time1, time2,\n",
    "# которая возвращает информацию о самых популярных жанрах в указанный день в\n",
    "# заданное время:\n",
    "# 1) в переменную genre_df сохраняются те строки переданного датафрейма df, для\n",
    "#    которых одновременно:\n",
    "#    - значение в столбце day равно значению аргумента day\n",
    "#    - значение в столбце time больше значения аргумента time1\n",
    "#    - значение в столбце time меньше значения аргумента time2\n",
    "#    Используйте последовательную фильтрацию с помощью логической индексации.\n",
    "# 2) сгруппировать датафрейм genre_df по столбцу genre, взять один из его\n",
    "#    столбцов и посчитать методом count() количество записей для каждого из\n",
    "#    присутствующих жанров, получившийся Series записать в переменную\n",
    "#    genre_df_count\n",
    "# 3) отсортировать genre_df_count по убыванию встречаемости и сохранить\n",
    "#    в переменную genre_df_sorted\n",
    "# 4) вернуть Series из 10 первых значений genre_df_sorted, это будут топ-10\n",
    "#    популярных жанров (в указанный день, в заданное время)\n",
    "def genre_weekday(df, day, time1, time2): \n",
    "    genre_df = df[(df['day'] == day) & (df['time'] > time1) & (df['time'] < time2)] \n",
    "    genre_df_count = genre_df.groupby('genre')['genre'].count() \n",
    "    genre_df_sorted = genre_df_count.sort_values(ascending=False).head(10) \n",
    "    return genre_df_sorted"
   ]
  },
  {
   "cell_type": "markdown",
   "metadata": {
    "id": "la2s2_PF_Zcu"
   },
   "source": [
    "Cравните результаты функции `genre_weekday()` для Москвы и Санкт-Петербурга в понедельник утром (с 7:00 до 11:00) и в пятницу вечером (с 17:00 до 23:00):"
   ]
  },
  {
   "cell_type": "code",
   "execution_count": 33,
   "metadata": {
    "id": "yz7itPUQ_Zcu"
   },
   "outputs": [
    {
     "data": {
      "text/plain": [
       "genre\n",
       "pop            781\n",
       "dance          549\n",
       "electronic     480\n",
       "rock           474\n",
       "hiphop         285\n",
       "ruspop         186\n",
       "world          181\n",
       "rusrap         175\n",
       "alternative    164\n",
       "unknown        161\n",
       "Name: genre, dtype: int64"
      ]
     },
     "execution_count": 33,
     "metadata": {},
     "output_type": "execute_result"
    }
   ],
   "source": [
    "# вызов функции для утра понедельника в Москве (вместо df — таблица moscow_general)\n",
    "# объекты, хранящие время, являются строками и сравниваются как строки\n",
    "# пример вызова: genre_weekday(moscow_general, 'Monday', '07:00', '11:00')\n",
    "genre_weekday(moscow_general, 'Monday', '07:00', '11:00') "
   ]
  },
  {
   "cell_type": "code",
   "execution_count": 34,
   "metadata": {
    "id": "kwUcHPdy_Zcu"
   },
   "outputs": [
    {
     "data": {
      "text/plain": [
       "genre\n",
       "pop            218\n",
       "dance          182\n",
       "rock           162\n",
       "electronic     147\n",
       "hiphop          80\n",
       "ruspop          64\n",
       "alternative     58\n",
       "rusrap          55\n",
       "jazz            44\n",
       "classical       40\n",
       "Name: genre, dtype: int64"
      ]
     },
     "execution_count": 34,
     "metadata": {},
     "output_type": "execute_result"
    }
   ],
   "source": [
    "genre_weekday(spb_general, 'Monday', '07:00', '11:00')# вызов функции для утра понедельника в Петербурге"
   ]
  },
  {
   "cell_type": "code",
   "execution_count": 35,
   "metadata": {
    "id": "EzXVRE1o_Zcu"
   },
   "outputs": [
    {
     "data": {
      "text/plain": [
       "genre\n",
       "pop            713\n",
       "rock           517\n",
       "dance          495\n",
       "electronic     482\n",
       "hiphop         273\n",
       "world          208\n",
       "ruspop         170\n",
       "alternative    163\n",
       "classical      163\n",
       "rusrap         142\n",
       "Name: genre, dtype: int64"
      ]
     },
     "execution_count": 35,
     "metadata": {},
     "output_type": "execute_result"
    }
   ],
   "source": [
    "genre_weekday(moscow_general, 'Friday', '17:00', '23:00')# вызов функции для вечера пятницы в Москве"
   ]
  },
  {
   "cell_type": "code",
   "execution_count": 36,
   "metadata": {
    "id": "JZaEKu5v_Zcu"
   },
   "outputs": [
    {
     "data": {
      "text/plain": [
       "genre\n",
       "pop            256\n",
       "rock           216\n",
       "electronic     216\n",
       "dance          210\n",
       "hiphop          97\n",
       "alternative     63\n",
       "jazz            61\n",
       "classical       60\n",
       "rusrap          59\n",
       "world           54\n",
       "Name: genre, dtype: int64"
      ]
     },
     "execution_count": 36,
     "metadata": {},
     "output_type": "execute_result"
    }
   ],
   "source": [
    "genre_weekday(spb_general, 'Friday', '17:00', '23:00')# вызов функции для вечера пятницы в Петербурге"
   ]
  },
  {
   "cell_type": "markdown",
   "metadata": {
    "id": "wrCe4MNX_Zcu"
   },
   "source": [
    "**Выводы**\n",
    "\n",
    "Если сравнить топ-10 жанров в понедельник утром, можно сделать такие выводы:\n",
    "\n",
    "1. В Москве и Петербурге слушают похожую музыку. Единственное отличие — в московский рейтинг вошёл жанр “world”, а в петербургский — джаз и классика.\n",
    "\n",
    "2. В Москве пропущенных значений оказалось так много, что значение `'unknown'` заняло десятое место среди самых популярных жанров. Значит, пропущенные значения занимают существенную долю в данных и угрожают достоверности исследования.\n",
    "\n",
    "Вечер пятницы не меняет эту картину. Некоторые жанры поднимаются немного выше, другие спускаются, но в целом топ-10 остаётся тем же самым.\n",
    "\n",
    "Таким образом, вторая гипотеза подтвердилась лишь частично:\n",
    "* Пользователи слушают похожую музыку в начале недели и в конце.\n",
    "* Разница между Москвой и Петербургом не слишком выражена. В Москве чаще слушают русскую популярную музыку, в Петербурге — джаз.\n",
    "\n",
    "Однако пропуски в данных ставят под сомнение этот результат. В Москве их так много, что рейтинг топ-10 мог бы выглядеть иначе, если бы не утерянные  данные о жанрах."
   ]
  },
  {
   "cell_type": "markdown",
   "metadata": {
    "id": "JolODAqr_Zcu"
   },
   "source": [
    "### Жанровые предпочтения в Москве и Петербурге\n",
    "\n",
    "Гипотеза: Петербург — столица рэпа, музыку этого жанра там слушают чаще, чем в Москве.  А Москва — город контрастов, в котором, тем не менее, преобладает поп-музыка."
   ]
  },
  {
   "cell_type": "markdown",
   "metadata": {
    "id": "DlegSvaT_Zcu"
   },
   "source": [
    "Сгруппируйте таблицу `moscow_general` по жанру и посчитайте прослушивания треков каждого жанра методом `count()`. Затем отсортируйте результат в порядке убывания и сохраните его в таблице `moscow_genres`."
   ]
  },
  {
   "cell_type": "code",
   "execution_count": 37,
   "metadata": {
    "id": "r19lIPke_Zcu"
   },
   "outputs": [],
   "source": [
    "# одной строкой: группировка таблицы moscow_general по столбцу 'genre', \n",
    "# подсчёт числа значений 'genre' в этой группировке методом count(), \n",
    "# сортировка получившегося Series в порядке убывания и сохранение в moscow_genres\n",
    "moscow_genres = moscow_general.groupby('genre')['genre'].count().sort_values(ascending = False)"
   ]
  },
  {
   "cell_type": "markdown",
   "metadata": {
    "id": "6kMuomxTiIr8"
   },
   "source": [
    "Выведите на экран первые десять строк `moscow_genres`:"
   ]
  },
  {
   "cell_type": "code",
   "execution_count": 38,
   "metadata": {
    "id": "WhCSooF8_Zcv"
   },
   "outputs": [
    {
     "data": {
      "text/plain": [
       "genre\n",
       "pop            5892\n",
       "dance          4435\n",
       "rock           3965\n",
       "electronic     3786\n",
       "hiphop         2095\n",
       "classical      1616\n",
       "world          1432\n",
       "alternative    1379\n",
       "ruspop         1372\n",
       "rusrap         1161\n",
       "Name: genre, dtype: int64"
      ]
     },
     "execution_count": 38,
     "metadata": {},
     "output_type": "execute_result"
    }
   ],
   "source": [
    "moscow_genres.head(10) # просмотр первых 10 строк moscow_genres"
   ]
  },
  {
   "cell_type": "markdown",
   "metadata": {
    "id": "cnPG2vnN_Zcv"
   },
   "source": [
    "Теперь повторите то же и для Петербурга.\n",
    "\n",
    "Сгруппируйте таблицу `spb_general` по жанру. Посчитайте прослушивания треков каждого жанра. Результат отсортируйте в порядке убывания и сохраните в таблице `spb_genres`:\n"
   ]
  },
  {
   "cell_type": "code",
   "execution_count": 39,
   "metadata": {
    "id": "gluLIpE7_Zcv"
   },
   "outputs": [],
   "source": [
    "# одной строкой: группировка таблицы spb_general по столбцу 'genre', \n",
    "# подсчёт числа значений 'genre' в этой группировке методом count(), \n",
    "# сортировка получившегося Series в порядке убывания и сохранение в spb_genres\n",
    "spb_general = spb_general.groupby('genre')['genre'].count().sort_values(ascending = False)"
   ]
  },
  {
   "cell_type": "markdown",
   "metadata": {
    "id": "5Doha_ODgyQ8"
   },
   "source": [
    "Выведите на экран первые десять строк `spb_genres`:"
   ]
  },
  {
   "cell_type": "code",
   "execution_count": 40,
   "metadata": {
    "id": "uaGJHjVU_Zcv"
   },
   "outputs": [
    {
     "data": {
      "text/plain": [
       "genre\n",
       "pop            2431\n",
       "dance          1932\n",
       "rock           1879\n",
       "electronic     1736\n",
       "hiphop          960\n",
       "alternative     649\n",
       "classical       646\n",
       "rusrap          564\n",
       "ruspop          538\n",
       "world           515\n",
       "Name: genre, dtype: int64"
      ]
     },
     "execution_count": 40,
     "metadata": {},
     "output_type": "execute_result"
    }
   ],
   "source": [
    "spb_general.head(10) # просмотр первых 10 строк "
   ]
  },
  {
   "cell_type": "markdown",
   "metadata": {
    "id": "RY51YJYu_Zcv"
   },
   "source": [
    "**Выводы**"
   ]
  },
  {
   "cell_type": "markdown",
   "metadata": {
    "id": "nVhnJEm__Zcv"
   },
   "source": [
    "Гипотеза частично подтвердилась:\n",
    "* Поп-музыка — самый популярный жанр в Москве, как и предполагала гипотеза. Более того, в топ-10 жанров встречается близкий жанр — русская популярная музыка.\n",
    "* Вопреки ожиданиям, рэп одинаково популярен в Москве и Петербурге. \n"
   ]
  },
  {
   "cell_type": "markdown",
   "metadata": {
    "id": "ykKQ0N65_Zcv"
   },
   "source": [
    "## Итоги исследования"
   ]
  },
  {
   "cell_type": "markdown",
   "metadata": {
    "id": "tjUwbHb3_Zcv"
   },
   "source": [
    "Вы проверили три гипотезы и установили:\n",
    "\n",
    "1. День недели по-разному влияет на активность пользователей в Москве и Петербурге. \n",
    "\n",
    "Первая гипотеза полностью подтвердилась.\n",
    "\n",
    "2. Музыкальные предпочтения не сильно меняются в течение недели — будь то Москва или Петербург. Небольшие различия заметны в начале недели, по понедельникам:\n",
    "* в Москве слушают музыку жанра “world”,\n",
    "* в Петербурге — джаз и классику.\n",
    "\n",
    "Таким образом, вторая гипотеза подтвердилась лишь отчасти. Этот результат мог оказаться иным, если бы не пропуски в данных.\n",
    "\n",
    "3. Во вкусах пользователей Москвы и Петербурга больше общего чем различий. Вопреки ожиданиям, предпочтения жанров в Петербурге напоминают московские.\n",
    "\n",
    "Третья гипотеза не подтвердилась. Если различия в предпочтениях и существуют, на основной массе пользователей они незаметны.\n",
    "\n",
    "**На практике исследования содержат проверки статистических гипотез.**\n",
    "Из данных одного сервиса не всегда можно сделать вывод о всех жителях города.\n",
    "Проверки статистических гипотез покажут, насколько они достоверны, исходя из имеющихся данных. \n",
    "С методами проверок гипотез вы ещё познакомитесь в следующих темах."
   ]
  }
 ],
 "metadata": {
  "ExecuteTimeLog": [
   {
    "duration": 376,
    "start_time": "2022-02-04T11:34:21.051Z"
   },
   {
    "duration": 1344,
    "start_time": "2022-02-04T11:34:29.763Z"
   },
   {
    "duration": 690,
    "start_time": "2022-02-04T11:35:57.629Z"
   },
   {
    "duration": 134,
    "start_time": "2022-02-04T11:36:03.877Z"
   },
   {
    "duration": 16,
    "start_time": "2022-02-04T11:36:09.954Z"
   },
   {
    "duration": 216,
    "start_time": "2022-02-04T14:18:33.189Z"
   },
   {
    "duration": 529,
    "start_time": "2022-02-04T14:18:46.701Z"
   },
   {
    "duration": 124,
    "start_time": "2022-02-04T14:18:47.232Z"
   },
   {
    "duration": 16,
    "start_time": "2022-02-04T14:18:47.358Z"
   },
   {
    "duration": 25,
    "start_time": "2022-02-04T14:18:47.376Z"
   },
   {
    "duration": 3,
    "start_time": "2022-02-04T14:18:47.402Z"
   },
   {
    "duration": 7,
    "start_time": "2022-02-04T14:18:47.407Z"
   },
   {
    "duration": 5,
    "start_time": "2022-02-04T14:18:47.415Z"
   },
   {
    "duration": 5,
    "start_time": "2022-02-04T14:18:47.421Z"
   },
   {
    "duration": 7,
    "start_time": "2022-02-04T14:18:47.428Z"
   },
   {
    "duration": 5,
    "start_time": "2022-02-04T14:18:47.437Z"
   },
   {
    "duration": 16,
    "start_time": "2022-02-04T14:18:47.443Z"
   },
   {
    "duration": 15,
    "start_time": "2022-02-04T14:18:47.460Z"
   },
   {
    "duration": 11,
    "start_time": "2022-02-04T14:18:47.476Z"
   },
   {
    "duration": 8,
    "start_time": "2022-02-04T14:18:47.488Z"
   },
   {
    "duration": 6,
    "start_time": "2022-02-04T14:18:47.497Z"
   },
   {
    "duration": 11,
    "start_time": "2022-02-04T14:18:47.504Z"
   },
   {
    "duration": 7,
    "start_time": "2022-02-04T14:18:47.516Z"
   },
   {
    "duration": 7,
    "start_time": "2022-02-04T14:18:47.525Z"
   },
   {
    "duration": 7,
    "start_time": "2022-02-04T14:18:47.533Z"
   },
   {
    "duration": 22,
    "start_time": "2022-02-04T14:18:47.542Z"
   },
   {
    "duration": 13,
    "start_time": "2022-02-04T14:18:47.566Z"
   },
   {
    "duration": 6,
    "start_time": "2022-02-04T14:18:47.580Z"
   },
   {
    "duration": 7,
    "start_time": "2022-02-04T14:18:47.587Z"
   },
   {
    "duration": 12,
    "start_time": "2022-02-04T14:18:47.595Z"
   },
   {
    "duration": 9,
    "start_time": "2022-02-04T14:18:47.609Z"
   },
   {
    "duration": 7,
    "start_time": "2022-02-04T14:18:47.619Z"
   },
   {
    "duration": 6,
    "start_time": "2022-02-04T14:18:47.629Z"
   },
   {
    "duration": 5,
    "start_time": "2022-02-04T14:18:47.637Z"
   },
   {
    "duration": 12,
    "start_time": "2022-02-04T14:18:47.643Z"
   },
   {
    "duration": 6,
    "start_time": "2022-02-04T14:18:47.656Z"
   },
   {
    "duration": 8,
    "start_time": "2022-02-04T14:18:47.663Z"
   },
   {
    "duration": 11,
    "start_time": "2022-02-04T14:18:47.672Z"
   },
   {
    "duration": 9,
    "start_time": "2022-02-04T14:18:47.684Z"
   },
   {
    "duration": 10,
    "start_time": "2022-02-04T14:18:47.694Z"
   },
   {
    "duration": 13,
    "start_time": "2022-02-04T14:18:47.705Z"
   },
   {
    "duration": 13,
    "start_time": "2022-02-04T14:18:47.720Z"
   },
   {
    "duration": 20,
    "start_time": "2022-02-04T14:18:47.735Z"
   },
   {
    "duration": 16,
    "start_time": "2022-02-04T14:18:47.757Z"
   },
   {
    "duration": 126,
    "start_time": "2022-02-04T14:22:57.113Z"
   },
   {
    "duration": 320,
    "start_time": "2022-02-05T10:30:57.406Z"
   },
   {
    "duration": 3,
    "start_time": "2022-02-05T10:31:15.790Z"
   },
   {
    "duration": 638,
    "start_time": "2022-02-05T10:31:19.489Z"
   },
   {
    "duration": 149,
    "start_time": "2022-02-05T10:31:20.129Z"
   },
   {
    "duration": 18,
    "start_time": "2022-02-05T10:31:20.281Z"
   },
   {
    "duration": 29,
    "start_time": "2022-02-05T10:31:20.301Z"
   },
   {
    "duration": 7,
    "start_time": "2022-02-05T10:31:20.332Z"
   },
   {
    "duration": 32,
    "start_time": "2022-02-05T10:31:20.341Z"
   },
   {
    "duration": 6,
    "start_time": "2022-02-05T10:31:20.375Z"
   },
   {
    "duration": 15,
    "start_time": "2022-02-05T10:31:20.384Z"
   },
   {
    "duration": 7,
    "start_time": "2022-02-05T10:31:20.401Z"
   },
   {
    "duration": 18,
    "start_time": "2022-02-05T10:31:20.409Z"
   },
   {
    "duration": 21,
    "start_time": "2022-02-05T10:31:20.429Z"
   },
   {
    "duration": 27,
    "start_time": "2022-02-05T10:31:20.452Z"
   },
   {
    "duration": 28,
    "start_time": "2022-02-05T10:31:20.481Z"
   },
   {
    "duration": 16,
    "start_time": "2022-02-05T10:31:20.511Z"
   },
   {
    "duration": 29,
    "start_time": "2022-02-05T10:31:20.529Z"
   },
   {
    "duration": 13,
    "start_time": "2022-02-05T10:31:20.560Z"
   },
   {
    "duration": 19,
    "start_time": "2022-02-05T10:31:20.575Z"
   },
   {
    "duration": 23,
    "start_time": "2022-02-05T10:31:20.596Z"
   },
   {
    "duration": 28,
    "start_time": "2022-02-05T10:31:20.621Z"
   },
   {
    "duration": 24,
    "start_time": "2022-02-05T10:31:20.651Z"
   },
   {
    "duration": 39,
    "start_time": "2022-02-05T10:31:20.677Z"
   },
   {
    "duration": 27,
    "start_time": "2022-02-05T10:31:20.717Z"
   },
   {
    "duration": 20,
    "start_time": "2022-02-05T10:31:20.747Z"
   },
   {
    "duration": 26,
    "start_time": "2022-02-05T10:31:20.768Z"
   },
   {
    "duration": 23,
    "start_time": "2022-02-05T10:31:20.796Z"
   },
   {
    "duration": 18,
    "start_time": "2022-02-05T10:31:20.821Z"
   },
   {
    "duration": 20,
    "start_time": "2022-02-05T10:31:20.841Z"
   },
   {
    "duration": 33,
    "start_time": "2022-02-05T10:31:20.862Z"
   },
   {
    "duration": 21,
    "start_time": "2022-02-05T10:31:20.896Z"
   },
   {
    "duration": 20,
    "start_time": "2022-02-05T10:31:20.919Z"
   },
   {
    "duration": 25,
    "start_time": "2022-02-05T10:31:20.940Z"
   },
   {
    "duration": 28,
    "start_time": "2022-02-05T10:31:20.967Z"
   },
   {
    "duration": 29,
    "start_time": "2022-02-05T10:31:20.997Z"
   },
   {
    "duration": 19,
    "start_time": "2022-02-05T10:31:21.028Z"
   },
   {
    "duration": 11,
    "start_time": "2022-02-05T10:31:21.049Z"
   },
   {
    "duration": 23,
    "start_time": "2022-02-05T10:31:21.062Z"
   },
   {
    "duration": 16,
    "start_time": "2022-02-05T10:31:21.087Z"
   },
   {
    "duration": 20,
    "start_time": "2022-02-05T10:31:21.105Z"
   },
   {
    "duration": 4,
    "start_time": "2022-02-05T10:31:44.483Z"
   },
   {
    "duration": 24,
    "start_time": "2022-02-05T10:34:51.815Z"
   },
   {
    "duration": 17,
    "start_time": "2022-02-05T10:41:15.174Z"
   },
   {
    "duration": 4,
    "start_time": "2022-02-05T10:41:31.304Z"
   },
   {
    "duration": 24,
    "start_time": "2022-02-05T10:41:54.530Z"
   },
   {
    "duration": 61,
    "start_time": "2022-02-05T10:42:52.991Z"
   },
   {
    "duration": 81,
    "start_time": "2022-02-05T10:44:21.478Z"
   },
   {
    "duration": 62,
    "start_time": "2022-02-05T10:44:31.962Z"
   },
   {
    "duration": 67,
    "start_time": "2022-02-05T10:45:50.891Z"
   },
   {
    "duration": 63,
    "start_time": "2022-02-05T12:19:26.840Z"
   },
   {
    "duration": 55,
    "start_time": "2022-02-05T12:19:40.519Z"
   },
   {
    "duration": 6,
    "start_time": "2022-02-05T12:22:28.837Z"
   },
   {
    "duration": 8,
    "start_time": "2022-02-05T12:23:24.397Z"
   },
   {
    "duration": 3,
    "start_time": "2022-02-05T12:34:03.286Z"
   },
   {
    "duration": 6815,
    "start_time": "2022-02-05T12:37:47.516Z"
   },
   {
    "duration": 6963,
    "start_time": "2022-02-05T12:39:00.029Z"
   },
   {
    "duration": 3,
    "start_time": "2022-02-05T12:40:39.995Z"
   },
   {
    "duration": 3,
    "start_time": "2022-02-05T12:41:05.099Z"
   },
   {
    "duration": 154,
    "start_time": "2022-02-05T12:41:05.103Z"
   },
   {
    "duration": 11,
    "start_time": "2022-02-05T12:41:05.260Z"
   },
   {
    "duration": 54,
    "start_time": "2022-02-05T12:41:05.273Z"
   },
   {
    "duration": 4,
    "start_time": "2022-02-05T12:41:05.329Z"
   },
   {
    "duration": 26,
    "start_time": "2022-02-05T12:41:05.335Z"
   },
   {
    "duration": 10,
    "start_time": "2022-02-05T12:41:05.363Z"
   },
   {
    "duration": 43,
    "start_time": "2022-02-05T12:41:05.375Z"
   },
   {
    "duration": 20,
    "start_time": "2022-02-05T12:41:05.420Z"
   },
   {
    "duration": 28,
    "start_time": "2022-02-05T12:41:05.442Z"
   },
   {
    "duration": 87,
    "start_time": "2022-02-05T12:41:05.472Z"
   },
   {
    "duration": 88,
    "start_time": "2022-02-05T12:41:05.561Z"
   },
   {
    "duration": 64,
    "start_time": "2022-02-05T12:41:05.651Z"
   },
   {
    "duration": 8,
    "start_time": "2022-02-05T12:41:05.717Z"
   },
   {
    "duration": 12,
    "start_time": "2022-02-05T12:41:05.727Z"
   },
   {
    "duration": 22,
    "start_time": "2022-02-05T12:41:05.741Z"
   },
   {
    "duration": 3,
    "start_time": "2022-02-05T12:41:05.764Z"
   },
   {
    "duration": 9,
    "start_time": "2022-02-05T12:41:05.769Z"
   },
   {
    "duration": 3,
    "start_time": "2022-02-05T12:41:05.799Z"
   },
   {
    "duration": 8,
    "start_time": "2022-02-05T12:41:05.804Z"
   },
   {
    "duration": 9,
    "start_time": "2022-02-05T12:41:05.814Z"
   },
   {
    "duration": 6,
    "start_time": "2022-02-05T12:41:05.825Z"
   },
   {
    "duration": 7,
    "start_time": "2022-02-05T12:41:05.832Z"
   },
   {
    "duration": 5,
    "start_time": "2022-02-05T12:41:05.841Z"
   },
   {
    "duration": 9,
    "start_time": "2022-02-05T12:41:05.848Z"
   },
   {
    "duration": 17,
    "start_time": "2022-02-05T12:41:05.859Z"
   },
   {
    "duration": 6,
    "start_time": "2022-02-05T12:41:05.878Z"
   },
   {
    "duration": 5,
    "start_time": "2022-02-05T12:41:05.886Z"
   },
   {
    "duration": 11,
    "start_time": "2022-02-05T12:41:05.893Z"
   },
   {
    "duration": 8,
    "start_time": "2022-02-05T12:41:05.906Z"
   },
   {
    "duration": 8,
    "start_time": "2022-02-05T12:41:05.916Z"
   },
   {
    "duration": 6,
    "start_time": "2022-02-05T12:41:05.926Z"
   },
   {
    "duration": 9,
    "start_time": "2022-02-05T12:41:05.933Z"
   },
   {
    "duration": 11,
    "start_time": "2022-02-05T12:41:05.944Z"
   },
   {
    "duration": 8,
    "start_time": "2022-02-05T12:41:05.957Z"
   },
   {
    "duration": 5,
    "start_time": "2022-02-05T12:41:05.967Z"
   },
   {
    "duration": 6,
    "start_time": "2022-02-05T12:41:05.974Z"
   },
   {
    "duration": 5,
    "start_time": "2022-02-05T12:41:05.982Z"
   },
   {
    "duration": 3,
    "start_time": "2022-02-05T12:41:27.000Z"
   },
   {
    "duration": 16,
    "start_time": "2022-02-05T12:41:44.467Z"
   },
   {
    "duration": 8,
    "start_time": "2022-02-05T12:42:12.486Z"
   },
   {
    "duration": 10,
    "start_time": "2022-02-05T13:01:15.564Z"
   },
   {
    "duration": 4703,
    "start_time": "2022-02-05T13:02:17.002Z"
   },
   {
    "duration": 37,
    "start_time": "2022-02-05T13:03:25.332Z"
   },
   {
    "duration": 35,
    "start_time": "2022-02-05T13:06:20.559Z"
   },
   {
    "duration": 104,
    "start_time": "2022-02-05T13:17:28.261Z"
   },
   {
    "duration": 101,
    "start_time": "2022-02-05T13:18:01.364Z"
   },
   {
    "duration": 87,
    "start_time": "2022-02-05T13:18:29.259Z"
   },
   {
    "duration": 504,
    "start_time": "2022-02-05T13:19:08.900Z"
   },
   {
    "duration": 511,
    "start_time": "2022-02-05T13:19:16.415Z"
   },
   {
    "duration": 604,
    "start_time": "2022-02-05T13:20:40.181Z"
   },
   {
    "duration": 428,
    "start_time": "2022-02-05T13:21:25.445Z"
   },
   {
    "duration": 3,
    "start_time": "2022-02-05T13:21:39.537Z"
   },
   {
    "duration": 288,
    "start_time": "2022-02-05T13:26:04.798Z"
   },
   {
    "duration": 603,
    "start_time": "2022-02-05T13:26:43.918Z"
   },
   {
    "duration": 4,
    "start_time": "2022-02-05T13:27:04.002Z"
   },
   {
    "duration": 552,
    "start_time": "2022-02-05T13:27:36.959Z"
   },
   {
    "duration": 3,
    "start_time": "2022-02-05T13:28:49.137Z"
   },
   {
    "duration": 173,
    "start_time": "2022-02-05T13:28:49.143Z"
   },
   {
    "duration": 11,
    "start_time": "2022-02-05T13:28:49.318Z"
   },
   {
    "duration": 29,
    "start_time": "2022-02-05T13:28:49.330Z"
   },
   {
    "duration": 3,
    "start_time": "2022-02-05T13:28:49.361Z"
   },
   {
    "duration": 44,
    "start_time": "2022-02-05T13:28:49.366Z"
   },
   {
    "duration": 3,
    "start_time": "2022-02-05T13:28:49.413Z"
   },
   {
    "duration": 26,
    "start_time": "2022-02-05T13:28:49.418Z"
   },
   {
    "duration": 17,
    "start_time": "2022-02-05T13:28:49.446Z"
   },
   {
    "duration": 41,
    "start_time": "2022-02-05T13:28:49.465Z"
   },
   {
    "duration": 62,
    "start_time": "2022-02-05T13:28:49.508Z"
   },
   {
    "duration": 86,
    "start_time": "2022-02-05T13:28:49.571Z"
   },
   {
    "duration": 68,
    "start_time": "2022-02-05T13:28:49.658Z"
   },
   {
    "duration": 7,
    "start_time": "2022-02-05T13:28:49.727Z"
   },
   {
    "duration": 3,
    "start_time": "2022-02-05T13:28:49.736Z"
   },
   {
    "duration": 21,
    "start_time": "2022-02-05T13:28:49.741Z"
   },
   {
    "duration": 6,
    "start_time": "2022-02-05T13:28:49.764Z"
   },
   {
    "duration": 54,
    "start_time": "2022-02-05T13:28:49.772Z"
   },
   {
    "duration": 33,
    "start_time": "2022-02-05T13:28:49.829Z"
   },
   {
    "duration": 3,
    "start_time": "2022-02-05T13:28:49.864Z"
   },
   {
    "duration": 584,
    "start_time": "2022-02-05T13:28:49.869Z"
   },
   {
    "duration": 14,
    "start_time": "2022-02-05T13:28:50.441Z"
   },
   {
    "duration": 11,
    "start_time": "2022-02-05T13:28:50.445Z"
   },
   {
    "duration": 7,
    "start_time": "2022-02-05T13:28:50.450Z"
   },
   {
    "duration": 4,
    "start_time": "2022-02-05T13:28:50.454Z"
   },
   {
    "duration": 2,
    "start_time": "2022-02-05T13:28:50.457Z"
   },
   {
    "duration": 0,
    "start_time": "2022-02-05T13:28:50.460Z"
   },
   {
    "duration": -2,
    "start_time": "2022-02-05T13:28:50.462Z"
   },
   {
    "duration": -3,
    "start_time": "2022-02-05T13:28:50.465Z"
   },
   {
    "duration": -6,
    "start_time": "2022-02-05T13:28:50.468Z"
   },
   {
    "duration": -8,
    "start_time": "2022-02-05T13:28:50.471Z"
   },
   {
    "duration": -10,
    "start_time": "2022-02-05T13:28:50.474Z"
   },
   {
    "duration": -12,
    "start_time": "2022-02-05T13:28:50.477Z"
   },
   {
    "duration": -13,
    "start_time": "2022-02-05T13:28:50.479Z"
   },
   {
    "duration": -15,
    "start_time": "2022-02-05T13:28:50.482Z"
   },
   {
    "duration": -17,
    "start_time": "2022-02-05T13:28:50.485Z"
   },
   {
    "duration": -19,
    "start_time": "2022-02-05T13:28:50.488Z"
   },
   {
    "duration": -30,
    "start_time": "2022-02-05T13:28:50.499Z"
   },
   {
    "duration": 4,
    "start_time": "2022-02-05T13:29:57.659Z"
   },
   {
    "duration": 3103,
    "start_time": "2022-02-05T13:35:54.334Z"
   },
   {
    "duration": 4,
    "start_time": "2022-02-05T13:38:05.492Z"
   },
   {
    "duration": 19,
    "start_time": "2022-02-05T13:38:08.641Z"
   },
   {
    "duration": 15,
    "start_time": "2022-02-05T13:38:23.771Z"
   },
   {
    "duration": 17,
    "start_time": "2022-02-05T13:38:24.835Z"
   },
   {
    "duration": 323,
    "start_time": "2022-02-05T13:38:25.651Z"
   },
   {
    "duration": 15,
    "start_time": "2022-02-05T13:39:06.151Z"
   },
   {
    "duration": 17,
    "start_time": "2022-02-05T13:39:20.125Z"
   },
   {
    "duration": 15,
    "start_time": "2022-02-05T13:39:32.687Z"
   },
   {
    "duration": 14,
    "start_time": "2022-02-05T13:43:09.516Z"
   },
   {
    "duration": 14,
    "start_time": "2022-02-05T13:43:27.115Z"
   },
   {
    "duration": 16,
    "start_time": "2022-02-05T13:45:14.976Z"
   },
   {
    "duration": 6751,
    "start_time": "2022-02-05T14:02:38.929Z"
   },
   {
    "duration": 40,
    "start_time": "2022-02-05T14:02:45.642Z"
   },
   {
    "duration": 6992,
    "start_time": "2022-02-05T14:03:21.485Z"
   },
   {
    "duration": 6692,
    "start_time": "2022-02-05T14:03:49.589Z"
   },
   {
    "duration": 19,
    "start_time": "2022-02-05T14:05:06.145Z"
   },
   {
    "duration": 18,
    "start_time": "2022-02-05T14:05:53.834Z"
   },
   {
    "duration": 22,
    "start_time": "2022-02-05T14:07:08.842Z"
   },
   {
    "duration": 20,
    "start_time": "2022-02-05T14:07:17.685Z"
   },
   {
    "duration": 4,
    "start_time": "2022-02-05T16:15:57.150Z"
   },
   {
    "duration": 4,
    "start_time": "2022-02-05T16:16:33.806Z"
   },
   {
    "duration": 4,
    "start_time": "2022-02-05T16:18:39.675Z"
   },
   {
    "duration": 571,
    "start_time": "2022-02-05T16:18:58.612Z"
   },
   {
    "duration": 135,
    "start_time": "2022-02-05T16:18:59.185Z"
   },
   {
    "duration": 17,
    "start_time": "2022-02-05T16:18:59.323Z"
   },
   {
    "duration": 23,
    "start_time": "2022-02-05T16:18:59.343Z"
   },
   {
    "duration": 4,
    "start_time": "2022-02-05T16:18:59.368Z"
   },
   {
    "duration": 42,
    "start_time": "2022-02-05T16:18:59.373Z"
   },
   {
    "duration": 3,
    "start_time": "2022-02-05T16:18:59.417Z"
   },
   {
    "duration": 25,
    "start_time": "2022-02-05T16:18:59.423Z"
   },
   {
    "duration": 17,
    "start_time": "2022-02-05T16:18:59.450Z"
   },
   {
    "duration": 21,
    "start_time": "2022-02-05T16:18:59.468Z"
   },
   {
    "duration": 55,
    "start_time": "2022-02-05T16:18:59.513Z"
   },
   {
    "duration": 79,
    "start_time": "2022-02-05T16:18:59.569Z"
   },
   {
    "duration": 64,
    "start_time": "2022-02-05T16:18:59.650Z"
   },
   {
    "duration": 7,
    "start_time": "2022-02-05T16:18:59.716Z"
   },
   {
    "duration": 2,
    "start_time": "2022-02-05T16:18:59.725Z"
   },
   {
    "duration": 18,
    "start_time": "2022-02-05T16:18:59.729Z"
   },
   {
    "duration": 7,
    "start_time": "2022-02-05T16:18:59.749Z"
   },
   {
    "duration": 56,
    "start_time": "2022-02-05T16:18:59.757Z"
   },
   {
    "duration": 31,
    "start_time": "2022-02-05T16:18:59.815Z"
   },
   {
    "duration": 3,
    "start_time": "2022-02-05T16:18:59.848Z"
   },
   {
    "duration": 21,
    "start_time": "2022-02-05T16:18:59.853Z"
   },
   {
    "duration": 37,
    "start_time": "2022-02-05T16:18:59.876Z"
   },
   {
    "duration": 15,
    "start_time": "2022-02-05T16:18:59.916Z"
   },
   {
    "duration": 15,
    "start_time": "2022-02-05T16:18:59.933Z"
   },
   {
    "duration": 16,
    "start_time": "2022-02-05T16:18:59.949Z"
   },
   {
    "duration": 13,
    "start_time": "2022-02-05T16:18:59.966Z"
   },
   {
    "duration": 43,
    "start_time": "2022-02-05T16:18:59.981Z"
   },
   {
    "duration": 22,
    "start_time": "2022-02-05T16:19:00.026Z"
   },
   {
    "duration": 18,
    "start_time": "2022-02-05T16:19:00.049Z"
   },
   {
    "duration": 13,
    "start_time": "2022-02-05T16:19:00.068Z"
   },
   {
    "duration": 13,
    "start_time": "2022-02-05T16:19:00.082Z"
   },
   {
    "duration": 9,
    "start_time": "2022-02-05T16:19:00.097Z"
   },
   {
    "duration": 13,
    "start_time": "2022-02-05T16:19:00.113Z"
   },
   {
    "duration": 7,
    "start_time": "2022-02-05T16:19:00.128Z"
   },
   {
    "duration": 9,
    "start_time": "2022-02-05T16:19:00.137Z"
   },
   {
    "duration": 13,
    "start_time": "2022-02-05T16:19:00.148Z"
   },
   {
    "duration": 15,
    "start_time": "2022-02-05T16:19:00.163Z"
   },
   {
    "duration": 16,
    "start_time": "2022-02-05T16:19:00.180Z"
   },
   {
    "duration": 4,
    "start_time": "2022-02-05T16:19:47.785Z"
   },
   {
    "duration": 4,
    "start_time": "2022-02-05T16:20:06.520Z"
   },
   {
    "duration": 4,
    "start_time": "2022-02-05T16:20:49.468Z"
   },
   {
    "duration": 4,
    "start_time": "2022-02-05T16:21:55.537Z"
   },
   {
    "duration": 2,
    "start_time": "2022-02-05T16:23:09.967Z"
   },
   {
    "duration": 18,
    "start_time": "2022-02-05T16:23:17.787Z"
   },
   {
    "duration": 4,
    "start_time": "2022-02-05T16:23:23.224Z"
   },
   {
    "duration": 282,
    "start_time": "2022-02-05T21:04:51.505Z"
   },
   {
    "duration": 199,
    "start_time": "2022-02-05T21:05:15.937Z"
   },
   {
    "duration": 200,
    "start_time": "2022-02-05T21:05:32.407Z"
   },
   {
    "duration": 195,
    "start_time": "2022-02-05T21:05:49.656Z"
   },
   {
    "duration": 4,
    "start_time": "2022-02-05T21:06:04.703Z"
   },
   {
    "duration": 4943,
    "start_time": "2022-02-05T21:12:51.884Z"
   },
   {
    "duration": 5018,
    "start_time": "2022-02-05T21:14:48.543Z"
   },
   {
    "duration": 395,
    "start_time": "2022-02-05T21:17:11.869Z"
   },
   {
    "duration": 3,
    "start_time": "2022-02-05T21:18:28.807Z"
   },
   {
    "duration": 5311,
    "start_time": "2022-02-05T21:18:30.685Z"
   },
   {
    "duration": 4,
    "start_time": "2022-02-05T21:19:43.496Z"
   },
   {
    "duration": 2,
    "start_time": "2022-02-05T21:19:46.343Z"
   },
   {
    "duration": 5247,
    "start_time": "2022-02-05T21:23:03.607Z"
   },
   {
    "duration": 4,
    "start_time": "2022-02-05T21:27:18.990Z"
   },
   {
    "duration": 8,
    "start_time": "2022-02-05T21:31:11.697Z"
   },
   {
    "duration": 5,
    "start_time": "2022-02-05T21:32:16.853Z"
   },
   {
    "duration": 5250,
    "start_time": "2022-02-05T21:33:43.167Z"
   },
   {
    "duration": 4848,
    "start_time": "2022-02-05T21:33:53.444Z"
   },
   {
    "duration": 16,
    "start_time": "2022-02-05T21:35:18.849Z"
   },
   {
    "duration": 4,
    "start_time": "2022-02-05T21:35:29.452Z"
   },
   {
    "duration": 5170,
    "start_time": "2022-02-05T21:35:33.353Z"
   },
   {
    "duration": 4856,
    "start_time": "2022-02-05T21:40:19.905Z"
   },
   {
    "duration": 4,
    "start_time": "2022-02-05T21:47:14.299Z"
   },
   {
    "duration": 16,
    "start_time": "2022-02-05T21:47:18.936Z"
   },
   {
    "duration": 4,
    "start_time": "2022-02-05T21:47:23.151Z"
   },
   {
    "duration": 18,
    "start_time": "2022-02-05T21:47:34.309Z"
   },
   {
    "duration": 16,
    "start_time": "2022-02-05T21:47:48.435Z"
   },
   {
    "duration": 4,
    "start_time": "2022-02-05T21:48:45.152Z"
   },
   {
    "duration": 16,
    "start_time": "2022-02-05T21:48:58.571Z"
   },
   {
    "duration": 11,
    "start_time": "2022-02-05T21:49:10.444Z"
   },
   {
    "duration": 17,
    "start_time": "2022-02-05T21:51:13.514Z"
   },
   {
    "duration": 12,
    "start_time": "2022-02-05T21:51:15.323Z"
   },
   {
    "duration": 195,
    "start_time": "2022-02-05T21:55:25.316Z"
   },
   {
    "duration": 179,
    "start_time": "2022-02-05T21:55:37.053Z"
   },
   {
    "duration": 6,
    "start_time": "2022-02-05T21:56:25.719Z"
   },
   {
    "duration": 5,
    "start_time": "2022-02-05T21:56:56.654Z"
   },
   {
    "duration": 5,
    "start_time": "2022-02-05T21:57:51.591Z"
   },
   {
    "duration": 3,
    "start_time": "2022-02-05T21:58:48.114Z"
   },
   {
    "duration": 2,
    "start_time": "2022-02-05T22:00:57.951Z"
   },
   {
    "duration": 142,
    "start_time": "2022-02-05T22:00:57.955Z"
   },
   {
    "duration": 23,
    "start_time": "2022-02-05T22:00:58.099Z"
   },
   {
    "duration": 26,
    "start_time": "2022-02-05T22:00:58.124Z"
   },
   {
    "duration": 4,
    "start_time": "2022-02-05T22:00:58.152Z"
   },
   {
    "duration": 20,
    "start_time": "2022-02-05T22:00:58.157Z"
   },
   {
    "duration": 4,
    "start_time": "2022-02-05T22:00:58.180Z"
   },
   {
    "duration": 22,
    "start_time": "2022-02-05T22:00:58.213Z"
   },
   {
    "duration": 16,
    "start_time": "2022-02-05T22:00:58.237Z"
   },
   {
    "duration": 20,
    "start_time": "2022-02-05T22:00:58.255Z"
   },
   {
    "duration": 77,
    "start_time": "2022-02-05T22:00:58.277Z"
   },
   {
    "duration": 65,
    "start_time": "2022-02-05T22:00:58.356Z"
   },
   {
    "duration": 47,
    "start_time": "2022-02-05T22:00:58.423Z"
   },
   {
    "duration": 7,
    "start_time": "2022-02-05T22:00:58.471Z"
   },
   {
    "duration": 2,
    "start_time": "2022-02-05T22:00:58.480Z"
   },
   {
    "duration": 37,
    "start_time": "2022-02-05T22:00:58.484Z"
   },
   {
    "duration": 7,
    "start_time": "2022-02-05T22:00:58.522Z"
   },
   {
    "duration": 28,
    "start_time": "2022-02-05T22:00:58.530Z"
   },
   {
    "duration": 26,
    "start_time": "2022-02-05T22:00:58.561Z"
   },
   {
    "duration": 23,
    "start_time": "2022-02-05T22:00:58.589Z"
   },
   {
    "duration": 20,
    "start_time": "2022-02-05T22:00:58.614Z"
   },
   {
    "duration": 15,
    "start_time": "2022-02-05T22:00:58.635Z"
   },
   {
    "duration": 16,
    "start_time": "2022-02-05T22:00:58.651Z"
   },
   {
    "duration": 14,
    "start_time": "2022-02-05T22:00:58.669Z"
   },
   {
    "duration": 17,
    "start_time": "2022-02-05T22:00:58.712Z"
   },
   {
    "duration": 12,
    "start_time": "2022-02-05T22:00:58.731Z"
   },
   {
    "duration": 12,
    "start_time": "2022-02-05T22:00:58.745Z"
   },
   {
    "duration": 18,
    "start_time": "2022-02-05T22:00:58.758Z"
   },
   {
    "duration": 45,
    "start_time": "2022-02-05T22:00:58.777Z"
   },
   {
    "duration": 3,
    "start_time": "2022-02-05T22:00:58.824Z"
   },
   {
    "duration": 20,
    "start_time": "2022-02-05T22:00:58.828Z"
   },
   {
    "duration": 11,
    "start_time": "2022-02-05T22:00:58.849Z"
   },
   {
    "duration": 16,
    "start_time": "2022-02-05T22:00:58.862Z"
   },
   {
    "duration": 40,
    "start_time": "2022-02-05T22:00:58.879Z"
   },
   {
    "duration": 7,
    "start_time": "2022-02-05T22:00:58.921Z"
   },
   {
    "duration": 4,
    "start_time": "2022-02-05T22:00:58.930Z"
   },
   {
    "duration": 7,
    "start_time": "2022-02-05T22:00:58.935Z"
   },
   {
    "duration": 4,
    "start_time": "2022-02-05T22:00:58.943Z"
   },
   {
    "duration": 804,
    "start_time": "2022-02-12T19:50:50.085Z"
   },
   {
    "duration": 200,
    "start_time": "2022-02-12T19:50:50.892Z"
   },
   {
    "duration": 27,
    "start_time": "2022-02-12T19:50:51.095Z"
   },
   {
    "duration": 58,
    "start_time": "2022-02-12T19:50:51.125Z"
   },
   {
    "duration": 5,
    "start_time": "2022-02-12T19:50:51.186Z"
   },
   {
    "duration": 29,
    "start_time": "2022-02-12T19:50:51.193Z"
   },
   {
    "duration": 5,
    "start_time": "2022-02-12T19:50:51.225Z"
   },
   {
    "duration": 64,
    "start_time": "2022-02-12T19:50:51.234Z"
   },
   {
    "duration": 23,
    "start_time": "2022-02-12T19:50:51.302Z"
   },
   {
    "duration": 56,
    "start_time": "2022-02-12T19:50:51.327Z"
   },
   {
    "duration": 101,
    "start_time": "2022-02-12T19:50:51.385Z"
   },
   {
    "duration": 109,
    "start_time": "2022-02-12T19:50:51.489Z"
   },
   {
    "duration": 100,
    "start_time": "2022-02-12T19:50:51.600Z"
   },
   {
    "duration": 10,
    "start_time": "2022-02-12T19:50:51.702Z"
   },
   {
    "duration": 4,
    "start_time": "2022-02-12T19:50:51.714Z"
   },
   {
    "duration": 55,
    "start_time": "2022-02-12T19:50:51.720Z"
   },
   {
    "duration": 10,
    "start_time": "2022-02-12T19:50:51.777Z"
   },
   {
    "duration": 45,
    "start_time": "2022-02-12T19:50:51.790Z"
   },
   {
    "duration": 72,
    "start_time": "2022-02-12T19:50:51.838Z"
   },
   {
    "duration": 5,
    "start_time": "2022-02-12T19:50:51.913Z"
   },
   {
    "duration": 51,
    "start_time": "2022-02-12T19:50:51.920Z"
   },
   {
    "duration": 28,
    "start_time": "2022-02-12T19:50:51.974Z"
   },
   {
    "duration": 22,
    "start_time": "2022-02-12T19:50:52.008Z"
   },
   {
    "duration": 48,
    "start_time": "2022-02-12T19:50:52.033Z"
   },
   {
    "duration": 23,
    "start_time": "2022-02-12T19:50:52.084Z"
   },
   {
    "duration": 21,
    "start_time": "2022-02-12T19:50:52.110Z"
   },
   {
    "duration": 55,
    "start_time": "2022-02-12T19:50:52.134Z"
   },
   {
    "duration": 35,
    "start_time": "2022-02-12T19:50:52.192Z"
   },
   {
    "duration": 53,
    "start_time": "2022-02-12T19:50:52.230Z"
   },
   {
    "duration": 5,
    "start_time": "2022-02-12T19:50:52.285Z"
   },
   {
    "duration": 40,
    "start_time": "2022-02-12T19:50:52.293Z"
   },
   {
    "duration": 46,
    "start_time": "2022-02-12T19:50:52.336Z"
   },
   {
    "duration": 37,
    "start_time": "2022-02-12T19:50:52.385Z"
   },
   {
    "duration": 46,
    "start_time": "2022-02-12T19:50:52.425Z"
   },
   {
    "duration": 11,
    "start_time": "2022-02-12T19:50:52.473Z"
   },
   {
    "duration": 7,
    "start_time": "2022-02-12T19:50:52.487Z"
   },
   {
    "duration": 12,
    "start_time": "2022-02-12T19:50:52.496Z"
   },
   {
    "duration": 6,
    "start_time": "2022-02-12T19:50:52.510Z"
   },
   {
    "duration": 14,
    "start_time": "2022-02-12T19:53:07.938Z"
   },
   {
    "duration": 360,
    "start_time": "2022-02-13T14:17:12.217Z"
   },
   {
    "duration": 529,
    "start_time": "2022-02-13T14:17:39.825Z"
   },
   {
    "duration": 347,
    "start_time": "2022-02-13T14:17:55.112Z"
   },
   {
    "duration": 631,
    "start_time": "2022-02-13T14:18:11.460Z"
   },
   {
    "duration": 117,
    "start_time": "2022-02-13T14:18:12.092Z"
   },
   {
    "duration": 14,
    "start_time": "2022-02-13T14:18:12.211Z"
   },
   {
    "duration": 11,
    "start_time": "2022-02-13T14:18:12.227Z"
   },
   {
    "duration": 40,
    "start_time": "2022-02-13T14:18:12.240Z"
   },
   {
    "duration": 4,
    "start_time": "2022-02-13T14:18:12.281Z"
   },
   {
    "duration": 18,
    "start_time": "2022-02-13T14:18:12.286Z"
   },
   {
    "duration": 6,
    "start_time": "2022-02-13T14:18:12.306Z"
   },
   {
    "duration": 23,
    "start_time": "2022-02-13T14:18:12.314Z"
   },
   {
    "duration": 48,
    "start_time": "2022-02-13T14:18:12.340Z"
   },
   {
    "duration": 34,
    "start_time": "2022-02-13T14:18:12.390Z"
   },
   {
    "duration": 93,
    "start_time": "2022-02-13T14:18:12.426Z"
   },
   {
    "duration": 94,
    "start_time": "2022-02-13T14:18:12.521Z"
   },
   {
    "duration": 70,
    "start_time": "2022-02-13T14:18:12.617Z"
   },
   {
    "duration": 6,
    "start_time": "2022-02-13T14:18:12.689Z"
   },
   {
    "duration": 19,
    "start_time": "2022-02-13T14:18:12.697Z"
   },
   {
    "duration": 44,
    "start_time": "2022-02-13T14:18:12.717Z"
   },
   {
    "duration": 21,
    "start_time": "2022-02-13T14:18:12.763Z"
   },
   {
    "duration": 58,
    "start_time": "2022-02-13T14:18:12.786Z"
   },
   {
    "duration": 28,
    "start_time": "2022-02-13T14:18:12.846Z"
   },
   {
    "duration": 3,
    "start_time": "2022-02-13T14:18:12.876Z"
   },
   {
    "duration": 24,
    "start_time": "2022-02-13T14:18:12.881Z"
   },
   {
    "duration": 38,
    "start_time": "2022-02-13T14:18:12.907Z"
   },
   {
    "duration": 216,
    "start_time": "2022-02-13T14:18:12.947Z"
   },
   {
    "duration": 193,
    "start_time": "2022-02-13T14:18:13.165Z"
   },
   {
    "duration": 55,
    "start_time": "2022-02-13T14:18:13.360Z"
   },
   {
    "duration": 13,
    "start_time": "2022-02-13T14:18:13.419Z"
   },
   {
    "duration": 14,
    "start_time": "2022-02-13T14:18:13.434Z"
   },
   {
    "duration": 25,
    "start_time": "2022-02-13T14:18:13.449Z"
   },
   {
    "duration": 14,
    "start_time": "2022-02-13T14:18:13.476Z"
   },
   {
    "duration": 4,
    "start_time": "2022-02-13T14:18:13.491Z"
   },
   {
    "duration": 28,
    "start_time": "2022-02-13T14:18:13.496Z"
   },
   {
    "duration": 15,
    "start_time": "2022-02-13T14:18:13.525Z"
   },
   {
    "duration": 31,
    "start_time": "2022-02-13T14:18:13.541Z"
   },
   {
    "duration": 11,
    "start_time": "2022-02-13T14:18:13.574Z"
   },
   {
    "duration": 19,
    "start_time": "2022-02-13T14:18:13.587Z"
   },
   {
    "duration": 9,
    "start_time": "2022-02-13T14:18:13.607Z"
   },
   {
    "duration": 13,
    "start_time": "2022-02-13T14:18:13.618Z"
   },
   {
    "duration": 11,
    "start_time": "2022-02-13T14:18:13.632Z"
   },
   {
    "duration": 371,
    "start_time": "2022-02-13T14:18:48.673Z"
   },
   {
    "duration": 3,
    "start_time": "2022-02-13T14:18:56.334Z"
   },
   {
    "duration": 148,
    "start_time": "2022-02-13T14:18:56.339Z"
   },
   {
    "duration": 9,
    "start_time": "2022-02-13T14:18:56.489Z"
   },
   {
    "duration": 9,
    "start_time": "2022-02-13T14:18:56.501Z"
   },
   {
    "duration": 24,
    "start_time": "2022-02-13T14:18:56.511Z"
   },
   {
    "duration": 4,
    "start_time": "2022-02-13T14:18:56.536Z"
   },
   {
    "duration": 42,
    "start_time": "2022-02-13T14:18:56.542Z"
   },
   {
    "duration": 4,
    "start_time": "2022-02-13T14:18:56.586Z"
   },
   {
    "duration": 20,
    "start_time": "2022-02-13T14:18:56.592Z"
   },
   {
    "duration": 14,
    "start_time": "2022-02-13T14:18:56.615Z"
   },
   {
    "duration": 45,
    "start_time": "2022-02-13T14:18:56.631Z"
   },
   {
    "duration": 57,
    "start_time": "2022-02-13T14:18:56.677Z"
   },
   {
    "duration": 74,
    "start_time": "2022-02-13T14:18:56.735Z"
   },
   {
    "duration": 47,
    "start_time": "2022-02-13T14:18:56.811Z"
   },
   {
    "duration": 517,
    "start_time": "2022-02-13T14:18:56.860Z"
   },
   {
    "duration": 5,
    "start_time": "2022-02-13T14:18:57.374Z"
   },
   {
    "duration": 3,
    "start_time": "2022-02-13T14:18:57.378Z"
   },
   {
    "duration": 1,
    "start_time": "2022-02-13T14:18:57.381Z"
   },
   {
    "duration": -17,
    "start_time": "2022-02-13T14:18:57.399Z"
   },
   {
    "duration": -33,
    "start_time": "2022-02-13T14:18:57.416Z"
   },
   {
    "duration": -44,
    "start_time": "2022-02-13T14:18:57.427Z"
   },
   {
    "duration": -48,
    "start_time": "2022-02-13T14:18:57.432Z"
   },
   {
    "duration": -54,
    "start_time": "2022-02-13T14:18:57.438Z"
   },
   {
    "duration": -58,
    "start_time": "2022-02-13T14:18:57.443Z"
   },
   {
    "duration": -63,
    "start_time": "2022-02-13T14:18:57.449Z"
   },
   {
    "duration": -68,
    "start_time": "2022-02-13T14:18:57.455Z"
   },
   {
    "duration": -72,
    "start_time": "2022-02-13T14:18:57.460Z"
   },
   {
    "duration": -78,
    "start_time": "2022-02-13T14:18:57.466Z"
   },
   {
    "duration": -82,
    "start_time": "2022-02-13T14:18:57.471Z"
   },
   {
    "duration": -85,
    "start_time": "2022-02-13T14:18:57.475Z"
   },
   {
    "duration": -88,
    "start_time": "2022-02-13T14:18:57.479Z"
   },
   {
    "duration": -91,
    "start_time": "2022-02-13T14:18:57.483Z"
   },
   {
    "duration": -95,
    "start_time": "2022-02-13T14:18:57.487Z"
   },
   {
    "duration": -98,
    "start_time": "2022-02-13T14:18:57.491Z"
   },
   {
    "duration": -102,
    "start_time": "2022-02-13T14:18:57.496Z"
   },
   {
    "duration": -104,
    "start_time": "2022-02-13T14:18:57.499Z"
   },
   {
    "duration": -107,
    "start_time": "2022-02-13T14:18:57.506Z"
   },
   {
    "duration": -121,
    "start_time": "2022-02-13T14:18:57.521Z"
   },
   {
    "duration": -131,
    "start_time": "2022-02-13T14:18:57.532Z"
   },
   {
    "duration": 325,
    "start_time": "2022-02-13T14:22:39.158Z"
   },
   {
    "duration": 32,
    "start_time": "2022-02-13T14:22:47.207Z"
   },
   {
    "duration": 8,
    "start_time": "2022-02-13T14:25:58.071Z"
   },
   {
    "duration": 330,
    "start_time": "2022-02-13T14:27:03.649Z"
   },
   {
    "duration": 39,
    "start_time": "2022-02-13T14:27:42.024Z"
   },
   {
    "duration": 45,
    "start_time": "2022-02-13T14:28:19.729Z"
   },
   {
    "duration": 501,
    "start_time": "2022-02-13T14:33:00.512Z"
   },
   {
    "duration": 5,
    "start_time": "2022-02-13T14:33:18.823Z"
   },
   {
    "duration": 3,
    "start_time": "2022-02-13T14:33:55.528Z"
   },
   {
    "duration": 486,
    "start_time": "2022-02-13T14:33:55.533Z"
   },
   {
    "duration": 229,
    "start_time": "2022-02-13T14:33:56.022Z"
   },
   {
    "duration": 310,
    "start_time": "2022-02-13T14:33:56.253Z"
   },
   {
    "duration": 291,
    "start_time": "2022-02-13T14:33:56.565Z"
   },
   {
    "duration": 149,
    "start_time": "2022-02-13T14:33:56.858Z"
   },
   {
    "duration": 364,
    "start_time": "2022-02-13T14:33:57.009Z"
   },
   {
    "duration": 233,
    "start_time": "2022-02-13T14:33:57.375Z"
   },
   {
    "duration": 143,
    "start_time": "2022-02-13T14:33:57.611Z"
   },
   {
    "duration": 208,
    "start_time": "2022-02-13T14:33:57.757Z"
   },
   {
    "duration": 333,
    "start_time": "2022-02-13T14:33:57.967Z"
   },
   {
    "duration": 387,
    "start_time": "2022-02-13T14:33:58.302Z"
   },
   {
    "duration": 122,
    "start_time": "2022-02-13T14:33:58.690Z"
   },
   {
    "duration": 256,
    "start_time": "2022-02-13T14:33:58.814Z"
   },
   {
    "duration": 115,
    "start_time": "2022-02-13T14:33:59.072Z"
   },
   {
    "duration": 313,
    "start_time": "2022-02-13T14:33:59.189Z"
   },
   {
    "duration": 228,
    "start_time": "2022-02-13T14:33:59.504Z"
   },
   {
    "duration": 278,
    "start_time": "2022-02-13T14:33:59.734Z"
   },
   {
    "duration": 514,
    "start_time": "2022-02-13T14:34:00.014Z"
   },
   {
    "duration": 217,
    "start_time": "2022-02-13T14:34:00.529Z"
   },
   {
    "duration": 92,
    "start_time": "2022-02-13T14:34:00.748Z"
   },
   {
    "duration": 381,
    "start_time": "2022-02-13T14:34:00.842Z"
   },
   {
    "duration": 388,
    "start_time": "2022-02-13T14:34:01.225Z"
   },
   {
    "duration": 250,
    "start_time": "2022-02-13T14:34:01.615Z"
   },
   {
    "duration": 217,
    "start_time": "2022-02-13T14:34:01.867Z"
   },
   {
    "duration": 242,
    "start_time": "2022-02-13T14:34:02.086Z"
   },
   {
    "duration": 110,
    "start_time": "2022-02-13T14:34:02.331Z"
   },
   {
    "duration": 216,
    "start_time": "2022-02-13T14:34:02.443Z"
   },
   {
    "duration": 493,
    "start_time": "2022-02-13T14:34:02.661Z"
   },
   {
    "duration": 577,
    "start_time": "2022-02-13T14:34:03.156Z"
   },
   {
    "duration": 260,
    "start_time": "2022-02-13T14:34:03.734Z"
   },
   {
    "duration": 284,
    "start_time": "2022-02-13T14:34:03.995Z"
   },
   {
    "duration": 257,
    "start_time": "2022-02-13T14:34:04.281Z"
   },
   {
    "duration": 123,
    "start_time": "2022-02-13T14:34:04.540Z"
   },
   {
    "duration": 113,
    "start_time": "2022-02-13T14:34:04.665Z"
   },
   {
    "duration": 198,
    "start_time": "2022-02-13T14:34:04.781Z"
   },
   {
    "duration": 198,
    "start_time": "2022-02-13T14:34:04.981Z"
   },
   {
    "duration": 232,
    "start_time": "2022-02-13T14:34:05.181Z"
   },
   {
    "duration": 327,
    "start_time": "2022-02-13T14:34:05.415Z"
   },
   {
    "duration": 9,
    "start_time": "2022-02-13T14:34:24.075Z"
   },
   {
    "duration": 374,
    "start_time": "2022-02-13T14:34:36.540Z"
   },
   {
    "duration": 7,
    "start_time": "2022-02-13T14:34:53.428Z"
   },
   {
    "duration": 696,
    "start_time": "2022-02-13T14:35:43.201Z"
   },
   {
    "duration": 7,
    "start_time": "2022-02-13T14:36:00.368Z"
   },
   {
    "duration": 13,
    "start_time": "2022-02-13T14:36:31.026Z"
   },
   {
    "duration": 7,
    "start_time": "2022-02-13T14:36:45.527Z"
   },
   {
    "duration": 4,
    "start_time": "2022-02-13T14:37:15.675Z"
   },
   {
    "duration": 9,
    "start_time": "2022-02-13T14:37:47.364Z"
   },
   {
    "duration": 341,
    "start_time": "2022-02-13T14:39:40.873Z"
   },
   {
    "duration": 10,
    "start_time": "2022-02-13T14:39:59.996Z"
   },
   {
    "duration": 7,
    "start_time": "2022-02-13T14:41:02.395Z"
   },
   {
    "duration": 8,
    "start_time": "2022-02-13T14:41:26.880Z"
   },
   {
    "duration": 8,
    "start_time": "2022-02-13T14:41:50.042Z"
   },
   {
    "duration": 5,
    "start_time": "2022-02-13T14:43:01.620Z"
   },
   {
    "duration": 326,
    "start_time": "2022-02-13T14:43:18.087Z"
   },
   {
    "duration": 5,
    "start_time": "2022-02-13T14:43:34.740Z"
   },
   {
    "duration": 5,
    "start_time": "2022-02-13T14:43:44.051Z"
   },
   {
    "duration": 2,
    "start_time": "2022-02-13T14:43:50.843Z"
   },
   {
    "duration": 513,
    "start_time": "2022-02-13T14:43:50.847Z"
   },
   {
    "duration": 453,
    "start_time": "2022-02-13T14:43:51.363Z"
   },
   {
    "duration": 712,
    "start_time": "2022-02-13T14:43:51.819Z"
   },
   {
    "duration": 385,
    "start_time": "2022-02-13T14:43:52.533Z"
   },
   {
    "duration": 481,
    "start_time": "2022-02-13T14:43:52.920Z"
   },
   {
    "duration": 329,
    "start_time": "2022-02-13T14:43:53.402Z"
   },
   {
    "duration": 188,
    "start_time": "2022-02-13T14:43:53.733Z"
   },
   {
    "duration": 265,
    "start_time": "2022-02-13T14:43:53.924Z"
   },
   {
    "duration": 455,
    "start_time": "2022-02-13T14:43:54.191Z"
   },
   {
    "duration": 431,
    "start_time": "2022-02-13T14:43:54.648Z"
   },
   {
    "duration": 714,
    "start_time": "2022-02-13T14:43:55.081Z"
   },
   {
    "duration": 418,
    "start_time": "2022-02-13T14:43:55.796Z"
   },
   {
    "duration": 330,
    "start_time": "2022-02-13T14:43:56.216Z"
   },
   {
    "duration": 722,
    "start_time": "2022-02-13T14:43:56.548Z"
   },
   {
    "duration": 202,
    "start_time": "2022-02-13T14:43:57.271Z"
   },
   {
    "duration": 543,
    "start_time": "2022-02-13T14:43:57.475Z"
   },
   {
    "duration": 989,
    "start_time": "2022-02-13T14:43:58.020Z"
   },
   {
    "duration": 655,
    "start_time": "2022-02-13T14:43:59.011Z"
   },
   {
    "duration": 484,
    "start_time": "2022-02-13T14:43:59.668Z"
   },
   {
    "duration": 875,
    "start_time": "2022-02-13T14:44:00.154Z"
   },
   {
    "duration": 639,
    "start_time": "2022-02-13T14:44:01.030Z"
   },
   {
    "duration": 501,
    "start_time": "2022-02-13T14:44:01.670Z"
   },
   {
    "duration": 405,
    "start_time": "2022-02-13T14:44:02.172Z"
   },
   {
    "duration": 404,
    "start_time": "2022-02-13T14:44:02.578Z"
   },
   {
    "duration": 288,
    "start_time": "2022-02-13T14:44:02.984Z"
   },
   {
    "duration": 199,
    "start_time": "2022-02-13T14:44:03.275Z"
   },
   {
    "duration": 419,
    "start_time": "2022-02-13T14:44:03.475Z"
   },
   {
    "duration": 380,
    "start_time": "2022-02-13T14:44:03.895Z"
   },
   {
    "duration": 430,
    "start_time": "2022-02-13T14:44:04.276Z"
   },
   {
    "duration": 290,
    "start_time": "2022-02-13T14:44:04.708Z"
   },
   {
    "duration": 568,
    "start_time": "2022-02-13T14:44:05.000Z"
   },
   {
    "duration": 575,
    "start_time": "2022-02-13T14:44:05.570Z"
   },
   {
    "duration": 223,
    "start_time": "2022-02-13T14:44:06.146Z"
   },
   {
    "duration": 485,
    "start_time": "2022-02-13T14:44:06.371Z"
   },
   {
    "duration": 529,
    "start_time": "2022-02-13T14:44:06.858Z"
   },
   {
    "duration": 259,
    "start_time": "2022-02-13T14:44:07.389Z"
   },
   {
    "duration": 320,
    "start_time": "2022-02-13T14:44:07.650Z"
   },
   {
    "duration": 456,
    "start_time": "2022-02-13T14:44:07.972Z"
   },
   {
    "duration": 6,
    "start_time": "2022-02-13T14:44:12.768Z"
   },
   {
    "duration": 320,
    "start_time": "2022-02-13T14:45:08.580Z"
   },
   {
    "duration": 7,
    "start_time": "2022-02-13T14:45:49.071Z"
   },
   {
    "duration": 406,
    "start_time": "2022-02-13T14:46:01.100Z"
   },
   {
    "duration": 325,
    "start_time": "2022-02-13T14:46:12.633Z"
   },
   {
    "duration": 6,
    "start_time": "2022-02-13T14:46:24.707Z"
   },
   {
    "duration": 352,
    "start_time": "2022-02-13T14:52:28.387Z"
   },
   {
    "duration": 331,
    "start_time": "2022-02-13T14:52:41.185Z"
   },
   {
    "duration": 377,
    "start_time": "2022-02-13T14:52:59.818Z"
   },
   {
    "duration": 40,
    "start_time": "2022-02-13T14:53:35.565Z"
   },
   {
    "duration": 39,
    "start_time": "2022-02-13T14:54:13.305Z"
   },
   {
    "duration": 402,
    "start_time": "2022-02-13T14:54:32.282Z"
   },
   {
    "duration": 9,
    "start_time": "2022-02-13T14:54:52.609Z"
   },
   {
    "duration": 451,
    "start_time": "2022-02-13T14:55:15.819Z"
   },
   {
    "duration": 427,
    "start_time": "2022-02-13T14:55:39.584Z"
   },
   {
    "duration": 9,
    "start_time": "2022-02-13T14:55:56.998Z"
   },
   {
    "duration": 7,
    "start_time": "2022-02-13T14:59:24.847Z"
   },
   {
    "duration": 7,
    "start_time": "2022-02-13T14:59:47.734Z"
   },
   {
    "duration": 7,
    "start_time": "2022-02-13T15:02:30.634Z"
   },
   {
    "duration": 337,
    "start_time": "2022-02-13T15:02:56.236Z"
   },
   {
    "duration": 7,
    "start_time": "2022-02-13T15:03:19.075Z"
   },
   {
    "duration": 9,
    "start_time": "2022-02-13T15:03:32.987Z"
   },
   {
    "duration": 3,
    "start_time": "2022-02-13T15:03:43.811Z"
   },
   {
    "duration": 3,
    "start_time": "2022-02-13T15:03:55.875Z"
   },
   {
    "duration": 3,
    "start_time": "2022-02-13T15:09:07.022Z"
   },
   {
    "duration": 2275,
    "start_time": "2022-02-13T15:09:07.028Z"
   },
   {
    "duration": 1046,
    "start_time": "2022-02-13T15:09:09.306Z"
   },
   {
    "duration": 1399,
    "start_time": "2022-02-13T15:09:10.354Z"
   },
   {
    "duration": 887,
    "start_time": "2022-02-13T15:09:11.755Z"
   },
   {
    "duration": 1388,
    "start_time": "2022-02-13T15:09:12.644Z"
   },
   {
    "duration": 892,
    "start_time": "2022-02-13T15:09:14.034Z"
   },
   {
    "duration": 1135,
    "start_time": "2022-02-13T15:09:14.928Z"
   },
   {
    "duration": 1586,
    "start_time": "2022-02-13T15:09:16.066Z"
   },
   {
    "duration": 1838,
    "start_time": "2022-02-13T15:09:17.654Z"
   },
   {
    "duration": 1443,
    "start_time": "2022-02-13T15:09:19.493Z"
   },
   {
    "duration": 2379,
    "start_time": "2022-02-13T15:09:20.938Z"
   },
   {
    "duration": 2247,
    "start_time": "2022-02-13T15:09:23.319Z"
   },
   {
    "duration": 2505,
    "start_time": "2022-02-13T15:09:25.568Z"
   },
   {
    "duration": 1814,
    "start_time": "2022-02-13T15:09:28.075Z"
   },
   {
    "duration": 1028,
    "start_time": "2022-02-13T15:09:29.891Z"
   },
   {
    "duration": 1655,
    "start_time": "2022-02-13T15:09:30.921Z"
   },
   {
    "duration": 1582,
    "start_time": "2022-02-13T15:09:32.578Z"
   },
   {
    "duration": 872,
    "start_time": "2022-02-13T15:09:34.161Z"
   },
   {
    "duration": 1867,
    "start_time": "2022-02-13T15:09:35.035Z"
   },
   {
    "duration": 2535,
    "start_time": "2022-02-13T15:09:36.903Z"
   },
   {
    "duration": 1446,
    "start_time": "2022-02-13T15:09:39.440Z"
   },
   {
    "duration": 2010,
    "start_time": "2022-02-13T15:09:40.888Z"
   },
   {
    "duration": 1360,
    "start_time": "2022-02-13T15:09:42.900Z"
   },
   {
    "duration": 788,
    "start_time": "2022-02-13T15:09:44.262Z"
   },
   {
    "duration": 1819,
    "start_time": "2022-02-13T15:09:45.052Z"
   },
   {
    "duration": 492,
    "start_time": "2022-02-13T15:09:46.875Z"
   },
   {
    "duration": 1854,
    "start_time": "2022-02-13T15:09:47.369Z"
   },
   {
    "duration": 2189,
    "start_time": "2022-02-13T15:09:49.224Z"
   },
   {
    "duration": 2980,
    "start_time": "2022-02-13T15:09:51.415Z"
   },
   {
    "duration": 1331,
    "start_time": "2022-02-13T15:09:54.397Z"
   },
   {
    "duration": 1426,
    "start_time": "2022-02-13T15:09:55.729Z"
   },
   {
    "duration": 2320,
    "start_time": "2022-02-13T15:09:57.157Z"
   },
   {
    "duration": 1878,
    "start_time": "2022-02-13T15:09:59.479Z"
   },
   {
    "duration": 1666,
    "start_time": "2022-02-13T15:10:01.358Z"
   },
   {
    "duration": 1321,
    "start_time": "2022-02-13T15:10:03.027Z"
   },
   {
    "duration": 1967,
    "start_time": "2022-02-13T15:10:04.350Z"
   },
   {
    "duration": 1994,
    "start_time": "2022-02-13T15:10:06.319Z"
   },
   {
    "duration": 2747,
    "start_time": "2022-02-13T15:10:08.315Z"
   },
   {
    "duration": 858,
    "start_time": "2022-02-13T15:10:11.064Z"
   },
   {
    "duration": 635,
    "start_time": "2022-02-13T17:27:41.980Z"
   },
   {
    "duration": 142,
    "start_time": "2022-02-13T17:27:42.617Z"
   },
   {
    "duration": 18,
    "start_time": "2022-02-13T17:27:42.761Z"
   },
   {
    "duration": 11,
    "start_time": "2022-02-13T17:27:42.781Z"
   },
   {
    "duration": 26,
    "start_time": "2022-02-13T17:27:42.794Z"
   },
   {
    "duration": 4,
    "start_time": "2022-02-13T17:27:42.822Z"
   },
   {
    "duration": 49,
    "start_time": "2022-02-13T17:27:42.828Z"
   },
   {
    "duration": 4,
    "start_time": "2022-02-13T17:27:42.879Z"
   },
   {
    "duration": 27,
    "start_time": "2022-02-13T17:27:42.886Z"
   },
   {
    "duration": 19,
    "start_time": "2022-02-13T17:27:42.915Z"
   },
   {
    "duration": 42,
    "start_time": "2022-02-13T17:27:42.936Z"
   },
   {
    "duration": 64,
    "start_time": "2022-02-13T17:27:42.980Z"
   },
   {
    "duration": 80,
    "start_time": "2022-02-13T17:27:43.046Z"
   },
   {
    "duration": 65,
    "start_time": "2022-02-13T17:27:43.128Z"
   },
   {
    "duration": 6,
    "start_time": "2022-02-13T17:27:43.194Z"
   },
   {
    "duration": 4,
    "start_time": "2022-02-13T17:27:43.202Z"
   },
   {
    "duration": 5,
    "start_time": "2022-02-13T17:27:43.208Z"
   },
   {
    "duration": 19,
    "start_time": "2022-02-13T17:27:43.215Z"
   },
   {
    "duration": 7,
    "start_time": "2022-02-13T17:27:43.259Z"
   },
   {
    "duration": 33,
    "start_time": "2022-02-13T17:27:43.267Z"
   },
   {
    "duration": 60,
    "start_time": "2022-02-13T17:27:43.302Z"
   },
   {
    "duration": 4,
    "start_time": "2022-02-13T17:27:43.364Z"
   },
   {
    "duration": 23,
    "start_time": "2022-02-13T17:27:43.369Z"
   },
   {
    "duration": 15,
    "start_time": "2022-02-13T17:27:43.393Z"
   },
   {
    "duration": 15,
    "start_time": "2022-02-13T17:27:43.409Z"
   },
   {
    "duration": 42,
    "start_time": "2022-02-13T17:27:43.426Z"
   },
   {
    "duration": 30,
    "start_time": "2022-02-13T17:27:43.471Z"
   },
   {
    "duration": 21,
    "start_time": "2022-02-13T17:27:43.503Z"
   },
   {
    "duration": 14,
    "start_time": "2022-02-13T17:27:43.526Z"
   },
   {
    "duration": 32,
    "start_time": "2022-02-13T17:27:43.542Z"
   },
   {
    "duration": 15,
    "start_time": "2022-02-13T17:27:43.576Z"
   },
   {
    "duration": 4,
    "start_time": "2022-02-13T17:27:43.592Z"
   },
   {
    "duration": 24,
    "start_time": "2022-02-13T17:27:43.598Z"
   },
   {
    "duration": 44,
    "start_time": "2022-02-13T17:27:43.624Z"
   },
   {
    "duration": 20,
    "start_time": "2022-02-13T17:27:43.669Z"
   },
   {
    "duration": 14,
    "start_time": "2022-02-13T17:27:43.691Z"
   },
   {
    "duration": 9,
    "start_time": "2022-02-13T17:27:43.707Z"
   },
   {
    "duration": 5,
    "start_time": "2022-02-13T17:27:43.717Z"
   },
   {
    "duration": 6,
    "start_time": "2022-02-13T17:27:43.760Z"
   },
   {
    "duration": 7,
    "start_time": "2022-02-13T17:27:43.768Z"
   },
   {
    "duration": 3,
    "start_time": "2022-02-13T17:29:05.362Z"
   },
   {
    "duration": 5,
    "start_time": "2022-02-13T17:29:15.557Z"
   },
   {
    "duration": 6,
    "start_time": "2022-02-13T17:37:48.285Z"
   },
   {
    "duration": 16,
    "start_time": "2022-02-13T17:37:50.640Z"
   },
   {
    "duration": 7,
    "start_time": "2022-02-13T17:38:40.484Z"
   },
   {
    "duration": 4,
    "start_time": "2022-02-13T17:39:18.223Z"
   },
   {
    "duration": 12,
    "start_time": "2022-02-13T17:45:59.347Z"
   },
   {
    "duration": 32,
    "start_time": "2022-02-13T17:46:25.951Z"
   },
   {
    "duration": 11,
    "start_time": "2022-02-13T17:47:21.073Z"
   },
   {
    "duration": 11,
    "start_time": "2022-02-13T17:51:59.671Z"
   }
  ],
  "colab": {
   "collapsed_sections": [
    "E0vqbgi9ay0H",
    "VUC88oWjTJw2"
   ],
   "name": "yandex_music_project_2021.2.ipynb",
   "provenance": []
  },
  "kernelspec": {
   "display_name": "Python 3 (ipykernel)",
   "language": "python",
   "name": "python3"
  },
  "language_info": {
   "codemirror_mode": {
    "name": "ipython",
    "version": 3
   },
   "file_extension": ".py",
   "mimetype": "text/x-python",
   "name": "python",
   "nbconvert_exporter": "python",
   "pygments_lexer": "ipython3",
   "version": "3.9.12"
  },
  "toc": {
   "base_numbering": 1,
   "nav_menu": {},
   "number_sections": true,
   "sideBar": true,
   "skip_h1_title": true,
   "title_cell": "Table of Contents",
   "title_sidebar": "Contents",
   "toc_cell": false,
   "toc_position": {
    "height": "calc(100% - 180px)",
    "left": "10px",
    "top": "150px",
    "width": "230.4px"
   },
   "toc_section_display": true,
   "toc_window_display": true
  }
 },
 "nbformat": 4,
 "nbformat_minor": 1
}
