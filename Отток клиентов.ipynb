{
 "cells": [
  {
   "cell_type": "markdown",
   "metadata": {
    "toc": true
   },
   "source": [
    "<h1>Содержание<span class=\"tocSkip\"></span></h1>\n",
    "<div class=\"toc\"><ul class=\"toc-item\"><li><span><a href=\"#Подготовка-данных\" data-toc-modified-id=\"Подготовка-данных-1\"><span class=\"toc-item-num\">1&nbsp;&nbsp;</span>Подготовка данных</a></span><ul class=\"toc-item\"><li><span><a href=\"#Предобработка-данных\" data-toc-modified-id=\"Предобработка-данных-1.1\"><span class=\"toc-item-num\">1.1&nbsp;&nbsp;</span>Предобработка данных</a></span></li><li><span><a href=\"#Формирование-выборок\" data-toc-modified-id=\"Формирование-выборок-1.2\"><span class=\"toc-item-num\">1.2&nbsp;&nbsp;</span>Формирование выборок</a></span></li></ul></li><li><span><a href=\"#Исследование-задачи\" data-toc-modified-id=\"Исследование-задачи-2\"><span class=\"toc-item-num\">2&nbsp;&nbsp;</span>Исследование задачи</a></span><ul class=\"toc-item\"><li><span><a href=\"#Баланс-данных\" data-toc-modified-id=\"Баланс-данных-2.1\"><span class=\"toc-item-num\">2.1&nbsp;&nbsp;</span>Баланс данных</a></span></li></ul></li><li><span><a href=\"#Борьба-с-дисбалансом\" data-toc-modified-id=\"Борьба-с-дисбалансом-3\"><span class=\"toc-item-num\">3&nbsp;&nbsp;</span>Борьба с дисбалансом</a></span><ul class=\"toc-item\"><li><span><a href=\"#Обучение-моделей-с-параметром-автоматической-регулировки-весов.\" data-toc-modified-id=\"Обучение-моделей-с-параметром-автоматической-регулировки-весов.-3.1\"><span class=\"toc-item-num\">3.1&nbsp;&nbsp;</span>Обучение моделей с параметром автоматической регулировки весов.</a></span></li></ul></li><li><span><a href=\"#Тестирование-модели\" data-toc-modified-id=\"Тестирование-модели-4\"><span class=\"toc-item-num\">4&nbsp;&nbsp;</span>Тестирование модели</a></span><ul class=\"toc-item\"><li><span><a href=\"#Обучение-после-балансировки-данных\" data-toc-modified-id=\"Обучение-после-балансировки-данных-4.1\"><span class=\"toc-item-num\">4.1&nbsp;&nbsp;</span>Обучение после балансировки данных</a></span></li><li><span><a href=\"#Выводы:\" data-toc-modified-id=\"Выводы:-4.2\"><span class=\"toc-item-num\">4.2&nbsp;&nbsp;</span>Выводы:</a></span></li></ul></li><li><span><a href=\"#Чек-лист-готовности-проекта\" data-toc-modified-id=\"Чек-лист-готовности-проекта-5\"><span class=\"toc-item-num\">5&nbsp;&nbsp;</span>Чек-лист готовности проекта</a></span></li></ul></div>"
   ]
  },
  {
   "cell_type": "markdown",
   "metadata": {},
   "source": [
    "# Отток клиентов"
   ]
  },
  {
   "cell_type": "markdown",
   "metadata": {},
   "source": [
    "Из «Бета-Банка» стали уходить клиенты. Каждый месяц. Немного, но заметно. Банковские маркетологи посчитали: сохранять текущих клиентов дешевле, чем привлекать новых.\n",
    "\n",
    "Нужно спрогнозировать, уйдёт клиент из банка в ближайшее время или нет. Вам предоставлены исторические данные о поведении клиентов и расторжении договоров с банком. \n",
    "\n",
    "Постройте модель с предельно большим значением *F1*-меры. Чтобы сдать проект успешно, нужно довести метрику до 0.59. Проверьте *F1*-меру на тестовой выборке самостоятельно.\n",
    "\n",
    "Дополнительно измеряйте *AUC-ROC*, сравнивайте её значение с *F1*-мерой.\n",
    "\n",
    "Источник данных: [https://www.kaggle.com/barelydedicated/bank-customer-churn-modeling](https://www.kaggle.com/barelydedicated/bank-customer-churn-modeling)"
   ]
  },
  {
   "cell_type": "markdown",
   "metadata": {},
   "source": [
    "## Подготовка данных"
   ]
  },
  {
   "cell_type": "code",
   "execution_count": 48,
   "metadata": {},
   "outputs": [],
   "source": [
    "import pandas as pd\n",
    "import matplotlib.pyplot as plt\n",
    "from sklearn.tree import DecisionTreeClassifier\n",
    "from sklearn.ensemble import RandomForestClassifier\n",
    "from sklearn.linear_model import LogisticRegression\n",
    "from sklearn.model_selection import train_test_split\n",
    "from sklearn.preprocessing import StandardScaler\n",
    "from sklearn.utils import shuffle\n",
    "from sklearn.metrics import accuracy_score, precision_score, recall_score, roc_auc_score, roc_curve, f1_score\n",
    "import warnings\n",
    "warnings.filterwarnings('ignore')"
   ]
  },
  {
   "cell_type": "code",
   "execution_count": 49,
   "metadata": {},
   "outputs": [
    {
     "name": "stdout",
     "output_type": "stream",
     "text": [
      "<class 'pandas.core.frame.DataFrame'>\n",
      "RangeIndex: 10000 entries, 0 to 9999\n",
      "Data columns (total 14 columns):\n",
      " #   Column           Non-Null Count  Dtype  \n",
      "---  ------           --------------  -----  \n",
      " 0   RowNumber        10000 non-null  int64  \n",
      " 1   CustomerId       10000 non-null  int64  \n",
      " 2   Surname          10000 non-null  object \n",
      " 3   CreditScore      10000 non-null  int64  \n",
      " 4   Geography        10000 non-null  object \n",
      " 5   Gender           10000 non-null  object \n",
      " 6   Age              10000 non-null  int64  \n",
      " 7   Tenure           9091 non-null   float64\n",
      " 8   Balance          10000 non-null  float64\n",
      " 9   NumOfProducts    10000 non-null  int64  \n",
      " 10  HasCrCard        10000 non-null  int64  \n",
      " 11  IsActiveMember   10000 non-null  int64  \n",
      " 12  EstimatedSalary  10000 non-null  float64\n",
      " 13  Exited           10000 non-null  int64  \n",
      "dtypes: float64(3), int64(8), object(3)\n",
      "memory usage: 1.1+ MB\n"
     ]
    }
   ],
   "source": [
    "data = pd.read_csv('/datasets/Churn.csv')\n",
    "data.info()"
   ]
  },
  {
   "cell_type": "markdown",
   "metadata": {},
   "source": [
    "<b>Признаки</b>\n",
    "- RowNumber — индекс строки в данных\n",
    "- CustomerId — уникальный идентификатор клиента\n",
    "- Surname — фамилия\n",
    "- CreditScore — кредитный рейтинг\n",
    "- Geography — страна проживания\n",
    "- Gender — пол\n",
    "- Age — возраст\n",
    "- Tenure — сколько лет человек является клиентом банка\n",
    "- Balance — баланс на счёте\n",
    "- NumOfProducts — количество продуктов банка, используемых клиентом\n",
    "- HasCrCard — наличие кредитной карты\n",
    "- IsActiveMember — активность клиента\n",
    "- EstimatedSalary — предполагаемая зарплата\n",
    "\n",
    "<b>Целевой признак</b>\n",
    "- Exited — факт ухода клиента"
   ]
  },
  {
   "cell_type": "code",
   "execution_count": 50,
   "metadata": {},
   "outputs": [
    {
     "data": {
      "text/html": [
       "<div>\n",
       "<style scoped>\n",
       "    .dataframe tbody tr th:only-of-type {\n",
       "        vertical-align: middle;\n",
       "    }\n",
       "\n",
       "    .dataframe tbody tr th {\n",
       "        vertical-align: top;\n",
       "    }\n",
       "\n",
       "    .dataframe thead th {\n",
       "        text-align: right;\n",
       "    }\n",
       "</style>\n",
       "<table border=\"1\" class=\"dataframe\">\n",
       "  <thead>\n",
       "    <tr style=\"text-align: right;\">\n",
       "      <th></th>\n",
       "      <th>RowNumber</th>\n",
       "      <th>CustomerId</th>\n",
       "      <th>Surname</th>\n",
       "      <th>CreditScore</th>\n",
       "      <th>Geography</th>\n",
       "      <th>Gender</th>\n",
       "      <th>Age</th>\n",
       "      <th>Tenure</th>\n",
       "      <th>Balance</th>\n",
       "      <th>NumOfProducts</th>\n",
       "      <th>HasCrCard</th>\n",
       "      <th>IsActiveMember</th>\n",
       "      <th>EstimatedSalary</th>\n",
       "      <th>Exited</th>\n",
       "    </tr>\n",
       "  </thead>\n",
       "  <tbody>\n",
       "    <tr>\n",
       "      <th>0</th>\n",
       "      <td>1</td>\n",
       "      <td>15634602</td>\n",
       "      <td>Hargrave</td>\n",
       "      <td>619</td>\n",
       "      <td>France</td>\n",
       "      <td>Female</td>\n",
       "      <td>42</td>\n",
       "      <td>2.0</td>\n",
       "      <td>0.00</td>\n",
       "      <td>1</td>\n",
       "      <td>1</td>\n",
       "      <td>1</td>\n",
       "      <td>101348.88</td>\n",
       "      <td>1</td>\n",
       "    </tr>\n",
       "    <tr>\n",
       "      <th>1</th>\n",
       "      <td>2</td>\n",
       "      <td>15647311</td>\n",
       "      <td>Hill</td>\n",
       "      <td>608</td>\n",
       "      <td>Spain</td>\n",
       "      <td>Female</td>\n",
       "      <td>41</td>\n",
       "      <td>1.0</td>\n",
       "      <td>83807.86</td>\n",
       "      <td>1</td>\n",
       "      <td>0</td>\n",
       "      <td>1</td>\n",
       "      <td>112542.58</td>\n",
       "      <td>0</td>\n",
       "    </tr>\n",
       "    <tr>\n",
       "      <th>2</th>\n",
       "      <td>3</td>\n",
       "      <td>15619304</td>\n",
       "      <td>Onio</td>\n",
       "      <td>502</td>\n",
       "      <td>France</td>\n",
       "      <td>Female</td>\n",
       "      <td>42</td>\n",
       "      <td>8.0</td>\n",
       "      <td>159660.80</td>\n",
       "      <td>3</td>\n",
       "      <td>1</td>\n",
       "      <td>0</td>\n",
       "      <td>113931.57</td>\n",
       "      <td>1</td>\n",
       "    </tr>\n",
       "    <tr>\n",
       "      <th>3</th>\n",
       "      <td>4</td>\n",
       "      <td>15701354</td>\n",
       "      <td>Boni</td>\n",
       "      <td>699</td>\n",
       "      <td>France</td>\n",
       "      <td>Female</td>\n",
       "      <td>39</td>\n",
       "      <td>1.0</td>\n",
       "      <td>0.00</td>\n",
       "      <td>2</td>\n",
       "      <td>0</td>\n",
       "      <td>0</td>\n",
       "      <td>93826.63</td>\n",
       "      <td>0</td>\n",
       "    </tr>\n",
       "    <tr>\n",
       "      <th>4</th>\n",
       "      <td>5</td>\n",
       "      <td>15737888</td>\n",
       "      <td>Mitchell</td>\n",
       "      <td>850</td>\n",
       "      <td>Spain</td>\n",
       "      <td>Female</td>\n",
       "      <td>43</td>\n",
       "      <td>2.0</td>\n",
       "      <td>125510.82</td>\n",
       "      <td>1</td>\n",
       "      <td>1</td>\n",
       "      <td>1</td>\n",
       "      <td>79084.10</td>\n",
       "      <td>0</td>\n",
       "    </tr>\n",
       "  </tbody>\n",
       "</table>\n",
       "</div>"
      ],
      "text/plain": [
       "   RowNumber  CustomerId   Surname  CreditScore Geography  Gender  Age  \\\n",
       "0          1    15634602  Hargrave          619    France  Female   42   \n",
       "1          2    15647311      Hill          608     Spain  Female   41   \n",
       "2          3    15619304      Onio          502    France  Female   42   \n",
       "3          4    15701354      Boni          699    France  Female   39   \n",
       "4          5    15737888  Mitchell          850     Spain  Female   43   \n",
       "\n",
       "   Tenure    Balance  NumOfProducts  HasCrCard  IsActiveMember  \\\n",
       "0     2.0       0.00              1          1               1   \n",
       "1     1.0   83807.86              1          0               1   \n",
       "2     8.0  159660.80              3          1               0   \n",
       "3     1.0       0.00              2          0               0   \n",
       "4     2.0  125510.82              1          1               1   \n",
       "\n",
       "   EstimatedSalary  Exited  \n",
       "0        101348.88       1  \n",
       "1        112542.58       0  \n",
       "2        113931.57       1  \n",
       "3         93826.63       0  \n",
       "4         79084.10       0  "
      ]
     },
     "execution_count": 50,
     "metadata": {},
     "output_type": "execute_result"
    }
   ],
   "source": [
    "data.head()"
   ]
  },
  {
   "cell_type": "markdown",
   "metadata": {},
   "source": [
    "<b>Вывод</b>\n",
    "- RowNumber — столбец дублирует индекс, удаляем.\n",
    "- CustomerId — уникальный id,не несет полезной информации, удаляем.\n",
    "- Surname — фамилия, не несет полезной информации, удаляем.\n",
    "- Geography, Gender — преобразуем методом One-Hot Encoding.\n",
    "- Tenure — заменим пропуски средними значениями.\n",
    "- CreditScore, Age, Tenur, Balance, NumOfProducts, EstimatedSalary — масштабируем."
   ]
  },
  {
   "cell_type": "markdown",
   "metadata": {},
   "source": [
    "### Предобработка данных"
   ]
  },
  {
   "cell_type": "code",
   "execution_count": 51,
   "metadata": {},
   "outputs": [],
   "source": [
    "# Удаляем неинформативные столбцы\n",
    "data = data.drop(['RowNumber','CustomerId','Surname'], axis=1)"
   ]
  },
  {
   "cell_type": "code",
   "execution_count": 52,
   "metadata": {},
   "outputs": [],
   "source": [
    "# Заполним пропуски средними значениями\n",
    "data['Tenure'] = data['Tenure'].fillna(data['Tenure'].mean()).astype('int64')"
   ]
  },
  {
   "cell_type": "code",
   "execution_count": 53,
   "metadata": {},
   "outputs": [],
   "source": [
    "# Избавимся от категориальных признаков\n",
    "data = pd.get_dummies(data, drop_first=True)"
   ]
  },
  {
   "cell_type": "code",
   "execution_count": 54,
   "metadata": {},
   "outputs": [
    {
     "data": {
      "text/html": [
       "<div>\n",
       "<style scoped>\n",
       "    .dataframe tbody tr th:only-of-type {\n",
       "        vertical-align: middle;\n",
       "    }\n",
       "\n",
       "    .dataframe tbody tr th {\n",
       "        vertical-align: top;\n",
       "    }\n",
       "\n",
       "    .dataframe thead th {\n",
       "        text-align: right;\n",
       "    }\n",
       "</style>\n",
       "<table border=\"1\" class=\"dataframe\">\n",
       "  <thead>\n",
       "    <tr style=\"text-align: right;\">\n",
       "      <th></th>\n",
       "      <th>CreditScore</th>\n",
       "      <th>Age</th>\n",
       "      <th>Tenure</th>\n",
       "      <th>Balance</th>\n",
       "      <th>NumOfProducts</th>\n",
       "      <th>HasCrCard</th>\n",
       "      <th>IsActiveMember</th>\n",
       "      <th>EstimatedSalary</th>\n",
       "      <th>Exited</th>\n",
       "      <th>Geography_Germany</th>\n",
       "      <th>Geography_Spain</th>\n",
       "      <th>Gender_Male</th>\n",
       "    </tr>\n",
       "  </thead>\n",
       "  <tbody>\n",
       "    <tr>\n",
       "      <th>0</th>\n",
       "      <td>619</td>\n",
       "      <td>42</td>\n",
       "      <td>2</td>\n",
       "      <td>0.00</td>\n",
       "      <td>1</td>\n",
       "      <td>1</td>\n",
       "      <td>1</td>\n",
       "      <td>101348.88</td>\n",
       "      <td>1</td>\n",
       "      <td>0</td>\n",
       "      <td>0</td>\n",
       "      <td>0</td>\n",
       "    </tr>\n",
       "    <tr>\n",
       "      <th>1</th>\n",
       "      <td>608</td>\n",
       "      <td>41</td>\n",
       "      <td>1</td>\n",
       "      <td>83807.86</td>\n",
       "      <td>1</td>\n",
       "      <td>0</td>\n",
       "      <td>1</td>\n",
       "      <td>112542.58</td>\n",
       "      <td>0</td>\n",
       "      <td>0</td>\n",
       "      <td>1</td>\n",
       "      <td>0</td>\n",
       "    </tr>\n",
       "    <tr>\n",
       "      <th>2</th>\n",
       "      <td>502</td>\n",
       "      <td>42</td>\n",
       "      <td>8</td>\n",
       "      <td>159660.80</td>\n",
       "      <td>3</td>\n",
       "      <td>1</td>\n",
       "      <td>0</td>\n",
       "      <td>113931.57</td>\n",
       "      <td>1</td>\n",
       "      <td>0</td>\n",
       "      <td>0</td>\n",
       "      <td>0</td>\n",
       "    </tr>\n",
       "    <tr>\n",
       "      <th>3</th>\n",
       "      <td>699</td>\n",
       "      <td>39</td>\n",
       "      <td>1</td>\n",
       "      <td>0.00</td>\n",
       "      <td>2</td>\n",
       "      <td>0</td>\n",
       "      <td>0</td>\n",
       "      <td>93826.63</td>\n",
       "      <td>0</td>\n",
       "      <td>0</td>\n",
       "      <td>0</td>\n",
       "      <td>0</td>\n",
       "    </tr>\n",
       "    <tr>\n",
       "      <th>4</th>\n",
       "      <td>850</td>\n",
       "      <td>43</td>\n",
       "      <td>2</td>\n",
       "      <td>125510.82</td>\n",
       "      <td>1</td>\n",
       "      <td>1</td>\n",
       "      <td>1</td>\n",
       "      <td>79084.10</td>\n",
       "      <td>0</td>\n",
       "      <td>0</td>\n",
       "      <td>1</td>\n",
       "      <td>0</td>\n",
       "    </tr>\n",
       "  </tbody>\n",
       "</table>\n",
       "</div>"
      ],
      "text/plain": [
       "   CreditScore  Age  Tenure    Balance  NumOfProducts  HasCrCard  \\\n",
       "0          619   42       2       0.00              1          1   \n",
       "1          608   41       1   83807.86              1          0   \n",
       "2          502   42       8  159660.80              3          1   \n",
       "3          699   39       1       0.00              2          0   \n",
       "4          850   43       2  125510.82              1          1   \n",
       "\n",
       "   IsActiveMember  EstimatedSalary  Exited  Geography_Germany  \\\n",
       "0               1        101348.88       1                  0   \n",
       "1               1        112542.58       0                  0   \n",
       "2               0        113931.57       1                  0   \n",
       "3               0         93826.63       0                  0   \n",
       "4               1         79084.10       0                  0   \n",
       "\n",
       "   Geography_Spain  Gender_Male  \n",
       "0                0            0  \n",
       "1                1            0  \n",
       "2                0            0  \n",
       "3                0            0  \n",
       "4                1            0  "
      ]
     },
     "execution_count": 54,
     "metadata": {},
     "output_type": "execute_result"
    }
   ],
   "source": [
    "data.head() # проверка"
   ]
  },
  {
   "cell_type": "markdown",
   "metadata": {},
   "source": [
    "### Формирование выборок"
   ]
  },
  {
   "cell_type": "code",
   "execution_count": 55,
   "metadata": {},
   "outputs": [],
   "source": [
    "# Разбиваем на параметры и целевой признак\n",
    "features=data.drop(['Exited'],axis=1)\n",
    "target=data['Exited']"
   ]
  },
  {
   "cell_type": "code",
   "execution_count": 56,
   "metadata": {},
   "outputs": [
    {
     "name": "stdout",
     "output_type": "stream",
     "text": [
      "(6000, 11) (2000, 11) (2000, 11)\n",
      "(6000,) (2000,) (2000,)\n"
     ]
    }
   ],
   "source": [
    "# Разбиваем на тренировочную, тестовую и валидационную выборки\n",
    "\n",
    "train_features, valid_features, train_target, valid_target = train_test_split(features, target, test_size=0.4, \n",
    "                                                                              random_state=12345)\n",
    "valid_features, test_features, valid_target, test_target = train_test_split(valid_features, valid_target, test_size=0.5, \n",
    "                                                                              random_state=12345 )\n",
    "print(train_features.shape, valid_features.shape, test_features.shape)\n",
    "print(train_target.shape, valid_target.shape, test_target.shape)\n"
   ]
  },
  {
   "cell_type": "code",
   "execution_count": 57,
   "metadata": {},
   "outputs": [],
   "source": [
    "# Масштабируем численные признаки выборок для выравнивания весов\n",
    "numeric=['CreditScore', 'Age', 'Tenure', 'Balance', 'NumOfProducts', 'EstimatedSalary']\n",
    "scaler=StandardScaler()\n",
    "scaler.fit(train_features[numeric])\n",
    "train_features[numeric]=scaler.transform(train_features[numeric])\n",
    "valid_features[numeric]=scaler.transform(valid_features[numeric])\n",
    "test_features[numeric]=scaler.transform(test_features[numeric])"
   ]
  },
  {
   "cell_type": "code",
   "execution_count": 58,
   "metadata": {},
   "outputs": [
    {
     "data": {
      "text/html": [
       "<div>\n",
       "<style scoped>\n",
       "    .dataframe tbody tr th:only-of-type {\n",
       "        vertical-align: middle;\n",
       "    }\n",
       "\n",
       "    .dataframe tbody tr th {\n",
       "        vertical-align: top;\n",
       "    }\n",
       "\n",
       "    .dataframe thead th {\n",
       "        text-align: right;\n",
       "    }\n",
       "</style>\n",
       "<table border=\"1\" class=\"dataframe\">\n",
       "  <thead>\n",
       "    <tr style=\"text-align: right;\">\n",
       "      <th></th>\n",
       "      <th>CreditScore</th>\n",
       "      <th>Age</th>\n",
       "      <th>Tenure</th>\n",
       "      <th>Balance</th>\n",
       "      <th>NumOfProducts</th>\n",
       "      <th>HasCrCard</th>\n",
       "      <th>IsActiveMember</th>\n",
       "      <th>EstimatedSalary</th>\n",
       "      <th>Geography_Germany</th>\n",
       "      <th>Geography_Spain</th>\n",
       "      <th>Gender_Male</th>\n",
       "    </tr>\n",
       "  </thead>\n",
       "  <tbody>\n",
       "    <tr>\n",
       "      <th>7479</th>\n",
       "      <td>-0.886751</td>\n",
       "      <td>-0.373192</td>\n",
       "      <td>1.109334</td>\n",
       "      <td>1.232271</td>\n",
       "      <td>-0.891560</td>\n",
       "      <td>1</td>\n",
       "      <td>0</td>\n",
       "      <td>-0.187705</td>\n",
       "      <td>0</td>\n",
       "      <td>1</td>\n",
       "      <td>1</td>\n",
       "    </tr>\n",
       "    <tr>\n",
       "      <th>3411</th>\n",
       "      <td>0.608663</td>\n",
       "      <td>-0.183385</td>\n",
       "      <td>1.109334</td>\n",
       "      <td>0.600563</td>\n",
       "      <td>-0.891560</td>\n",
       "      <td>0</td>\n",
       "      <td>0</td>\n",
       "      <td>-0.333945</td>\n",
       "      <td>0</td>\n",
       "      <td>0</td>\n",
       "      <td>0</td>\n",
       "    </tr>\n",
       "    <tr>\n",
       "      <th>6027</th>\n",
       "      <td>2.052152</td>\n",
       "      <td>0.480939</td>\n",
       "      <td>-0.700051</td>\n",
       "      <td>1.027098</td>\n",
       "      <td>0.830152</td>\n",
       "      <td>0</td>\n",
       "      <td>1</td>\n",
       "      <td>1.503095</td>\n",
       "      <td>1</td>\n",
       "      <td>0</td>\n",
       "      <td>1</td>\n",
       "    </tr>\n",
       "    <tr>\n",
       "      <th>1247</th>\n",
       "      <td>-1.457915</td>\n",
       "      <td>-1.417129</td>\n",
       "      <td>0.385580</td>\n",
       "      <td>-1.233163</td>\n",
       "      <td>0.830152</td>\n",
       "      <td>1</td>\n",
       "      <td>0</td>\n",
       "      <td>-1.071061</td>\n",
       "      <td>0</td>\n",
       "      <td>0</td>\n",
       "      <td>1</td>\n",
       "    </tr>\n",
       "    <tr>\n",
       "      <th>3716</th>\n",
       "      <td>0.130961</td>\n",
       "      <td>-1.132419</td>\n",
       "      <td>-1.061928</td>\n",
       "      <td>1.140475</td>\n",
       "      <td>-0.891560</td>\n",
       "      <td>0</td>\n",
       "      <td>0</td>\n",
       "      <td>1.524268</td>\n",
       "      <td>1</td>\n",
       "      <td>0</td>\n",
       "      <td>0</td>\n",
       "    </tr>\n",
       "  </tbody>\n",
       "</table>\n",
       "</div>"
      ],
      "text/plain": [
       "      CreditScore       Age    Tenure   Balance  NumOfProducts  HasCrCard  \\\n",
       "7479    -0.886751 -0.373192  1.109334  1.232271      -0.891560          1   \n",
       "3411     0.608663 -0.183385  1.109334  0.600563      -0.891560          0   \n",
       "6027     2.052152  0.480939 -0.700051  1.027098       0.830152          0   \n",
       "1247    -1.457915 -1.417129  0.385580 -1.233163       0.830152          1   \n",
       "3716     0.130961 -1.132419 -1.061928  1.140475      -0.891560          0   \n",
       "\n",
       "      IsActiveMember  EstimatedSalary  Geography_Germany  Geography_Spain  \\\n",
       "7479               0        -0.187705                  0                1   \n",
       "3411               0        -0.333945                  0                0   \n",
       "6027               1         1.503095                  1                0   \n",
       "1247               0        -1.071061                  0                0   \n",
       "3716               0         1.524268                  1                0   \n",
       "\n",
       "      Gender_Male  \n",
       "7479            1  \n",
       "3411            0  \n",
       "6027            1  \n",
       "1247            1  \n",
       "3716            0  "
      ]
     },
     "execution_count": 58,
     "metadata": {},
     "output_type": "execute_result"
    }
   ],
   "source": [
    "train_features.head() # проверяем"
   ]
  },
  {
   "cell_type": "markdown",
   "metadata": {},
   "source": [
    "## Исследование задачи"
   ]
  },
  {
   "cell_type": "markdown",
   "metadata": {},
   "source": [
    "### Баланс данных"
   ]
  },
  {
   "cell_type": "code",
   "execution_count": 59,
   "metadata": {},
   "outputs": [
    {
     "data": {
      "text/plain": [
       "0    7963\n",
       "1    2037\n",
       "Name: Exited, dtype: int64"
      ]
     },
     "execution_count": 59,
     "metadata": {},
     "output_type": "execute_result"
    },
    {
     "data": {
      "image/png": "[encoded data removed]",
      "text/plain": [
       "<Figure size 720x432 with 1 Axes>"
      ]
     },
     "metadata": {
      "needs_background": "light"
     },
     "output_type": "display_data"
    }
   ],
   "source": [
    "data['Exited'].value_counts().plot(kind='bar', grid=True,figsize=(10,6),title='Соотношение ушедших к оставшимся клиентам')\n",
    "data['Exited'].value_counts()"
   ]
  },
  {
   "cell_type": "markdown",
   "metadata": {},
   "source": [
    "<b>Вывод:</b>\n",
    "\n",
    "Имеется дисбаланс классов 1 к 4 в пользу оставшихся клиентов. Это может привести модель к склонению в распространённый вариант ответа."
   ]
  },
  {
   "cell_type": "markdown",
   "metadata": {},
   "source": [
    "<b>Обучение моделей:</b>\n",
    "- Случайное дерево\n",
    "- Случайный лес\n",
    "- Логистическая регрессия"
   ]
  },
  {
   "cell_type": "markdown",
   "metadata": {},
   "source": [
    "<b> Обучим модели случайного дерева с перебором глубины, найдем гиперпараметры с наибольшей метрикой f1. </b>"
   ]
  },
  {
   "cell_type": "code",
   "execution_count": 60,
   "metadata": {},
   "outputs": [
    {
     "name": "stdout",
     "output_type": "stream",
     "text": [
      "Max depth 9 F1-score 0.5722300140252455\n"
     ]
    }
   ],
   "source": [
    "f1_best = 0\n",
    "depth_best = 0\n",
    "for depth in range(7, 11):\n",
    "    model = DecisionTreeClassifier(random_state=12345, max_depth=depth)\n",
    "    model.fit(train_features, train_target)\n",
    "    prediction = model.predict(valid_features)\n",
    "    f1 = f1_score(valid_target, prediction)\n",
    "    if f1>f1_best:\n",
    "            f1_best=f1\n",
    "            depth_best=depth\n",
    "print('Max depth', depth_best,'F1-score', f1_best)"
   ]
  },
  {
   "cell_type": "markdown",
   "metadata": {},
   "source": [
    "Проведем оценку accuracy, precision, recall, F1, AUC-ROC на полученных гиперпараметрах"
   ]
  },
  {
   "cell_type": "code",
   "execution_count": 61,
   "metadata": {},
   "outputs": [
    {
     "name": "stdout",
     "output_type": "stream",
     "text": [
      "Accuracy 0.8475\n",
      "Precision 0.6915254237288135\n",
      "Recall 0.4880382775119617\n",
      "F1 0.5722300140252455\n",
      "AUC-ROC 0.78270041556022\n"
     ]
    }
   ],
   "source": [
    "model = DecisionTreeClassifier(random_state=12345, max_depth=9)\n",
    "model.fit(train_features, train_target)\n",
    "prediction = model.predict(valid_features)\n",
    "print('Accuracy', accuracy_score(valid_target, prediction))\n",
    "print('Precision', precision_score(valid_target, prediction))\n",
    "print('Recall', recall_score(valid_target, prediction))\n",
    "print('F1', f1_score(valid_target, prediction))\n",
    "probabilities_valid = model.predict_proba(valid_features)[:, 1]\n",
    "print(\"AUC-ROC\", roc_auc_score(valid_target, probabilities_valid))"
   ]
  },
  {
   "cell_type": "markdown",
   "metadata": {},
   "source": [
    "<b> Обучение модели случайного леса с перебором гиперпараметров, которые дают наибольшую метрику f1. </b>"
   ]
  },
  {
   "cell_type": "code",
   "execution_count": 62,
   "metadata": {},
   "outputs": [
    {
     "name": "stdout",
     "output_type": "stream",
     "text": [
      "n_estimators = 62 Max depth 11 F1-score 0.588957055214724\n"
     ]
    }
   ],
   "source": [
    "f1_best = 0\n",
    "estim_best = 0\n",
    "depth_best = 0\n",
    "\n",
    "for estim in range (60, 63):\n",
    "    for depth in range(10, 12):\n",
    "        model = RandomForestClassifier(n_estimators=estim, max_depth=depth, random_state=12345)\n",
    "        model.fit(train_features, train_target)\n",
    "        prediction = model.predict(valid_features)\n",
    "        f1 = f1_score(valid_target, prediction)\n",
    "        if f1>f1_best:\n",
    "            f1_best=f1\n",
    "            estim_best=estim\n",
    "            depth_best=depth\n",
    "        \n",
    "\n",
    "print('n_estimators =', estim_best, 'Max depth', depth_best, 'F1-score', f1_best)"
   ]
  },
  {
   "cell_type": "markdown",
   "metadata": {},
   "source": [
    "Проведем оценку accuracy, precision, recall, F1, AUC-ROC на полученных гиперпараметрах"
   ]
  },
  {
   "cell_type": "code",
   "execution_count": 63,
   "metadata": {},
   "outputs": [
    {
     "name": "stdout",
     "output_type": "stream",
     "text": [
      "Accuracy 0.866\n",
      "Precision 0.8205128205128205\n",
      "Recall 0.45933014354066987\n",
      "F1 0.588957055214724\n",
      "AUC-ROC 0.8474948433029474\n"
     ]
    }
   ],
   "source": [
    "model = RandomForestClassifier(n_estimators=62, max_depth=11, random_state=12345)\n",
    "model.fit(train_features, train_target)\n",
    "prediction = model.predict(valid_features)\n",
    "print('Accuracy', accuracy_score(valid_target, prediction))\n",
    "print('Precision', precision_score(valid_target, prediction))\n",
    "print('Recall', recall_score(valid_target, prediction))\n",
    "print('F1', f1_score(valid_target, prediction))\n",
    "probabilities_valid = model.predict_proba(valid_features)[:, 1]\n",
    "print(\"AUC-ROC\", roc_auc_score(valid_target, probabilities_valid))"
   ]
  },
  {
   "cell_type": "markdown",
   "metadata": {},
   "source": [
    "<b> Обучение и оценка метрик с помощью модели Логистической регрессии </b>"
   ]
  },
  {
   "cell_type": "code",
   "execution_count": 64,
   "metadata": {},
   "outputs": [
    {
     "name": "stdout",
     "output_type": "stream",
     "text": [
      "Accuracy 0.8025\n",
      "Precision 0.5657142857142857\n",
      "Recall 0.23684210526315788\n",
      "F1 0.33389544688026984\n",
      "AUC-ROC 0.758804190685886\n"
     ]
    }
   ],
   "source": [
    "model =  LogisticRegression()\n",
    "model.fit(train_features, train_target)\n",
    "prediction = model.predict(valid_features)\n",
    "print('Accuracy', accuracy_score(valid_target, prediction))\n",
    "print('Precision', precision_score(valid_target, prediction))\n",
    "print('Recall', recall_score(valid_target, prediction))\n",
    "print('F1', f1_score(valid_target, prediction))\n",
    "probabilities_valid = model.predict_proba(valid_features)[:, 1]\n",
    "print(\"AUC-ROC\", roc_auc_score(valid_target, probabilities_valid))"
   ]
  },
  {
   "cell_type": "markdown",
   "metadata": {},
   "source": [
    "<b>Вывод</b>\n",
    "\n",
    "Из-за несбалансированности данных, все модели имеют recall ниже, чем percision, это влияет на F-меру. Модель случайного леса имеет метрику близкую к необходимой"
   ]
  },
  {
   "cell_type": "markdown",
   "metadata": {},
   "source": [
    "## Борьба с дисбалансом"
   ]
  },
  {
   "cell_type": "markdown",
   "metadata": {},
   "source": [
    "### Обучение моделей с параметром автоматической регулировки весов."
   ]
  },
  {
   "cell_type": "code",
   "execution_count": 65,
   "metadata": {},
   "outputs": [
    {
     "name": "stdout",
     "output_type": "stream",
     "text": [
      "Max depth 5 F1-score 0.5963791267305644\n",
      "Accuracy 0.8105\n",
      "Precision 0.5374280230326296\n",
      "Recall 0.6698564593301436\n",
      "F1 0.5963791267305644\n",
      "AUC-ROC 0.8310244134068074\n"
     ]
    }
   ],
   "source": [
    "# Модель случайного дерева \n",
    "# Подбор гиперпараметров\n",
    "f1_best = 0\n",
    "depth_best = 0\n",
    "for depth in range(2, 18): \n",
    "    model = DecisionTreeClassifier(random_state=12345, max_depth=depth, class_weight='balanced')\n",
    "    model.fit(train_features, train_target)\n",
    "    prediction = model.predict(valid_features)\n",
    "    f1 = f1_score(valid_target, prediction)\n",
    "    if f1>f1_best:\n",
    "            f1_best=f1\n",
    "            depth_best=depth\n",
    "print('Max depth', depth_best,'F1-score', f1_best)\n",
    "\n",
    "# Расчет метрик\n",
    "model = DecisionTreeClassifier(random_state=12345, max_depth=depth_best, class_weight='balanced')\n",
    "model.fit(train_features, train_target)\n",
    "prediction = model.predict(valid_features)\n",
    "print('Accuracy', accuracy_score(valid_target, prediction))\n",
    "print('Precision', precision_score(valid_target, prediction))\n",
    "print('Recall', recall_score(valid_target, prediction))\n",
    "print('F1', f1_score(valid_target, prediction))\n",
    "probabilities_valid = model.predict_proba(valid_features)[:, 1]\n",
    "print(\"AUC-ROC\", roc_auc_score(valid_target, probabilities_valid))"
   ]
  },
  {
   "cell_type": "code",
   "execution_count": 66,
   "metadata": {},
   "outputs": [
    {
     "name": "stdout",
     "output_type": "stream",
     "text": [
      "n_estimators = 91 Max depth 7 F1-score 0.630457933972311\n",
      "Accuracy 0.8265\n",
      "Precision 0.5681381957773513\n",
      "Recall 0.7081339712918661\n",
      "F1 0.630457933972311\n",
      "AUC-ROC 0.8543452355748582\n"
     ]
    }
   ],
   "source": [
    "# Модель случайного леса\n",
    "# Подбор гиперпараметров\n",
    "f1_best = 0\n",
    "estim_best = 0\n",
    "depth_best = 0\n",
    "\n",
    "for estim in range (91, 93):\n",
    "    for depth in range(7, 9):\n",
    "        model = RandomForestClassifier(n_estimators=estim, max_depth=depth, random_state=12345, class_weight='balanced')\n",
    "        model.fit(train_features, train_target)\n",
    "        prediction = model.predict(valid_features)\n",
    "        f1 = f1_score(valid_target, prediction)\n",
    "        if f1>f1_best:\n",
    "            f1_best=f1\n",
    "            estim_best=estim\n",
    "            depth_best=depth      \n",
    "print('n_estimators =', estim_best, 'Max depth', depth_best, 'F1-score', f1_best)\n",
    "\n",
    "# Расчет метрик\n",
    "model = RandomForestClassifier(n_estimators=estim_best, max_depth=depth_best, random_state=12345, class_weight='balanced')\n",
    "model.fit(train_features, train_target)\n",
    "prediction = model.predict(valid_features)\n",
    "print('Accuracy', accuracy_score(valid_target, prediction))\n",
    "print('Precision', precision_score(valid_target, prediction))\n",
    "print('Recall', recall_score(valid_target, prediction))\n",
    "print('F1', f1_score(valid_target, prediction))\n",
    "probabilities_valid = model.predict_proba(valid_features)[:, 1]\n",
    "print(\"AUC-ROC\", roc_auc_score(valid_target, probabilities_valid))"
   ]
  },
  {
   "cell_type": "code",
   "execution_count": 67,
   "metadata": {},
   "outputs": [
    {
     "name": "stdout",
     "output_type": "stream",
     "text": [
      "Accuracy 0.7015\n",
      "Precision 0.38050734312416556\n",
      "Recall 0.6818181818181818\n",
      "F1 0.48843187660668386\n",
      "AUC-ROC 0.763661466619082\n"
     ]
    }
   ],
   "source": [
    "# Модель логистическая регрессия\n",
    "model =  LogisticRegression(class_weight='balanced')\n",
    "model.fit(train_features, train_target)\n",
    "prediction = model.predict(valid_features)\n",
    "print('Accuracy', accuracy_score(valid_target, prediction))\n",
    "print('Precision', precision_score(valid_target, prediction))\n",
    "print('Recall', recall_score(valid_target, prediction))\n",
    "print('F1', f1_score(valid_target, prediction))\n",
    "probabilities_valid = model.predict_proba(valid_features)[:, 1]\n",
    "print(\"AUC-ROC\", roc_auc_score(valid_target, probabilities_valid))"
   ]
  },
  {
   "cell_type": "markdown",
   "metadata": {},
   "source": [
    "<b> Вывод: </b>\n",
    "\n",
    "F1 мера стала лучше"
   ]
  },
  {
   "cell_type": "markdown",
   "metadata": {},
   "source": [
    "<b> С помощью написанной функции Downsampling и уменьшим колличество target=0 </b>"
   ]
  },
  {
   "cell_type": "code",
   "execution_count": 68,
   "metadata": {},
   "outputs": [],
   "source": [
    "def downsampling(features,target,fraction):\n",
    "    #Разделяем выборку по значениям целевой функции\n",
    "    features_null=features[target==0]\n",
    "    features_one=features[target==1]\n",
    "    target_null=target[target==0]\n",
    "    target_one=target[target==1]\n",
    "    \n",
    "    #уменьшаем путем умножения на десятую часть и соединяем обратно\n",
    "    downsampling_features=pd.concat([features_null.sample(frac=fraction,random_state=12345)]+[features_one])\n",
    "    downsampling_target=pd.concat([target_null.sample(frac=fraction,random_state=12345)]+[target_one])\n",
    "    \n",
    "    # Перемешиваем\n",
    "    downsampling_features,downsampling_target=shuffle(downsampling_features,downsampling_target,random_state=12345)\n",
    "    \n",
    "    return downsampling_features,downsampling_target"
   ]
  },
  {
   "cell_type": "code",
   "execution_count": 69,
   "metadata": {},
   "outputs": [],
   "source": [
    "features_balance,target_balance=downsampling(train_features,train_target,0.4)"
   ]
  },
  {
   "cell_type": "code",
   "execution_count": 70,
   "metadata": {},
   "outputs": [
    {
     "name": "stdout",
     "output_type": "stream",
     "text": [
      "Max depth 7 F1-score 0.5689467969598263\n",
      "Accuracy 0.8015\n",
      "Precision 0.5208747514910537\n",
      "Recall 0.6267942583732058\n",
      "F1 0.5689467969598263\n",
      "AUC-ROC 0.7935869440294219\n"
     ]
    }
   ],
   "source": [
    "# Модель случайного дерева\n",
    "# Подбор гиперпараметров\n",
    "f1_best = 0\n",
    "depth_best = 0\n",
    "for depth in range(2, 18): #(уменьшил ранг чтобы не грузить сервер, перебрал все заранее)\n",
    "    model = DecisionTreeClassifier(random_state=12345, max_depth=depth)\n",
    "    model.fit(features_balance,target_balance)\n",
    "    prediction = model.predict(valid_features)\n",
    "    f1 = f1_score(valid_target, prediction)\n",
    "    if f1>f1_best:\n",
    "            f1_best=f1\n",
    "            depth_best=depth\n",
    "print('Max depth', depth_best,'F1-score', f1_best)\n",
    "\n",
    "# Расчет метрик\n",
    "model = DecisionTreeClassifier(random_state=12345, max_depth=depth_best)\n",
    "model.fit(features_balance,target_balance)\n",
    "prediction = model.predict(valid_features)\n",
    "print('Accuracy', accuracy_score(valid_target, prediction))\n",
    "print('Precision', precision_score(valid_target, prediction))\n",
    "print('Recall', recall_score(valid_target, prediction))\n",
    "print('F1', f1_score(valid_target, prediction))\n",
    "probabilities_valid = model.predict_proba(valid_features)[:, 1]\n",
    "print(\"AUC-ROC\", roc_auc_score(valid_target, probabilities_valid))"
   ]
  },
  {
   "cell_type": "code",
   "execution_count": 71,
   "metadata": {},
   "outputs": [
    {
     "name": "stdout",
     "output_type": "stream",
     "text": [
      "n_estimators = 30 Max depth 9 F1-score 0.6105263157894736\n",
      "Accuracy 0.8335\n",
      "Precision 0.597254004576659\n",
      "Recall 0.6244019138755981\n",
      "F1 0.6105263157894736\n",
      "AUC-ROC 0.8377878525759289\n"
     ]
    }
   ],
   "source": [
    "# Модель случайного леса\n",
    "# Подбор гиперпараметров\n",
    "f1_best = 0\n",
    "estim_best = 0\n",
    "depth_best = 0\n",
    "\n",
    "for estim in range (30, 31):\n",
    "    for depth in range(9, 10):\n",
    "        model = RandomForestClassifier(n_estimators=estim, max_depth=depth, random_state=12345)\n",
    "        model.fit(features_balance,target_balance)\n",
    "        prediction = model.predict(valid_features)\n",
    "        f1 = f1_score(valid_target, prediction)\n",
    "        if f1>f1_best:\n",
    "            f1_best=f1\n",
    "            estim_best=estim\n",
    "            depth_best=depth      \n",
    "print('n_estimators =', estim_best, 'Max depth', depth_best, 'F1-score', f1_best)\n",
    "\n",
    "# Расчет метрик\n",
    "model = RandomForestClassifier(n_estimators=estim_best, max_depth=depth_best, random_state=12345)\n",
    "model.fit(features_balance,target_balance)\n",
    "prediction = model.predict(valid_features)\n",
    "print('Accuracy', accuracy_score(valid_target, prediction))\n",
    "print('Precision', precision_score(valid_target, prediction))\n",
    "print('Recall', recall_score(valid_target, prediction))\n",
    "print('F1', f1_score(valid_target, prediction))\n",
    "probabilities_valid = model.predict_proba(valid_features)[:, 1]\n",
    "print(\"AUC-ROC\", roc_auc_score(valid_target, probabilities_valid))"
   ]
  },
  {
   "cell_type": "code",
   "execution_count": 72,
   "metadata": {},
   "outputs": [
    {
     "name": "stdout",
     "output_type": "stream",
     "text": [
      "Accuracy 0.7705\n",
      "Precision 0.45956607495069035\n",
      "Recall 0.5574162679425837\n",
      "F1 0.5037837837837837\n",
      "AUC-ROC 0.7626497861709786\n"
     ]
    }
   ],
   "source": [
    "# Модель логистическая регрессия\n",
    "model =  LogisticRegression()\n",
    "model.fit(features_balance,target_balance)\n",
    "prediction = model.predict(valid_features)\n",
    "print('Accuracy', accuracy_score(valid_target, prediction))\n",
    "print('Precision', precision_score(valid_target, prediction))\n",
    "print('Recall', recall_score(valid_target, prediction))\n",
    "print('F1', f1_score(valid_target, prediction))\n",
    "probabilities_valid = model.predict_proba(valid_features)[:, 1]\n",
    "print(\"AUC-ROC\", roc_auc_score(valid_target, probabilities_valid))"
   ]
  },
  {
   "cell_type": "markdown",
   "metadata": {},
   "source": [
    "<b> Вывод </b>\n",
    "\n",
    "Метрики стали хуже, такой баланс данных не подходит"
   ]
  },
  {
   "cell_type": "markdown",
   "metadata": {},
   "source": [
    "<b> С помощью написанно функции Upsampling увеличим количество колличество target=0 </b>"
   ]
  },
  {
   "cell_type": "code",
   "execution_count": 73,
   "metadata": {},
   "outputs": [],
   "source": [
    "def upsampling (features,target,repeat):\n",
    "    #Разделяем выборку по значениям целевой функции\n",
    "    target_one=target[target==1]\n",
    "    target_null=target[target==0]\n",
    "    features_one=features[target==1]\n",
    "    features_null=features[target==0]\n",
    "    \n",
    "    #Увеличиваем и соединяем обратно\n",
    "    upsampling_features=pd.concat([features_null]+[features_one]*repeat)\n",
    "    upsampling_target=pd.concat([target_null]+[target_one]*repeat)\n",
    "    \n",
    "    # Перемешиваем\n",
    "    upsampling_features,upsampling_target=shuffle(upsampling_features,upsampling_target,random_state=12345)\n",
    "    \n",
    "    return upsampling_features,upsampling_target\n"
   ]
  },
  {
   "cell_type": "code",
   "execution_count": 74,
   "metadata": {},
   "outputs": [],
   "source": [
    "features_balance,target_balance=upsampling(train_features,train_target,4)"
   ]
  },
  {
   "cell_type": "code",
   "execution_count": 75,
   "metadata": {},
   "outputs": [
    {
     "name": "stdout",
     "output_type": "stream",
     "text": [
      "Max depth 5 F1-score 0.5963791267305644\n",
      "Accuracy 0.8105\n",
      "Precision 0.5374280230326296\n",
      "Recall 0.6698564593301436\n",
      "F1 0.5963791267305644\n",
      "AUC-ROC 0.8310244134068074\n"
     ]
    }
   ],
   "source": [
    "# Модель случайного дерева\n",
    "# Подбор гиперпараметров\n",
    "f1_best = 0\n",
    "depth_best = 0\n",
    "for depth in range(4, 8):\n",
    "    model = DecisionTreeClassifier(random_state=12345, max_depth=depth)\n",
    "    model.fit(features_balance,target_balance)\n",
    "    prediction = model.predict(valid_features)\n",
    "    f1 = f1_score(valid_target, prediction)\n",
    "    if f1>f1_best:\n",
    "            f1_best=f1\n",
    "            depth_best=depth\n",
    "print('Max depth', depth_best,'F1-score', f1_best)\n",
    "\n",
    "# Расчет метрик\n",
    "model = DecisionTreeClassifier(random_state=12345, max_depth=depth_best)\n",
    "model.fit(features_balance,target_balance)\n",
    "prediction = model.predict(valid_features)\n",
    "print('Accuracy', accuracy_score(valid_target, prediction))\n",
    "print('Precision', precision_score(valid_target, prediction))\n",
    "print('Recall', recall_score(valid_target, prediction))\n",
    "print('F1', f1_score(valid_target, prediction))\n",
    "probabilities_valid = model.predict_proba(valid_features)[:, 1]\n",
    "print(\"AUC-ROC\", roc_auc_score(valid_target, probabilities_valid))\n",
    "fpr_tree, tpr_tree, thresholds = roc_curve(valid_target, probabilities_valid)\n"
   ]
  },
  {
   "cell_type": "code",
   "execution_count": 76,
   "metadata": {},
   "outputs": [
    {
     "name": "stdout",
     "output_type": "stream",
     "text": [
      "n_estimators = 57 Max depth 9 F1-score 0.6328042328042329\n",
      "Accuracy 0.8265\n",
      "Precision 0.5673624288425048\n",
      "Recall 0.715311004784689\n",
      "F1 0.6328042328042329\n",
      "AUC-ROC 0.855075641638287\n"
     ]
    }
   ],
   "source": [
    "# Модель случайного леса\n",
    "# Подбор гиперпараметров\n",
    "f1_best = 0\n",
    "estim_best = 0\n",
    "depth_best = 0\n",
    "\n",
    "for estim in range (56, 58):\n",
    "    for depth in range(8, 10):\n",
    "        model = RandomForestClassifier(n_estimators=estim, max_depth=depth, random_state=12345)\n",
    "        model.fit(features_balance,target_balance)\n",
    "        prediction = model.predict(valid_features)\n",
    "        f1 = f1_score(valid_target, prediction)\n",
    "        if f1>f1_best:\n",
    "            f1_best=f1\n",
    "            estim_best=estim\n",
    "            depth_best=depth      \n",
    "print('n_estimators =', estim_best, 'Max depth', depth_best, 'F1-score', f1_best)\n",
    "\n",
    "# Расчет метрик\n",
    "model = RandomForestClassifier(n_estimators=estim_best, max_depth=depth_best, random_state=12345)\n",
    "model.fit(features_balance,target_balance)\n",
    "prediction = model.predict(valid_features)\n",
    "print('Accuracy', accuracy_score(valid_target, prediction))\n",
    "print('Precision', precision_score(valid_target, prediction))\n",
    "print('Recall', recall_score(valid_target, prediction))\n",
    "print('F1', f1_score(valid_target, prediction))\n",
    "probabilities_valid = model.predict_proba(valid_features)[:, 1]\n",
    "print(\"AUC-ROC\", roc_auc_score(valid_target, probabilities_valid))\n",
    "fpr_forest, tpr_forest, thresholds = roc_curve(valid_target, probabilities_valid)"
   ]
  },
  {
   "cell_type": "code",
   "execution_count": 77,
   "metadata": {},
   "outputs": [
    {
     "name": "stdout",
     "output_type": "stream",
     "text": [
      "Accuracy 0.7015\n",
      "Precision 0.38050734312416556\n",
      "Recall 0.6818181818181818\n",
      "F1 0.48843187660668386\n",
      "AUC-ROC 0.6942592805424663\n"
     ]
    }
   ],
   "source": [
    "# Модель логистическая регрессия\n",
    "model =  LogisticRegression()\n",
    "model.fit(features_balance,target_balance)\n",
    "prediction = model.predict(valid_features)\n",
    "print('Accuracy', accuracy_score(valid_target, prediction))\n",
    "print('Precision', precision_score(valid_target, prediction))\n",
    "print('Recall', recall_score(valid_target, prediction))\n",
    "print('F1', f1_score(valid_target, prediction))\n",
    "probabilities_valid = model.predict_proba(valid_features)[:, 1]\n",
    "print(\"AUC-ROC\", roc_auc_score(valid_target, prediction))\n",
    "fpr_log, tpr_log, thresholds = roc_curve(valid_target, probabilities_valid)"
   ]
  },
  {
   "cell_type": "markdown",
   "metadata": {},
   "source": [
    "<b> Визуализируем AUC-ROC посредством графика площади </b>"
   ]
  },
  {
   "cell_type": "code",
   "execution_count": 78,
   "metadata": {},
   "outputs": [
    {
     "data": {
      "text/plain": [
       "<Figure size 432x288 with 0 Axes>"
      ]
     },
     "metadata": {},
     "output_type": "display_data"
    },
    {
     "data": {
      "image/png": "[encoded data removed]",
      "text/plain": [
       "<Figure size 720x504 with 1 Axes>"
      ]
     },
     "metadata": {
      "needs_background": "light"
     },
     "output_type": "display_data"
    }
   ],
   "source": [
    "plt.figure()\n",
    "\n",
    "plt.figure(figsize=(10,7))\n",
    "plt.plot([0, 1], [0, 1], linestyle='--')\n",
    "plt.xlim([0.0, 1.0])\n",
    "plt.ylim([0.0, 1.0])\n",
    "plt.plot(fpr_forest,tpr_forest)\n",
    "plt.plot(fpr_log,tpr_log)\n",
    "plt.plot(fpr_tree,tpr_tree)\n",
    "\n",
    "plt.xlabel('False Positive Rate')\n",
    "plt.ylabel('True Positive Rate')\n",
    "plt.title('ROC-кривая')\n",
    "plt.legend(('Случайная модель','Случайный лес','Логистическая регрессия','Дерево решения'),\n",
    "           loc= 'upper left') \n",
    "plt.show()"
   ]
  },
  {
   "cell_type": "markdown",
   "metadata": {},
   "source": [
    "<b> Вывод </b>\n",
    "\n",
    "Наилучшее качество модели было достигнуто при взвешивании классов параметром class_weight='balanced' с использование случайного леса. Так же метрика AUC-ROC \"Случайный лес\" лучше остальных"
   ]
  },
  {
   "cell_type": "markdown",
   "metadata": {},
   "source": [
    "## Тестирование модели"
   ]
  },
  {
   "cell_type": "markdown",
   "metadata": {},
   "source": [
    "### Обучение после балансировки данных"
   ]
  },
  {
   "cell_type": "markdown",
   "metadata": {},
   "source": [
    "<b> Обучим финальную модель </b>"
   ]
  },
  {
   "cell_type": "code",
   "execution_count": 79,
   "metadata": {},
   "outputs": [
    {
     "name": "stdout",
     "output_type": "stream",
     "text": [
      "Accuracy 0.8265\n",
      "Precision 0.5681381957773513\n",
      "Recall 0.7081339712918661\n",
      "F1 0.630457933972311\n",
      "AUC-ROC 0.8543452355748582\n"
     ]
    }
   ],
   "source": [
    "model_final = RandomForestClassifier(n_estimators=91, max_depth=7, random_state=12345, class_weight='balanced')\n",
    "model_final.fit(train_features, train_target)\n",
    "prediction = model_final.predict(valid_features)\n",
    "print('Accuracy', accuracy_score(valid_target, prediction))\n",
    "print('Precision', precision_score(valid_target, prediction))\n",
    "print('Recall', recall_score(valid_target, prediction))\n",
    "print('F1', f1_score(valid_target, prediction))\n",
    "probabilities_valid = model_final.predict_proba(valid_features)[:, 1]\n",
    "print(\"AUC-ROC\", roc_auc_score(valid_target, probabilities_valid))"
   ]
  },
  {
   "cell_type": "markdown",
   "metadata": {},
   "source": [
    "<b> Вывод </b>\n",
    "\n",
    "Для финальной модели выберем модель случайного леса с параметрами: n_estimators = 91 Max depth 7"
   ]
  },
  {
   "cell_type": "markdown",
   "metadata": {},
   "source": [
    "<b> Проверим на адекватность </b>"
   ]
  },
  {
   "cell_type": "code",
   "execution_count": 80,
   "metadata": {},
   "outputs": [
    {
     "data": {
      "text/plain": [
       "0    2000\n",
       "dtype: int64"
      ]
     },
     "execution_count": 80,
     "metadata": {},
     "output_type": "execute_result"
    }
   ],
   "source": [
    "#Создаем константную модель\n",
    "target_predict_constant = pd.Series([0]*len(valid_target))\n",
    "target_predict_constant.value_counts()"
   ]
  },
  {
   "cell_type": "code",
   "execution_count": 81,
   "metadata": {},
   "outputs": [
    {
     "name": "stdout",
     "output_type": "stream",
     "text": [
      "accuracy_score константой модели: 0.791\n",
      "accuracy_score финальной модели: 0.8265\n"
     ]
    }
   ],
   "source": [
    "#Сравним показатель точности (accuracy_score) константной модели и финальной\n",
    "print('accuracy_score константой модели:', accuracy_score(valid_target, target_predict_constant))\n",
    "print('accuracy_score финальной модели:', accuracy_score(valid_target, prediction))"
   ]
  },
  {
   "cell_type": "code",
   "execution_count": 82,
   "metadata": {},
   "outputs": [
    {
     "name": "stdout",
     "output_type": "stream",
     "text": [
      "AUC-ROC константой модели: 0.5\n",
      "AUC-ROC финальной модели: 0.8543452355748582\n"
     ]
    }
   ],
   "source": [
    "#Сравним AUC-ROC, остальные метрики не работают на константной модели.\n",
    "print('AUC-ROC константой модели:', roc_auc_score(valid_target, target_predict_constant))\n",
    "print('AUC-ROC финальной модели:', roc_auc_score(valid_target, probabilities_valid))"
   ]
  },
  {
   "cell_type": "markdown",
   "metadata": {},
   "source": [
    "<b> Вывод: </b>\n",
    "    \n",
    "Метрики финальной модели лучше, чем константной, модель является адекватной"
   ]
  },
  {
   "cell_type": "markdown",
   "metadata": {},
   "source": [
    "<b> Тестируем модель </b>"
   ]
  },
  {
   "cell_type": "code",
   "execution_count": 83,
   "metadata": {},
   "outputs": [
    {
     "name": "stdout",
     "output_type": "stream",
     "text": [
      "Accuracy 0.8155\n",
      "Precision 0.550561797752809\n",
      "Recall 0.6950354609929078\n",
      "F1 0.6144200626959248\n",
      "AUC-ROC 0.8550079376857938\n"
     ]
    }
   ],
   "source": [
    "model_final\n",
    "prediction = model_final.predict(test_features)\n",
    "print('Accuracy', accuracy_score(test_target, prediction))\n",
    "print('Precision', precision_score(test_target, prediction))\n",
    "print('Recall', recall_score(test_target, prediction))\n",
    "print('F1', f1_score(test_target, prediction))\n",
    "probabilities_valid = model_final.predict_proba(test_features)[:, 1]\n",
    "print(\"AUC-ROC\", roc_auc_score(test_target, probabilities_valid))\n",
    "fpr, tpr, thresholds = roc_curve(test_target, probabilities_valid)"
   ]
  },
  {
   "cell_type": "code",
   "execution_count": 84,
   "metadata": {},
   "outputs": [
    {
     "data": {
      "text/plain": [
       "<Figure size 432x288 with 0 Axes>"
      ]
     },
     "metadata": {},
     "output_type": "display_data"
    },
    {
     "data": {
      "image/png": "[encoded data removed]",
      "text/plain": [
       "<Figure size 720x504 with 1 Axes>"
      ]
     },
     "metadata": {
      "needs_background": "light"
     },
     "output_type": "display_data"
    }
   ],
   "source": [
    "plt.figure()\n",
    "\n",
    "plt.figure(figsize=(10,7))\n",
    "plt.plot([0, 1], [0, 1], linestyle='--')\n",
    "plt.xlim([0.0, 1.0])\n",
    "plt.ylim([0.0, 1.0])\n",
    "plt.plot(fpr,tpr)\n",
    "plt.xlabel('False Positive Rate')\n",
    "plt.ylabel('True Positive Rate')\n",
    "plt.title('ROC-кривая')\n",
    "plt.legend(('Случайная модель','Тестируемая модель'),\n",
    "           loc= 'upper left') \n",
    "plt.show()"
   ]
  },
  {
   "cell_type": "markdown",
   "metadata": {},
   "source": [
    " ### Выводы:\n",
    " \n",
    " - Модели со сбалансированными данными путем увеличения количества недостающих классов показали себя лучше других видов баланса и несбалансированных моделей. \n",
    " - Финальная модель на тестовой выборке достигла заданного порога и показывает адекватные результаты (AUC-ROC 0.85)\n",
    " - Модель с большой вероятностью предскажет уход клиента из банка за счет высокой точности (0.81) \n",
    " - Модель находит большую часть ушедших клиентов на тестовой выборке (полнота = 0.69)"
   ]
  },
  {
   "cell_type": "markdown",
   "metadata": {},
   "source": [
    "<b> Дополнительный вывод </b>"
   ]
  },
  {
   "cell_type": "markdown",
   "metadata": {},
   "source": [
    "На гистограмме видны всплески ухода клиентов в районе 50-60 лет. Этот возраст сопровождается высокой мужской смертностью. Возможно, отток клиентов связан с закрытием счетов по причине смерти. Этого параметра не хватает в данных для более точного анализа."
   ]
  },
  {
   "cell_type": "code",
   "execution_count": 85,
   "metadata": {},
   "outputs": [
    {
     "data": {
      "image/png": "[encoded data removed]",
      "text/plain": [
       "<Figure size 1080x432 with 1 Axes>"
      ]
     },
     "metadata": {
      "needs_background": "light"
     },
     "output_type": "display_data"
    }
   ],
   "source": [
    "data.groupby('Age')['Exited'].mean().plot(figsize=(15,6),kind='bar',title='Гистограмма возраста и оттока')\n",
    "plt.show()"
   ]
  },
  {
   "cell_type": "markdown",
   "metadata": {},
   "source": [
    "## Чек-лист готовности проекта"
   ]
  },
  {
   "cell_type": "markdown",
   "metadata": {},
   "source": [
    "Поставьте 'x' в выполненных пунктах. Далее нажмите Shift+Enter."
   ]
  },
  {
   "cell_type": "markdown",
   "metadata": {},
   "source": [
    "- [x]  Jupyter Notebook открыт\n",
    "- [x]  Весь код выполняется без ошибок\n",
    "- [x]  Ячейки с кодом расположены в порядке исполнения\n",
    "- [x]  Выполнен шаг 1: данные подготовлены\n",
    "- [x]  Выполнен шаг 2: задача исследована\n",
    "    - [x]  Исследован баланс классов\n",
    "    - [x]  Изучены модели без учёта дисбаланса\n",
    "    - [x]  Написаны выводы по результатам исследования\n",
    "- [x]  Выполнен шаг 3: учтён дисбаланс\n",
    "    - [x]  Применено несколько способов борьбы с дисбалансом\n",
    "    - [x]  Написаны выводы по результатам исследования\n",
    "- [x]  Выполнен шаг 4: проведено тестирование\n",
    "- [x]  Удалось достичь *F1*-меры не менее 0.59\n",
    "- [x]  Исследована метрика *AUC-ROC*"
   ]
  },
  {
   "cell_type": "code",
   "execution_count": null,
   "metadata": {},
   "outputs": [],
   "source": []
  }
 ],
 "metadata": {
  "ExecuteTimeLog": [
   {
    "duration": 3201,
    "start_time": "2022-04-27T07:21:11.000Z"
   },
   {
    "duration": 76,
    "start_time": "2022-04-27T07:21:35.256Z"
   },
   {
    "duration": 24,
    "start_time": "2022-04-27T07:25:02.083Z"
   },
   {
    "duration": 8,
    "start_time": "2022-04-27T07:30:31.432Z"
   },
   {
    "duration": 6,
    "start_time": "2022-04-27T07:31:35.024Z"
   },
   {
    "duration": 16,
    "start_time": "2022-04-27T07:32:11.228Z"
   },
   {
    "duration": 17,
    "start_time": "2022-04-27T07:32:26.543Z"
   },
   {
    "duration": 41,
    "start_time": "2022-04-27T07:32:38.498Z"
   },
   {
    "duration": 33,
    "start_time": "2022-04-27T07:33:35.836Z"
   },
   {
    "duration": 7,
    "start_time": "2022-04-27T07:42:29.748Z"
   },
   {
    "duration": 19,
    "start_time": "2022-04-27T07:43:40.032Z"
   },
   {
    "duration": 16,
    "start_time": "2022-04-27T07:45:02.370Z"
   },
   {
    "duration": 5,
    "start_time": "2022-04-27T07:45:47.701Z"
   },
   {
    "duration": 15,
    "start_time": "2022-04-27T07:45:48.862Z"
   },
   {
    "duration": 14,
    "start_time": "2022-04-27T07:45:57.297Z"
   },
   {
    "duration": 42,
    "start_time": "2022-04-27T07:46:29.184Z"
   },
   {
    "duration": 26,
    "start_time": "2022-04-27T07:46:51.575Z"
   },
   {
    "duration": 381,
    "start_time": "2022-04-27T08:01:33.425Z"
   },
   {
    "duration": 198,
    "start_time": "2022-04-27T08:05:44.214Z"
   },
   {
    "duration": 76,
    "start_time": "2022-04-27T08:06:58.282Z"
   },
   {
    "duration": 3512,
    "start_time": "2022-04-27T08:09:28.563Z"
   },
   {
    "duration": 601,
    "start_time": "2022-04-27T08:11:30.281Z"
   },
   {
    "duration": 118,
    "start_time": "2022-04-27T08:13:50.343Z"
   },
   {
    "duration": 610,
    "start_time": "2022-04-27T08:14:15.242Z"
   },
   {
    "duration": 908,
    "start_time": "2022-04-27T08:15:03.116Z"
   },
   {
    "duration": 867,
    "start_time": "2022-04-27T08:24:34.051Z"
   },
   {
    "duration": 5073,
    "start_time": "2022-04-27T08:25:44.704Z"
   },
   {
    "duration": 542,
    "start_time": "2022-04-27T08:29:09.611Z"
   },
   {
    "duration": 6,
    "start_time": "2022-04-27T08:31:33.287Z"
   },
   {
    "duration": 26,
    "start_time": "2022-04-27T08:31:50.781Z"
   },
   {
    "duration": 414,
    "start_time": "2022-04-27T08:32:14.670Z"
   },
   {
    "duration": 623,
    "start_time": "2022-04-27T08:33:50.482Z"
   },
   {
    "duration": 1084,
    "start_time": "2022-04-27T08:34:05.284Z"
   },
   {
    "duration": 491,
    "start_time": "2022-04-27T08:35:24.071Z"
   },
   {
    "duration": 7,
    "start_time": "2022-04-27T08:38:34.147Z"
   },
   {
    "duration": 20,
    "start_time": "2022-04-27T08:38:52.096Z"
   },
   {
    "duration": 278,
    "start_time": "2022-04-27T08:39:12.459Z"
   },
   {
    "duration": 4719,
    "start_time": "2022-04-27T08:39:33.298Z"
   },
   {
    "duration": 513,
    "start_time": "2022-04-27T08:40:02.241Z"
   },
   {
    "duration": 450,
    "start_time": "2022-04-27T08:41:42.163Z"
   },
   {
    "duration": 768,
    "start_time": "2022-04-27T08:50:39.068Z"
   },
   {
    "duration": 2248,
    "start_time": "2022-04-27T08:51:29.782Z"
   },
   {
    "duration": 1111,
    "start_time": "2022-04-27T08:51:54.165Z"
   },
   {
    "duration": 724,
    "start_time": "2022-04-27T08:54:13.674Z"
   },
   {
    "duration": 6,
    "start_time": "2022-04-27T08:54:27.771Z"
   },
   {
    "duration": 53,
    "start_time": "2022-04-27T08:54:27.781Z"
   },
   {
    "duration": 24,
    "start_time": "2022-04-27T08:54:27.836Z"
   },
   {
    "duration": 16,
    "start_time": "2022-04-27T08:54:27.862Z"
   },
   {
    "duration": 11,
    "start_time": "2022-04-27T08:54:27.881Z"
   },
   {
    "duration": 16,
    "start_time": "2022-04-27T08:54:27.894Z"
   },
   {
    "duration": 41,
    "start_time": "2022-04-27T08:54:27.912Z"
   },
   {
    "duration": 6,
    "start_time": "2022-04-27T08:54:27.956Z"
   },
   {
    "duration": 18,
    "start_time": "2022-04-27T08:54:27.966Z"
   },
   {
    "duration": 65,
    "start_time": "2022-04-27T08:54:27.987Z"
   },
   {
    "duration": 18,
    "start_time": "2022-04-27T08:54:28.055Z"
   },
   {
    "duration": 250,
    "start_time": "2022-04-27T08:54:28.076Z"
   },
   {
    "duration": 147,
    "start_time": "2022-04-27T08:54:28.329Z"
   },
   {
    "duration": 53,
    "start_time": "2022-04-27T08:54:28.481Z"
   },
   {
    "duration": 3835,
    "start_time": "2022-04-27T08:54:28.553Z"
   },
   {
    "duration": 898,
    "start_time": "2022-04-27T08:54:32.392Z"
   },
   {
    "duration": 366,
    "start_time": "2022-04-27T08:54:33.293Z"
   },
   {
    "duration": 775,
    "start_time": "2022-04-27T08:54:33.662Z"
   },
   {
    "duration": 3421,
    "start_time": "2022-04-27T08:54:34.440Z"
   },
   {
    "duration": 189,
    "start_time": "2022-04-27T08:54:37.863Z"
   },
   {
    "duration": 8,
    "start_time": "2022-04-27T08:54:38.056Z"
   },
   {
    "duration": 107,
    "start_time": "2022-04-27T08:54:38.068Z"
   },
   {
    "duration": 605,
    "start_time": "2022-04-27T08:54:38.177Z"
   },
   {
    "duration": 507,
    "start_time": "2022-04-27T08:54:38.785Z"
   },
   {
    "duration": 368,
    "start_time": "2022-04-27T08:54:39.295Z"
   },
   {
    "duration": 8,
    "start_time": "2022-04-27T08:54:39.666Z"
   },
   {
    "duration": 104,
    "start_time": "2022-04-27T08:54:39.753Z"
   },
   {
    "duration": 270,
    "start_time": "2022-04-27T08:54:39.860Z"
   },
   {
    "duration": 4495,
    "start_time": "2022-04-27T08:54:40.133Z"
   },
   {
    "duration": 239,
    "start_time": "2022-04-27T08:54:44.631Z"
   },
   {
    "duration": 388,
    "start_time": "2022-04-27T08:54:44.957Z"
   },
   {
    "duration": 761,
    "start_time": "2022-04-27T08:54:45.348Z"
   },
   {
    "duration": 1618,
    "start_time": "2022-04-27T08:55:36.264Z"
   },
   {
    "duration": 1084,
    "start_time": "2022-04-27T08:55:57.338Z"
   },
   {
    "duration": 997,
    "start_time": "2022-04-27T08:57:16.525Z"
   },
   {
    "duration": 759,
    "start_time": "2022-04-27T08:59:13.906Z"
   },
   {
    "duration": 1052,
    "start_time": "2022-04-27T08:59:26.118Z"
   },
   {
    "duration": 809,
    "start_time": "2022-04-27T08:59:52.926Z"
   },
   {
    "duration": 742,
    "start_time": "2022-04-27T09:00:05.904Z"
   },
   {
    "duration": 11,
    "start_time": "2022-04-27T09:00:58.094Z"
   },
   {
    "duration": 11,
    "start_time": "2022-04-27T09:01:40.316Z"
   },
   {
    "duration": 14,
    "start_time": "2022-04-27T09:02:36.000Z"
   },
   {
    "duration": 117,
    "start_time": "2022-04-27T09:04:39.225Z"
   },
   {
    "duration": 410,
    "start_time": "2022-04-27T09:05:09.773Z"
   },
   {
    "duration": 589,
    "start_time": "2022-04-27T09:20:53.782Z"
   },
   {
    "duration": 2206,
    "start_time": "2022-04-27T09:22:45.005Z"
   },
   {
    "duration": 2339,
    "start_time": "2022-04-28T07:21:35.308Z"
   },
   {
    "duration": 67,
    "start_time": "2022-04-28T07:21:37.651Z"
   },
   {
    "duration": 39,
    "start_time": "2022-04-28T07:21:40.788Z"
   },
   {
    "duration": 6,
    "start_time": "2022-04-28T07:21:59.698Z"
   },
   {
    "duration": 7,
    "start_time": "2022-04-28T07:22:08.342Z"
   },
   {
    "duration": 201,
    "start_time": "2022-04-28T07:27:06.691Z"
   },
   {
    "duration": 7,
    "start_time": "2022-04-28T07:27:20.014Z"
   },
   {
    "duration": 60,
    "start_time": "2022-04-28T07:27:20.025Z"
   },
   {
    "duration": 18,
    "start_time": "2022-04-28T07:27:20.087Z"
   },
   {
    "duration": 11,
    "start_time": "2022-04-28T07:27:20.108Z"
   },
   {
    "duration": 9,
    "start_time": "2022-04-28T07:27:20.122Z"
   },
   {
    "duration": 4,
    "start_time": "2022-04-28T07:27:27.059Z"
   },
   {
    "duration": 21,
    "start_time": "2022-04-28T07:27:29.510Z"
   },
   {
    "duration": 17,
    "start_time": "2022-04-28T07:27:30.800Z"
   },
   {
    "duration": 12,
    "start_time": "2022-04-28T07:28:18.471Z"
   },
   {
    "duration": 7,
    "start_time": "2022-04-28T07:28:24.729Z"
   },
   {
    "duration": 17,
    "start_time": "2022-04-28T07:28:57.593Z"
   },
   {
    "duration": 39,
    "start_time": "2022-04-28T07:29:17.719Z"
   },
   {
    "duration": 23,
    "start_time": "2022-04-28T07:29:19.596Z"
   },
   {
    "duration": 16,
    "start_time": "2022-04-28T07:29:45.601Z"
   },
   {
    "duration": 387,
    "start_time": "2022-04-28T07:29:58.430Z"
   },
   {
    "duration": 186,
    "start_time": "2022-04-28T07:31:16.507Z"
   },
   {
    "duration": 51,
    "start_time": "2022-04-28T07:31:51.739Z"
   },
   {
    "duration": 3209,
    "start_time": "2022-04-28T07:32:02.362Z"
   },
   {
    "duration": 666,
    "start_time": "2022-04-28T07:32:25.369Z"
   },
   {
    "duration": 183,
    "start_time": "2022-04-28T07:32:35.024Z"
   },
   {
    "duration": 554,
    "start_time": "2022-04-28T07:33:17.622Z"
   },
   {
    "duration": 572,
    "start_time": "2022-04-28T07:33:33.416Z"
   },
   {
    "duration": 3180,
    "start_time": "2022-04-28T07:33:41.961Z"
   },
   {
    "duration": 552,
    "start_time": "2022-04-28T07:34:12.942Z"
   },
   {
    "duration": 6,
    "start_time": "2022-04-28T07:35:46.608Z"
   },
   {
    "duration": 19,
    "start_time": "2022-04-28T07:35:48.202Z"
   },
   {
    "duration": 8,
    "start_time": "2022-04-28T07:36:06.984Z"
   },
   {
    "duration": 401,
    "start_time": "2022-04-28T07:36:45.805Z"
   },
   {
    "duration": 6,
    "start_time": "2022-04-28T07:38:21.815Z"
   },
   {
    "duration": 109,
    "start_time": "2022-04-28T07:38:30.299Z"
   },
   {
    "duration": 396,
    "start_time": "2022-04-28T07:41:26.186Z"
   },
   {
    "duration": 827,
    "start_time": "2022-04-28T07:41:29.886Z"
   },
   {
    "duration": 6,
    "start_time": "2022-04-28T07:41:39.845Z"
   },
   {
    "duration": 16,
    "start_time": "2022-04-28T07:41:43.986Z"
   },
   {
    "duration": 186,
    "start_time": "2022-04-28T07:41:46.982Z"
   },
   {
    "duration": 4092,
    "start_time": "2022-04-28T07:41:49.891Z"
   },
   {
    "duration": 307,
    "start_time": "2022-04-28T07:41:53.995Z"
   },
   {
    "duration": 25,
    "start_time": "2022-04-28T07:42:31.873Z"
   },
   {
    "duration": 14,
    "start_time": "2022-04-28T07:42:43.073Z"
   },
   {
    "duration": 305,
    "start_time": "2022-04-28T07:42:44.894Z"
   },
   {
    "duration": 14,
    "start_time": "2022-04-28T07:42:57.976Z"
   },
   {
    "duration": 437,
    "start_time": "2022-04-28T07:42:59.849Z"
   },
   {
    "duration": 462,
    "start_time": "2022-04-28T07:43:10.286Z"
   },
   {
    "duration": 1645,
    "start_time": "2022-04-28T07:44:12.459Z"
   },
   {
    "duration": 20,
    "start_time": "2022-04-28T07:44:21.651Z"
   },
   {
    "duration": 180,
    "start_time": "2022-04-28T07:44:22.738Z"
   },
   {
    "duration": 3425,
    "start_time": "2022-04-28T07:44:24.727Z"
   },
   {
    "duration": 938,
    "start_time": "2022-04-28T07:44:28.156Z"
   },
   {
    "duration": 294,
    "start_time": "2022-04-28T07:45:29.864Z"
   },
   {
    "duration": 640,
    "start_time": "2022-04-28T07:47:27.322Z"
   },
   {
    "duration": 9,
    "start_time": "2022-04-28T07:48:11.158Z"
   },
   {
    "duration": 8,
    "start_time": "2022-04-28T07:48:30.786Z"
   },
   {
    "duration": 9,
    "start_time": "2022-04-28T07:48:38.546Z"
   },
   {
    "duration": 110,
    "start_time": "2022-04-28T07:50:15.741Z"
   },
   {
    "duration": 248,
    "start_time": "2022-04-28T07:50:36.713Z"
   },
   {
    "duration": 1430,
    "start_time": "2022-04-28T07:51:53.890Z"
   },
   {
    "duration": 24,
    "start_time": "2022-04-28T07:54:02.819Z"
   },
   {
    "duration": 20,
    "start_time": "2022-04-28T07:54:42.230Z"
   },
   {
    "duration": 28,
    "start_time": "2022-04-28T07:54:48.871Z"
   },
   {
    "duration": 36,
    "start_time": "2022-04-28T07:57:26.626Z"
   },
   {
    "duration": 49,
    "start_time": "2022-04-28T08:37:10.061Z"
   },
   {
    "duration": 5,
    "start_time": "2022-04-28T08:37:20.024Z"
   },
   {
    "duration": 7,
    "start_time": "2022-04-28T08:37:21.761Z"
   },
   {
    "duration": 1832,
    "start_time": "2022-04-28T08:37:30.123Z"
   },
   {
    "duration": 38,
    "start_time": "2022-04-28T08:37:31.957Z"
   },
   {
    "duration": 16,
    "start_time": "2022-04-28T08:37:31.997Z"
   },
   {
    "duration": 4,
    "start_time": "2022-04-28T08:37:32.015Z"
   },
   {
    "duration": 4,
    "start_time": "2022-04-28T08:37:32.023Z"
   },
   {
    "duration": 11,
    "start_time": "2022-04-28T08:37:32.029Z"
   },
   {
    "duration": 10,
    "start_time": "2022-04-28T08:37:32.041Z"
   },
   {
    "duration": 5,
    "start_time": "2022-04-28T08:37:32.053Z"
   },
   {
    "duration": 15,
    "start_time": "2022-04-28T08:37:32.059Z"
   },
   {
    "duration": 55,
    "start_time": "2022-04-28T08:37:32.076Z"
   },
   {
    "duration": 10,
    "start_time": "2022-04-28T08:37:32.133Z"
   },
   {
    "duration": 150,
    "start_time": "2022-04-28T08:37:32.144Z"
   },
   {
    "duration": 134,
    "start_time": "2022-04-28T08:37:32.296Z"
   },
   {
    "duration": 48,
    "start_time": "2022-04-28T08:37:32.434Z"
   },
   {
    "duration": 2959,
    "start_time": "2022-04-28T08:37:32.484Z"
   },
   {
    "duration": 582,
    "start_time": "2022-04-28T08:37:35.444Z"
   },
   {
    "duration": 400,
    "start_time": "2022-04-28T08:37:36.027Z"
   },
   {
    "duration": 669,
    "start_time": "2022-04-28T08:37:36.429Z"
   },
   {
    "duration": 2117,
    "start_time": "2022-04-28T08:37:37.100Z"
   },
   {
    "duration": 216,
    "start_time": "2022-04-28T08:37:39.219Z"
   },
   {
    "duration": 7,
    "start_time": "2022-04-28T08:37:39.522Z"
   },
   {
    "duration": 103,
    "start_time": "2022-04-28T08:37:39.531Z"
   },
   {
    "duration": 294,
    "start_time": "2022-04-28T08:37:39.635Z"
   },
   {
    "duration": 265,
    "start_time": "2022-04-28T08:37:39.931Z"
   },
   {
    "duration": 236,
    "start_time": "2022-04-28T08:37:40.198Z"
   },
   {
    "duration": 5,
    "start_time": "2022-04-28T08:37:40.523Z"
   },
   {
    "duration": 99,
    "start_time": "2022-04-28T08:37:40.531Z"
   },
   {
    "duration": 131,
    "start_time": "2022-04-28T08:37:40.632Z"
   },
   {
    "duration": 2122,
    "start_time": "2022-04-28T08:37:40.764Z"
   },
   {
    "duration": 146,
    "start_time": "2022-04-28T08:37:42.887Z"
   },
   {
    "duration": 361,
    "start_time": "2022-04-28T08:37:43.034Z"
   },
   {
    "duration": 448,
    "start_time": "2022-04-28T08:37:43.397Z"
   },
   {
    "duration": 6,
    "start_time": "2022-04-28T08:37:43.847Z"
   },
   {
    "duration": 7,
    "start_time": "2022-04-28T08:37:43.855Z"
   },
   {
    "duration": 7,
    "start_time": "2022-04-28T08:37:43.863Z"
   },
   {
    "duration": 91,
    "start_time": "2022-04-28T08:37:43.872Z"
   },
   {
    "duration": 166,
    "start_time": "2022-04-28T08:37:43.964Z"
   },
   {
    "duration": 881,
    "start_time": "2022-04-28T08:37:44.132Z"
   },
   {
    "duration": 5996,
    "start_time": "2022-04-28T08:46:36.336Z"
   },
   {
    "duration": 11,
    "start_time": "2022-04-28T08:51:55.105Z"
   },
   {
    "duration": 15,
    "start_time": "2022-04-28T09:03:04.432Z"
   },
   {
    "duration": 356,
    "start_time": "2022-04-28T09:03:41.623Z"
   },
   {
    "duration": 316,
    "start_time": "2022-04-28T09:03:56.229Z"
   },
   {
    "duration": 418,
    "start_time": "2022-04-28T09:04:01.130Z"
   },
   {
    "duration": 3,
    "start_time": "2022-04-28T09:05:49.461Z"
   },
   {
    "duration": 43,
    "start_time": "2022-04-28T09:05:49.466Z"
   },
   {
    "duration": 13,
    "start_time": "2022-04-28T09:05:49.511Z"
   },
   {
    "duration": 17,
    "start_time": "2022-04-28T09:05:49.527Z"
   },
   {
    "duration": 9,
    "start_time": "2022-04-28T09:05:49.546Z"
   },
   {
    "duration": 12,
    "start_time": "2022-04-28T09:05:49.557Z"
   },
   {
    "duration": 10,
    "start_time": "2022-04-28T09:05:49.571Z"
   },
   {
    "duration": 5,
    "start_time": "2022-04-28T09:05:49.583Z"
   },
   {
    "duration": 10,
    "start_time": "2022-04-28T09:05:49.590Z"
   },
   {
    "duration": 51,
    "start_time": "2022-04-28T09:05:49.602Z"
   },
   {
    "duration": 12,
    "start_time": "2022-04-28T09:05:49.654Z"
   },
   {
    "duration": 219,
    "start_time": "2022-04-28T09:05:49.668Z"
   },
   {
    "duration": 109,
    "start_time": "2022-04-28T09:05:49.890Z"
   },
   {
    "duration": 45,
    "start_time": "2022-04-28T09:05:50.002Z"
   },
   {
    "duration": 2400,
    "start_time": "2022-04-28T09:05:50.049Z"
   },
   {
    "duration": 421,
    "start_time": "2022-04-28T09:05:52.451Z"
   },
   {
    "duration": 273,
    "start_time": "2022-04-28T09:05:52.873Z"
   },
   {
    "duration": 604,
    "start_time": "2022-04-28T09:05:53.148Z"
   },
   {
    "duration": 2417,
    "start_time": "2022-04-28T09:05:53.754Z"
   },
   {
    "duration": 454,
    "start_time": "2022-04-28T09:05:56.173Z"
   },
   {
    "duration": 13,
    "start_time": "2022-04-28T09:05:56.635Z"
   },
   {
    "duration": 19,
    "start_time": "2022-04-28T09:05:56.731Z"
   },
   {
    "duration": 328,
    "start_time": "2022-04-28T09:05:56.752Z"
   },
   {
    "duration": 346,
    "start_time": "2022-04-28T09:05:57.081Z"
   },
   {
    "duration": 298,
    "start_time": "2022-04-28T09:05:57.429Z"
   },
   {
    "duration": 82,
    "start_time": "2022-04-28T09:05:57.748Z"
   },
   {
    "duration": 10,
    "start_time": "2022-04-28T09:05:57.836Z"
   },
   {
    "duration": 131,
    "start_time": "2022-04-28T09:05:57.847Z"
   },
   {
    "duration": 2185,
    "start_time": "2022-04-28T09:05:57.979Z"
   },
   {
    "duration": 483,
    "start_time": "2022-04-28T09:06:00.166Z"
   },
   {
    "duration": 273,
    "start_time": "2022-04-28T09:06:00.725Z"
   },
   {
    "duration": 499,
    "start_time": "2022-04-28T09:06:01.000Z"
   },
   {
    "duration": 6,
    "start_time": "2022-04-28T09:06:01.501Z"
   },
   {
    "duration": 28,
    "start_time": "2022-04-28T09:06:01.509Z"
   },
   {
    "duration": 14,
    "start_time": "2022-04-28T09:06:01.539Z"
   },
   {
    "duration": 79,
    "start_time": "2022-04-28T09:06:01.555Z"
   },
   {
    "duration": 168,
    "start_time": "2022-04-28T09:06:01.636Z"
   },
   {
    "duration": 872,
    "start_time": "2022-04-28T09:06:01.807Z"
   },
   {
    "duration": 199,
    "start_time": "2022-04-28T09:24:13.961Z"
   }
  ],
  "kernelspec": {
   "display_name": "Python 3 (ipykernel)",
   "language": "python",
   "name": "python3"
  },
  "language_info": {
   "codemirror_mode": {
    "name": "ipython",
    "version": 3
   },
   "file_extension": ".py",
   "mimetype": "text/x-python",
   "name": "python",
   "nbconvert_exporter": "python",
   "pygments_lexer": "ipython3",
   "version": "3.9.7"
  },
  "toc": {
   "base_numbering": 1,
   "nav_menu": {},
   "number_sections": true,
   "sideBar": true,
   "skip_h1_title": true,
   "title_cell": "Содержание",
   "title_sidebar": "Contents",
   "toc_cell": true,
   "toc_position": {
    "height": "calc(100% - 180px)",
    "left": "10px",
    "top": "150px",
    "width": "278.797px"
   },
   "toc_section_display": true,
   "toc_window_display": true
  }
 },
 "nbformat": 4,
 "nbformat_minor": 2
}
