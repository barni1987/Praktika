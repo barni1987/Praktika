{
 "cells": [
  {
   "cell_type": "markdown",
   "id": "fefb56ca",
   "metadata": {},
   "source": [
    "# Исследование надежности заемщиков."
   ]
  },
  {
   "cell_type": "markdown",
   "id": "fad9d1c3",
   "metadata": {},
   "source": [
    "### Шаг 1. Обзор данных"
   ]
  },
  {
   "cell_type": "code",
   "execution_count": 139,
   "id": "6adb7365",
   "metadata": {},
   "outputs": [
    {
     "name": "stdout",
     "output_type": "stream",
     "text": [
      "<class 'pandas.core.frame.DataFrame'>\n",
      "RangeIndex: 21525 entries, 0 to 21524\n",
      "Data columns (total 12 columns):\n",
      "children            21525 non-null int64\n",
      "days_employed       19351 non-null float64\n",
      "dob_years           21525 non-null int64\n",
      "education           21525 non-null object\n",
      "education_id        21525 non-null int64\n",
      "family_status       21525 non-null object\n",
      "family_status_id    21525 non-null int64\n",
      "gender              21525 non-null object\n",
      "income_type         21525 non-null object\n",
      "debt                21525 non-null int64\n",
      "total_income        19351 non-null float64\n",
      "purpose             21525 non-null object\n",
      "dtypes: float64(2), int64(5), object(5)\n",
      "memory usage: 2.0+ MB\n"
     ]
    }
   ],
   "source": [
    "import pandas as pd\n",
    "df = pd.read_csv('/datasets/data.csv') # доступ к файлу с данными\n",
    "df.info() # оценка загруженных данных, просмотр регистра, наличия \"лишних\" пробелов, определение типа данных"
   ]
  },
  {
   "cell_type": "code",
   "execution_count": 140,
   "id": "596c07ef",
   "metadata": {
    "scrolled": true
   },
   "outputs": [
    {
     "data": {
      "text/html": [
       "<div>\n",
       "<style scoped>\n",
       "    .dataframe tbody tr th:only-of-type {\n",
       "        vertical-align: middle;\n",
       "    }\n",
       "\n",
       "    .dataframe tbody tr th {\n",
       "        vertical-align: top;\n",
       "    }\n",
       "\n",
       "    .dataframe thead th {\n",
       "        text-align: right;\n",
       "    }\n",
       "</style>\n",
       "<table border=\"1\" class=\"dataframe\">\n",
       "  <thead>\n",
       "    <tr style=\"text-align: right;\">\n",
       "      <th></th>\n",
       "      <th>children</th>\n",
       "      <th>days_employed</th>\n",
       "      <th>dob_years</th>\n",
       "      <th>education</th>\n",
       "      <th>education_id</th>\n",
       "      <th>family_status</th>\n",
       "      <th>family_status_id</th>\n",
       "      <th>gender</th>\n",
       "      <th>income_type</th>\n",
       "      <th>debt</th>\n",
       "      <th>total_income</th>\n",
       "      <th>purpose</th>\n",
       "    </tr>\n",
       "  </thead>\n",
       "  <tbody>\n",
       "    <tr>\n",
       "      <td>0</td>\n",
       "      <td>1</td>\n",
       "      <td>-8437.673028</td>\n",
       "      <td>42</td>\n",
       "      <td>высшее</td>\n",
       "      <td>0</td>\n",
       "      <td>женат / замужем</td>\n",
       "      <td>0</td>\n",
       "      <td>F</td>\n",
       "      <td>сотрудник</td>\n",
       "      <td>0</td>\n",
       "      <td>253875.639453</td>\n",
       "      <td>покупка жилья</td>\n",
       "    </tr>\n",
       "    <tr>\n",
       "      <td>1</td>\n",
       "      <td>1</td>\n",
       "      <td>-4024.803754</td>\n",
       "      <td>36</td>\n",
       "      <td>среднее</td>\n",
       "      <td>1</td>\n",
       "      <td>женат / замужем</td>\n",
       "      <td>0</td>\n",
       "      <td>F</td>\n",
       "      <td>сотрудник</td>\n",
       "      <td>0</td>\n",
       "      <td>112080.014102</td>\n",
       "      <td>приобретение автомобиля</td>\n",
       "    </tr>\n",
       "    <tr>\n",
       "      <td>2</td>\n",
       "      <td>0</td>\n",
       "      <td>-5623.422610</td>\n",
       "      <td>33</td>\n",
       "      <td>Среднее</td>\n",
       "      <td>1</td>\n",
       "      <td>женат / замужем</td>\n",
       "      <td>0</td>\n",
       "      <td>M</td>\n",
       "      <td>сотрудник</td>\n",
       "      <td>0</td>\n",
       "      <td>145885.952297</td>\n",
       "      <td>покупка жилья</td>\n",
       "    </tr>\n",
       "    <tr>\n",
       "      <td>3</td>\n",
       "      <td>3</td>\n",
       "      <td>-4124.747207</td>\n",
       "      <td>32</td>\n",
       "      <td>среднее</td>\n",
       "      <td>1</td>\n",
       "      <td>женат / замужем</td>\n",
       "      <td>0</td>\n",
       "      <td>M</td>\n",
       "      <td>сотрудник</td>\n",
       "      <td>0</td>\n",
       "      <td>267628.550329</td>\n",
       "      <td>дополнительное образование</td>\n",
       "    </tr>\n",
       "    <tr>\n",
       "      <td>4</td>\n",
       "      <td>0</td>\n",
       "      <td>340266.072047</td>\n",
       "      <td>53</td>\n",
       "      <td>среднее</td>\n",
       "      <td>1</td>\n",
       "      <td>гражданский брак</td>\n",
       "      <td>1</td>\n",
       "      <td>F</td>\n",
       "      <td>пенсионер</td>\n",
       "      <td>0</td>\n",
       "      <td>158616.077870</td>\n",
       "      <td>сыграть свадьбу</td>\n",
       "    </tr>\n",
       "    <tr>\n",
       "      <td>5</td>\n",
       "      <td>0</td>\n",
       "      <td>-926.185831</td>\n",
       "      <td>27</td>\n",
       "      <td>высшее</td>\n",
       "      <td>0</td>\n",
       "      <td>гражданский брак</td>\n",
       "      <td>1</td>\n",
       "      <td>M</td>\n",
       "      <td>компаньон</td>\n",
       "      <td>0</td>\n",
       "      <td>255763.565419</td>\n",
       "      <td>покупка жилья</td>\n",
       "    </tr>\n",
       "    <tr>\n",
       "      <td>6</td>\n",
       "      <td>0</td>\n",
       "      <td>-2879.202052</td>\n",
       "      <td>43</td>\n",
       "      <td>высшее</td>\n",
       "      <td>0</td>\n",
       "      <td>женат / замужем</td>\n",
       "      <td>0</td>\n",
       "      <td>F</td>\n",
       "      <td>компаньон</td>\n",
       "      <td>0</td>\n",
       "      <td>240525.971920</td>\n",
       "      <td>операции с жильем</td>\n",
       "    </tr>\n",
       "    <tr>\n",
       "      <td>7</td>\n",
       "      <td>0</td>\n",
       "      <td>-152.779569</td>\n",
       "      <td>50</td>\n",
       "      <td>СРЕДНЕЕ</td>\n",
       "      <td>1</td>\n",
       "      <td>женат / замужем</td>\n",
       "      <td>0</td>\n",
       "      <td>M</td>\n",
       "      <td>сотрудник</td>\n",
       "      <td>0</td>\n",
       "      <td>135823.934197</td>\n",
       "      <td>образование</td>\n",
       "    </tr>\n",
       "    <tr>\n",
       "      <td>8</td>\n",
       "      <td>2</td>\n",
       "      <td>-6929.865299</td>\n",
       "      <td>35</td>\n",
       "      <td>ВЫСШЕЕ</td>\n",
       "      <td>0</td>\n",
       "      <td>гражданский брак</td>\n",
       "      <td>1</td>\n",
       "      <td>F</td>\n",
       "      <td>сотрудник</td>\n",
       "      <td>0</td>\n",
       "      <td>95856.832424</td>\n",
       "      <td>на проведение свадьбы</td>\n",
       "    </tr>\n",
       "    <tr>\n",
       "      <td>9</td>\n",
       "      <td>0</td>\n",
       "      <td>-2188.756445</td>\n",
       "      <td>41</td>\n",
       "      <td>среднее</td>\n",
       "      <td>1</td>\n",
       "      <td>женат / замужем</td>\n",
       "      <td>0</td>\n",
       "      <td>M</td>\n",
       "      <td>сотрудник</td>\n",
       "      <td>0</td>\n",
       "      <td>144425.938277</td>\n",
       "      <td>покупка жилья для семьи</td>\n",
       "    </tr>\n",
       "  </tbody>\n",
       "</table>\n",
       "</div>"
      ],
      "text/plain": [
       "   children  days_employed  dob_years education  education_id  \\\n",
       "0         1   -8437.673028         42    высшее             0   \n",
       "1         1   -4024.803754         36   среднее             1   \n",
       "2         0   -5623.422610         33   Среднее             1   \n",
       "3         3   -4124.747207         32   среднее             1   \n",
       "4         0  340266.072047         53   среднее             1   \n",
       "5         0    -926.185831         27    высшее             0   \n",
       "6         0   -2879.202052         43    высшее             0   \n",
       "7         0    -152.779569         50   СРЕДНЕЕ             1   \n",
       "8         2   -6929.865299         35    ВЫСШЕЕ             0   \n",
       "9         0   -2188.756445         41   среднее             1   \n",
       "\n",
       "      family_status  family_status_id gender income_type  debt   total_income  \\\n",
       "0   женат / замужем                 0      F   сотрудник     0  253875.639453   \n",
       "1   женат / замужем                 0      F   сотрудник     0  112080.014102   \n",
       "2   женат / замужем                 0      M   сотрудник     0  145885.952297   \n",
       "3   женат / замужем                 0      M   сотрудник     0  267628.550329   \n",
       "4  гражданский брак                 1      F   пенсионер     0  158616.077870   \n",
       "5  гражданский брак                 1      M   компаньон     0  255763.565419   \n",
       "6   женат / замужем                 0      F   компаньон     0  240525.971920   \n",
       "7   женат / замужем                 0      M   сотрудник     0  135823.934197   \n",
       "8  гражданский брак                 1      F   сотрудник     0   95856.832424   \n",
       "9   женат / замужем                 0      M   сотрудник     0  144425.938277   \n",
       "\n",
       "                      purpose  \n",
       "0               покупка жилья  \n",
       "1     приобретение автомобиля  \n",
       "2               покупка жилья  \n",
       "3  дополнительное образование  \n",
       "4             сыграть свадьбу  \n",
       "5               покупка жилья  \n",
       "6           операции с жильем  \n",
       "7                 образование  \n",
       "8       на проведение свадьбы  \n",
       "9     покупка жилья для семьи  "
      ]
     },
     "execution_count": 140,
     "metadata": {},
     "output_type": "execute_result"
    }
   ],
   "source": [
    "df.head(10) #просмотр первых 10 строк загруженного файла, ознакомления с названием столбцов и значениями строк"
   ]
  },
  {
   "cell_type": "markdown",
   "id": "a1af85e2",
   "metadata": {},
   "source": [
    "<font color='DarkBlue'><b>Выводы по обзору данных</b></font><br>\n",
    "\n",
    "Видна проблема с колонкой days_employed :\n",
    "\n",
    "* дни не могут быть вещественным числом\n",
    "* дни не могут быть отрицательными. Скорее всего проблемы образовались при выгрузке, необходимо создать тикет и добваить в него сотрудника, который сформировал данные, для анализа они нам понадобятся.\n",
    "\n",
    "Возможно стоит переименовать:\n",
    "\n",
    "* dob_years в full_years (так логичнее и понятнее при обращении)\n",
    "* children в children_count (это количество детей, а не бинарный признак)\n",
    "* education в education_level (уровень образования более логичен)\n",
    "\n",
    "В столбце education необходимо привести к одному регистру\n",
    "    \n",
    "Ежемесячный доход total_incomeскорее всего не сильно нужен с учетом копеек, поэтому возможно стоит перевести в int (целочисленный).\n",
    "\n",
    "Исходные данные успешно загружены и проанализированы, подробное описание и проблемы по ним указал выше.\n"
   ]
  },
  {
   "cell_type": "markdown",
   "id": "5964e4e7",
   "metadata": {},
   "source": [
    "### Шаг 2.1 Заполнение пропусков"
   ]
  },
  {
   "cell_type": "code",
   "execution_count": 141,
   "id": "a77f7f63",
   "metadata": {},
   "outputs": [
    {
     "data": {
      "text/plain": [
       "children               0\n",
       "days_employed       2174\n",
       "dob_years              0\n",
       "education              0\n",
       "education_id           0\n",
       "family_status          0\n",
       "family_status_id       0\n",
       "gender                 0\n",
       "income_type            0\n",
       "debt                   0\n",
       "total_income        2174\n",
       "purpose                0\n",
       "dtype: int64"
      ]
     },
     "execution_count": 141,
     "metadata": {},
     "output_type": "execute_result"
    }
   ],
   "source": [
    "df.isnull().sum() # поиск пустых значений - 2174 из 21524 строк, получается более 10 %, объем весомый, поэтому необходимо их заполнение. "
   ]
  },
  {
   "cell_type": "code",
   "execution_count": 142,
   "id": "299f661f",
   "metadata": {},
   "outputs": [
    {
     "data": {
      "text/html": [
       "<div>\n",
       "<style scoped>\n",
       "    .dataframe tbody tr th:only-of-type {\n",
       "        vertical-align: middle;\n",
       "    }\n",
       "\n",
       "    .dataframe tbody tr th {\n",
       "        vertical-align: top;\n",
       "    }\n",
       "\n",
       "    .dataframe thead th {\n",
       "        text-align: right;\n",
       "    }\n",
       "</style>\n",
       "<table border=\"1\" class=\"dataframe\">\n",
       "  <thead>\n",
       "    <tr style=\"text-align: right;\">\n",
       "      <th></th>\n",
       "      <th>children</th>\n",
       "      <th>days_employed</th>\n",
       "      <th>dob_years</th>\n",
       "      <th>education</th>\n",
       "      <th>education_id</th>\n",
       "      <th>family_status</th>\n",
       "      <th>family_status_id</th>\n",
       "      <th>gender</th>\n",
       "      <th>income_type</th>\n",
       "      <th>debt</th>\n",
       "      <th>total_income</th>\n",
       "      <th>purpose</th>\n",
       "    </tr>\n",
       "  </thead>\n",
       "  <tbody>\n",
       "    <tr>\n",
       "      <td>21489</td>\n",
       "      <td>2</td>\n",
       "      <td>NaN</td>\n",
       "      <td>47</td>\n",
       "      <td>Среднее</td>\n",
       "      <td>1</td>\n",
       "      <td>женат / замужем</td>\n",
       "      <td>0</td>\n",
       "      <td>M</td>\n",
       "      <td>компаньон</td>\n",
       "      <td>0</td>\n",
       "      <td>NaN</td>\n",
       "      <td>сделка с автомобилем</td>\n",
       "    </tr>\n",
       "    <tr>\n",
       "      <td>21495</td>\n",
       "      <td>1</td>\n",
       "      <td>NaN</td>\n",
       "      <td>50</td>\n",
       "      <td>среднее</td>\n",
       "      <td>1</td>\n",
       "      <td>гражданский брак</td>\n",
       "      <td>1</td>\n",
       "      <td>F</td>\n",
       "      <td>сотрудник</td>\n",
       "      <td>0</td>\n",
       "      <td>NaN</td>\n",
       "      <td>свадьба</td>\n",
       "    </tr>\n",
       "    <tr>\n",
       "      <td>21497</td>\n",
       "      <td>0</td>\n",
       "      <td>NaN</td>\n",
       "      <td>48</td>\n",
       "      <td>ВЫСШЕЕ</td>\n",
       "      <td>0</td>\n",
       "      <td>женат / замужем</td>\n",
       "      <td>0</td>\n",
       "      <td>F</td>\n",
       "      <td>компаньон</td>\n",
       "      <td>0</td>\n",
       "      <td>NaN</td>\n",
       "      <td>строительство недвижимости</td>\n",
       "    </tr>\n",
       "    <tr>\n",
       "      <td>21502</td>\n",
       "      <td>1</td>\n",
       "      <td>NaN</td>\n",
       "      <td>42</td>\n",
       "      <td>среднее</td>\n",
       "      <td>1</td>\n",
       "      <td>женат / замужем</td>\n",
       "      <td>0</td>\n",
       "      <td>F</td>\n",
       "      <td>сотрудник</td>\n",
       "      <td>0</td>\n",
       "      <td>NaN</td>\n",
       "      <td>строительство жилой недвижимости</td>\n",
       "    </tr>\n",
       "    <tr>\n",
       "      <td>21510</td>\n",
       "      <td>2</td>\n",
       "      <td>NaN</td>\n",
       "      <td>28</td>\n",
       "      <td>среднее</td>\n",
       "      <td>1</td>\n",
       "      <td>женат / замужем</td>\n",
       "      <td>0</td>\n",
       "      <td>F</td>\n",
       "      <td>сотрудник</td>\n",
       "      <td>0</td>\n",
       "      <td>NaN</td>\n",
       "      <td>приобретение автомобиля</td>\n",
       "    </tr>\n",
       "  </tbody>\n",
       "</table>\n",
       "</div>"
      ],
      "text/plain": [
       "       children  days_employed  dob_years education  education_id  \\\n",
       "21489         2            NaN         47   Среднее             1   \n",
       "21495         1            NaN         50   среднее             1   \n",
       "21497         0            NaN         48    ВЫСШЕЕ             0   \n",
       "21502         1            NaN         42   среднее             1   \n",
       "21510         2            NaN         28   среднее             1   \n",
       "\n",
       "          family_status  family_status_id gender income_type  debt  \\\n",
       "21489   женат / замужем                 0      M   компаньон     0   \n",
       "21495  гражданский брак                 1      F   сотрудник     0   \n",
       "21497   женат / замужем                 0      F   компаньон     0   \n",
       "21502   женат / замужем                 0      F   сотрудник     0   \n",
       "21510   женат / замужем                 0      F   сотрудник     0   \n",
       "\n",
       "       total_income                           purpose  \n",
       "21489           NaN              сделка с автомобилем  \n",
       "21495           NaN                           свадьба  \n",
       "21497           NaN        строительство недвижимости  \n",
       "21502           NaN  строительство жилой недвижимости  \n",
       "21510           NaN           приобретение автомобиля  "
      ]
     },
     "execution_count": 142,
     "metadata": {},
     "output_type": "execute_result"
    }
   ],
   "source": [
    "df[df['total_income'].isnull()].tail()# определим что именно из себя представляют пустые значения\n",
    "# NAN говорит об отсутсвии данных, NaN замещает отсутствующее в ячейке число и принадлежит к типу float, поэтому с ним можно проводить математические операции.\n",
    "# Возможные причины появляются пропусков заключаются :\n",
    "# В колонке \"days_employed\" дни не могут быть отрицательными. Скорее всего проблемы образовались при выгрузке, необходимо создать тикет и добваить в него сотрудника, который сформировал данные, для анализа они нам понадобятся, но в дальнейшем данный столбец можно будет удалить, если не появится обратной связи от сотрудника, формировавшего данный файл.\n",
    "# В Колонке \"total_income\" пропуски могли образоваться из-за неподтверждения официального дохода, например при \"серой зарплате\", либо неуказанием заемщика, кроме этого, учет более 2-х знаков после запятой не нужен."
   ]
  },
  {
   "cell_type": "code",
   "execution_count": 143,
   "id": "bd538ddd",
   "metadata": {},
   "outputs": [
    {
     "data": {
      "text/plain": [
       "children               0\n",
       "days_employed       2174\n",
       "dob_years              0\n",
       "education              0\n",
       "education_id           0\n",
       "family_status          0\n",
       "family_status_id       0\n",
       "gender                 0\n",
       "income_type            0\n",
       "debt                   0\n",
       "total_income           0\n",
       "purpose                0\n",
       "dtype: int64"
      ]
     },
     "execution_count": 143,
     "metadata": {},
     "output_type": "execute_result"
    }
   ],
   "source": [
    "# Восстановим данные в total_income\n",
    "# Используем медиану, что бы не учитывать \"среднюю температуру по всей больнице\", некоторые значения доход  сильно выделяются от большинства, поэтому медиана будет точнее, чем определение среднего\n",
    "# Буду использовать уровень образования и род деятельности для уточнения данных  \n",
    "\n",
    "import math #нужен для проверки NaN\n",
    "\n",
    "# calc_median_by_education_and_income вычисляет медиану для income_type по уровню образования и типа работы\n",
    "# при неопределении среднего сразу по 2-м параметрам - не может быть вычислено (не найдется в основных значениях группы параметров)\n",
    "# берется среднее по одному - сперва по уровню образования, потом уже по типу сотрудника\n",
    "def calc_median_by_education_and_income(df, education, income_type):\n",
    "    # используем оба параметра education и income_type\n",
    "    median = df[(df['education'] == education) & (df['income_type'] == income_type)]['total_income'].median()\n",
    "    # если нет совпадения по двум параметрам education_level и income_type, то считаем сначала по education_level, потом по income_type \n",
    "    if math.isnan(median):\n",
    "        median = df[df['education'] == education]['total_income'].median()\n",
    "        if math.isnan(median):\n",
    "            median = df[df['income_type'] == income_type]['total_income'].median()    \n",
    "    return median\n",
    "\n",
    "# перебираем все строки стобцов education и income_type для пустых значений\n",
    "# только для пустых значенй используем медиану, соответствующую их группе\n",
    "for education_level in df[df['total_income'].isnull()]['education'].unique():\n",
    "    for income_type in df[df['total_income'].isnull()]['income_type'].unique():\n",
    "        median = calc_median_by_education_and_income(df, education_level, income_type)\n",
    "        searchRow = (df['education'] == education_level) & (df['income_type'] == income_type) & (df['total_income'].isnull())\n",
    "        df.loc[searchRow,'total_income'] = df.loc[searchRow,'total_income'].fillna(median)\n",
    "\n",
    "# проверяем, что все писправлено и в столбце  income_type  не осталось пустых значений, столбец days_employed был удален.\n",
    "df.isnull().sum()"
   ]
  },
  {
   "cell_type": "markdown",
   "id": "76fd186b",
   "metadata": {},
   "source": [
    "### Шаг 2.2 Проверка данных на аномалии и исправления."
   ]
  },
  {
   "cell_type": "code",
   "execution_count": 144,
   "id": "13f14e6c",
   "metadata": {},
   "outputs": [
    {
     "data": {
      "text/plain": [
       "children            0\n",
       "dob_years           0\n",
       "education           0\n",
       "education_id        0\n",
       "family_status       0\n",
       "family_status_id    0\n",
       "gender              0\n",
       "income_type         0\n",
       "debt                0\n",
       "total_income        0\n",
       "purpose             0\n",
       "dtype: int64"
      ]
     },
     "execution_count": 144,
     "metadata": {},
     "output_type": "execute_result"
    }
   ],
   "source": [
    "# Был проведен анализ возникновения аномалий:\n",
    "# отрицательны значения могли появиться из-за не верной формулы в подсчете стажа, \n",
    "# вычли из даты начала стажа текущую дату, а не наоборот. \n",
    "# Слишком высокие значения у пенсионеров наверное из-за того что раньше данные хранились в другом формате \n",
    "# и при переходе на новую БД могли не заметить ошибку, но это всего лишь предположения.\n",
    "# Нулевой возраст можно заполнить медианным значением в этой группе занятости. \n",
    "# Попадаются строчки с отрицательным количество детей ‘-1’. \n",
    "# Есть одна строка с третьим полом, не мужчина и не женщина. \n",
    "# Если бы стояла задача искать зависимость от стажа то нужно было бы точно запрашивать верные данные, \n",
    "# потому что из-за предположений можно сильно изменить картину.\n",
    "\n",
    "# столбец с днями трудового стажа сожержит неверную информацию на которую мы \"объективно\" повлиять или дополнить не можем \n",
    "# (даже при переводе ее в дни, получается, что трудовой стаж может быть больше возраста)\n",
    "# кроме этого в трудовом стаже присутствуют отрицательных значения, которые можно сделать положительными \n",
    "# при помощи функции abs, но количество отработанных дней при этом все равно может первышать возраст участников\n",
    "# для ответов на поставленные задачи данный столбец нам не нужен, поэтому принято решенрие его удалить\n",
    "\n",
    "del df['days_employed']\n",
    "\n",
    "df.isnull().sum()"
   ]
  },
  {
   "cell_type": "markdown",
   "id": "b805cc3d",
   "metadata": {},
   "source": [
    "Обработка других ошибок в данных\n",
    "\n",
    "Дополнительно поизучав данные на уровне подсчета уникальных значений (value_counts()) для каждого столбца, был выявлен еще ряд проблем:\n",
    "\n",
    "children содержит значение 20 и -1, хотя отрицательного числа быть не может и 20 сильно выделяется на фоне остальной выборки\n",
    "\n",
    "full_years содержит нулевой возраст\n",
    "gender содержит пол XNA\n",
    "\n",
    "purpose содержит опечатку - ремонт жильЮ\n",
    "Про возможные причины и действия:\n",
    "\n",
    "значение 20 в количестве детей скорее всего опечатка, когда набирая 2, случайно задели ноль\n",
    "\n",
    "значение -1 могло означать раннее отсуствие детей либо их наличие, но почеуму-то выгруженное, как отрицательное число. Т.к. по df[df['children'] == -1]['family_status'].value_counts() можно убедиться, что большая часть этих людей находится или находилась в браке, остановимся на втором варианте.\n",
    "\n",
    "нулевой возраст быть не может, скорее всего он нам просто неизвестен. Т.к. в нашем случае вопросов касательно возраста нет, ничего не делаем.\n",
    "\n",
    "поскольку пол XNA только один, а в наших данных большинство женщины - заменим значением по умолчанию - F\n",
    "учитывая количество строк, ошибка в самой категории на сайте или системе. У себя исправим, ответственных людей предупредим.\n",
    "\n",
    "Исправим эти моменты."
   ]
  },
  {
   "cell_type": "code",
   "execution_count": 145,
   "id": "652a310a",
   "metadata": {},
   "outputs": [
    {
     "data": {
      "text/plain": [
       "0"
      ]
     },
     "execution_count": 145,
     "metadata": {},
     "output_type": "execute_result"
    }
   ],
   "source": [
    "df.loc[df['purpose'] == 'ремонт жилью', 'purpose'] = 'ремонт жилья' # исправим опечатку в purpose\n",
    "df.loc[df['purpose'] == 'ремонт жилью']['purpose'].count() # проверим, что нет ошибок"
   ]
  },
  {
   "cell_type": "code",
   "execution_count": 146,
   "id": "b155c11e",
   "metadata": {},
   "outputs": [
    {
     "data": {
      "text/plain": [
       "0"
      ]
     },
     "execution_count": 146,
     "metadata": {},
     "output_type": "execute_result"
    }
   ],
   "source": [
    "df.loc[df['gender'] == 'XNA', 'gender'] = 'F' # исправим значение поля 'gender'\n",
    "df.loc[df['gender'] == 'XNA']['gender'].count() # проверим, что нет ошибок"
   ]
  },
  {
   "cell_type": "code",
   "execution_count": 147,
   "id": "4bdd90a1",
   "metadata": {},
   "outputs": [
    {
     "data": {
      "text/plain": [
       "0"
      ]
     },
     "execution_count": 147,
     "metadata": {},
     "output_type": "execute_result"
    }
   ],
   "source": [
    "df.loc[df['children'] == 20, 'children'] = 2 # исправим значения 20 для возраста ('children') согласно нашей гипотезе\n",
    "df.loc[df['children'] == 20]['children'].count() # проверим, что нет ошибок"
   ]
  },
  {
   "cell_type": "code",
   "execution_count": 148,
   "id": "8af08d45",
   "metadata": {},
   "outputs": [
    {
     "data": {
      "text/plain": [
       "0"
      ]
     },
     "execution_count": 148,
     "metadata": {},
     "output_type": "execute_result"
    }
   ],
   "source": [
    "df.loc[df['children'] == -1, 'children'] = 1 # исправим значение -1 для количества детей 'children' согласно нашей гипотезы (т.е. заменим на 1)\n",
    "df.loc[df['children'] == -1]['children'].count() # проверим, что нет ошибок"
   ]
  },
  {
   "cell_type": "markdown",
   "id": "60516014",
   "metadata": {},
   "source": [
    "Пропущенным значениям дохода (total_income) мы выставили медиану, но не всей выборки, а только по конкретным категориям, к которым люди относились. Это позволит получить более точную информацию и снизить возможную статистическую погрешность.\n",
    "\n",
    "Пропуски столбца days_employed не быи учтены т.к. они не несут для нас значимой информации и заменить информацию в них нечем.\n",
    "\n",
    "Причины возникновения пропусков - скорее всего они связаны с тем, что у людей нет подтвержденного дохода или стажа. Сейчас у нас нет возможности уточнить этот момент у коллег, делающих выгрузку.\n",
    "\n",
    "В данных встречаются артефакты и нам стоит об этом предупредить тех, кто делал выгрузку. Однако их количество вряд ли отразится на статических результатах исследования. Тем не менее, для большей точности, ключевые моменты были исправлены."
   ]
  },
  {
   "cell_type": "markdown",
   "id": "c0fa6410",
   "metadata": {},
   "source": [
    "### Шаг 2.3. Изменение типов данных."
   ]
  },
  {
   "cell_type": "code",
   "execution_count": 149,
   "id": "07a1f07e",
   "metadata": {},
   "outputs": [
    {
     "name": "stdout",
     "output_type": "stream",
     "text": [
      "<class 'pandas.core.frame.DataFrame'>\n",
      "RangeIndex: 21525 entries, 0 to 21524\n",
      "Data columns (total 11 columns):\n",
      "children            21525 non-null int64\n",
      "dob_years           21525 non-null int64\n",
      "education           21525 non-null object\n",
      "education_id        21525 non-null int64\n",
      "family_status       21525 non-null object\n",
      "family_status_id    21525 non-null int64\n",
      "gender              21525 non-null object\n",
      "income_type         21525 non-null object\n",
      "debt                21525 non-null int64\n",
      "total_income        21525 non-null int64\n",
      "purpose             21525 non-null object\n",
      "dtypes: int64(6), object(5)\n",
      "memory usage: 1.8+ MB\n"
     ]
    }
   ],
   "source": [
    "df['total_income'] = df['total_income'].astype('int') # Замена вещественного тип данных в столбце total_income на целочисленный\n",
    "df.info() # проверка замены"
   ]
  },
  {
   "cell_type": "markdown",
   "id": "909f8dd3",
   "metadata": {},
   "source": [
    "### Шаг 2.4. Удаление дубликатов."
   ]
  },
  {
   "cell_type": "code",
   "execution_count": 150,
   "id": "68fb7bd0",
   "metadata": {},
   "outputs": [
    {
     "data": {
      "text/html": [
       "<div>\n",
       "<style scoped>\n",
       "    .dataframe tbody tr th:only-of-type {\n",
       "        vertical-align: middle;\n",
       "    }\n",
       "\n",
       "    .dataframe tbody tr th {\n",
       "        vertical-align: top;\n",
       "    }\n",
       "\n",
       "    .dataframe thead th {\n",
       "        text-align: right;\n",
       "    }\n",
       "</style>\n",
       "<table border=\"1\" class=\"dataframe\">\n",
       "  <thead>\n",
       "    <tr style=\"text-align: right;\">\n",
       "      <th></th>\n",
       "      <th>children</th>\n",
       "      <th>dob_years</th>\n",
       "      <th>education</th>\n",
       "      <th>education_id</th>\n",
       "      <th>family_status</th>\n",
       "      <th>family_status_id</th>\n",
       "      <th>gender</th>\n",
       "      <th>income_type</th>\n",
       "      <th>debt</th>\n",
       "      <th>total_income</th>\n",
       "      <th>purpose</th>\n",
       "    </tr>\n",
       "  </thead>\n",
       "  <tbody>\n",
       "    <tr>\n",
       "      <td>0</td>\n",
       "      <td>1</td>\n",
       "      <td>42</td>\n",
       "      <td>высшее</td>\n",
       "      <td>0</td>\n",
       "      <td>женат / замужем</td>\n",
       "      <td>0</td>\n",
       "      <td>F</td>\n",
       "      <td>сотрудник</td>\n",
       "      <td>0</td>\n",
       "      <td>253875</td>\n",
       "      <td>покупка жилья</td>\n",
       "    </tr>\n",
       "    <tr>\n",
       "      <td>1</td>\n",
       "      <td>1</td>\n",
       "      <td>36</td>\n",
       "      <td>среднее</td>\n",
       "      <td>1</td>\n",
       "      <td>женат / замужем</td>\n",
       "      <td>0</td>\n",
       "      <td>F</td>\n",
       "      <td>сотрудник</td>\n",
       "      <td>0</td>\n",
       "      <td>112080</td>\n",
       "      <td>приобретение автомобиля</td>\n",
       "    </tr>\n",
       "    <tr>\n",
       "      <td>2</td>\n",
       "      <td>0</td>\n",
       "      <td>33</td>\n",
       "      <td>среднее</td>\n",
       "      <td>1</td>\n",
       "      <td>женат / замужем</td>\n",
       "      <td>0</td>\n",
       "      <td>M</td>\n",
       "      <td>сотрудник</td>\n",
       "      <td>0</td>\n",
       "      <td>145885</td>\n",
       "      <td>покупка жилья</td>\n",
       "    </tr>\n",
       "    <tr>\n",
       "      <td>3</td>\n",
       "      <td>3</td>\n",
       "      <td>32</td>\n",
       "      <td>среднее</td>\n",
       "      <td>1</td>\n",
       "      <td>женат / замужем</td>\n",
       "      <td>0</td>\n",
       "      <td>M</td>\n",
       "      <td>сотрудник</td>\n",
       "      <td>0</td>\n",
       "      <td>267628</td>\n",
       "      <td>дополнительное образование</td>\n",
       "    </tr>\n",
       "    <tr>\n",
       "      <td>4</td>\n",
       "      <td>0</td>\n",
       "      <td>53</td>\n",
       "      <td>среднее</td>\n",
       "      <td>1</td>\n",
       "      <td>гражданский брак</td>\n",
       "      <td>1</td>\n",
       "      <td>F</td>\n",
       "      <td>пенсионер</td>\n",
       "      <td>0</td>\n",
       "      <td>158616</td>\n",
       "      <td>сыграть свадьбу</td>\n",
       "    </tr>\n",
       "  </tbody>\n",
       "</table>\n",
       "</div>"
      ],
      "text/plain": [
       "   children  dob_years education  education_id     family_status  \\\n",
       "0         1         42    высшее             0   женат / замужем   \n",
       "1         1         36   среднее             1   женат / замужем   \n",
       "2         0         33   среднее             1   женат / замужем   \n",
       "3         3         32   среднее             1   женат / замужем   \n",
       "4         0         53   среднее             1  гражданский брак   \n",
       "\n",
       "   family_status_id gender income_type  debt  total_income  \\\n",
       "0                 0      F   сотрудник     0        253875   \n",
       "1                 0      F   сотрудник     0        112080   \n",
       "2                 0      M   сотрудник     0        145885   \n",
       "3                 0      M   сотрудник     0        267628   \n",
       "4                 1      F   пенсионер     0        158616   \n",
       "\n",
       "                      purpose  \n",
       "0               покупка жилья  \n",
       "1     приобретение автомобиля  \n",
       "2               покупка жилья  \n",
       "3  дополнительное образование  \n",
       "4             сыграть свадьбу  "
      ]
     },
     "execution_count": 150,
     "metadata": {},
     "output_type": "execute_result"
    }
   ],
   "source": [
    "df['education'] = df['education'].str.lower() # приведем education к одному регистру для более удобного анализа\n",
    "df.head()"
   ]
  },
  {
   "cell_type": "code",
   "execution_count": 151,
   "id": "198c854c",
   "metadata": {},
   "outputs": [
    {
     "data": {
      "text/plain": [
       "54"
      ]
     },
     "execution_count": 151,
     "metadata": {},
     "output_type": "execute_result"
    }
   ],
   "source": [
    "df.duplicated().sum() # проверка на дубликаты при помощи duplicated (),\n",
    "# использован данный метод, так как при проверке value_counts() нужно  создавать отдельную Series, \n",
    "# которая в дальнейшем не будет использоваться "
   ]
  },
  {
   "cell_type": "code",
   "execution_count": 152,
   "id": "25775a24",
   "metadata": {},
   "outputs": [
    {
     "data": {
      "text/plain": [
       "0"
      ]
     },
     "execution_count": 152,
     "metadata": {},
     "output_type": "execute_result"
    }
   ],
   "source": [
    "df.drop_duplicates(subset=None, keep=\"first\", inplace=True) # удалим найденные дубликаты\n",
    "df.duplicated().sum() # поверка что дубликаов не осталось"
   ]
  },
  {
   "cell_type": "markdown",
   "id": "b046b005",
   "metadata": {},
   "source": [
    "Дубликатов оказалось не так много и их удалось быстро удалить. Для удобства работы с данными столбец education был привден к одному регистру.\n",
    "В других столбцах подобных проблем замечено не было, выборка проводилась с начала и конца таблицы при помощи head() и tail()\n",
    "Повторений информации больше замечено не было.\n"
   ]
  },
  {
   "cell_type": "markdown",
   "id": "7892d7c7",
   "metadata": {},
   "source": [
    "### Шаг 2.5. Формирование дополнительных датафреймов словарей, декомпозиция исходного датафрейма."
   ]
  },
  {
   "cell_type": "code",
   "execution_count": 153,
   "id": "bc7e3c34",
   "metadata": {},
   "outputs": [
    {
     "data": {
      "text/html": [
       "<div>\n",
       "<style scoped>\n",
       "    .dataframe tbody tr th:only-of-type {\n",
       "        vertical-align: middle;\n",
       "    }\n",
       "\n",
       "    .dataframe tbody tr th {\n",
       "        vertical-align: top;\n",
       "    }\n",
       "\n",
       "    .dataframe thead th {\n",
       "        text-align: right;\n",
       "    }\n",
       "</style>\n",
       "<table border=\"1\" class=\"dataframe\">\n",
       "  <thead>\n",
       "    <tr style=\"text-align: right;\">\n",
       "      <th></th>\n",
       "      <th>education_id</th>\n",
       "      <th>education</th>\n",
       "    </tr>\n",
       "  </thead>\n",
       "  <tbody>\n",
       "    <tr>\n",
       "      <td>0</td>\n",
       "      <td>0</td>\n",
       "      <td>высшее</td>\n",
       "    </tr>\n",
       "    <tr>\n",
       "      <td>1</td>\n",
       "      <td>1</td>\n",
       "      <td>среднее</td>\n",
       "    </tr>\n",
       "    <tr>\n",
       "      <td>2</td>\n",
       "      <td>2</td>\n",
       "      <td>неоконченное высшее</td>\n",
       "    </tr>\n",
       "    <tr>\n",
       "      <td>3</td>\n",
       "      <td>3</td>\n",
       "      <td>начальное</td>\n",
       "    </tr>\n",
       "    <tr>\n",
       "      <td>4</td>\n",
       "      <td>4</td>\n",
       "      <td>ученая степень</td>\n",
       "    </tr>\n",
       "  </tbody>\n",
       "</table>\n",
       "</div>"
      ],
      "text/plain": [
       "   education_id            education\n",
       "0             0               высшее\n",
       "1             1              среднее\n",
       "2             2  неоконченное высшее\n",
       "3             3            начальное\n",
       "4             4       ученая степень"
      ]
     },
     "execution_count": 153,
     "metadata": {},
     "output_type": "execute_result"
    }
   ],
   "source": [
    "df_education = df[['education_id','education']]#  создание нового датафрейма со столбцами education_id и education\n",
    "df_education = df_education.drop_duplicates().reset_index(drop=True)# удалим дубликаты из словаря\n",
    "df_education.head() #проверка созданного df"
   ]
  },
  {
   "cell_type": "code",
   "execution_count": 154,
   "id": "c1b6f43f",
   "metadata": {},
   "outputs": [
    {
     "data": {
      "text/html": [
       "<div>\n",
       "<style scoped>\n",
       "    .dataframe tbody tr th:only-of-type {\n",
       "        vertical-align: middle;\n",
       "    }\n",
       "\n",
       "    .dataframe tbody tr th {\n",
       "        vertical-align: top;\n",
       "    }\n",
       "\n",
       "    .dataframe thead th {\n",
       "        text-align: right;\n",
       "    }\n",
       "</style>\n",
       "<table border=\"1\" class=\"dataframe\">\n",
       "  <thead>\n",
       "    <tr style=\"text-align: right;\">\n",
       "      <th></th>\n",
       "      <th>family_status_id</th>\n",
       "      <th>family_status</th>\n",
       "    </tr>\n",
       "  </thead>\n",
       "  <tbody>\n",
       "    <tr>\n",
       "      <td>0</td>\n",
       "      <td>0</td>\n",
       "      <td>женат / замужем</td>\n",
       "    </tr>\n",
       "    <tr>\n",
       "      <td>1</td>\n",
       "      <td>1</td>\n",
       "      <td>гражданский брак</td>\n",
       "    </tr>\n",
       "    <tr>\n",
       "      <td>2</td>\n",
       "      <td>2</td>\n",
       "      <td>вдовец / вдова</td>\n",
       "    </tr>\n",
       "    <tr>\n",
       "      <td>3</td>\n",
       "      <td>3</td>\n",
       "      <td>в разводе</td>\n",
       "    </tr>\n",
       "    <tr>\n",
       "      <td>4</td>\n",
       "      <td>4</td>\n",
       "      <td>Не женат / не замужем</td>\n",
       "    </tr>\n",
       "  </tbody>\n",
       "</table>\n",
       "</div>"
      ],
      "text/plain": [
       "   family_status_id          family_status\n",
       "0                 0        женат / замужем\n",
       "1                 1       гражданский брак\n",
       "2                 2         вдовец / вдова\n",
       "3                 3              в разводе\n",
       "4                 4  Не женат / не замужем"
      ]
     },
     "execution_count": 154,
     "metadata": {},
     "output_type": "execute_result"
    }
   ],
   "source": [
    "df_family_status = df[['family_status_id','family_status']] #  создание нового датафрейма со столбцами family_status_id и family_status\n",
    "df_family_status = df_family_status.drop_duplicates().reset_index(drop=True)# удалим дубликаты из словаря\n",
    "df_family_status.head() #проверка созданного df"
   ]
  },
  {
   "cell_type": "code",
   "execution_count": 155,
   "id": "22f5b93f",
   "metadata": {},
   "outputs": [
    {
     "data": {
      "text/html": [
       "<div>\n",
       "<style scoped>\n",
       "    .dataframe tbody tr th:only-of-type {\n",
       "        vertical-align: middle;\n",
       "    }\n",
       "\n",
       "    .dataframe tbody tr th {\n",
       "        vertical-align: top;\n",
       "    }\n",
       "\n",
       "    .dataframe thead th {\n",
       "        text-align: right;\n",
       "    }\n",
       "</style>\n",
       "<table border=\"1\" class=\"dataframe\">\n",
       "  <thead>\n",
       "    <tr style=\"text-align: right;\">\n",
       "      <th></th>\n",
       "      <th>children</th>\n",
       "      <th>dob_years</th>\n",
       "      <th>education_id</th>\n",
       "      <th>family_status</th>\n",
       "      <th>family_status_id</th>\n",
       "      <th>gender</th>\n",
       "      <th>income_type</th>\n",
       "      <th>debt</th>\n",
       "      <th>total_income</th>\n",
       "      <th>purpose</th>\n",
       "    </tr>\n",
       "  </thead>\n",
       "  <tbody>\n",
       "    <tr>\n",
       "      <td>0</td>\n",
       "      <td>1</td>\n",
       "      <td>42</td>\n",
       "      <td>0</td>\n",
       "      <td>женат / замужем</td>\n",
       "      <td>0</td>\n",
       "      <td>F</td>\n",
       "      <td>сотрудник</td>\n",
       "      <td>0</td>\n",
       "      <td>253875</td>\n",
       "      <td>покупка жилья</td>\n",
       "    </tr>\n",
       "    <tr>\n",
       "      <td>1</td>\n",
       "      <td>1</td>\n",
       "      <td>36</td>\n",
       "      <td>1</td>\n",
       "      <td>женат / замужем</td>\n",
       "      <td>0</td>\n",
       "      <td>F</td>\n",
       "      <td>сотрудник</td>\n",
       "      <td>0</td>\n",
       "      <td>112080</td>\n",
       "      <td>приобретение автомобиля</td>\n",
       "    </tr>\n",
       "    <tr>\n",
       "      <td>2</td>\n",
       "      <td>0</td>\n",
       "      <td>33</td>\n",
       "      <td>1</td>\n",
       "      <td>женат / замужем</td>\n",
       "      <td>0</td>\n",
       "      <td>M</td>\n",
       "      <td>сотрудник</td>\n",
       "      <td>0</td>\n",
       "      <td>145885</td>\n",
       "      <td>покупка жилья</td>\n",
       "    </tr>\n",
       "    <tr>\n",
       "      <td>3</td>\n",
       "      <td>3</td>\n",
       "      <td>32</td>\n",
       "      <td>1</td>\n",
       "      <td>женат / замужем</td>\n",
       "      <td>0</td>\n",
       "      <td>M</td>\n",
       "      <td>сотрудник</td>\n",
       "      <td>0</td>\n",
       "      <td>267628</td>\n",
       "      <td>дополнительное образование</td>\n",
       "    </tr>\n",
       "    <tr>\n",
       "      <td>4</td>\n",
       "      <td>0</td>\n",
       "      <td>53</td>\n",
       "      <td>1</td>\n",
       "      <td>гражданский брак</td>\n",
       "      <td>1</td>\n",
       "      <td>F</td>\n",
       "      <td>пенсионер</td>\n",
       "      <td>0</td>\n",
       "      <td>158616</td>\n",
       "      <td>сыграть свадьбу</td>\n",
       "    </tr>\n",
       "  </tbody>\n",
       "</table>\n",
       "</div>"
      ],
      "text/plain": [
       "   children  dob_years  education_id     family_status  family_status_id  \\\n",
       "0         1         42             0   женат / замужем                 0   \n",
       "1         1         36             1   женат / замужем                 0   \n",
       "2         0         33             1   женат / замужем                 0   \n",
       "3         3         32             1   женат / замужем                 0   \n",
       "4         0         53             1  гражданский брак                 1   \n",
       "\n",
       "  gender income_type  debt  total_income                     purpose  \n",
       "0      F   сотрудник     0        253875               покупка жилья  \n",
       "1      F   сотрудник     0        112080     приобретение автомобиля  \n",
       "2      M   сотрудник     0        145885               покупка жилья  \n",
       "3      M   сотрудник     0        267628  дополнительное образование  \n",
       "4      F   пенсионер     0        158616             сыграть свадьбу  "
      ]
     },
     "execution_count": 155,
     "metadata": {},
     "output_type": "execute_result"
    }
   ],
   "source": [
    "del df['education'] # удалим education из df, оставив его идентификаторы education_id \n",
    "df.head()"
   ]
  },
  {
   "cell_type": "code",
   "execution_count": 156,
   "id": "1319fadd",
   "metadata": {},
   "outputs": [
    {
     "data": {
      "text/html": [
       "<div>\n",
       "<style scoped>\n",
       "    .dataframe tbody tr th:only-of-type {\n",
       "        vertical-align: middle;\n",
       "    }\n",
       "\n",
       "    .dataframe tbody tr th {\n",
       "        vertical-align: top;\n",
       "    }\n",
       "\n",
       "    .dataframe thead th {\n",
       "        text-align: right;\n",
       "    }\n",
       "</style>\n",
       "<table border=\"1\" class=\"dataframe\">\n",
       "  <thead>\n",
       "    <tr style=\"text-align: right;\">\n",
       "      <th></th>\n",
       "      <th>children</th>\n",
       "      <th>dob_years</th>\n",
       "      <th>education_id</th>\n",
       "      <th>family_status_id</th>\n",
       "      <th>gender</th>\n",
       "      <th>income_type</th>\n",
       "      <th>debt</th>\n",
       "      <th>total_income</th>\n",
       "      <th>purpose</th>\n",
       "    </tr>\n",
       "  </thead>\n",
       "  <tbody>\n",
       "    <tr>\n",
       "      <td>0</td>\n",
       "      <td>1</td>\n",
       "      <td>42</td>\n",
       "      <td>0</td>\n",
       "      <td>0</td>\n",
       "      <td>F</td>\n",
       "      <td>сотрудник</td>\n",
       "      <td>0</td>\n",
       "      <td>253875</td>\n",
       "      <td>покупка жилья</td>\n",
       "    </tr>\n",
       "    <tr>\n",
       "      <td>1</td>\n",
       "      <td>1</td>\n",
       "      <td>36</td>\n",
       "      <td>1</td>\n",
       "      <td>0</td>\n",
       "      <td>F</td>\n",
       "      <td>сотрудник</td>\n",
       "      <td>0</td>\n",
       "      <td>112080</td>\n",
       "      <td>приобретение автомобиля</td>\n",
       "    </tr>\n",
       "    <tr>\n",
       "      <td>2</td>\n",
       "      <td>0</td>\n",
       "      <td>33</td>\n",
       "      <td>1</td>\n",
       "      <td>0</td>\n",
       "      <td>M</td>\n",
       "      <td>сотрудник</td>\n",
       "      <td>0</td>\n",
       "      <td>145885</td>\n",
       "      <td>покупка жилья</td>\n",
       "    </tr>\n",
       "    <tr>\n",
       "      <td>3</td>\n",
       "      <td>3</td>\n",
       "      <td>32</td>\n",
       "      <td>1</td>\n",
       "      <td>0</td>\n",
       "      <td>M</td>\n",
       "      <td>сотрудник</td>\n",
       "      <td>0</td>\n",
       "      <td>267628</td>\n",
       "      <td>дополнительное образование</td>\n",
       "    </tr>\n",
       "    <tr>\n",
       "      <td>4</td>\n",
       "      <td>0</td>\n",
       "      <td>53</td>\n",
       "      <td>1</td>\n",
       "      <td>1</td>\n",
       "      <td>F</td>\n",
       "      <td>пенсионер</td>\n",
       "      <td>0</td>\n",
       "      <td>158616</td>\n",
       "      <td>сыграть свадьбу</td>\n",
       "    </tr>\n",
       "  </tbody>\n",
       "</table>\n",
       "</div>"
      ],
      "text/plain": [
       "   children  dob_years  education_id  family_status_id gender income_type  \\\n",
       "0         1         42             0                 0      F   сотрудник   \n",
       "1         1         36             1                 0      F   сотрудник   \n",
       "2         0         33             1                 0      M   сотрудник   \n",
       "3         3         32             1                 0      M   сотрудник   \n",
       "4         0         53             1                 1      F   пенсионер   \n",
       "\n",
       "   debt  total_income                     purpose  \n",
       "0     0        253875               покупка жилья  \n",
       "1     0        112080     приобретение автомобиля  \n",
       "2     0        145885               покупка жилья  \n",
       "3     0        267628  дополнительное образование  \n",
       "4     0        158616             сыграть свадьбу  "
      ]
     },
     "execution_count": 156,
     "metadata": {},
     "output_type": "execute_result"
    }
   ],
   "source": [
    "del df['family_status'] # удалим family_status из df, оставив его идентификаторы family_status_id \n",
    "df.head()"
   ]
  },
  {
   "cell_type": "markdown",
   "id": "4ecf5b4b",
   "metadata": {},
   "source": [
    "Лемы"
   ]
  },
  {
   "cell_type": "code",
   "execution_count": 157,
   "id": "24545ca5",
   "metadata": {},
   "outputs": [
    {
     "name": "stdout",
     "output_type": "stream",
     "text": [
      "покупка 10\n",
      "недвижимость 10\n",
      "автомобиль 9\n",
      "образование 9\n",
      "жилье 7\n",
      "с 5\n",
      "операция 4\n",
      "на 4\n",
      "свой 4\n",
      "свадьба 3\n",
      "строительство 3\n",
      "получение 3\n",
      "высокий 3\n"
     ]
    }
   ],
   "source": [
    "# выделим леммы для столбца с целями получения кредита 'purpose'\n",
    "\n",
    "#подключим PyMystem\n",
    "from pymystem3 import Mystem\n",
    "m = Mystem()\n",
    "\n",
    "# получим леммы для каждой причины, чтобы дальше проанализировать\n",
    "# используем словарь, а не список, чтобы дальше это использовать для категоризации\n",
    "lemmas_dict = dict()\n",
    "for purpose in df['purpose'].unique():\n",
    "    lemmas_dict[purpose] = m.lemmatize(purpose)\n",
    "    \n",
    "# анализируем леммы - удалим пробелы, выделим самые часто встречаемые слова\n",
    "# отсортируем по частоте встречания слов, чтобы получить словарь основных причин\n",
    "# те слова, что встречаются только один раз, удалим\n",
    "\n",
    "#сначала определим частоту встречания слов по всем причинам кредита\n",
    "lemmas_count = dict()\n",
    "for key, lemmas in lemmas_dict.items():\n",
    "    for lemma in lemmas:\n",
    "        if lemma != ' ' and lemma != '\\n':\n",
    "            if not lemma in lemmas_count:\n",
    "                lemmas_count[lemma] = 1\n",
    "            else:\n",
    "                lemmas_count[lemma] += 1\n",
    "                \n",
    "#выведем самые популярные встречаемые слова              \n",
    "for k in sorted(lemmas_count, key=lemmas_count.get, reverse=True):\n",
    "    if lemmas_count[k] > 2:\n",
    "        print(k, lemmas_count[k])"
   ]
  },
  {
   "cell_type": "markdown",
   "id": "b2f89c38",
   "metadata": {},
   "source": [
    "Видим явное деление на 4 группы:\n",
    "\n",
    "Недвижимость (его аналог жилье) \n",
    "\n",
    "Автомобиль\n",
    "\n",
    "Образование\n",
    "\n",
    "Свадьба\n",
    "\n",
    "Леммы позволят нам поделить все цели кредитов по соответствующим группам."
   ]
  },
  {
   "cell_type": "markdown",
   "id": "10fb6e46",
   "metadata": {},
   "source": [
    "### Шаг 2.6. Категоризация дохода."
   ]
  },
  {
   "cell_type": "code",
   "execution_count": 158,
   "id": "c6de02c9",
   "metadata": {},
   "outputs": [
    {
     "data": {
      "text/plain": [
       "136818    731\n",
       "114483    291\n",
       "159652    272\n",
       "166164    207\n",
       "201911    177\n",
       "         ... \n",
       "390148      1\n",
       "113661      1\n",
       "111612      1\n",
       "199675      1\n",
       "264193      1\n",
       "Name: total_income, Length: 18626, dtype: int64"
      ]
     },
     "execution_count": 158,
     "metadata": {},
     "output_type": "execute_result"
    }
   ],
   "source": [
    "df['total_income'].value_counts() # подсчет количества клиентов с разным уровнем месячного дохода"
   ]
  },
  {
   "cell_type": "code",
   "execution_count": 159,
   "id": "f5785af0",
   "metadata": {},
   "outputs": [
    {
     "data": {
      "text/plain": [
       "C    15850\n",
       "B     5224\n",
       "D      350\n",
       "A       25\n",
       "E       22\n",
       "Name: total_income_category, dtype: int64"
      ]
     },
     "execution_count": 159,
     "metadata": {},
     "output_type": "execute_result"
    }
   ],
   "source": [
    "# На основании диапазонов, указанных ниже, создадим новый столбец total_income_category с категориями:\n",
    "# 0–30000 — 'E';\n",
    "# 30001–50000 — 'D';\n",
    "# 50001–200000 — 'C';\n",
    "# 200001–1000000 — 'B';\n",
    "# 1000001 и выше — 'A'.\n",
    "# Например, кредитополучателю с доходом 25000 нужно назначить категорию 'E', а клиенту, получающему 235000, — 'B'.\n",
    "\n",
    "def make_income_category(total_income_category):\n",
    "    if total_income_category < 30000:\n",
    "        return 'E'\n",
    "    if 30001 <= total_income_category < 50000:\n",
    "        return 'D'\n",
    "    if 50001 <= total_income_category < 200000:\n",
    "        return 'C'\n",
    "    if 200001 <= total_income_category < 1000000:\n",
    "        return 'B'\n",
    "    return 'A'\n",
    "\n",
    "\n",
    "df['total_income_category'] = df['total_income'].apply(make_income_category)\n",
    "\n",
    "# проверим, что все ок\n",
    "df['total_income_category'].value_counts()"
   ]
  },
  {
   "cell_type": "markdown",
   "id": "4afd5508",
   "metadata": {},
   "source": [
    "Анализируя полученные данные можно сделать вывод, что кредит практически не интересен 2-м категориям граждан, кто зарабатывает в месяц много (более 1 миллиона рублей и кто зарабатывает мало - менее 30 000 рублей). Больше всего нуждаются в кредитных деньгах люди с доходом от 50 000 до 200 000 рублей в месяц, так называемый \"средний класс\""
   ]
  },
  {
   "cell_type": "markdown",
   "id": "d40bd3c7",
   "metadata": {},
   "source": [
    "### Шаг 2.7. Категоризация целей кредита."
   ]
  },
  {
   "cell_type": "code",
   "execution_count": 160,
   "id": "cc1dd85d",
   "metadata": {},
   "outputs": [
    {
     "data": {
      "text/plain": [
       "свадьба                                   793\n",
       "на проведение свадьбы                     773\n",
       "сыграть свадьбу                           769\n",
       "операции с недвижимостью                  675\n",
       "покупка коммерческой недвижимости         662\n",
       "операции с жильем                         652\n",
       "покупка жилья для сдачи                   652\n",
       "операции с коммерческой недвижимостью     650\n",
       "покупка жилья                             646\n",
       "жилье                                     646\n",
       "покупка жилья для семьи                   638\n",
       "строительство собственной недвижимости    635\n",
       "недвижимость                              633\n",
       "операции со своей недвижимостью           627\n",
       "строительство жилой недвижимости          625\n",
       "покупка недвижимости                      621\n",
       "покупка своего жилья                      620\n",
       "строительство недвижимости                619\n",
       "ремонт жилья                              607\n",
       "покупка жилой недвижимости                606\n",
       "на покупку своего автомобиля              505\n",
       "заняться высшим образованием              496\n",
       "автомобиль                                494\n",
       "сделка с подержанным автомобилем          486\n",
       "свой автомобиль                           479\n",
       "автомобили                                478\n",
       "на покупку подержанного автомобиля        478\n",
       "на покупку автомобиля                     472\n",
       "приобретение автомобиля                   461\n",
       "дополнительное образование                460\n",
       "сделка с автомобилем                      455\n",
       "высшее образование                        452\n",
       "образование                               447\n",
       "получение дополнительного образования     447\n",
       "получение образования                     442\n",
       "профильное образование                    436\n",
       "получение высшего образования             426\n",
       "заняться образованием                     408\n",
       "Name: purpose, dtype: int64"
      ]
     },
     "execution_count": 160,
     "metadata": {},
     "output_type": "execute_result"
    }
   ],
   "source": [
    "# посмотрим распределение по целям кредитов\n",
    "df['purpose'].value_counts()"
   ]
  },
  {
   "cell_type": "code",
   "execution_count": 161,
   "id": "9a4b75be",
   "metadata": {},
   "outputs": [
    {
     "data": {
      "text/html": [
       "<div>\n",
       "<style scoped>\n",
       "    .dataframe tbody tr th:only-of-type {\n",
       "        vertical-align: middle;\n",
       "    }\n",
       "\n",
       "    .dataframe tbody tr th {\n",
       "        vertical-align: top;\n",
       "    }\n",
       "\n",
       "    .dataframe thead th {\n",
       "        text-align: right;\n",
       "    }\n",
       "</style>\n",
       "<table border=\"1\" class=\"dataframe\">\n",
       "  <thead>\n",
       "    <tr style=\"text-align: right;\">\n",
       "      <th></th>\n",
       "      <th>children</th>\n",
       "      <th>dob_years</th>\n",
       "      <th>education_id</th>\n",
       "      <th>family_status_id</th>\n",
       "      <th>gender</th>\n",
       "      <th>income_type</th>\n",
       "      <th>debt</th>\n",
       "      <th>total_income</th>\n",
       "      <th>purpose</th>\n",
       "      <th>total_income_category</th>\n",
       "      <th>purpose_category</th>\n",
       "    </tr>\n",
       "  </thead>\n",
       "  <tbody>\n",
       "  </tbody>\n",
       "</table>\n",
       "</div>"
      ],
      "text/plain": [
       "Empty DataFrame\n",
       "Columns: [children, dob_years, education_id, family_status_id, gender, income_type, debt, total_income, purpose, total_income_category, purpose_category]\n",
       "Index: []"
      ]
     },
     "execution_count": 161,
     "metadata": {},
     "output_type": "execute_result"
    }
   ],
   "source": [
    "# Создадим функцию, которая на основании данных из столбца purpose сформирует новый столбец purpose_category,\n",
    "# в который войдут следующие категории:\n",
    "# 'операции с автомобилем',\n",
    "# 'операции с недвижимостью',\n",
    "# 'проведение свадьбы',\n",
    "# 'получение образования'.\n",
    "\n",
    "# сделаем столбец с причинами для взятия кредита по категориям, что мы выделили на этапе лемматизации\n",
    "\n",
    "# напишем функцию, по которой заполним столбец\n",
    "def make_true_purpose(purpose_category):\n",
    "    #lemmas_dict мы сохраняли ранее\n",
    "    purpose_lemmas = lemmas_dict[purpose_category]\n",
    "    if 'недвижимость' in purpose_lemmas or 'жилье' in purpose_lemmas:\n",
    "        return 'операции с недвижимостью'\n",
    "    \n",
    "    if 'автомобиль' in purpose_lemmas:\n",
    "        return 'операции с автомобилем'\n",
    "    \n",
    "    if 'образование' in purpose_lemmas:\n",
    "        return 'получение образования'\n",
    "    \n",
    "    if 'свадьба' in purpose_lemmas:\n",
    "        return 'проведение свадьбы'\n",
    "    \n",
    "    return ''\n",
    "\n",
    "df['purpose_category'] = df['purpose'].apply(make_true_purpose)\n",
    "    \n",
    "df[df['purpose_category'] == ''] #провека, что никто не остался без категории"
   ]
  },
  {
   "cell_type": "code",
   "execution_count": 162,
   "id": "c7406de1",
   "metadata": {},
   "outputs": [
    {
     "data": {
      "text/plain": [
       "операции с недвижимостью    10814\n",
       "операции с автомобилем       4308\n",
       "получение образования        4014\n",
       "проведение свадьбы           2335\n",
       "Name: purpose_category, dtype: int64"
      ]
     },
     "execution_count": 162,
     "metadata": {},
     "output_type": "execute_result"
    }
   ],
   "source": [
    "df['purpose_category'].value_counts() # определим распределение целей по кредитам"
   ]
  },
  {
   "cell_type": "code",
   "execution_count": 163,
   "id": "6257c18e",
   "metadata": {},
   "outputs": [
    {
     "data": {
      "text/plain": [
       "Нет детей      14107\n",
       "1 ребенок       4856\n",
       "2 ребенка       2128\n",
       "Много детей      380\n",
       "Name: children, dtype: int64"
      ]
     },
     "execution_count": 163,
     "metadata": {},
     "output_type": "execute_result"
    }
   ],
   "source": [
    "# Поскольку больше двух детей данных в принципе не очень много, имеет смысл объеденить их в одну категорию\n",
    "\n",
    "def make_children_category(children_count):\n",
    "    if children_count == 1:\n",
    "        return '1 ребенок'\n",
    "    if children_count == 2:\n",
    "        return '2 ребенка'\n",
    "    if children_count >= 3:\n",
    "        return 'Много детей'\n",
    "    return 'Нет детей'\n",
    "\n",
    "df['children'] = df['children'].apply(make_children_category)\n",
    "\n",
    "# проверим, что все ок\n",
    "df['children'].value_counts()"
   ]
  },
  {
   "cell_type": "markdown",
   "id": "3ca216c5",
   "metadata": {},
   "source": [
    "### Ответы на вопросы."
   ]
  },
  {
   "cell_type": "markdown",
   "id": "2cb544cb",
   "metadata": {},
   "source": [
    "### Вопрос 1: Есть ли зависимость между количеством детей и возвратом кредита в срок ?"
   ]
  },
  {
   "cell_type": "code",
   "execution_count": 164,
   "id": "79290450",
   "metadata": {
    "scrolled": true
   },
   "outputs": [
    {
     "data": {
      "text/html": [
       "<div>\n",
       "<style scoped>\n",
       "    .dataframe tbody tr th:only-of-type {\n",
       "        vertical-align: middle;\n",
       "    }\n",
       "\n",
       "    .dataframe tbody tr th {\n",
       "        vertical-align: top;\n",
       "    }\n",
       "\n",
       "    .dataframe thead tr th {\n",
       "        text-align: left;\n",
       "    }\n",
       "\n",
       "    .dataframe thead tr:last-of-type th {\n",
       "        text-align: right;\n",
       "    }\n",
       "</style>\n",
       "<table border=\"1\" class=\"dataframe\">\n",
       "  <thead>\n",
       "    <tr>\n",
       "      <th></th>\n",
       "      <th>sum</th>\n",
       "      <th>count</th>\n",
       "      <th>make_proportion</th>\n",
       "    </tr>\n",
       "    <tr>\n",
       "      <th></th>\n",
       "      <th>debt</th>\n",
       "      <th>debt</th>\n",
       "      <th>debt</th>\n",
       "    </tr>\n",
       "    <tr>\n",
       "      <th>children</th>\n",
       "      <th></th>\n",
       "      <th></th>\n",
       "      <th></th>\n",
       "    </tr>\n",
       "  </thead>\n",
       "  <tbody>\n",
       "    <tr>\n",
       "      <td>Нет детей</td>\n",
       "      <td>1063</td>\n",
       "      <td>14107</td>\n",
       "      <td>7.54%</td>\n",
       "    </tr>\n",
       "    <tr>\n",
       "      <td>Много детей</td>\n",
       "      <td>31</td>\n",
       "      <td>380</td>\n",
       "      <td>8.16%</td>\n",
       "    </tr>\n",
       "    <tr>\n",
       "      <td>1 ребенок</td>\n",
       "      <td>445</td>\n",
       "      <td>4856</td>\n",
       "      <td>9.16%</td>\n",
       "    </tr>\n",
       "    <tr>\n",
       "      <td>2 ребенка</td>\n",
       "      <td>202</td>\n",
       "      <td>2128</td>\n",
       "      <td>9.49%</td>\n",
       "    </tr>\n",
       "  </tbody>\n",
       "</table>\n",
       "</div>"
      ],
      "text/plain": [
       "              sum  count make_proportion\n",
       "             debt   debt            debt\n",
       "children                                \n",
       "Нет детей    1063  14107           7.54%\n",
       "Много детей    31    380           8.16%\n",
       "1 ребенок     445   4856           9.16%\n",
       "2 ребенка     202   2128           9.49%"
      ]
     },
     "execution_count": 164,
     "metadata": {},
     "output_type": "execute_result"
    }
   ],
   "source": [
    "# функция, что посчитает нам отношение в процентах, будем использовать для ответов на все вопросы\n",
    "def make_proportion(pdSerises):\n",
    "    return str(round((pdSerises.sum() / pdSerises.count()) * 100, 2)) + '%'\n",
    "\n",
    "# построим сводную таблицу для ответа на вопрос\n",
    "data_pivot = df.pivot_table(index=['children'], values=[\"debt\"], aggfunc=['sum', 'count', make_proportion])\n",
    "# сортируем, чтобы сразу видеть у кого ситуация лучше\n",
    "data_pivot = data_pivot.sort_values(by=('make_proportion', 'debt'))\n",
    "data_pivot"
   ]
  },
  {
   "cell_type": "markdown",
   "id": "83c98e39",
   "metadata": {},
   "source": [
    "### Вывод 1:"
   ]
  },
  {
   "cell_type": "markdown",
   "id": "a07de8f1",
   "metadata": {},
   "source": [
    "Влияние наличия детей на вероятность просрочки платежа\n",
    "\n",
    "По наличию детей\n",
    "\n",
    "Нет детей - 7.54%\n",
    "\n",
    "Много детей - 8.16%\n",
    "\n",
    "1 ребенок - 9.17%\n",
    "\n",
    "2 ребенка - 9.49%\n",
    "\n",
    "Абсолютная разница между минимальным и максимальным значением - 1.95%. \n",
    "\n",
    "Анализируя данные можно сделать вывод, что меньше всего вероятность просрочки по кредиту для клиентов с двумя детьми."
   ]
  },
  {
   "cell_type": "markdown",
   "id": "cc61bf9e",
   "metadata": {},
   "source": [
    "### Вопрос 2. Есть ли зависимость между семейным положением и возвратом кредита в срок ?"
   ]
  },
  {
   "cell_type": "code",
   "execution_count": 165,
   "id": "ffeefd54",
   "metadata": {},
   "outputs": [
    {
     "data": {
      "text/html": [
       "<div>\n",
       "<style scoped>\n",
       "    .dataframe tbody tr th:only-of-type {\n",
       "        vertical-align: middle;\n",
       "    }\n",
       "\n",
       "    .dataframe tbody tr th {\n",
       "        vertical-align: top;\n",
       "    }\n",
       "\n",
       "    .dataframe thead tr th {\n",
       "        text-align: left;\n",
       "    }\n",
       "\n",
       "    .dataframe thead tr:last-of-type th {\n",
       "        text-align: right;\n",
       "    }\n",
       "</style>\n",
       "<table border=\"1\" class=\"dataframe\">\n",
       "  <thead>\n",
       "    <tr>\n",
       "      <th></th>\n",
       "      <th>sum</th>\n",
       "      <th>count</th>\n",
       "      <th>make_proportion</th>\n",
       "    </tr>\n",
       "    <tr>\n",
       "      <th></th>\n",
       "      <th>debt</th>\n",
       "      <th>debt</th>\n",
       "      <th>debt</th>\n",
       "    </tr>\n",
       "    <tr>\n",
       "      <th>family_status</th>\n",
       "      <th></th>\n",
       "      <th></th>\n",
       "      <th></th>\n",
       "    </tr>\n",
       "  </thead>\n",
       "  <tbody>\n",
       "    <tr>\n",
       "      <td>вдовец / вдова</td>\n",
       "      <td>63</td>\n",
       "      <td>959</td>\n",
       "      <td>6.57%</td>\n",
       "    </tr>\n",
       "    <tr>\n",
       "      <td>в разводе</td>\n",
       "      <td>85</td>\n",
       "      <td>1195</td>\n",
       "      <td>7.11%</td>\n",
       "    </tr>\n",
       "    <tr>\n",
       "      <td>женат / замужем</td>\n",
       "      <td>931</td>\n",
       "      <td>12344</td>\n",
       "      <td>7.54%</td>\n",
       "    </tr>\n",
       "    <tr>\n",
       "      <td>гражданский брак</td>\n",
       "      <td>388</td>\n",
       "      <td>4163</td>\n",
       "      <td>9.32%</td>\n",
       "    </tr>\n",
       "    <tr>\n",
       "      <td>Не женат / не замужем</td>\n",
       "      <td>274</td>\n",
       "      <td>2810</td>\n",
       "      <td>9.75%</td>\n",
       "    </tr>\n",
       "  </tbody>\n",
       "</table>\n",
       "</div>"
      ],
      "text/plain": [
       "                       sum  count make_proportion\n",
       "                      debt   debt            debt\n",
       "family_status                                    \n",
       "вдовец / вдова          63    959           6.57%\n",
       "в разводе               85   1195           7.11%\n",
       "женат / замужем        931  12344           7.54%\n",
       "гражданский брак       388   4163           9.32%\n",
       "Не женат / не замужем  274   2810           9.75%"
      ]
     },
     "execution_count": 165,
     "metadata": {},
     "output_type": "execute_result"
    }
   ],
   "source": [
    "df_with_family_status = df.merge(df_family_status, on='family_status_id', how='left') # возвращение family_status в DF\n",
    "# построим сводную таблицу для ответа на вопрос (по фрейму со значениями из словаря)\n",
    "data_pivot = df_with_family_status.pivot_table(index=['family_status'], values=[\"debt\"], aggfunc=['sum', 'count', make_proportion])\n",
    "data_pivot = data_pivot.sort_values(by=('make_proportion', 'debt')) # сортировка и использование make_proportion\n",
    "data_pivot"
   ]
  },
  {
   "cell_type": "markdown",
   "id": "5ee8fc86",
   "metadata": {},
   "source": [
    "### Вывод 2:"
   ]
  },
  {
   "cell_type": "markdown",
   "id": "2686e69c",
   "metadata": {},
   "source": [
    "Стоит отметить, что вдовец/вдова и люди в разводе имеют наименьший риск просрочки. Возможно, это связно с тем, что кредит берется более осознанно.\n",
    "\n",
    "Самая \"опасная\" категория - люди не женатые и состоящие в гражданском браке."
   ]
  },
  {
   "cell_type": "markdown",
   "id": "8bb4e3b0",
   "metadata": {},
   "source": [
    "### Вопрос 3. Есть ли зависимость между уровнем дохода и возвратом кредита в срок ?"
   ]
  },
  {
   "cell_type": "code",
   "execution_count": 170,
   "id": "d25c07b1",
   "metadata": {},
   "outputs": [
    {
     "data": {
      "text/html": [
       "<div>\n",
       "<style scoped>\n",
       "    .dataframe tbody tr th:only-of-type {\n",
       "        vertical-align: middle;\n",
       "    }\n",
       "\n",
       "    .dataframe tbody tr th {\n",
       "        vertical-align: top;\n",
       "    }\n",
       "\n",
       "    .dataframe thead tr th {\n",
       "        text-align: left;\n",
       "    }\n",
       "\n",
       "    .dataframe thead tr:last-of-type th {\n",
       "        text-align: right;\n",
       "    }\n",
       "</style>\n",
       "<table border=\"1\" class=\"dataframe\">\n",
       "  <thead>\n",
       "    <tr>\n",
       "      <th></th>\n",
       "      <th>sum</th>\n",
       "      <th>count</th>\n",
       "      <th>make_proportion</th>\n",
       "    </tr>\n",
       "    <tr>\n",
       "      <th></th>\n",
       "      <th>debt</th>\n",
       "      <th>debt</th>\n",
       "      <th>debt</th>\n",
       "    </tr>\n",
       "    <tr>\n",
       "      <th>total_income_category</th>\n",
       "      <th></th>\n",
       "      <th></th>\n",
       "      <th></th>\n",
       "    </tr>\n",
       "  </thead>\n",
       "  <tbody>\n",
       "    <tr>\n",
       "      <td>D</td>\n",
       "      <td>21</td>\n",
       "      <td>350</td>\n",
       "      <td>6.0%</td>\n",
       "    </tr>\n",
       "    <tr>\n",
       "      <td>B</td>\n",
       "      <td>364</td>\n",
       "      <td>5224</td>\n",
       "      <td>6.97%</td>\n",
       "    </tr>\n",
       "    <tr>\n",
       "      <td>A</td>\n",
       "      <td>2</td>\n",
       "      <td>25</td>\n",
       "      <td>8.0%</td>\n",
       "    </tr>\n",
       "    <tr>\n",
       "      <td>C</td>\n",
       "      <td>1352</td>\n",
       "      <td>15850</td>\n",
       "      <td>8.53%</td>\n",
       "    </tr>\n",
       "    <tr>\n",
       "      <td>E</td>\n",
       "      <td>2</td>\n",
       "      <td>22</td>\n",
       "      <td>9.09%</td>\n",
       "    </tr>\n",
       "  </tbody>\n",
       "</table>\n",
       "</div>"
      ],
      "text/plain": [
       "                        sum  count make_proportion\n",
       "                       debt   debt            debt\n",
       "total_income_category                             \n",
       "D                        21    350            6.0%\n",
       "B                       364   5224           6.97%\n",
       "A                         2     25            8.0%\n",
       "C                      1352  15850           8.53%\n",
       "E                         2     22           9.09%"
      ]
     },
     "execution_count": 170,
     "metadata": {},
     "output_type": "execute_result"
    }
   ],
   "source": [
    "# 0–30000 — 'E';\n",
    "# 30001–50000 — 'D';\n",
    "# 50001–200000 — 'C';\n",
    "# 200001–1000000 — 'B';\n",
    "# 1000001 и выше — 'A'.\n",
    "\n",
    "# построим сводную таблицу для ответа на вопрос\n",
    "data_pivot = df.pivot_table(index=['total_income_category'], values=[\"debt\"], aggfunc=['sum', 'count', make_proportion])\n",
    "# сортируем, чтобы сразу видеть у кого ситуация лучше\n",
    "data_pivot = data_pivot.sort_values(by=('make_proportion', 'debt'))\n",
    "data_pivot\n"
   ]
  },
  {
   "cell_type": "markdown",
   "id": "3ac4d9e6",
   "metadata": {},
   "source": [
    "### Вывод 3:"
   ]
  },
  {
   "cell_type": "markdown",
   "id": "56d3837a",
   "metadata": {},
   "source": [
    "Меньше всего просрочек у категорий с доходом от 30 000  до 50 000 рублей и от 200 000 до 1 000 000 рублей, больше всего просрочек у группы с доходом от 50 001 до 200 000 рублей и менее 30 000 рублей."
   ]
  },
  {
   "cell_type": "markdown",
   "id": "a533bca0",
   "metadata": {},
   "source": [
    "### Вопрос 4. Как разные цели кредита влияют на его возврат в срок ?"
   ]
  },
  {
   "cell_type": "code",
   "execution_count": 172,
   "id": "b6328976",
   "metadata": {},
   "outputs": [
    {
     "data": {
      "text/html": [
       "<div>\n",
       "<style scoped>\n",
       "    .dataframe tbody tr th:only-of-type {\n",
       "        vertical-align: middle;\n",
       "    }\n",
       "\n",
       "    .dataframe tbody tr th {\n",
       "        vertical-align: top;\n",
       "    }\n",
       "\n",
       "    .dataframe thead tr th {\n",
       "        text-align: left;\n",
       "    }\n",
       "\n",
       "    .dataframe thead tr:last-of-type th {\n",
       "        text-align: right;\n",
       "    }\n",
       "</style>\n",
       "<table border=\"1\" class=\"dataframe\">\n",
       "  <thead>\n",
       "    <tr>\n",
       "      <th></th>\n",
       "      <th>sum</th>\n",
       "      <th>count</th>\n",
       "      <th>make_proportion</th>\n",
       "    </tr>\n",
       "    <tr>\n",
       "      <th></th>\n",
       "      <th>debt</th>\n",
       "      <th>debt</th>\n",
       "      <th>debt</th>\n",
       "    </tr>\n",
       "    <tr>\n",
       "      <th>purpose_category</th>\n",
       "      <th></th>\n",
       "      <th></th>\n",
       "      <th></th>\n",
       "    </tr>\n",
       "  </thead>\n",
       "  <tbody>\n",
       "    <tr>\n",
       "      <td>операции с недвижимостью</td>\n",
       "      <td>782</td>\n",
       "      <td>10814</td>\n",
       "      <td>7.23%</td>\n",
       "    </tr>\n",
       "    <tr>\n",
       "      <td>проведение свадьбы</td>\n",
       "      <td>186</td>\n",
       "      <td>2335</td>\n",
       "      <td>7.97%</td>\n",
       "    </tr>\n",
       "    <tr>\n",
       "      <td>получение образования</td>\n",
       "      <td>370</td>\n",
       "      <td>4014</td>\n",
       "      <td>9.22%</td>\n",
       "    </tr>\n",
       "    <tr>\n",
       "      <td>операции с автомобилем</td>\n",
       "      <td>403</td>\n",
       "      <td>4308</td>\n",
       "      <td>9.35%</td>\n",
       "    </tr>\n",
       "  </tbody>\n",
       "</table>\n",
       "</div>"
      ],
      "text/plain": [
       "                          sum  count make_proportion\n",
       "                         debt   debt            debt\n",
       "purpose_category                                    \n",
       "операции с недвижимостью  782  10814           7.23%\n",
       "проведение свадьбы        186   2335           7.97%\n",
       "получение образования     370   4014           9.22%\n",
       "операции с автомобилем    403   4308           9.35%"
      ]
     },
     "execution_count": 172,
     "metadata": {},
     "output_type": "execute_result"
    }
   ],
   "source": [
    "# построим сводную таблицу для ответа на вопрос\n",
    "data_pivot = df.pivot_table(index=['purpose_category'], values=[\"debt\"], aggfunc=['sum', 'count', make_proportion])\n",
    "# сортируем, чтобы сразу видеть у кого ситуация лучше\n",
    "data_pivot = data_pivot.sort_values(by=('make_proportion', 'debt'))\n",
    "data_pivot"
   ]
  },
  {
   "cell_type": "markdown",
   "id": "497fbd2f",
   "metadata": {},
   "source": [
    "### Вывод 4:"
   ]
  },
  {
   "cell_type": "markdown",
   "id": "c70c7082",
   "metadata": {},
   "source": [
    "Меньше всего просрочек у людей, взявших деньги у банка на покупку квартиры и празднование свадьбы, а по кредитам, взятым на образование и покупку автомобилей можно отметить самый высокий процент просрочек."
   ]
  },
  {
   "cell_type": "markdown",
   "id": "b1c34876",
   "metadata": {},
   "source": [
    "## Общий вывод:"
   ]
  },
  {
   "cell_type": "markdown",
   "id": "3dd4748b",
   "metadata": {},
   "source": [
    "Идеальный заемщик для банка -  человек без детей, состоящий или состоявший в официальных отношениях, имеющий уровень дохода выше среднего и берущий деньги на недвижимость.\n",
    "\n",
    "\"Разброс\" просроченных выплат по каждой из категорий примерно одинаковый. В среднем, это диапазоны от 7 до 9 процентов. В остальном разница в абсолютных цифрах не такая большая.\n",
    "\n",
    "Вывод по категориям:\n",
    "\n",
    "1)Влияние наличия детей на вероятность просрочки платежа\n",
    "\n",
    "По наличию детей\n",
    "\n",
    "Нет детей - 7.54%\n",
    "\n",
    "Много детей - 8.16%\n",
    "\n",
    "1 ребенок - 9.17%\n",
    "\n",
    "2 ребенка - 9.49%\n",
    "\n",
    "Абсолютная разница между минимальным и максимальным значением - 1.95%.\n",
    "\n",
    "Анализируя данные можно сделать вывод, что меньше всего вероятность просрочки по кредиту для клиентов с двумя детьми.\n",
    "\n",
    "2)Вдовец/вдова и люди в разводе имеют наименьший риск просрочки. \n",
    "\n",
    "Самая \"опасная\" категория - люди не женатые и состоящие в гражданском браке.\n",
    "\n",
    "3)Меньше всего просрочек у категорий с доходом от 30 000  до 50 000 рублей и от 200 000 до 1 000 000 рублей, больше всего просрочек у группы с доходом от 50 001 до 200 000 рублей и менее 30 000 рублей.\n",
    "\n",
    "4)Меньше всего просрочек у людей, взявших деньги у банка на покупку квартиры и празднование свадьбы, а по кредитам, взятым на образование и покупку автомобилей можно отметить самый высокий процент просрочек."
   ]
  }
 ],
 "metadata": {
  "ExecuteTimeLog": [
   {
    "duration": 689,
    "start_time": "2022-02-17T15:50:06.311Z"
   },
   {
    "duration": 67,
    "start_time": "2022-02-17T15:50:23.238Z"
   },
   {
    "duration": 57,
    "start_time": "2022-02-17T15:50:49.062Z"
   },
   {
    "duration": 72,
    "start_time": "2022-02-17T15:51:25.652Z"
   },
   {
    "duration": 60,
    "start_time": "2022-02-17T15:51:39.726Z"
   },
   {
    "duration": 16,
    "start_time": "2022-02-17T15:55:26.493Z"
   },
   {
    "duration": 86,
    "start_time": "2022-02-17T16:25:49.248Z"
   },
   {
    "duration": 55,
    "start_time": "2022-02-17T16:29:17.975Z"
   },
   {
    "duration": 3,
    "start_time": "2022-02-17T16:34:46.399Z"
   },
   {
    "duration": 781,
    "start_time": "2022-02-18T06:57:18.112Z"
   },
   {
    "duration": 32,
    "start_time": "2022-02-18T06:57:25.341Z"
   },
   {
    "duration": 17,
    "start_time": "2022-02-18T06:58:19.868Z"
   },
   {
    "duration": 14,
    "start_time": "2022-02-18T07:07:49.306Z"
   },
   {
    "duration": 14,
    "start_time": "2022-02-18T07:08:19.862Z"
   },
   {
    "duration": 370,
    "start_time": "2022-02-18T07:10:26.133Z"
   },
   {
    "duration": 76,
    "start_time": "2022-02-18T07:11:23.354Z"
   },
   {
    "duration": 20,
    "start_time": "2022-02-18T07:12:08.555Z"
   },
   {
    "duration": 11,
    "start_time": "2022-02-18T07:30:39.723Z"
   },
   {
    "duration": 11,
    "start_time": "2022-02-18T07:31:05.273Z"
   },
   {
    "duration": 7,
    "start_time": "2022-02-18T07:34:10.787Z"
   },
   {
    "duration": 10,
    "start_time": "2022-02-18T07:35:32.891Z"
   },
   {
    "duration": 11,
    "start_time": "2022-02-18T07:39:12.914Z"
   },
   {
    "duration": 20,
    "start_time": "2022-02-18T08:16:57.779Z"
   },
   {
    "duration": 626,
    "start_time": "2022-02-18T08:31:24.078Z"
   },
   {
    "duration": 23,
    "start_time": "2022-02-18T09:28:42.915Z"
   },
   {
    "duration": 343,
    "start_time": "2022-02-18T11:55:00.550Z"
   },
   {
    "duration": 857,
    "start_time": "2022-02-18T11:55:12.259Z"
   },
   {
    "duration": 29,
    "start_time": "2022-02-18T11:55:13.119Z"
   },
   {
    "duration": 13,
    "start_time": "2022-02-18T11:55:13.161Z"
   },
   {
    "duration": 20,
    "start_time": "2022-02-18T11:55:13.177Z"
   },
   {
    "duration": 7041,
    "start_time": "2022-02-18T11:55:13.199Z"
   },
   {
    "duration": -4,
    "start_time": "2022-02-18T11:55:20.247Z"
   },
   {
    "duration": 7522,
    "start_time": "2022-02-18T11:56:05.344Z"
   },
   {
    "duration": 21,
    "start_time": "2022-02-18T11:59:11.720Z"
   },
   {
    "duration": 7760,
    "start_time": "2022-02-18T11:59:19.913Z"
   },
   {
    "duration": 15467,
    "start_time": "2022-02-18T11:59:37.230Z"
   },
   {
    "duration": 611,
    "start_time": "2022-02-18T12:05:17.166Z"
   },
   {
    "duration": 21,
    "start_time": "2022-02-18T12:05:44.103Z"
   },
   {
    "duration": 7474,
    "start_time": "2022-02-18T12:06:01.247Z"
   },
   {
    "duration": 24,
    "start_time": "2022-02-18T12:06:18.814Z"
   },
   {
    "duration": 7008,
    "start_time": "2022-02-18T12:06:23.195Z"
   },
   {
    "duration": 11,
    "start_time": "2022-02-18T12:07:27.913Z"
   },
   {
    "duration": 20,
    "start_time": "2022-02-18T12:07:29.556Z"
   },
   {
    "duration": 14,
    "start_time": "2022-02-18T12:07:57.369Z"
   },
   {
    "duration": 74,
    "start_time": "2022-02-18T12:08:30.824Z"
   },
   {
    "duration": 22,
    "start_time": "2022-02-18T12:08:30.901Z"
   },
   {
    "duration": 46,
    "start_time": "2022-02-18T12:08:30.927Z"
   },
   {
    "duration": 23,
    "start_time": "2022-02-18T12:08:30.976Z"
   },
   {
    "duration": 667,
    "start_time": "2022-02-18T12:08:31.001Z"
   },
   {
    "duration": 13,
    "start_time": "2022-02-18T12:08:31.670Z"
   },
   {
    "duration": 15,
    "start_time": "2022-02-18T12:08:59.976Z"
   },
   {
    "duration": 17,
    "start_time": "2022-02-18T12:26:31.762Z"
   },
   {
    "duration": 21,
    "start_time": "2022-02-18T12:28:47.321Z"
   },
   {
    "duration": 38,
    "start_time": "2022-02-18T12:32:16.134Z"
   },
   {
    "duration": 30,
    "start_time": "2022-02-18T12:35:14.482Z"
   },
   {
    "duration": 37,
    "start_time": "2022-02-18T12:35:36.055Z"
   },
   {
    "duration": 29,
    "start_time": "2022-02-18T12:36:38.258Z"
   },
   {
    "duration": 24,
    "start_time": "2022-02-18T12:36:42.459Z"
   },
   {
    "duration": 22,
    "start_time": "2022-02-18T12:36:53.330Z"
   },
   {
    "duration": 60,
    "start_time": "2022-02-18T12:36:54.021Z"
   },
   {
    "duration": 66,
    "start_time": "2022-02-18T12:37:06.422Z"
   },
   {
    "duration": 21,
    "start_time": "2022-02-18T12:37:06.491Z"
   },
   {
    "duration": 21,
    "start_time": "2022-02-18T12:37:06.516Z"
   },
   {
    "duration": 27,
    "start_time": "2022-02-18T12:37:06.561Z"
   },
   {
    "duration": 884,
    "start_time": "2022-02-18T12:37:06.591Z"
   },
   {
    "duration": 15,
    "start_time": "2022-02-18T12:37:07.478Z"
   },
   {
    "duration": 16,
    "start_time": "2022-02-18T12:37:07.496Z"
   },
   {
    "duration": 61,
    "start_time": "2022-02-18T12:37:07.515Z"
   },
   {
    "duration": 28,
    "start_time": "2022-02-18T12:37:07.580Z"
   },
   {
    "duration": 70,
    "start_time": "2022-02-18T12:37:07.611Z"
   },
   {
    "duration": 38,
    "start_time": "2022-02-18T12:39:21.992Z"
   },
   {
    "duration": 37,
    "start_time": "2022-02-18T12:39:35.892Z"
   },
   {
    "duration": 29,
    "start_time": "2022-02-18T12:44:23.206Z"
   },
   {
    "duration": 42,
    "start_time": "2022-02-18T12:49:05.802Z"
   },
   {
    "duration": 42,
    "start_time": "2022-02-18T12:50:28.711Z"
   },
   {
    "duration": 47,
    "start_time": "2022-02-18T12:50:37.488Z"
   },
   {
    "duration": 7,
    "start_time": "2022-02-18T13:03:18.075Z"
   },
   {
    "duration": 14,
    "start_time": "2022-02-18T13:03:41.536Z"
   },
   {
    "duration": 14,
    "start_time": "2022-02-18T13:04:07.891Z"
   },
   {
    "duration": 13,
    "start_time": "2022-02-18T13:05:40.661Z"
   },
   {
    "duration": 14,
    "start_time": "2022-02-18T13:09:08.835Z"
   },
   {
    "duration": 16,
    "start_time": "2022-02-18T13:09:14.323Z"
   },
   {
    "duration": 27,
    "start_time": "2022-02-18T13:12:09.013Z"
   },
   {
    "duration": 10,
    "start_time": "2022-02-18T13:13:21.089Z"
   },
   {
    "duration": 0,
    "start_time": "2022-02-18T13:13:33.480Z"
   },
   {
    "duration": -8,
    "start_time": "2022-02-18T13:13:33.489Z"
   },
   {
    "duration": -8,
    "start_time": "2022-02-18T13:13:33.491Z"
   },
   {
    "duration": -8,
    "start_time": "2022-02-18T13:13:33.493Z"
   },
   {
    "duration": -10,
    "start_time": "2022-02-18T13:13:33.496Z"
   },
   {
    "duration": -10,
    "start_time": "2022-02-18T13:13:33.497Z"
   },
   {
    "duration": -13,
    "start_time": "2022-02-18T13:13:33.502Z"
   },
   {
    "duration": -13,
    "start_time": "2022-02-18T13:13:33.504Z"
   },
   {
    "duration": -14,
    "start_time": "2022-02-18T13:13:33.507Z"
   },
   {
    "duration": -15,
    "start_time": "2022-02-18T13:13:33.509Z"
   },
   {
    "duration": -14,
    "start_time": "2022-02-18T13:13:33.510Z"
   },
   {
    "duration": -15,
    "start_time": "2022-02-18T13:13:33.512Z"
   },
   {
    "duration": -15,
    "start_time": "2022-02-18T13:13:33.514Z"
   },
   {
    "duration": 71,
    "start_time": "2022-02-18T13:13:54.132Z"
   },
   {
    "duration": 20,
    "start_time": "2022-02-18T13:13:55.419Z"
   },
   {
    "duration": 13,
    "start_time": "2022-02-18T13:13:57.384Z"
   },
   {
    "duration": 19,
    "start_time": "2022-02-18T13:13:57.767Z"
   },
   {
    "duration": 535,
    "start_time": "2022-02-18T13:13:58.468Z"
   },
   {
    "duration": 14,
    "start_time": "2022-02-18T13:14:02.168Z"
   },
   {
    "duration": 17,
    "start_time": "2022-02-18T13:14:06.017Z"
   },
   {
    "duration": 27,
    "start_time": "2022-02-18T13:14:07.758Z"
   },
   {
    "duration": 23,
    "start_time": "2022-02-18T13:14:08.408Z"
   },
   {
    "duration": 39,
    "start_time": "2022-02-18T13:14:08.886Z"
   },
   {
    "duration": 12,
    "start_time": "2022-02-18T13:14:10.726Z"
   },
   {
    "duration": 13,
    "start_time": "2022-02-18T13:14:11.511Z"
   },
   {
    "duration": 17,
    "start_time": "2022-02-18T13:14:12.348Z"
   },
   {
    "duration": 16,
    "start_time": "2022-02-18T13:14:49.729Z"
   },
   {
    "duration": 66,
    "start_time": "2022-02-18T16:46:15.989Z"
   },
   {
    "duration": 699,
    "start_time": "2022-02-18T16:46:30.483Z"
   },
   {
    "duration": 21,
    "start_time": "2022-02-18T16:46:31.184Z"
   },
   {
    "duration": 33,
    "start_time": "2022-02-18T16:46:31.208Z"
   },
   {
    "duration": 23,
    "start_time": "2022-02-18T16:46:31.244Z"
   },
   {
    "duration": 515,
    "start_time": "2022-02-18T16:46:31.268Z"
   },
   {
    "duration": 14,
    "start_time": "2022-02-18T16:46:31.785Z"
   },
   {
    "duration": 22,
    "start_time": "2022-02-18T16:46:31.801Z"
   },
   {
    "duration": 39,
    "start_time": "2022-02-18T16:46:31.824Z"
   },
   {
    "duration": 33,
    "start_time": "2022-02-18T16:46:31.866Z"
   },
   {
    "duration": 36,
    "start_time": "2022-02-18T16:46:31.901Z"
   },
   {
    "duration": 21,
    "start_time": "2022-02-18T16:46:31.939Z"
   },
   {
    "duration": 72,
    "start_time": "2022-02-18T16:46:31.962Z"
   },
   {
    "duration": 23,
    "start_time": "2022-02-18T16:46:32.036Z"
   },
   {
    "duration": 63,
    "start_time": "2022-02-18T16:46:32.060Z"
   },
   {
    "duration": 65,
    "start_time": "2022-02-18T16:46:32.125Z"
   },
   {
    "duration": 7,
    "start_time": "2022-02-18T16:46:48.599Z"
   },
   {
    "duration": 913,
    "start_time": "2022-02-18T17:04:04.048Z"
   },
   {
    "duration": 56,
    "start_time": "2022-02-18T17:04:41.474Z"
   },
   {
    "duration": 12,
    "start_time": "2022-02-18T17:04:41.532Z"
   },
   {
    "duration": 22,
    "start_time": "2022-02-18T17:04:41.546Z"
   },
   {
    "duration": 15,
    "start_time": "2022-02-18T17:04:41.570Z"
   },
   {
    "duration": 398,
    "start_time": "2022-02-18T17:04:41.587Z"
   },
   {
    "duration": 10,
    "start_time": "2022-02-18T17:04:41.986Z"
   },
   {
    "duration": 20,
    "start_time": "2022-02-18T17:04:41.997Z"
   },
   {
    "duration": 20,
    "start_time": "2022-02-18T17:04:42.018Z"
   },
   {
    "duration": 33,
    "start_time": "2022-02-18T17:04:42.041Z"
   },
   {
    "duration": 29,
    "start_time": "2022-02-18T17:04:42.077Z"
   },
   {
    "duration": 8,
    "start_time": "2022-02-18T17:04:42.108Z"
   },
   {
    "duration": 10,
    "start_time": "2022-02-18T17:04:42.118Z"
   },
   {
    "duration": 37,
    "start_time": "2022-02-18T17:04:42.129Z"
   },
   {
    "duration": 12,
    "start_time": "2022-02-18T17:04:42.168Z"
   },
   {
    "duration": 6,
    "start_time": "2022-02-18T17:04:42.182Z"
   },
   {
    "duration": 1009,
    "start_time": "2022-02-18T17:04:42.190Z"
   },
   {
    "duration": 18,
    "start_time": "2022-02-18T17:06:08.267Z"
   },
   {
    "duration": 18,
    "start_time": "2022-02-18T17:07:24.857Z"
   },
   {
    "duration": 551,
    "start_time": "2022-02-18T20:20:45.108Z"
   },
   {
    "duration": 914,
    "start_time": "2022-02-18T20:21:05.511Z"
   },
   {
    "duration": 31,
    "start_time": "2022-02-18T20:21:06.428Z"
   },
   {
    "duration": 13,
    "start_time": "2022-02-18T20:21:06.462Z"
   },
   {
    "duration": 55,
    "start_time": "2022-02-18T20:21:06.478Z"
   },
   {
    "duration": 832,
    "start_time": "2022-02-18T20:21:06.536Z"
   },
   {
    "duration": 13,
    "start_time": "2022-02-18T20:21:07.370Z"
   },
   {
    "duration": 38,
    "start_time": "2022-02-18T20:21:07.385Z"
   },
   {
    "duration": 45,
    "start_time": "2022-02-18T20:21:07.428Z"
   },
   {
    "duration": 50,
    "start_time": "2022-02-18T20:21:07.477Z"
   },
   {
    "duration": 40,
    "start_time": "2022-02-18T20:21:07.530Z"
   },
   {
    "duration": 12,
    "start_time": "2022-02-18T20:21:07.573Z"
   },
   {
    "duration": 13,
    "start_time": "2022-02-18T20:21:07.610Z"
   },
   {
    "duration": 19,
    "start_time": "2022-02-18T20:21:07.626Z"
   },
   {
    "duration": 23,
    "start_time": "2022-02-18T20:21:07.647Z"
   },
   {
    "duration": 49,
    "start_time": "2022-02-18T20:21:07.673Z"
   },
   {
    "duration": 24,
    "start_time": "2022-02-18T20:21:07.724Z"
   },
   {
    "duration": 180,
    "start_time": "2022-02-18T20:40:45.258Z"
   },
   {
    "duration": 180,
    "start_time": "2022-02-18T20:40:45.261Z"
   },
   {
    "duration": 179,
    "start_time": "2022-02-18T20:40:45.264Z"
   },
   {
    "duration": 180,
    "start_time": "2022-02-18T20:40:45.266Z"
   },
   {
    "duration": 180,
    "start_time": "2022-02-18T20:40:45.268Z"
   },
   {
    "duration": 181,
    "start_time": "2022-02-18T20:40:45.270Z"
   },
   {
    "duration": 182,
    "start_time": "2022-02-18T20:40:45.271Z"
   },
   {
    "duration": 177,
    "start_time": "2022-02-18T20:40:45.279Z"
   },
   {
    "duration": 177,
    "start_time": "2022-02-18T20:40:45.281Z"
   },
   {
    "duration": 177,
    "start_time": "2022-02-18T20:40:45.283Z"
   },
   {
    "duration": 178,
    "start_time": "2022-02-18T20:40:45.285Z"
   },
   {
    "duration": 142,
    "start_time": "2022-02-18T20:40:45.323Z"
   },
   {
    "duration": 142,
    "start_time": "2022-02-18T20:40:45.326Z"
   },
   {
    "duration": 139,
    "start_time": "2022-02-18T20:40:45.331Z"
   },
   {
    "duration": 134,
    "start_time": "2022-02-18T20:40:45.338Z"
   },
   {
    "duration": 134,
    "start_time": "2022-02-18T20:40:45.341Z"
   },
   {
    "duration": 134,
    "start_time": "2022-02-18T20:40:45.343Z"
   },
   {
    "duration": 1751,
    "start_time": "2022-02-18T20:41:38.036Z"
   },
   {
    "duration": 9526,
    "start_time": "2022-02-18T20:41:45.806Z"
   },
   {
    "duration": 86,
    "start_time": "2022-02-18T20:41:55.249Z"
   },
   {
    "duration": 23,
    "start_time": "2022-02-18T20:41:58.373Z"
   },
   {
    "duration": 13,
    "start_time": "2022-02-18T20:42:02.267Z"
   },
   {
    "duration": 13,
    "start_time": "2022-02-18T20:42:03.041Z"
   },
   {
    "duration": 9879,
    "start_time": "2022-02-18T20:42:03.761Z"
   },
   {
    "duration": 179,
    "start_time": "2022-02-18T20:42:13.463Z"
   },
   {
    "duration": 9189,
    "start_time": "2022-02-18T20:42:35.305Z"
   },
   {
    "duration": 12,
    "start_time": "2022-02-18T20:43:40.400Z"
   },
   {
    "duration": 77,
    "start_time": "2022-02-18T20:44:01.735Z"
   },
   {
    "duration": 18,
    "start_time": "2022-02-18T20:44:01.815Z"
   },
   {
    "duration": 16,
    "start_time": "2022-02-18T20:44:01.837Z"
   },
   {
    "duration": 20,
    "start_time": "2022-02-18T20:44:01.856Z"
   },
   {
    "duration": 826,
    "start_time": "2022-02-18T20:44:01.879Z"
   },
   {
    "duration": 13,
    "start_time": "2022-02-18T20:44:02.710Z"
   },
   {
    "duration": 16,
    "start_time": "2022-02-18T20:44:02.726Z"
   },
   {
    "duration": 29,
    "start_time": "2022-02-18T20:44:02.745Z"
   },
   {
    "duration": 24,
    "start_time": "2022-02-18T20:44:02.813Z"
   },
   {
    "duration": 41,
    "start_time": "2022-02-18T20:44:02.839Z"
   },
   {
    "duration": 37,
    "start_time": "2022-02-18T20:44:02.882Z"
   },
   {
    "duration": 14,
    "start_time": "2022-02-18T20:44:02.921Z"
   },
   {
    "duration": 17,
    "start_time": "2022-02-18T20:44:02.937Z"
   },
   {
    "duration": 67,
    "start_time": "2022-02-18T20:44:02.957Z"
   },
   {
    "duration": 13,
    "start_time": "2022-02-18T20:44:03.026Z"
   },
   {
    "duration": 28,
    "start_time": "2022-02-18T20:44:03.042Z"
   },
   {
    "duration": 1847,
    "start_time": "2022-02-18T20:44:03.073Z"
   },
   {
    "duration": 9673,
    "start_time": "2022-02-18T20:47:53.646Z"
   },
   {
    "duration": 63,
    "start_time": "2022-02-18T20:48:03.259Z"
   },
   {
    "duration": 12,
    "start_time": "2022-02-18T20:48:35.008Z"
   },
   {
    "duration": 1819,
    "start_time": "2022-02-18T21:01:06.574Z"
   },
   {
    "duration": 1709,
    "start_time": "2022-02-18T21:02:54.533Z"
   },
   {
    "duration": 1944,
    "start_time": "2022-02-18T21:03:09.321Z"
   },
   {
    "duration": 1697,
    "start_time": "2022-02-18T21:04:13.750Z"
   },
   {
    "duration": 1752,
    "start_time": "2022-02-18T21:05:58.949Z"
   },
   {
    "duration": 22,
    "start_time": "2022-02-18T21:06:27.490Z"
   },
   {
    "duration": 22,
    "start_time": "2022-02-18T21:06:44.892Z"
   },
   {
    "duration": 9872,
    "start_time": "2022-02-18T21:12:56.776Z"
   },
   {
    "duration": 89,
    "start_time": "2022-02-18T21:13:11.950Z"
   },
   {
    "duration": 20,
    "start_time": "2022-02-18T21:13:12.043Z"
   },
   {
    "duration": 13,
    "start_time": "2022-02-18T21:13:12.067Z"
   },
   {
    "duration": 20,
    "start_time": "2022-02-18T21:13:12.111Z"
   },
   {
    "duration": 609,
    "start_time": "2022-02-18T21:13:12.134Z"
   },
   {
    "duration": 15,
    "start_time": "2022-02-18T21:13:12.745Z"
   },
   {
    "duration": 18,
    "start_time": "2022-02-18T21:13:12.763Z"
   },
   {
    "duration": 30,
    "start_time": "2022-02-18T21:13:12.812Z"
   },
   {
    "duration": 27,
    "start_time": "2022-02-18T21:13:12.848Z"
   },
   {
    "duration": 74,
    "start_time": "2022-02-18T21:13:12.879Z"
   },
   {
    "duration": 13,
    "start_time": "2022-02-18T21:13:12.955Z"
   },
   {
    "duration": 47,
    "start_time": "2022-02-18T21:13:12.971Z"
   },
   {
    "duration": 18,
    "start_time": "2022-02-18T21:13:13.020Z"
   },
   {
    "duration": 22,
    "start_time": "2022-02-18T21:13:13.041Z"
   },
   {
    "duration": 47,
    "start_time": "2022-02-18T21:13:13.066Z"
   },
   {
    "duration": 32,
    "start_time": "2022-02-18T21:13:13.116Z"
   },
   {
    "duration": 14,
    "start_time": "2022-02-18T21:13:13.151Z"
   },
   {
    "duration": 6,
    "start_time": "2022-02-18T21:13:13.167Z"
   },
   {
    "duration": 32,
    "start_time": "2022-02-18T21:13:13.212Z"
   },
   {
    "duration": 380,
    "start_time": "2022-02-18T21:17:51.085Z"
   },
   {
    "duration": 378,
    "start_time": "2022-02-18T21:18:31.906Z"
   },
   {
    "duration": 78,
    "start_time": "2022-02-18T21:18:36.206Z"
   },
   {
    "duration": 28,
    "start_time": "2022-02-18T21:18:36.286Z"
   },
   {
    "duration": 15,
    "start_time": "2022-02-18T21:18:36.317Z"
   },
   {
    "duration": 20,
    "start_time": "2022-02-18T21:18:36.335Z"
   },
   {
    "duration": 612,
    "start_time": "2022-02-18T21:18:36.358Z"
   },
   {
    "duration": 15,
    "start_time": "2022-02-18T21:18:36.972Z"
   },
   {
    "duration": 34,
    "start_time": "2022-02-18T21:18:36.989Z"
   },
   {
    "duration": 31,
    "start_time": "2022-02-18T21:18:37.026Z"
   },
   {
    "duration": 51,
    "start_time": "2022-02-18T21:18:37.061Z"
   },
   {
    "duration": 42,
    "start_time": "2022-02-18T21:18:37.115Z"
   },
   {
    "duration": 12,
    "start_time": "2022-02-18T21:18:37.159Z"
   },
   {
    "duration": 43,
    "start_time": "2022-02-18T21:18:37.174Z"
   },
   {
    "duration": 17,
    "start_time": "2022-02-18T21:18:37.220Z"
   },
   {
    "duration": 16,
    "start_time": "2022-02-18T21:18:37.239Z"
   },
   {
    "duration": 386,
    "start_time": "2022-02-18T21:18:37.257Z"
   },
   {
    "duration": 57,
    "start_time": "2022-02-18T21:18:37.588Z"
   },
   {
    "duration": 56,
    "start_time": "2022-02-18T21:18:37.591Z"
   },
   {
    "duration": 55,
    "start_time": "2022-02-18T21:18:37.594Z"
   },
   {
    "duration": 54,
    "start_time": "2022-02-18T21:18:37.596Z"
   },
   {
    "duration": 368,
    "start_time": "2022-02-18T21:19:26.371Z"
   },
   {
    "duration": 77,
    "start_time": "2022-02-18T21:19:37.149Z"
   },
   {
    "duration": 19,
    "start_time": "2022-02-18T21:19:37.229Z"
   },
   {
    "duration": 18,
    "start_time": "2022-02-18T21:19:37.251Z"
   },
   {
    "duration": 46,
    "start_time": "2022-02-18T21:19:37.272Z"
   },
   {
    "duration": 589,
    "start_time": "2022-02-18T21:19:37.321Z"
   },
   {
    "duration": 15,
    "start_time": "2022-02-18T21:19:37.913Z"
   },
   {
    "duration": 17,
    "start_time": "2022-02-18T21:19:37.931Z"
   },
   {
    "duration": 62,
    "start_time": "2022-02-18T21:19:37.951Z"
   },
   {
    "duration": 26,
    "start_time": "2022-02-18T21:19:38.018Z"
   },
   {
    "duration": 70,
    "start_time": "2022-02-18T21:19:38.047Z"
   },
   {
    "duration": 13,
    "start_time": "2022-02-18T21:19:38.119Z"
   },
   {
    "duration": 15,
    "start_time": "2022-02-18T21:19:38.135Z"
   },
   {
    "duration": 60,
    "start_time": "2022-02-18T21:19:38.152Z"
   },
   {
    "duration": 21,
    "start_time": "2022-02-18T21:19:38.215Z"
   },
   {
    "duration": 377,
    "start_time": "2022-02-18T21:19:38.239Z"
   },
   {
    "duration": 6,
    "start_time": "2022-02-18T21:19:38.613Z"
   },
   {
    "duration": 5,
    "start_time": "2022-02-18T21:19:38.616Z"
   },
   {
    "duration": 3,
    "start_time": "2022-02-18T21:19:38.619Z"
   },
   {
    "duration": 3,
    "start_time": "2022-02-18T21:19:38.620Z"
   },
   {
    "duration": 11,
    "start_time": "2022-02-18T21:24:52.503Z"
   },
   {
    "duration": 435,
    "start_time": "2022-02-18T21:27:45.940Z"
   },
   {
    "duration": 9294,
    "start_time": "2022-02-18T21:28:01.031Z"
   },
   {
    "duration": -144,
    "start_time": "2022-02-18T21:28:10.472Z"
   },
   {
    "duration": 91,
    "start_time": "2022-02-18T21:28:30.953Z"
   },
   {
    "duration": 21,
    "start_time": "2022-02-18T21:28:31.047Z"
   },
   {
    "duration": 28,
    "start_time": "2022-02-18T21:28:31.071Z"
   },
   {
    "duration": 21,
    "start_time": "2022-02-18T21:28:31.111Z"
   },
   {
    "duration": 638,
    "start_time": "2022-02-18T21:28:31.135Z"
   },
   {
    "duration": 13,
    "start_time": "2022-02-18T21:28:31.775Z"
   },
   {
    "duration": 18,
    "start_time": "2022-02-18T21:28:31.810Z"
   },
   {
    "duration": 30,
    "start_time": "2022-02-18T21:28:31.831Z"
   },
   {
    "duration": 56,
    "start_time": "2022-02-18T21:28:31.864Z"
   },
   {
    "duration": 42,
    "start_time": "2022-02-18T21:28:31.923Z"
   },
   {
    "duration": 12,
    "start_time": "2022-02-18T21:28:31.967Z"
   },
   {
    "duration": 13,
    "start_time": "2022-02-18T21:28:32.010Z"
   },
   {
    "duration": 19,
    "start_time": "2022-02-18T21:28:32.026Z"
   },
   {
    "duration": 17,
    "start_time": "2022-02-18T21:28:32.048Z"
   },
   {
    "duration": 410,
    "start_time": "2022-02-18T21:28:32.068Z"
   },
   {
    "duration": -6,
    "start_time": "2022-02-18T21:28:32.486Z"
   },
   {
    "duration": -9,
    "start_time": "2022-02-18T21:28:32.490Z"
   },
   {
    "duration": -10,
    "start_time": "2022-02-18T21:28:32.492Z"
   },
   {
    "duration": -10,
    "start_time": "2022-02-18T21:28:32.494Z"
   },
   {
    "duration": 397,
    "start_time": "2022-02-18T21:30:54.380Z"
   },
   {
    "duration": 370,
    "start_time": "2022-02-18T21:31:08.185Z"
   },
   {
    "duration": 371,
    "start_time": "2022-02-18T21:31:58.773Z"
   },
   {
    "duration": 9262,
    "start_time": "2022-02-18T21:32:03.884Z"
   },
   {
    "duration": 76,
    "start_time": "2022-02-18T21:32:15.927Z"
   },
   {
    "duration": 19,
    "start_time": "2022-02-18T21:32:16.005Z"
   },
   {
    "duration": 13,
    "start_time": "2022-02-18T21:32:16.026Z"
   },
   {
    "duration": 18,
    "start_time": "2022-02-18T21:32:16.042Z"
   },
   {
    "duration": 579,
    "start_time": "2022-02-18T21:32:16.062Z"
   },
   {
    "duration": 13,
    "start_time": "2022-02-18T21:32:16.644Z"
   },
   {
    "duration": 16,
    "start_time": "2022-02-18T21:32:16.659Z"
   },
   {
    "duration": 56,
    "start_time": "2022-02-18T21:32:16.679Z"
   },
   {
    "duration": 26,
    "start_time": "2022-02-18T21:32:16.739Z"
   },
   {
    "duration": 76,
    "start_time": "2022-02-18T21:32:16.768Z"
   },
   {
    "duration": 12,
    "start_time": "2022-02-18T21:32:16.847Z"
   },
   {
    "duration": 11,
    "start_time": "2022-02-18T21:32:16.862Z"
   },
   {
    "duration": 46,
    "start_time": "2022-02-18T21:32:16.876Z"
   },
   {
    "duration": 16,
    "start_time": "2022-02-18T21:32:16.924Z"
   },
   {
    "duration": 379,
    "start_time": "2022-02-18T21:32:16.943Z"
   },
   {
    "duration": -5,
    "start_time": "2022-02-18T21:32:17.330Z"
   },
   {
    "duration": -6,
    "start_time": "2022-02-18T21:32:17.333Z"
   },
   {
    "duration": -8,
    "start_time": "2022-02-18T21:32:17.336Z"
   },
   {
    "duration": -9,
    "start_time": "2022-02-18T21:32:17.338Z"
   },
   {
    "duration": 929,
    "start_time": "2022-02-18T21:33:33.397Z"
   },
   {
    "duration": 371,
    "start_time": "2022-02-18T21:33:56.140Z"
   },
   {
    "duration": 402,
    "start_time": "2022-02-18T21:34:08.803Z"
   },
   {
    "duration": 389,
    "start_time": "2022-02-18T21:34:18.326Z"
   },
   {
    "duration": 963,
    "start_time": "2022-02-18T21:42:39.901Z"
   },
   {
    "duration": 667,
    "start_time": "2022-02-18T21:44:51.976Z"
   },
   {
    "duration": 21,
    "start_time": "2022-02-18T21:45:20.960Z"
   },
   {
    "duration": 2371,
    "start_time": "2022-02-18T21:45:25.352Z"
   },
   {
    "duration": 35,
    "start_time": "2022-02-18T21:57:02.580Z"
   },
   {
    "duration": 9817,
    "start_time": "2022-02-18T21:58:19.640Z"
   },
   {
    "duration": 10,
    "start_time": "2022-02-18T21:58:55.495Z"
   },
   {
    "duration": 81,
    "start_time": "2022-02-18T22:02:30.831Z"
   },
   {
    "duration": 23,
    "start_time": "2022-02-18T22:02:30.915Z"
   },
   {
    "duration": 29,
    "start_time": "2022-02-18T22:02:30.941Z"
   },
   {
    "duration": 20,
    "start_time": "2022-02-18T22:02:30.973Z"
   },
   {
    "duration": 656,
    "start_time": "2022-02-18T22:02:30.995Z"
   },
   {
    "duration": 13,
    "start_time": "2022-02-18T22:02:31.653Z"
   },
   {
    "duration": 43,
    "start_time": "2022-02-18T22:02:31.668Z"
   },
   {
    "duration": 28,
    "start_time": "2022-02-18T22:02:31.713Z"
   },
   {
    "duration": 24,
    "start_time": "2022-02-18T22:02:31.746Z"
   },
   {
    "duration": 68,
    "start_time": "2022-02-18T22:02:31.774Z"
   },
   {
    "duration": 12,
    "start_time": "2022-02-18T22:02:31.844Z"
   },
   {
    "duration": 13,
    "start_time": "2022-02-18T22:02:31.858Z"
   },
   {
    "duration": 47,
    "start_time": "2022-02-18T22:02:31.873Z"
   },
   {
    "duration": 17,
    "start_time": "2022-02-18T22:02:31.923Z"
   },
   {
    "duration": 1156,
    "start_time": "2022-02-18T22:02:31.942Z"
   },
   {
    "duration": 21,
    "start_time": "2022-02-18T22:02:33.101Z"
   },
   {
    "duration": 27,
    "start_time": "2022-02-18T22:02:33.125Z"
   },
   {
    "duration": 14,
    "start_time": "2022-02-18T22:02:33.156Z"
   },
   {
    "duration": 71,
    "start_time": "2022-02-18T22:02:33.173Z"
   },
   {
    "duration": 11,
    "start_time": "2022-02-18T22:02:33.247Z"
   },
   {
    "duration": 991,
    "start_time": "2022-02-18T22:13:13.858Z"
   },
   {
    "duration": 287,
    "start_time": "2022-02-19T10:33:02.355Z"
   },
   {
    "duration": 839,
    "start_time": "2022-02-19T10:33:08.279Z"
   },
   {
    "duration": 29,
    "start_time": "2022-02-19T10:33:09.121Z"
   },
   {
    "duration": 15,
    "start_time": "2022-02-19T10:33:09.153Z"
   },
   {
    "duration": 38,
    "start_time": "2022-02-19T10:33:09.171Z"
   },
   {
    "duration": 623,
    "start_time": "2022-02-19T10:33:09.212Z"
   },
   {
    "duration": 14,
    "start_time": "2022-02-19T10:33:09.837Z"
   },
   {
    "duration": 18,
    "start_time": "2022-02-19T10:33:09.853Z"
   },
   {
    "duration": 32,
    "start_time": "2022-02-19T10:33:09.894Z"
   },
   {
    "duration": 27,
    "start_time": "2022-02-19T10:33:09.929Z"
   },
   {
    "duration": 68,
    "start_time": "2022-02-19T10:33:09.959Z"
   },
   {
    "duration": 10,
    "start_time": "2022-02-19T10:33:10.030Z"
   },
   {
    "duration": 26,
    "start_time": "2022-02-19T10:33:10.043Z"
   },
   {
    "duration": 32,
    "start_time": "2022-02-19T10:33:10.071Z"
   },
   {
    "duration": 33,
    "start_time": "2022-02-19T10:33:10.106Z"
   },
   {
    "duration": 997,
    "start_time": "2022-02-19T10:33:10.141Z"
   },
   {
    "duration": 14,
    "start_time": "2022-02-19T10:33:11.141Z"
   },
   {
    "duration": 51,
    "start_time": "2022-02-19T10:33:11.158Z"
   },
   {
    "duration": 10,
    "start_time": "2022-02-19T10:33:11.212Z"
   },
   {
    "duration": 31,
    "start_time": "2022-02-19T10:33:11.224Z"
   },
   {
    "duration": 42,
    "start_time": "2022-02-19T10:33:11.258Z"
   },
   {
    "duration": 221,
    "start_time": "2022-02-19T12:39:53.340Z"
   },
   {
    "duration": 597,
    "start_time": "2022-02-19T12:39:57.401Z"
   },
   {
    "duration": 19,
    "start_time": "2022-02-19T12:39:58.000Z"
   },
   {
    "duration": 9,
    "start_time": "2022-02-19T12:39:58.021Z"
   },
   {
    "duration": 28,
    "start_time": "2022-02-19T12:39:58.032Z"
   },
   {
    "duration": 378,
    "start_time": "2022-02-19T12:39:58.061Z"
   },
   {
    "duration": 18,
    "start_time": "2022-02-19T12:39:58.440Z"
   },
   {
    "duration": 12,
    "start_time": "2022-02-19T12:39:58.459Z"
   },
   {
    "duration": 18,
    "start_time": "2022-02-19T12:39:58.473Z"
   },
   {
    "duration": 16,
    "start_time": "2022-02-19T12:39:58.493Z"
   },
   {
    "duration": 49,
    "start_time": "2022-02-19T12:39:58.511Z"
   },
   {
    "duration": 8,
    "start_time": "2022-02-19T12:39:58.562Z"
   },
   {
    "duration": 14,
    "start_time": "2022-02-19T12:39:58.571Z"
   },
   {
    "duration": 12,
    "start_time": "2022-02-19T12:39:58.586Z"
   },
   {
    "duration": 10,
    "start_time": "2022-02-19T12:39:58.600Z"
   },
   {
    "duration": 666,
    "start_time": "2022-02-19T12:39:58.612Z"
   },
   {
    "duration": 9,
    "start_time": "2022-02-19T12:39:59.280Z"
   },
   {
    "duration": 19,
    "start_time": "2022-02-19T12:39:59.290Z"
   },
   {
    "duration": 7,
    "start_time": "2022-02-19T12:39:59.311Z"
   },
   {
    "duration": 9,
    "start_time": "2022-02-19T12:39:59.319Z"
   },
   {
    "duration": 22,
    "start_time": "2022-02-19T12:39:59.358Z"
   },
   {
    "duration": 7,
    "start_time": "2022-02-19T12:39:59.382Z"
   },
   {
    "duration": 218,
    "start_time": "2022-02-19T12:41:28.415Z"
   },
   {
    "duration": 207,
    "start_time": "2022-02-19T12:41:51.120Z"
   },
   {
    "duration": 9,
    "start_time": "2022-02-19T12:42:08.991Z"
   },
   {
    "duration": 63,
    "start_time": "2022-02-19T12:42:26.289Z"
   },
   {
    "duration": 4,
    "start_time": "2022-02-19T12:43:33.905Z"
   },
   {
    "duration": 202,
    "start_time": "2022-02-19T12:50:47.829Z"
   },
   {
    "duration": 210,
    "start_time": "2022-02-19T12:53:03.076Z"
   },
   {
    "duration": 6,
    "start_time": "2022-02-19T12:53:17.897Z"
   },
   {
    "duration": 8,
    "start_time": "2022-02-19T12:53:37.031Z"
   },
   {
    "duration": 17,
    "start_time": "2022-02-19T12:55:47.200Z"
   },
   {
    "duration": 18,
    "start_time": "2022-02-19T12:56:43.271Z"
   },
   {
    "duration": 1000,
    "start_time": "2022-02-19T12:57:16.193Z"
   },
   {
    "duration": 207,
    "start_time": "2022-02-19T13:02:28.623Z"
   },
   {
    "duration": 199,
    "start_time": "2022-02-19T13:03:43.081Z"
   },
   {
    "duration": 195,
    "start_time": "2022-02-19T13:05:22.509Z"
   },
   {
    "duration": 198,
    "start_time": "2022-02-19T13:06:22.907Z"
   },
   {
    "duration": 57,
    "start_time": "2022-02-19T13:06:33.934Z"
   },
   {
    "duration": 13,
    "start_time": "2022-02-19T13:06:33.993Z"
   },
   {
    "duration": 11,
    "start_time": "2022-02-19T13:06:34.008Z"
   },
   {
    "duration": 14,
    "start_time": "2022-02-19T13:06:34.021Z"
   },
   {
    "duration": 401,
    "start_time": "2022-02-19T13:06:34.037Z"
   },
   {
    "duration": 9,
    "start_time": "2022-02-19T13:06:34.440Z"
   },
   {
    "duration": 11,
    "start_time": "2022-02-19T13:06:34.459Z"
   },
   {
    "duration": 18,
    "start_time": "2022-02-19T13:06:34.473Z"
   },
   {
    "duration": 19,
    "start_time": "2022-02-19T13:06:34.493Z"
   },
   {
    "duration": 47,
    "start_time": "2022-02-19T13:06:34.514Z"
   },
   {
    "duration": 9,
    "start_time": "2022-02-19T13:06:34.563Z"
   },
   {
    "duration": 12,
    "start_time": "2022-02-19T13:06:34.573Z"
   },
   {
    "duration": 12,
    "start_time": "2022-02-19T13:06:34.586Z"
   },
   {
    "duration": 11,
    "start_time": "2022-02-19T13:06:34.600Z"
   },
   {
    "duration": 671,
    "start_time": "2022-02-19T13:06:34.613Z"
   },
   {
    "duration": 8,
    "start_time": "2022-02-19T13:06:35.287Z"
   },
   {
    "duration": 16,
    "start_time": "2022-02-19T13:06:35.297Z"
   },
   {
    "duration": 11,
    "start_time": "2022-02-19T13:06:35.315Z"
   },
   {
    "duration": 46,
    "start_time": "2022-02-19T13:06:35.328Z"
   },
   {
    "duration": 6,
    "start_time": "2022-02-19T13:06:35.376Z"
   },
   {
    "duration": 199,
    "start_time": "2022-02-19T13:06:35.383Z"
   },
   {
    "duration": 192,
    "start_time": "2022-02-19T13:07:44.455Z"
   },
   {
    "duration": 247,
    "start_time": "2022-02-19T13:08:20.914Z"
   },
   {
    "duration": 203,
    "start_time": "2022-02-19T13:08:30.367Z"
   },
   {
    "duration": 52,
    "start_time": "2022-02-19T13:08:40.044Z"
   },
   {
    "duration": 11,
    "start_time": "2022-02-19T13:08:40.098Z"
   },
   {
    "duration": 15,
    "start_time": "2022-02-19T13:08:40.112Z"
   },
   {
    "duration": 31,
    "start_time": "2022-02-19T13:08:40.129Z"
   },
   {
    "duration": 388,
    "start_time": "2022-02-19T13:08:40.161Z"
   },
   {
    "duration": 18,
    "start_time": "2022-02-19T13:08:40.550Z"
   },
   {
    "duration": 14,
    "start_time": "2022-02-19T13:08:40.570Z"
   },
   {
    "duration": 20,
    "start_time": "2022-02-19T13:08:40.586Z"
   },
   {
    "duration": 16,
    "start_time": "2022-02-19T13:08:40.610Z"
   },
   {
    "duration": 56,
    "start_time": "2022-02-19T13:08:40.628Z"
   },
   {
    "duration": 8,
    "start_time": "2022-02-19T13:08:40.686Z"
   },
   {
    "duration": 13,
    "start_time": "2022-02-19T13:08:40.695Z"
   },
   {
    "duration": 11,
    "start_time": "2022-02-19T13:08:40.710Z"
   },
   {
    "duration": 10,
    "start_time": "2022-02-19T13:08:40.722Z"
   },
   {
    "duration": 675,
    "start_time": "2022-02-19T13:08:40.734Z"
   },
   {
    "duration": 10,
    "start_time": "2022-02-19T13:08:41.411Z"
   },
   {
    "duration": 19,
    "start_time": "2022-02-19T13:08:41.422Z"
   },
   {
    "duration": 31,
    "start_time": "2022-02-19T13:08:41.443Z"
   },
   {
    "duration": 43,
    "start_time": "2022-02-19T13:08:41.476Z"
   },
   {
    "duration": 31,
    "start_time": "2022-02-19T13:08:41.521Z"
   },
   {
    "duration": 221,
    "start_time": "2022-02-19T13:08:41.554Z"
   },
   {
    "duration": 219,
    "start_time": "2022-02-19T13:09:02.613Z"
   },
   {
    "duration": 52,
    "start_time": "2022-02-19T13:09:05.875Z"
   },
   {
    "duration": 12,
    "start_time": "2022-02-19T13:09:05.928Z"
   },
   {
    "duration": 44,
    "start_time": "2022-02-19T13:09:05.942Z"
   },
   {
    "duration": 40,
    "start_time": "2022-02-19T13:09:05.988Z"
   },
   {
    "duration": 397,
    "start_time": "2022-02-19T13:09:06.031Z"
   },
   {
    "duration": 11,
    "start_time": "2022-02-19T13:09:06.429Z"
   },
   {
    "duration": 43,
    "start_time": "2022-02-19T13:09:06.441Z"
   },
   {
    "duration": 39,
    "start_time": "2022-02-19T13:09:06.486Z"
   },
   {
    "duration": 36,
    "start_time": "2022-02-19T13:09:06.527Z"
   },
   {
    "duration": 36,
    "start_time": "2022-02-19T13:09:06.564Z"
   },
   {
    "duration": 24,
    "start_time": "2022-02-19T13:09:06.602Z"
   },
   {
    "duration": 24,
    "start_time": "2022-02-19T13:09:06.628Z"
   },
   {
    "duration": 19,
    "start_time": "2022-02-19T13:09:06.654Z"
   },
   {
    "duration": 11,
    "start_time": "2022-02-19T13:09:06.674Z"
   },
   {
    "duration": 672,
    "start_time": "2022-02-19T13:09:06.687Z"
   },
   {
    "duration": 10,
    "start_time": "2022-02-19T13:09:07.361Z"
   },
   {
    "duration": 23,
    "start_time": "2022-02-19T13:09:07.372Z"
   },
   {
    "duration": 25,
    "start_time": "2022-02-19T13:09:07.397Z"
   },
   {
    "duration": 30,
    "start_time": "2022-02-19T13:09:07.424Z"
   },
   {
    "duration": 15,
    "start_time": "2022-02-19T13:09:07.456Z"
   },
   {
    "duration": 258,
    "start_time": "2022-02-19T13:09:07.473Z"
   },
   {
    "duration": 55,
    "start_time": "2022-02-19T13:12:48.351Z"
   },
   {
    "duration": 13,
    "start_time": "2022-02-19T13:12:48.409Z"
   },
   {
    "duration": 16,
    "start_time": "2022-02-19T13:12:48.424Z"
   },
   {
    "duration": 27,
    "start_time": "2022-02-19T13:12:48.442Z"
   },
   {
    "duration": 405,
    "start_time": "2022-02-19T13:12:48.470Z"
   },
   {
    "duration": 10,
    "start_time": "2022-02-19T13:12:48.876Z"
   },
   {
    "duration": 12,
    "start_time": "2022-02-19T13:12:48.888Z"
   },
   {
    "duration": 18,
    "start_time": "2022-02-19T13:12:48.902Z"
   },
   {
    "duration": 51,
    "start_time": "2022-02-19T13:12:48.924Z"
   },
   {
    "duration": 29,
    "start_time": "2022-02-19T13:12:48.977Z"
   },
   {
    "duration": 12,
    "start_time": "2022-02-19T13:12:49.008Z"
   },
   {
    "duration": 38,
    "start_time": "2022-02-19T13:12:49.022Z"
   },
   {
    "duration": 12,
    "start_time": "2022-02-19T13:12:49.062Z"
   },
   {
    "duration": 11,
    "start_time": "2022-02-19T13:12:49.076Z"
   },
   {
    "duration": 680,
    "start_time": "2022-02-19T13:12:49.089Z"
   },
   {
    "duration": 9,
    "start_time": "2022-02-19T13:12:49.772Z"
   },
   {
    "duration": 16,
    "start_time": "2022-02-19T13:12:49.782Z"
   },
   {
    "duration": 12,
    "start_time": "2022-02-19T13:12:49.800Z"
   },
   {
    "duration": 51,
    "start_time": "2022-02-19T13:12:49.813Z"
   },
   {
    "duration": 8,
    "start_time": "2022-02-19T13:12:49.866Z"
   },
   {
    "duration": 231,
    "start_time": "2022-02-19T13:12:49.876Z"
   },
   {
    "duration": 8,
    "start_time": "2022-02-19T13:13:14.782Z"
   },
   {
    "duration": 375,
    "start_time": "2022-02-19T13:13:16.574Z"
   },
   {
    "duration": 213,
    "start_time": "2022-02-19T13:14:07.274Z"
   },
   {
    "duration": 61,
    "start_time": "2022-02-19T13:14:16.821Z"
   },
   {
    "duration": 12,
    "start_time": "2022-02-19T13:14:16.884Z"
   },
   {
    "duration": 10,
    "start_time": "2022-02-19T13:14:16.898Z"
   },
   {
    "duration": 14,
    "start_time": "2022-02-19T13:14:16.910Z"
   },
   {
    "duration": 412,
    "start_time": "2022-02-19T13:14:16.925Z"
   },
   {
    "duration": 10,
    "start_time": "2022-02-19T13:14:17.339Z"
   },
   {
    "duration": 11,
    "start_time": "2022-02-19T13:14:17.359Z"
   },
   {
    "duration": 18,
    "start_time": "2022-02-19T13:14:17.372Z"
   },
   {
    "duration": 15,
    "start_time": "2022-02-19T13:14:17.392Z"
   },
   {
    "duration": 51,
    "start_time": "2022-02-19T13:14:17.409Z"
   },
   {
    "duration": 12,
    "start_time": "2022-02-19T13:14:17.462Z"
   },
   {
    "duration": 8,
    "start_time": "2022-02-19T13:14:17.475Z"
   },
   {
    "duration": 12,
    "start_time": "2022-02-19T13:14:17.484Z"
   },
   {
    "duration": 10,
    "start_time": "2022-02-19T13:14:17.497Z"
   },
   {
    "duration": 672,
    "start_time": "2022-02-19T13:14:17.508Z"
   },
   {
    "duration": 10,
    "start_time": "2022-02-19T13:14:18.182Z"
   },
   {
    "duration": 18,
    "start_time": "2022-02-19T13:14:18.194Z"
   },
   {
    "duration": 12,
    "start_time": "2022-02-19T13:14:18.213Z"
   },
   {
    "duration": 50,
    "start_time": "2022-02-19T13:14:18.227Z"
   },
   {
    "duration": 9,
    "start_time": "2022-02-19T13:14:18.279Z"
   },
   {
    "duration": 203,
    "start_time": "2022-02-19T13:14:31.406Z"
   },
   {
    "duration": 51,
    "start_time": "2022-02-19T13:14:43.895Z"
   },
   {
    "duration": 13,
    "start_time": "2022-02-19T13:14:43.948Z"
   },
   {
    "duration": 10,
    "start_time": "2022-02-19T13:14:43.963Z"
   },
   {
    "duration": 13,
    "start_time": "2022-02-19T13:14:43.974Z"
   },
   {
    "duration": 384,
    "start_time": "2022-02-19T13:14:43.989Z"
   },
   {
    "duration": 10,
    "start_time": "2022-02-19T13:14:44.375Z"
   },
   {
    "duration": 13,
    "start_time": "2022-02-19T13:14:44.386Z"
   },
   {
    "duration": 18,
    "start_time": "2022-02-19T13:14:44.401Z"
   },
   {
    "duration": 44,
    "start_time": "2022-02-19T13:14:44.422Z"
   },
   {
    "duration": 27,
    "start_time": "2022-02-19T13:14:44.468Z"
   },
   {
    "duration": 11,
    "start_time": "2022-02-19T13:14:44.497Z"
   },
   {
    "duration": 7,
    "start_time": "2022-02-19T13:14:44.510Z"
   },
   {
    "duration": 11,
    "start_time": "2022-02-19T13:14:44.519Z"
   },
   {
    "duration": 11,
    "start_time": "2022-02-19T13:14:44.560Z"
   },
   {
    "duration": 697,
    "start_time": "2022-02-19T13:14:44.572Z"
   },
   {
    "duration": 9,
    "start_time": "2022-02-19T13:14:45.272Z"
   },
   {
    "duration": 16,
    "start_time": "2022-02-19T13:14:45.283Z"
   },
   {
    "duration": 7,
    "start_time": "2022-02-19T13:14:45.301Z"
   },
   {
    "duration": 48,
    "start_time": "2022-02-19T13:14:45.310Z"
   },
   {
    "duration": 7,
    "start_time": "2022-02-19T13:14:45.360Z"
   },
   {
    "duration": 206,
    "start_time": "2022-02-19T13:15:38.095Z"
   },
   {
    "duration": 53,
    "start_time": "2022-02-19T13:15:44.038Z"
   },
   {
    "duration": 11,
    "start_time": "2022-02-19T13:15:44.093Z"
   },
   {
    "duration": 12,
    "start_time": "2022-02-19T13:15:44.106Z"
   },
   {
    "duration": 15,
    "start_time": "2022-02-19T13:15:44.119Z"
   },
   {
    "duration": 402,
    "start_time": "2022-02-19T13:15:44.135Z"
   },
   {
    "duration": 20,
    "start_time": "2022-02-19T13:15:44.539Z"
   },
   {
    "duration": 12,
    "start_time": "2022-02-19T13:15:44.560Z"
   },
   {
    "duration": 19,
    "start_time": "2022-02-19T13:15:44.574Z"
   },
   {
    "duration": 23,
    "start_time": "2022-02-19T13:15:44.595Z"
   },
   {
    "duration": 48,
    "start_time": "2022-02-19T13:15:44.619Z"
   },
   {
    "duration": 12,
    "start_time": "2022-02-19T13:15:44.669Z"
   },
   {
    "duration": 10,
    "start_time": "2022-02-19T13:15:44.682Z"
   },
   {
    "duration": 11,
    "start_time": "2022-02-19T13:15:44.694Z"
   },
   {
    "duration": 13,
    "start_time": "2022-02-19T13:15:44.707Z"
   },
   {
    "duration": 744,
    "start_time": "2022-02-19T13:15:44.722Z"
   },
   {
    "duration": 9,
    "start_time": "2022-02-19T13:15:45.468Z"
   },
   {
    "duration": 19,
    "start_time": "2022-02-19T13:15:45.478Z"
   },
   {
    "duration": 13,
    "start_time": "2022-02-19T13:15:45.499Z"
   },
   {
    "duration": 24,
    "start_time": "2022-02-19T13:15:45.514Z"
   },
   {
    "duration": 8,
    "start_time": "2022-02-19T13:15:45.559Z"
   },
   {
    "duration": 202,
    "start_time": "2022-02-19T13:16:33.451Z"
   },
   {
    "duration": 53,
    "start_time": "2022-02-19T13:16:38.407Z"
   },
   {
    "duration": 12,
    "start_time": "2022-02-19T13:16:38.462Z"
   },
   {
    "duration": 15,
    "start_time": "2022-02-19T13:16:38.476Z"
   },
   {
    "duration": 13,
    "start_time": "2022-02-19T13:16:38.493Z"
   },
   {
    "duration": 408,
    "start_time": "2022-02-19T13:16:38.508Z"
   },
   {
    "duration": 10,
    "start_time": "2022-02-19T13:16:38.918Z"
   },
   {
    "duration": 17,
    "start_time": "2022-02-19T13:16:38.930Z"
   },
   {
    "duration": 21,
    "start_time": "2022-02-19T13:16:38.960Z"
   },
   {
    "duration": 18,
    "start_time": "2022-02-19T13:16:38.983Z"
   },
   {
    "duration": 28,
    "start_time": "2022-02-19T13:16:39.003Z"
   },
   {
    "duration": 37,
    "start_time": "2022-02-19T13:16:39.033Z"
   },
   {
    "duration": 11,
    "start_time": "2022-02-19T13:16:39.072Z"
   },
   {
    "duration": 11,
    "start_time": "2022-02-19T13:16:39.085Z"
   },
   {
    "duration": 10,
    "start_time": "2022-02-19T13:16:39.098Z"
   },
   {
    "duration": 745,
    "start_time": "2022-02-19T13:16:39.110Z"
   },
   {
    "duration": 10,
    "start_time": "2022-02-19T13:16:39.859Z"
   },
   {
    "duration": 24,
    "start_time": "2022-02-19T13:16:39.871Z"
   },
   {
    "duration": 15,
    "start_time": "2022-02-19T13:16:39.897Z"
   },
   {
    "duration": 24,
    "start_time": "2022-02-19T13:16:39.914Z"
   },
   {
    "duration": 22,
    "start_time": "2022-02-19T13:16:39.940Z"
   },
   {
    "duration": 201,
    "start_time": "2022-02-19T13:16:53.018Z"
   },
   {
    "duration": 54,
    "start_time": "2022-02-19T13:16:56.456Z"
   },
   {
    "duration": 12,
    "start_time": "2022-02-19T13:16:56.512Z"
   },
   {
    "duration": 12,
    "start_time": "2022-02-19T13:16:56.526Z"
   },
   {
    "duration": 14,
    "start_time": "2022-02-19T13:16:56.560Z"
   },
   {
    "duration": 397,
    "start_time": "2022-02-19T13:16:56.576Z"
   },
   {
    "duration": 11,
    "start_time": "2022-02-19T13:16:56.975Z"
   },
   {
    "duration": 20,
    "start_time": "2022-02-19T13:16:56.988Z"
   },
   {
    "duration": 32,
    "start_time": "2022-02-19T13:16:57.010Z"
   },
   {
    "duration": 24,
    "start_time": "2022-02-19T13:16:57.044Z"
   },
   {
    "duration": 28,
    "start_time": "2022-02-19T13:16:57.070Z"
   },
   {
    "duration": 11,
    "start_time": "2022-02-19T13:16:57.100Z"
   },
   {
    "duration": 11,
    "start_time": "2022-02-19T13:16:57.112Z"
   },
   {
    "duration": 38,
    "start_time": "2022-02-19T13:16:57.125Z"
   },
   {
    "duration": 10,
    "start_time": "2022-02-19T13:16:57.165Z"
   },
   {
    "duration": 720,
    "start_time": "2022-02-19T13:16:57.177Z"
   },
   {
    "duration": 10,
    "start_time": "2022-02-19T13:16:57.899Z"
   },
   {
    "duration": 17,
    "start_time": "2022-02-19T13:16:57.911Z"
   },
   {
    "duration": 32,
    "start_time": "2022-02-19T13:16:57.930Z"
   },
   {
    "duration": 21,
    "start_time": "2022-02-19T13:16:57.963Z"
   },
   {
    "duration": 7,
    "start_time": "2022-02-19T13:16:57.986Z"
   },
   {
    "duration": 36,
    "start_time": "2022-02-19T13:21:05.943Z"
   },
   {
    "duration": 4768,
    "start_time": "2022-02-19T13:23:23.051Z"
   },
   {
    "duration": 58,
    "start_time": "2022-02-19T13:23:31.075Z"
   },
   {
    "duration": 13,
    "start_time": "2022-02-19T13:23:31.135Z"
   },
   {
    "duration": 17,
    "start_time": "2022-02-19T13:23:31.151Z"
   },
   {
    "duration": 27,
    "start_time": "2022-02-19T13:23:31.171Z"
   },
   {
    "duration": 369,
    "start_time": "2022-02-19T13:23:31.200Z"
   },
   {
    "duration": 10,
    "start_time": "2022-02-19T13:23:31.571Z"
   },
   {
    "duration": 23,
    "start_time": "2022-02-19T13:23:31.582Z"
   },
   {
    "duration": 19,
    "start_time": "2022-02-19T13:23:31.607Z"
   },
   {
    "duration": 35,
    "start_time": "2022-02-19T13:23:31.629Z"
   },
   {
    "duration": 28,
    "start_time": "2022-02-19T13:23:31.666Z"
   },
   {
    "duration": 12,
    "start_time": "2022-02-19T13:23:31.696Z"
   },
   {
    "duration": 10,
    "start_time": "2022-02-19T13:23:31.710Z"
   },
   {
    "duration": 39,
    "start_time": "2022-02-19T13:23:31.721Z"
   },
   {
    "duration": 10,
    "start_time": "2022-02-19T13:23:31.762Z"
   },
   {
    "duration": 706,
    "start_time": "2022-02-19T13:23:31.774Z"
   },
   {
    "duration": 9,
    "start_time": "2022-02-19T13:23:32.482Z"
   },
   {
    "duration": 16,
    "start_time": "2022-02-19T13:23:32.493Z"
   },
   {
    "duration": 7,
    "start_time": "2022-02-19T13:23:32.511Z"
   },
   {
    "duration": 48,
    "start_time": "2022-02-19T13:23:32.520Z"
   },
   {
    "duration": 7,
    "start_time": "2022-02-19T13:23:32.570Z"
   },
   {
    "duration": 4766,
    "start_time": "2022-02-19T13:23:32.579Z"
   },
   {
    "duration": -132,
    "start_time": "2022-02-19T13:23:37.479Z"
   },
   {
    "duration": 5098,
    "start_time": "2022-02-19T13:25:00.554Z"
   },
   {
    "duration": 51,
    "start_time": "2022-02-19T13:25:24.862Z"
   },
   {
    "duration": 12,
    "start_time": "2022-02-19T13:25:24.915Z"
   },
   {
    "duration": 10,
    "start_time": "2022-02-19T13:25:24.928Z"
   },
   {
    "duration": 13,
    "start_time": "2022-02-19T13:25:24.958Z"
   },
   {
    "duration": 382,
    "start_time": "2022-02-19T13:25:24.972Z"
   },
   {
    "duration": 10,
    "start_time": "2022-02-19T13:25:25.359Z"
   },
   {
    "duration": 12,
    "start_time": "2022-02-19T13:25:25.370Z"
   },
   {
    "duration": 19,
    "start_time": "2022-02-19T13:25:25.384Z"
   },
   {
    "duration": 20,
    "start_time": "2022-02-19T13:25:25.406Z"
   },
   {
    "duration": 57,
    "start_time": "2022-02-19T13:25:25.428Z"
   },
   {
    "duration": 10,
    "start_time": "2022-02-19T13:25:25.487Z"
   },
   {
    "duration": 10,
    "start_time": "2022-02-19T13:25:25.499Z"
   },
   {
    "duration": 10,
    "start_time": "2022-02-19T13:25:25.511Z"
   },
   {
    "duration": 44,
    "start_time": "2022-02-19T13:25:25.523Z"
   },
   {
    "duration": 709,
    "start_time": "2022-02-19T13:25:25.568Z"
   },
   {
    "duration": 9,
    "start_time": "2022-02-19T13:25:26.279Z"
   },
   {
    "duration": 28,
    "start_time": "2022-02-19T13:25:26.290Z"
   },
   {
    "duration": 33,
    "start_time": "2022-02-19T13:25:26.320Z"
   },
   {
    "duration": 47,
    "start_time": "2022-02-19T13:25:26.355Z"
   },
   {
    "duration": 19,
    "start_time": "2022-02-19T13:25:26.404Z"
   },
   {
    "duration": 4891,
    "start_time": "2022-02-19T13:25:26.425Z"
   },
   {
    "duration": -55,
    "start_time": "2022-02-19T13:25:31.373Z"
   },
   {
    "duration": 11,
    "start_time": "2022-02-19T13:32:52.903Z"
   },
   {
    "duration": 11,
    "start_time": "2022-02-19T13:33:44.256Z"
   },
   {
    "duration": 10,
    "start_time": "2022-02-19T13:34:34.233Z"
   },
   {
    "duration": 10,
    "start_time": "2022-02-19T13:35:29.800Z"
   },
   {
    "duration": 8,
    "start_time": "2022-02-19T13:37:36.969Z"
   },
   {
    "duration": 9,
    "start_time": "2022-02-19T13:38:54.912Z"
   },
   {
    "duration": 11,
    "start_time": "2022-02-19T14:15:42.578Z"
   },
   {
    "duration": 56,
    "start_time": "2022-02-19T14:16:05.297Z"
   },
   {
    "duration": 13,
    "start_time": "2022-02-19T14:16:05.355Z"
   },
   {
    "duration": 16,
    "start_time": "2022-02-19T14:16:05.370Z"
   },
   {
    "duration": 14,
    "start_time": "2022-02-19T14:16:05.388Z"
   },
   {
    "duration": 397,
    "start_time": "2022-02-19T14:16:05.404Z"
   },
   {
    "duration": 11,
    "start_time": "2022-02-19T14:16:05.803Z"
   },
   {
    "duration": 12,
    "start_time": "2022-02-19T14:16:05.815Z"
   },
   {
    "duration": 30,
    "start_time": "2022-02-19T14:16:05.829Z"
   },
   {
    "duration": 9,
    "start_time": "2022-02-19T14:16:05.862Z"
   },
   {
    "duration": 13,
    "start_time": "2022-02-19T14:16:05.873Z"
   },
   {
    "duration": 18,
    "start_time": "2022-02-19T14:16:05.888Z"
   },
   {
    "duration": 19,
    "start_time": "2022-02-19T14:16:05.907Z"
   },
   {
    "duration": 41,
    "start_time": "2022-02-19T14:16:05.928Z"
   },
   {
    "duration": 28,
    "start_time": "2022-02-19T14:16:05.970Z"
   },
   {
    "duration": 12,
    "start_time": "2022-02-19T14:16:06.000Z"
   },
   {
    "duration": 11,
    "start_time": "2022-02-19T14:16:06.014Z"
   },
   {
    "duration": 36,
    "start_time": "2022-02-19T14:16:06.027Z"
   },
   {
    "duration": 27,
    "start_time": "2022-02-19T14:16:06.065Z"
   },
   {
    "duration": 704,
    "start_time": "2022-02-19T14:16:06.094Z"
   },
   {
    "duration": 9,
    "start_time": "2022-02-19T14:16:06.800Z"
   },
   {
    "duration": 18,
    "start_time": "2022-02-19T14:16:06.811Z"
   },
   {
    "duration": 32,
    "start_time": "2022-02-19T14:16:06.831Z"
   },
   {
    "duration": 21,
    "start_time": "2022-02-19T14:16:06.865Z"
   },
   {
    "duration": 8,
    "start_time": "2022-02-19T14:16:06.888Z"
   },
   {
    "duration": 5075,
    "start_time": "2022-02-19T14:16:06.897Z"
   },
   {
    "duration": -92,
    "start_time": "2022-02-19T14:16:12.066Z"
   },
   {
    "duration": 13,
    "start_time": "2022-02-19T14:16:35.764Z"
   },
   {
    "duration": 1088,
    "start_time": "2022-02-19T14:17:17.873Z"
   },
   {
    "duration": 58,
    "start_time": "2022-02-19T14:17:34.977Z"
   },
   {
    "duration": 13,
    "start_time": "2022-02-19T14:17:35.037Z"
   },
   {
    "duration": 9,
    "start_time": "2022-02-19T14:17:35.060Z"
   },
   {
    "duration": 22,
    "start_time": "2022-02-19T14:17:35.071Z"
   },
   {
    "duration": 411,
    "start_time": "2022-02-19T14:17:35.094Z"
   },
   {
    "duration": 11,
    "start_time": "2022-02-19T14:17:35.507Z"
   },
   {
    "duration": 18,
    "start_time": "2022-02-19T14:17:35.520Z"
   },
   {
    "duration": 23,
    "start_time": "2022-02-19T14:17:35.540Z"
   },
   {
    "duration": 9,
    "start_time": "2022-02-19T14:17:35.565Z"
   },
   {
    "duration": 7,
    "start_time": "2022-02-19T14:17:35.576Z"
   },
   {
    "duration": 20,
    "start_time": "2022-02-19T14:17:35.585Z"
   },
   {
    "duration": 20,
    "start_time": "2022-02-19T14:17:35.607Z"
   },
   {
    "duration": 41,
    "start_time": "2022-02-19T14:17:35.628Z"
   },
   {
    "duration": 27,
    "start_time": "2022-02-19T14:17:35.670Z"
   },
   {
    "duration": 11,
    "start_time": "2022-02-19T14:17:35.699Z"
   },
   {
    "duration": 12,
    "start_time": "2022-02-19T14:17:35.712Z"
   },
   {
    "duration": 39,
    "start_time": "2022-02-19T14:17:35.726Z"
   },
   {
    "duration": 17,
    "start_time": "2022-02-19T14:17:35.767Z"
   },
   {
    "duration": 730,
    "start_time": "2022-02-19T14:17:35.786Z"
   },
   {
    "duration": 10,
    "start_time": "2022-02-19T14:17:36.518Z"
   },
   {
    "duration": 32,
    "start_time": "2022-02-19T14:17:36.530Z"
   },
   {
    "duration": 8,
    "start_time": "2022-02-19T14:17:36.563Z"
   },
   {
    "duration": 24,
    "start_time": "2022-02-19T14:17:36.574Z"
   },
   {
    "duration": 7,
    "start_time": "2022-02-19T14:17:36.600Z"
   },
   {
    "duration": 13,
    "start_time": "2022-02-19T14:17:36.609Z"
   },
   {
    "duration": 69,
    "start_time": "2022-02-19T14:17:36.624Z"
   },
   {
    "duration": 21,
    "start_time": "2022-02-19T14:18:46.927Z"
   },
   {
    "duration": 9,
    "start_time": "2022-02-19T14:18:58.908Z"
   },
   {
    "duration": 879,
    "start_time": "2022-02-19T14:19:04.408Z"
   },
   {
    "duration": 52,
    "start_time": "2022-02-19T14:19:08.966Z"
   },
   {
    "duration": 14,
    "start_time": "2022-02-19T14:19:09.020Z"
   },
   {
    "duration": 16,
    "start_time": "2022-02-19T14:19:09.036Z"
   },
   {
    "duration": 13,
    "start_time": "2022-02-19T14:19:09.060Z"
   },
   {
    "duration": 462,
    "start_time": "2022-02-19T14:19:09.075Z"
   },
   {
    "duration": 19,
    "start_time": "2022-02-19T14:19:09.540Z"
   },
   {
    "duration": 16,
    "start_time": "2022-02-19T14:19:09.561Z"
   },
   {
    "duration": 12,
    "start_time": "2022-02-19T14:19:09.580Z"
   },
   {
    "duration": 14,
    "start_time": "2022-02-19T14:19:09.594Z"
   },
   {
    "duration": 9,
    "start_time": "2022-02-19T14:19:09.610Z"
   },
   {
    "duration": 54,
    "start_time": "2022-02-19T14:19:09.621Z"
   },
   {
    "duration": 23,
    "start_time": "2022-02-19T14:19:09.677Z"
   },
   {
    "duration": 19,
    "start_time": "2022-02-19T14:19:09.702Z"
   },
   {
    "duration": 54,
    "start_time": "2022-02-19T14:19:09.723Z"
   },
   {
    "duration": 13,
    "start_time": "2022-02-19T14:19:09.780Z"
   },
   {
    "duration": 12,
    "start_time": "2022-02-19T14:19:09.794Z"
   },
   {
    "duration": 11,
    "start_time": "2022-02-19T14:19:09.808Z"
   },
   {
    "duration": 45,
    "start_time": "2022-02-19T14:19:09.821Z"
   },
   {
    "duration": 756,
    "start_time": "2022-02-19T14:19:09.868Z"
   },
   {
    "duration": 9,
    "start_time": "2022-02-19T14:19:10.626Z"
   },
   {
    "duration": 34,
    "start_time": "2022-02-19T14:19:10.637Z"
   },
   {
    "duration": 14,
    "start_time": "2022-02-19T14:19:10.673Z"
   },
   {
    "duration": 24,
    "start_time": "2022-02-19T14:19:10.689Z"
   },
   {
    "duration": 7,
    "start_time": "2022-02-19T14:19:10.715Z"
   },
   {
    "duration": 35,
    "start_time": "2022-02-19T14:19:10.724Z"
   },
   {
    "duration": 37,
    "start_time": "2022-02-19T14:19:10.761Z"
   },
   {
    "duration": 201,
    "start_time": "2022-02-19T14:35:19.630Z"
   },
   {
    "duration": 228,
    "start_time": "2022-02-19T14:35:55.081Z"
   },
   {
    "duration": 235,
    "start_time": "2022-02-19T14:37:56.893Z"
   },
   {
    "duration": 207,
    "start_time": "2022-02-19T14:40:15.017Z"
   },
   {
    "duration": 59,
    "start_time": "2022-02-19T14:40:20.605Z"
   },
   {
    "duration": 14,
    "start_time": "2022-02-19T14:40:20.667Z"
   },
   {
    "duration": 19,
    "start_time": "2022-02-19T14:40:20.683Z"
   },
   {
    "duration": 25,
    "start_time": "2022-02-19T14:40:20.704Z"
   },
   {
    "duration": 401,
    "start_time": "2022-02-19T14:40:20.731Z"
   },
   {
    "duration": 10,
    "start_time": "2022-02-19T14:40:21.134Z"
   },
   {
    "duration": 34,
    "start_time": "2022-02-19T14:40:21.146Z"
   },
   {
    "duration": 27,
    "start_time": "2022-02-19T14:40:21.182Z"
   },
   {
    "duration": 8,
    "start_time": "2022-02-19T14:40:21.212Z"
   },
   {
    "duration": 13,
    "start_time": "2022-02-19T14:40:21.222Z"
   },
   {
    "duration": 60,
    "start_time": "2022-02-19T14:40:21.237Z"
   },
   {
    "duration": 25,
    "start_time": "2022-02-19T14:40:21.299Z"
   },
   {
    "duration": 23,
    "start_time": "2022-02-19T14:40:21.326Z"
   },
   {
    "duration": 30,
    "start_time": "2022-02-19T14:40:21.351Z"
   },
   {
    "duration": 14,
    "start_time": "2022-02-19T14:40:21.383Z"
   },
   {
    "duration": 23,
    "start_time": "2022-02-19T14:40:21.398Z"
   },
   {
    "duration": 13,
    "start_time": "2022-02-19T14:40:21.423Z"
   },
   {
    "duration": 47,
    "start_time": "2022-02-19T14:40:21.438Z"
   },
   {
    "duration": 721,
    "start_time": "2022-02-19T14:40:21.487Z"
   },
   {
    "duration": 10,
    "start_time": "2022-02-19T14:40:22.210Z"
   },
   {
    "duration": 37,
    "start_time": "2022-02-19T14:40:22.222Z"
   },
   {
    "duration": 8,
    "start_time": "2022-02-19T14:40:22.261Z"
   },
   {
    "duration": 24,
    "start_time": "2022-02-19T14:40:22.270Z"
   },
   {
    "duration": 20,
    "start_time": "2022-02-19T14:40:22.295Z"
   },
   {
    "duration": 40,
    "start_time": "2022-02-19T14:40:22.317Z"
   },
   {
    "duration": 53,
    "start_time": "2022-02-19T14:40:22.358Z"
   },
   {
    "duration": 219,
    "start_time": "2022-02-19T14:40:22.414Z"
   },
   {
    "duration": 194,
    "start_time": "2022-02-19T14:41:23.576Z"
   },
   {
    "duration": 51,
    "start_time": "2022-02-19T14:42:18.586Z"
   },
   {
    "duration": 13,
    "start_time": "2022-02-19T14:42:18.639Z"
   },
   {
    "duration": 12,
    "start_time": "2022-02-19T14:42:18.654Z"
   },
   {
    "duration": 12,
    "start_time": "2022-02-19T14:42:18.668Z"
   },
   {
    "duration": 372,
    "start_time": "2022-02-19T14:42:18.682Z"
   },
   {
    "duration": 10,
    "start_time": "2022-02-19T14:42:19.055Z"
   },
   {
    "duration": 14,
    "start_time": "2022-02-19T14:42:19.066Z"
   },
   {
    "duration": 10,
    "start_time": "2022-02-19T14:42:19.081Z"
   },
   {
    "duration": 7,
    "start_time": "2022-02-19T14:42:19.094Z"
   },
   {
    "duration": 18,
    "start_time": "2022-02-19T14:42:19.103Z"
   },
   {
    "duration": 40,
    "start_time": "2022-02-19T14:42:19.122Z"
   },
   {
    "duration": 20,
    "start_time": "2022-02-19T14:42:19.164Z"
   },
   {
    "duration": 16,
    "start_time": "2022-02-19T14:42:19.185Z"
   },
   {
    "duration": 27,
    "start_time": "2022-02-19T14:42:19.203Z"
   },
   {
    "duration": 36,
    "start_time": "2022-02-19T14:42:19.232Z"
   },
   {
    "duration": 11,
    "start_time": "2022-02-19T14:42:19.270Z"
   },
   {
    "duration": 10,
    "start_time": "2022-02-19T14:42:19.283Z"
   },
   {
    "duration": 15,
    "start_time": "2022-02-19T14:42:19.295Z"
   },
   {
    "duration": 10,
    "start_time": "2022-02-19T14:42:19.312Z"
   },
   {
    "duration": 722,
    "start_time": "2022-02-19T14:42:19.360Z"
   },
   {
    "duration": 10,
    "start_time": "2022-02-19T14:42:20.084Z"
   },
   {
    "duration": 18,
    "start_time": "2022-02-19T14:42:20.095Z"
   },
   {
    "duration": 16,
    "start_time": "2022-02-19T14:42:20.114Z"
   },
   {
    "duration": 41,
    "start_time": "2022-02-19T14:42:20.132Z"
   },
   {
    "duration": 7,
    "start_time": "2022-02-19T14:42:20.175Z"
   },
   {
    "duration": 19,
    "start_time": "2022-02-19T14:42:20.183Z"
   },
   {
    "duration": 53,
    "start_time": "2022-02-19T14:42:20.206Z"
   },
   {
    "duration": 236,
    "start_time": "2022-02-19T14:42:20.260Z"
   },
   {
    "duration": 229,
    "start_time": "2022-02-19T14:44:05.687Z"
   },
   {
    "duration": 197,
    "start_time": "2022-02-19T14:46:10.873Z"
   },
   {
    "duration": 50,
    "start_time": "2022-02-19T14:46:30.608Z"
   },
   {
    "duration": 59,
    "start_time": "2022-02-19T14:47:18.939Z"
   },
   {
    "duration": 14,
    "start_time": "2022-02-19T14:47:19.000Z"
   },
   {
    "duration": 14,
    "start_time": "2022-02-19T14:47:19.016Z"
   },
   {
    "duration": 33,
    "start_time": "2022-02-19T14:47:19.032Z"
   },
   {
    "duration": 381,
    "start_time": "2022-02-19T14:47:19.067Z"
   },
   {
    "duration": 14,
    "start_time": "2022-02-19T14:47:19.450Z"
   },
   {
    "duration": 13,
    "start_time": "2022-02-19T14:47:19.465Z"
   },
   {
    "duration": 12,
    "start_time": "2022-02-19T14:47:19.479Z"
   },
   {
    "duration": 8,
    "start_time": "2022-02-19T14:47:19.493Z"
   },
   {
    "duration": 7,
    "start_time": "2022-02-19T14:47:19.503Z"
   },
   {
    "duration": 18,
    "start_time": "2022-02-19T14:47:19.512Z"
   },
   {
    "duration": 19,
    "start_time": "2022-02-19T14:47:19.559Z"
   },
   {
    "duration": 15,
    "start_time": "2022-02-19T14:47:19.580Z"
   },
   {
    "duration": 26,
    "start_time": "2022-02-19T14:47:19.597Z"
   },
   {
    "duration": 40,
    "start_time": "2022-02-19T14:47:19.625Z"
   },
   {
    "duration": 11,
    "start_time": "2022-02-19T14:47:19.667Z"
   },
   {
    "duration": 10,
    "start_time": "2022-02-19T14:47:19.680Z"
   },
   {
    "duration": 14,
    "start_time": "2022-02-19T14:47:19.692Z"
   },
   {
    "duration": 746,
    "start_time": "2022-02-19T14:47:19.708Z"
   },
   {
    "duration": 10,
    "start_time": "2022-02-19T14:47:20.459Z"
   },
   {
    "duration": 18,
    "start_time": "2022-02-19T14:47:20.471Z"
   },
   {
    "duration": 17,
    "start_time": "2022-02-19T14:47:20.490Z"
   },
   {
    "duration": 24,
    "start_time": "2022-02-19T14:47:20.509Z"
   },
   {
    "duration": 8,
    "start_time": "2022-02-19T14:47:20.559Z"
   },
   {
    "duration": 18,
    "start_time": "2022-02-19T14:47:20.569Z"
   },
   {
    "duration": 38,
    "start_time": "2022-02-19T14:47:20.589Z"
   },
   {
    "duration": 72,
    "start_time": "2022-02-19T14:47:20.631Z"
   },
   {
    "duration": 51,
    "start_time": "2022-02-19T14:50:08.343Z"
   },
   {
    "duration": 12,
    "start_time": "2022-02-19T14:50:08.396Z"
   },
   {
    "duration": 15,
    "start_time": "2022-02-19T14:50:08.410Z"
   },
   {
    "duration": 33,
    "start_time": "2022-02-19T14:50:08.427Z"
   },
   {
    "duration": 374,
    "start_time": "2022-02-19T14:50:08.462Z"
   },
   {
    "duration": 9,
    "start_time": "2022-02-19T14:50:08.838Z"
   },
   {
    "duration": 11,
    "start_time": "2022-02-19T14:50:08.859Z"
   },
   {
    "duration": 14,
    "start_time": "2022-02-19T14:50:08.872Z"
   },
   {
    "duration": 12,
    "start_time": "2022-02-19T14:50:08.888Z"
   },
   {
    "duration": 7,
    "start_time": "2022-02-19T14:50:08.902Z"
   },
   {
    "duration": 19,
    "start_time": "2022-02-19T14:50:08.910Z"
   },
   {
    "duration": 44,
    "start_time": "2022-02-19T14:50:08.930Z"
   },
   {
    "duration": 16,
    "start_time": "2022-02-19T14:50:08.975Z"
   },
   {
    "duration": 26,
    "start_time": "2022-02-19T14:50:08.993Z"
   },
   {
    "duration": 10,
    "start_time": "2022-02-19T14:50:09.021Z"
   },
   {
    "duration": 36,
    "start_time": "2022-02-19T14:50:09.033Z"
   },
   {
    "duration": 11,
    "start_time": "2022-02-19T14:50:09.070Z"
   },
   {
    "duration": 17,
    "start_time": "2022-02-19T14:50:09.083Z"
   },
   {
    "duration": 743,
    "start_time": "2022-02-19T14:50:09.102Z"
   },
   {
    "duration": 14,
    "start_time": "2022-02-19T14:50:09.847Z"
   },
   {
    "duration": 18,
    "start_time": "2022-02-19T14:50:09.863Z"
   },
   {
    "duration": 8,
    "start_time": "2022-02-19T14:50:09.884Z"
   },
   {
    "duration": 25,
    "start_time": "2022-02-19T14:50:09.895Z"
   },
   {
    "duration": 37,
    "start_time": "2022-02-19T14:50:09.923Z"
   },
   {
    "duration": 14,
    "start_time": "2022-02-19T14:50:09.963Z"
   },
   {
    "duration": 41,
    "start_time": "2022-02-19T14:50:09.979Z"
   },
   {
    "duration": 79,
    "start_time": "2022-02-19T14:50:10.022Z"
   },
   {
    "duration": 642,
    "start_time": "2022-02-19T20:35:02.814Z"
   },
   {
    "duration": 17,
    "start_time": "2022-02-19T20:35:03.459Z"
   },
   {
    "duration": 9,
    "start_time": "2022-02-19T20:35:03.478Z"
   },
   {
    "duration": 12,
    "start_time": "2022-02-19T20:35:03.490Z"
   },
   {
    "duration": 395,
    "start_time": "2022-02-19T20:35:03.504Z"
   },
   {
    "duration": 10,
    "start_time": "2022-02-19T20:35:03.901Z"
   },
   {
    "duration": 24,
    "start_time": "2022-02-19T20:35:03.913Z"
   },
   {
    "duration": 10,
    "start_time": "2022-02-19T20:35:03.938Z"
   },
   {
    "duration": 9,
    "start_time": "2022-02-19T20:35:03.951Z"
   },
   {
    "duration": 8,
    "start_time": "2022-02-19T20:35:03.962Z"
   },
   {
    "duration": 12,
    "start_time": "2022-02-19T20:35:03.972Z"
   },
   {
    "duration": 52,
    "start_time": "2022-02-19T20:35:03.985Z"
   },
   {
    "duration": 18,
    "start_time": "2022-02-19T20:35:04.039Z"
   },
   {
    "duration": 28,
    "start_time": "2022-02-19T20:35:04.059Z"
   },
   {
    "duration": 11,
    "start_time": "2022-02-19T20:35:04.088Z"
   },
   {
    "duration": 37,
    "start_time": "2022-02-19T20:35:04.101Z"
   },
   {
    "duration": 10,
    "start_time": "2022-02-19T20:35:04.140Z"
   },
   {
    "duration": 9,
    "start_time": "2022-02-19T20:35:04.152Z"
   },
   {
    "duration": 700,
    "start_time": "2022-02-19T20:35:04.163Z"
   },
   {
    "duration": 8,
    "start_time": "2022-02-19T20:35:04.865Z"
   },
   {
    "duration": 16,
    "start_time": "2022-02-19T20:35:04.875Z"
   },
   {
    "duration": 9,
    "start_time": "2022-02-19T20:35:04.892Z"
   },
   {
    "duration": 46,
    "start_time": "2022-02-19T20:35:04.903Z"
   },
   {
    "duration": 7,
    "start_time": "2022-02-19T20:35:04.951Z"
   },
   {
    "duration": 13,
    "start_time": "2022-02-19T20:35:04.959Z"
   },
   {
    "duration": 67,
    "start_time": "2022-02-19T20:35:04.973Z"
   },
   {
    "duration": 248,
    "start_time": "2022-02-19T20:35:05.043Z"
   },
   {
    "duration": 50,
    "start_time": "2022-02-19T20:38:07.528Z"
   },
   {
    "duration": 12,
    "start_time": "2022-02-19T20:38:07.580Z"
   },
   {
    "duration": 37,
    "start_time": "2022-02-19T20:38:07.594Z"
   },
   {
    "duration": 12,
    "start_time": "2022-02-19T20:38:07.633Z"
   },
   {
    "duration": 401,
    "start_time": "2022-02-19T20:38:07.647Z"
   },
   {
    "duration": 11,
    "start_time": "2022-02-19T20:38:08.049Z"
   },
   {
    "duration": 12,
    "start_time": "2022-02-19T20:38:08.061Z"
   },
   {
    "duration": 11,
    "start_time": "2022-02-19T20:38:08.077Z"
   },
   {
    "duration": 7,
    "start_time": "2022-02-19T20:38:08.090Z"
   },
   {
    "duration": 8,
    "start_time": "2022-02-19T20:38:08.131Z"
   },
   {
    "duration": 13,
    "start_time": "2022-02-19T20:38:08.141Z"
   },
   {
    "duration": 20,
    "start_time": "2022-02-19T20:38:08.155Z"
   },
   {
    "duration": 16,
    "start_time": "2022-02-19T20:38:08.178Z"
   },
   {
    "duration": 56,
    "start_time": "2022-02-19T20:38:08.196Z"
   },
   {
    "duration": 11,
    "start_time": "2022-02-19T20:38:08.254Z"
   },
   {
    "duration": 9,
    "start_time": "2022-02-19T20:38:08.267Z"
   },
   {
    "duration": 22,
    "start_time": "2022-02-19T20:38:08.278Z"
   },
   {
    "duration": 29,
    "start_time": "2022-02-19T20:38:08.301Z"
   },
   {
    "duration": 706,
    "start_time": "2022-02-19T20:38:08.331Z"
   },
   {
    "duration": 9,
    "start_time": "2022-02-19T20:38:09.040Z"
   },
   {
    "duration": 16,
    "start_time": "2022-02-19T20:38:09.051Z"
   },
   {
    "duration": 9,
    "start_time": "2022-02-19T20:38:09.069Z"
   },
   {
    "duration": 21,
    "start_time": "2022-02-19T20:38:09.081Z"
   },
   {
    "duration": 8,
    "start_time": "2022-02-19T20:38:09.131Z"
   },
   {
    "duration": 13,
    "start_time": "2022-02-19T20:38:09.140Z"
   },
   {
    "duration": 37,
    "start_time": "2022-02-19T20:38:09.154Z"
   },
   {
    "duration": 206,
    "start_time": "2022-02-19T20:38:09.192Z"
   },
   {
    "duration": -18,
    "start_time": "2022-02-19T20:38:09.418Z"
   },
   {
    "duration": 186,
    "start_time": "2022-02-19T20:40:15.357Z"
   },
   {
    "duration": 52,
    "start_time": "2022-02-19T20:40:30.502Z"
   },
   {
    "duration": 12,
    "start_time": "2022-02-19T20:40:30.555Z"
   },
   {
    "duration": 15,
    "start_time": "2022-02-19T20:40:30.570Z"
   },
   {
    "duration": 15,
    "start_time": "2022-02-19T20:40:30.587Z"
   },
   {
    "duration": 420,
    "start_time": "2022-02-19T20:40:30.604Z"
   },
   {
    "duration": 14,
    "start_time": "2022-02-19T20:40:31.026Z"
   },
   {
    "duration": 12,
    "start_time": "2022-02-19T20:40:31.042Z"
   },
   {
    "duration": 15,
    "start_time": "2022-02-19T20:40:31.056Z"
   },
   {
    "duration": 13,
    "start_time": "2022-02-19T20:40:31.073Z"
   },
   {
    "duration": 27,
    "start_time": "2022-02-19T20:40:31.088Z"
   },
   {
    "duration": 26,
    "start_time": "2022-02-19T20:40:31.117Z"
   },
   {
    "duration": 20,
    "start_time": "2022-02-19T20:40:31.144Z"
   },
   {
    "duration": 18,
    "start_time": "2022-02-19T20:40:31.166Z"
   },
   {
    "duration": 48,
    "start_time": "2022-02-19T20:40:31.185Z"
   },
   {
    "duration": 17,
    "start_time": "2022-02-19T20:40:31.235Z"
   },
   {
    "duration": 11,
    "start_time": "2022-02-19T20:40:31.254Z"
   },
   {
    "duration": 11,
    "start_time": "2022-02-19T20:40:31.267Z"
   },
   {
    "duration": 14,
    "start_time": "2022-02-19T20:40:31.280Z"
   },
   {
    "duration": 718,
    "start_time": "2022-02-19T20:40:31.295Z"
   },
   {
    "duration": 17,
    "start_time": "2022-02-19T20:40:32.015Z"
   },
   {
    "duration": 16,
    "start_time": "2022-02-19T20:40:32.033Z"
   },
   {
    "duration": 9,
    "start_time": "2022-02-19T20:40:32.051Z"
   },
   {
    "duration": 19,
    "start_time": "2022-02-19T20:40:32.062Z"
   },
   {
    "duration": 6,
    "start_time": "2022-02-19T20:40:32.083Z"
   },
   {
    "duration": 45,
    "start_time": "2022-02-19T20:40:32.091Z"
   },
   {
    "duration": 40,
    "start_time": "2022-02-19T20:40:32.138Z"
   },
   {
    "duration": 196,
    "start_time": "2022-02-19T20:40:32.181Z"
   },
   {
    "duration": -13,
    "start_time": "2022-02-19T20:40:32.393Z"
   },
   {
    "duration": 186,
    "start_time": "2022-02-19T20:45:44.649Z"
   },
   {
    "duration": 53,
    "start_time": "2022-02-19T20:45:48.448Z"
   },
   {
    "duration": 15,
    "start_time": "2022-02-19T20:45:48.503Z"
   },
   {
    "duration": 15,
    "start_time": "2022-02-19T20:45:48.521Z"
   },
   {
    "duration": 14,
    "start_time": "2022-02-19T20:45:48.539Z"
   },
   {
    "duration": 414,
    "start_time": "2022-02-19T20:45:48.555Z"
   },
   {
    "duration": 10,
    "start_time": "2022-02-19T20:45:48.971Z"
   },
   {
    "duration": 12,
    "start_time": "2022-02-19T20:45:48.983Z"
   },
   {
    "duration": 37,
    "start_time": "2022-02-19T20:45:48.997Z"
   },
   {
    "duration": 10,
    "start_time": "2022-02-19T20:45:49.037Z"
   },
   {
    "duration": 7,
    "start_time": "2022-02-19T20:45:49.050Z"
   },
   {
    "duration": 16,
    "start_time": "2022-02-19T20:45:49.059Z"
   },
   {
    "duration": 56,
    "start_time": "2022-02-19T20:45:49.077Z"
   },
   {
    "duration": 18,
    "start_time": "2022-02-19T20:45:49.135Z"
   },
   {
    "duration": 29,
    "start_time": "2022-02-19T20:45:49.155Z"
   },
   {
    "duration": 51,
    "start_time": "2022-02-19T20:45:49.186Z"
   },
   {
    "duration": 12,
    "start_time": "2022-02-19T20:45:49.239Z"
   },
   {
    "duration": 20,
    "start_time": "2022-02-19T20:45:49.253Z"
   },
   {
    "duration": 10,
    "start_time": "2022-02-19T20:45:49.275Z"
   },
   {
    "duration": 732,
    "start_time": "2022-02-19T20:45:49.287Z"
   },
   {
    "duration": 16,
    "start_time": "2022-02-19T20:45:50.022Z"
   },
   {
    "duration": 20,
    "start_time": "2022-02-19T20:45:50.040Z"
   },
   {
    "duration": 11,
    "start_time": "2022-02-19T20:45:50.062Z"
   },
   {
    "duration": 56,
    "start_time": "2022-02-19T20:45:50.075Z"
   },
   {
    "duration": 8,
    "start_time": "2022-02-19T20:45:50.133Z"
   },
   {
    "duration": 13,
    "start_time": "2022-02-19T20:45:50.142Z"
   },
   {
    "duration": 40,
    "start_time": "2022-02-19T20:45:50.157Z"
   },
   {
    "duration": 214,
    "start_time": "2022-02-19T20:45:50.199Z"
   },
   {
    "duration": -40,
    "start_time": "2022-02-19T20:45:50.455Z"
   },
   {
    "duration": 55,
    "start_time": "2022-02-19T20:47:36.318Z"
   },
   {
    "duration": 13,
    "start_time": "2022-02-19T20:47:36.375Z"
   },
   {
    "duration": 41,
    "start_time": "2022-02-19T20:47:36.390Z"
   },
   {
    "duration": 18,
    "start_time": "2022-02-19T20:47:36.433Z"
   },
   {
    "duration": 398,
    "start_time": "2022-02-19T20:47:36.453Z"
   },
   {
    "duration": 10,
    "start_time": "2022-02-19T20:47:36.853Z"
   },
   {
    "duration": 14,
    "start_time": "2022-02-19T20:47:36.864Z"
   },
   {
    "duration": 14,
    "start_time": "2022-02-19T20:47:36.880Z"
   },
   {
    "duration": 8,
    "start_time": "2022-02-19T20:47:36.897Z"
   },
   {
    "duration": 29,
    "start_time": "2022-02-19T20:47:36.907Z"
   },
   {
    "duration": 12,
    "start_time": "2022-02-19T20:47:36.938Z"
   },
   {
    "duration": 19,
    "start_time": "2022-02-19T20:47:36.951Z"
   },
   {
    "duration": 16,
    "start_time": "2022-02-19T20:47:36.972Z"
   },
   {
    "duration": 57,
    "start_time": "2022-02-19T20:47:36.990Z"
   },
   {
    "duration": 12,
    "start_time": "2022-02-19T20:47:37.049Z"
   },
   {
    "duration": 12,
    "start_time": "2022-02-19T20:47:37.062Z"
   },
   {
    "duration": 11,
    "start_time": "2022-02-19T20:47:37.076Z"
   },
   {
    "duration": 11,
    "start_time": "2022-02-19T20:47:37.089Z"
   },
   {
    "duration": 755,
    "start_time": "2022-02-19T20:47:37.102Z"
   },
   {
    "duration": 9,
    "start_time": "2022-02-19T20:47:37.859Z"
   },
   {
    "duration": 17,
    "start_time": "2022-02-19T20:47:37.869Z"
   },
   {
    "duration": 11,
    "start_time": "2022-02-19T20:47:37.887Z"
   },
   {
    "duration": 41,
    "start_time": "2022-02-19T20:47:37.899Z"
   },
   {
    "duration": 6,
    "start_time": "2022-02-19T20:47:37.942Z"
   },
   {
    "duration": 16,
    "start_time": "2022-02-19T20:47:37.950Z"
   },
   {
    "duration": 38,
    "start_time": "2022-02-19T20:47:37.968Z"
   },
   {
    "duration": 186,
    "start_time": "2022-02-19T20:47:38.029Z"
   },
   {
    "duration": -8,
    "start_time": "2022-02-19T20:47:38.226Z"
   },
   {
    "duration": 185,
    "start_time": "2022-02-19T20:49:44.671Z"
   },
   {
    "duration": 53,
    "start_time": "2022-02-19T20:55:18.809Z"
   },
   {
    "duration": 12,
    "start_time": "2022-02-19T20:55:18.864Z"
   },
   {
    "duration": 13,
    "start_time": "2022-02-19T20:55:18.878Z"
   },
   {
    "duration": 12,
    "start_time": "2022-02-19T20:55:18.893Z"
   },
   {
    "duration": 414,
    "start_time": "2022-02-19T20:55:18.907Z"
   },
   {
    "duration": 15,
    "start_time": "2022-02-19T20:55:19.323Z"
   },
   {
    "duration": 14,
    "start_time": "2022-02-19T20:55:19.340Z"
   },
   {
    "duration": 11,
    "start_time": "2022-02-19T20:55:19.357Z"
   },
   {
    "duration": 8,
    "start_time": "2022-02-19T20:55:19.370Z"
   },
   {
    "duration": 9,
    "start_time": "2022-02-19T20:55:19.380Z"
   },
   {
    "duration": 43,
    "start_time": "2022-02-19T20:55:19.390Z"
   },
   {
    "duration": 20,
    "start_time": "2022-02-19T20:55:19.434Z"
   },
   {
    "duration": 18,
    "start_time": "2022-02-19T20:55:19.456Z"
   },
   {
    "duration": 55,
    "start_time": "2022-02-19T20:55:19.476Z"
   },
   {
    "duration": 14,
    "start_time": "2022-02-19T20:55:19.533Z"
   },
   {
    "duration": 11,
    "start_time": "2022-02-19T20:55:19.549Z"
   },
   {
    "duration": 10,
    "start_time": "2022-02-19T20:55:19.561Z"
   },
   {
    "duration": 10,
    "start_time": "2022-02-19T20:55:19.573Z"
   },
   {
    "duration": 752,
    "start_time": "2022-02-19T20:55:19.584Z"
   },
   {
    "duration": 10,
    "start_time": "2022-02-19T20:55:20.338Z"
   },
   {
    "duration": 18,
    "start_time": "2022-02-19T20:55:20.350Z"
   },
   {
    "duration": 12,
    "start_time": "2022-02-19T20:55:20.370Z"
   },
   {
    "duration": 55,
    "start_time": "2022-02-19T20:55:20.386Z"
   },
   {
    "duration": 8,
    "start_time": "2022-02-19T20:55:20.443Z"
   },
   {
    "duration": 17,
    "start_time": "2022-02-19T20:55:20.453Z"
   },
   {
    "duration": 34,
    "start_time": "2022-02-19T20:55:20.472Z"
   },
   {
    "duration": 67,
    "start_time": "2022-02-19T20:55:20.508Z"
   },
   {
    "duration": 210,
    "start_time": "2022-02-19T20:55:20.577Z"
   },
   {
    "duration": 16,
    "start_time": "2022-02-19T21:02:11.043Z"
   },
   {
    "duration": 35,
    "start_time": "2022-02-19T21:02:51.625Z"
   },
   {
    "duration": 2069,
    "start_time": "2022-02-19T21:03:56.886Z"
   },
   {
    "duration": 31,
    "start_time": "2022-02-19T21:05:01.363Z"
   },
   {
    "duration": 41,
    "start_time": "2022-02-19T21:16:18.589Z"
   },
   {
    "duration": 34,
    "start_time": "2022-02-19T21:17:33.017Z"
   }
  ],
  "celltoolbar": "Отсутствует",
  "kernelspec": {
   "display_name": "Python 3 (ipykernel)",
   "language": "python",
   "name": "python3"
  },
  "language_info": {
   "codemirror_mode": {
    "name": "ipython",
    "version": 3
   },
   "file_extension": ".py",
   "mimetype": "text/x-python",
   "name": "python",
   "nbconvert_exporter": "python",
   "pygments_lexer": "ipython3",
   "version": "3.9.12"
  },
  "toc": {
   "base_numbering": 1,
   "nav_menu": {},
   "number_sections": true,
   "sideBar": true,
   "skip_h1_title": true,
   "title_cell": "Table of Contents",
   "title_sidebar": "Contents",
   "toc_cell": false,
   "toc_position": {},
   "toc_section_display": true,
   "toc_window_display": false
  }
 },
 "nbformat": 4,
 "nbformat_minor": 5
}
